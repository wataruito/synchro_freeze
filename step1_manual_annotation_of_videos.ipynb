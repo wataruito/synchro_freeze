{
 "cells": [
  {
   "cell_type": "markdown",
   "metadata": {},
   "source": [
    "# Manual annotation of behavior videos\n",
    "This notebook describes the protocol to analyze any behavior bouts manually annotated from videos.\n",
    "The procedure is consist of the following three steps.\n",
    "1. Manual annotation of behavior videos\n",
    "2. Generate global table by python for the following statistical analysis\n",
    "3. Statistical analysis by R \n",
    "---"
   ]
  },
  {
   "cell_type": "markdown",
   "metadata": {},
   "source": [
    "# Step 1. Prepare video files\n",
    "### Case-1. PCBox video\n",
    "You do not need anything. Just go to step 2."
   ]
  },
  {
   "cell_type": "markdown",
   "metadata": {},
   "source": [
    "### Case-2. FreezeFrame video (Win10)\n",
    "#### 1. Export AVI file using FreezeFrame Viewer\n",
    "    1) install FreezeFrameInstaller4104.zip\n",
    "    2) in FreezeFrame Viewer\n",
    "        Video/Compress Image Files, as AVI file using MJPEG Compressor\n",
    "\n",
    "#### 2. Convert avi to mp4\n",
    "The following script rotates and converts all avi videos in the specified directory."
   ]
  },
  {
   "cell_type": "code",
   "execution_count": 2,
   "metadata": {},
   "outputs": [],
   "source": [
    "# Ubuntu path\n",
    "# path = '/home/alexei/ubg-tera05/WD_Passport/Alexei/synchrony/110919'\n",
    "\n",
    "# Windows path\n",
    "# path = r'Z:\\wataru\\WD_Passport\\Alexei\\synchrony\\2019_9_12\\122419'\n",
    "path = r'Z:\\wataru\\WD_Passport\\Alexei\\synchrony\\2019_9_12\\122419_wi'"
   ]
  },
  {
   "cell_type": "code",
   "execution_count": null,
   "metadata": {},
   "outputs": [],
   "source": [
    "import os\n",
    "import ffmpeg\n",
    "\n",
    "#path = os.getcwd()\n",
    "#print(path)\n",
    "\n",
    "os.chdir(path)\n",
    "print(os.listdir(path))\n",
    "\n",
    "for file in os.listdir(path):\n",
    "    base = os.path.splitext(file)[0]\n",
    "    extn = os.path.splitext(file)[1]\n",
    "    if extn == '.avi':\n",
    "        # !ffmpeg -i {file} -vf \"transpose=2,transpose=2\" -vcodec libx264 {base}.mp4\n",
    "        fileIN = os.path.join(path,file)\n",
    "        print('file = ', fileIN, end = ' ')\n",
    "        stream = ffmpeg.input(fileIN)\n",
    "        stream = ffmpeg.hflip(stream)\n",
    "        stream = ffmpeg.vflip(stream)\n",
    "        fileOUT = os.path.join(path,base) + '.mp4'\n",
    "        print('---> output = ', fileOUT)\n",
    "        stream = ffmpeg.output(stream, fileOUT, vcodec='libx264')\n",
    "        ffmpeg.run(stream)\n",
    "\n",
    "print('end')"
   ]
  },
  {
   "cell_type": "markdown",
   "metadata": {},
   "source": [
    "---\n",
    "# Step 2. Manual annotation of behavior videos using videoplay\n",
    "```\n",
    "Keyboard controls:\n",
    "    <Video control>\n",
    "    w: start palying\n",
    "    s: stop playing\n",
    "    a: step back a frame\n",
    "    d: step forward a frame\n",
    "    A: step back <frame_jump> frames\n",
    "    D: step forward <frame_jump> frames\n",
    "    ~: set <frame_jump> parameter\n",
    "    q: play faster\n",
    "    e: play slower\n",
    "\n",
    "    <Tracking>\n",
    "    0: drug mode\n",
    "    1: sub1 click mode\n",
    "    2: sub2 click mode\n",
    "\n",
    "    <Freezing>\n",
    "    !: target sub1\n",
    "    @: target sub2\n",
    "    j: start freezing\n",
    "    k: end freezing\n",
    "    \n",
    "    <Quit>\n",
    "    Esc\n",
    "````\n",
    "\n"
   ]
  },
  {
   "cell_type": "markdown",
   "metadata": {},
   "source": [
    "**It always opens videos with the maginification of 3**"
   ]
  },
  {
   "cell_type": "code",
   "execution_count": 1,
   "metadata": {},
   "outputs": [
    {
     "name": "stdout",
     "output_type": "stream",
     "text": [
      "Video resolution: (236, 304, 3)\n",
      "total frame number: 722\n",
      "\tReading _f373bc_track_freeze.csv\n",
      "\tWriting _f373bc_track_freeze.csv\n",
      "\tWriting _f373bc_freeze.csv\n"
     ]
    }
   ],
   "source": [
    "import videoplay as vp\n",
    "\n",
    "video = r'W:\\wataru\\jupyter\\synchro_freeze\\_bug_check_working\\_20241114\\f373bc.mp4'\n",
    "\n",
    "vp.video_cursor(video)"
   ]
  },
  {
   "cell_type": "markdown",
   "metadata": {},
   "source": [
    "---\n",
    "**In a case of mismatch in the magnification factors, use this cell**<BR>\n",
    "When you want to open a tracking made with mag_factor of 2, use pre_mag_factor=2.<BR>\n",
    "\n",
    "vp.video_cursor(video, pre_mag_factor=2)"
   ]
  },
  {
   "cell_type": "code",
   "execution_count": null,
   "metadata": {},
   "outputs": [],
   "source": []
  },
  {
   "cell_type": "markdown",
   "metadata": {
    "jp-MarkdownHeadingCollapsed": true,
    "tags": []
   },
   "source": [
    "---\n",
    "# Step 3. Create the master csv file\n",
    "The videoplay outputs a csv file, like \"_m274_1_freeze.csv\". It looks as follows.<BR>\n",
    "    \n",
    "<img src=\"img/Screenshot 2021-07-13 185614.png\" width=400px><BR>\n",
    "\n",
    "Copy the follwing lines as a template and paste into a new Excel file to add necessary heders.<BR>\n",
    "**First, paste into the Notepad and copy again. Then, in Excel use Paste/\"Use Text Import Wizard\".**\n",
    "\n",
    "```\n",
    "dir:\t20210711\t\t\t\t\t\n",
    "old_dir:\tna\t\t\t\t\t\n",
    "exp_id:\tm274_1\t\t\t\t\t\n",
    "sex:\tmale\t\t\t\t\t\n",
    "age:\t96\t\t\t\t\t\n",
    "infusion_hpc:\tmuscimol\t\t\t\t\t\n",
    "infusion_pfc:\t\t\t\t\t\t\n",
    "familiarity:\tfamiliar\t\t\t\t\t\n",
    "lighting:\tvisible\t\t\t\t\t\n",
    "partition:\tFALSE\t\t\t\t\t\n",
    "stress:\tno_stress\t\t\t\t\t\n",
    "video:\tHomeCage\t\t\t\t\t\n",
    "video_total_frames:\t17998\t\t\t\t\t\n",
    "comment:\tdorsal HPC\t\t\t\t\t\n",
    "\t\t\t\t\t\t\n",
    "data:\tstart\tend\tduration\tstart\tend\tduration\n",
    "\t303\t308\t1.5\t435\t440\t1.5\n",
    "\t347\t352\t1.5\t444\t451\t2\n",
    "\t354\t359\t1.5\t627\t631\t1.25\n",
    "\t371\t375\t1.25\t682\t686\t1.25\n",
    "\t405\t409\t1.25\t700\t704\t1.25\n",
    "\t413\t419\t1.75\t\t\t\n",
    "\t434\t445\t3\t\t\t\n",
    "\t447\t454\t2\t\t\t\n",
    "\t480\t501\t5.5\t\t\t\n",
    "\t633\t645\t3.25\t\t\t\n",
    "\t\t\t\t\t\t\n",
    "```\n",
    "\n",
    "**Make sure to put the correct video_total_frames.**<BR>\n",
    "Combine with the videoplay output. The master cvs file should look like that.<BR>\n",
    "Save as \\<video_name>.csv.\n",
    "\n",
    "<img src=\"img/Screenshot 2021-07-15 161938.png\" width=400px><BR>\n",
    "    \n",
    "**video: has the following option, which determine the time range for computation**    \n",
    "```\n",
    "    if video_system == 'FreezeFrame':\n",
    "        # FreezeFrame\n",
    "        csStartFrame, csEndFrame = 241, 720\n",
    "        startFrame, endFrame = 0, 721\n",
    "    if video_system == 'FreezeFrame_1st_half':\n",
    "        # FreezeFrame\n",
    "        csStartFrame, csEndFrame = 241, 480\n",
    "        startFrame, endFrame = 0, 721\n",
    "    if video_system == 'FreezeFrame_2nd_half':\n",
    "        # FreezeFrame\n",
    "        csStartFrame, csEndFrame = 481, 720\n",
    "        startFrame, endFrame = 0, 721\n",
    "    if video_system == 'FreezeFrame_contextual':\n",
    "        # FreezeFrame\n",
    "        csStartFrame, csEndFrame = 1, 720\n",
    "        startFrame, endFrame = 0, 721\n",
    "    if video_system == 'PCBox':\n",
    "        # PCBox\n",
    "        csStartFrame, csEndFrame = 240, 719\n",
    "        startFrame, endFrame = 0, 719\n",
    "    if video_system == 'HomeCage':\n",
    "        # Generic, presumably home cage annotation\n",
    "        csStartFrame, csEndFrame = 0, video_total_frames - 1\n",
    "        startFrame, endFrame = 0, video_total_frames - 1\n",
    "\n",
    "```\n",
    "# End of process\n",
    "---"
   ]
  }
 ],
 "metadata": {
  "kernelspec": {
   "display_name": "Python 3 (ipykernel)",
   "language": "python",
   "name": "python3"
  },
  "language_info": {
   "codemirror_mode": {
    "name": "ipython",
    "version": 3
   },
   "file_extension": ".py",
   "mimetype": "text/x-python",
   "name": "python",
   "nbconvert_exporter": "python",
   "pygments_lexer": "ipython3",
   "version": "3.12.7"
  },
  "varInspector": {
   "cols": {
    "lenName": 16,
    "lenType": 16,
    "lenVar": 40
   },
   "kernels_config": {
    "python": {
     "delete_cmd_postfix": "",
     "delete_cmd_prefix": "del ",
     "library": "var_list.py",
     "varRefreshCmd": "print(var_dic_list())"
    },
    "r": {
     "delete_cmd_postfix": ") ",
     "delete_cmd_prefix": "rm(",
     "library": "var_list.r",
     "varRefreshCmd": "cat(var_dic_list()) "
    }
   },
   "types_to_exclude": [
    "module",
    "function",
    "builtin_function_or_method",
    "instance",
    "_Feature"
   ],
   "window_display": false
  }
 },
 "nbformat": 4,
 "nbformat_minor": 4
}
