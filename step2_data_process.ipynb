{
 "cells": [
  {
   "cell_type": "markdown",
   "id": "2242f3ca-4701-493d-84f9-aabcca04d42a",
   "metadata": {
    "tags": []
   },
   "source": [
    "# Data process of freeze synchrony\n",
    "20220701 wi<BR>\n",
    "    Small subset of scripts for daily analysis. They do not add figure, group, and simulation_id columns. "
   ]
  },
  {
   "cell_type": "code",
   "execution_count": 1,
   "id": "dbda2602-7714-46f0-adee-2b2b45e004f1",
   "metadata": {
    "tags": []
   },
   "outputs": [],
   "source": [
    "import os\n",
    "import traceback\n",
    "import sys\n",
    "import numpy as np\n",
    "import pandas as pd\n",
    "import synchro_freeze as sf\n",
    "\n",
    "path = r\"sync_data\"\n",
    "\n",
    "\n",
    "# Definition of each dataframe\n",
    "#\n",
    "# Data types\n",
    "#                     output                              input\n",
    "#   bool              converted by str()                  bool as it is\n",
    "#   int               converted by str()                  int64\n",
    "#   float:            converted by str()                  float64\n",
    "#   int_array:        converted by np.array2string()      object converted by np.fromstring\n",
    "#   str:              as it is                            object as it is\n",
    "#\n",
    "#\n",
    "# Computation pipeline\n",
    "# 1. master table\n",
    "columnName1 = ['folder_videoname',  'single_animal',    'video_system',     'video_total_frames',\n",
    "              'fz_start_sub1',      'fz_end_sub1',      'fz_start_sub2',    'fz_end_sub2']\n",
    "columnType1 = ['str',               'bool',             'str',              'int',\n",
    "              'int_array',          'int_array',        'int_array',        'int_array']\n",
    "# # 1a. add group information\n",
    "# columnName1a = np.append(columnName1, ['figure', 'group', 'simulation_id'])\n",
    "# columnType1a = np.append(columnType1, ['str',    'str',   'str'])\n",
    "\n",
    "# 2. compute % freezing, etc.\n",
    "columnName2 = np.append(columnName1, ['fz_sub1',       'fz_sub2',            'fz_overlap',       'fz_sub1_bout_dur_ave',\n",
    "                                      'fz_sub1_bout_n','fz_sub2_bout_dur_ave','fz_sub2_bout_n'])\n",
    "columnType2 = np.append(columnType1, ['float',         'float',              'float',            'float',               \n",
    "                                      'int',           'float',              'int'])\n",
    "\n",
    "# 3. compute Cohen's D\n",
    "columnName3 = np.append(columnName2, ['cohen_d'])\n",
    "columnType3 = np.append(columnType2, ['float'])\n",
    "\n",
    "# 4. Markov chain analysis\n",
    "columnName4 = np.append(columnName3, ['s_count_0',   's_count_1',   's_count_2',   's_count_3',\n",
    "                                      'st_count_00', 'st_count_01', 'st_count_02', 'st_count_03',\n",
    "                                      'st_count_10', 'st_count_11', 'st_count_12', 'st_count_13',\n",
    "                                      'st_count_20', 'st_count_21', 'st_count_22', 'st_count_23',\n",
    "                                      'st_count_30', 'st_count_31', 'st_count_32', 'st_count_33'])\n",
    "columnType4 = np.append(columnType3, ['int',         'int',         'int',         'int',\n",
    "                                      'int',         'int',         'int',         'int',\n",
    "                                      'int',         'int',         'int',         'int',\n",
    "                                      'int',         'int',         'int',         'int',\n",
    "                                      'int',         'int',         'int',         'int'])\n",
    "\n",
    "# Statistical analysis\n",
    "columnName5 = np.append(columnName3, ['simulation_id','Freeze_High_sub','Freeze_Low_sub','Freeze_difference', 'Freeze_ave'])\n",
    "columnType5 = np.append(columnType3, ['str',          'float',          'float',         'float',             'float'])\n",
    "\n",
    "columnName6 = np.append(columnName5, ['Freeze_collapsed'])\n",
    "columnType6 = np.append(columnType5, ['float'])\n",
    "\n",
    "columnName7 = ['folder_videoname',\n",
    "            'high_sub_r','high_sub_p',\n",
    "            'low_sub_r','low_sub_p',\n",
    "            'freeze_ave_r','freeze_ave_p',\n",
    "            'freeze_diff_r','freeze_diff_p',\n",
    "            'high_sub_bout_dur_ave_r','high_sub_bout_dur_ave_p',\n",
    "            'low_sub_bout_dur_ave_r','low_sub_bout_dur_ave_p',\n",
    "            'high_sub_bout_n_r','high_sub_bout_n_p',\n",
    "            'low_sub_bout_n_r','low_sub_bout_n_p']\n",
    "\n",
    "columnType7 = ['str', 'float','float','float','float','float','float','float','float',\n",
    "              'float','float','float','float','float','float','float','float']    "
   ]
  },
  {
   "cell_type": "markdown",
   "id": "d0c5481c-c5ad-4be2-a348-1f761c228e85",
   "metadata": {
    "tags": []
   },
   "source": [
    "---\n",
    "# Step1. General processes"
   ]
  },
  {
   "cell_type": "markdown",
   "id": "189b7548-32b5-44f9-89d3-b69644687ee9",
   "metadata": {
    "tags": []
   },
   "source": [
    "### 1. Read the original [video_file_name].csv file to generate summary.csv"
   ]
  },
  {
   "cell_type": "code",
   "execution_count": 2,
   "id": "258b091e-2523-4f3c-92f4-aad6309d5ea3",
   "metadata": {},
   "outputs": [
    {
     "name": "stdout",
     "output_type": "stream",
     "text": [
      "\tProcessing directory:  20220708,  20220710,  completed.\n",
      "\tWriting summary1.csv.\n"
     ]
    }
   ],
   "source": [
    "##############################################\n",
    "# Step 1. Create master summary.csv file\n",
    "#   Read the input CSV file containing epoch onset and offset from two subjects\n",
    "#   Create Pandas DataFrame\n",
    "#   Output summary.csv as default\n",
    "# The format of the pandas dataframe and output csv is specified by colunName and columnType\n",
    "##############################################\n",
    "sf.create_master_table(path, columnName1, columnType1, output_file='summary1.csv')"
   ]
  },
  {
   "cell_type": "markdown",
   "id": "692a2e2d-9eb6-4daa-a7fe-93d911da72a4",
   "metadata": {
    "tags": []
   },
   "source": [
    "**Display freezing overlap in specific experiment**\n",
    "Resulting figure will be output as overlap_fig.eps"
   ]
  },
  {
   "cell_type": "code",
   "execution_count": 3,
   "id": "2409ce44-2483-4ab4-a644-41c4fd9f035b",
   "metadata": {
    "tags": []
   },
   "outputs": [
    {
     "name": "stdout",
     "output_type": "stream",
     "text": [
      "We found the following Foldername_videoname.\n",
      "Total subject #:  12\n",
      "\n",
      "Select the Foldername_videoname ID number and run the next cell\n"
     ]
    }
   ],
   "source": [
    "_df = sf.read_csv2pd(path, 'summary1.csv', columnName1, columnType1)\n",
    "\n",
    "print(\"We found the following Foldername_videoname.\")\n",
    "print(\"Total subject #: \", len(_df))\n",
    "print(\"\\nSelect the Foldername_videoname ID number and run the next cell\")"
   ]
  },
  {
   "cell_type": "code",
   "execution_count": 19,
   "id": "415f7bf0-a6f8-4407-b2e8-8daa664d8c72",
   "metadata": {
    "tags": []
   },
   "outputs": [
    {
     "name": "stdout",
     "output_type": "stream",
     "text": [
      "Folder name: 20220710_m395_1\n",
      "Animal1 freeze : 7.916667\n",
      "Animal2 freeze : 23.888889\n",
      "Overlap freeze : 5.416667\n"
     ]
    },
    {
     "data": {
      "image/png": "[encoded data removed]",
      "text/plain": [
       "<Figure size 1200x400 with 1 Axes>"
      ]
     },
     "metadata": {},
     "output_type": "display_data"
    }
   ],
   "source": [
    "folderID = 11\n",
    "output = True\n",
    "\n",
    "_ = sf.overlap_freezing3(_df.iloc[folderID,:], path, output)"
   ]
  },
  {
   "cell_type": "markdown",
   "id": "ac4dcb35-455f-4640-8a9c-2cbb035e1162",
   "metadata": {
    "tags": []
   },
   "source": [
    "### 2. Compute %freezing, %overlap, freeze bout, the averaged duration\n",
    "Warning appears if members of dyads show 0 freezing."
   ]
  },
  {
   "cell_type": "code",
   "execution_count": 3,
   "id": "f7bf6cd3-c112-4f78-8758-5fc78dbc514e",
   "metadata": {
    "tags": []
   },
   "outputs": [
    {
     "name": "stdout",
     "output_type": "stream",
     "text": [
      "\tProcessing:   0 / 12, 10 / 12, \tWriting summary2.csv.\n"
     ]
    }
   ],
   "source": [
    "#############################################\n",
    "# Step 2. Compute % epoch time and add the summary\n",
    "#   Read summary.csv as default\n",
    "#   Compute % freezing and store in DF\n",
    "#   Output to summary1.csv as default\n",
    "# Add the three columns, as indicated with columnName and columnType\n",
    "#############################################\n",
    "warr_lines = sf.compute_epoch_percent3(path, columnName2, columnType2, input_file='summary1.csv', output_file='summary2.csv')"
   ]
  },
  {
   "cell_type": "markdown",
   "id": "90b1d8a9-358b-4414-af0f-e73db824c7bb",
   "metadata": {
    "tags": []
   },
   "source": [
    "### 3. Compute Cohen_D (Single processing version)"
   ]
  },
  {
   "cell_type": "code",
   "execution_count": 4,
   "id": "fd383138-5c31-48d7-91a5-0c0cc8a3c6e5",
   "metadata": {},
   "outputs": [
    {
     "name": "stdout",
     "output_type": "stream",
     "text": [
      "\tProcessing column:  0/12,  10/12,  completed.\n",
      "\tWriting summary3.csv.\n"
     ]
    }
   ],
   "source": [
    "#############################################\n",
    "# Step 4. Compute Cohen_D\n",
    "#   Read summary1.csv\n",
    "#   Compute permutation/Cohen_D and store in DF\n",
    "#   Output to summary2.csv\n",
    "#############################################\n",
    "sf.compute_cohen_d(path, columnName3, columnType3, input_file='summary2.csv', output_file='summary3.csv')"
   ]
  },
  {
   "cell_type": "markdown",
   "id": "70b5c6e8-4d9c-40da-be9b-57e61d061e53",
   "metadata": {
    "tags": []
   },
   "source": [
    "### 4. Markov chain analysis"
   ]
  },
  {
   "cell_type": "code",
   "execution_count": 5,
   "id": "86ed2bce-85fa-44d0-bfec-dde4e2df61fd",
   "metadata": {
    "tags": []
   },
   "outputs": [
    {
     "name": "stdout",
     "output_type": "stream",
     "text": [
      "\tProcessing column:  0/12,  10/12,  completed.\n",
      "\tWriting summary4.csv.\n",
      "\tWriting summary4_state_trans.csv.\n"
     ]
    }
   ],
   "source": [
    "#############################################\n",
    "# Step 4. Markov analysis\n",
    "#   Read summary2.csv as default\n",
    "#   Count behavioral state & transitions for Markov chain analysis\n",
    "#   Output to summary3.csv as default\n",
    "#############################################\n",
    "sf.compute_markov_chain(path, columnName4, columnType4, input_file='summary3.csv', output_file='summary4.csv')"
   ]
  },
  {
   "cell_type": "markdown",
   "id": "abc5d7a7-3808-40ec-815c-2e154b95685f",
   "metadata": {},
   "source": [
    "### End of process\n",
    "---"
   ]
  }
 ],
 "metadata": {
  "kernelspec": {
   "display_name": "Python 3 (ipykernel)",
   "language": "python",
   "name": "python3"
  },
  "language_info": {
   "codemirror_mode": {
    "name": "ipython",
    "version": 3
   },
   "file_extension": ".py",
   "mimetype": "text/x-python",
   "name": "python",
   "nbconvert_exporter": "python",
   "pygments_lexer": "ipython3",
   "version": "3.9.12"
  }
 },
 "nbformat": 4,
 "nbformat_minor": 5
}
