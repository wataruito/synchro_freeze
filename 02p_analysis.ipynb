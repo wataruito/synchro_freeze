{
 "cells": [
  {
   "cell_type": "markdown",
   "metadata": {},
   "source": [
    "# 1. Analyze Synchronized freezing"
   ]
  },
  {
   "cell_type": "markdown",
   "metadata": {},
   "source": [
    "---\n",
    "## 1-1. Compute %_overlapped_freezing & Cohen_D\n",
    "\n",
    "**Tasks:**\n",
    "1. Read CSV files from subholders, and output \"summary.csv\"\n",
    "2. Compute %_freezing and %_overlapped_freezing, and output to \"summary1.csv\"\n",
    "3. Compute permutation/Cohen_D and store in DF, and output to \"summary2.csv\"\n",
    "4. Compute lag times, and output to \"summary3.csv\"\n",
    "\n",
    "**Requirements:**\n",
    "    \n",
    "Set path to the root folder, which contains multiple experiment folders. Each experiment folder\n",
    "contains CSV files, which describe freezing onset and offset for two subjects.\n",
    "\n",
    "**Output sumary2.csv file format:**\n",
    "\n",
    "|Foldername_videoname|fz_start_sub1|fz_end_sub1|fz_start_sub2|fz_end_sub2|fz_sub1|fz_sub2|fz_overlap|cohen_d|lagt_start_s1_s2|lagt_start_s2_s1|lagt_end_s1_s2|lagt_end_s2_s1|\n",
    "|---|---|---|---|---|---|---|---|---|---|---|---|---|\n",
    "|str|int array|int array|int array|int array|float|float|float|float|int array|int array|int array|int array|\n",
    "\n",
    "**It would take 2:30.**\n",
    "\n"
   ]
  },
  {
   "cell_type": "code",
   "execution_count": 1,
   "metadata": {},
   "outputs": [
    {
     "name": "stdout",
     "output_type": "stream",
     "text": [
      "Step1. Reading CSV files from subfolders.\n",
      "\tProcessing directory: 20190408_testing_1\n",
      "\tProcessing directory: 20190408_testing_2\n",
      "\tProcessing directory: 20190520_test1\n",
      "\tProcessing directory: 20190520_test2\n",
      "\tProcessing directory: 20190611_afternoon\n",
      "\tProcessing directory: 20190611_morning\n",
      "\tProcessing directory: 20190801_opioid_test_morning\n",
      "\tProcessing directory: 20190803_testmorning\n",
      "\tProcessing directory: 20190809_morning\n",
      "\tProcessing directory: 20190814\n",
      "\tProcessing directory: 20190818\n",
      "\tProcessing directory: 20190820\n",
      "\tProcessing directory: 20190827\n",
      "\tProcessing directory: 20190902\n",
      "\tProcessing directory: 20190917\n",
      "\tProcessing directory: 20191012\n",
      "\tProcessing directory: 20191015\n",
      "\tProcessing directory: 20191016\n",
      "\tProcessing directory: 20191024\n",
      "\tProcessing directory: 20191028\n",
      "\tProcessing directory: 20191109\n",
      "\tProcessing directory: 20191224\n",
      "\tProcessing directory: 20200115\n",
      "\tProcessing directory: 20200218\n",
      "\tProcessing directory: 20200318\n",
      "\tProcessing directory: 20200324\n",
      "\tProcessing directory: 20200328\n",
      "\tProcessing directory: 20200331\n",
      "\tProcessing directory: 20200413\n",
      "\tProcessing directory: 20200420\n",
      "\tWriting summary.csv.\n",
      "\n",
      "Step2. Computing %_freezing.\n",
      "\tWriting summary1.csv.\n",
      "\n",
      "Step3. Computing permutation/Cohen_D and store in DF.\n"
     ]
    },
    {
     "name": "stderr",
     "output_type": "stream",
     "text": [
      "C:\\Users\\User\\Dropbox\\Jupyter\\wataru\\synchro_freeze\\synchro_freeze.py:515: RuntimeWarning: invalid value encountered in double_scalars\n",
      "  Cohen_D = (_overlapFreeze - np.mean(overlapFreeze)) / np.std(overlapFreeze)\n"
     ]
    },
    {
     "name": "stdout",
     "output_type": "stream",
     "text": [
      "\tWriting summary2.csv.\n",
      "\n",
      "Step4. Computing lag times.\n",
      "\tWriting summary3.csv.\n"
     ]
    }
   ],
   "source": [
    "#############################################\n",
    "# Specify the folder\n",
    "path = r\"W:\\videos_synchrony\"\n",
    "#############################################\n",
    "import synchro_freeze as sf\n",
    "import traceback\n",
    "import os\n",
    "\n",
    "DEBUG = False\n",
    "df = sf.process_freeze(path,DEBUG)"
   ]
  },
  {
   "cell_type": "markdown",
   "metadata": {},
   "source": [
    "---\n",
    "## 1-2. Display specific experiment\n",
    "### Resulting figure will be output as overlap_fig.eps"
   ]
  },
  {
   "cell_type": "code",
   "execution_count": 2,
   "metadata": {},
   "outputs": [
    {
     "name": "stdout",
     "output_type": "stream",
     "text": [
      "We found the following Foldername_videoname.\n",
      "\n",
      "\t 0 20200419-134553_female pair1\n",
      "\t 1 20200419-134753_female pair2\n",
      "\n",
      "Select the Foldername_videoname ID number and run the next cell\n"
     ]
    }
   ],
   "source": [
    "print(\"We found the following Foldername_videoname.\\n\")\n",
    "for i in range (0, len(df)):\n",
    "    print(\"\\t\", i, df.iloc[i,0])\n",
    "\n",
    "print(\"\\nSelect the Foldername_videoname ID number and run the next cell\")"
   ]
  },
  {
   "cell_type": "code",
   "execution_count": 3,
   "metadata": {},
   "outputs": [
    {
     "name": "stdout",
     "output_type": "stream",
     "text": [
      "Folder name: 20200419-134753_female pair2\n",
      "Animal1 freeze : 59.583333\n",
      "Animal2 freeze : 46.458333\n",
      "Overlap freeze : 32.083333\n"
     ]
    },
    {
     "data": {
      "image/png": "[encoded data removed]",
      "text/plain": [
       "<Figure size 1200x400 with 1 Axes>"
      ]
     },
     "metadata": {},
     "output_type": "display_data"
    }
   ],
   "source": [
    "folderID = 1\n",
    "output = True\n",
    "\n",
    "(a,b,c,d) = sf.overlap_freezing(df.iloc[folderID,:], path, output)"
   ]
  },
  {
   "cell_type": "markdown",
   "metadata": {},
   "source": [
    "---\n",
    "## 1-3. Test the significance of overlapped freezing by permutation\n",
    "1. Calculate overlapped freezing by permutating relative freezing dynamics between the two animals. <br>\n",
    "    1K sampling of % overlapped freezing from the permutation will be stored as \"test1.csv\".\n",
    "2. One-Sample Wilcoxon Signed Rank Test in R using the \"r-codes\" notebook.<br>\n",
    "http://www.sthda.com/english/wiki/one-sample-wilcoxon-signed-rank-test-in-r"
   ]
  }
 ],
 "metadata": {
  "kernelspec": {
   "display_name": "Python 3",
   "language": "python",
   "name": "python3"
  },
  "language_info": {
   "codemirror_mode": {
    "name": "ipython",
    "version": 3
   },
   "file_extension": ".py",
   "mimetype": "text/x-python",
   "name": "python",
   "nbconvert_exporter": "python",
   "pygments_lexer": "ipython3",
   "version": "3.7.7"
  }
 },
 "nbformat": 4,
 "nbformat_minor": 4
}
