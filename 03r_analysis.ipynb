{
 "cells": [
  {
   "cell_type": "markdown",
   "metadata": {},
   "source": [
    "## 0. Before starting\n",
    "### 0-1. Update R\n",
    "1. Download binaries (Run R-3.X.X-win.exe) from https://www.r-project.org/.\n",
    "2. Run R-3.X.X-win.exe\n",
    "3. Set system path.\n",
    "    - Type \"env\" in the Start button and select \"Edit the system environment variables\".\n",
    "    - Push \"Environment Variables...\" button.\n",
    "    - Change \"Path\" variable.\n",
    "4. Install IRkernel for Jupyter\n",
    "    - in Anaconda prompt (Admin)\n",
    "    ```\n",
    "    > R\n",
    "    > install.packages('IRkernel')\n",
    "    > IRkernel::installspec()\n",
    "    ```\n",
    "    \n",
    "### 0-2. Install packages\n",
    "**Only for the first installation**, open command window.<BR>\n",
    "**\\<on Win10\\ as regular user>**\n",
    "```\n",
    "C:\\Users\\User>R\n",
    "> install.packages(\"ggpubr\")\n",
    "```\n",
    "It will ask if you want to create personal for installation. Answer with **\"yes\"**. Once you do so, you can install additional packages from Jupyter.\n",
    "\n",
    "**\\<on Ubuntu\\>**\n",
    "```\n",
    "$ sudo R\n",
    "> install.packages(\"ggpubr\")\n",
    "```\n",
    "\n",
    "**\\<using Jupyter\\>**"
   ]
  },
  {
   "cell_type": "code",
   "execution_count": 1,
   "metadata": {},
   "outputs": [
    {
     "name": "stderr",
     "output_type": "stream",
     "text": [
      "Installing package into 'C:/Users/wataru/Documents/R/win-library/4.0'\n",
      "(as 'lib' is unspecified)\n",
      "\n"
     ]
    },
    {
     "name": "stdout",
     "output_type": "stream",
     "text": [
      "package 'magrittr' successfully unpacked and MD5 sums checked\n",
      "\n",
      "The downloaded binary packages are in\n",
      "\tC:\\Users\\wataru\\AppData\\Local\\Temp\\RtmpSqc3wI\\downloaded_packages\n"
     ]
    }
   ],
   "source": [
    "install.packages(\"magrittr\")"
   ]
  },
  {
   "cell_type": "markdown",
   "metadata": {},
   "source": [
    "### 0-3. Useful packages\n",
    "- **ggpubr**: 'ggplot2' Based Publication Ready Plots<BR>\n",
    "https://cran.r-project.org/web/packages/ggpubr/index.html<BR>\n",
    "- **magrittr**: It provides a new **“pipe”-like operator**, %>%<BR>\n",
    "https://cran.r-project.org/web/packages/magrittr/vignettes/magrittr.html    \n",
    "- **stringr**: Simple, Consistent Wrappers for **Common String Operations**<BR>\n",
    "https://www.rdocumentation.org/packages/stringr/versions/1.4.0<BR>\n",
    "    used as `for (colname in str_subset(names(df), rex)){` in the function conv_str2list().\n",
    "- **hablar**: Simple tools for **converting columns to new data types**. Intuitive functions for columns with missing values.<BR>\n",
    "https://cran.r-project.org/web/packages/hablar/<BR>\n",
    "    used as `convert(lgl(single_animal))`.\n",
    "- **dplyre**: dplyr is a grammar of data manipulation, providing a consistent set of verbs that help you solve the most common data manipulation challenges.<BR>\n",
    "https://dplyr.tidyverse.org/<BR>\n",
    "    used as `not yet`.\n",
    "\n",
    "### 0-4. Check R version"
   ]
  },
  {
   "cell_type": "code",
   "execution_count": null,
   "metadata": {},
   "outputs": [],
   "source": [
    "version"
   ]
  },
  {
   "cell_type": "markdown",
   "metadata": {},
   "source": [
    "---\n",
    "## 1. Read CSV file"
   ]
  },
  {
   "cell_type": "code",
   "execution_count": 73,
   "metadata": {},
   "outputs": [
    {
     "data": {
      "text/html": [
       "<style>\n",
       ".list-inline {list-style: none; margin:0; padding: 0}\n",
       ".list-inline>li {display: inline-block}\n",
       ".list-inline>li:not(:last-child)::after {content: \"\\00b7\"; padding: 0 .5ex}\n",
       "</style>\n",
       "<ol class=list-inline><li>'/p1/p2/p3/file1'</li><li>'/p1/p2/p3/file2'</li></ol>\n"
      ],
      "text/latex": [
       "\\begin{enumerate*}\n",
       "\\item '/p1/p2/p3/file1'\n",
       "\\item '/p1/p2/p3/file2'\n",
       "\\end{enumerate*}\n"
      ],
      "text/markdown": [
       "1. '/p1/p2/p3/file1'\n",
       "2. '/p1/p2/p3/file2'\n",
       "\n",
       "\n"
      ],
      "text/plain": [
       "[1] \"/p1/p2/p3/file1\" \"/p1/p2/p3/file2\""
      ]
     },
     "metadata": {},
     "output_type": "display_data"
    }
   ],
   "source": [
    "filename = \"C:/Users/User/Dropbox/Jupyter/alexei/r_plotmaking_data/LTPtest.csv\"\n",
    "base = basename(filename)\n",
    "dir = dirname(filename)\n",
    "file.path(\"\",\"p1\",\"p2\",\"p3\", c(\"file1\", \"file2\"))\n"
   ]
  },
  {
   "cell_type": "code",
   "execution_count": 2,
   "metadata": {
    "scrolled": true
   },
   "outputs": [
    {
     "name": "stderr",
     "output_type": "stream",
     "text": [
      "Installing package into 'C:/Users/wataru/Documents/R/win-library/4.0'\n",
      "(as 'lib' is unspecified)\n",
      "\n"
     ]
    },
    {
     "name": "stdout",
     "output_type": "stream",
     "text": [
      "package 'magrittr' successfully unpacked and MD5 sums checked\n",
      "\n",
      "The downloaded binary packages are in\n",
      "\tC:\\Users\\wataru\\AppData\\Local\\Temp\\RtmpSqc3wI\\downloaded_packages\n"
     ]
    },
    {
     "name": "stderr",
     "output_type": "stream",
     "text": [
      "Installing package into 'C:/Users/wataru/Documents/R/win-library/4.0'\n",
      "(as 'lib' is unspecified)\n",
      "\n",
      "also installing the dependencies 'lifecycle', 'pkgconfig', 'R6', 'tibble', 'tidyselect', 'BH', 'plogr', 'generics', 'dplyr', 'purrr', 'lubridate'\n",
      "\n",
      "\n"
     ]
    },
    {
     "name": "stdout",
     "output_type": "stream",
     "text": [
      "package 'lifecycle' successfully unpacked and MD5 sums checked\n",
      "package 'pkgconfig' successfully unpacked and MD5 sums checked\n",
      "package 'R6' successfully unpacked and MD5 sums checked\n",
      "package 'tibble' successfully unpacked and MD5 sums checked\n",
      "package 'tidyselect' successfully unpacked and MD5 sums checked\n",
      "package 'BH' successfully unpacked and MD5 sums checked\n",
      "package 'plogr' successfully unpacked and MD5 sums checked\n",
      "package 'generics' successfully unpacked and MD5 sums checked\n",
      "package 'dplyr' successfully unpacked and MD5 sums checked\n",
      "package 'purrr' successfully unpacked and MD5 sums checked\n",
      "package 'lubridate' successfully unpacked and MD5 sums checked\n",
      "package 'hablar' successfully unpacked and MD5 sums checked\n",
      "\n",
      "The downloaded binary packages are in\n",
      "\tC:\\Users\\wataru\\AppData\\Local\\Temp\\RtmpSqc3wI\\downloaded_packages\n"
     ]
    },
    {
     "name": "stderr",
     "output_type": "stream",
     "text": [
      "Installing package into 'C:/Users/wataru/Documents/R/win-library/4.0'\n",
      "(as 'lib' is unspecified)\n",
      "\n",
      "also installing the dependencies 'ps', 'processx', 'callr', 'prettyunits', 'backports', 'desc', 'pkgbuild', 'rprojroot', 'rstudioapi', 'pkgload', 'praise', 'colorspace', 'testthat', 'farver', 'labeling', 'munsell', 'RColorBrewer', 'viridisLite', 'gtable', 'isoband', 'scales', 'withr', 'ggplot2', 'beeswarm', 'vipor'\n",
      "\n",
      "\n"
     ]
    },
    {
     "name": "stdout",
     "output_type": "stream",
     "text": [
      "package 'ps' successfully unpacked and MD5 sums checked\n",
      "package 'processx' successfully unpacked and MD5 sums checked\n",
      "package 'callr' successfully unpacked and MD5 sums checked\n",
      "package 'prettyunits' successfully unpacked and MD5 sums checked\n",
      "package 'backports' successfully unpacked and MD5 sums checked\n",
      "package 'desc' successfully unpacked and MD5 sums checked\n",
      "package 'pkgbuild' successfully unpacked and MD5 sums checked\n",
      "package 'rprojroot' successfully unpacked and MD5 sums checked\n",
      "package 'rstudioapi' successfully unpacked and MD5 sums checked\n",
      "package 'pkgload' successfully unpacked and MD5 sums checked\n",
      "package 'praise' successfully unpacked and MD5 sums checked\n",
      "package 'colorspace' successfully unpacked and MD5 sums checked\n",
      "package 'testthat' successfully unpacked and MD5 sums checked\n",
      "package 'farver' successfully unpacked and MD5 sums checked\n",
      "package 'labeling' successfully unpacked and MD5 sums checked\n",
      "package 'munsell' successfully unpacked and MD5 sums checked\n",
      "package 'RColorBrewer' successfully unpacked and MD5 sums checked\n",
      "package 'viridisLite' successfully unpacked and MD5 sums checked\n",
      "package 'gtable' successfully unpacked and MD5 sums checked\n",
      "package 'isoband' successfully unpacked and MD5 sums checked\n",
      "package 'scales' successfully unpacked and MD5 sums checked\n",
      "package 'withr' successfully unpacked and MD5 sums checked\n",
      "package 'ggplot2' successfully unpacked and MD5 sums checked\n",
      "package 'beeswarm' successfully unpacked and MD5 sums checked\n",
      "package 'vipor' successfully unpacked and MD5 sums checked\n",
      "package 'ggbeeswarm' successfully unpacked and MD5 sums checked\n",
      "\n",
      "The downloaded binary packages are in\n",
      "\tC:\\Users\\wataru\\AppData\\Local\\Temp\\RtmpSqc3wI\\downloaded_packages\n"
     ]
    },
    {
     "name": "stderr",
     "output_type": "stream",
     "text": [
      "Installing package into 'C:/Users/wataru/Documents/R/win-library/4.0'\n",
      "(as 'lib' is unspecified)\n",
      "\n",
      "also installing the dependencies 'sys', 'highr', 'markdown', 'plyr', 'askpass', 'rematch', 'knitr', 'yaml', 'tinytex', 'xfun', 'reshape2', 'DBI', 'curl', 'mime', 'openssl', 'clipr', 'cellranger', 'progress', 'fs', 'rmarkdown', 'whisker', 'selectr', 'stringi', 'broom', 'dbplyr', 'forcats', 'haven', 'hms', 'httr', 'modelr', 'readr', 'readxl', 'reprex', 'rvest', 'stringr', 'tidyr', 'xml2'\n",
      "\n",
      "\n"
     ]
    },
    {
     "name": "stdout",
     "output_type": "stream",
     "text": [
      "\n",
      "  There are binary versions available but the source versions are later:\n",
      "       binary source needs_compilation\n",
      "modelr  0.1.6  0.1.7             FALSE\n",
      "xml2    1.3.1  1.3.2              TRUE\n",
      "\n",
      "  Binaries will be installed\n",
      "package 'sys' successfully unpacked and MD5 sums checked\n",
      "package 'highr' successfully unpacked and MD5 sums checked\n",
      "package 'markdown' successfully unpacked and MD5 sums checked\n",
      "package 'plyr' successfully unpacked and MD5 sums checked\n",
      "package 'askpass' successfully unpacked and MD5 sums checked\n",
      "package 'rematch' successfully unpacked and MD5 sums checked\n",
      "package 'knitr' successfully unpacked and MD5 sums checked\n",
      "package 'yaml' successfully unpacked and MD5 sums checked\n",
      "package 'tinytex' successfully unpacked and MD5 sums checked\n",
      "package 'xfun' successfully unpacked and MD5 sums checked\n",
      "package 'reshape2' successfully unpacked and MD5 sums checked\n",
      "package 'DBI' successfully unpacked and MD5 sums checked\n",
      "package 'curl' successfully unpacked and MD5 sums checked\n",
      "package 'mime' successfully unpacked and MD5 sums checked\n",
      "package 'openssl' successfully unpacked and MD5 sums checked\n",
      "package 'clipr' successfully unpacked and MD5 sums checked\n",
      "package 'cellranger' successfully unpacked and MD5 sums checked\n",
      "package 'progress' successfully unpacked and MD5 sums checked\n",
      "package 'fs' successfully unpacked and MD5 sums checked\n",
      "package 'rmarkdown' successfully unpacked and MD5 sums checked\n",
      "package 'whisker' successfully unpacked and MD5 sums checked\n",
      "package 'selectr' successfully unpacked and MD5 sums checked\n",
      "package 'stringi' successfully unpacked and MD5 sums checked\n",
      "package 'broom' successfully unpacked and MD5 sums checked\n",
      "package 'dbplyr' successfully unpacked and MD5 sums checked\n",
      "package 'forcats' successfully unpacked and MD5 sums checked\n",
      "package 'haven' successfully unpacked and MD5 sums checked\n",
      "package 'hms' successfully unpacked and MD5 sums checked\n",
      "package 'httr' successfully unpacked and MD5 sums checked\n",
      "package 'readr' successfully unpacked and MD5 sums checked\n",
      "package 'readxl' successfully unpacked and MD5 sums checked\n",
      "package 'reprex' successfully unpacked and MD5 sums checked\n",
      "package 'rvest' successfully unpacked and MD5 sums checked\n",
      "package 'stringr' successfully unpacked and MD5 sums checked\n",
      "package 'tidyr' successfully unpacked and MD5 sums checked\n",
      "package 'xml2' successfully unpacked and MD5 sums checked\n",
      "package 'tidyverse' successfully unpacked and MD5 sums checked\n",
      "\n",
      "The downloaded binary packages are in\n",
      "\tC:\\Users\\wataru\\AppData\\Local\\Temp\\RtmpSqc3wI\\downloaded_packages\n"
     ]
    },
    {
     "name": "stderr",
     "output_type": "stream",
     "text": [
      "installing the source package 'modelr'\n",
      "\n",
      "\n"
     ]
    }
   ],
   "source": [
    "# Install packages\n",
    "\n",
    "install.packages(\"magrittr\")\n",
    "install.packages(\"hablar\")\n",
    "install.packages(\"ggbeeswarm\")\n",
    "install.packages(\"tidyverse\")\n",
    "# install.packages(\"dplyr\")\n",
    "# install.packages(\"stringr\")"
   ]
  },
  {
   "cell_type": "markdown",
   "metadata": {},
   "source": [
    "### 1-1. Load libraries"
   ]
  },
  {
   "cell_type": "code",
   "execution_count": 3,
   "metadata": {
    "scrolled": true
   },
   "outputs": [
    {
     "name": "stderr",
     "output_type": "stream",
     "text": [
      "-- \u001b[1mAttaching packages\u001b[22m --------------------------------------- tidyverse 1.3.0 --\n",
      "\n",
      "\u001b[32mv\u001b[39m \u001b[34mggplot2\u001b[39m 3.3.0     \u001b[32mv\u001b[39m \u001b[34mpurrr  \u001b[39m 0.3.4\n",
      "\u001b[32mv\u001b[39m \u001b[34mtibble \u001b[39m 3.0.1     \u001b[32mv\u001b[39m \u001b[34mdplyr  \u001b[39m 0.8.5\n",
      "\u001b[32mv\u001b[39m \u001b[34mtidyr  \u001b[39m 1.0.2     \u001b[32mv\u001b[39m \u001b[34mstringr\u001b[39m 1.4.0\n",
      "\u001b[32mv\u001b[39m \u001b[34mreadr  \u001b[39m 1.3.1     \u001b[32mv\u001b[39m \u001b[34mforcats\u001b[39m 0.5.0\n",
      "\n",
      "-- \u001b[1mConflicts\u001b[22m ------------------------------------------ tidyverse_conflicts() --\n",
      "\u001b[31mx\u001b[39m \u001b[34mdplyr\u001b[39m::\u001b[32mfilter()\u001b[39m masks \u001b[34mstats\u001b[39m::filter()\n",
      "\u001b[31mx\u001b[39m \u001b[34mdplyr\u001b[39m::\u001b[32mlag()\u001b[39m    masks \u001b[34mstats\u001b[39m::lag()\n",
      "\u001b[31mx\u001b[39m \u001b[34mdplyr\u001b[39m::\u001b[32mna_if()\u001b[39m  masks \u001b[34mhablar\u001b[39m::na_if()\n",
      "\n",
      "\n",
      "Attaching package: 'magrittr'\n",
      "\n",
      "\n",
      "The following object is masked from 'package:purrr':\n",
      "\n",
      "    set_names\n",
      "\n",
      "\n",
      "The following object is masked from 'package:tidyr':\n",
      "\n",
      "    extract\n",
      "\n",
      "\n"
     ]
    },
    {
     "ename": "ERROR",
     "evalue": "Error in library(ggpubr): there is no package called 'ggpubr'\n",
     "output_type": "error",
     "traceback": [
      "Error in library(ggpubr): there is no package called 'ggpubr'\nTraceback:\n",
      "1. library(ggpubr)"
     ]
    }
   ],
   "source": [
    "# Load required library\n",
    "library(hablar)\n",
    "library(tidyverse)\n",
    "# library(dplyr)\n",
    "source(\"synchro_freeze.R\")\n",
    "\n",
    "library(magrittr)\n",
    "library(ggplot2)\n",
    "library(ggpubr) # ggplot2 based publication ready plots"
   ]
  },
  {
   "cell_type": "markdown",
   "metadata": {},
   "source": [
    "### 1-2. Load data "
   ]
  },
  {
   "cell_type": "code",
   "execution_count": 44,
   "metadata": {
    "scrolled": true
   },
   "outputs": [
    {
     "name": "stdout",
     "output_type": "stream",
     "text": [
      "Exclude 46 records from 184 records\n",
      "Remaining records are 138 \n"
     ]
    },
    {
     "data": {
      "text/html": [
       "<style>\n",
       ".dl-inline {width: auto; margin:0; padding: 0}\n",
       ".dl-inline>dt, .dl-inline>dd {float: none; width: auto; display: inline-block}\n",
       ".dl-inline>dt::after {content: \":\\0020\"; padding-right: .5ex}\n",
       ".dl-inline>dt:not(:first-of-type) {padding-left: .5ex}\n",
       "</style><dl class=dl-inline><dt>folder_videoname</dt><dd>'character'</dd><dt>single_animal</dt><dd>'logical'</dd><dt>sex</dt><dd>'character'</dd><dt>age</dt><dd>'integer'</dd><dt>infusion_hpc</dt><dd>'character'</dd><dt>infusion_pfc</dt><dd>'character'</dd><dt>familiarity</dt><dd>'character'</dd><dt>lighting</dt><dd>'character'</dd><dt>partition</dt><dd>'logical'</dd><dt>stress</dt><dd>'character'</dd><dt>comment</dt><dd>'character'</dd><dt>exclude</dt><dd>'logical'</dd><dt>fz_sub1</dt><dd>'numeric'</dd><dt>fz_sub2</dt><dd>'numeric'</dd><dt>fz_overlap</dt><dd>'numeric'</dd><dt>cohen_d</dt><dd>'numeric'</dd><dt>fz_start_sub1</dt><dd>'list'</dd><dt>fz_end_sub1</dt><dd>'list'</dd><dt>fz_start_sub2</dt><dd>'list'</dd><dt>fz_end_sub2</dt><dd>'list'</dd><dt>lagt_start_s1_s2</dt><dd>'list'</dd><dt>lagt_start_s2_s1</dt><dd>'list'</dd><dt>lagt_end_s1_s2</dt><dd>'list'</dd><dt>lagt_end_s2_s1</dt><dd>'list'</dd></dl>\n"
      ],
      "text/latex": [
       "\\begin{description*}\n",
       "\\item[folder\\textbackslash{}\\_videoname] 'character'\n",
       "\\item[single\\textbackslash{}\\_animal] 'logical'\n",
       "\\item[sex] 'character'\n",
       "\\item[age] 'integer'\n",
       "\\item[infusion\\textbackslash{}\\_hpc] 'character'\n",
       "\\item[infusion\\textbackslash{}\\_pfc] 'character'\n",
       "\\item[familiarity] 'character'\n",
       "\\item[lighting] 'character'\n",
       "\\item[partition] 'logical'\n",
       "\\item[stress] 'character'\n",
       "\\item[comment] 'character'\n",
       "\\item[exclude] 'logical'\n",
       "\\item[fz\\textbackslash{}\\_sub1] 'numeric'\n",
       "\\item[fz\\textbackslash{}\\_sub2] 'numeric'\n",
       "\\item[fz\\textbackslash{}\\_overlap] 'numeric'\n",
       "\\item[cohen\\textbackslash{}\\_d] 'numeric'\n",
       "\\item[fz\\textbackslash{}\\_start\\textbackslash{}\\_sub1] 'list'\n",
       "\\item[fz\\textbackslash{}\\_end\\textbackslash{}\\_sub1] 'list'\n",
       "\\item[fz\\textbackslash{}\\_start\\textbackslash{}\\_sub2] 'list'\n",
       "\\item[fz\\textbackslash{}\\_end\\textbackslash{}\\_sub2] 'list'\n",
       "\\item[lagt\\textbackslash{}\\_start\\textbackslash{}\\_s1\\textbackslash{}\\_s2] 'list'\n",
       "\\item[lagt\\textbackslash{}\\_start\\textbackslash{}\\_s2\\textbackslash{}\\_s1] 'list'\n",
       "\\item[lagt\\textbackslash{}\\_end\\textbackslash{}\\_s1\\textbackslash{}\\_s2] 'list'\n",
       "\\item[lagt\\textbackslash{}\\_end\\textbackslash{}\\_s2\\textbackslash{}\\_s1] 'list'\n",
       "\\end{description*}\n"
      ],
      "text/markdown": [
       "folder_videoname\n",
       ":   'character'single_animal\n",
       ":   'logical'sex\n",
       ":   'character'age\n",
       ":   'integer'infusion_hpc\n",
       ":   'character'infusion_pfc\n",
       ":   'character'familiarity\n",
       ":   'character'lighting\n",
       ":   'character'partition\n",
       ":   'logical'stress\n",
       ":   'character'comment\n",
       ":   'character'exclude\n",
       ":   'logical'fz_sub1\n",
       ":   'numeric'fz_sub2\n",
       ":   'numeric'fz_overlap\n",
       ":   'numeric'cohen_d\n",
       ":   'numeric'fz_start_sub1\n",
       ":   'list'fz_end_sub1\n",
       ":   'list'fz_start_sub2\n",
       ":   'list'fz_end_sub2\n",
       ":   'list'lagt_start_s1_s2\n",
       ":   'list'lagt_start_s2_s1\n",
       ":   'list'lagt_end_s1_s2\n",
       ":   'list'lagt_end_s2_s1\n",
       ":   'list'\n",
       "\n"
      ],
      "text/plain": [
       "folder_videoname    single_animal              sex              age \n",
       "     \"character\"        \"logical\"      \"character\"        \"integer\" \n",
       "    infusion_hpc     infusion_pfc      familiarity         lighting \n",
       "     \"character\"      \"character\"      \"character\"      \"character\" \n",
       "       partition           stress          comment          exclude \n",
       "       \"logical\"      \"character\"      \"character\"        \"logical\" \n",
       "         fz_sub1          fz_sub2       fz_overlap          cohen_d \n",
       "       \"numeric\"        \"numeric\"        \"numeric\"        \"numeric\" \n",
       "   fz_start_sub1      fz_end_sub1    fz_start_sub2      fz_end_sub2 \n",
       "          \"list\"           \"list\"           \"list\"           \"list\" \n",
       "lagt_start_s1_s2 lagt_start_s2_s1   lagt_end_s1_s2   lagt_end_s2_s1 \n",
       "          \"list\"           \"list\"           \"list\"           \"list\" "
      ]
     },
     "metadata": {},
     "output_type": "display_data"
    },
    {
     "data": {
      "text/html": [
       "<table>\n",
       "<caption>A tibble: 2 × 24</caption>\n",
       "<thead>\n",
       "\t<tr><th scope=col>folder_videoname</th><th scope=col>single_animal</th><th scope=col>sex</th><th scope=col>age</th><th scope=col>infusion_hpc</th><th scope=col>infusion_pfc</th><th scope=col>familiarity</th><th scope=col>lighting</th><th scope=col>partition</th><th scope=col>stress</th><th scope=col>...</th><th scope=col>fz_overlap</th><th scope=col>cohen_d</th><th scope=col>fz_start_sub1</th><th scope=col>fz_end_sub1</th><th scope=col>fz_start_sub2</th><th scope=col>fz_end_sub2</th><th scope=col>lagt_start_s1_s2</th><th scope=col>lagt_start_s2_s1</th><th scope=col>lagt_end_s1_s2</th><th scope=col>lagt_end_s2_s1</th></tr>\n",
       "\t<tr><th scope=col>&lt;chr&gt;</th><th scope=col>&lt;lgl&gt;</th><th scope=col>&lt;chr&gt;</th><th scope=col>&lt;int&gt;</th><th scope=col>&lt;chr&gt;</th><th scope=col>&lt;chr&gt;</th><th scope=col>&lt;chr&gt;</th><th scope=col>&lt;chr&gt;</th><th scope=col>&lt;lgl&gt;</th><th scope=col>&lt;chr&gt;</th><th scope=col>...</th><th scope=col>&lt;dbl&gt;</th><th scope=col>&lt;dbl&gt;</th><th scope=col>&lt;list&gt;</th><th scope=col>&lt;list&gt;</th><th scope=col>&lt;list&gt;</th><th scope=col>&lt;list&gt;</th><th scope=col>&lt;list&gt;</th><th scope=col>&lt;list&gt;</th><th scope=col>&lt;list&gt;</th><th scope=col>&lt;list&gt;</th></tr>\n",
       "</thead>\n",
       "<tbody>\n",
       "\t<tr><td>20190408_testing_1_f10ab</td><td>FALSE</td><td>female</td><td>75</td><td>NA</td><td>NA</td><td>familiar</td><td>visible</td><td>FALSE</td><td>no_stress</td><td>...</td><td>18.95833</td><td>0.7139131</td><td>249, 255, 267, 294, 331, 353, 364, 375, 403, 424, 430, 519, 550, 563, 577, 599, 634, 652, 689</td><td>253, 262, 272, 299, 338, 359, 368, 383, 409, 429, 435, 525, 558, 568, 594, 615, 640, 657, 694</td><td>264, 295, 303, 313, 321, 343, 398, 410, 425, 438, 482, 494, 517, 533, 557, 637, 652, 675, 685, 708</td><td>273, 302, 307, 317, 340, 389, 406, 419, 437, 468, 491, 502, 528, 555, 567, 642, 660, 680, 704, 713</td><td>15, 9, -3, 1, -10, -10, -21, 23, -5, 1, -5, -2, 7, -6, -20, 38, 3, 0, -4</td><td>3, -1, -9, 18, 10, 10, 5, -7, -1, -8, 37, 25, 2, -14, 6, -3, 0, 14, 4, -19</td><td>20, 11, 1, 3, 2, -19, 21, 6, -3, 8, 2, 3, -3, -1, -27, 27, 2, 3, 10</td><td>-1, -3, -8, -18, -2, -6, 3, -10, -2, -33, 34, 23, -3, 3, 1, -2, -3, 14, -10, -19</td></tr>\n",
       "\t<tr><td>20190408_testing_1_f6ab </td><td>FALSE</td><td>female</td><td>75</td><td>NA</td><td>NA</td><td>familiar</td><td>visible</td><td>FALSE</td><td>no_stress</td><td>...</td><td>22.08333</td><td>1.5590576</td><td>267, 298, 341, 413, 536, 545, 560, 568, 580, 607, 630, 689, 712</td><td>272, 317, 407, 431, 543, 550, 565, 575, 586, 614, 675, 704, 720</td><td>289, 298, 338, 374, 516, 529, 550, 573, 584, 632, 646, 671, 704</td><td>296, 312, 363, 404, 521, 539, 564, 581, 595, 637, 651, 679, 712</td><td>22, 0, -3, -39, -7, 5, -10, 5, 4, -23, 2, 15, -8</td><td>9, 0, 3, -33, 20, 7, -5, -5, -4, -2, -16, 18, 8</td><td>24, -5, -3, -27, -4, -11, -1, 6, -5, -19, 4, 8, -8</td><td>21, 5, 44, 3, 22, 4, 1, 5, -9, -23, 24, -4, -8</td></tr>\n",
       "</tbody>\n",
       "</table>\n"
      ],
      "text/latex": [
       "A tibble: 2 × 24\n",
       "\\begin{tabular}{lllllllllllllllllllll}\n",
       " folder\\_videoname & single\\_animal & sex & age & infusion\\_hpc & infusion\\_pfc & familiarity & lighting & partition & stress & ... & fz\\_overlap & cohen\\_d & fz\\_start\\_sub1 & fz\\_end\\_sub1 & fz\\_start\\_sub2 & fz\\_end\\_sub2 & lagt\\_start\\_s1\\_s2 & lagt\\_start\\_s2\\_s1 & lagt\\_end\\_s1\\_s2 & lagt\\_end\\_s2\\_s1\\\\\n",
       " <chr> & <lgl> & <chr> & <int> & <chr> & <chr> & <chr> & <chr> & <lgl> & <chr> & ... & <dbl> & <dbl> & <list> & <list> & <list> & <list> & <list> & <list> & <list> & <list>\\\\\n",
       "\\hline\n",
       "\t 20190408\\_testing\\_1\\_f10ab & FALSE & female & 75 & NA & NA & familiar & visible & FALSE & no\\_stress & ... & 18.95833 & 0.7139131 & 249, 255, 267, 294, 331, 353, 364, 375, 403, 424, 430, 519, 550, 563, 577, 599, 634, 652, 689 & 253, 262, 272, 299, 338, 359, 368, 383, 409, 429, 435, 525, 558, 568, 594, 615, 640, 657, 694 & 264, 295, 303, 313, 321, 343, 398, 410, 425, 438, 482, 494, 517, 533, 557, 637, 652, 675, 685, 708 & 273, 302, 307, 317, 340, 389, 406, 419, 437, 468, 491, 502, 528, 555, 567, 642, 660, 680, 704, 713 & 15, 9, -3, 1, -10, -10, -21, 23, -5, 1, -5, -2, 7, -6, -20, 38, 3, 0, -4 & 3, -1, -9, 18, 10, 10, 5, -7, -1, -8, 37, 25, 2, -14, 6, -3, 0, 14, 4, -19 & 20, 11, 1, 3, 2, -19, 21, 6, -3, 8, 2, 3, -3, -1, -27, 27, 2, 3, 10 & -1, -3, -8, -18, -2, -6, 3, -10, -2, -33, 34, 23, -3, 3, 1, -2, -3, 14, -10, -19\\\\\n",
       "\t 20190408\\_testing\\_1\\_f6ab  & FALSE & female & 75 & NA & NA & familiar & visible & FALSE & no\\_stress & ... & 22.08333 & 1.5590576 & 267, 298, 341, 413, 536, 545, 560, 568, 580, 607, 630, 689, 712 & 272, 317, 407, 431, 543, 550, 565, 575, 586, 614, 675, 704, 720 & 289, 298, 338, 374, 516, 529, 550, 573, 584, 632, 646, 671, 704 & 296, 312, 363, 404, 521, 539, 564, 581, 595, 637, 651, 679, 712 & 22, 0, -3, -39, -7, 5, -10, 5, 4, -23, 2, 15, -8 & 9, 0, 3, -33, 20, 7, -5, -5, -4, -2, -16, 18, 8 & 24, -5, -3, -27, -4, -11, -1, 6, -5, -19, 4, 8, -8 & 21, 5, 44, 3, 22, 4, 1, 5, -9, -23, 24, -4, -8\\\\\n",
       "\\end{tabular}\n"
      ],
      "text/markdown": [
       "\n",
       "A tibble: 2 × 24\n",
       "\n",
       "| folder_videoname &lt;chr&gt; | single_animal &lt;lgl&gt; | sex &lt;chr&gt; | age &lt;int&gt; | infusion_hpc &lt;chr&gt; | infusion_pfc &lt;chr&gt; | familiarity &lt;chr&gt; | lighting &lt;chr&gt; | partition &lt;lgl&gt; | stress &lt;chr&gt; | ... ... | fz_overlap &lt;dbl&gt; | cohen_d &lt;dbl&gt; | fz_start_sub1 &lt;list&gt; | fz_end_sub1 &lt;list&gt; | fz_start_sub2 &lt;list&gt; | fz_end_sub2 &lt;list&gt; | lagt_start_s1_s2 &lt;list&gt; | lagt_start_s2_s1 &lt;list&gt; | lagt_end_s1_s2 &lt;list&gt; | lagt_end_s2_s1 &lt;list&gt; |\n",
       "|---|---|---|---|---|---|---|---|---|---|---|---|---|---|---|---|---|---|---|---|---|\n",
       "| 20190408_testing_1_f10ab | FALSE | female | 75 | NA | NA | familiar | visible | FALSE | no_stress | ... | 18.95833 | 0.7139131 | 249, 255, 267, 294, 331, 353, 364, 375, 403, 424, 430, 519, 550, 563, 577, 599, 634, 652, 689 | 253, 262, 272, 299, 338, 359, 368, 383, 409, 429, 435, 525, 558, 568, 594, 615, 640, 657, 694 | 264, 295, 303, 313, 321, 343, 398, 410, 425, 438, 482, 494, 517, 533, 557, 637, 652, 675, 685, 708 | 273, 302, 307, 317, 340, 389, 406, 419, 437, 468, 491, 502, 528, 555, 567, 642, 660, 680, 704, 713 | 15, 9, -3, 1, -10, -10, -21, 23, -5, 1, -5, -2, 7, -6, -20, 38, 3, 0, -4 | 3, -1, -9, 18, 10, 10, 5, -7, -1, -8, 37, 25, 2, -14, 6, -3, 0, 14, 4, -19 | 20, 11, 1, 3, 2, -19, 21, 6, -3, 8, 2, 3, -3, -1, -27, 27, 2, 3, 10 | -1, -3, -8, -18, -2, -6, 3, -10, -2, -33, 34, 23, -3, 3, 1, -2, -3, 14, -10, -19 |\n",
       "| 20190408_testing_1_f6ab  | FALSE | female | 75 | NA | NA | familiar | visible | FALSE | no_stress | ... | 22.08333 | 1.5590576 | 267, 298, 341, 413, 536, 545, 560, 568, 580, 607, 630, 689, 712 | 272, 317, 407, 431, 543, 550, 565, 575, 586, 614, 675, 704, 720 | 289, 298, 338, 374, 516, 529, 550, 573, 584, 632, 646, 671, 704 | 296, 312, 363, 404, 521, 539, 564, 581, 595, 637, 651, 679, 712 | 22, 0, -3, -39, -7, 5, -10, 5, 4, -23, 2, 15, -8 | 9, 0, 3, -33, 20, 7, -5, -5, -4, -2, -16, 18, 8 | 24, -5, -3, -27, -4, -11, -1, 6, -5, -19, 4, 8, -8 | 21, 5, 44, 3, 22, 4, 1, 5, -9, -23, 24, -4, -8 |\n",
       "\n"
      ],
      "text/plain": [
       "  folder_videoname         single_animal sex    age infusion_hpc infusion_pfc\n",
       "1 20190408_testing_1_f10ab FALSE         female 75  NA           NA          \n",
       "2 20190408_testing_1_f6ab  FALSE         female 75  NA           NA          \n",
       "  familiarity lighting partition stress    ... fz_overlap cohen_d  \n",
       "1 familiar    visible  FALSE     no_stress ... 18.95833   0.7139131\n",
       "2 familiar    visible  FALSE     no_stress ... 22.08333   1.5590576\n",
       "  fz_start_sub1                                                                                \n",
       "1 249, 255, 267, 294, 331, 353, 364, 375, 403, 424, 430, 519, 550, 563, 577, 599, 634, 652, 689\n",
       "2 267, 298, 341, 413, 536, 545, 560, 568, 580, 607, 630, 689, 712                              \n",
       "  fz_end_sub1                                                                                  \n",
       "1 253, 262, 272, 299, 338, 359, 368, 383, 409, 429, 435, 525, 558, 568, 594, 615, 640, 657, 694\n",
       "2 272, 317, 407, 431, 543, 550, 565, 575, 586, 614, 675, 704, 720                              \n",
       "  fz_start_sub2                                                                                     \n",
       "1 264, 295, 303, 313, 321, 343, 398, 410, 425, 438, 482, 494, 517, 533, 557, 637, 652, 675, 685, 708\n",
       "2 289, 298, 338, 374, 516, 529, 550, 573, 584, 632, 646, 671, 704                                   \n",
       "  fz_end_sub2                                                                                       \n",
       "1 273, 302, 307, 317, 340, 389, 406, 419, 437, 468, 491, 502, 528, 555, 567, 642, 660, 680, 704, 713\n",
       "2 296, 312, 363, 404, 521, 539, 564, 581, 595, 637, 651, 679, 712                                   \n",
       "  lagt_start_s1_s2                                                        \n",
       "1 15, 9, -3, 1, -10, -10, -21, 23, -5, 1, -5, -2, 7, -6, -20, 38, 3, 0, -4\n",
       "2 22, 0, -3, -39, -7, 5, -10, 5, 4, -23, 2, 15, -8                        \n",
       "  lagt_start_s2_s1                                                          \n",
       "1 3, -1, -9, 18, 10, 10, 5, -7, -1, -8, 37, 25, 2, -14, 6, -3, 0, 14, 4, -19\n",
       "2 9, 0, 3, -33, 20, 7, -5, -5, -4, -2, -16, 18, 8                           \n",
       "  lagt_end_s1_s2                                                     \n",
       "1 20, 11, 1, 3, 2, -19, 21, 6, -3, 8, 2, 3, -3, -1, -27, 27, 2, 3, 10\n",
       "2 24, -5, -3, -27, -4, -11, -1, 6, -5, -19, 4, 8, -8                 \n",
       "  lagt_end_s2_s1                                                                  \n",
       "1 -1, -3, -8, -18, -2, -6, 3, -10, -2, -33, 34, 23, -3, 3, 1, -2, -3, 14, -10, -19\n",
       "2 21, 5, 44, 3, 22, 4, 1, 5, -9, -23, 24, -4, -8                                  "
      ]
     },
     "metadata": {},
     "output_type": "display_data"
    }
   ],
   "source": [
    "#######################################\n",
    "# Load the big table into t1\n",
    "# R accepts both ways to describe path.\n",
    "# filename <- \"C:\\\\Users\\\\User\\\\Desktop\\\\project\\\\summary3.csv\"\n",
    "\n",
    "path = \"Z:/videos_synchrony\"\n",
    "\n",
    "base = \"summary3.csv\"\n",
    "filename = file.path(path, base)\n",
    "t1 = read.table(file=filename,header=TRUE, sep=\",\")\n",
    "t1 = t1 %>% convert(lgl(single_animal))\n",
    "\n",
    "# Load groups table into t2\n",
    "base = \"IVs.csv\"\n",
    "filename = file.path(path, base)\n",
    "t2 = read.table(file=filename,header=TRUE, sep=\",\")\n",
    "t2 = t2 %>% convert(lgl(single_animal))\n",
    "\n",
    "#######################################\n",
    "# merge two data frames by IDs\n",
    "df <- merge(t2, t1, by=c(\"folder_videoname\",\"single_animal\"))\n",
    "# rename of column names may be necessary\n",
    "#names(df)[names(df) == \"single_animal.x\"] <- \"single_animal\"\n",
    "\n",
    "#######################################\n",
    "# Post process\n",
    "# Convert strings to integer list\n",
    "rex = \"fz_start*|fz_end*|lagt_*\"\n",
    "df = conv_str2list(df, rex)\n",
    "\n",
    "# Adjust dtype\n",
    "df = df %>% convert(chr(folder_videoname,sex,familiarity,lighting,stress,comment,infusion_hpc,infusion_pfc))\n",
    "\n",
    "# Set NA for empty cell\n",
    "df[df==\"\"]<-NA\n",
    "# df[is.nan(df)] <- NA\n",
    "\n",
    "#######################################\n",
    "# Exclude records\n",
    "cat(\"Exclude\", nrow(df[df$exclude==TRUE,]), \"records from\", nrow(df), \"records\\n\")\n",
    "df = df[df$exclude!=TRUE,]\n",
    "cat(\"Remaining records are\", nrow(df), \"\\n\")\n",
    "\n",
    "#######################################\n",
    "# Display summary\n",
    "#dim(df)\n",
    "#str(df)\n",
    "sapply(df, class)\n",
    "#sapply(df, typeof)\n",
    "head(df,2)\n",
    "\n",
    "# if(which(df$single_animal.x != df$single_animal.y) == FALSE){\n",
    "#     print(\"folder_videoname and single_animal are consistent.\")\n",
    "# } else {\n",
    "#     print(\"something is wrong\")\n",
    "# }\n",
    "\n",
    "#######################################\n",
    "# Save DF\n",
    "# You can open from RStudio\n",
    "base = \"data.Rda\"\n",
    "filename = file.path(path, base)\n",
    "save(df, file=filename)"
   ]
  },
  {
   "cell_type": "markdown",
   "metadata": {},
   "source": [
    "---\n",
    "## 2. Visualize the distribution of lagtime for onset and offset of freezing\n",
    "### 2-1. Collapse the all cells in lagt_* columns and create a new DF of two columns (lagtime, type)"
   ]
  },
  {
   "cell_type": "code",
   "execution_count": 5,
   "metadata": {
    "scrolled": true
   },
   "outputs": [],
   "source": [
    "# Load DF\n",
    "path = \"C:/Users/wataru/Dropbox/Jupyter/wataru/synchro_freeze\"\n",
    "base = \"data.Rda\"\n",
    "filename = file.path(path, base)\n",
    "load(file=filename)\n",
    "\n",
    "# Create working df and collapse cells in columns of \"lagt_*\"\n",
    "rex = \"lagt_*\"\n",
    "\n",
    "# Initialize dataframe\n",
    "df.work = data.frame(matrix(ncol = 4, nrow = 1))\n",
    "colnames(df.work) = str_subset(names(df), rex)\n",
    "\n",
    "# Collapse each column\n",
    "for (colname in str_subset(names(df), rex)){\n",
    "    w = c() # working vector\n",
    "    for (i in c(1:nrow(df))){\n",
    "        # w = c(w, as.integer(unlist(df[i,colname])))\n",
    "        w = c(w, unlist(df[i,colname]))\n",
    "    }\n",
    "    df.work[[1,colname]] = list(w)\n",
    "}\n",
    "\n",
    "# Mearge both directions, s1_s2 and s2_s1\n",
    "for (colname in c(\"lagt_start\", \"lagt_end\")){\n",
    "    df.work[,colname] = NA # Append empty column\n",
    "    # w = c(as.integer(unlist(df.work[1, paste0(colname, \"_s1_s2\")])),as.integer(unlist(df.work[1,paste0(colname, \"_s2_s1\")])))\n",
    "    w = c(unlist(df.work[1, paste0(colname, \"_s1_s2\")]),unlist(df.work[1,paste0(colname, \"_s2_s1\")]))\n",
    "    df.work[[1,colname]]=list(w)\n",
    "}\n",
    "\n",
    "# Create New DF, df.test of lagtime and type (onset or offset)\n",
    "df.lagtime = data.frame(\"lagtime\" = unlist(df.work[1,\"lagt_start\"]), \"type\" = \"onset\")\n",
    "# Append rows from onset\n",
    "df.lagtime = df.lagtime %>% add_row(\"lagtime\" = unlist(df.work[1,\"lagt_end\"]), \"type\" = \"offset\")\n",
    "\n",
    "# convert frame number to sec\n",
    "df.lagtime[,\"lagtime\"] = df.lagtime[,\"lagtime\"] / 4"
   ]
  },
  {
   "cell_type": "markdown",
   "metadata": {},
   "source": [
    "### 2-2. Visualize"
   ]
  },
  {
   "cell_type": "code",
   "execution_count": 6,
   "metadata": {},
   "outputs": [
    {
     "data": {
      "image/png": "[encoded data removed]",
      "text/plain": [
       "plot without title"
      ]
     },
     "metadata": {
      "image/png": {
       "height": 420,
       "width": 420
      },
      "text/plain": {
       "height": 420,
       "width": 420
      }
     },
     "output_type": "display_data"
    },
    {
     "data": {
      "image/png": "[encoded data removed]",
      "text/plain": [
       "plot without title"
      ]
     },
     "metadata": {
      "image/png": {
       "height": 420,
       "width": 420
      },
      "text/plain": {
       "height": 420,
       "width": 420
      }
     },
     "output_type": "display_data"
    },
    {
     "data": {
      "image/png": "[encoded data removed]",
      "text/plain": [
       "plot without title"
      ]
     },
     "metadata": {
      "image/png": {
       "height": 420,
       "width": 420
      },
      "text/plain": {
       "height": 420,
       "width": 420
      }
     },
     "output_type": "display_data"
    }
   ],
   "source": [
    "# Plot the distribution\n",
    "library(ggplot2)\n",
    "library(ggbeeswarm)\n",
    "\n",
    "ggplot(df.lagtime,aes(type,lagtime)) +\n",
    " geom_boxplot() +\n",
    " geom_quasirandom(alpha = 0.2) +\n",
    " theme_bw()\n",
    "\n",
    "# # Colored Histogram with Different Number of Bins\n",
    "sub.lagtime = df.lagtime[df.lagtime$type=='onset',]\n",
    "ggplot(sub.lagtime,aes(x=lagtime)) +\n",
    "    geom_histogram(binwidth=0.2)\n",
    "\n",
    "sub.lagtime = df.lagtime[df.lagtime$type=='offset',]\n",
    "ggplot(sub.lagtime,aes(x=lagtime)) +\n",
    "    geom_histogram(binwidth=0.2)\n",
    "\n",
    "# hist(subTest$lagtime, breaks=seq(,,10),col=\"blue\", xlim=c(-250,250), ylim=c(0,3000))\n",
    "#, breaks=seq(-50,50,1), col=\"blue\", xlim=c(-50,50), ylim=c(0,60))\n",
    "# hist(subTest$lagtime, breaks=seq(-50,50,1), col=\"blue\", xlim=c(-50,50), ylim=c(0,60))\n",
    "\n",
    "# subTest = test[test$type=='offset',]\n",
    "# hist(subTest$lagtime, breaks=seq(-50,50,1), col=\"blue\", xlim=c(-50,50), ylim=c(0,60))\n",
    "\n",
    "\n",
    "# ### (Option) Export a plot as EPS file ##############################################\n",
    "# # Change the plot line\n",
    "# setEPS()\n",
    "# postscript(\"whatever.eps\")\n",
    "# plot(rnorm(100), main=\"Hey Some Data\")\n",
    "# dev.off()\n",
    "# #####################################################################################\n"
   ]
  },
  {
   "cell_type": "markdown",
   "metadata": {},
   "source": [
    "### 2-3. Test Coefficients of Variation from multiple samples\n",
    "https://cran.r-project.org/web/packages/cvequality/vignettes/how_to_test_CVs.html\n",
    "\n",
    "**Need to install packages**\n",
    "\n",
    "`install.packages(\"ggbeeswarm\")`<BR>\n",
    "`install.packages(\"cvequality\")`\n"
   ]
  },
  {
   "cell_type": "code",
   "execution_count": 39,
   "metadata": {},
   "outputs": [
    {
     "name": "stderr",
     "output_type": "stream",
     "text": [
      "Installing package into 'C:/Users/User/Documents/R/win-library/3.6'\n",
      "(as 'lib' is unspecified)\n",
      "\n"
     ]
    },
    {
     "name": "stdout",
     "output_type": "stream",
     "text": [
      "package 'cvequality' successfully unpacked and MD5 sums checked\n",
      "\n",
      "The downloaded binary packages are in\n",
      "\tC:\\Users\\User\\AppData\\Local\\Temp\\RtmpglcLq4\\downloaded_packages\n"
     ]
    }
   ],
   "source": [
    "install.packages(\"cvequality\")"
   ]
  },
  {
   "cell_type": "code",
   "execution_count": 47,
   "metadata": {
    "scrolled": true
   },
   "outputs": [
    {
     "data": {
      "text/html": [
       "<dl>\n",
       "\t<dt>$D_AD</dt>\n",
       "\t\t<dd>3.79595534919202</dd>\n",
       "\t<dt>$p_value</dt>\n",
       "\t\t<dd>0.0513765465915989</dd>\n",
       "</dl>\n"
      ],
      "text/latex": [
       "\\begin{description}\n",
       "\\item[\\$D\\_AD] 3.79595534919202\n",
       "\\item[\\$p\\_value] 0.0513765465915989\n",
       "\\end{description}\n"
      ],
      "text/markdown": [
       "$D_AD\n",
       ":   3.79595534919202\n",
       "$p_value\n",
       ":   0.0513765465915989\n",
       "\n",
       "\n"
      ],
      "text/plain": [
       "$D_AD\n",
       "[1] 3.795955\n",
       "\n",
       "$p_value\n",
       "[1] 0.05137655\n"
      ]
     },
     "metadata": {},
     "output_type": "display_data"
    }
   ],
   "source": [
    "# Load required library\n",
    "library(cvequality)\n",
    "\n",
    "test1 <- with(df.lagtime,asymptotic_test(lagtime,type))\n",
    "test1"
   ]
  },
  {
   "cell_type": "code",
   "execution_count": 48,
   "metadata": {
    "scrolled": true
   },
   "outputs": [
    {
     "data": {
      "text/html": [
       "<dl>\n",
       "\t<dt>$MSLRT</dt>\n",
       "\t\t<dd>178.84471193024</dd>\n",
       "\t<dt>$p_value</dt>\n",
       "\t\t<dd>0</dd>\n",
       "</dl>\n"
      ],
      "text/latex": [
       "\\begin{description}\n",
       "\\item[\\$MSLRT] 178.84471193024\n",
       "\\item[\\$p\\_value] 0\n",
       "\\end{description}\n"
      ],
      "text/markdown": [
       "$MSLRT\n",
       ":   178.84471193024\n",
       "$p_value\n",
       ":   0\n",
       "\n",
       "\n"
      ],
      "text/plain": [
       "$MSLRT\n",
       "[1] 178.8447\n",
       "\n",
       "$p_value\n",
       "[1] 0\n"
      ]
     },
     "metadata": {},
     "output_type": "display_data"
    }
   ],
   "source": [
    "test2 <- with(df.lagtime,mslr_test(nr = 1e4, lagtime,type))\n",
    "test2"
   ]
  },
  {
   "cell_type": "markdown",
   "metadata": {
    "toc-hr-collapsed": true
   },
   "source": [
    "---\n",
    "# r-plotmaking\n",
    "       20200501 am\n",
    "#### Required package\n",
    "- **Hmisc package**: Contains many functions useful for data analysis, high-level graphics, utility operations, functions for computing sample size and power, importing and annotating datasets, imputing missing values, advanced table making, variable clustering, character string manipulation, conversion of R objects to LaTeX and html code, and recoding variables.<BR> https://cran.r-project.org/web/packages/Hmisc/index.html"
   ]
  },
  {
   "cell_type": "code",
   "execution_count": 77,
   "metadata": {
    "scrolled": true
   },
   "outputs": [
    {
     "name": "stderr",
     "output_type": "stream",
     "text": [
      "Installing package into 'C:/Users/User/Documents/R/win-library/3.6'\n",
      "(as 'lib' is unspecified)\n",
      "\n"
     ]
    },
    {
     "name": "stdout",
     "output_type": "stream",
     "text": [
      "package 'Hmisc' successfully unpacked and MD5 sums checked\n"
     ]
    },
    {
     "name": "stderr",
     "output_type": "stream",
     "text": [
      "Warning message:\n",
      "\"cannot remove prior installation of package 'Hmisc'\"\n",
      "Warning message in file.copy(savedcopy, lib, recursive = TRUE):\n",
      "\"problem copying C:\\Users\\User\\Documents\\R\\win-library\\3.6\\00LOCK\\Hmisc\\libs\\x64\\Hmisc.dll to C:\\Users\\User\\Documents\\R\\win-library\\3.6\\Hmisc\\libs\\x64\\Hmisc.dll: Permission denied\"\n",
      "Warning message:\n",
      "\"restored 'Hmisc'\"\n"
     ]
    },
    {
     "name": "stdout",
     "output_type": "stream",
     "text": [
      "\n",
      "The downloaded binary packages are in\n",
      "\tC:\\Users\\User\\AppData\\Local\\Temp\\Rtmpau4RQf\\downloaded_packages\n"
     ]
    },
    {
     "name": "stderr",
     "output_type": "stream",
     "text": [
      "Loading required package: lattice\n",
      "\n",
      "Loading required package: survival\n",
      "\n",
      "Loading required package: Formula\n",
      "\n",
      "\n",
      "Attaching package: 'Hmisc'\n",
      "\n",
      "\n",
      "The following objects are masked from 'package:dplyr':\n",
      "\n",
      "    src, summarize\n",
      "\n",
      "\n",
      "The following objects are masked from 'package:base':\n",
      "\n",
      "    format.pval, units\n",
      "\n",
      "\n"
     ]
    }
   ],
   "source": [
    "# Install packages\n",
    "install.packages(\"Hmisc\")\n",
    "\n",
    "#load necessary libraries and packages\n",
    "library(ggplot2)\n",
    "library(Hmisc)\n",
    "library(readxl)"
   ]
  },
  {
   "cell_type": "markdown",
   "metadata": {},
   "source": [
    "## 1. plotting LTP data using means and SEM"
   ]
  },
  {
   "cell_type": "code",
   "execution_count": 75,
   "metadata": {},
   "outputs": [
    {
     "data": {
      "image/png": "[encoded data removed]",
      "text/plain": [
       "plot without title"
      ]
     },
     "metadata": {
      "image/png": {
       "height": 420,
       "width": 420
      },
      "text/plain": {
       "height": 420,
       "width": 420
      }
     },
     "output_type": "display_data"
    }
   ],
   "source": [
    "# 1. plotting LTP data using means and SEM\n",
    "\n",
    "# 1-1. Read csv file named LTPtest\n",
    "path = \"C:/Users/User/Dropbox/Jupyter/alexei/r_plotmaking_data\"\n",
    "base = \"LTPtest.csv\"\n",
    "filename = file.path(path, base)\n",
    "LTP <- read.csv(filename)\n",
    "\n",
    "# 1-2. Make line plot\n",
    "p<-ggplot(LTP, aes(x=time, y=means))+geom_line(stat=\"identity\",color=\"red\") + geom_point(color=\"red\") + geom_errorbar(aes(ymin=means-SEM, ymax=means+SEM))\n",
    "print(p)"
   ]
  },
  {
   "cell_type": "markdown",
   "metadata": {},
   "source": [
    "## 2. making dot plot with error bars using table with individual data points"
   ]
  },
  {
   "cell_type": "code",
   "execution_count": 78,
   "metadata": {},
   "outputs": [
    {
     "name": "stderr",
     "output_type": "stream",
     "text": [
      "Warning message:\n",
      "\"`fun.y` is deprecated. Use `fun` instead.\"\n",
      "`stat_bindot()` using `bins = 30`. Pick better value with `binwidth`.\n",
      "\n"
     ]
    },
    {
     "data": {
      "image/png": "[encoded data removed]",
      "text/plain": [
       "plot without title"
      ]
     },
     "metadata": {
      "image/png": {
       "height": 420,
       "width": 420
      },
      "text/plain": {
       "height": 420,
       "width": 420
      }
     },
     "output_type": "display_data"
    }
   ],
   "source": [
    "# 2. making dot plot with error bars using table with individual data points\n",
    "\n",
    "# 2-1. import data from excel as df1 using \"Import Dataset\" function in Environment tab, one column containing datapoints, other columns containing independent variables\n",
    "base = \"synchfreeze_aggregated.xlsx\"\n",
    "filename = file.path(path, base)\n",
    "df1 <- read_excel(\"C:/Users/User/Dropbox/Jupyter/alexei/r_plotmaking_data/synchfreeze_aggregated.xlsx\", \n",
    "  sheet = \"for Rplot\")\n",
    "\n",
    "# 2-2. plotting cohen distance with \"condition\" as factor\n",
    "p <- ggplot(df1, aes(x=condition, y=cohen)) + \n",
    "  geom_dotplot(binaxis='y', stackdir='center')\n",
    "\n",
    "p + stat_summary(fun.data=mean_sdl, fun.args = list(mult=1), \n",
    "                 geom=\"errorbar\", color=\"red\", width=0.2) +\n",
    "  stat_summary(fun.y=mean, geom=\"point\", color=\"red\")"
   ]
  },
  {
   "cell_type": "markdown",
   "metadata": {},
   "source": [
    "## 3. plotting paired comparisons of freezing between mice tested alone or in pairs"
   ]
  },
  {
   "cell_type": "code",
   "execution_count": 81,
   "metadata": {},
   "outputs": [
    {
     "data": {
      "image/png": "[encoded data removed]",
      "text/plain": [
       "plot without title"
      ]
     },
     "metadata": {
      "image/png": {
       "height": 420,
       "width": 420
      },
      "text/plain": {
       "height": 420,
       "width": 420
      }
     },
     "output_type": "display_data"
    }
   ],
   "source": [
    "# 3. plotting paired comparisons of freezing between mice tested alone or in pairs\n",
    "\n",
    "# 3-1. load excel file\n",
    "# library(readxl)\n",
    "base = \"freezing_ind_vs_pair_for_Rplot.xlsm\"\n",
    "filename = file.path(path, base)\n",
    "df1 <- read_excel(filename, sheet = \"females\")\n",
    "\n",
    "# 3-2. plot pair comparisons\n",
    "p<- ggplot(df1, aes(x=condition, y=freezing, group=animal, color=animal)) + \n",
    "  geom_line() + geom_point()\n",
    "print(p)"
   ]
  },
  {
   "cell_type": "markdown",
   "metadata": {},
   "source": [
    "## (Option) Export a plot as EPS file"
   ]
  },
  {
   "cell_type": "code",
   "execution_count": 82,
   "metadata": {},
   "outputs": [
    {
     "data": {
      "text/html": [
       "<strong>png:</strong> 2"
      ],
      "text/latex": [
       "\\textbf{png:} 2"
      ],
      "text/markdown": [
       "**png:** 2"
      ],
      "text/plain": [
       "png \n",
       "  2 "
      ]
     },
     "metadata": {},
     "output_type": "display_data"
    }
   ],
   "source": [
    "### (Option) Export a plot as EPS file ##############################################\n",
    "# Change the plot line\n",
    "setEPS()\n",
    "postscript(\"whatever.eps\")\n",
    "# plot(rnorm(100), main=\"Hey Some Data\")\n",
    "print(p)\n",
    "dev.off()\n",
    "#####################################################################################"
   ]
  },
  {
   "cell_type": "markdown",
   "metadata": {
    "toc-hr-collapsed": true
   },
   "source": [
    "---\n",
    "# One-Sample Wilcoxon Signed Rank Test in R\n",
    "http://www.sthda.com/english/wiki/one-sample-wilcoxon-signed-rank-test-in-r"
   ]
  },
  {
   "cell_type": "code",
   "execution_count": 61,
   "metadata": {},
   "outputs": [
    {
     "ename": "ERROR",
     "evalue": "Error in wilcox.test.default(df.lagtime$V1, mu = 44): 'x' must be numeric\n",
     "output_type": "error",
     "traceback": [
      "Error in wilcox.test.default(df.lagtime$V1, mu = 44): 'x' must be numeric\nTraceback:\n",
      "1. wilcox.test(df.lagtime$V1, mu = 44)",
      "2. wilcox.test.default(df.lagtime$V1, mu = 44)",
      "3. stop(\"'x' must be numeric\")"
     ]
    }
   ],
   "source": [
    "# We want to know, if the average of the data differs from mu (two-tailed test).\n",
    "\n",
    "# One-sample wilcoxon test\n",
    "res <- wilcox.test(df.lagtime$V1, mu = 44)\n",
    "# Printing the results\n",
    "res"
   ]
  },
  {
   "cell_type": "markdown",
   "metadata": {
    "toc-hr-collapsed": true
   },
   "source": [
    "---\n",
    "# Boxplot for the distribution of lagtime for each animal pair."
   ]
  },
  {
   "cell_type": "code",
   "execution_count": null,
   "metadata": {},
   "outputs": [],
   "source": [
    "# Raw data for lag-time\n",
    "# \"s\" stands for onset and \"e\" stands for offset of freezing\n",
    "d1 <- c( 0,    -24,    3,    0,   16,    8,    9,   -3,    5,    4,   -3,   -1,  -2 )\n",
    "e1 <- c(\"f1s\", \"f1s\", \"f1s\", \"f1s\", \"f1s\", \"f1s\", \"f1s\", \"f1s\", \"f1s\", \"f1s\", \"f1s\", \"f1s\", \"f1s\") \n",
    "\n",
    "d2 <- c(   0,   -9,    0,    0,   13,    0,    0,    4,    2,   -1,   -8,   3)\n",
    "e2 <- c(\"f1e\", \"f1e\", \"f1e\", \"f1e\", \"f1e\", \"f1e\", \"f1e\", \"f1e\", \"f1e\", \"f1e\", \"f1e\", \"f1e\") \n",
    "\n",
    "d3 <- c(14,-1,9,8,-7,0,-8,0,0,-18,0)\n",
    "e3 <- c(\"f2_1s\",\"f2_1s\",\"f2_1s\",\"f2_1s\",\"f2_1s\",\"f2_1s\",\"f2_1s\",\"f2_1s\",\"f2_1s\",\"f2_1s\",\"f2_1s\")\n",
    "\n",
    "d4 <- c(     13,      10,      -3,     -11,      -9,       1,      -3,       3,     -18,      -6,       4,     0)\n",
    "e4 <- c(\"f2_1e\", \"f2_1e\", \"f2_1e\", \"f2_1e\", \"f2_1e\", \"f2_1e\", \"f2_1e\", \"f2_1e\", \"f2_1e\", \"f2_1e\", \"f2_1e\", \"f2_1e\") \n",
    "\n",
    "d5 <- c(3,4,0,4,3,1,0,-8,-4,5,11)\n",
    "e5 <- c(\"f2_2s\",\"f2_2s\",\"f2_2s\",\"f2_2s\",\"f2_2s\",\"f2_2s\",\"f2_2s\",\"f2_2s\",\"f2_2s\",\"f2_2s\",\"f2_2s\")\n",
    "\n",
    "d6 <- c(3,1,0,1,1,0,0,-9,-12,3,-2)\n",
    "e6 <- c(\"f2_2e\",\"f2_2e\",\"f2_2e\",\"f2_2e\",\"f2_2e\",\"f2_2e\",\"f2_2e\",\"f2_2e\",\"f2_2e\",\"f2_2e\",\"f2_2e\")\n",
    "\n",
    "d7 <- c(-3,-1,-7,11,-11,3,-13,-2)\n",
    "e7 <- c(\"f3_1s\",\"f3_1s\",\"f3_1s\",\"f3_1s\",\"f3_1s\",\"f3_1s\",\"f3_1s\",\"f3_1s\")\n",
    "\n",
    "d8 <- c(-7,0,-2,2,-7,2,-6,0)\n",
    "e8 <- c(\"f3_1e\",\"f3_1e\",\"f3_1e\",\"f3_1e\",\"f3_1e\",\"f3_1e\",\"f3_1e\",\"f3_1e\")\n",
    "\n",
    "d9 <- c(3,-12,4,-2,5)\n",
    "e9 <- c(\"f3_2s\",\"f3_2s\",\"f3_2s\",\"f3_2s\",\"f3_2s\")\n",
    "\n",
    "d10 <- c(-1,-3,0,-12)\n",
    "e10 <- c(\"f3_2e\",\"f3_2e\",\"f3_2e\",\"f3_2e\")\n",
    "\n",
    "d11 <- c(-11,-14,11,16,-57,19)\n",
    "e11 <- c(\"f4_1s\",\"f4_1s\",\"f4_1s\",\"f4_1s\",\"f4_1s\",\"f4_1s\")\n",
    "\n",
    "d12 <- c(-16,-10,-25,-1,0)\n",
    "e12 <- c(\"f4_1e\",\"f4_1e\",\"f4_1e\",\"f4_1e\",\"f4_1e\")\n",
    "\n",
    "d13 <- c(3,-4,-18,18)\n",
    "e13 <- c(\"f4_2s\",\"f4_2s\",\"f4_2s\",\"f4_2s\")\n",
    "\n",
    "d14 <- c(8,3,-13,16,0)\n",
    "e14 <- c(\"f4_2e\",\"f4_2e\",\"f4_2e\",\"f4_2e\",\"f4_2e\")\n",
    "\n",
    "# Concatenate the data\n",
    "d <- c(d1,d2,d3,d4,d5,d6,d7,d8,d9,d10,d11,d12,d13,d14)\n",
    "e <- c(e1,e2,e3,e4,e5,e6,e7,e8,e9,e10,e11,e12,e13,e14)\n",
    "\n",
    "# Create data frame\n",
    "mydata <- data.frame(d,e)\n",
    "# Add column names\n",
    "names(mydata) <- c(\"s1_s2\",\"pair\")\n",
    "\n",
    "mydata"
   ]
  },
  {
   "cell_type": "code",
   "execution_count": null,
   "metadata": {},
   "outputs": [],
   "source": [
    "# Boxplot for the distribution of lag-time\n",
    "library(ggplot2)\n",
    "library(ggbeeswarm)\n",
    "\n",
    "ggplot(mydata,aes(pair,s1_s2)) + geom_boxplot() + geom_quasirandom(alpha = 0.9) + theme_bw()\n",
    "\n",
    "### (Option) Export a plot as EPS file ##############################################\n",
    "# Change the plot line\n",
    "setEPS()\n",
    "postscript(\"whatever.eps\")\n",
    "plot(rnorm(100), main=\"Hey Some Data\")\n",
    "dev.off()\n",
    "#####################################################################################"
   ]
  },
  {
   "cell_type": "markdown",
   "metadata": {},
   "source": [
    "---"
   ]
  },
  {
   "cell_type": "markdown",
   "metadata": {
    "toc-hr-collapsed": true,
    "toc-nb-collapsed": true
   },
   "source": [
    "# R version"
   ]
  },
  {
   "cell_type": "code",
   "execution_count": null,
   "metadata": {},
   "outputs": [],
   "source": [
    "version"
   ]
  },
  {
   "cell_type": "markdown",
   "metadata": {
    "toc-hr-collapsed": true
   },
   "source": [
    "---\n",
    "# Read csv file and test correlation\n",
    "The csv file is generated by MATLAB code\n",
    "\n",
    "[READING IN DATA FROM AN EXTERNAL FILE | R LEARNING MODULES](https://stats.idre.ucla.edu/r/modules/reading-in-data-from-an-external-file/)"
   ]
  },
  {
   "cell_type": "code",
   "execution_count": null,
   "metadata": {},
   "outputs": [],
   "source": [
    "test <- read.table('D:\\\\wataru\\\\Recording_Analysis\\\\Bases_dmPFC-BLA\\\\2017-12-19_vm81a_base\\\\myFile.txt', sep = \",\")"
   ]
  },
  {
   "cell_type": "code",
   "execution_count": null,
   "metadata": {},
   "outputs": [],
   "source": [
    "ccf(test[,1], test[,3], lag = 200000, ylim = range(-1,1), type=\"correlation\")"
   ]
  },
  {
   "cell_type": "code",
   "execution_count": null,
   "metadata": {},
   "outputs": [],
   "source": [
    "testTS <- ts(test)"
   ]
  },
  {
   "cell_type": "code",
   "execution_count": null,
   "metadata": {},
   "outputs": [],
   "source": [
    "length(testTS)\n",
    "str(testTS)\n",
    "class(testTS)\n",
    "names(testTS)\n",
    "testTS"
   ]
  },
  {
   "cell_type": "code",
   "execution_count": null,
   "metadata": {},
   "outputs": [],
   "source": []
  },
  {
   "cell_type": "code",
   "execution_count": null,
   "metadata": {},
   "outputs": [],
   "source": [
    "test <- read.table('D:\\\\wataru\\\\Recording_Analysis\\\\Bases_dmPFC-BLA\\\\2017-12-19_vm81a_base\\\\myFile.txt', sep = \",\")"
   ]
  },
  {
   "cell_type": "code",
   "execution_count": null,
   "metadata": {},
   "outputs": [],
   "source": [
    "data (sales)  # parts of Example 11.2.2 from Brockwell and Davies (1991).\n",
    "sal <- diff (sales)\n",
    "led <- diff(lead)\n",
    "ccf (led, sal, lag = 20, ylim = range(-1,1), type=\"o\")"
   ]
  },
  {
   "cell_type": "code",
   "execution_count": null,
   "metadata": {},
   "outputs": [],
   "source": [
    "set.seed(123)\n",
    "x = arima.sim(model=list(0.2, 0, 0.5), n = 100)\n",
    "y = arima.sim(model=list(0.4, 0, 0.4), n = 100)\n",
    "ccf(x, y, type=\"correlation\")"
   ]
  },
  {
   "cell_type": "code",
   "execution_count": null,
   "metadata": {},
   "outputs": [],
   "source": [
    "readClipboard()"
   ]
  },
  {
   "cell_type": "code",
   "execution_count": null,
   "metadata": {},
   "outputs": [],
   "source": [
    "# setwd(\"D:/wataru/Recording_Analysis/Bases_dmPFC-BLA\")\n",
    "# theta <- scan('test.txt')\n",
    "# plot(theta)\n",
    "\n",
    "theta <- scan('D:\\\\wataru\\\\Recording_Analysis\\\\Bases_dmPFC-BLA\\\\2017-12-19_vm81a_base\\\\test.txt')\n",
    "plot(theta)"
   ]
  },
  {
   "cell_type": "markdown",
   "metadata": {
    "toc-hr-collapsed": true
   },
   "source": [
    "---\n",
    "# Data Types\n",
    "https://www.statmethods.net/input/datatypes.html"
   ]
  },
  {
   "cell_type": "code",
   "execution_count": null,
   "metadata": {},
   "outputs": [],
   "source": [
    "######################################################\n",
    "# vectors\n",
    "a <- c(1,2,5.3,6,-2,4) # numeric vector\n",
    "b <- c(\"one\",\"two\",\"three\") # character vector\n",
    "c <- c(TRUE,TRUE,TRUE,FALSE,TRUE,FALSE) #logical vector\n",
    "\n",
    "# Identify rows, columns or elements using subscripts.\n",
    "a[4]\n",
    "a[c(2,4)]\n",
    "\n",
    "######################################################\n",
    "# matrix\n",
    "# generates 5 x 4 numeric matrix \n",
    "y<-matrix(1:20, nrow=5,ncol=4)\n",
    "# another example\n",
    "cells <- c(1,26,24,68)\n",
    "rnames <- c(\"R1\", \"R2\")\n",
    "cnames <- c(\"C1\", \"C2\") \n",
    "mymatrix <- matrix(cells, nrow=2, ncol=2, byrow=TRUE,\n",
    "  dimnames=list(rnames, cnames))\n",
    "\n",
    "# Identify rows, columns or elements using subscripts.\n",
    "x[,4] # 4th column of matrix\n",
    "x[3,] # 3rd row of matrix \n",
    "x[2:4,1:3] # rows 2,3,4 of columns 1,2,3\n",
    "\n",
    "######################################################\n",
    "# Data Frames\n",
    "# A data frame is more general than a matrix, in that different columns can have different\n",
    "# modes (numeric, character, factor, etc.). This is similar to SAS and SPSS datasets.\n",
    "\n",
    "d <- c(1,2,3,4)\n",
    "e <- c(\"red\", \"white\", \"red\", NA)\n",
    "f <- c(TRUE,TRUE,TRUE,FALSE)\n",
    "mydata <- data.frame(d,e,f)\n",
    "names(mydata) <- c(\"ID\",\"Color\",\"Passed\") # variable names\n",
    "\n",
    "# Identify rows, columns or elements using subscripts.\n",
    "mydata[2:3] # columns 3,4,5 of data frame\n",
    "mydata[c(\"ID\",\"Passed\")] # columns ID and Age from data frame\n",
    "mydata$Color # variable x1 in the data frame\n",
    "mydata[1,3]\n",
    "\n",
    "######################################################\n",
    "# The ls() function returns a vector listing lists all the objects (vectors, data frames, etc) in your current workspace.\n",
    "ls()\n",
    "\n",
    "# Remove these three objects\n",
    "rm(\"first_name\", \"last_name\", \"new_df\")\n",
    " \n",
    "# Or remove objects listed in a vector\n",
    "rm(list = c(\"first_name\", \"last_name\", \"new_df\"))\n",
    " \n",
    "# Or remove all files from your workspace\n",
    "rm(list = ls())\n",
    " \n",
    "# Or remove vectors programmatically.  Delete objects with underscore in name\n",
    "rm(list = ls()[grepl(\"_\", ls())])\n",
    "\n",
    "######################################################\n",
    "# Lists\n",
    "# An ordered collection of objects (components). A list allows you to gather a variety of \n",
    "# (possibly unrelated) objects under one name.\n",
    "# example of a list with 4 components - \n",
    "# a string, a numeric vector, a matrix, and a scaler \n",
    "\n",
    "w <- list(name=\"Fred\", mynumbers=a, mymatrix=y, age=5.3)\n",
    "\n",
    "# example of a list containing two lists\n",
    "# It looks concatenate the two lists\n",
    "v <- c(w,w)\n",
    "\n",
    "# Identify elements of a list using the [[]] convention.\n",
    "mylist[[2]] # 2nd component of the list\n",
    "mylist[[\"mynumbers\"]] # component named mynumbers in list\n",
    "\n",
    "\n",
    "\n",
    "######################################################\n",
    "# Factors\n",
    "# Tell R that a variable is nominal by making it a factor. The factor stores the nominal\n",
    "# values as a vector of integers in the range [ 1... k ] (where k is the number of unique \n",
    "# values in the nominal variable), and an internal vector of character strings (the original \n",
    "# values) mapped to these integers.\n",
    "\n",
    "# variable gender with 20 \"male\" entries and \n",
    "# 30 \"female\" entries \n",
    "gender <- c(rep(\"male\",20), rep(\"female\", 30)) \n",
    "gender <- factor(gender) \n",
    "# stores gender as 20 1s and 30 2s and associates\n",
    "# 1=female, 2=male internally (alphabetically)\n",
    "# R now treats gender as a nominal variable \n",
    "summary(gender)\n"
   ]
  }
 ],
 "metadata": {
  "kernelspec": {
   "display_name": "R",
   "language": "R",
   "name": "ir"
  },
  "language_info": {
   "codemirror_mode": "r",
   "file_extension": ".r",
   "mimetype": "text/x-r-source",
   "name": "R",
   "pygments_lexer": "r",
   "version": "4.0.0"
  },
  "toc-autonumbering": false,
  "toc-showcode": false,
  "toc-showmarkdowntxt": false
 },
 "nbformat": 4,
 "nbformat_minor": 4
}
