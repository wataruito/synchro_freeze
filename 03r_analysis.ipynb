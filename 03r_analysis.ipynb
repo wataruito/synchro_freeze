{
 "cells": [
  {
   "cell_type": "markdown",
   "metadata": {},
   "source": [
    "# Permutation analysis\n",
    "#### Table of contents\n"
   ]
  },
  {
   "cell_type": "markdown",
   "metadata": {},
   "source": [
    "---\n",
    "## 0. Before starting\n",
    "#### 0-1. Update R\n",
    "1. Download binaries (Run R-3.X.X-win.exe) from https://www.r-project.org/.\n",
    "2. Run R-3.X.X-win.exe\n",
    "3. Set system path.\n",
    "    - Type \"env\" in the Start button and select \"Edit the system environment variables\".\n",
    "    - Push \"Environment Variables...\" button.\n",
    "    - Change \"Path\" variable.\n",
    "4. Install IRkernel for Jupyter\n",
    "    - in Anaconda prompt (Admin)\n",
    "    ```\n",
    "    > R\n",
    "    > install.packages('IRkernel')\n",
    "    > IRkernel::installspec()\n",
    "    ```\n",
    "    \n",
    "#### 0-2. Install required packages (ggpubr)\n",
    "If ggpubr is not install, open command window.<BR>\n",
    "\n",
    "**\\<on Win10\\ as regular user>**\n",
    "```\n",
    "C:\\Users\\User>R\n",
    "> install.packages(\"ggpubr\")\n",
    "```\n",
    "If this is the first time to install packages, it will ask if personal folder is created. Answer with yes. For additional installtions, you do not need use command window, but run install.pacages command in cell as below.\n",
    "\n",
    "**\\<on Ubuntu\\>**\n",
    "```\n",
    "$ sudo R\n",
    "> install.packages(\"ggpubr\")\n",
    "```\n",
    "\n",
    "**\\<using Jupyter\\>**"
   ]
  },
  {
   "cell_type": "code",
   "execution_count": null,
   "metadata": {},
   "outputs": [],
   "source": [
    "install.packages(\"magrittr\")"
   ]
  },
  {
   "cell_type": "markdown",
   "metadata": {},
   "source": [
    "#### 0-3. Check R version"
   ]
  },
  {
   "cell_type": "code",
   "execution_count": null,
   "metadata": {},
   "outputs": [],
   "source": [
    "version"
   ]
  },
  {
   "cell_type": "markdown",
   "metadata": {},
   "source": [
    "---\n",
    "## 1. Load data from CSV file"
   ]
  },
  {
   "cell_type": "markdown",
   "metadata": {},
   "source": [
    "#### (Optional) Install packages if not installed.\n",
    "- **magrittr**: I cannot remember for what.\n",
    "- **stringr**: Simple, Consistent Wrappers for Common String Operations<BR>\n",
    "https://www.rdocumentation.org/packages/stringr/versions/1.4.0<BR>\n",
    "    used as `for (colname in str_subset(names(df), rex)){` in the function conv_str2list().\n",
    "- **hablar**: Simple tools for converting columns to new data types. Intuitive functions for columns with missing values.<BR>\n",
    "https://cran.r-project.org/web/packages/hablar/<BR>\n",
    "    used as `convert(lgl(single_animal))`."
   ]
  },
  {
   "cell_type": "code",
   "execution_count": 100,
   "metadata": {},
   "outputs": [
    {
     "name": "stderr",
     "output_type": "stream",
     "text": [
      "Installing package into 'C:/Users/User/Documents/R/win-library/3.6'\n",
      "(as 'lib' is unspecified)\n",
      "\n",
      "Warning message:\n",
      "\"package 'magrittr' is in use and will not be installed\"\n",
      "Installing package into 'C:/Users/User/Documents/R/win-library/3.6'\n",
      "(as 'lib' is unspecified)\n",
      "\n",
      "Warning message:\n",
      "\"package 'stringr' is in use and will not be installed\"\n",
      "Installing package into 'C:/Users/User/Documents/R/win-library/3.6'\n",
      "(as 'lib' is unspecified)\n",
      "\n",
      "Warning message:\n",
      "\"package 'hablar' is in use and will not be installed\"\n"
     ]
    }
   ],
   "source": [
    "# Install packages\n",
    "\n",
    "install.packages(\"magrittr\")\n",
    "install.packages(\"stringr\")\n",
    "install.packages(\"hablar\")"
   ]
  },
  {
   "cell_type": "markdown",
   "metadata": {},
   "source": [
    "#### 1-1. Load libraries"
   ]
  },
  {
   "cell_type": "code",
   "execution_count": 101,
   "metadata": {},
   "outputs": [],
   "source": [
    "# Load required library\n",
    "library(magrittr)\n",
    "library(hablar)\n",
    "\n",
    "library(ggplot2)\n",
    "library(ggpubr) # ggplot2 based publication ready plots\n",
    "\n",
    "source(\"synchro_freeze.R\")"
   ]
  },
  {
   "cell_type": "markdown",
   "metadata": {},
   "source": [
    "### 1-2. Load data "
   ]
  },
  {
   "cell_type": "code",
   "execution_count": 103,
   "metadata": {},
   "outputs": [
    {
     "data": {
      "text/html": [
       "<style>\n",
       ".list-inline {list-style: none; margin:0; padding: 0}\n",
       ".list-inline>li {display: inline-block}\n",
       ".list-inline>li:not(:last-child)::after {content: \"\\00b7\"; padding: 0 .5ex}\n",
       "</style>\n",
       "<ol class=list-inline><li>184</li><li>24</li></ol>\n"
      ],
      "text/latex": [
       "\\begin{enumerate*}\n",
       "\\item 184\n",
       "\\item 24\n",
       "\\end{enumerate*}\n"
      ],
      "text/markdown": [
       "1. 184\n",
       "2. 24\n",
       "\n",
       "\n"
      ],
      "text/plain": [
       "[1] 184  24"
      ]
     },
     "metadata": {},
     "output_type": "display_data"
    },
    {
     "data": {
      "text/html": [
       "<style>\n",
       ".dl-inline {width: auto; margin:0; padding: 0}\n",
       ".dl-inline>dt, .dl-inline>dd {float: none; width: auto; display: inline-block}\n",
       ".dl-inline>dt::after {content: \":\\0020\"; padding-right: .5ex}\n",
       ".dl-inline>dt:not(:first-of-type) {padding-left: .5ex}\n",
       "</style><dl class=dl-inline><dt>folder_videoname</dt><dd>'character'</dd><dt>single_animal</dt><dd>'logical'</dd><dt>sex</dt><dd>'character'</dd><dt>age</dt><dd>'integer'</dd><dt>infusion_hpc</dt><dd>'character'</dd><dt>infusion_pfc</dt><dd>'character'</dd><dt>familiarity</dt><dd>'character'</dd><dt>lighting</dt><dd>'character'</dd><dt>partition</dt><dd>'logical'</dd><dt>stress</dt><dd>'character'</dd><dt>comment</dt><dd>'character'</dd><dt>exclude</dt><dd>'logical'</dd><dt>fz_sub1</dt><dd>'numeric'</dd><dt>fz_sub2</dt><dd>'numeric'</dd><dt>fz_overlap</dt><dd>'numeric'</dd><dt>cohen_d</dt><dd>'numeric'</dd><dt>fz_start_sub1</dt><dd>'list'</dd><dt>fz_end_sub1</dt><dd>'list'</dd><dt>fz_start_sub2</dt><dd>'list'</dd><dt>fz_end_sub2</dt><dd>'list'</dd><dt>lagt_start_s1_s2</dt><dd>'list'</dd><dt>lagt_start_s2_s1</dt><dd>'list'</dd><dt>lagt_end_s1_s2</dt><dd>'list'</dd><dt>lagt_end_s2_s1</dt><dd>'list'</dd></dl>\n"
      ],
      "text/latex": [
       "\\begin{description*}\n",
       "\\item[folder\\textbackslash{}\\_videoname] 'character'\n",
       "\\item[single\\textbackslash{}\\_animal] 'logical'\n",
       "\\item[sex] 'character'\n",
       "\\item[age] 'integer'\n",
       "\\item[infusion\\textbackslash{}\\_hpc] 'character'\n",
       "\\item[infusion\\textbackslash{}\\_pfc] 'character'\n",
       "\\item[familiarity] 'character'\n",
       "\\item[lighting] 'character'\n",
       "\\item[partition] 'logical'\n",
       "\\item[stress] 'character'\n",
       "\\item[comment] 'character'\n",
       "\\item[exclude] 'logical'\n",
       "\\item[fz\\textbackslash{}\\_sub1] 'numeric'\n",
       "\\item[fz\\textbackslash{}\\_sub2] 'numeric'\n",
       "\\item[fz\\textbackslash{}\\_overlap] 'numeric'\n",
       "\\item[cohen\\textbackslash{}\\_d] 'numeric'\n",
       "\\item[fz\\textbackslash{}\\_start\\textbackslash{}\\_sub1] 'list'\n",
       "\\item[fz\\textbackslash{}\\_end\\textbackslash{}\\_sub1] 'list'\n",
       "\\item[fz\\textbackslash{}\\_start\\textbackslash{}\\_sub2] 'list'\n",
       "\\item[fz\\textbackslash{}\\_end\\textbackslash{}\\_sub2] 'list'\n",
       "\\item[lagt\\textbackslash{}\\_start\\textbackslash{}\\_s1\\textbackslash{}\\_s2] 'list'\n",
       "\\item[lagt\\textbackslash{}\\_start\\textbackslash{}\\_s2\\textbackslash{}\\_s1] 'list'\n",
       "\\item[lagt\\textbackslash{}\\_end\\textbackslash{}\\_s1\\textbackslash{}\\_s2] 'list'\n",
       "\\item[lagt\\textbackslash{}\\_end\\textbackslash{}\\_s2\\textbackslash{}\\_s1] 'list'\n",
       "\\end{description*}\n"
      ],
      "text/markdown": [
       "folder_videoname\n",
       ":   'character'single_animal\n",
       ":   'logical'sex\n",
       ":   'character'age\n",
       ":   'integer'infusion_hpc\n",
       ":   'character'infusion_pfc\n",
       ":   'character'familiarity\n",
       ":   'character'lighting\n",
       ":   'character'partition\n",
       ":   'logical'stress\n",
       ":   'character'comment\n",
       ":   'character'exclude\n",
       ":   'logical'fz_sub1\n",
       ":   'numeric'fz_sub2\n",
       ":   'numeric'fz_overlap\n",
       ":   'numeric'cohen_d\n",
       ":   'numeric'fz_start_sub1\n",
       ":   'list'fz_end_sub1\n",
       ":   'list'fz_start_sub2\n",
       ":   'list'fz_end_sub2\n",
       ":   'list'lagt_start_s1_s2\n",
       ":   'list'lagt_start_s2_s1\n",
       ":   'list'lagt_end_s1_s2\n",
       ":   'list'lagt_end_s2_s1\n",
       ":   'list'\n",
       "\n"
      ],
      "text/plain": [
       "folder_videoname    single_animal              sex              age \n",
       "     \"character\"        \"logical\"      \"character\"        \"integer\" \n",
       "    infusion_hpc     infusion_pfc      familiarity         lighting \n",
       "     \"character\"      \"character\"      \"character\"      \"character\" \n",
       "       partition           stress          comment          exclude \n",
       "       \"logical\"      \"character\"      \"character\"        \"logical\" \n",
       "         fz_sub1          fz_sub2       fz_overlap          cohen_d \n",
       "       \"numeric\"        \"numeric\"        \"numeric\"        \"numeric\" \n",
       "   fz_start_sub1      fz_end_sub1    fz_start_sub2      fz_end_sub2 \n",
       "          \"list\"           \"list\"           \"list\"           \"list\" \n",
       "lagt_start_s1_s2 lagt_start_s2_s1   lagt_end_s1_s2   lagt_end_s2_s1 \n",
       "          \"list\"           \"list\"           \"list\"           \"list\" "
      ]
     },
     "metadata": {},
     "output_type": "display_data"
    },
    {
     "data": {
      "text/html": [
       "<table>\n",
       "<caption>A tibble: 2 × 24</caption>\n",
       "<thead>\n",
       "\t<tr><th scope=col>folder_videoname</th><th scope=col>single_animal</th><th scope=col>sex</th><th scope=col>age</th><th scope=col>infusion_hpc</th><th scope=col>infusion_pfc</th><th scope=col>familiarity</th><th scope=col>lighting</th><th scope=col>partition</th><th scope=col>stress</th><th scope=col>...</th><th scope=col>fz_overlap</th><th scope=col>cohen_d</th><th scope=col>fz_start_sub1</th><th scope=col>fz_end_sub1</th><th scope=col>fz_start_sub2</th><th scope=col>fz_end_sub2</th><th scope=col>lagt_start_s1_s2</th><th scope=col>lagt_start_s2_s1</th><th scope=col>lagt_end_s1_s2</th><th scope=col>lagt_end_s2_s1</th></tr>\n",
       "\t<tr><th scope=col>&lt;chr&gt;</th><th scope=col>&lt;lgl&gt;</th><th scope=col>&lt;chr&gt;</th><th scope=col>&lt;int&gt;</th><th scope=col>&lt;chr&gt;</th><th scope=col>&lt;chr&gt;</th><th scope=col>&lt;chr&gt;</th><th scope=col>&lt;chr&gt;</th><th scope=col>&lt;lgl&gt;</th><th scope=col>&lt;chr&gt;</th><th scope=col>...</th><th scope=col>&lt;dbl&gt;</th><th scope=col>&lt;dbl&gt;</th><th scope=col>&lt;list&gt;</th><th scope=col>&lt;list&gt;</th><th scope=col>&lt;list&gt;</th><th scope=col>&lt;list&gt;</th><th scope=col>&lt;list&gt;</th><th scope=col>&lt;list&gt;</th><th scope=col>&lt;list&gt;</th><th scope=col>&lt;list&gt;</th></tr>\n",
       "</thead>\n",
       "<tbody>\n",
       "\t<tr><td>20190408_testing_1_f10ab</td><td>FALSE</td><td>female</td><td>75</td><td>NA</td><td>NA</td><td>familiar</td><td>visible</td><td>FALSE</td><td>no_stress</td><td>...</td><td>18.95833</td><td>0.7139131</td><td>249, 255, 267, 294, 331, 353, 364, 375, 403, 424, 430, 519, 550, 563, 577, 599, 634, 652, 689</td><td>253, 262, 272, 299, 338, 359, 368, 383, 409, 429, 435, 525, 558, 568, 594, 615, 640, 657, 694</td><td>264, 295, 303, 313, 321, 343, 398, 410, 425, 438, 482, 494, 517, 533, 557, 637, 652, 675, 685, 708</td><td>273, 302, 307, 317, 340, 389, 406, 419, 437, 468, 491, 502, 528, 555, 567, 642, 660, 680, 704, 713</td><td>15, 9, -3, 1, -10, -10, -21, 23, -5, 1, -5, -2, 7, -6, -20, 38, 3, 0, -4</td><td>3, -1, -9, 18, 10, 10, 5, -7, -1, -8, 37, 25, 2, -14, 6, -3, 0, 14, 4, -19</td><td>20, 11, 1, 3, 2, -19, 21, 6, -3, 8, 2, 3, -3, -1, -27, 27, 2, 3, 10</td><td>-1, -3, -8, -18, -2, -6, 3, -10, -2, -33, 34, 23, -3, 3, 1, -2, -3, 14, -10, -19</td></tr>\n",
       "\t<tr><td>20190408_testing_1_f6ab </td><td>FALSE</td><td>female</td><td>75</td><td>NA</td><td>NA</td><td>familiar</td><td>visible</td><td>FALSE</td><td>no_stress</td><td>...</td><td>22.08333</td><td>1.5590576</td><td>267, 298, 341, 413, 536, 545, 560, 568, 580, 607, 630, 689, 712</td><td>272, 317, 407, 431, 543, 550, 565, 575, 586, 614, 675, 704, 720</td><td>289, 298, 338, 374, 516, 529, 550, 573, 584, 632, 646, 671, 704</td><td>296, 312, 363, 404, 521, 539, 564, 581, 595, 637, 651, 679, 712</td><td>22, 0, -3, -39, -7, 5, -10, 5, 4, -23, 2, 15, -8</td><td>9, 0, 3, -33, 20, 7, -5, -5, -4, -2, -16, 18, 8</td><td>24, -5, -3, -27, -4, -11, -1, 6, -5, -19, 4, 8, -8</td><td>21, 5, 44, 3, 22, 4, 1, 5, -9, -23, 24, -4, -8</td></tr>\n",
       "</tbody>\n",
       "</table>\n"
      ],
      "text/latex": [
       "A tibble: 2 × 24\n",
       "\\begin{tabular}{lllllllllllllllllllll}\n",
       " folder\\_videoname & single\\_animal & sex & age & infusion\\_hpc & infusion\\_pfc & familiarity & lighting & partition & stress & ... & fz\\_overlap & cohen\\_d & fz\\_start\\_sub1 & fz\\_end\\_sub1 & fz\\_start\\_sub2 & fz\\_end\\_sub2 & lagt\\_start\\_s1\\_s2 & lagt\\_start\\_s2\\_s1 & lagt\\_end\\_s1\\_s2 & lagt\\_end\\_s2\\_s1\\\\\n",
       " <chr> & <lgl> & <chr> & <int> & <chr> & <chr> & <chr> & <chr> & <lgl> & <chr> & ... & <dbl> & <dbl> & <list> & <list> & <list> & <list> & <list> & <list> & <list> & <list>\\\\\n",
       "\\hline\n",
       "\t 20190408\\_testing\\_1\\_f10ab & FALSE & female & 75 & NA & NA & familiar & visible & FALSE & no\\_stress & ... & 18.95833 & 0.7139131 & 249, 255, 267, 294, 331, 353, 364, 375, 403, 424, 430, 519, 550, 563, 577, 599, 634, 652, 689 & 253, 262, 272, 299, 338, 359, 368, 383, 409, 429, 435, 525, 558, 568, 594, 615, 640, 657, 694 & 264, 295, 303, 313, 321, 343, 398, 410, 425, 438, 482, 494, 517, 533, 557, 637, 652, 675, 685, 708 & 273, 302, 307, 317, 340, 389, 406, 419, 437, 468, 491, 502, 528, 555, 567, 642, 660, 680, 704, 713 & 15, 9, -3, 1, -10, -10, -21, 23, -5, 1, -5, -2, 7, -6, -20, 38, 3, 0, -4 & 3, -1, -9, 18, 10, 10, 5, -7, -1, -8, 37, 25, 2, -14, 6, -3, 0, 14, 4, -19 & 20, 11, 1, 3, 2, -19, 21, 6, -3, 8, 2, 3, -3, -1, -27, 27, 2, 3, 10 & -1, -3, -8, -18, -2, -6, 3, -10, -2, -33, 34, 23, -3, 3, 1, -2, -3, 14, -10, -19\\\\\n",
       "\t 20190408\\_testing\\_1\\_f6ab  & FALSE & female & 75 & NA & NA & familiar & visible & FALSE & no\\_stress & ... & 22.08333 & 1.5590576 & 267, 298, 341, 413, 536, 545, 560, 568, 580, 607, 630, 689, 712 & 272, 317, 407, 431, 543, 550, 565, 575, 586, 614, 675, 704, 720 & 289, 298, 338, 374, 516, 529, 550, 573, 584, 632, 646, 671, 704 & 296, 312, 363, 404, 521, 539, 564, 581, 595, 637, 651, 679, 712 & 22, 0, -3, -39, -7, 5, -10, 5, 4, -23, 2, 15, -8 & 9, 0, 3, -33, 20, 7, -5, -5, -4, -2, -16, 18, 8 & 24, -5, -3, -27, -4, -11, -1, 6, -5, -19, 4, 8, -8 & 21, 5, 44, 3, 22, 4, 1, 5, -9, -23, 24, -4, -8\\\\\n",
       "\\end{tabular}\n"
      ],
      "text/markdown": [
       "\n",
       "A tibble: 2 × 24\n",
       "\n",
       "| folder_videoname &lt;chr&gt; | single_animal &lt;lgl&gt; | sex &lt;chr&gt; | age &lt;int&gt; | infusion_hpc &lt;chr&gt; | infusion_pfc &lt;chr&gt; | familiarity &lt;chr&gt; | lighting &lt;chr&gt; | partition &lt;lgl&gt; | stress &lt;chr&gt; | ... ... | fz_overlap &lt;dbl&gt; | cohen_d &lt;dbl&gt; | fz_start_sub1 &lt;list&gt; | fz_end_sub1 &lt;list&gt; | fz_start_sub2 &lt;list&gt; | fz_end_sub2 &lt;list&gt; | lagt_start_s1_s2 &lt;list&gt; | lagt_start_s2_s1 &lt;list&gt; | lagt_end_s1_s2 &lt;list&gt; | lagt_end_s2_s1 &lt;list&gt; |\n",
       "|---|---|---|---|---|---|---|---|---|---|---|---|---|---|---|---|---|---|---|---|---|\n",
       "| 20190408_testing_1_f10ab | FALSE | female | 75 | NA | NA | familiar | visible | FALSE | no_stress | ... | 18.95833 | 0.7139131 | 249, 255, 267, 294, 331, 353, 364, 375, 403, 424, 430, 519, 550, 563, 577, 599, 634, 652, 689 | 253, 262, 272, 299, 338, 359, 368, 383, 409, 429, 435, 525, 558, 568, 594, 615, 640, 657, 694 | 264, 295, 303, 313, 321, 343, 398, 410, 425, 438, 482, 494, 517, 533, 557, 637, 652, 675, 685, 708 | 273, 302, 307, 317, 340, 389, 406, 419, 437, 468, 491, 502, 528, 555, 567, 642, 660, 680, 704, 713 | 15, 9, -3, 1, -10, -10, -21, 23, -5, 1, -5, -2, 7, -6, -20, 38, 3, 0, -4 | 3, -1, -9, 18, 10, 10, 5, -7, -1, -8, 37, 25, 2, -14, 6, -3, 0, 14, 4, -19 | 20, 11, 1, 3, 2, -19, 21, 6, -3, 8, 2, 3, -3, -1, -27, 27, 2, 3, 10 | -1, -3, -8, -18, -2, -6, 3, -10, -2, -33, 34, 23, -3, 3, 1, -2, -3, 14, -10, -19 |\n",
       "| 20190408_testing_1_f6ab  | FALSE | female | 75 | NA | NA | familiar | visible | FALSE | no_stress | ... | 22.08333 | 1.5590576 | 267, 298, 341, 413, 536, 545, 560, 568, 580, 607, 630, 689, 712 | 272, 317, 407, 431, 543, 550, 565, 575, 586, 614, 675, 704, 720 | 289, 298, 338, 374, 516, 529, 550, 573, 584, 632, 646, 671, 704 | 296, 312, 363, 404, 521, 539, 564, 581, 595, 637, 651, 679, 712 | 22, 0, -3, -39, -7, 5, -10, 5, 4, -23, 2, 15, -8 | 9, 0, 3, -33, 20, 7, -5, -5, -4, -2, -16, 18, 8 | 24, -5, -3, -27, -4, -11, -1, 6, -5, -19, 4, 8, -8 | 21, 5, 44, 3, 22, 4, 1, 5, -9, -23, 24, -4, -8 |\n",
       "\n"
      ],
      "text/plain": [
       "  folder_videoname         single_animal sex    age infusion_hpc infusion_pfc\n",
       "1 20190408_testing_1_f10ab FALSE         female 75  NA           NA          \n",
       "2 20190408_testing_1_f6ab  FALSE         female 75  NA           NA          \n",
       "  familiarity lighting partition stress    ... fz_overlap cohen_d  \n",
       "1 familiar    visible  FALSE     no_stress ... 18.95833   0.7139131\n",
       "2 familiar    visible  FALSE     no_stress ... 22.08333   1.5590576\n",
       "  fz_start_sub1                                                                                \n",
       "1 249, 255, 267, 294, 331, 353, 364, 375, 403, 424, 430, 519, 550, 563, 577, 599, 634, 652, 689\n",
       "2 267, 298, 341, 413, 536, 545, 560, 568, 580, 607, 630, 689, 712                              \n",
       "  fz_end_sub1                                                                                  \n",
       "1 253, 262, 272, 299, 338, 359, 368, 383, 409, 429, 435, 525, 558, 568, 594, 615, 640, 657, 694\n",
       "2 272, 317, 407, 431, 543, 550, 565, 575, 586, 614, 675, 704, 720                              \n",
       "  fz_start_sub2                                                                                     \n",
       "1 264, 295, 303, 313, 321, 343, 398, 410, 425, 438, 482, 494, 517, 533, 557, 637, 652, 675, 685, 708\n",
       "2 289, 298, 338, 374, 516, 529, 550, 573, 584, 632, 646, 671, 704                                   \n",
       "  fz_end_sub2                                                                                       \n",
       "1 273, 302, 307, 317, 340, 389, 406, 419, 437, 468, 491, 502, 528, 555, 567, 642, 660, 680, 704, 713\n",
       "2 296, 312, 363, 404, 521, 539, 564, 581, 595, 637, 651, 679, 712                                   \n",
       "  lagt_start_s1_s2                                                        \n",
       "1 15, 9, -3, 1, -10, -10, -21, 23, -5, 1, -5, -2, 7, -6, -20, 38, 3, 0, -4\n",
       "2 22, 0, -3, -39, -7, 5, -10, 5, 4, -23, 2, 15, -8                        \n",
       "  lagt_start_s2_s1                                                          \n",
       "1 3, -1, -9, 18, 10, 10, 5, -7, -1, -8, 37, 25, 2, -14, 6, -3, 0, 14, 4, -19\n",
       "2 9, 0, 3, -33, 20, 7, -5, -5, -4, -2, -16, 18, 8                           \n",
       "  lagt_end_s1_s2                                                     \n",
       "1 20, 11, 1, 3, 2, -19, 21, 6, -3, 8, 2, 3, -3, -1, -27, 27, 2, 3, 10\n",
       "2 24, -5, -3, -27, -4, -11, -1, 6, -5, -19, 4, 8, -8                 \n",
       "  lagt_end_s2_s1                                                                  \n",
       "1 -1, -3, -8, -18, -2, -6, 3, -10, -2, -33, 34, 23, -3, 3, 1, -2, -3, 14, -10, -19\n",
       "2 21, 5, 44, 3, 22, 4, 1, 5, -9, -23, 24, -4, -8                                  "
      ]
     },
     "metadata": {},
     "output_type": "display_data"
    }
   ],
   "source": [
    "#######################################\n",
    "# Load the big table into t1\n",
    "# R accepts both way to describe path.\n",
    "# filename <- \"C:\\\\Users\\\\User\\\\Desktop\\\\project\\\\summary3.csv\"\n",
    "filename = \"Z:/videos_synchrony/summary3.csv\"\n",
    "\n",
    "# Load big table\n",
    "t1 = read.table(file=filename,header=TRUE, sep=\",\")\n",
    "t1 = t1 %>% convert(lgl(single_animal))\n",
    "\n",
    "#######################################\n",
    "# Load the big table into t1\n",
    "filename = \"Z:/videos_synchrony/IVs.csv\"\n",
    "\n",
    "# Load groups table\n",
    "t2 = read.table(file=filename,header=TRUE, sep=\",\")\n",
    "t2 = t2 %>% convert(lgl(single_animal))\n",
    "\n",
    "#######################################\n",
    "# merge two data frames by ID\n",
    "df <- merge(t2, t1, by=c(\"folder_videoname\",\"single_animal\"))\n",
    "#names(df)[names(df) == \"single_animal.x\"] <- \"single_animal\"\n",
    "\n",
    "#######################################\n",
    "# Post process\n",
    "# Convert strings to integer list\n",
    "rex = \"fz_start*|fz_end*|lagt_*\"\n",
    "df = conv_str2list(df, rex)\n",
    "\n",
    "# Adjust dtype\n",
    "df = df %>% convert(chr(folder_videoname,sex,familiarity,lighting,stress,comment,infusion_hpc,infusion_pfc))\n",
    "\n",
    "# Set NA for empty cell\n",
    "df[df==\"\"]<-NA\n",
    "# df[is.nan(df)] <- NA\n",
    "\n",
    "#######################################\n",
    "# Display summary\n",
    "dim(df)\n",
    "#str(df)\n",
    "sapply(df, class)\n",
    "#sapply(df, typeof)\n",
    "head(df,2)\n",
    "\n",
    "# if(which(df$single_animal.x != df$single_animal.y) == FALSE){\n",
    "#     print(\"folder_videoname and single_animal are consistent.\")\n",
    "# } else {\n",
    "#     print(\"something is wrong\")\n",
    "# }\n"
   ]
  },
  {
   "cell_type": "markdown",
   "metadata": {},
   "source": [
    "---\n",
    "## 1-2. Distribution of lagtime for onset and offset of freezing\n",
    "## 2-1. Load lagtime csv file and visualize"
   ]
  },
  {
   "cell_type": "code",
   "execution_count": null,
   "metadata": {
    "scrolled": true
   },
   "outputs": [],
   "source": [
    "# Load csv file\n",
    "# test <- read.csv(file=\"C:\\\\Users\\\\User\\\\Dropbox\\\\Shared w am\\\\2019-02-19 R03 Brain-to-brain synchrony\\\\fig\\\\fear_express_video\\\\freeze.csv\",header=TRUE, sep=\",\")\n",
    "test <- read.csv(file=\"freeze.csv\",header=TRUE, sep=\",\")\n",
    "\n",
    "test"
   ]
  },
  {
   "cell_type": "code",
   "execution_count": null,
   "metadata": {},
   "outputs": [],
   "source": [
    "# Plot the distribution\n",
    "library(ggplot2)\n",
    "library(ggbeeswarm)\n",
    "\n",
    "ggplot(test,aes(type,lagtime)) +\n",
    " geom_boxplot() +\n",
    " geom_quasirandom(alpha = 0.2) +\n",
    " theme_bw()\n",
    "\n",
    "# Colored Histogram with Different Number of Bins\n",
    "subTest = test[test$type=='onset',]\n",
    "hist(subTest$lagtime, breaks=seq(-50,50,1), col=\"blue\", xlim=c(-50,50), ylim=c(0,60))\n",
    "\n",
    "subTest = test[test$type=='offset',]\n",
    "hist(subTest$lagtime, breaks=seq(-50,50,1), col=\"blue\", xlim=c(-50,50), ylim=c(0,60))\n",
    "\n",
    "\n",
    "### (Option) Export a plot as EPS file ##############################################\n",
    "# Change the plot line\n",
    "setEPS()\n",
    "postscript(\"whatever.eps\")\n",
    "plot(rnorm(100), main=\"Hey Some Data\")\n",
    "dev.off()\n",
    "#####################################################################################\n"
   ]
  },
  {
   "cell_type": "markdown",
   "metadata": {},
   "source": [
    "## 2-2. Test Coefficients of Variation from multiple samples\n",
    "https://cran.r-project.org/web/packages/cvequality/vignettes/how_to_test_CVs.html\n",
    "\n",
    "If ggbeeswarm is not install, open terminal window and install it.\n",
    "```\n",
    "$ sudo R\n",
    "> install.packages(\"ggbeeswarm\")\n",
    "> install.packages(\"cvequality\")\n",
    "```"
   ]
  },
  {
   "cell_type": "code",
   "execution_count": null,
   "metadata": {
    "scrolled": true
   },
   "outputs": [],
   "source": [
    "# Load required library\n",
    "library(cvequality)"
   ]
  },
  {
   "cell_type": "code",
   "execution_count": null,
   "metadata": {
    "scrolled": true
   },
   "outputs": [],
   "source": [
    "test1 <- with(test,asymptotic_test(lagtime,type))\n",
    "test1"
   ]
  },
  {
   "cell_type": "code",
   "execution_count": null,
   "metadata": {
    "scrolled": true
   },
   "outputs": [],
   "source": [
    "test2 <- with(test,mslr_test(nr = 1e4, lagtime,type))\n",
    "test2"
   ]
  },
  {
   "cell_type": "markdown",
   "metadata": {},
   "source": [
    "## 1-2. One-Sample Wilcoxon Signed Rank Test in R\n",
    "http://www.sthda.com/english/wiki/one-sample-wilcoxon-signed-rank-test-in-r"
   ]
  },
  {
   "cell_type": "code",
   "execution_count": null,
   "metadata": {},
   "outputs": [],
   "source": [
    "# We want to know, if the average of the data differs from mu (two-tailed test).\n",
    "\n",
    "# One-sample wilcoxon test\n",
    "res <- wilcox.test(test$V1, mu = 44)\n",
    "# Printing the results\n",
    "res"
   ]
  },
  {
   "cell_type": "markdown",
   "metadata": {},
   "source": [
    "---\n",
    "# 2. Distribution of lagtime for onset and offset of freezing\n",
    "## 2-1. Load lagtime csv file and visualize"
   ]
  },
  {
   "cell_type": "code",
   "execution_count": null,
   "metadata": {
    "scrolled": true
   },
   "outputs": [],
   "source": [
    "# Load csv file\n",
    "# test <- read.csv(file=\"C:\\\\Users\\\\User\\\\Dropbox\\\\Shared w am\\\\2019-02-19 R03 Brain-to-brain synchrony\\\\fig\\\\fear_express_video\\\\freeze.csv\",header=TRUE, sep=\",\")\n",
    "test <- read.csv(file=\"freeze.csv\",header=TRUE, sep=\",\")\n",
    "\n",
    "test"
   ]
  },
  {
   "cell_type": "code",
   "execution_count": null,
   "metadata": {},
   "outputs": [],
   "source": [
    "# Plot the distribution\n",
    "library(ggplot2)\n",
    "library(ggbeeswarm)\n",
    "\n",
    "ggplot(test,aes(type,lagtime)) +\n",
    " geom_boxplot() +\n",
    " geom_quasirandom(alpha = 0.2) +\n",
    " theme_bw()\n",
    "\n",
    "# Colored Histogram with Different Number of Bins\n",
    "subTest = test[test$type=='onset',]\n",
    "hist(subTest$lagtime, breaks=seq(-50,50,1), col=\"blue\", xlim=c(-50,50), ylim=c(0,60))\n",
    "\n",
    "subTest = test[test$type=='offset',]\n",
    "hist(subTest$lagtime, breaks=seq(-50,50,1), col=\"blue\", xlim=c(-50,50), ylim=c(0,60))\n",
    "\n",
    "\n",
    "### (Option) Export a plot as EPS file ##############################################\n",
    "# Change the plot line\n",
    "setEPS()\n",
    "postscript(\"whatever.eps\")\n",
    "plot(rnorm(100), main=\"Hey Some Data\")\n",
    "dev.off()\n",
    "#####################################################################################\n"
   ]
  },
  {
   "cell_type": "markdown",
   "metadata": {},
   "source": [
    "## 2-2. Test Coefficients of Variation from multiple samples\n",
    "https://cran.r-project.org/web/packages/cvequality/vignettes/how_to_test_CVs.html\n",
    "\n",
    "If ggbeeswarm is not install, open terminal window and install it.\n",
    "```\n",
    "$ sudo R\n",
    "> install.packages(\"ggbeeswarm\")\n",
    "> install.packages(\"cvequality\")\n",
    "```"
   ]
  },
  {
   "cell_type": "code",
   "execution_count": null,
   "metadata": {
    "scrolled": true
   },
   "outputs": [],
   "source": [
    "# Load required library\n",
    "library(cvequality)"
   ]
  },
  {
   "cell_type": "code",
   "execution_count": null,
   "metadata": {
    "scrolled": true
   },
   "outputs": [],
   "source": [
    "test1 <- with(test,asymptotic_test(lagtime,type))\n",
    "test1"
   ]
  },
  {
   "cell_type": "code",
   "execution_count": null,
   "metadata": {
    "scrolled": true
   },
   "outputs": [],
   "source": [
    "test2 <- with(test,mslr_test(nr = 1e4, lagtime,type))\n",
    "test2"
   ]
  },
  {
   "cell_type": "markdown",
   "metadata": {},
   "source": [
    "---\n",
    "# 3. Boxplot for the distribution of lagtime for each animal pair."
   ]
  },
  {
   "cell_type": "code",
   "execution_count": null,
   "metadata": {},
   "outputs": [],
   "source": [
    "# Raw data for lag-time\n",
    "# \"s\" stands for onset and \"e\" stands for offset of freezing\n",
    "d1 <- c( 0,    -24,    3,    0,   16,    8,    9,   -3,    5,    4,   -3,   -1,  -2 )\n",
    "e1 <- c(\"f1s\", \"f1s\", \"f1s\", \"f1s\", \"f1s\", \"f1s\", \"f1s\", \"f1s\", \"f1s\", \"f1s\", \"f1s\", \"f1s\", \"f1s\") \n",
    "\n",
    "d2 <- c(   0,   -9,    0,    0,   13,    0,    0,    4,    2,   -1,   -8,   3)\n",
    "e2 <- c(\"f1e\", \"f1e\", \"f1e\", \"f1e\", \"f1e\", \"f1e\", \"f1e\", \"f1e\", \"f1e\", \"f1e\", \"f1e\", \"f1e\") \n",
    "\n",
    "d3 <- c(14,-1,9,8,-7,0,-8,0,0,-18,0)\n",
    "e3 <- c(\"f2_1s\",\"f2_1s\",\"f2_1s\",\"f2_1s\",\"f2_1s\",\"f2_1s\",\"f2_1s\",\"f2_1s\",\"f2_1s\",\"f2_1s\",\"f2_1s\")\n",
    "\n",
    "d4 <- c(     13,      10,      -3,     -11,      -9,       1,      -3,       3,     -18,      -6,       4,     0)\n",
    "e4 <- c(\"f2_1e\", \"f2_1e\", \"f2_1e\", \"f2_1e\", \"f2_1e\", \"f2_1e\", \"f2_1e\", \"f2_1e\", \"f2_1e\", \"f2_1e\", \"f2_1e\", \"f2_1e\") \n",
    "\n",
    "d5 <- c(3,4,0,4,3,1,0,-8,-4,5,11)\n",
    "e5 <- c(\"f2_2s\",\"f2_2s\",\"f2_2s\",\"f2_2s\",\"f2_2s\",\"f2_2s\",\"f2_2s\",\"f2_2s\",\"f2_2s\",\"f2_2s\",\"f2_2s\")\n",
    "\n",
    "d6 <- c(3,1,0,1,1,0,0,-9,-12,3,-2)\n",
    "e6 <- c(\"f2_2e\",\"f2_2e\",\"f2_2e\",\"f2_2e\",\"f2_2e\",\"f2_2e\",\"f2_2e\",\"f2_2e\",\"f2_2e\",\"f2_2e\",\"f2_2e\")\n",
    "\n",
    "d7 <- c(-3,-1,-7,11,-11,3,-13,-2)\n",
    "e7 <- c(\"f3_1s\",\"f3_1s\",\"f3_1s\",\"f3_1s\",\"f3_1s\",\"f3_1s\",\"f3_1s\",\"f3_1s\")\n",
    "\n",
    "d8 <- c(-7,0,-2,2,-7,2,-6,0)\n",
    "e8 <- c(\"f3_1e\",\"f3_1e\",\"f3_1e\",\"f3_1e\",\"f3_1e\",\"f3_1e\",\"f3_1e\",\"f3_1e\")\n",
    "\n",
    "d9 <- c(3,-12,4,-2,5)\n",
    "e9 <- c(\"f3_2s\",\"f3_2s\",\"f3_2s\",\"f3_2s\",\"f3_2s\")\n",
    "\n",
    "d10 <- c(-1,-3,0,-12)\n",
    "e10 <- c(\"f3_2e\",\"f3_2e\",\"f3_2e\",\"f3_2e\")\n",
    "\n",
    "d11 <- c(-11,-14,11,16,-57,19)\n",
    "e11 <- c(\"f4_1s\",\"f4_1s\",\"f4_1s\",\"f4_1s\",\"f4_1s\",\"f4_1s\")\n",
    "\n",
    "d12 <- c(-16,-10,-25,-1,0)\n",
    "e12 <- c(\"f4_1e\",\"f4_1e\",\"f4_1e\",\"f4_1e\",\"f4_1e\")\n",
    "\n",
    "d13 <- c(3,-4,-18,18)\n",
    "e13 <- c(\"f4_2s\",\"f4_2s\",\"f4_2s\",\"f4_2s\")\n",
    "\n",
    "d14 <- c(8,3,-13,16,0)\n",
    "e14 <- c(\"f4_2e\",\"f4_2e\",\"f4_2e\",\"f4_2e\",\"f4_2e\")\n",
    "\n",
    "# Concatenate the data\n",
    "d <- c(d1,d2,d3,d4,d5,d6,d7,d8,d9,d10,d11,d12,d13,d14)\n",
    "e <- c(e1,e2,e3,e4,e5,e6,e7,e8,e9,e10,e11,e12,e13,e14)\n",
    "\n",
    "# Create data frame\n",
    "mydata <- data.frame(d,e)\n",
    "# Add column names\n",
    "names(mydata) <- c(\"s1_s2\",\"pair\")\n",
    "\n",
    "mydata"
   ]
  },
  {
   "cell_type": "code",
   "execution_count": null,
   "metadata": {},
   "outputs": [],
   "source": [
    "# Boxplot for the distribution of lag-time\n",
    "library(ggplot2)\n",
    "library(ggbeeswarm)\n",
    "\n",
    "ggplot(mydata,aes(pair,s1_s2)) + geom_boxplot() + geom_quasirandom(alpha = 0.9) + theme_bw()\n",
    "\n",
    "### (Option) Export a plot as EPS file ##############################################\n",
    "# Change the plot line\n",
    "setEPS()\n",
    "postscript(\"whatever.eps\")\n",
    "plot(rnorm(100), main=\"Hey Some Data\")\n",
    "dev.off()\n",
    "#####################################################################################"
   ]
  },
  {
   "cell_type": "markdown",
   "metadata": {},
   "source": [
    "---"
   ]
  },
  {
   "cell_type": "markdown",
   "metadata": {},
   "source": [
    "# R version"
   ]
  },
  {
   "cell_type": "code",
   "execution_count": null,
   "metadata": {},
   "outputs": [],
   "source": [
    "version"
   ]
  },
  {
   "cell_type": "markdown",
   "metadata": {},
   "source": [
    "---\n",
    "# Read csv file and test correlation\n",
    "The csv file is generated by MATLAB code\n",
    "\n",
    "[READING IN DATA FROM AN EXTERNAL FILE | R LEARNING MODULES](https://stats.idre.ucla.edu/r/modules/reading-in-data-from-an-external-file/)"
   ]
  },
  {
   "cell_type": "code",
   "execution_count": null,
   "metadata": {},
   "outputs": [],
   "source": [
    "test <- read.table('D:\\\\wataru\\\\Recording_Analysis\\\\Bases_dmPFC-BLA\\\\2017-12-19_vm81a_base\\\\myFile.txt', sep = \",\")"
   ]
  },
  {
   "cell_type": "code",
   "execution_count": null,
   "metadata": {},
   "outputs": [],
   "source": [
    "ccf(test[,1], test[,3], lag = 200000, ylim = range(-1,1), type=\"correlation\")"
   ]
  },
  {
   "cell_type": "code",
   "execution_count": null,
   "metadata": {},
   "outputs": [],
   "source": [
    "testTS <- ts(test)"
   ]
  },
  {
   "cell_type": "code",
   "execution_count": null,
   "metadata": {},
   "outputs": [],
   "source": [
    "length(testTS)\n",
    "str(testTS)\n",
    "class(testTS)\n",
    "names(testTS)\n",
    "testTS"
   ]
  },
  {
   "cell_type": "code",
   "execution_count": null,
   "metadata": {},
   "outputs": [],
   "source": []
  },
  {
   "cell_type": "code",
   "execution_count": null,
   "metadata": {},
   "outputs": [],
   "source": [
    "test <- read.table('D:\\\\wataru\\\\Recording_Analysis\\\\Bases_dmPFC-BLA\\\\2017-12-19_vm81a_base\\\\myFile.txt', sep = \",\")"
   ]
  },
  {
   "cell_type": "code",
   "execution_count": null,
   "metadata": {},
   "outputs": [],
   "source": [
    "data (sales)  # parts of Example 11.2.2 from Brockwell and Davies (1991).\n",
    "sal <- diff (sales)\n",
    "led <- diff(lead)\n",
    "ccf (led, sal, lag = 20, ylim = range(-1,1), type=\"o\")"
   ]
  },
  {
   "cell_type": "code",
   "execution_count": null,
   "metadata": {},
   "outputs": [],
   "source": [
    "set.seed(123)\n",
    "x = arima.sim(model=list(0.2, 0, 0.5), n = 100)\n",
    "y = arima.sim(model=list(0.4, 0, 0.4), n = 100)\n",
    "ccf(x, y, type=\"correlation\")"
   ]
  },
  {
   "cell_type": "code",
   "execution_count": null,
   "metadata": {},
   "outputs": [],
   "source": [
    "readClipboard()"
   ]
  },
  {
   "cell_type": "code",
   "execution_count": null,
   "metadata": {},
   "outputs": [],
   "source": [
    "# setwd(\"D:/wataru/Recording_Analysis/Bases_dmPFC-BLA\")\n",
    "# theta <- scan('test.txt')\n",
    "# plot(theta)\n",
    "\n",
    "theta <- scan('D:\\\\wataru\\\\Recording_Analysis\\\\Bases_dmPFC-BLA\\\\2017-12-19_vm81a_base\\\\test.txt')\n",
    "plot(theta)"
   ]
  },
  {
   "cell_type": "markdown",
   "metadata": {},
   "source": [
    "---\n",
    "# Data Types\n",
    "https://www.statmethods.net/input/datatypes.html"
   ]
  },
  {
   "cell_type": "code",
   "execution_count": null,
   "metadata": {},
   "outputs": [],
   "source": [
    "######################################################\n",
    "# vectors\n",
    "a <- c(1,2,5.3,6,-2,4) # numeric vector\n",
    "b <- c(\"one\",\"two\",\"three\") # character vector\n",
    "c <- c(TRUE,TRUE,TRUE,FALSE,TRUE,FALSE) #logical vector\n",
    "\n",
    "# Identify rows, columns or elements using subscripts.\n",
    "a[4]\n",
    "a[c(2,4)]\n",
    "\n",
    "######################################################\n",
    "# matrix\n",
    "# generates 5 x 4 numeric matrix \n",
    "y<-matrix(1:20, nrow=5,ncol=4)\n",
    "# another example\n",
    "cells <- c(1,26,24,68)\n",
    "rnames <- c(\"R1\", \"R2\")\n",
    "cnames <- c(\"C1\", \"C2\") \n",
    "mymatrix <- matrix(cells, nrow=2, ncol=2, byrow=TRUE,\n",
    "  dimnames=list(rnames, cnames))\n",
    "\n",
    "# Identify rows, columns or elements using subscripts.\n",
    "x[,4] # 4th column of matrix\n",
    "x[3,] # 3rd row of matrix \n",
    "x[2:4,1:3] # rows 2,3,4 of columns 1,2,3\n",
    "\n",
    "######################################################\n",
    "# Data Frames\n",
    "# A data frame is more general than a matrix, in that different columns can have different\n",
    "# modes (numeric, character, factor, etc.). This is similar to SAS and SPSS datasets.\n",
    "\n",
    "d <- c(1,2,3,4)\n",
    "e <- c(\"red\", \"white\", \"red\", NA)\n",
    "f <- c(TRUE,TRUE,TRUE,FALSE)\n",
    "mydata <- data.frame(d,e,f)\n",
    "names(mydata) <- c(\"ID\",\"Color\",\"Passed\") # variable names\n",
    "\n",
    "# Identify rows, columns or elements using subscripts.\n",
    "mydata[2:3] # columns 3,4,5 of data frame\n",
    "mydata[c(\"ID\",\"Passed\")] # columns ID and Age from data frame\n",
    "mydata$Color # variable x1 in the data frame\n",
    "mydata[1,3]\n",
    "\n",
    "######################################################\n",
    "# The ls() function returns a vector listing lists all the objects (vectors, data frames, etc) in your current workspace.\n",
    "ls()\n",
    "\n",
    "# Remove these three objects\n",
    "rm(\"first_name\", \"last_name\", \"new_df\")\n",
    " \n",
    "# Or remove objects listed in a vector\n",
    "rm(list = c(\"first_name\", \"last_name\", \"new_df\"))\n",
    " \n",
    "# Or remove all files from your workspace\n",
    "rm(list = ls())\n",
    " \n",
    "# Or remove vectors programmatically.  Delete objects with underscore in name\n",
    "rm(list = ls()[grepl(\"_\", ls())])\n",
    "\n",
    "######################################################\n",
    "# Lists\n",
    "# An ordered collection of objects (components). A list allows you to gather a variety of \n",
    "# (possibly unrelated) objects under one name.\n",
    "# example of a list with 4 components - \n",
    "# a string, a numeric vector, a matrix, and a scaler \n",
    "\n",
    "w <- list(name=\"Fred\", mynumbers=a, mymatrix=y, age=5.3)\n",
    "\n",
    "# example of a list containing two lists\n",
    "# It looks concatenate the two lists\n",
    "v <- c(w,w)\n",
    "\n",
    "# Identify elements of a list using the [[]] convention.\n",
    "mylist[[2]] # 2nd component of the list\n",
    "mylist[[\"mynumbers\"]] # component named mynumbers in list\n",
    "\n",
    "\n",
    "\n",
    "######################################################\n",
    "# Factors\n",
    "# Tell R that a variable is nominal by making it a factor. The factor stores the nominal\n",
    "# values as a vector of integers in the range [ 1... k ] (where k is the number of unique \n",
    "# values in the nominal variable), and an internal vector of character strings (the original \n",
    "# values) mapped to these integers.\n",
    "\n",
    "# variable gender with 20 \"male\" entries and \n",
    "# 30 \"female\" entries \n",
    "gender <- c(rep(\"male\",20), rep(\"female\", 30)) \n",
    "gender <- factor(gender) \n",
    "# stores gender as 20 1s and 30 2s and associates\n",
    "# 1=female, 2=male internally (alphabetically)\n",
    "# R now treats gender as a nominal variable \n",
    "summary(gender)\n"
   ]
  },
  {
   "cell_type": "markdown",
   "metadata": {},
   "source": [
    "# Reading file\n",
    "\n",
    "test2.csv\n",
    "```\n",
    " prgtype gender  id ses schtyp level\n",
    " general      0  70   4      1     1\n",
    "  vocati      1 121   4      2     1\n",
    " general      0  86   4      3     1\n",
    "  vocati      0 141   4      3     1\n",
    "academic      0 172   4      2     1\n",
    "academic      0 113   4      2     1\n",
    " general      0  50   3      2     1\n",
    "academic      0  11   1      2     1\n",
    "```\n",
    "\n"
   ]
  }
 ],
 "metadata": {
  "kernelspec": {
   "display_name": "R",
   "language": "R",
   "name": "ir"
  },
  "language_info": {
   "codemirror_mode": "r",
   "file_extension": ".r",
   "mimetype": "text/x-r-source",
   "name": "R",
   "pygments_lexer": "r",
   "version": "3.6.3"
  }
 },
 "nbformat": 4,
 "nbformat_minor": 4
}
