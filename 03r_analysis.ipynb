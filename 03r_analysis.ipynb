{
 "cells": [
  {
   "cell_type": "markdown",
   "metadata": {},
   "source": [
    "# Permutation analysis\n",
    "#### Table of contents\n"
   ]
  },
  {
   "cell_type": "markdown",
   "metadata": {},
   "source": [
    "---\n",
    "## 0. Before starting\n",
    "#### 0-1. Update R\n",
    "1. Download binaries (Run R-3.X.X-win.exe) from https://www.r-project.org/.\n",
    "2. Run R-3.X.X-win.exe\n",
    "3. Set system path.\n",
    "    - Type \"env\" in the Start button and select \"Edit the system environment variables\".\n",
    "    - Push \"Environment Variables...\" button.\n",
    "    - Change \"Path\" variable.\n",
    "4. Install IRkernel for Jupyter\n",
    "    - in Anaconda prompt (Admin)\n",
    "    ```\n",
    "    > R\n",
    "    > install.packages('IRkernel')\n",
    "    > IRkernel::installspec()\n",
    "    ```\n",
    "    \n",
    "#### 0-2. Install required packages (ggpubr)\n",
    "If ggpubr is not install, open command window.<BR>\n",
    "\n",
    "**\\<on Win10\\ as regular user>**\n",
    "```\n",
    "C:\\Users\\User>R\n",
    "> install.packages(\"ggpubr\")\n",
    "```\n",
    "If this is the first time to install packages, it will ask if personal folder is created. Answer with yes. For additional installtions, you do not need use command window, but run install.pacages command in cell as below.\n",
    "\n",
    "**\\<on Ubuntu\\>**\n",
    "```\n",
    "$ sudo R\n",
    "> install.packages(\"ggpubr\")\n",
    "```\n",
    "\n",
    "**\\<using Jupyter\\>**"
   ]
  },
  {
   "cell_type": "code",
   "execution_count": null,
   "metadata": {},
   "outputs": [],
   "source": [
    "install.packages(\"magrittr\")"
   ]
  },
  {
   "cell_type": "markdown",
   "metadata": {},
   "source": [
    "#### 0-3. Check R version"
   ]
  },
  {
   "cell_type": "code",
   "execution_count": null,
   "metadata": {},
   "outputs": [],
   "source": [
    "version"
   ]
  },
  {
   "cell_type": "markdown",
   "metadata": {},
   "source": [
    "---\n",
    "## 1. Load data from CSV file"
   ]
  },
  {
   "cell_type": "markdown",
   "metadata": {},
   "source": [
    "#### (Optional) Install packages if not installed."
   ]
  },
  {
   "cell_type": "code",
   "execution_count": null,
   "metadata": {},
   "outputs": [],
   "source": [
    "# Install packages\n",
    "install.packages(\"magrittr\")\n",
    "install.packages(\"stringr\") # https://www.rdocumentation.org/packages/stringr/versions/1.4.0"
   ]
  },
  {
   "cell_type": "code",
   "execution_count": 1,
   "metadata": {},
   "outputs": [],
   "source": [
    "# Load required library\n",
    "library(magrittr)\n",
    "library(stringr)\n",
    "library(ggplot2)\n",
    "library(ggpubr) # ggplot2 based publication ready plots\n",
    "source(\"synchro_freeze.R\")"
   ]
  },
  {
   "cell_type": "code",
   "execution_count": 2,
   "metadata": {},
   "outputs": [
    {
     "data": {
      "text/html": [
       "<table>\n",
       "<caption>A data.frame: 2 × 13</caption>\n",
       "<thead>\n",
       "\t<tr><th></th><th scope=col>folder_videoname</th><th scope=col>fz_start_sub1</th><th scope=col>fz_end_sub1</th><th scope=col>fz_start_sub2</th><th scope=col>fz_end_sub2</th><th scope=col>fz_sub1</th><th scope=col>fz_sub2</th><th scope=col>fz_overlap</th><th scope=col>cohen_d</th><th scope=col>lagt_start_s1_s2</th><th scope=col>lagt_start_s2_s1</th><th scope=col>lagt_end_s1_s2</th><th scope=col>lagt_end_s2_s1</th></tr>\n",
       "\t<tr><th></th><th scope=col>&lt;fct&gt;</th><th scope=col>&lt;fct&gt;</th><th scope=col>&lt;fct&gt;</th><th scope=col>&lt;fct&gt;</th><th scope=col>&lt;fct&gt;</th><th scope=col>&lt;dbl&gt;</th><th scope=col>&lt;dbl&gt;</th><th scope=col>&lt;dbl&gt;</th><th scope=col>&lt;dbl&gt;</th><th scope=col>&lt;list&gt;</th><th scope=col>&lt;list&gt;</th><th scope=col>&lt;list&gt;</th><th scope=col>&lt;list&gt;</th></tr>\n",
       "</thead>\n",
       "<tbody>\n",
       "\t<tr><th scope=row>1</th><td>20200419-134553_female pair1</td><td>[256 273 278 365 455 465 509 531 552 560 567 597 607 651 664 699]</td><td>[271 276 340 385 459 491 518 549 558 564 589 603 637 660 688 711]</td><td>[256 389 410 431 452 465 493 523 543 563 586 592 603 623 642 654 665 677 701]</td><td>[340 394 424 448 459 491 505 533 558 582 589 599 619 635 651 661 673 696 708]</td><td>59.58333</td><td>65.83333</td><td>46.04167</td><td>2.800571</td><td>0, -17, -22, 24, -3, 0, 14, -8, -9, 3, -4, -5, -4, 3, 1, 2</td><td>0, -24, -45, 24, 3, 0, 16, 8, 9, -3, 11, 5, 4, -16, 9, -3, -1, -13, -2</td><td>69, 64, 0, 9, 0, 0, -13, 9, 0, -6, 0, -4, -2, 1, 8, -3</td><td>0, -9, 35, 11, 0, 0, 13, -15, 0, 7, 0, 4, -16, 2, 9, -1, -13, -8, 3</td></tr>\n",
       "\t<tr><th scope=row>2</th><td>20200419-134753_female pair2</td><td>[256 273 278 365 455 465 509 531 552 560 567 597 607 651 664 699]</td><td>[271 276 340 385 459 491 518 549 558 564 589 603 637 660 688 711]</td><td>[256 389 410 431 452 465 493 523 543 563 586]                                </td><td>[340 394 424 448 459 491 505 533 558 582 589]                                </td><td>59.58333</td><td>46.45833</td><td>32.08333</td><td>1.226969</td><td>0, -17, -22, 24, -3, 0, 14, -8, -9, 3, -4, -11, -21, -65, -78, -113</td><td>0, -24, -45, 24, 3, 0, 16, 8, 9, -3, 11</td><td>69, 64, 0, 9, 0, 0, -13, 9, 0, -6, 0, -14, -48, -71, -99, -122</td><td>0, -9, 35, 11, 0, 0, 13, -15, 0, 7, 0</td></tr>\n",
       "</tbody>\n",
       "</table>\n"
      ],
      "text/latex": [
       "A data.frame: 2 × 13\n",
       "\\begin{tabular}{r|lllllllllllll}\n",
       "  & folder\\_videoname & fz\\_start\\_sub1 & fz\\_end\\_sub1 & fz\\_start\\_sub2 & fz\\_end\\_sub2 & fz\\_sub1 & fz\\_sub2 & fz\\_overlap & cohen\\_d & lagt\\_start\\_s1\\_s2 & lagt\\_start\\_s2\\_s1 & lagt\\_end\\_s1\\_s2 & lagt\\_end\\_s2\\_s1\\\\\n",
       "  & <fct> & <fct> & <fct> & <fct> & <fct> & <dbl> & <dbl> & <dbl> & <dbl> & <list> & <list> & <list> & <list>\\\\\n",
       "\\hline\n",
       "\t1 & 20200419-134553\\_female pair1 & {[}256 273 278 365 455 465 509 531 552 560 567 597 607 651 664 699{]} & {[}271 276 340 385 459 491 518 549 558 564 589 603 637 660 688 711{]} & {[}256 389 410 431 452 465 493 523 543 563 586 592 603 623 642 654 665 677 701{]} & {[}340 394 424 448 459 491 505 533 558 582 589 599 619 635 651 661 673 696 708{]} & 59.58333 & 65.83333 & 46.04167 & 2.800571 & 0, -17, -22, 24, -3, 0, 14, -8, -9, 3, -4, -5, -4, 3, 1, 2 & 0, -24, -45, 24, 3, 0, 16, 8, 9, -3, 11, 5, 4, -16, 9, -3, -1, -13, -2 & 69, 64, 0, 9, 0, 0, -13, 9, 0, -6, 0, -4, -2, 1, 8, -3 & 0, -9, 35, 11, 0, 0, 13, -15, 0, 7, 0, 4, -16, 2, 9, -1, -13, -8, 3\\\\\n",
       "\t2 & 20200419-134753\\_female pair2 & {[}256 273 278 365 455 465 509 531 552 560 567 597 607 651 664 699{]} & {[}271 276 340 385 459 491 518 549 558 564 589 603 637 660 688 711{]} & {[}256 389 410 431 452 465 493 523 543 563 586{]}                                 & {[}340 394 424 448 459 491 505 533 558 582 589{]}                                 & 59.58333 & 46.45833 & 32.08333 & 1.226969 & 0, -17, -22, 24, -3, 0, 14, -8, -9, 3, -4, -11, -21, -65, -78, -113 & 0, -24, -45, 24, 3, 0, 16, 8, 9, -3, 11 & 69, 64, 0, 9, 0, 0, -13, 9, 0, -6, 0, -14, -48, -71, -99, -122 & 0, -9, 35, 11, 0, 0, 13, -15, 0, 7, 0\\\\\n",
       "\\end{tabular}\n"
      ],
      "text/markdown": [
       "\n",
       "A data.frame: 2 × 13\n",
       "\n",
       "| <!--/--> | folder_videoname &lt;fct&gt; | fz_start_sub1 &lt;fct&gt; | fz_end_sub1 &lt;fct&gt; | fz_start_sub2 &lt;fct&gt; | fz_end_sub2 &lt;fct&gt; | fz_sub1 &lt;dbl&gt; | fz_sub2 &lt;dbl&gt; | fz_overlap &lt;dbl&gt; | cohen_d &lt;dbl&gt; | lagt_start_s1_s2 &lt;list&gt; | lagt_start_s2_s1 &lt;list&gt; | lagt_end_s1_s2 &lt;list&gt; | lagt_end_s2_s1 &lt;list&gt; |\n",
       "|---|---|---|---|---|---|---|---|---|---|---|---|---|---|\n",
       "| 1 | 20200419-134553_female pair1 | [256 273 278 365 455 465 509 531 552 560 567 597 607 651 664 699] | [271 276 340 385 459 491 518 549 558 564 589 603 637 660 688 711] | [256 389 410 431 452 465 493 523 543 563 586 592 603 623 642 654 665 677 701] | [340 394 424 448 459 491 505 533 558 582 589 599 619 635 651 661 673 696 708] | 59.58333 | 65.83333 | 46.04167 | 2.800571 | 0, -17, -22, 24, -3, 0, 14, -8, -9, 3, -4, -5, -4, 3, 1, 2 | 0, -24, -45, 24, 3, 0, 16, 8, 9, -3, 11, 5, 4, -16, 9, -3, -1, -13, -2 | 69, 64, 0, 9, 0, 0, -13, 9, 0, -6, 0, -4, -2, 1, 8, -3 | 0, -9, 35, 11, 0, 0, 13, -15, 0, 7, 0, 4, -16, 2, 9, -1, -13, -8, 3 |\n",
       "| 2 | 20200419-134753_female pair2 | [256 273 278 365 455 465 509 531 552 560 567 597 607 651 664 699] | [271 276 340 385 459 491 518 549 558 564 589 603 637 660 688 711] | [256 389 410 431 452 465 493 523 543 563 586]                                 | [340 394 424 448 459 491 505 533 558 582 589]                                 | 59.58333 | 46.45833 | 32.08333 | 1.226969 | 0, -17, -22, 24, -3, 0, 14, -8, -9, 3, -4, -11, -21, -65, -78, -113 | 0, -24, -45, 24, 3, 0, 16, 8, 9, -3, 11 | 69, 64, 0, 9, 0, 0, -13, 9, 0, -6, 0, -14, -48, -71, -99, -122 | 0, -9, 35, 11, 0, 0, 13, -15, 0, 7, 0 |\n",
       "\n"
      ],
      "text/plain": [
       "  folder_videoname            \n",
       "1 20200419-134553_female pair1\n",
       "2 20200419-134753_female pair2\n",
       "  fz_start_sub1                                                    \n",
       "1 [256 273 278 365 455 465 509 531 552 560 567 597 607 651 664 699]\n",
       "2 [256 273 278 365 455 465 509 531 552 560 567 597 607 651 664 699]\n",
       "  fz_end_sub1                                                      \n",
       "1 [271 276 340 385 459 491 518 549 558 564 589 603 637 660 688 711]\n",
       "2 [271 276 340 385 459 491 518 549 558 564 589 603 637 660 688 711]\n",
       "  fz_start_sub2                                                                \n",
       "1 [256 389 410 431 452 465 493 523 543 563 586 592 603 623 642 654 665 677 701]\n",
       "2 [256 389 410 431 452 465 493 523 543 563 586]                                \n",
       "  fz_end_sub2                                                                  \n",
       "1 [340 394 424 448 459 491 505 533 558 582 589 599 619 635 651 661 673 696 708]\n",
       "2 [340 394 424 448 459 491 505 533 558 582 589]                                \n",
       "  fz_sub1  fz_sub2  fz_overlap cohen_d \n",
       "1 59.58333 65.83333 46.04167   2.800571\n",
       "2 59.58333 46.45833 32.08333   1.226969\n",
       "  lagt_start_s1_s2                                                   \n",
       "1 0, -17, -22, 24, -3, 0, 14, -8, -9, 3, -4, -5, -4, 3, 1, 2         \n",
       "2 0, -17, -22, 24, -3, 0, 14, -8, -9, 3, -4, -11, -21, -65, -78, -113\n",
       "  lagt_start_s2_s1                                                      \n",
       "1 0, -24, -45, 24, 3, 0, 16, 8, 9, -3, 11, 5, 4, -16, 9, -3, -1, -13, -2\n",
       "2 0, -24, -45, 24, 3, 0, 16, 8, 9, -3, 11                               \n",
       "  lagt_end_s1_s2                                                \n",
       "1 69, 64, 0, 9, 0, 0, -13, 9, 0, -6, 0, -4, -2, 1, 8, -3        \n",
       "2 69, 64, 0, 9, 0, 0, -13, 9, 0, -6, 0, -14, -48, -71, -99, -122\n",
       "  lagt_end_s2_s1                                                     \n",
       "1 0, -9, 35, 11, 0, 0, 13, -15, 0, 7, 0, 4, -16, 2, 9, -1, -13, -8, 3\n",
       "2 0, -9, 35, 11, 0, 0, 13, -15, 0, 7, 0                              "
      ]
     },
     "metadata": {},
     "output_type": "display_data"
    }
   ],
   "source": [
    "# R accepts both way to describe path.\n",
    "# filename <- \"C:\\\\Users\\\\User\\\\Desktop\\\\project\\\\summary3.csv\"\n",
    "filename = \"C:/Users/User/Desktop/project/summary3.csv\"\n",
    "\n",
    "# Load permutated % overlap freezing as csv file\n",
    "test = read.table(file=filename,header=TRUE, sep=\",\")\n",
    "\n",
    "# Convert strings to integer list\n",
    "test = conv_str2list(test)\n",
    "\n",
    "# Print the first 10 rows of the data\n",
    "head(test,10)"
   ]
  },
  {
   "cell_type": "markdown",
   "metadata": {},
   "source": [
    "---\n",
    "## 1-2. Distribution of lagtime for onset and offset of freezing\n",
    "## 2-1. Load lagtime csv file and visualize"
   ]
  },
  {
   "cell_type": "code",
   "execution_count": null,
   "metadata": {
    "scrolled": true
   },
   "outputs": [],
   "source": [
    "# Load csv file\n",
    "# test <- read.csv(file=\"C:\\\\Users\\\\User\\\\Dropbox\\\\Shared w am\\\\2019-02-19 R03 Brain-to-brain synchrony\\\\fig\\\\fear_express_video\\\\freeze.csv\",header=TRUE, sep=\",\")\n",
    "test <- read.csv(file=\"freeze.csv\",header=TRUE, sep=\",\")\n",
    "\n",
    "test"
   ]
  },
  {
   "cell_type": "code",
   "execution_count": null,
   "metadata": {},
   "outputs": [],
   "source": [
    "# Plot the distribution\n",
    "library(ggplot2)\n",
    "library(ggbeeswarm)\n",
    "\n",
    "ggplot(test,aes(type,lagtime)) +\n",
    " geom_boxplot() +\n",
    " geom_quasirandom(alpha = 0.2) +\n",
    " theme_bw()\n",
    "\n",
    "# Colored Histogram with Different Number of Bins\n",
    "subTest = test[test$type=='onset',]\n",
    "hist(subTest$lagtime, breaks=seq(-50,50,1), col=\"blue\", xlim=c(-50,50), ylim=c(0,60))\n",
    "\n",
    "subTest = test[test$type=='offset',]\n",
    "hist(subTest$lagtime, breaks=seq(-50,50,1), col=\"blue\", xlim=c(-50,50), ylim=c(0,60))\n",
    "\n",
    "\n",
    "### (Option) Export a plot as EPS file ##############################################\n",
    "# Change the plot line\n",
    "setEPS()\n",
    "postscript(\"whatever.eps\")\n",
    "plot(rnorm(100), main=\"Hey Some Data\")\n",
    "dev.off()\n",
    "#####################################################################################\n"
   ]
  },
  {
   "cell_type": "markdown",
   "metadata": {},
   "source": [
    "## 2-2. Test Coefficients of Variation from multiple samples\n",
    "https://cran.r-project.org/web/packages/cvequality/vignettes/how_to_test_CVs.html\n",
    "\n",
    "If ggbeeswarm is not install, open terminal window and install it.\n",
    "```\n",
    "$ sudo R\n",
    "> install.packages(\"ggbeeswarm\")\n",
    "> install.packages(\"cvequality\")\n",
    "```"
   ]
  },
  {
   "cell_type": "code",
   "execution_count": null,
   "metadata": {
    "scrolled": true
   },
   "outputs": [],
   "source": [
    "# Load required library\n",
    "library(cvequality)"
   ]
  },
  {
   "cell_type": "code",
   "execution_count": null,
   "metadata": {
    "scrolled": true
   },
   "outputs": [],
   "source": [
    "test1 <- with(test,asymptotic_test(lagtime,type))\n",
    "test1"
   ]
  },
  {
   "cell_type": "code",
   "execution_count": null,
   "metadata": {
    "jupyter": {
     "source_hidden": true
    },
    "scrolled": true
   },
   "outputs": [],
   "source": [
    "test2 <- with(test,mslr_test(nr = 1e4, lagtime,type))\n",
    "test2"
   ]
  },
  {
   "cell_type": "markdown",
   "metadata": {},
   "source": [
    "## 1-2. One-Sample Wilcoxon Signed Rank Test in R\n",
    "http://www.sthda.com/english/wiki/one-sample-wilcoxon-signed-rank-test-in-r"
   ]
  },
  {
   "cell_type": "code",
   "execution_count": null,
   "metadata": {},
   "outputs": [],
   "source": [
    "# We want to know, if the average of the data differs from mu (two-tailed test).\n",
    "\n",
    "# One-sample wilcoxon test\n",
    "res <- wilcox.test(test$V1, mu = 44)\n",
    "# Printing the results\n",
    "res"
   ]
  },
  {
   "cell_type": "markdown",
   "metadata": {},
   "source": [
    "---\n",
    "# 2. Distribution of lagtime for onset and offset of freezing\n",
    "## 2-1. Load lagtime csv file and visualize"
   ]
  },
  {
   "cell_type": "code",
   "execution_count": null,
   "metadata": {
    "scrolled": true
   },
   "outputs": [],
   "source": [
    "# Load csv file\n",
    "# test <- read.csv(file=\"C:\\\\Users\\\\User\\\\Dropbox\\\\Shared w am\\\\2019-02-19 R03 Brain-to-brain synchrony\\\\fig\\\\fear_express_video\\\\freeze.csv\",header=TRUE, sep=\",\")\n",
    "test <- read.csv(file=\"freeze.csv\",header=TRUE, sep=\",\")\n",
    "\n",
    "test"
   ]
  },
  {
   "cell_type": "code",
   "execution_count": null,
   "metadata": {},
   "outputs": [],
   "source": [
    "# Plot the distribution\n",
    "library(ggplot2)\n",
    "library(ggbeeswarm)\n",
    "\n",
    "ggplot(test,aes(type,lagtime)) +\n",
    " geom_boxplot() +\n",
    " geom_quasirandom(alpha = 0.2) +\n",
    " theme_bw()\n",
    "\n",
    "# Colored Histogram with Different Number of Bins\n",
    "subTest = test[test$type=='onset',]\n",
    "hist(subTest$lagtime, breaks=seq(-50,50,1), col=\"blue\", xlim=c(-50,50), ylim=c(0,60))\n",
    "\n",
    "subTest = test[test$type=='offset',]\n",
    "hist(subTest$lagtime, breaks=seq(-50,50,1), col=\"blue\", xlim=c(-50,50), ylim=c(0,60))\n",
    "\n",
    "\n",
    "### (Option) Export a plot as EPS file ##############################################\n",
    "# Change the plot line\n",
    "setEPS()\n",
    "postscript(\"whatever.eps\")\n",
    "plot(rnorm(100), main=\"Hey Some Data\")\n",
    "dev.off()\n",
    "#####################################################################################\n"
   ]
  },
  {
   "cell_type": "markdown",
   "metadata": {},
   "source": [
    "## 2-2. Test Coefficients of Variation from multiple samples\n",
    "https://cran.r-project.org/web/packages/cvequality/vignettes/how_to_test_CVs.html\n",
    "\n",
    "If ggbeeswarm is not install, open terminal window and install it.\n",
    "```\n",
    "$ sudo R\n",
    "> install.packages(\"ggbeeswarm\")\n",
    "> install.packages(\"cvequality\")\n",
    "```"
   ]
  },
  {
   "cell_type": "code",
   "execution_count": null,
   "metadata": {
    "scrolled": true
   },
   "outputs": [],
   "source": [
    "# Load required library\n",
    "library(cvequality)"
   ]
  },
  {
   "cell_type": "code",
   "execution_count": null,
   "metadata": {
    "scrolled": true
   },
   "outputs": [],
   "source": [
    "test1 <- with(test,asymptotic_test(lagtime,type))\n",
    "test1"
   ]
  },
  {
   "cell_type": "code",
   "execution_count": null,
   "metadata": {
    "jupyter": {
     "source_hidden": true
    },
    "scrolled": true
   },
   "outputs": [],
   "source": [
    "test2 <- with(test,mslr_test(nr = 1e4, lagtime,type))\n",
    "test2"
   ]
  },
  {
   "cell_type": "markdown",
   "metadata": {},
   "source": [
    "---\n",
    "# 3. Boxplot for the distribution of lagtime for each animal pair."
   ]
  },
  {
   "cell_type": "code",
   "execution_count": null,
   "metadata": {},
   "outputs": [],
   "source": [
    "# Raw data for lag-time\n",
    "# \"s\" stands for onset and \"e\" stands for offset of freezing\n",
    "d1 <- c( 0,    -24,    3,    0,   16,    8,    9,   -3,    5,    4,   -3,   -1,  -2 )\n",
    "e1 <- c(\"f1s\", \"f1s\", \"f1s\", \"f1s\", \"f1s\", \"f1s\", \"f1s\", \"f1s\", \"f1s\", \"f1s\", \"f1s\", \"f1s\", \"f1s\") \n",
    "\n",
    "d2 <- c(   0,   -9,    0,    0,   13,    0,    0,    4,    2,   -1,   -8,   3)\n",
    "e2 <- c(\"f1e\", \"f1e\", \"f1e\", \"f1e\", \"f1e\", \"f1e\", \"f1e\", \"f1e\", \"f1e\", \"f1e\", \"f1e\", \"f1e\") \n",
    "\n",
    "d3 <- c(14,-1,9,8,-7,0,-8,0,0,-18,0)\n",
    "e3 <- c(\"f2_1s\",\"f2_1s\",\"f2_1s\",\"f2_1s\",\"f2_1s\",\"f2_1s\",\"f2_1s\",\"f2_1s\",\"f2_1s\",\"f2_1s\",\"f2_1s\")\n",
    "\n",
    "d4 <- c(     13,      10,      -3,     -11,      -9,       1,      -3,       3,     -18,      -6,       4,     0)\n",
    "e4 <- c(\"f2_1e\", \"f2_1e\", \"f2_1e\", \"f2_1e\", \"f2_1e\", \"f2_1e\", \"f2_1e\", \"f2_1e\", \"f2_1e\", \"f2_1e\", \"f2_1e\", \"f2_1e\") \n",
    "\n",
    "d5 <- c(3,4,0,4,3,1,0,-8,-4,5,11)\n",
    "e5 <- c(\"f2_2s\",\"f2_2s\",\"f2_2s\",\"f2_2s\",\"f2_2s\",\"f2_2s\",\"f2_2s\",\"f2_2s\",\"f2_2s\",\"f2_2s\",\"f2_2s\")\n",
    "\n",
    "d6 <- c(3,1,0,1,1,0,0,-9,-12,3,-2)\n",
    "e6 <- c(\"f2_2e\",\"f2_2e\",\"f2_2e\",\"f2_2e\",\"f2_2e\",\"f2_2e\",\"f2_2e\",\"f2_2e\",\"f2_2e\",\"f2_2e\",\"f2_2e\")\n",
    "\n",
    "d7 <- c(-3,-1,-7,11,-11,3,-13,-2)\n",
    "e7 <- c(\"f3_1s\",\"f3_1s\",\"f3_1s\",\"f3_1s\",\"f3_1s\",\"f3_1s\",\"f3_1s\",\"f3_1s\")\n",
    "\n",
    "d8 <- c(-7,0,-2,2,-7,2,-6,0)\n",
    "e8 <- c(\"f3_1e\",\"f3_1e\",\"f3_1e\",\"f3_1e\",\"f3_1e\",\"f3_1e\",\"f3_1e\",\"f3_1e\")\n",
    "\n",
    "d9 <- c(3,-12,4,-2,5)\n",
    "e9 <- c(\"f3_2s\",\"f3_2s\",\"f3_2s\",\"f3_2s\",\"f3_2s\")\n",
    "\n",
    "d10 <- c(-1,-3,0,-12)\n",
    "e10 <- c(\"f3_2e\",\"f3_2e\",\"f3_2e\",\"f3_2e\")\n",
    "\n",
    "d11 <- c(-11,-14,11,16,-57,19)\n",
    "e11 <- c(\"f4_1s\",\"f4_1s\",\"f4_1s\",\"f4_1s\",\"f4_1s\",\"f4_1s\")\n",
    "\n",
    "d12 <- c(-16,-10,-25,-1,0)\n",
    "e12 <- c(\"f4_1e\",\"f4_1e\",\"f4_1e\",\"f4_1e\",\"f4_1e\")\n",
    "\n",
    "d13 <- c(3,-4,-18,18)\n",
    "e13 <- c(\"f4_2s\",\"f4_2s\",\"f4_2s\",\"f4_2s\")\n",
    "\n",
    "d14 <- c(8,3,-13,16,0)\n",
    "e14 <- c(\"f4_2e\",\"f4_2e\",\"f4_2e\",\"f4_2e\",\"f4_2e\")\n",
    "\n",
    "# Concatenate the data\n",
    "d <- c(d1,d2,d3,d4,d5,d6,d7,d8,d9,d10,d11,d12,d13,d14)\n",
    "e <- c(e1,e2,e3,e4,e5,e6,e7,e8,e9,e10,e11,e12,e13,e14)\n",
    "\n",
    "# Create data frame\n",
    "mydata <- data.frame(d,e)\n",
    "# Add column names\n",
    "names(mydata) <- c(\"s1_s2\",\"pair\")\n",
    "\n",
    "mydata"
   ]
  },
  {
   "cell_type": "code",
   "execution_count": null,
   "metadata": {},
   "outputs": [],
   "source": [
    "# Boxplot for the distribution of lag-time\n",
    "library(ggplot2)\n",
    "library(ggbeeswarm)\n",
    "\n",
    "ggplot(mydata,aes(pair,s1_s2)) + geom_boxplot() + geom_quasirandom(alpha = 0.9) + theme_bw()\n",
    "\n",
    "### (Option) Export a plot as EPS file ##############################################\n",
    "# Change the plot line\n",
    "setEPS()\n",
    "postscript(\"whatever.eps\")\n",
    "plot(rnorm(100), main=\"Hey Some Data\")\n",
    "dev.off()\n",
    "#####################################################################################"
   ]
  },
  {
   "cell_type": "markdown",
   "metadata": {},
   "source": [
    "---"
   ]
  },
  {
   "cell_type": "markdown",
   "metadata": {},
   "source": [
    "# R version"
   ]
  },
  {
   "cell_type": "code",
   "execution_count": null,
   "metadata": {},
   "outputs": [],
   "source": [
    "version"
   ]
  },
  {
   "cell_type": "markdown",
   "metadata": {},
   "source": [
    "---\n",
    "# Read csv file and test correlation\n",
    "The csv file is generated by MATLAB code\n",
    "\n",
    "[READING IN DATA FROM AN EXTERNAL FILE | R LEARNING MODULES](https://stats.idre.ucla.edu/r/modules/reading-in-data-from-an-external-file/)"
   ]
  },
  {
   "cell_type": "code",
   "execution_count": null,
   "metadata": {},
   "outputs": [],
   "source": [
    "test <- read.table('D:\\\\wataru\\\\Recording_Analysis\\\\Bases_dmPFC-BLA\\\\2017-12-19_vm81a_base\\\\myFile.txt', sep = \",\")"
   ]
  },
  {
   "cell_type": "code",
   "execution_count": null,
   "metadata": {},
   "outputs": [],
   "source": [
    "ccf(test[,1], test[,3], lag = 200000, ylim = range(-1,1), type=\"correlation\")"
   ]
  },
  {
   "cell_type": "code",
   "execution_count": null,
   "metadata": {},
   "outputs": [],
   "source": [
    "testTS <- ts(test)"
   ]
  },
  {
   "cell_type": "code",
   "execution_count": null,
   "metadata": {},
   "outputs": [],
   "source": [
    "length(testTS)\n",
    "str(testTS)\n",
    "class(testTS)\n",
    "names(testTS)\n",
    "testTS"
   ]
  },
  {
   "cell_type": "code",
   "execution_count": null,
   "metadata": {},
   "outputs": [],
   "source": []
  },
  {
   "cell_type": "code",
   "execution_count": null,
   "metadata": {},
   "outputs": [],
   "source": [
    "test <- read.table('D:\\\\wataru\\\\Recording_Analysis\\\\Bases_dmPFC-BLA\\\\2017-12-19_vm81a_base\\\\myFile.txt', sep = \",\")"
   ]
  },
  {
   "cell_type": "code",
   "execution_count": null,
   "metadata": {},
   "outputs": [],
   "source": [
    "data (sales)  # parts of Example 11.2.2 from Brockwell and Davies (1991).\n",
    "sal <- diff (sales)\n",
    "led <- diff(lead)\n",
    "ccf (led, sal, lag = 20, ylim = range(-1,1), type=\"o\")"
   ]
  },
  {
   "cell_type": "code",
   "execution_count": null,
   "metadata": {},
   "outputs": [],
   "source": [
    "set.seed(123)\n",
    "x = arima.sim(model=list(0.2, 0, 0.5), n = 100)\n",
    "y = arima.sim(model=list(0.4, 0, 0.4), n = 100)\n",
    "ccf(x, y, type=\"correlation\")"
   ]
  },
  {
   "cell_type": "code",
   "execution_count": null,
   "metadata": {},
   "outputs": [],
   "source": [
    "readClipboard()"
   ]
  },
  {
   "cell_type": "code",
   "execution_count": null,
   "metadata": {},
   "outputs": [],
   "source": [
    "# setwd(\"D:/wataru/Recording_Analysis/Bases_dmPFC-BLA\")\n",
    "# theta <- scan('test.txt')\n",
    "# plot(theta)\n",
    "\n",
    "theta <- scan('D:\\\\wataru\\\\Recording_Analysis\\\\Bases_dmPFC-BLA\\\\2017-12-19_vm81a_base\\\\test.txt')\n",
    "plot(theta)"
   ]
  },
  {
   "cell_type": "markdown",
   "metadata": {},
   "source": [
    "---\n",
    "# Data Types\n",
    "https://www.statmethods.net/input/datatypes.html"
   ]
  },
  {
   "cell_type": "code",
   "execution_count": null,
   "metadata": {},
   "outputs": [],
   "source": [
    "######################################################\n",
    "# vectors\n",
    "a <- c(1,2,5.3,6,-2,4) # numeric vector\n",
    "b <- c(\"one\",\"two\",\"three\") # character vector\n",
    "c <- c(TRUE,TRUE,TRUE,FALSE,TRUE,FALSE) #logical vector\n",
    "\n",
    "# Identify rows, columns or elements using subscripts.\n",
    "a[4]\n",
    "a[c(2,4)]\n",
    "\n",
    "######################################################\n",
    "# matrix\n",
    "# generates 5 x 4 numeric matrix \n",
    "y<-matrix(1:20, nrow=5,ncol=4)\n",
    "# another example\n",
    "cells <- c(1,26,24,68)\n",
    "rnames <- c(\"R1\", \"R2\")\n",
    "cnames <- c(\"C1\", \"C2\") \n",
    "mymatrix <- matrix(cells, nrow=2, ncol=2, byrow=TRUE,\n",
    "  dimnames=list(rnames, cnames))\n",
    "\n",
    "# Identify rows, columns or elements using subscripts.\n",
    "x[,4] # 4th column of matrix\n",
    "x[3,] # 3rd row of matrix \n",
    "x[2:4,1:3] # rows 2,3,4 of columns 1,2,3\n",
    "\n",
    "######################################################\n",
    "# Data Frames\n",
    "# A data frame is more general than a matrix, in that different columns can have different\n",
    "# modes (numeric, character, factor, etc.). This is similar to SAS and SPSS datasets.\n",
    "\n",
    "d <- c(1,2,3,4)\n",
    "e <- c(\"red\", \"white\", \"red\", NA)\n",
    "f <- c(TRUE,TRUE,TRUE,FALSE)\n",
    "mydata <- data.frame(d,e,f)\n",
    "names(mydata) <- c(\"ID\",\"Color\",\"Passed\") # variable names\n",
    "\n",
    "# Identify rows, columns or elements using subscripts.\n",
    "mydata[2:3] # columns 3,4,5 of data frame\n",
    "mydata[c(\"ID\",\"Passed\")] # columns ID and Age from data frame\n",
    "mydata$Color # variable x1 in the data frame\n",
    "mydata[1,3]\n",
    "\n",
    "######################################################\n",
    "# The ls() function returns a vector listing lists all the objects (vectors, data frames, etc) in your current workspace.\n",
    "ls()\n",
    "\n",
    "# Remove these three objects\n",
    "rm(\"first_name\", \"last_name\", \"new_df\")\n",
    " \n",
    "# Or remove objects listed in a vector\n",
    "rm(list = c(\"first_name\", \"last_name\", \"new_df\"))\n",
    " \n",
    "# Or remove all files from your workspace\n",
    "rm(list = ls())\n",
    " \n",
    "# Or remove vectors programmatically.  Delete objects with underscore in name\n",
    "rm(list = ls()[grepl(\"_\", ls())])\n",
    "\n",
    "######################################################\n",
    "# Lists\n",
    "# An ordered collection of objects (components). A list allows you to gather a variety of \n",
    "# (possibly unrelated) objects under one name.\n",
    "# example of a list with 4 components - \n",
    "# a string, a numeric vector, a matrix, and a scaler \n",
    "\n",
    "w <- list(name=\"Fred\", mynumbers=a, mymatrix=y, age=5.3)\n",
    "\n",
    "# example of a list containing two lists\n",
    "# It looks concatenate the two lists\n",
    "v <- c(w,w)\n",
    "\n",
    "# Identify elements of a list using the [[]] convention.\n",
    "mylist[[2]] # 2nd component of the list\n",
    "mylist[[\"mynumbers\"]] # component named mynumbers in list\n",
    "\n",
    "\n",
    "\n",
    "######################################################\n",
    "# Factors\n",
    "# Tell R that a variable is nominal by making it a factor. The factor stores the nominal\n",
    "# values as a vector of integers in the range [ 1... k ] (where k is the number of unique \n",
    "# values in the nominal variable), and an internal vector of character strings (the original \n",
    "# values) mapped to these integers.\n",
    "\n",
    "# variable gender with 20 \"male\" entries and \n",
    "# 30 \"female\" entries \n",
    "gender <- c(rep(\"male\",20), rep(\"female\", 30)) \n",
    "gender <- factor(gender) \n",
    "# stores gender as 20 1s and 30 2s and associates\n",
    "# 1=female, 2=male internally (alphabetically)\n",
    "# R now treats gender as a nominal variable \n",
    "summary(gender)\n"
   ]
  },
  {
   "cell_type": "markdown",
   "metadata": {},
   "source": [
    "# Reading file\n",
    "\n",
    "test2.csv\n",
    "```\n",
    " prgtype gender  id ses schtyp level\n",
    " general      0  70   4      1     1\n",
    "  vocati      1 121   4      2     1\n",
    " general      0  86   4      3     1\n",
    "  vocati      0 141   4      3     1\n",
    "academic      0 172   4      2     1\n",
    "academic      0 113   4      2     1\n",
    " general      0  50   3      2     1\n",
    "academic      0  11   1      2     1\n",
    "```\n",
    "\n"
   ]
  }
 ],
 "metadata": {
  "kernelspec": {
   "display_name": "R",
   "language": "R",
   "name": "ir"
  },
  "language_info": {
   "codemirror_mode": "r",
   "file_extension": ".r",
   "mimetype": "text/x-r-source",
   "name": "R",
   "pygments_lexer": "r",
   "version": "3.6.3"
  }
 },
 "nbformat": 4,
 "nbformat_minor": 4
}
