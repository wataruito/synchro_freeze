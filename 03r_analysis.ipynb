{
 "cells": [
  {
   "cell_type": "markdown",
   "metadata": {},
   "source": [
    "---\n",
    "## Step 0. Before starting\n",
    "### 0-1. Update R\n",
    "1. Download binaries (Run R-3.X.X-win.exe) from https://www.r-project.org/.\n",
    "2. Run R-3.X.X-win.exe\n",
    "3. Set system path.\n",
    "    - Type \"env\" in the Start button and select \"Edit the system environment variables\".\n",
    "    - Push \"Environment Variables...\" button.\n",
    "    - Change \"Path\" variable.\n",
    "4. Install IRkernel for Jupyter\n",
    "    - in Anaconda prompt (Admin)\n",
    "    ```\n",
    "    > R\n",
    "    > install.packages('IRkernel')\n",
    "    > IRkernel::installspec()\n",
    "    ```\n",
    "    \n",
    "### 0-2. How to nstall packages\n",
    "**Only for the first installation**, open command window.<BR>\n",
    "**\\<on Win10\\ as regular user>**\n",
    "```\n",
    "C:\\Users\\User>R\n",
    "> install.packages(\"ggpubr\")\n",
    "```\n",
    "It will ask if you want to create personal for installation. Answer with **\"yes\"**. Once you do so, you can install additional packages from Jupyter.\n",
    "\n",
    "**\\<on Ubuntu\\>**\n",
    "```\n",
    "$ sudo R\n",
    "> install.packages(\"ggpubr\")\n",
    "```\n",
    "\n",
    "**\\<using Jupyter\\>**"
   ]
  },
  {
   "cell_type": "code",
   "execution_count": null,
   "metadata": {},
   "outputs": [],
   "source": [
    "install.packages(\"magrittr\")"
   ]
  },
  {
   "cell_type": "markdown",
   "metadata": {},
   "source": [
    "### 0-3. Useful packages\n",
    "- **ggpubr**: 'ggplot2' Based Publication Ready Plots<BR>\n",
    "https://cran.r-project.org/web/packages/ggpubr/index.html<BR>\n",
    "- **magrittr**: It provides a new **“pipe”-like operator**, %>%<BR>\n",
    "https://cran.r-project.org/web/packages/magrittr/vignettes/magrittr.html    \n",
    "- **stringr**: Simple, Consistent Wrappers for **Common String Operations**<BR>\n",
    "https://www.rdocumentation.org/packages/stringr/versions/1.4.0<BR>\n",
    "    used as `for (colname in str_subset(names(df), rex)){` in the function conv_str2list().\n",
    "- **hablar**: Simple tools for **converting columns to new data types**. Intuitive functions for columns with missing values.<BR>\n",
    "https://cran.r-project.org/web/packages/hablar/<BR>\n",
    "    used as `convert(lgl(single_animal))`.\n",
    "- **dplyre**: dplyr is a grammar of data manipulation, providing a consistent set of verbs that help you solve the most common data manipulation challenges.<BR>\n",
    "https://dplyr.tidyverse.org/<BR>\n",
    "    used as `not yet`.\n",
    "\n",
    "### 0-4. Check R version"
   ]
  },
  {
   "cell_type": "code",
   "execution_count": 1,
   "metadata": {},
   "outputs": [
    {
     "data": {
      "text/plain": [
       "               _                           \n",
       "platform       x86_64-w64-mingw32          \n",
       "arch           x86_64                      \n",
       "os             mingw32                     \n",
       "system         x86_64, mingw32             \n",
       "status                                     \n",
       "major          3                           \n",
       "minor          6.3                         \n",
       "year           2020                        \n",
       "month          02                          \n",
       "day            29                          \n",
       "svn rev        77875                       \n",
       "language       R                           \n",
       "version.string R version 3.6.3 (2020-02-29)\n",
       "nickname       Holding the Windsock        "
      ]
     },
     "metadata": {},
     "output_type": "display_data"
    }
   ],
   "source": [
    "version"
   ]
  },
  {
   "cell_type": "markdown",
   "metadata": {},
   "source": [
    "---\n",
    "## Step 1. Package preparation\n",
    "### 1-1. Install packages"
   ]
  },
  {
   "cell_type": "code",
   "execution_count": 2,
   "metadata": {
    "scrolled": true
   },
   "outputs": [
    {
     "name": "stderr",
     "output_type": "stream",
     "text": [
      "Installing package into 'C:/Users/User/Documents/R/win-library/3.6'\n",
      "(as 'lib' is unspecified)\n",
      "\n"
     ]
    },
    {
     "name": "stdout",
     "output_type": "stream",
     "text": [
      "package 'magrittr' successfully unpacked and MD5 sums checked\n",
      "\n",
      "The downloaded binary packages are in\n",
      "\tC:\\Users\\User\\AppData\\Local\\Temp\\Rtmp6NvHNv\\downloaded_packages\n"
     ]
    },
    {
     "name": "stderr",
     "output_type": "stream",
     "text": [
      "Installing package into 'C:/Users/User/Documents/R/win-library/3.6'\n",
      "(as 'lib' is unspecified)\n",
      "\n"
     ]
    },
    {
     "name": "stdout",
     "output_type": "stream",
     "text": [
      "package 'hablar' successfully unpacked and MD5 sums checked\n",
      "\n",
      "The downloaded binary packages are in\n",
      "\tC:\\Users\\User\\AppData\\Local\\Temp\\Rtmp6NvHNv\\downloaded_packages\n"
     ]
    },
    {
     "name": "stderr",
     "output_type": "stream",
     "text": [
      "Installing package into 'C:/Users/User/Documents/R/win-library/3.6'\n",
      "(as 'lib' is unspecified)\n",
      "\n"
     ]
    },
    {
     "name": "stdout",
     "output_type": "stream",
     "text": [
      "package 'ggbeeswarm' successfully unpacked and MD5 sums checked\n",
      "\n",
      "The downloaded binary packages are in\n",
      "\tC:\\Users\\User\\AppData\\Local\\Temp\\Rtmp6NvHNv\\downloaded_packages\n"
     ]
    },
    {
     "name": "stderr",
     "output_type": "stream",
     "text": [
      "Installing package into 'C:/Users/User/Documents/R/win-library/3.6'\n",
      "(as 'lib' is unspecified)\n",
      "\n"
     ]
    },
    {
     "name": "stdout",
     "output_type": "stream",
     "text": [
      "package 'tidyverse' successfully unpacked and MD5 sums checked\n",
      "\n",
      "The downloaded binary packages are in\n",
      "\tC:\\Users\\User\\AppData\\Local\\Temp\\Rtmp6NvHNv\\downloaded_packages\n"
     ]
    },
    {
     "name": "stderr",
     "output_type": "stream",
     "text": [
      "Installing package into 'C:/Users/User/Documents/R/win-library/3.6'\n",
      "(as 'lib' is unspecified)\n",
      "\n"
     ]
    },
    {
     "name": "stdout",
     "output_type": "stream",
     "text": [
      "package 'Rmisc' successfully unpacked and MD5 sums checked\n",
      "\n",
      "The downloaded binary packages are in\n",
      "\tC:\\Users\\User\\AppData\\Local\\Temp\\Rtmp6NvHNv\\downloaded_packages\n"
     ]
    },
    {
     "name": "stderr",
     "output_type": "stream",
     "text": [
      "Installing package into 'C:/Users/User/Documents/R/win-library/3.6'\n",
      "(as 'lib' is unspecified)\n",
      "\n"
     ]
    },
    {
     "name": "stdout",
     "output_type": "stream",
     "text": [
      "package 'e1071' successfully unpacked and MD5 sums checked\n",
      "\n",
      "The downloaded binary packages are in\n",
      "\tC:\\Users\\User\\AppData\\Local\\Temp\\Rtmp6NvHNv\\downloaded_packages\n"
     ]
    },
    {
     "name": "stderr",
     "output_type": "stream",
     "text": [
      "Installing package into 'C:/Users/User/Documents/R/win-library/3.6'\n",
      "(as 'lib' is unspecified)\n",
      "\n"
     ]
    },
    {
     "name": "stdout",
     "output_type": "stream",
     "text": [
      "package 'writexl' successfully unpacked and MD5 sums checked\n",
      "\n",
      "The downloaded binary packages are in\n",
      "\tC:\\Users\\User\\AppData\\Local\\Temp\\Rtmp6NvHNv\\downloaded_packages\n"
     ]
    }
   ],
   "source": [
    "# Install packages\n",
    "\n",
    "install.packages(\"magrittr\")\n",
    "install.packages(\"hablar\")\n",
    "install.packages(\"ggbeeswarm\")\n",
    "install.packages(\"tidyverse\")\n",
    "# install.packages(\"dplyr\")\n",
    "# install.packages(\"stringr\")\n",
    "install.packages(\"Rmisc\")\n",
    "install.packages(\"e1071\")\n",
    "install.packages(\"writexl\")"
   ]
  },
  {
   "cell_type": "markdown",
   "metadata": {},
   "source": [
    "### 1-2. Load libraries"
   ]
  },
  {
   "cell_type": "code",
   "execution_count": 1,
   "metadata": {
    "scrolled": true
   },
   "outputs": [
    {
     "name": "stderr",
     "output_type": "stream",
     "text": [
      "Loading required package: lattice\n",
      "\n",
      "Loading required package: plyr\n",
      "\n",
      "-- \u001b[1mAttaching packages\u001b[22m --------------------------------------- tidyverse 1.3.0 --\n",
      "\n",
      "\u001b[32mv\u001b[39m \u001b[34mggplot2\u001b[39m 3.3.0     \u001b[32mv\u001b[39m \u001b[34mpurrr  \u001b[39m 0.3.4\n",
      "\u001b[32mv\u001b[39m \u001b[34mtibble \u001b[39m 3.0.0     \u001b[32mv\u001b[39m \u001b[34mdplyr  \u001b[39m 0.8.5\n",
      "\u001b[32mv\u001b[39m \u001b[34mtidyr  \u001b[39m 1.0.2     \u001b[32mv\u001b[39m \u001b[34mstringr\u001b[39m 1.4.0\n",
      "\u001b[32mv\u001b[39m \u001b[34mreadr  \u001b[39m 1.3.1     \u001b[32mv\u001b[39m \u001b[34mforcats\u001b[39m 0.5.0\n",
      "\n",
      "-- \u001b[1mConflicts\u001b[22m ------------------------------------------ tidyverse_conflicts() --\n",
      "\u001b[31mx\u001b[39m \u001b[34mdplyr\u001b[39m::\u001b[32marrange()\u001b[39m   masks \u001b[34mplyr\u001b[39m::arrange()\n",
      "\u001b[31mx\u001b[39m \u001b[34mpurrr\u001b[39m::\u001b[32mcompact()\u001b[39m   masks \u001b[34mplyr\u001b[39m::compact()\n",
      "\u001b[31mx\u001b[39m \u001b[34mdplyr\u001b[39m::\u001b[32mcount()\u001b[39m     masks \u001b[34mplyr\u001b[39m::count()\n",
      "\u001b[31mx\u001b[39m \u001b[34mdplyr\u001b[39m::\u001b[32mfailwith()\u001b[39m  masks \u001b[34mplyr\u001b[39m::failwith()\n",
      "\u001b[31mx\u001b[39m \u001b[34mdplyr\u001b[39m::\u001b[32mfilter()\u001b[39m    masks \u001b[34mstats\u001b[39m::filter()\n",
      "\u001b[31mx\u001b[39m \u001b[34mdplyr\u001b[39m::\u001b[32mid()\u001b[39m        masks \u001b[34mplyr\u001b[39m::id()\n",
      "\u001b[31mx\u001b[39m \u001b[34mdplyr\u001b[39m::\u001b[32mlag()\u001b[39m       masks \u001b[34mstats\u001b[39m::lag()\n",
      "\u001b[31mx\u001b[39m \u001b[34mdplyr\u001b[39m::\u001b[32mmutate()\u001b[39m    masks \u001b[34mplyr\u001b[39m::mutate()\n",
      "\u001b[31mx\u001b[39m \u001b[34mdplyr\u001b[39m::\u001b[32mna_if()\u001b[39m     masks \u001b[34mhablar\u001b[39m::na_if()\n",
      "\u001b[31mx\u001b[39m \u001b[34mdplyr\u001b[39m::\u001b[32mrename()\u001b[39m    masks \u001b[34mplyr\u001b[39m::rename()\n",
      "\u001b[31mx\u001b[39m \u001b[34mdplyr\u001b[39m::\u001b[32msummarise()\u001b[39m masks \u001b[34mplyr\u001b[39m::summarise()\n",
      "\u001b[31mx\u001b[39m \u001b[34mdplyr\u001b[39m::\u001b[32msummarize()\u001b[39m masks \u001b[34mplyr\u001b[39m::summarize()\n",
      "\n",
      "\n",
      "Attaching package: 'magrittr'\n",
      "\n",
      "\n",
      "The following object is masked from 'package:purrr':\n",
      "\n",
      "    set_names\n",
      "\n",
      "\n",
      "The following object is masked from 'package:tidyr':\n",
      "\n",
      "    extract\n",
      "\n",
      "\n",
      "\n",
      "Attaching package: 'ggpubr'\n",
      "\n",
      "\n",
      "The following object is masked from 'package:plyr':\n",
      "\n",
      "    mutate\n",
      "\n",
      "\n"
     ]
    }
   ],
   "source": [
    "# Load required library\n",
    "library(Rmisc)\n",
    "library(hablar)\n",
    "library(tidyverse)\n",
    "# library(dplyr)\n",
    "\n",
    "path = \"W:/wataru/jupyter/synchro_freeze\"\n",
    "base = \"synchro_freeze.R\"\n",
    "filename = file.path(path, base)\n",
    "source(filename)\n",
    "\n",
    "library(magrittr)\n",
    "library(ggplot2)\n",
    "library(ggpubr) # ggplot2 based publication ready plots\n",
    "library(ggbeeswarm)\n",
    "\n",
    "#library(Rmisc)\n",
    "\n",
    "library(writexl)"
   ]
  },
  {
   "cell_type": "markdown",
   "metadata": {},
   "source": [
    "---\n",
    "## Step 2. Import CSV file and save as R data frame"
   ]
  },
  {
   "cell_type": "code",
   "execution_count": 2,
   "metadata": {},
   "outputs": [
    {
     "name": "stdout",
     "output_type": "stream",
     "text": [
      "Exclude 57 records from 322 records\n",
      "Remaining records are 265 \n",
      "dimension:  265 48 \n",
      "   folder_videoname       single_animal                 sex                 age \n",
      "        \"character\"           \"logical\"         \"character\"           \"integer\" \n",
      "       infusion_hpc        infusion_pfc         infusion_IP         familiarity \n",
      "        \"character\"         \"character\"            \"factor\"         \"character\" \n",
      "           lighting           partition              stress   together_alone_id \n",
      "        \"character\"           \"logical\"         \"character\"            \"factor\" \n",
      "together_alone_role             exclude             comment        video_system \n",
      "           \"factor\"           \"logical\"         \"character\"            \"factor\" \n",
      "            fz_sub1             fz_sub2          fz_overlap             cohen_d \n",
      "          \"numeric\"           \"numeric\"           \"numeric\"           \"numeric\" \n",
      "          s_count_0           s_count_1           s_count_2           s_count_3 \n",
      "          \"integer\"           \"integer\"           \"integer\"           \"integer\" \n",
      "        st_count_00         st_count_01         st_count_02         st_count_03 \n",
      "          \"integer\"           \"integer\"           \"integer\"           \"integer\" \n",
      "        st_count_10         st_count_11         st_count_12         st_count_13 \n",
      "          \"integer\"           \"integer\"           \"integer\"           \"integer\" \n",
      "        st_count_20         st_count_21         st_count_22         st_count_23 \n",
      "          \"integer\"           \"integer\"           \"integer\"           \"integer\" \n",
      "        st_count_30         st_count_31         st_count_32         st_count_33 \n",
      "          \"integer\"           \"integer\"           \"integer\"           \"integer\" \n",
      "      fz_start_sub1         fz_end_sub1       fz_start_sub2         fz_end_sub2 \n",
      "             \"list\"              \"list\"              \"list\"              \"list\" \n",
      "   lagt_start_s1_s2    lagt_start_s2_s1      lagt_end_s1_s2      lagt_end_s2_s1 \n",
      "             \"list\"              \"list\"              \"list\"              \"list\" \n"
     ]
    },
    {
     "data": {
      "text/html": [
       "<table>\n",
       "<caption>A data.frame: 2 × 48</caption>\n",
       "<thead>\n",
       "\t<tr><th></th><th scope=col>folder_videoname</th><th scope=col>single_animal</th><th scope=col>sex</th><th scope=col>age</th><th scope=col>infusion_hpc</th><th scope=col>infusion_pfc</th><th scope=col>infusion_IP</th><th scope=col>familiarity</th><th scope=col>lighting</th><th scope=col>partition</th><th scope=col>...</th><th scope=col>st_count_32</th><th scope=col>st_count_33</th><th scope=col>fz_start_sub1</th><th scope=col>fz_end_sub1</th><th scope=col>fz_start_sub2</th><th scope=col>fz_end_sub2</th><th scope=col>lagt_start_s1_s2</th><th scope=col>lagt_start_s2_s1</th><th scope=col>lagt_end_s1_s2</th><th scope=col>lagt_end_s2_s1</th></tr>\n",
       "\t<tr><th></th><th scope=col>&lt;chr&gt;</th><th scope=col>&lt;lgl&gt;</th><th scope=col>&lt;chr&gt;</th><th scope=col>&lt;int&gt;</th><th scope=col>&lt;chr&gt;</th><th scope=col>&lt;chr&gt;</th><th scope=col>&lt;fct&gt;</th><th scope=col>&lt;chr&gt;</th><th scope=col>&lt;chr&gt;</th><th scope=col>&lt;lgl&gt;</th><th scope=col>...</th><th scope=col>&lt;int&gt;</th><th scope=col>&lt;int&gt;</th><th scope=col>&lt;list&gt;</th><th scope=col>&lt;list&gt;</th><th scope=col>&lt;list&gt;</th><th scope=col>&lt;list&gt;</th><th scope=col>&lt;list&gt;</th><th scope=col>&lt;list&gt;</th><th scope=col>&lt;list&gt;</th><th scope=col>&lt;list&gt;</th></tr>\n",
       "</thead>\n",
       "<tbody>\n",
       "\t<tr><th scope=row>1</th><td>20190408_testing_1_7a</td><td>TRUE</td><td>male</td><td>75</td><td>NA</td><td>NA</td><td>NA</td><td>familiar</td><td>visible</td><td>FALSE</td><td>...</td><td>0</td><td>0</td><td>253, 263, 287, 293, 311, 322, 331, 351, 378, 408, 463, 474, 527, 542, 640, 668, 715</td><td>262, 284, 290, 309, 314, 327, 340, 357, 397, 418, 470, 478, 538, 546, 648, 673, 720</td><td></td><td></td><td></td><td></td><td></td><td></td></tr>\n",
       "\t<tr><th scope=row>2</th><td>20190408_testing_1_7b</td><td>TRUE</td><td>male</td><td>75</td><td>NA</td><td>NA</td><td>NA</td><td>familiar</td><td>visible</td><td>FALSE</td><td>...</td><td>0</td><td>0</td><td>244, 267, 348, 397, 435, 501, 550, 616, 632, 706</td><td>265, 343, 389, 427, 494, 541, 590, 627, 688, 720</td><td></td><td></td><td></td><td></td><td></td><td></td></tr>\n",
       "</tbody>\n",
       "</table>\n"
      ],
      "text/latex": [
       "A data.frame: 2 × 48\n",
       "\\begin{tabular}{r|lllllllllllllllllllll}\n",
       "  & folder\\_videoname & single\\_animal & sex & age & infusion\\_hpc & infusion\\_pfc & infusion\\_IP & familiarity & lighting & partition & ... & st\\_count\\_32 & st\\_count\\_33 & fz\\_start\\_sub1 & fz\\_end\\_sub1 & fz\\_start\\_sub2 & fz\\_end\\_sub2 & lagt\\_start\\_s1\\_s2 & lagt\\_start\\_s2\\_s1 & lagt\\_end\\_s1\\_s2 & lagt\\_end\\_s2\\_s1\\\\\n",
       "  & <chr> & <lgl> & <chr> & <int> & <chr> & <chr> & <fct> & <chr> & <chr> & <lgl> & ... & <int> & <int> & <list> & <list> & <list> & <list> & <list> & <list> & <list> & <list>\\\\\n",
       "\\hline\n",
       "\t1 & 20190408\\_testing\\_1\\_7a & TRUE & male & 75 & NA & NA & NA & familiar & visible & FALSE & ... & 0 & 0 & 253, 263, 287, 293, 311, 322, 331, 351, 378, 408, 463, 474, 527, 542, 640, 668, 715 & 262, 284, 290, 309, 314, 327, 340, 357, 397, 418, 470, 478, 538, 546, 648, 673, 720 &  &  &  &  &  & \\\\\n",
       "\t2 & 20190408\\_testing\\_1\\_7b & TRUE & male & 75 & NA & NA & NA & familiar & visible & FALSE & ... & 0 & 0 & 244, 267, 348, 397, 435, 501, 550, 616, 632, 706 & 265, 343, 389, 427, 494, 541, 590, 627, 688, 720 &  &  &  &  &  & \\\\\n",
       "\\end{tabular}\n"
      ],
      "text/markdown": [
       "\n",
       "A data.frame: 2 × 48\n",
       "\n",
       "| <!--/--> | folder_videoname &lt;chr&gt; | single_animal &lt;lgl&gt; | sex &lt;chr&gt; | age &lt;int&gt; | infusion_hpc &lt;chr&gt; | infusion_pfc &lt;chr&gt; | infusion_IP &lt;fct&gt; | familiarity &lt;chr&gt; | lighting &lt;chr&gt; | partition &lt;lgl&gt; | ... ... | st_count_32 &lt;int&gt; | st_count_33 &lt;int&gt; | fz_start_sub1 &lt;list&gt; | fz_end_sub1 &lt;list&gt; | fz_start_sub2 &lt;list&gt; | fz_end_sub2 &lt;list&gt; | lagt_start_s1_s2 &lt;list&gt; | lagt_start_s2_s1 &lt;list&gt; | lagt_end_s1_s2 &lt;list&gt; | lagt_end_s2_s1 &lt;list&gt; |\n",
       "|---|---|---|---|---|---|---|---|---|---|---|---|---|---|---|---|---|---|---|---|---|---|\n",
       "| 1 | 20190408_testing_1_7a | TRUE | male | 75 | NA | NA | NA | familiar | visible | FALSE | ... | 0 | 0 | 253, 263, 287, 293, 311, 322, 331, 351, 378, 408, 463, 474, 527, 542, 640, 668, 715 | 262, 284, 290, 309, 314, 327, 340, 357, 397, 418, 470, 478, 538, 546, 648, 673, 720 | <!----> | <!----> | <!----> | <!----> | <!----> | <!----> |\n",
       "| 2 | 20190408_testing_1_7b | TRUE | male | 75 | NA | NA | NA | familiar | visible | FALSE | ... | 0 | 0 | 244, 267, 348, 397, 435, 501, 550, 616, 632, 706 | 265, 343, 389, 427, 494, 541, 590, 627, 688, 720 | <!----> | <!----> | <!----> | <!----> | <!----> | <!----> |\n",
       "\n"
      ],
      "text/plain": [
       "  folder_videoname      single_animal sex  age infusion_hpc infusion_pfc\n",
       "1 20190408_testing_1_7a TRUE          male 75  NA           NA          \n",
       "2 20190408_testing_1_7b TRUE          male 75  NA           NA          \n",
       "  infusion_IP familiarity lighting partition ... st_count_32 st_count_33\n",
       "1 NA          familiar    visible  FALSE     ... 0           0          \n",
       "2 NA          familiar    visible  FALSE     ... 0           0          \n",
       "  fz_start_sub1                                                                      \n",
       "1 253, 263, 287, 293, 311, 322, 331, 351, 378, 408, 463, 474, 527, 542, 640, 668, 715\n",
       "2 244, 267, 348, 397, 435, 501, 550, 616, 632, 706                                   \n",
       "  fz_end_sub1                                                                        \n",
       "1 262, 284, 290, 309, 314, 327, 340, 357, 397, 418, 470, 478, 538, 546, 648, 673, 720\n",
       "2 265, 343, 389, 427, 494, 541, 590, 627, 688, 720                                   \n",
       "  fz_start_sub2 fz_end_sub2 lagt_start_s1_s2 lagt_start_s2_s1 lagt_end_s1_s2\n",
       "1                                                                           \n",
       "2                                                                           \n",
       "  lagt_end_s2_s1\n",
       "1               \n",
       "2               "
      ]
     },
     "metadata": {},
     "output_type": "display_data"
    }
   ],
   "source": [
    "#######################################\n",
    "# Load the big table into t1\n",
    "# R accepts both ways to describe path.\n",
    "# filename <- \"C:\\\\Users\\\\User\\\\Desktop\\\\project\\\\summary3.csv\"\n",
    "\n",
    "path = \"W:/videos_synchrony\"\n",
    "base = \"summary4.csv\"\n",
    "filename = file.path(path, base)\n",
    "t1 = read.table(file=filename,header=TRUE, sep=\",\")\n",
    "t1 = t1 %>% convert(lgl(single_animal))\n",
    "\n",
    "# Load groups table into t2\n",
    "base = \"IVs.csv\"\n",
    "filename = file.path(path, base)\n",
    "t2 = read.table(file=filename,header=TRUE, sep=\",\")\n",
    "t2 = t2 %>% convert(lgl(single_animal))\n",
    "\n",
    "#######################################\n",
    "# merge two data frames by IDs\n",
    "df <- merge(t2, t1, by=c(\"folder_videoname\",\"single_animal\"))\n",
    "# rename of column names may be necessary\n",
    "#names(df)[names(df) == \"single_animal.x\"] <- \"single_animal\"\n",
    "\n",
    "#######################################\n",
    "# Post process\n",
    "# Convert strings to integer list\n",
    "rex = \"fz_start*|fz_end*|lagt_*\"\n",
    "df = conv_str2list(df, rex)\n",
    "\n",
    "# Adjust dtype\n",
    "df = df %>% convert(chr(folder_videoname,sex,familiarity,lighting,stress,comment,infusion_hpc,infusion_pfc))\n",
    "\n",
    "# Set NA for empty cell\n",
    "df[df==\"\"]<-NA\n",
    "# df[is.nan(df)] <- NA\n",
    "\n",
    "#######################################\n",
    "# Exclude records\n",
    "cat(\"Exclude\", nrow(df[df$exclude==TRUE,]), \"records from\", nrow(df), \"records\\n\")\n",
    "df = df[df$exclude!=TRUE,]\n",
    "cat(\"Remaining records are\", nrow(df), \"\\n\")\n",
    "\n",
    "#######################################\n",
    "# convert tibble to data.frame\n",
    "df = as.data.frame(df)\n",
    "\n",
    "#######################################\n",
    "# Display summary\n",
    "dis_summary(df)\n",
    "\n",
    "# if(which(df$single_animal.x != df$single_animal.y) == FALSE){\n",
    "#     print(\"folder_videoname and single_animal are consistent.\")\n",
    "# } else {\n",
    "#     print(\"something is wrong\")\n",
    "# }\n",
    "\n",
    "#######################################\n",
    "# Save DF and Excel\n",
    "df.input = df\n",
    "path = \"W:/videos_synchrony\"\n",
    "base = \"data\"\n",
    "save_files(df.input,path,base)\n",
    "\n",
    "df.input = df\n",
    "path = \"W:/wataru/jupyter/synchro_freeze\"\n",
    "base = \"data\"\n",
    "save_files(df.input,path,base)"
   ]
  },
  {
   "cell_type": "markdown",
   "metadata": {},
   "source": [
    "---\n",
    "## Step 3. Sex and stress effects on synchronization\n",
    "**Load R dataframe**"
   ]
  },
  {
   "cell_type": "code",
   "execution_count": 3,
   "metadata": {},
   "outputs": [
    {
     "name": "stdout",
     "output_type": "stream",
     "text": [
      "dimension:  216 26 \n",
      "   folder_videoname       single_animal                 sex                 age \n",
      "        \"character\"           \"logical\"         \"character\"           \"integer\" \n",
      "       infusion_hpc        infusion_pfc         familiarity            lighting \n",
      "        \"character\"         \"character\"         \"character\"         \"character\" \n",
      "          partition              stress             comment             exclude \n",
      "          \"logical\"         \"character\"         \"character\"           \"logical\" \n",
      "  together_alone_id together_alone_role             fz_sub1             fz_sub2 \n",
      "           \"factor\"            \"factor\"           \"numeric\"           \"numeric\" \n",
      "         fz_overlap             cohen_d       fz_start_sub1         fz_end_sub1 \n",
      "          \"numeric\"           \"numeric\"              \"list\"              \"list\" \n",
      "      fz_start_sub2         fz_end_sub2    lagt_start_s1_s2    lagt_start_s2_s1 \n",
      "             \"list\"              \"list\"              \"list\"              \"list\" \n",
      "     lagt_end_s1_s2      lagt_end_s2_s1 \n",
      "             \"list\"              \"list\" \n"
     ]
    },
    {
     "data": {
      "text/html": [
       "<table>\n",
       "<caption>A data.frame: 2 × 26</caption>\n",
       "<thead>\n",
       "\t<tr><th></th><th scope=col>folder_videoname</th><th scope=col>single_animal</th><th scope=col>sex</th><th scope=col>age</th><th scope=col>infusion_hpc</th><th scope=col>infusion_pfc</th><th scope=col>familiarity</th><th scope=col>lighting</th><th scope=col>partition</th><th scope=col>stress</th><th scope=col>...</th><th scope=col>fz_overlap</th><th scope=col>cohen_d</th><th scope=col>fz_start_sub1</th><th scope=col>fz_end_sub1</th><th scope=col>fz_start_sub2</th><th scope=col>fz_end_sub2</th><th scope=col>lagt_start_s1_s2</th><th scope=col>lagt_start_s2_s1</th><th scope=col>lagt_end_s1_s2</th><th scope=col>lagt_end_s2_s1</th></tr>\n",
       "\t<tr><th></th><th scope=col>&lt;chr&gt;</th><th scope=col>&lt;lgl&gt;</th><th scope=col>&lt;chr&gt;</th><th scope=col>&lt;int&gt;</th><th scope=col>&lt;chr&gt;</th><th scope=col>&lt;chr&gt;</th><th scope=col>&lt;chr&gt;</th><th scope=col>&lt;chr&gt;</th><th scope=col>&lt;lgl&gt;</th><th scope=col>&lt;chr&gt;</th><th scope=col>...</th><th scope=col>&lt;dbl&gt;</th><th scope=col>&lt;dbl&gt;</th><th scope=col>&lt;list&gt;</th><th scope=col>&lt;list&gt;</th><th scope=col>&lt;list&gt;</th><th scope=col>&lt;list&gt;</th><th scope=col>&lt;list&gt;</th><th scope=col>&lt;list&gt;</th><th scope=col>&lt;list&gt;</th><th scope=col>&lt;list&gt;</th></tr>\n",
       "</thead>\n",
       "<tbody>\n",
       "\t<tr><th scope=row>1</th><td>20190408_testing_1_7a</td><td>TRUE</td><td>male</td><td>75</td><td>NA</td><td>NA</td><td>familiar</td><td>visible</td><td>FALSE</td><td>no_stress</td><td>...</td><td>0</td><td>NaN</td><td>253, 263, 287, 293, 311, 322, 331, 351, 378, 408, 463, 474, 527, 542, 640, 668, 715</td><td>262, 284, 290, 309, 314, 327, 340, 357, 397, 418, 470, 478, 538, 546, 648, 673, 720</td><td></td><td></td><td></td><td></td><td></td><td></td></tr>\n",
       "\t<tr><th scope=row>2</th><td>20190408_testing_1_7b</td><td>TRUE</td><td>male</td><td>75</td><td>NA</td><td>NA</td><td>familiar</td><td>visible</td><td>FALSE</td><td>no_stress</td><td>...</td><td>0</td><td>NaN</td><td>244, 267, 348, 397, 435, 501, 550, 616, 632, 706</td><td>265, 343, 389, 427, 494, 541, 590, 627, 688, 720</td><td></td><td></td><td></td><td></td><td></td><td></td></tr>\n",
       "</tbody>\n",
       "</table>\n"
      ],
      "text/latex": [
       "A data.frame: 2 × 26\n",
       "\\begin{tabular}{r|lllllllllllllllllllll}\n",
       "  & folder\\_videoname & single\\_animal & sex & age & infusion\\_hpc & infusion\\_pfc & familiarity & lighting & partition & stress & ... & fz\\_overlap & cohen\\_d & fz\\_start\\_sub1 & fz\\_end\\_sub1 & fz\\_start\\_sub2 & fz\\_end\\_sub2 & lagt\\_start\\_s1\\_s2 & lagt\\_start\\_s2\\_s1 & lagt\\_end\\_s1\\_s2 & lagt\\_end\\_s2\\_s1\\\\\n",
       "  & <chr> & <lgl> & <chr> & <int> & <chr> & <chr> & <chr> & <chr> & <lgl> & <chr> & ... & <dbl> & <dbl> & <list> & <list> & <list> & <list> & <list> & <list> & <list> & <list>\\\\\n",
       "\\hline\n",
       "\t1 & 20190408\\_testing\\_1\\_7a & TRUE & male & 75 & NA & NA & familiar & visible & FALSE & no\\_stress & ... & 0 & NaN & 253, 263, 287, 293, 311, 322, 331, 351, 378, 408, 463, 474, 527, 542, 640, 668, 715 & 262, 284, 290, 309, 314, 327, 340, 357, 397, 418, 470, 478, 538, 546, 648, 673, 720 &  &  &  &  &  & \\\\\n",
       "\t2 & 20190408\\_testing\\_1\\_7b & TRUE & male & 75 & NA & NA & familiar & visible & FALSE & no\\_stress & ... & 0 & NaN & 244, 267, 348, 397, 435, 501, 550, 616, 632, 706 & 265, 343, 389, 427, 494, 541, 590, 627, 688, 720 &  &  &  &  &  & \\\\\n",
       "\\end{tabular}\n"
      ],
      "text/markdown": [
       "\n",
       "A data.frame: 2 × 26\n",
       "\n",
       "| <!--/--> | folder_videoname &lt;chr&gt; | single_animal &lt;lgl&gt; | sex &lt;chr&gt; | age &lt;int&gt; | infusion_hpc &lt;chr&gt; | infusion_pfc &lt;chr&gt; | familiarity &lt;chr&gt; | lighting &lt;chr&gt; | partition &lt;lgl&gt; | stress &lt;chr&gt; | ... ... | fz_overlap &lt;dbl&gt; | cohen_d &lt;dbl&gt; | fz_start_sub1 &lt;list&gt; | fz_end_sub1 &lt;list&gt; | fz_start_sub2 &lt;list&gt; | fz_end_sub2 &lt;list&gt; | lagt_start_s1_s2 &lt;list&gt; | lagt_start_s2_s1 &lt;list&gt; | lagt_end_s1_s2 &lt;list&gt; | lagt_end_s2_s1 &lt;list&gt; |\n",
       "|---|---|---|---|---|---|---|---|---|---|---|---|---|---|---|---|---|---|---|---|---|---|\n",
       "| 1 | 20190408_testing_1_7a | TRUE | male | 75 | NA | NA | familiar | visible | FALSE | no_stress | ... | 0 | NaN | 253, 263, 287, 293, 311, 322, 331, 351, 378, 408, 463, 474, 527, 542, 640, 668, 715 | 262, 284, 290, 309, 314, 327, 340, 357, 397, 418, 470, 478, 538, 546, 648, 673, 720 | <!----> | <!----> | <!----> | <!----> | <!----> | <!----> |\n",
       "| 2 | 20190408_testing_1_7b | TRUE | male | 75 | NA | NA | familiar | visible | FALSE | no_stress | ... | 0 | NaN | 244, 267, 348, 397, 435, 501, 550, 616, 632, 706 | 265, 343, 389, 427, 494, 541, 590, 627, 688, 720 | <!----> | <!----> | <!----> | <!----> | <!----> | <!----> |\n",
       "\n"
      ],
      "text/plain": [
       "  folder_videoname      single_animal sex  age infusion_hpc infusion_pfc\n",
       "1 20190408_testing_1_7a TRUE          male 75  NA           NA          \n",
       "2 20190408_testing_1_7b TRUE          male 75  NA           NA          \n",
       "  familiarity lighting partition stress    ... fz_overlap cohen_d\n",
       "1 familiar    visible  FALSE     no_stress ... 0          NaN    \n",
       "2 familiar    visible  FALSE     no_stress ... 0          NaN    \n",
       "  fz_start_sub1                                                                      \n",
       "1 253, 263, 287, 293, 311, 322, 331, 351, 378, 408, 463, 474, 527, 542, 640, 668, 715\n",
       "2 244, 267, 348, 397, 435, 501, 550, 616, 632, 706                                   \n",
       "  fz_end_sub1                                                                        \n",
       "1 262, 284, 290, 309, 314, 327, 340, 357, 397, 418, 470, 478, 538, 546, 648, 673, 720\n",
       "2 265, 343, 389, 427, 494, 541, 590, 627, 688, 720                                   \n",
       "  fz_start_sub2 fz_end_sub2 lagt_start_s1_s2 lagt_start_s2_s1 lagt_end_s1_s2\n",
       "1                                                                           \n",
       "2                                                                           \n",
       "  lagt_end_s2_s1\n",
       "1               \n",
       "2               "
      ]
     },
     "metadata": {},
     "output_type": "display_data"
    }
   ],
   "source": [
    "# Load DF\n",
    "path = \"C:/Users/User/Dropbox/Jupyter/wataru/synchro_freeze\"\n",
    "base = \"data.Rda\"\n",
    "filename = file.path(path, base)\n",
    "load(file=filename)\n",
    "\n",
    "#######################################\n",
    "# Display summary\n",
    "dis_summary(df)"
   ]
  },
  {
   "cell_type": "markdown",
   "metadata": {},
   "source": [
    "**Exclude single animal, infusion, lighting and partition experiments**<BR>\n",
    "It's good to check using the data frame viewer in RStudio."
   ]
  },
  {
   "cell_type": "code",
   "execution_count": 4,
   "metadata": {},
   "outputs": [
    {
     "name": "stdout",
     "output_type": "stream",
     "text": [
      "dimension:  55 26 \n",
      "   folder_videoname       single_animal                 sex                 age \n",
      "        \"character\"           \"logical\"         \"character\"           \"integer\" \n",
      "       infusion_hpc        infusion_pfc         familiarity            lighting \n",
      "        \"character\"         \"character\"         \"character\"         \"character\" \n",
      "          partition              stress             comment             exclude \n",
      "          \"logical\"         \"character\"         \"character\"           \"logical\" \n",
      "  together_alone_id together_alone_role             fz_sub1             fz_sub2 \n",
      "           \"factor\"            \"factor\"           \"numeric\"           \"numeric\" \n",
      "         fz_overlap             cohen_d       fz_start_sub1         fz_end_sub1 \n",
      "          \"numeric\"           \"numeric\"              \"list\"              \"list\" \n",
      "      fz_start_sub2         fz_end_sub2    lagt_start_s1_s2    lagt_start_s2_s1 \n",
      "             \"list\"              \"list\"              \"list\"              \"list\" \n",
      "     lagt_end_s1_s2      lagt_end_s2_s1 \n",
      "             \"list\"              \"list\" \n"
     ]
    },
    {
     "data": {
      "text/html": [
       "<table>\n",
       "<caption>A data.frame: 2 × 26</caption>\n",
       "<thead>\n",
       "\t<tr><th></th><th scope=col>folder_videoname</th><th scope=col>single_animal</th><th scope=col>sex</th><th scope=col>age</th><th scope=col>infusion_hpc</th><th scope=col>infusion_pfc</th><th scope=col>familiarity</th><th scope=col>lighting</th><th scope=col>partition</th><th scope=col>stress</th><th scope=col>...</th><th scope=col>fz_overlap</th><th scope=col>cohen_d</th><th scope=col>fz_start_sub1</th><th scope=col>fz_end_sub1</th><th scope=col>fz_start_sub2</th><th scope=col>fz_end_sub2</th><th scope=col>lagt_start_s1_s2</th><th scope=col>lagt_start_s2_s1</th><th scope=col>lagt_end_s1_s2</th><th scope=col>lagt_end_s2_s1</th></tr>\n",
       "\t<tr><th></th><th scope=col>&lt;chr&gt;</th><th scope=col>&lt;lgl&gt;</th><th scope=col>&lt;chr&gt;</th><th scope=col>&lt;int&gt;</th><th scope=col>&lt;chr&gt;</th><th scope=col>&lt;chr&gt;</th><th scope=col>&lt;chr&gt;</th><th scope=col>&lt;chr&gt;</th><th scope=col>&lt;lgl&gt;</th><th scope=col>&lt;chr&gt;</th><th scope=col>...</th><th scope=col>&lt;dbl&gt;</th><th scope=col>&lt;dbl&gt;</th><th scope=col>&lt;list&gt;</th><th scope=col>&lt;list&gt;</th><th scope=col>&lt;list&gt;</th><th scope=col>&lt;list&gt;</th><th scope=col>&lt;list&gt;</th><th scope=col>&lt;list&gt;</th><th scope=col>&lt;list&gt;</th><th scope=col>&lt;list&gt;</th></tr>\n",
       "</thead>\n",
       "<tbody>\n",
       "\t<tr><th scope=row>5</th><td>20190408_testing_1_f10ab</td><td>FALSE</td><td>female</td><td>75</td><td>NA</td><td>NA</td><td>familiar</td><td>visible</td><td>FALSE</td><td>no_stress</td><td>...</td><td>18.95833</td><td>0.7708344</td><td>249, 255, 267, 294, 331, 353, 364, 375, 403, 424, 430, 519, 550, 563, 577, 599, 634, 652, 689</td><td>253, 262, 272, 299, 338, 359, 368, 383, 409, 429, 435, 525, 558, 568, 594, 615, 640, 657, 694</td><td>264, 295, 303, 313, 321, 343, 398, 410, 425, 438, 482, 494, 517, 533, 557, 637, 652, 675, 685, 708</td><td>273, 302, 307, 317, 340, 389, 406, 419, 437, 468, 491, 502, 528, 555, 567, 642, 660, 680, 704, 713</td><td>15, 9, -3, 1, -10, -10, -21, 23, -5, 1, -5, -2, 7, -6, -20, 38, 3, 0, -4</td><td>3, -1, -9, 18, 10, 10, 5, -7, -1, -8, 37, 25, 2, -14, 6, -3, 0, 14, 4, -19</td><td>20, 11, 1, 3, 2, -19, 21, 6, -3, 8, 2, 3, -3, -1, -27, 27, 2, 3, 10</td><td>-1, -3, -8, -18, -2, -6, 3, -10, -2, -33, 34, 23, -3, 3, 1, -2, -3, 14, -10, -19</td></tr>\n",
       "\t<tr><th scope=row>8</th><td>20190408_testing_1_f6ab </td><td>FALSE</td><td>female</td><td>75</td><td>NA</td><td>NA</td><td>familiar</td><td>visible</td><td>FALSE</td><td>no_stress</td><td>...</td><td>22.08333</td><td>1.5967085</td><td>267, 298, 341, 413, 536, 545, 560, 568, 580, 607, 630, 689, 712</td><td>272, 317, 407, 431, 543, 550, 565, 575, 586, 614, 675, 704, 720</td><td>289, 298, 338, 374, 516, 529, 550, 573, 584, 632, 646, 671, 704</td><td>296, 312, 363, 404, 521, 539, 564, 581, 595, 637, 651, 679, 712</td><td>22, 0, -3, -39, -7, 5, -10, 5, 4, -23, 2, 15, -8</td><td>9, 0, 3, -33, 20, 7, -5, -5, -4, -2, -16, 18, 8</td><td>24, -5, -3, -27, -4, -11, -1, 6, -5, -19, 4, 8, -8</td><td>21, 5, 44, 3, 22, 4, 1, 5, -9, -23, 24, -4, -8</td></tr>\n",
       "</tbody>\n",
       "</table>\n"
      ],
      "text/latex": [
       "A data.frame: 2 × 26\n",
       "\\begin{tabular}{r|lllllllllllllllllllll}\n",
       "  & folder\\_videoname & single\\_animal & sex & age & infusion\\_hpc & infusion\\_pfc & familiarity & lighting & partition & stress & ... & fz\\_overlap & cohen\\_d & fz\\_start\\_sub1 & fz\\_end\\_sub1 & fz\\_start\\_sub2 & fz\\_end\\_sub2 & lagt\\_start\\_s1\\_s2 & lagt\\_start\\_s2\\_s1 & lagt\\_end\\_s1\\_s2 & lagt\\_end\\_s2\\_s1\\\\\n",
       "  & <chr> & <lgl> & <chr> & <int> & <chr> & <chr> & <chr> & <chr> & <lgl> & <chr> & ... & <dbl> & <dbl> & <list> & <list> & <list> & <list> & <list> & <list> & <list> & <list>\\\\\n",
       "\\hline\n",
       "\t5 & 20190408\\_testing\\_1\\_f10ab & FALSE & female & 75 & NA & NA & familiar & visible & FALSE & no\\_stress & ... & 18.95833 & 0.7708344 & 249, 255, 267, 294, 331, 353, 364, 375, 403, 424, 430, 519, 550, 563, 577, 599, 634, 652, 689 & 253, 262, 272, 299, 338, 359, 368, 383, 409, 429, 435, 525, 558, 568, 594, 615, 640, 657, 694 & 264, 295, 303, 313, 321, 343, 398, 410, 425, 438, 482, 494, 517, 533, 557, 637, 652, 675, 685, 708 & 273, 302, 307, 317, 340, 389, 406, 419, 437, 468, 491, 502, 528, 555, 567, 642, 660, 680, 704, 713 & 15, 9, -3, 1, -10, -10, -21, 23, -5, 1, -5, -2, 7, -6, -20, 38, 3, 0, -4 & 3, -1, -9, 18, 10, 10, 5, -7, -1, -8, 37, 25, 2, -14, 6, -3, 0, 14, 4, -19 & 20, 11, 1, 3, 2, -19, 21, 6, -3, 8, 2, 3, -3, -1, -27, 27, 2, 3, 10 & -1, -3, -8, -18, -2, -6, 3, -10, -2, -33, 34, 23, -3, 3, 1, -2, -3, 14, -10, -19\\\\\n",
       "\t8 & 20190408\\_testing\\_1\\_f6ab  & FALSE & female & 75 & NA & NA & familiar & visible & FALSE & no\\_stress & ... & 22.08333 & 1.5967085 & 267, 298, 341, 413, 536, 545, 560, 568, 580, 607, 630, 689, 712 & 272, 317, 407, 431, 543, 550, 565, 575, 586, 614, 675, 704, 720 & 289, 298, 338, 374, 516, 529, 550, 573, 584, 632, 646, 671, 704 & 296, 312, 363, 404, 521, 539, 564, 581, 595, 637, 651, 679, 712 & 22, 0, -3, -39, -7, 5, -10, 5, 4, -23, 2, 15, -8 & 9, 0, 3, -33, 20, 7, -5, -5, -4, -2, -16, 18, 8 & 24, -5, -3, -27, -4, -11, -1, 6, -5, -19, 4, 8, -8 & 21, 5, 44, 3, 22, 4, 1, 5, -9, -23, 24, -4, -8\\\\\n",
       "\\end{tabular}\n"
      ],
      "text/markdown": [
       "\n",
       "A data.frame: 2 × 26\n",
       "\n",
       "| <!--/--> | folder_videoname &lt;chr&gt; | single_animal &lt;lgl&gt; | sex &lt;chr&gt; | age &lt;int&gt; | infusion_hpc &lt;chr&gt; | infusion_pfc &lt;chr&gt; | familiarity &lt;chr&gt; | lighting &lt;chr&gt; | partition &lt;lgl&gt; | stress &lt;chr&gt; | ... ... | fz_overlap &lt;dbl&gt; | cohen_d &lt;dbl&gt; | fz_start_sub1 &lt;list&gt; | fz_end_sub1 &lt;list&gt; | fz_start_sub2 &lt;list&gt; | fz_end_sub2 &lt;list&gt; | lagt_start_s1_s2 &lt;list&gt; | lagt_start_s2_s1 &lt;list&gt; | lagt_end_s1_s2 &lt;list&gt; | lagt_end_s2_s1 &lt;list&gt; |\n",
       "|---|---|---|---|---|---|---|---|---|---|---|---|---|---|---|---|---|---|---|---|---|---|\n",
       "| 5 | 20190408_testing_1_f10ab | FALSE | female | 75 | NA | NA | familiar | visible | FALSE | no_stress | ... | 18.95833 | 0.7708344 | 249, 255, 267, 294, 331, 353, 364, 375, 403, 424, 430, 519, 550, 563, 577, 599, 634, 652, 689 | 253, 262, 272, 299, 338, 359, 368, 383, 409, 429, 435, 525, 558, 568, 594, 615, 640, 657, 694 | 264, 295, 303, 313, 321, 343, 398, 410, 425, 438, 482, 494, 517, 533, 557, 637, 652, 675, 685, 708 | 273, 302, 307, 317, 340, 389, 406, 419, 437, 468, 491, 502, 528, 555, 567, 642, 660, 680, 704, 713 | 15, 9, -3, 1, -10, -10, -21, 23, -5, 1, -5, -2, 7, -6, -20, 38, 3, 0, -4 | 3, -1, -9, 18, 10, 10, 5, -7, -1, -8, 37, 25, 2, -14, 6, -3, 0, 14, 4, -19 | 20, 11, 1, 3, 2, -19, 21, 6, -3, 8, 2, 3, -3, -1, -27, 27, 2, 3, 10 | -1, -3, -8, -18, -2, -6, 3, -10, -2, -33, 34, 23, -3, 3, 1, -2, -3, 14, -10, -19 |\n",
       "| 8 | 20190408_testing_1_f6ab  | FALSE | female | 75 | NA | NA | familiar | visible | FALSE | no_stress | ... | 22.08333 | 1.5967085 | 267, 298, 341, 413, 536, 545, 560, 568, 580, 607, 630, 689, 712 | 272, 317, 407, 431, 543, 550, 565, 575, 586, 614, 675, 704, 720 | 289, 298, 338, 374, 516, 529, 550, 573, 584, 632, 646, 671, 704 | 296, 312, 363, 404, 521, 539, 564, 581, 595, 637, 651, 679, 712 | 22, 0, -3, -39, -7, 5, -10, 5, 4, -23, 2, 15, -8 | 9, 0, 3, -33, 20, 7, -5, -5, -4, -2, -16, 18, 8 | 24, -5, -3, -27, -4, -11, -1, 6, -5, -19, 4, 8, -8 | 21, 5, 44, 3, 22, 4, 1, 5, -9, -23, 24, -4, -8 |\n",
       "\n"
      ],
      "text/plain": [
       "  folder_videoname         single_animal sex    age infusion_hpc infusion_pfc\n",
       "5 20190408_testing_1_f10ab FALSE         female 75  NA           NA          \n",
       "8 20190408_testing_1_f6ab  FALSE         female 75  NA           NA          \n",
       "  familiarity lighting partition stress    ... fz_overlap cohen_d  \n",
       "5 familiar    visible  FALSE     no_stress ... 18.95833   0.7708344\n",
       "8 familiar    visible  FALSE     no_stress ... 22.08333   1.5967085\n",
       "  fz_start_sub1                                                                                \n",
       "5 249, 255, 267, 294, 331, 353, 364, 375, 403, 424, 430, 519, 550, 563, 577, 599, 634, 652, 689\n",
       "8 267, 298, 341, 413, 536, 545, 560, 568, 580, 607, 630, 689, 712                              \n",
       "  fz_end_sub1                                                                                  \n",
       "5 253, 262, 272, 299, 338, 359, 368, 383, 409, 429, 435, 525, 558, 568, 594, 615, 640, 657, 694\n",
       "8 272, 317, 407, 431, 543, 550, 565, 575, 586, 614, 675, 704, 720                              \n",
       "  fz_start_sub2                                                                                     \n",
       "5 264, 295, 303, 313, 321, 343, 398, 410, 425, 438, 482, 494, 517, 533, 557, 637, 652, 675, 685, 708\n",
       "8 289, 298, 338, 374, 516, 529, 550, 573, 584, 632, 646, 671, 704                                   \n",
       "  fz_end_sub2                                                                                       \n",
       "5 273, 302, 307, 317, 340, 389, 406, 419, 437, 468, 491, 502, 528, 555, 567, 642, 660, 680, 704, 713\n",
       "8 296, 312, 363, 404, 521, 539, 564, 581, 595, 637, 651, 679, 712                                   \n",
       "  lagt_start_s1_s2                                                        \n",
       "5 15, 9, -3, 1, -10, -10, -21, 23, -5, 1, -5, -2, 7, -6, -20, 38, 3, 0, -4\n",
       "8 22, 0, -3, -39, -7, 5, -10, 5, 4, -23, 2, 15, -8                        \n",
       "  lagt_start_s2_s1                                                          \n",
       "5 3, -1, -9, 18, 10, 10, 5, -7, -1, -8, 37, 25, 2, -14, 6, -3, 0, 14, 4, -19\n",
       "8 9, 0, 3, -33, 20, 7, -5, -5, -4, -2, -16, 18, 8                           \n",
       "  lagt_end_s1_s2                                                     \n",
       "5 20, 11, 1, 3, 2, -19, 21, 6, -3, 8, 2, 3, -3, -1, -27, 27, 2, 3, 10\n",
       "8 24, -5, -3, -27, -4, -11, -1, 6, -5, -19, 4, 8, -8                 \n",
       "  lagt_end_s2_s1                                                                  \n",
       "5 -1, -3, -8, -18, -2, -6, 3, -10, -2, -33, 34, 23, -3, 3, 1, -2, -3, 14, -10, -19\n",
       "8 21, 5, 44, 3, 22, 4, 1, 5, -9, -23, 24, -4, -8                                  "
      ]
     },
     "metadata": {},
     "output_type": "display_data"
    }
   ],
   "source": [
    "df.set1 <- subset(df, \n",
    "                  single_animal==FALSE & \n",
    "                  is.na(infusion_hpc) &\n",
    "                  is.na(infusion_pfc) & \n",
    "                  familiarity=='familiar' &\n",
    "                  lighting =='visible' & \n",
    "                  partition==FALSE &\n",
    "                  exclude==FALSE)\n",
    "\n",
    "#######################################\n",
    "# Display summary\n",
    "dis_summary(df.set1)\n",
    "\n",
    "# Output data frame as well as Excel file (not included columns of list)\n",
    "df.input = df.set1\n",
    "path = \"C:/Users/User/Dropbox/Jupyter/wataru/synchro_freeze\"\n",
    "base= \"data_set1\"\n",
    "save_files(df.input,path,base)"
   ]
  },
  {
   "cell_type": "markdown",
   "metadata": {},
   "source": [
    "**Change order of individual variables**<BR>\n",
    "    Explicitly set the order in individual valiables"
   ]
  },
  {
   "cell_type": "code",
   "execution_count": 5,
   "metadata": {},
   "outputs": [],
   "source": [
    "df.set1 <- within(df.set1, sex <- factor(sex, levels = c(\"male\",\"female\")))\n",
    "df.set1 <- within(df.set1, stress <- factor(stress, levels = c(\"no_stress\",\"stress\")))"
   ]
  },
  {
   "cell_type": "markdown",
   "metadata": {},
   "source": [
    "**Plot Cohen D with SEM errorbar from familiar male and female pairs**<BR>\n",
    "Remaining independent variables are sex, familiarity and stress.\n",
    "\n",
    "- **ggplot2 dot plot : Quick start guide - R software and data visualization**<BR>\n",
    "http://www.sthda.com/english/wiki/ggplot2-dot-plot-quick-start-guide-r-software-and-data-visualization\n",
    "\n",
    "- **Multiple graphs on one page (ggplot2)**<BR>\n",
    "http://www.cookbook-r.com/Graphs/Multiple_graphs_on_one_page_(ggplot2)/\n",
    "- **ggplot2 まとめ: 初歩から程よいレベルまで (in Japanese)**<BR>\n",
    "https://mrunadon.github.io/images/geom_kazutanR.html \n",
    "- **Beautiful plotting in R: A ggplot2 cheatsheet**<BR>\n",
    "http://zevross.com/blog/2014/08/04/beautiful-plotting-in-r-a-ggplot2-cheatsheet-3/\n",
    "- **Complete themes**<BR>\n",
    "    https://ggplot2.tidyverse.org/reference/ggtheme.html\n",
    "- **Resizing plots in the R kernel for Jupyter notebooks**<BR>\n",
    "https://blog.revolutionanalytics.com/2015/09/resizing-plots-in-the-r-kernel-for-jupyter-notebooks.html        \n",
    "- **GGPLOT LEGEND TITLE, POSITION AND LABELS**<BR>\n",
    " https://www.datanovia.com/en/blog/ggplot-legend-title-position-and-labels/   \n",
    "- **Arrange Multiple ggplots**<BR>\n",
    "    https://rpkgs.datanovia.com/ggpubr/reference/ggarrange.html\n",
    "\n",
    "- **Basic statistical tests Using R**<BR>\n",
    "    https://www.dataanalytics.org.uk/basic-statistical-tests-using-r/\n",
    "    \n",
    "   \n",
    "Other decoration for plots not used below\n",
    "\n",
    "    # Gray plot\n",
    "    # scale_fill_grey() + theme_classic()+\n",
    "    # add error bar in SD\n",
    "    # stat_summary(fun.data=mean_sdl, fun.args = list(mult=1), geom=\"errorbar\", color=\"red\", width=0.2)+\n",
    "    # add mean red point\n",
    "    # stat_summary(fun=mean, geom=\"point\", color=\"red\")"
   ]
  },
  {
   "cell_type": "markdown",
   "metadata": {},
   "source": [
    "## Plot Cohen D for each sex with/without stress"
   ]
  },
  {
   "cell_type": "code",
   "execution_count": 24,
   "metadata": {},
   "outputs": [
    {
     "name": "stdout",
     "output_type": "stream",
     "text": [
      "stress : no_stress , sex : female , min: -1.150091 , mean: 1.009998 , max: 2.437512 , n: 16 , sd: 1.098654 \n",
      "stress : no_stress , sex : male , min: 0.7262769 , mean: 2.048165 , max: 3.344061 , n: 17 , sd: 0.9557928 \n",
      "stress : stress , sex : female , min: 0.1903046 , mean: 2.225274 , max: 4.334237 , n: 9 , sd: 1.533727 \n",
      "stress : stress , sex : male , min: -1.809506 , mean: 0.2413453 , max: 2.296196 , n: 13 , sd: 1.112518 \n"
     ]
    },
    {
     "name": "stderr",
     "output_type": "stream",
     "text": [
      "Warning message:\n",
      "\"Removed 4 rows containing non-finite values (stat_summary).\"\n",
      "Warning message:\n",
      "\"Removed 4 rows containing non-finite values (stat_bindot).\"\n"
     ]
    },
    {
     "data": {
      "image/png": "[encoded data removed]",
      "text/plain": [
       "plot without title"
      ]
     },
     "metadata": {
      "image/png": {
       "height": 360,
       "width": 480
      },
      "text/plain": {
       "height": 360,
       "width": 480
      }
     },
     "output_type": "display_data"
    }
   ],
   "source": [
    "###################################################################################################\n",
    "# Function box_plot\n",
    "###################################################################################################\n",
    "box_plot <- function(df.input, x1_col, y_col, select_col, select_value, yaxis_label){\n",
    "    #######################################################\n",
    "    # parameters to adjust graph\n",
    "    # graph width x height\n",
    "    # plot_width = 8\n",
    "    # plot_height = 6\n",
    "\n",
    "    # dotplot\n",
    "    dp_binwidth=0.2\n",
    "    dp_dotsize=0.8\n",
    "    \n",
    "    # y limits\n",
    "    ylim1 = -1.2\n",
    "    ylim2 = 4.0\n",
    "    \n",
    "#     ylim1 = -2.5\n",
    "#     ylim2 = 4.5\n",
    "\n",
    "    #######################################################\n",
    "    \n",
    "    # get column name\n",
    "    x1 <- names(df.input)[which (colnames(df.input)==x1_col)]\n",
    "    x2 <- names(df.input)[which (colnames(df.input)==select_col)]\n",
    "    y <- names(df.input)[which (colnames(df.input)==y_col)]\n",
    "    \n",
    "    # set the size of final plot\n",
    "    # options(repr.plot.width=plot_width, repr.plot.height=plot_height)\n",
    "\n",
    "    df.temp = df.input[df.input[,x2]==select_value,]\n",
    "    \n",
    "    for (x1_value in unique(df.temp[,x1])){\n",
    "        #print(min(df.temp[df.temp[,x1]==x1_value,y]))\n",
    "        cat(x2,\":\",select_value,\",\", x1,\":\",x1_value,\n",
    "            \", min:\",min(df.temp[df.temp[,x1]==x1_value,y]),\n",
    "            \", mean:\",mean(df.temp[df.temp[,x1]==x1_value,y]),\n",
    "            \", max:\",max(df.temp[df.temp[,x1]==x1_value,y]),\n",
    "            \", n:\",length(df.temp[df.temp[,x1]==x1_value,y]),\n",
    "            \", sd:\",sd(df.temp[df.temp[,x1]==x1_value,y]),\n",
    "            \"\\n\")\n",
    "    }\n",
    "    \n",
    "    \n",
    "    # set data frame and axes\n",
    "    ggp.output <- ggplot(df.temp, aes_string(x=x1, y=y, fill=x1))+\n",
    "        # add boxplot with mean and SEM (MeanSEM) or SD (MeanSD).\n",
    "        # stat_summary(fun.data=MeanSEM, geom=\"boxplot\", colour=\"black\", width=0.6)+\n",
    "        stat_summary(fun.data=MeanSD, geom=\"boxplot\", colour=\"black\", width=0.5)+\n",
    "        # Dotplot\n",
    "        geom_dotplot(binaxis='y', stackdir='center', binwidth=dp_binwidth, dotsize=dp_dotsize, fill='black')+\n",
    "        # y axis label\n",
    "        labs(y=yaxis_label)+\n",
    "        # Limit y axis range\n",
    "        ylim(c(ylim1, ylim2))+\n",
    "\n",
    "    # Remainings are all the same. No need to modify.\n",
    "        # Change filling color for box\n",
    "        scale_fill_manual(values=c(\"#FF3333\", \"#3333FF\"))+\n",
    "        # Change theme. Look at \"Complete themes\" above.\n",
    "        theme_bw()+\n",
    "        # Control of axes\n",
    "        theme(\n",
    "            axis.title.x = element_blank(),\n",
    "            axis.title.y = element_text(size=25,vjust=2,face='bold'),\n",
    "            axis.text=element_text(size=20))+    \n",
    "        # Control of legend\n",
    "        theme(\n",
    "            #legend.position = \"none\",\n",
    "            legend.position = 'bottom',\n",
    "            legend.direction = \"horizontal\",\n",
    "            #legend.title = element_text(size=20,face='bold'),\n",
    "            legend.title = element_blank(),\n",
    "            legend.text=element_text(size=20))\n",
    "    \n",
    "    return(ggp.output)\n",
    "}\n",
    "\n",
    "###################################################################################################\n",
    "# START HERE\n",
    "###################################################################################################\n",
    "# plot no stressed animals\n",
    "df.input = df.set1       # data frame\n",
    "x_col = \"sex\"            # x-axis is sex\n",
    "y_col = \"cohen_d\"        # y-axis is cohen_d\n",
    "select_col = \"stress\"\n",
    "select_value = \"no_stress\"  # limit records with stress in the stress column\n",
    "y_axis_label = \"Cohen D\" # y-asix label\n",
    "\n",
    "out1_1 = box_plot(df.input, x_col, y_col, select_col, select_value, y_axis_label)\n",
    "\n",
    "# plot stressed animals\n",
    "select_col = \"stress\"\n",
    "select_value = \"stress\"  # limit record with stress column is stress\n",
    "\n",
    "out1_2 = box_plot(df.input, x_col, y_col, select_col, select_value, y_axis_label)\n",
    "\n",
    "# plot the two plots together\n",
    "# set the size of final plot, width x height\n",
    "plot_width = 8\n",
    "plot_height= 6\n",
    "options(repr.plot.width=plot_width, repr.plot.height=plot_height)\n",
    "\n",
    "ggarrange(out1_1, out1_2, ncol=2)\n",
    "\n"
   ]
  },
  {
   "cell_type": "markdown",
   "metadata": {},
   "source": [
    "**Export the plot as an eps file**"
   ]
  },
  {
   "cell_type": "code",
   "execution_count": 25,
   "metadata": {},
   "outputs": [],
   "source": [
    "# Output eps file on desktop\n",
    "path = \"C:/Users/User/Desktop\"\n",
    "base = \"plot.eps\"\n",
    "filename = file.path(path, base)\n",
    "\n",
    "ggsave(filename, device=cairo_ps,width=plot_width, height=plot_height)"
   ]
  },
  {
   "cell_type": "markdown",
   "metadata": {},
   "source": [
    "**1-sample t-test**\n",
    "- R - Mean, Median and Mode\n",
    "https://www.tutorialspoint.com/r/r_mean_median_mode.htm\n",
    "\n",
    "- 13.3 T-test: t.test()\n",
    "https://bookdown.org/ndphillips/YaRrr/t-test-t-test.html\n",
    "    \n"
   ]
  },
  {
   "cell_type": "code",
   "execution_count": 10,
   "metadata": {},
   "outputs": [
    {
     "name": "stdout",
     "output_type": "stream",
     "text": [
      "### (male, \tstress) \t###\tp-value:  0.4492714 \n",
      "### (male, \tno_stress) \t###\tp-value:  1.493917e-07 \n",
      "### (female, \tstress) \t###\tp-value:  0.00243649 \n",
      "### (female, \tno_stress) \t###\tp-value:  0.002241291 \n"
     ]
    }
   ],
   "source": [
    "one_sample_t_test <- function(df.input, y_col, x1_col, x1_value, x2_col, x2_value){\n",
    "#############################################################\n",
    "# 1 sample t-test for (y_col), where\n",
    "#     (x1_col) = x1_value\n",
    "#     (x2_col) = x2_value\n",
    "# hypothetical value (mu = 0)\n",
    "#############################################################\n",
    "    # get index for each column name\n",
    "    #    you can use either forms work\n",
    "#     x1 <- which (colnames(df.input)==x1_col)\n",
    "#     x2 <- which (colnames(df.input)==x2_col)\n",
    "#     y <- which (colnames(df.input)==y_col)\n",
    "    x1 <- names(df.input)[which (colnames(df.input)==x1_col)]\n",
    "    x2 <- names(df.input)[which (colnames(df.input)==x2_col)]\n",
    "    y <- names(df.input)[which (colnames(df.input)==y_col)]\n",
    "    \n",
    "    # Extract data frame to vector\n",
    "    temp = df.input[,y][df.input[,x1]==x1_value & df.input[,x2]==x2_value]\n",
    "    \n",
    "    cat(paste0('### (',x1_value,\", \\t\",x2_value, \") \\t###\\t\"))\n",
    "    temp.test <- t.test(temp, mu=0)\n",
    "    cat(\"p-value: \",temp.test[[\"p.value\"]],\"\\n\")\n",
    "    # detailed information\n",
    "    # print(temp.test)\n",
    "\n",
    "    return(temp.test)\n",
    "}\n",
    "for (sex in c(\"male\",\"female\")){\n",
    "    for (stress in c(\"stress\", \"no_stress\")){\n",
    "        temp = one_sample_t_test(df.set1,\"cohen_d\", \"sex\",sex,\"stress\",stress)\n",
    "    }\n",
    "}\n"
   ]
  },
  {
   "cell_type": "markdown",
   "metadata": {},
   "source": [
    "**2-sample t-test**\n",
    "    \n",
    "    Need to set \"var.equal = TRUE\" in t.test\n",
    "- **t-tests**\n",
    "    https://www.statmethods.net/stats/ttest.html"
   ]
  },
  {
   "cell_type": "code",
   "execution_count": 26,
   "metadata": {
    "scrolled": true
   },
   "outputs": [
    {
     "name": "stdout",
     "output_type": "stream",
     "text": [
      "### (male, \tstress) \tvs. (male, \tstress) \t###\tp-value:  1 \n",
      "### (male, \tstress) \tvs. (male, \tno_stress) \t###\tp-value:  5.05796e-05 \n",
      "### (male, \tno_stress) \tvs. (male, \tstress) \t###\tp-value:  5.05796e-05 \n",
      "### (male, \tno_stress) \tvs. (male, \tno_stress) \t###\tp-value:  1 \n",
      "### (male, \tstress) \tvs. (female, \tstress) \t###\tp-value:  0.002122806 \n",
      "### (male, \tstress) \tvs. (female, \tno_stress) \t###\tp-value:  0.07334343 \n",
      "### (male, \tno_stress) \tvs. (female, \tstress) \t###\tp-value:  0.7190451 \n",
      "### (male, \tno_stress) \tvs. (female, \tno_stress) \t###\tp-value:  0.006784861 \n",
      "### (female, \tstress) \tvs. (male, \tstress) \t###\tp-value:  0.002122806 \n",
      "### (female, \tstress) \tvs. (male, \tno_stress) \t###\tp-value:  0.7190451 \n",
      "### (female, \tno_stress) \tvs. (male, \tstress) \t###\tp-value:  0.07334343 \n",
      "### (female, \tno_stress) \tvs. (male, \tno_stress) \t###\tp-value:  0.006784861 \n",
      "### (female, \tstress) \tvs. (female, \tstress) \t###\tp-value:  1 \n",
      "### (female, \tstress) \tvs. (female, \tno_stress) \t###\tp-value:  0.03073199 \n",
      "### (female, \tno_stress) \tvs. (female, \tstress) \t###\tp-value:  0.03073199 \n",
      "### (female, \tno_stress) \tvs. (female, \tno_stress) \t###\tp-value:  1 \n"
     ]
    }
   ],
   "source": [
    "two_sample_t_test <- function(df.input, y_col, xa1_col, xa1_value, xa2_col, xa2_value,xb1_col, xb1_value, xb2_col, xb2_value){\n",
    "#############################################################\n",
    "# 2 sample t-test for (y_col), between\n",
    "#     (xa1_col) = xa1_value and (xa2_col) = xa2_value\n",
    "#     (xb1_col) = xb1_value and (xb2_col) = xb2_value\n",
    "#############################################################\n",
    "    # get index for each column name\n",
    "    xa1 <- names(df.input)[which (colnames(df.input)==xa1_col)]\n",
    "    xa2 <- names(df.input)[which (colnames(df.input)==xa2_col)]\n",
    "    xb1 <- names(df.input)[which (colnames(df.input)==xb1_col)]\n",
    "    xb2 <- names(df.input)[which (colnames(df.input)==xb2_col)]\n",
    "    y <- names(df.input)[which (colnames(df.input)==y_col)]\n",
    "    \n",
    "    # Extract data frame\n",
    "    temp.a = df.input[,y][df.input[,xa1]==xa1_value & df.input[,xa2]==xa2_value]\n",
    "    temp.b = df.input[,y][df.input[,xb1]==xb1_value & df.input[,xb2]==xb2_value]\n",
    "    \n",
    "    cat(paste0('### (',xa1_value,\", \\t\",xa2_value, \") \\tvs. (\", xb1_value, \", \\t\", xb2_value, \") \\t###\\t\"))\n",
    "    temp.test <- t.test(temp.a, temp.b, var.equal = TRUE)\n",
    "    cat(\"p-value: \",temp.test[[\"p.value\"]],\"\\n\")\n",
    "    # detailed information\n",
    "    #print(temp.test)\n",
    "\n",
    "    return(temp.test)\n",
    "}\n",
    "\n",
    "for (sex1 in c(\"male\", \"female\")){\n",
    "    for (sex2 in c(\"male\", \"female\")){\n",
    "        for (stress1 in c(\"stress\",\"no_stress\")){\n",
    "            for (stress2 in c(\"stress\",\"no_stress\")){\n",
    "                temp = two_sample_t_test(df.set1, \"cohen_d\",\"sex\",sex1,\"stress\",stress1,\"sex\",sex2,\"stress\",stress2)\n",
    "}}}}\n"
   ]
  },
  {
   "cell_type": "markdown",
   "metadata": {},
   "source": [
    "---\n",
    "## Step 4. Sex and stress effects on freezing\n",
    "**Compute the average from sub1 and sub2 freezing into a new column 'fz_ave'**"
   ]
  },
  {
   "cell_type": "code",
   "execution_count": 13,
   "metadata": {
    "scrolled": true
   },
   "outputs": [
    {
     "name": "stdout",
     "output_type": "stream",
     "text": [
      "dimension:  55 27 \n",
      "   folder_videoname       single_animal                 sex                 age \n",
      "        \"character\"           \"logical\"            \"factor\"           \"integer\" \n",
      "       infusion_hpc        infusion_pfc         familiarity            lighting \n",
      "        \"character\"         \"character\"         \"character\"         \"character\" \n",
      "          partition              stress             comment             exclude \n",
      "          \"logical\"            \"factor\"         \"character\"           \"logical\" \n",
      "  together_alone_id together_alone_role             fz_sub1             fz_sub2 \n",
      "           \"factor\"            \"factor\"           \"numeric\"           \"numeric\" \n",
      "         fz_overlap             cohen_d       fz_start_sub1         fz_end_sub1 \n",
      "          \"numeric\"           \"numeric\"              \"list\"              \"list\" \n",
      "      fz_start_sub2         fz_end_sub2    lagt_start_s1_s2    lagt_start_s2_s1 \n",
      "             \"list\"              \"list\"              \"list\"              \"list\" \n",
      "     lagt_end_s1_s2      lagt_end_s2_s1              fz_ave \n",
      "             \"list\"              \"list\"           \"numeric\" \n"
     ]
    },
    {
     "data": {
      "text/html": [
       "<table>\n",
       "<caption>A data.frame: 2 × 27</caption>\n",
       "<thead>\n",
       "\t<tr><th></th><th scope=col>folder_videoname</th><th scope=col>single_animal</th><th scope=col>sex</th><th scope=col>age</th><th scope=col>infusion_hpc</th><th scope=col>infusion_pfc</th><th scope=col>familiarity</th><th scope=col>lighting</th><th scope=col>partition</th><th scope=col>stress</th><th scope=col>...</th><th scope=col>cohen_d</th><th scope=col>fz_start_sub1</th><th scope=col>fz_end_sub1</th><th scope=col>fz_start_sub2</th><th scope=col>fz_end_sub2</th><th scope=col>lagt_start_s1_s2</th><th scope=col>lagt_start_s2_s1</th><th scope=col>lagt_end_s1_s2</th><th scope=col>lagt_end_s2_s1</th><th scope=col>fz_ave</th></tr>\n",
       "\t<tr><th></th><th scope=col>&lt;chr&gt;</th><th scope=col>&lt;lgl&gt;</th><th scope=col>&lt;fct&gt;</th><th scope=col>&lt;int&gt;</th><th scope=col>&lt;chr&gt;</th><th scope=col>&lt;chr&gt;</th><th scope=col>&lt;chr&gt;</th><th scope=col>&lt;chr&gt;</th><th scope=col>&lt;lgl&gt;</th><th scope=col>&lt;fct&gt;</th><th scope=col>...</th><th scope=col>&lt;dbl&gt;</th><th scope=col>&lt;list&gt;</th><th scope=col>&lt;list&gt;</th><th scope=col>&lt;list&gt;</th><th scope=col>&lt;list&gt;</th><th scope=col>&lt;list&gt;</th><th scope=col>&lt;list&gt;</th><th scope=col>&lt;list&gt;</th><th scope=col>&lt;list&gt;</th><th scope=col>&lt;dbl&gt;</th></tr>\n",
       "</thead>\n",
       "<tbody>\n",
       "\t<tr><th scope=row>5</th><td>20190408_testing_1_f10ab</td><td>FALSE</td><td>female</td><td>75</td><td>NA</td><td>NA</td><td>familiar</td><td>visible</td><td>FALSE</td><td>no_stress</td><td>...</td><td>0.7708344</td><td>249, 255, 267, 294, 331, 353, 364, 375, 403, 424, 430, 519, 550, 563, 577, 599, 634, 652, 689</td><td>253, 262, 272, 299, 338, 359, 368, 383, 409, 429, 435, 525, 558, 568, 594, 615, 640, 657, 694</td><td>264, 295, 303, 313, 321, 343, 398, 410, 425, 438, 482, 494, 517, 533, 557, 637, 652, 675, 685, 708</td><td>273, 302, 307, 317, 340, 389, 406, 419, 437, 468, 491, 502, 528, 555, 567, 642, 660, 680, 704, 713</td><td>15, 9, -3, 1, -10, -10, -21, 23, -5, 1, -5, -2, 7, -6, -20, 38, 3, 0, -4</td><td>3, -1, -9, 18, 10, 10, 5, -7, -1, -8, 37, 25, 2, -14, 6, -3, 0, 14, 4, -19</td><td>20, 11, 1, 3, 2, -19, 21, 6, -3, 8, 2, 3, -3, -1, -27, 27, 2, 3, 10</td><td>-1, -3, -8, -18, -2, -6, 3, -10, -2, -33, 34, 23, -3, 3, 1, -2, -3, 14, -10, -19</td><td>43.64583</td></tr>\n",
       "\t<tr><th scope=row>8</th><td>20190408_testing_1_f6ab </td><td>FALSE</td><td>female</td><td>75</td><td>NA</td><td>NA</td><td>familiar</td><td>visible</td><td>FALSE</td><td>no_stress</td><td>...</td><td>1.5967085</td><td>267, 298, 341, 413, 536, 545, 560, 568, 580, 607, 630, 689, 712</td><td>272, 317, 407, 431, 543, 550, 565, 575, 586, 614, 675, 704, 720</td><td>289, 298, 338, 374, 516, 529, 550, 573, 584, 632, 646, 671, 704</td><td>296, 312, 363, 404, 521, 539, 564, 581, 595, 637, 651, 679, 712</td><td>22, 0, -3, -39, -7, 5, -10, 5, 4, -23, 2, 15, -8</td><td>9, 0, 3, -33, 20, 7, -5, -5, -4, -2, -16, 18, 8</td><td>24, -5, -3, -27, -4, -11, -1, 6, -5, -19, 4, 8, -8</td><td>21, 5, 44, 3, 22, 4, 1, 5, -9, -23, 24, -4, -8</td><td>40.52083</td></tr>\n",
       "</tbody>\n",
       "</table>\n"
      ],
      "text/latex": [
       "A data.frame: 2 × 27\n",
       "\\begin{tabular}{r|lllllllllllllllllllll}\n",
       "  & folder\\_videoname & single\\_animal & sex & age & infusion\\_hpc & infusion\\_pfc & familiarity & lighting & partition & stress & ... & cohen\\_d & fz\\_start\\_sub1 & fz\\_end\\_sub1 & fz\\_start\\_sub2 & fz\\_end\\_sub2 & lagt\\_start\\_s1\\_s2 & lagt\\_start\\_s2\\_s1 & lagt\\_end\\_s1\\_s2 & lagt\\_end\\_s2\\_s1 & fz\\_ave\\\\\n",
       "  & <chr> & <lgl> & <fct> & <int> & <chr> & <chr> & <chr> & <chr> & <lgl> & <fct> & ... & <dbl> & <list> & <list> & <list> & <list> & <list> & <list> & <list> & <list> & <dbl>\\\\\n",
       "\\hline\n",
       "\t5 & 20190408\\_testing\\_1\\_f10ab & FALSE & female & 75 & NA & NA & familiar & visible & FALSE & no\\_stress & ... & 0.7708344 & 249, 255, 267, 294, 331, 353, 364, 375, 403, 424, 430, 519, 550, 563, 577, 599, 634, 652, 689 & 253, 262, 272, 299, 338, 359, 368, 383, 409, 429, 435, 525, 558, 568, 594, 615, 640, 657, 694 & 264, 295, 303, 313, 321, 343, 398, 410, 425, 438, 482, 494, 517, 533, 557, 637, 652, 675, 685, 708 & 273, 302, 307, 317, 340, 389, 406, 419, 437, 468, 491, 502, 528, 555, 567, 642, 660, 680, 704, 713 & 15, 9, -3, 1, -10, -10, -21, 23, -5, 1, -5, -2, 7, -6, -20, 38, 3, 0, -4 & 3, -1, -9, 18, 10, 10, 5, -7, -1, -8, 37, 25, 2, -14, 6, -3, 0, 14, 4, -19 & 20, 11, 1, 3, 2, -19, 21, 6, -3, 8, 2, 3, -3, -1, -27, 27, 2, 3, 10 & -1, -3, -8, -18, -2, -6, 3, -10, -2, -33, 34, 23, -3, 3, 1, -2, -3, 14, -10, -19 & 43.64583\\\\\n",
       "\t8 & 20190408\\_testing\\_1\\_f6ab  & FALSE & female & 75 & NA & NA & familiar & visible & FALSE & no\\_stress & ... & 1.5967085 & 267, 298, 341, 413, 536, 545, 560, 568, 580, 607, 630, 689, 712 & 272, 317, 407, 431, 543, 550, 565, 575, 586, 614, 675, 704, 720 & 289, 298, 338, 374, 516, 529, 550, 573, 584, 632, 646, 671, 704 & 296, 312, 363, 404, 521, 539, 564, 581, 595, 637, 651, 679, 712 & 22, 0, -3, -39, -7, 5, -10, 5, 4, -23, 2, 15, -8 & 9, 0, 3, -33, 20, 7, -5, -5, -4, -2, -16, 18, 8 & 24, -5, -3, -27, -4, -11, -1, 6, -5, -19, 4, 8, -8 & 21, 5, 44, 3, 22, 4, 1, 5, -9, -23, 24, -4, -8 & 40.52083\\\\\n",
       "\\end{tabular}\n"
      ],
      "text/markdown": [
       "\n",
       "A data.frame: 2 × 27\n",
       "\n",
       "| <!--/--> | folder_videoname &lt;chr&gt; | single_animal &lt;lgl&gt; | sex &lt;fct&gt; | age &lt;int&gt; | infusion_hpc &lt;chr&gt; | infusion_pfc &lt;chr&gt; | familiarity &lt;chr&gt; | lighting &lt;chr&gt; | partition &lt;lgl&gt; | stress &lt;fct&gt; | ... ... | cohen_d &lt;dbl&gt; | fz_start_sub1 &lt;list&gt; | fz_end_sub1 &lt;list&gt; | fz_start_sub2 &lt;list&gt; | fz_end_sub2 &lt;list&gt; | lagt_start_s1_s2 &lt;list&gt; | lagt_start_s2_s1 &lt;list&gt; | lagt_end_s1_s2 &lt;list&gt; | lagt_end_s2_s1 &lt;list&gt; | fz_ave &lt;dbl&gt; |\n",
       "|---|---|---|---|---|---|---|---|---|---|---|---|---|---|---|---|---|---|---|---|---|---|\n",
       "| 5 | 20190408_testing_1_f10ab | FALSE | female | 75 | NA | NA | familiar | visible | FALSE | no_stress | ... | 0.7708344 | 249, 255, 267, 294, 331, 353, 364, 375, 403, 424, 430, 519, 550, 563, 577, 599, 634, 652, 689 | 253, 262, 272, 299, 338, 359, 368, 383, 409, 429, 435, 525, 558, 568, 594, 615, 640, 657, 694 | 264, 295, 303, 313, 321, 343, 398, 410, 425, 438, 482, 494, 517, 533, 557, 637, 652, 675, 685, 708 | 273, 302, 307, 317, 340, 389, 406, 419, 437, 468, 491, 502, 528, 555, 567, 642, 660, 680, 704, 713 | 15, 9, -3, 1, -10, -10, -21, 23, -5, 1, -5, -2, 7, -6, -20, 38, 3, 0, -4 | 3, -1, -9, 18, 10, 10, 5, -7, -1, -8, 37, 25, 2, -14, 6, -3, 0, 14, 4, -19 | 20, 11, 1, 3, 2, -19, 21, 6, -3, 8, 2, 3, -3, -1, -27, 27, 2, 3, 10 | -1, -3, -8, -18, -2, -6, 3, -10, -2, -33, 34, 23, -3, 3, 1, -2, -3, 14, -10, -19 | 43.64583 |\n",
       "| 8 | 20190408_testing_1_f6ab  | FALSE | female | 75 | NA | NA | familiar | visible | FALSE | no_stress | ... | 1.5967085 | 267, 298, 341, 413, 536, 545, 560, 568, 580, 607, 630, 689, 712 | 272, 317, 407, 431, 543, 550, 565, 575, 586, 614, 675, 704, 720 | 289, 298, 338, 374, 516, 529, 550, 573, 584, 632, 646, 671, 704 | 296, 312, 363, 404, 521, 539, 564, 581, 595, 637, 651, 679, 712 | 22, 0, -3, -39, -7, 5, -10, 5, 4, -23, 2, 15, -8 | 9, 0, 3, -33, 20, 7, -5, -5, -4, -2, -16, 18, 8 | 24, -5, -3, -27, -4, -11, -1, 6, -5, -19, 4, 8, -8 | 21, 5, 44, 3, 22, 4, 1, 5, -9, -23, 24, -4, -8 | 40.52083 |\n",
       "\n"
      ],
      "text/plain": [
       "  folder_videoname         single_animal sex    age infusion_hpc infusion_pfc\n",
       "5 20190408_testing_1_f10ab FALSE         female 75  NA           NA          \n",
       "8 20190408_testing_1_f6ab  FALSE         female 75  NA           NA          \n",
       "  familiarity lighting partition stress    ... cohen_d  \n",
       "5 familiar    visible  FALSE     no_stress ... 0.7708344\n",
       "8 familiar    visible  FALSE     no_stress ... 1.5967085\n",
       "  fz_start_sub1                                                                                \n",
       "5 249, 255, 267, 294, 331, 353, 364, 375, 403, 424, 430, 519, 550, 563, 577, 599, 634, 652, 689\n",
       "8 267, 298, 341, 413, 536, 545, 560, 568, 580, 607, 630, 689, 712                              \n",
       "  fz_end_sub1                                                                                  \n",
       "5 253, 262, 272, 299, 338, 359, 368, 383, 409, 429, 435, 525, 558, 568, 594, 615, 640, 657, 694\n",
       "8 272, 317, 407, 431, 543, 550, 565, 575, 586, 614, 675, 704, 720                              \n",
       "  fz_start_sub2                                                                                     \n",
       "5 264, 295, 303, 313, 321, 343, 398, 410, 425, 438, 482, 494, 517, 533, 557, 637, 652, 675, 685, 708\n",
       "8 289, 298, 338, 374, 516, 529, 550, 573, 584, 632, 646, 671, 704                                   \n",
       "  fz_end_sub2                                                                                       \n",
       "5 273, 302, 307, 317, 340, 389, 406, 419, 437, 468, 491, 502, 528, 555, 567, 642, 660, 680, 704, 713\n",
       "8 296, 312, 363, 404, 521, 539, 564, 581, 595, 637, 651, 679, 712                                   \n",
       "  lagt_start_s1_s2                                                        \n",
       "5 15, 9, -3, 1, -10, -10, -21, 23, -5, 1, -5, -2, 7, -6, -20, 38, 3, 0, -4\n",
       "8 22, 0, -3, -39, -7, 5, -10, 5, 4, -23, 2, 15, -8                        \n",
       "  lagt_start_s2_s1                                                          \n",
       "5 3, -1, -9, 18, 10, 10, 5, -7, -1, -8, 37, 25, 2, -14, 6, -3, 0, 14, 4, -19\n",
       "8 9, 0, 3, -33, 20, 7, -5, -5, -4, -2, -16, 18, 8                           \n",
       "  lagt_end_s1_s2                                                     \n",
       "5 20, 11, 1, 3, 2, -19, 21, 6, -3, 8, 2, 3, -3, -1, -27, 27, 2, 3, 10\n",
       "8 24, -5, -3, -27, -4, -11, -1, 6, -5, -19, 4, 8, -8                 \n",
       "  lagt_end_s2_s1                                                                  \n",
       "5 -1, -3, -8, -18, -2, -6, 3, -10, -2, -33, 34, 23, -3, 3, 1, -2, -3, 14, -10, -19\n",
       "8 21, 5, 44, 3, 22, 4, 1, 5, -9, -23, 24, -4, -8                                  \n",
       "  fz_ave  \n",
       "5 43.64583\n",
       "8 40.52083"
      ]
     },
     "metadata": {},
     "output_type": "display_data"
    }
   ],
   "source": [
    "df.set1['fz_ave'] = (df.set1['fz_sub1'] + df.set1['fz_sub2']) / 2\n",
    "\n",
    "#######################################\n",
    "# Display summary\n",
    "dis_summary(df.set1)\n",
    "\n",
    "# Output data frame as well as Excel file (not included columns of list)\n",
    "df.input = df.set1\n",
    "path = \"C:/Users/User/Dropbox/Jupyter/wataru/synchro_freeze\"\n",
    "base= \"data_set1\"\n",
    "save_files(df.input,path,base)"
   ]
  },
  {
   "cell_type": "markdown",
   "metadata": {},
   "source": [
    "**plot the graphs**"
   ]
  },
  {
   "cell_type": "code",
   "execution_count": 14,
   "metadata": {},
   "outputs": [
    {
     "name": "stdout",
     "output_type": "stream",
     "text": [
      "stress : no_stress , sex : female , min: 14.375 , mean: 47.08984 , max: 65.9375 , n: 16 , sd: 14.80528 \n",
      "stress : no_stress , sex : male , min: 6.875 , mean: 37.98407 , max: 67.8125 , n: 17 , sd: 18.94445 \n",
      "stress : stress , sex : female , min: 41.875 , mean: 65.69444 , max: 83.64583 , n: 9 , sd: 13.98066 \n",
      "stress : stress , sex : male , min: 15 , mean: 39.21474 , max: 66.66667 , n: 13 , sd: 16.92778 \n"
     ]
    },
    {
     "name": "stderr",
     "output_type": "stream",
     "text": [
      "Warning message:\n",
      "\"Removed 3 rows containing non-finite values (stat_summary).\"\n",
      "Warning message:\n",
      "\"Removed 3 rows containing non-finite values (stat_bindot).\"\n"
     ]
    },
    {
     "data": {
      "image/png": "[encoded data removed]",
      "text/plain": [
       "plot without title"
      ]
     },
     "metadata": {
      "image/png": {
       "height": 360,
       "width": 480
      },
      "text/plain": {
       "height": 360,
       "width": 480
      }
     },
     "output_type": "display_data"
    }
   ],
   "source": [
    "###################################################################################################\n",
    "# Function box_plot\n",
    "###################################################################################################\n",
    "box_plot <- function(df.input, x1_col, y_col, select_col, select_value, yaxis_label){\n",
    "    #######################################################\n",
    "    # parameters to adjust graph\n",
    "    # graph width x height\n",
    "    # plot_width = 8\n",
    "    # plot_height = 6\n",
    "\n",
    "    # dotplot\n",
    "    dp_binwidth=0.7\n",
    "    dp_dotsize=3\n",
    "    \n",
    "    # y limits\n",
    "    ylim1 = 0\n",
    "    ylim2 = 75\n",
    "\n",
    "#     ylim1 = -2\n",
    "#     ylim2 = 90\n",
    "    #######################################################\n",
    "    \n",
    "    # get column name\n",
    "    x1 <- names(df.input)[which (colnames(df.input)==x1_col)]\n",
    "    x2 <- names(df.input)[which (colnames(df.input)==select_col)]\n",
    "    y <- names(df.input)[which (colnames(df.input)==y_col)]\n",
    "    \n",
    "    # set the size of final plot\n",
    "    # options(repr.plot.width=plot_width, repr.plot.height=plot_height)\n",
    "\n",
    "    df.temp = df.input[df.input[,x2]==select_value,]\n",
    "    \n",
    "    for (x1_value in unique(df.temp[,x1])){\n",
    "        #print(min(df.temp[df.temp[,x1]==x1_value,y]))\n",
    "        cat(x2,\":\",select_value,\",\", x1,\":\",x1_value,\n",
    "            \", min:\",min(df.temp[df.temp[,x1]==x1_value,y]),\n",
    "            \", mean:\",mean(df.temp[df.temp[,x1]==x1_value,y]),\n",
    "            \", max:\",max(df.temp[df.temp[,x1]==x1_value,y]),\n",
    "            \", n:\",length(df.temp[df.temp[,x1]==x1_value,y]),\n",
    "            \", sd:\",sd(df.temp[df.temp[,x1]==x1_value,y]),\n",
    "            \"\\n\")\n",
    "    }\n",
    "    \n",
    "    \n",
    "    # set data frame and axes\n",
    "    ggp.output <- ggplot(df.temp, aes_string(x=x1, y=y, fill=x1))+\n",
    "        # add boxplot with mean and SEM (MeanSEM) or SD (MeanSD).\n",
    "        # stat_summary(fun.data=MeanSEM, geom=\"boxplot\", colour=\"black\", width=0.6)+\n",
    "        stat_summary(fun.data=MeanSD, geom=\"boxplot\", colour=\"black\", width=0.5)+\n",
    "        # Dotplot\n",
    "        geom_dotplot(binaxis='y', stackdir='center', binwidth=dp_binwidth, dotsize=dp_dotsize, fill='black')+\n",
    "        # y axis label\n",
    "        labs(y=yaxis_label)+\n",
    "        # Limit y axis range\n",
    "        ylim(c(ylim1, ylim2))+\n",
    "\n",
    "    # Remainings are all the same. No need to modify.\n",
    "        # Change filling color for box\n",
    "        scale_fill_manual(values=c(\"#FF3333\", \"#3333FF\"))+\n",
    "        # Change theme. Look at \"Complete themes\" above.\n",
    "        theme_bw()+\n",
    "        # Control of axes\n",
    "        theme(\n",
    "            axis.title.x = element_blank(),\n",
    "            axis.title.y = element_text(size=25,vjust=2,face='bold'),\n",
    "            axis.text=element_text(size=20))+    \n",
    "        # Control of legend\n",
    "        theme(\n",
    "            #legend.position = \"none\",\n",
    "            legend.position = 'bottom',\n",
    "            legend.direction = \"horizontal\",\n",
    "            #legend.title = element_text(size=20,face='bold'),\n",
    "            legend.title = element_blank(),\n",
    "            legend.text=element_text(size=20))\n",
    "    \n",
    "    return(ggp.output)\n",
    "}\n",
    "\n",
    "###################################################################################################\n",
    "# START HERE\n",
    "###################################################################################################\n",
    "\n",
    "\n",
    "out2_1 = box_plot(df.set1, \"sex\",\"fz_ave\", \"stress\", \"no_stress\",\"Freezing (%)\")\n",
    "out2_2 = box_plot(df.set1, \"sex\",\"fz_ave\", \"stress\", \"stress\",\"Freezing (%)\")\n",
    "\n",
    "# plot the two plots\n",
    "# set the size of final plot, width x height\n",
    "plot_width = 8\n",
    "plot_height = 6\n",
    "options(repr.plot.width=plot_width, repr.plot.height=plot_height)\n",
    "\n",
    "ggarrange(out2_1, out2_2, ncol=2)"
   ]
  },
  {
   "cell_type": "markdown",
   "metadata": {},
   "source": [
    "**Export the plot as an eps file**"
   ]
  },
  {
   "cell_type": "code",
   "execution_count": 61,
   "metadata": {},
   "outputs": [],
   "source": [
    "# Output eps file on desktop\n",
    "path = \"C:/Users/User/Desktop\"\n",
    "base = \"plot.eps\"\n",
    "filename = file.path(path, base)\n",
    "\n",
    "ggsave(filename, device=cairo_ps,width=plot_width, height=plot_height)"
   ]
  },
  {
   "cell_type": "markdown",
   "metadata": {},
   "source": [
    "**2-sample t-test**\n",
    "    \n",
    "    Need to set \"var.equal = TRUE\" in t.test\n",
    "- **t-tests**\n",
    "    https://www.statmethods.net/stats/ttest.html"
   ]
  },
  {
   "cell_type": "code",
   "execution_count": 29,
   "metadata": {},
   "outputs": [
    {
     "name": "stdout",
     "output_type": "stream",
     "text": [
      "### (male, \tstress) \tvs. (male, \tstress) \t###\tp-value:  1 \n",
      "### (male, \tstress) \tvs. (male, \tno_stress) \t###\tp-value:  0.8549776 \n",
      "### (male, \tno_stress) \tvs. (male, \tstress) \t###\tp-value:  0.8549776 \n",
      "### (male, \tno_stress) \tvs. (male, \tno_stress) \t###\tp-value:  1 \n",
      "### (male, \tstress) \tvs. (female, \tstress) \t###\tp-value:  0.0009730087 \n",
      "### (male, \tstress) \tvs. (female, \tno_stress) \t###\tp-value:  0.1926338 \n",
      "### (male, \tno_stress) \tvs. (female, \tstress) \t###\tp-value:  0.0007638191 \n",
      "### (male, \tno_stress) \tvs. (female, \tno_stress) \t###\tp-value:  0.1357369 \n",
      "### (female, \tstress) \tvs. (male, \tstress) \t###\tp-value:  0.0009730087 \n",
      "### (female, \tstress) \tvs. (male, \tno_stress) \t###\tp-value:  0.0007638191 \n",
      "### (female, \tno_stress) \tvs. (male, \tstress) \t###\tp-value:  0.1926338 \n",
      "### (female, \tno_stress) \tvs. (male, \tno_stress) \t###\tp-value:  0.1357369 \n",
      "### (female, \tstress) \tvs. (female, \tstress) \t###\tp-value:  1 \n",
      "### (female, \tstress) \tvs. (female, \tno_stress) \t###\tp-value:  0.005363606 \n",
      "### (female, \tno_stress) \tvs. (female, \tstress) \t###\tp-value:  0.005363606 \n",
      "### (female, \tno_stress) \tvs. (female, \tno_stress) \t###\tp-value:  1 \n"
     ]
    }
   ],
   "source": [
    "two_sample_t_test <- function(df.input, y_col, xa1_col, xa1_value, xa2_col, xa2_value,xb1_col, xb1_value, xb2_col, xb2_value){\n",
    "#############################################################\n",
    "# 2 sample t-test for (y_col), between\n",
    "#     (xa1_col) = xa1_value and (xa2_col) = xa2_value\n",
    "#     (xb1_col) = xb1_value and (xb2_col) = xb2_value\n",
    "#############################################################\n",
    "    # get index for each column name\n",
    "    xa1 <- names(df.input)[which (colnames(df.input)==xa1_col)]\n",
    "    xa2 <- names(df.input)[which (colnames(df.input)==xa2_col)]\n",
    "    xb1 <- names(df.input)[which (colnames(df.input)==xb1_col)]\n",
    "    xb2 <- names(df.input)[which (colnames(df.input)==xb2_col)]\n",
    "    y <- names(df.input)[which (colnames(df.input)==y_col)]\n",
    "    \n",
    "    # Extract data frame\n",
    "    temp.a = df.input[,y][df.input[,xa1]==xa1_value & df.input[,xa2]==xa2_value]\n",
    "    temp.b = df.input[,y][df.input[,xb1]==xb1_value & df.input[,xb2]==xb2_value]\n",
    "    \n",
    "    cat(paste0('### (',xa1_value,\", \\t\",xa2_value, \") \\tvs. (\", xb1_value, \", \\t\", xb2_value, \") \\t###\\t\"))\n",
    "    temp.test <- t.test(temp.a, temp.b, var.equal = TRUE)\n",
    "    cat(\"p-value: \",temp.test[[\"p.value\"]],\"\\n\")\n",
    "    # detailed information\n",
    "    #print(temp.test)\n",
    "    \n",
    "    return(temp.test)\n",
    "}\n",
    "\n",
    "for (sex1 in c(\"male\", \"female\")){\n",
    "    for (sex2 in c(\"male\", \"female\")){\n",
    "        for (stress1 in c(\"stress\",\"no_stress\")){\n",
    "            for (stress2 in c(\"stress\",\"no_stress\")){\n",
    "                temp = two_sample_t_test(df.set1, \"fz_ave\",\"sex\",sex1,\"stress\",stress1,\"sex\",sex2,\"stress\",stress2)\n",
    "}}}}\n"
   ]
  },
  {
   "cell_type": "markdown",
   "metadata": {},
   "source": [
    "---\n",
    "**Examine the output from 2-sample t-test**<BR>\n",
    "The class of output is 'htest', and complecated!"
   ]
  },
  {
   "cell_type": "code",
   "execution_count": 12,
   "metadata": {
    "scrolled": true
   },
   "outputs": [
    {
     "data": {
      "text/plain": [
       "\n",
       "\tWelch Two Sample t-test\n",
       "\n",
       "data:  temp.a and temp.b\n",
       "t = 0, df = 62, p-value = 1\n",
       "alternative hypothesis: true difference in means is not equal to 0\n",
       "95 percent confidence interval:\n",
       " -8.758504  8.758504\n",
       "sample estimates:\n",
       "mean of x mean of y \n",
       " 47.08984  47.08984 \n"
      ]
     },
     "metadata": {},
     "output_type": "display_data"
    },
    {
     "data": {
      "text/html": [
       "<style>\n",
       ".list-inline {list-style: none; margin:0; padding: 0}\n",
       ".list-inline>li {display: inline-block}\n",
       ".list-inline>li:not(:last-child)::after {content: \"\\00b7\"; padding: 0 .5ex}\n",
       "</style>\n",
       "<ol class=list-inline><li>'statistic'</li><li>'parameter'</li><li>'p.value'</li><li>'conf.int'</li><li>'estimate'</li><li>'null.value'</li><li>'stderr'</li><li>'alternative'</li><li>'method'</li><li>'data.name'</li></ol>\n"
      ],
      "text/latex": [
       "\\begin{enumerate*}\n",
       "\\item 'statistic'\n",
       "\\item 'parameter'\n",
       "\\item 'p.value'\n",
       "\\item 'conf.int'\n",
       "\\item 'estimate'\n",
       "\\item 'null.value'\n",
       "\\item 'stderr'\n",
       "\\item 'alternative'\n",
       "\\item 'method'\n",
       "\\item 'data.name'\n",
       "\\end{enumerate*}\n"
      ],
      "text/markdown": [
       "1. 'statistic'\n",
       "2. 'parameter'\n",
       "3. 'p.value'\n",
       "4. 'conf.int'\n",
       "5. 'estimate'\n",
       "6. 'null.value'\n",
       "7. 'stderr'\n",
       "8. 'alternative'\n",
       "9. 'method'\n",
       "10. 'data.name'\n",
       "\n",
       "\n"
      ],
      "text/plain": [
       " [1] \"statistic\"   \"parameter\"   \"p.value\"     \"conf.int\"    \"estimate\"   \n",
       " [6] \"null.value\"  \"stderr\"      \"alternative\" \"method\"      \"data.name\"  "
      ]
     },
     "metadata": {},
     "output_type": "display_data"
    },
    {
     "data": {
      "text/html": [
       "'htest'"
      ],
      "text/latex": [
       "'htest'"
      ],
      "text/markdown": [
       "'htest'"
      ],
      "text/plain": [
       "[1] \"htest\""
      ]
     },
     "metadata": {},
     "output_type": "display_data"
    },
    {
     "name": "stdout",
     "output_type": "stream",
     "text": [
      "List of 10\n",
      " $ statistic  : Named num 0\n",
      "  ..- attr(*, \"names\")= chr \"t\"\n",
      " $ parameter  : Named num 62\n",
      "  ..- attr(*, \"names\")= chr \"df\"\n",
      " $ p.value    : num 1\n",
      " $ conf.int   : num [1:2] -8.76 8.76\n",
      "  ..- attr(*, \"conf.level\")= num 0.95\n",
      " $ estimate   : Named num [1:2] 47.1 47.1\n",
      "  ..- attr(*, \"names\")= chr [1:2] \"mean of x\" \"mean of y\"\n",
      " $ null.value : Named num 0\n",
      "  ..- attr(*, \"names\")= chr \"difference in means\"\n",
      " $ stderr     : num 4.38\n",
      " $ alternative: chr \"two.sided\"\n",
      " $ method     : chr \"Welch Two Sample t-test\"\n",
      " $ data.name  : chr \"temp.a and temp.b\"\n",
      " - attr(*, \"class\")= chr \"htest\"\n"
     ]
    },
    {
     "data": {
      "text/plain": [
       "            Length Class  Mode     \n",
       "statistic   1      -none- numeric  \n",
       "parameter   1      -none- numeric  \n",
       "p.value     1      -none- numeric  \n",
       "conf.int    2      -none- numeric  \n",
       "estimate    2      -none- numeric  \n",
       "null.value  1      -none- numeric  \n",
       "stderr      1      -none- numeric  \n",
       "alternative 1      -none- character\n",
       "method      1      -none- character\n",
       "data.name   1      -none- character"
      ]
     },
     "metadata": {},
     "output_type": "display_data"
    }
   ],
   "source": [
    "# temp is the output from the previous cell\n",
    "# print out the test\n",
    "temp\n",
    "# list variable names in the temp\n",
    "names(temp)\n",
    "# print lass of the temp output\n",
    "class(temp)\n",
    "# stracture of the temp output\n",
    "str(temp)\n",
    "# summary of variables of the temp output\n",
    "summary(temp)"
   ]
  },
  {
   "cell_type": "markdown",
   "metadata": {},
   "source": [
    "**Naking the output**<BR>\n",
    "    Output is a list of multiple lists"
   ]
  },
  {
   "cell_type": "code",
   "execution_count": 13,
   "metadata": {
    "scrolled": true
   },
   "outputs": [
    {
     "data": {
      "text/html": [
       "<strong>$parameter</strong> = <strong>df:</strong> 62"
      ],
      "text/latex": [
       "\\textbf{\\$parameter} = \\textbf{df:} 62"
      ],
      "text/markdown": [
       "**$parameter** = **df:** 62"
      ],
      "text/plain": [
       "$parameter\n",
       "df \n",
       "62 \n"
      ]
     },
     "metadata": {},
     "output_type": "display_data"
    },
    {
     "data": {
      "text/html": [
       "<strong>$parameter</strong> = <strong>df:</strong> 62"
      ],
      "text/latex": [
       "\\textbf{\\$parameter} = \\textbf{df:} 62"
      ],
      "text/markdown": [
       "**$parameter** = **df:** 62"
      ],
      "text/plain": [
       "$parameter\n",
       "df \n",
       "62 \n"
      ]
     },
     "metadata": {},
     "output_type": "display_data"
    },
    {
     "data": {
      "text/html": [
       "<strong>df:</strong> 62"
      ],
      "text/latex": [
       "\\textbf{df:} 62"
      ],
      "text/markdown": [
       "**df:** 62"
      ],
      "text/plain": [
       "df \n",
       "62 "
      ]
     },
     "metadata": {},
     "output_type": "display_data"
    },
    {
     "data": {
      "text/html": [
       "<strong>df:</strong> 62"
      ],
      "text/latex": [
       "\\textbf{df:} 62"
      ],
      "text/markdown": [
       "**df:** 62"
      ],
      "text/plain": [
       "df \n",
       "62 "
      ]
     },
     "metadata": {},
     "output_type": "display_data"
    },
    {
     "data": {
      "text/html": [
       "<strong>df:</strong> 62"
      ],
      "text/latex": [
       "\\textbf{df:} 62"
      ],
      "text/markdown": [
       "**df:** 62"
      ],
      "text/plain": [
       "df \n",
       "62 "
      ]
     },
     "metadata": {},
     "output_type": "display_data"
    },
    {
     "data": {
      "text/html": [
       "<strong>df:</strong> 62"
      ],
      "text/latex": [
       "\\textbf{df:} 62"
      ],
      "text/markdown": [
       "**df:** 62"
      ],
      "text/plain": [
       "df \n",
       "62 "
      ]
     },
     "metadata": {},
     "output_type": "display_data"
    },
    {
     "data": {
      "text/html": [
       "<strong>df:</strong> 62"
      ],
      "text/latex": [
       "\\textbf{df:} 62"
      ],
      "text/markdown": [
       "**df:** 62"
      ],
      "text/plain": [
       "df \n",
       "62 "
      ]
     },
     "metadata": {},
     "output_type": "display_data"
    },
    {
     "data": {
      "text/html": [
       "62"
      ],
      "text/latex": [
       "62"
      ],
      "text/markdown": [
       "62"
      ],
      "text/plain": [
       "[1] 62"
      ]
     },
     "metadata": {},
     "output_type": "display_data"
    },
    {
     "data": {
      "text/html": [
       "62"
      ],
      "text/latex": [
       "62"
      ],
      "text/markdown": [
       "62"
      ],
      "text/plain": [
       "[1] 62"
      ]
     },
     "metadata": {},
     "output_type": "display_data"
    }
   ],
   "source": [
    "# Show the content of parameter\n",
    "temp['parameter']\n",
    "temp[2]\n",
    "\n",
    "# Extract the inside list\n",
    "temp[['parameter']]\n",
    "temp[[2]]\n",
    "temp$parameter\n",
    "\n",
    "# Show the content of \"df\" value in the inside list\n",
    "temp[['parameter']]['df']\n",
    "temp[[2]][1]\n",
    "\n",
    "# Extract value from the \n",
    "temp[['parameter']][['df']]\n",
    "temp[[2]][[1]]"
   ]
  },
  {
   "cell_type": "markdown",
   "metadata": {},
   "source": [
    "**You can even add new value**"
   ]
  },
  {
   "cell_type": "code",
   "execution_count": 14,
   "metadata": {},
   "outputs": [],
   "source": [
    "temp[['parameter']]['df1'] = 1"
   ]
  },
  {
   "cell_type": "markdown",
   "metadata": {},
   "source": [
    "---\n",
    "## Summary graphs"
   ]
  },
  {
   "cell_type": "code",
   "execution_count": 28,
   "metadata": {},
   "outputs": [
    {
     "name": "stderr",
     "output_type": "stream",
     "text": [
      "Warning message:\n",
      "\"Removed 4 rows containing non-finite values (stat_summary).\"\n",
      "Warning message:\n",
      "\"Removed 4 rows containing non-finite values (stat_bindot).\"\n",
      "Warning message:\n",
      "\"Removed 3 rows containing non-finite values (stat_summary).\"\n",
      "Warning message:\n",
      "\"Removed 3 rows containing non-finite values (stat_bindot).\"\n"
     ]
    },
    {
     "data": {
      "image/png": "[encoded data removed]",
      "text/plain": [
       "plot without title"
      ]
     },
     "metadata": {
      "image/png": {
       "height": 360,
       "width": 720
      },
      "text/plain": {
       "height": 360,
       "width": 720
      }
     },
     "output_type": "display_data"
    }
   ],
   "source": [
    "# set the size of final plot\n",
    "plot_height = 6\n",
    "plot_width = 12\n",
    "options(repr.plot.width=plot_width, repr.plot.height=plot_height)\n",
    "\n",
    "out1_1a = annotate_figure(out1_1,top = text_grob(\"no stress\", face = \"bold\", size = 20))\n",
    "out1_2a = annotate_figure(out1_2,top = text_grob(\"stress\", face = \"bold\", size = 20))\n",
    "out2_1a = annotate_figure(out2_1,top = text_grob(\"no stress\", face = \"bold\", size = 20))\n",
    "out2_2a = annotate_figure(out2_2,top = text_grob(\"stress\", face = \"bold\", size = 20))\n",
    "\n",
    "b1 = ggarrange(out1_1a, out1_2a, ncol=2)\n",
    "b1 = annotate_figure(b1,top = text_grob(\"Synchronization\", face = \"bold\", size = 25))\n",
    "b2 = ggarrange(out2_1a, out2_2a, ncol=2)\n",
    "b2 = annotate_figure(b2,top = text_grob(\"Freezing\", face = \"bold\", size = 25))\n",
    "\n",
    "ggarrange(b1, b2, ncol=2)"
   ]
  },
  {
   "cell_type": "markdown",
   "metadata": {},
   "source": [
    "**Export the plot as an eps file**"
   ]
  },
  {
   "cell_type": "code",
   "execution_count": null,
   "metadata": {},
   "outputs": [],
   "source": [
    "# Output eps file on desktop\n",
    "path = \"C:/Users/User/Desktop\"\n",
    "base = \"plot.eps\"\n",
    "filename = file.path(path, base)\n",
    "\n",
    "ggsave(filename, device=cairo_ps,width=plot_width, height=plot_height)"
   ]
  },
  {
   "cell_type": "markdown",
   "metadata": {},
   "source": [
    "**Two-way ANOVA test**"
   ]
  },
  {
   "cell_type": "code",
   "execution_count": 66,
   "metadata": {},
   "outputs": [
    {
     "data": {
      "text/plain": [
       "                  Df Sum Sq Mean Sq F value  Pr(>F)   \n",
       "fz_ave             1   6.23   6.227   4.227 0.04514 * \n",
       "stress             1   3.85   3.845   2.610 0.11262   \n",
       "sex                1   0.05   0.048   0.033 0.85738   \n",
       "fz_ave:stress      1   3.40   3.399   2.307 0.13519   \n",
       "fz_ave:sex         1   9.64   9.642   6.545 0.01366 * \n",
       "stress:sex         1  12.72  12.724   8.636 0.00501 **\n",
       "fz_ave:stress:sex  1   0.00   0.002   0.001 0.97302   \n",
       "Residuals         49  72.19   1.473                   \n",
       "---\n",
       "Signif. codes:  0 '***' 0.001 '**' 0.01 '*' 0.05 '.' 0.1 ' ' 1"
      ]
     },
     "metadata": {},
     "output_type": "display_data"
    }
   ],
   "source": [
    "temp.aov = aov(cohen_d ~ fz_ave*stress*sex, data = df.set1)\n",
    "summary(temp.aov)\n"
   ]
  },
  {
   "cell_type": "markdown",
   "metadata": {},
   "source": [
    "---\n",
    "## Step 5. Correlation between freezing levels and synchronization\n",
    "**plot the scatter plot**"
   ]
  },
  {
   "cell_type": "code",
   "execution_count": 68,
   "metadata": {},
   "outputs": [
    {
     "name": "stderr",
     "output_type": "stream",
     "text": [
      "`geom_smooth()` using formula 'y ~ x'\n",
      "\n",
      "`geom_smooth()` using formula 'y ~ x'\n",
      "\n"
     ]
    },
    {
     "data": {
      "image/png": "[encoded data removed]",
      "text/plain": [
       "plot without title"
      ]
     },
     "metadata": {
      "image/png": {
       "height": 360,
       "width": 720
      },
      "text/plain": {
       "height": 360,
       "width": 720
      }
     },
     "output_type": "display_data"
    }
   ],
   "source": [
    "###################################################################################################\n",
    "# Function scatter_plot\n",
    "###################################################################################################\n",
    "scatter_plot <- function(df.input, x1_col, y_col, split_col, select_col, select_value, xaxis_label, yaxis_label){\n",
    "    #######################################################\n",
    "    # parameters to adjust graph\n",
    "    # graph width x height\n",
    "    plot_width = 8\n",
    "    plot_height = 6\n",
    "\n",
    "    # dotplot\n",
    "#     dp_binwidth=0.7\n",
    "#     dp_dotsize=3\n",
    "   \n",
    "    point_size = 3\n",
    "        \n",
    "    # y limits\n",
    "    ylim1 = -3\n",
    "    ylim2 = 5\n",
    "    #######################################################\n",
    "    \n",
    "    # get column name\n",
    "    x1 <- names(df.input)[which (colnames(df.input)==x1_col)]\n",
    "    select <- names(df.input)[which (colnames(df.input)==select_col)]\n",
    "    y <- names(df.input)[which (colnames(df.input)==y_col)]\n",
    "\n",
    "    # set the size of final plot\n",
    "    options(repr.plot.width=plot_width, repr.plot.height=plot_height)\n",
    "    \n",
    "    \n",
    "    if (split_col !=''){\n",
    "        split <- names(df.input)[which (colnames(df.input)==split_col)]\n",
    "        plot_temp = ggplot(df.input[df.input[,select]==select_value,], aes_string(x=x1,y=y,fill=split,color=split))\n",
    "    } else {\n",
    "        plot_temp = ggplot(df.input[df.input[,select]==select_value,], aes_string(x=x1,y=y))\n",
    "    }\n",
    "\n",
    "        plot_temp + geom_point(size=point_size)+\n",
    "        geom_point(size=point_size,shape=1,colour=\"black\")+\n",
    "        geom_smooth(method=lm)+\n",
    "\n",
    "        # x axis label\n",
    "        labs(x=xaxis_label)+\n",
    "        # y axis label\n",
    "        labs(y=yaxis_label)+\n",
    "        # Limit y axis range\n",
    "        ylim(c(ylim1, ylim2))+\n",
    "\n",
    "    # Remainings are all the same. No need to modify.\n",
    "        # Change filling color for box\n",
    "        scale_fill_manual(values=c(\"#FF3333\", \"#3333FF\"))+\n",
    "        scale_colour_manual(values=c(\"#FF3333\", \"#3333FF\"))+\n",
    "        # Change theme. Look at \"Complete themes\" above.\n",
    "        theme_bw()+\n",
    "        # Control of axes\n",
    "        theme(\n",
    "            # axis.title.x = element_blank(),\n",
    "            axis.title = element_text(size=25,vjust=2,face='bold'),\n",
    "            axis.text=element_text(size=20))+    \n",
    "        # Control of legend\n",
    "        theme(\n",
    "            #legend.position = \"none\",\n",
    "            legend.position = 'bottom',\n",
    "            legend.direction = \"horizontal\",\n",
    "            #legend.title = element_text(size=20,face='bold'),\n",
    "            legend.title = element_blank(),\n",
    "            legend.text=element_text(size=20))\n",
    "\n",
    "}\n",
    "\n",
    "limit_df <- function(df.input, lim_col, lim_value){\n",
    "    \n",
    "    lim_col <- names(df.input)[which (colnames(df.input)==lim_col)]\n",
    "    \n",
    "    df.temp = df.input[df.input[,lim_col]==lim_value,]\n",
    "    return(df.temp)\n",
    "}\n",
    "\n",
    "###################################################################################################\n",
    "# START HERE\n",
    "###################################################################################################\n",
    "# lim_col = 'sex'\n",
    "# lim_value = 'male'\n",
    "# df.input = df.set1\n",
    "# df.temp = limit_df(df.input)\n",
    "\n",
    "# plot male\n",
    "df.input = df.set1               # data frame\n",
    "x_col = 'fz_ave'                 # x-axis values\n",
    "y_col = 'cohen_d'                # y-axis values\n",
    "split_col = ''\n",
    "#split_col = 'stress'             # The column to split graph \n",
    "select_col = \"sex\"\n",
    "select_value = \"male\"            # limit records with male in the sex column\n",
    "xaxis_label = \"Freezeing (%)\"    # x-asix label\n",
    "yaxis_label = \"Cohen D\"          # y-asix label\n",
    "\n",
    "out3_1 = scatter_plot(df.input,x_col,y_col,split_col,select_col,select_value,xaxis_label,yaxis_label)\n",
    "\n",
    "\n",
    "# plot female\n",
    "select_value = \"female\"          # limit records with female in the sex column\n",
    "out3_2 = scatter_plot(df.input,x_col,y_col,split_col,select_col,select_value,xaxis_label,yaxis_label)\n",
    "\n",
    "\n",
    "# plot both\n",
    "plot_height = 6\n",
    "plot_width = 12\n",
    "# set the size of final plot\n",
    "options(repr.plot.width=plot_width, repr.plot.height=plot_height)\n",
    "ggarrange(out3_1, out3_2, ncol=2)"
   ]
  },
  {
   "cell_type": "code",
   "execution_count": 69,
   "metadata": {},
   "outputs": [],
   "source": [
    "# Output eps file on desktop\n",
    "path = \"C:/Users/User/Desktop\"\n",
    "base = \"plot.eps\"\n",
    "filename = file.path(path, base)\n",
    "\n",
    "ggsave(filename, device=cairo_ps,width=plot_width, height=plot_height)"
   ]
  },
  {
   "cell_type": "code",
   "execution_count": 70,
   "metadata": {},
   "outputs": [
    {
     "name": "stderr",
     "output_type": "stream",
     "text": [
      "`geom_smooth()` using formula 'y ~ x'\n",
      "\n",
      "`geom_smooth()` using formula 'y ~ x'\n",
      "\n"
     ]
    },
    {
     "data": {
      "image/png": "[encoded data removed]",
      "text/plain": [
       "plot without title"
      ]
     },
     "metadata": {
      "image/png": {
       "height": 360,
       "width": 720
      },
      "text/plain": {
       "height": 360,
       "width": 720
      }
     },
     "output_type": "display_data"
    }
   ],
   "source": [
    "###################################################################################################\n",
    "# Function scatter_plot\n",
    "###################################################################################################\n",
    "scatter_plot <- function(df.input, x1_col, y_col, split_col, select_col, select_value, xaxis_label, yaxis_label){\n",
    "    #######################################################\n",
    "    # parameters to adjust graph\n",
    "    # graph width x height\n",
    "    plot_width = 8\n",
    "    plot_height = 6\n",
    "\n",
    "    # dotplot\n",
    "#     dp_binwidth=0.7\n",
    "#     dp_dotsize=3\n",
    "   \n",
    "    point_size = 3\n",
    "        \n",
    "    # y limits\n",
    "    ylim1 = -3\n",
    "    ylim2 = 5\n",
    "    #######################################################\n",
    "    \n",
    "    # get column name\n",
    "    x1 <- names(df.input)[which (colnames(df.input)==x1_col)]\n",
    "    select <- names(df.input)[which (colnames(df.input)==select_col)]\n",
    "    y <- names(df.input)[which (colnames(df.input)==y_col)]\n",
    "\n",
    "    # set the size of final plot\n",
    "    options(repr.plot.width=plot_width, repr.plot.height=plot_height)\n",
    "    \n",
    "    \n",
    "    if (split_col !=''){\n",
    "        split <- names(df.input)[which (colnames(df.input)==split_col)]\n",
    "        plot_temp = ggplot(df.input[df.input[,select]==select_value,], aes_string(x=x1,y=y,fill=split,color=split))\n",
    "    } else {\n",
    "        plot_temp = ggplot(df.input[df.input[,select]==select_value,], aes_string(x=x1,y=y))\n",
    "    }\n",
    "\n",
    "        plot_temp + geom_point(size=point_size)+\n",
    "        geom_point(size=point_size,shape=1,colour=\"black\")+\n",
    "        geom_smooth(method=lm)+\n",
    "\n",
    "        # x axis label\n",
    "        labs(x=xaxis_label)+\n",
    "        # y axis label\n",
    "        labs(y=yaxis_label)+\n",
    "        # Limit y axis range\n",
    "        ylim(c(ylim1, ylim2))+\n",
    "\n",
    "    # Remainings are all the same. No need to modify.\n",
    "        # Change filling color for box\n",
    "        scale_fill_manual(values=c(\"#FF3333\", \"#3333FF\"))+\n",
    "        scale_colour_manual(values=c(\"#FF3333\", \"#3333FF\"))+\n",
    "        # Change theme. Look at \"Complete themes\" above.\n",
    "        theme_bw()+\n",
    "        # Control of axes\n",
    "        theme(\n",
    "            # axis.title.x = element_blank(),\n",
    "            axis.title = element_text(size=25,vjust=2,face='bold'),\n",
    "            axis.text=element_text(size=20))+    \n",
    "        # Control of legend\n",
    "        theme(\n",
    "            #legend.position = \"none\",\n",
    "            legend.position = 'bottom',\n",
    "            legend.direction = \"horizontal\",\n",
    "            #legend.title = element_text(size=20,face='bold'),\n",
    "            legend.title = element_blank(),\n",
    "            legend.text=element_text(size=20))\n",
    "\n",
    "}\n",
    "\n",
    "limit_df <- function(df.input, lim_col, lim_value){\n",
    "    \n",
    "    lim_col <- names(df.input)[which (colnames(df.input)==lim_col)]\n",
    "    \n",
    "    df.temp = df.input[df.input[,lim_col]==lim_value,]\n",
    "    return(df.temp)\n",
    "}\n",
    "\n",
    "###################################################################################################\n",
    "# START HERE\n",
    "###################################################################################################\n",
    "# lim_col = 'sex'\n",
    "# lim_value = 'male'\n",
    "# df.input = df.set1\n",
    "# df.temp = limit_df(df.input)\n",
    "\n",
    "# plot male\n",
    "df.input = df.set1               # data frame\n",
    "x_col = 'fz_ave'                 # x-axis values\n",
    "y_col = 'cohen_d'                # y-axis values\n",
    "# split_col = ''\n",
    "split_col = 'stress'             # The column to split graph \n",
    "select_col = \"sex\"\n",
    "select_value = \"male\"            # limit records with male in the sex column\n",
    "xaxis_label = \"Freezeing (%)\"    # x-asix label\n",
    "yaxis_label = \"Cohen D\"          # y-asix label\n",
    "\n",
    "out3_1 = scatter_plot(df.input,x_col,y_col,split_col,select_col,select_value,xaxis_label,yaxis_label)\n",
    "\n",
    "\n",
    "# plot female\n",
    "select_value = \"female\"          # limit records with female in the sex column\n",
    "out3_2 = scatter_plot(df.input,x_col,y_col,split_col,select_col,select_value,xaxis_label,yaxis_label)\n",
    "\n",
    "\n",
    "# plot both\n",
    "plot_height = 6\n",
    "plot_width = 12\n",
    "# set the size of final plot\n",
    "options(repr.plot.width=plot_width, repr.plot.height=plot_height)\n",
    "ggarrange(out3_1, out3_2, ncol=2)"
   ]
  },
  {
   "cell_type": "markdown",
   "metadata": {},
   "source": [
    "**Export the plot as an eps file**"
   ]
  },
  {
   "cell_type": "code",
   "execution_count": 71,
   "metadata": {},
   "outputs": [],
   "source": [
    "# Output eps file on desktop\n",
    "path = \"C:/Users/User/Desktop\"\n",
    "base = \"plot.eps\"\n",
    "filename = file.path(path, base)\n",
    "\n",
    "ggsave(filename, device=cairo_ps,width=plot_width, height=plot_height)"
   ]
  },
  {
   "cell_type": "markdown",
   "metadata": {},
   "source": [
    "**Linear Regression**<BR>\n",
    "http://r-statistics.co/Linear-Regression.html\n",
    "\n",
    "- **Correlation:**\n",
    "Correlation is a statistical measure that suggests the level of linear dependence between two variables, that occur in pair – just like what we have here in speed and dist. Correlation can take values between -1 to +1. If we observe for every instance where speed increases, the distance also increases along with it, then there is a high positive correlation between them and therefore the correlation between them will be closer to 1. The opposite is true for an inverse relationship, in which case, the correlation between the variables will be close to -1.\n",
    "\n",
    "A value closer to 0 suggests a weak relationship between the variables. **A low correlation (-0.2 < x < 0.2)** probably suggests that much of variation of the response variable (Y) is unexplained by the predictor (X), in which case, we should probably look for better explanatory variables.\n",
    "\n",
    "- **The linear correlation coefficient (Pearson’s r)** is just the standardized slope of a simple linear regression line.<BR>\n",
    "    https://sebastianraschka.com/faq/docs/pearson-r-vs-linear-regr.html\n",
    "    "
   ]
  },
  {
   "cell_type": "markdown",
   "metadata": {},
   "source": [
    "**Test the entire data**"
   ]
  },
  {
   "cell_type": "code",
   "execution_count": 40,
   "metadata": {},
   "outputs": [
    {
     "name": "stdout",
     "output_type": "stream",
     "text": [
      "Correlation:  0.2400332 \n",
      "\n",
      "Call:\n",
      "lm(formula = cohen_d ~ fz_ave, data = df.set1)\n",
      "\n",
      "Residuals:\n",
      "    Min      1Q  Median      3Q     Max \n",
      "-3.0200 -0.9600 -0.1430  0.8347  2.7491 \n",
      "\n",
      "Coefficients:\n",
      "            Estimate Std. Error t value Pr(>|t|)  \n",
      "(Intercept) 0.490019   0.480448   1.020   0.3122  \n",
      "fz_ave      0.017795   0.009704   1.834   0.0721 .\n",
      "---\n",
      "Signif. codes:  0 '***' 0.001 '**' 0.01 '*' 0.05 '.' 0.1 ' ' 1\n",
      "\n",
      "Residual standard error: 1.361 on 55 degrees of freedom\n",
      "Multiple R-squared:  0.05762,\tAdjusted R-squared:  0.04048 \n",
      "F-statistic: 3.363 on 1 and 55 DF,  p-value: 0.0721\n",
      "\n"
     ]
    }
   ],
   "source": [
    "# Less correlation in the entirly collapsed data set\n",
    "\n",
    "# calculate correlation between freeze and cohen_d\n",
    "cat(\"Correlation: \",cor(df.set1$fz_ave, df.set1$cohen_d),\"\\n\")\n",
    "\n",
    "# Modeling the linear model\n",
    "temp.linearmod = lm(cohen_d ~ fz_ave, data=df.set1)\n",
    "\n",
    "# Details\n",
    "temp.summary = summary(temp.linearmod)\n",
    "print(temp.summary)"
   ]
  },
  {
   "cell_type": "markdown",
   "metadata": {},
   "source": [
    "**It looks like the following perason command is the digest version**"
   ]
  },
  {
   "cell_type": "code",
   "execution_count": 41,
   "metadata": {},
   "outputs": [
    {
     "data": {
      "text/plain": [
       "\n",
       "\tPearson's product-moment correlation\n",
       "\n",
       "data:  df.set1$fz_ave and df.set1$cohen_d\n",
       "t = 1.8337, df = 55, p-value = 0.0721\n",
       "alternative hypothesis: true correlation is not equal to 0\n",
       "95 percent confidence interval:\n",
       " -0.02190452  0.47113381\n",
       "sample estimates:\n",
       "      cor \n",
       "0.2400332 \n"
      ]
     },
     "metadata": {},
     "output_type": "display_data"
    }
   ],
   "source": [
    "cor.test(df.set1$fz_ave, df.set1$cohen_d, method = 'pearson')"
   ]
  },
  {
   "cell_type": "markdown",
   "metadata": {},
   "source": [
    "**Test each group**\n",
    "- R Tip: How to Pass a formula to lm**<BR>\n",
    "http://www.win-vector.com/blog/2018/09/r-tip-how-to-pass-a-formula-to-lm/"
   ]
  },
  {
   "cell_type": "code",
   "execution_count": 57,
   "metadata": {
    "scrolled": true
   },
   "outputs": [
    {
     "name": "stdout",
     "output_type": "stream",
     "text": [
      "### (male, stress) ###, correlation:  -0.1176589 , intercept_p-value:  0.5393035 , freeze_p-value:  0.7018575 \n",
      "\n",
      "Call:\n",
      "lm(formula = f, data = temp)\n",
      "\n",
      "Residuals:\n",
      "    Min      1Q  Median      3Q     Max \n",
      "-2.1862 -0.6198  0.2106  0.6241  2.0564 \n",
      "\n",
      "Coefficients:\n",
      "             Estimate Std. Error t value Pr(>|t|)\n",
      "(Intercept)  0.533712   0.842372   0.634    0.539\n",
      "fz_ave      -0.007797   0.019842  -0.393    0.702\n",
      "\n",
      "Residual standard error: 1.164 on 11 degrees of freedom\n",
      "Multiple R-squared:  0.01384,\tAdjusted R-squared:  -0.07581 \n",
      "F-statistic: 0.1544 on 1 and 11 DF,  p-value: 0.7019\n",
      "\n",
      "### (male, no_stress) ###, correlation:  0.06232801 , intercept_p-value:  0.01747494 , freeze_p-value:  0.7998948 \n",
      "\n",
      "Call:\n",
      "lm(formula = f, data = temp)\n",
      "\n",
      "Residuals:\n",
      "    Min      1Q  Median      3Q     Max \n",
      "-2.9232 -0.7754  0.1449  1.0004  1.5441 \n",
      "\n",
      "Coefficients:\n",
      "            Estimate Std. Error t value Pr(>|t|)  \n",
      "(Intercept) 1.703883   0.647324   2.632   0.0175 *\n",
      "fz_ave      0.003771   0.014646   0.257   0.7999  \n",
      "---\n",
      "Signif. codes:  0 '***' 0.001 '**' 0.01 '*' 0.05 '.' 0.1 ' ' 1\n",
      "\n",
      "Residual standard error: 1.19 on 17 degrees of freedom\n",
      "Multiple R-squared:  0.003885,\tAdjusted R-squared:  -0.05471 \n",
      "F-statistic: 0.0663 on 1 and 17 DF,  p-value: 0.7999\n",
      "\n",
      "### (female, stress) ###, correlation:  0.2195716 , intercept_p-value:  0.8381814 , freeze_p-value:  0.570276 \n",
      "\n",
      "Call:\n",
      "lm(formula = f, data = temp)\n",
      "\n",
      "Residuals:\n",
      "     Min       1Q   Median       3Q      Max \n",
      "-2.31510 -0.96665 -0.08544  1.50028  2.13734 \n",
      "\n",
      "Coefficients:\n",
      "            Estimate Std. Error t value Pr(>|t|)\n",
      "(Intercept)  0.60126    2.83674   0.212    0.838\n",
      "fz_ave       0.02521    0.04234   0.595    0.570\n",
      "\n",
      "Residual standard error: 1.674 on 7 degrees of freedom\n",
      "Multiple R-squared:  0.04821,\tAdjusted R-squared:  -0.08776 \n",
      "F-statistic: 0.3546 on 1 and 7 DF,  p-value: 0.5703\n",
      "\n",
      "### (female, no_stress) ###, correlation:  0.4803967 , intercept_p-value:  0.4469736 , freeze_p-value:  0.05963874 \n",
      "\n",
      "Call:\n",
      "lm(formula = f, data = temp)\n",
      "\n",
      "Residuals:\n",
      "     Min       1Q   Median       3Q      Max \n",
      "-1.49024 -0.96917  0.00272  0.79257  1.75563 \n",
      "\n",
      "Coefficients:\n",
      "            Estimate Std. Error t value Pr(>|t|)  \n",
      "(Intercept) -0.66231    0.84644  -0.782   0.4470  \n",
      "fz_ave       0.03524    0.01720   2.049   0.0596 .\n",
      "---\n",
      "Signif. codes:  0 '***' 0.001 '**' 0.01 '*' 0.05 '.' 0.1 ' ' 1\n",
      "\n",
      "Residual standard error: 0.986 on 14 degrees of freedom\n",
      "Multiple R-squared:  0.2308,\tAdjusted R-squared:  0.1758 \n",
      "F-statistic:   4.2 on 1 and 14 DF,  p-value: 0.05964\n",
      "\n",
      "### (male, ) ###, correlation:  0.0115014 , intercept_p-value:  0.06805934 , freeze_p-value:  0.9501845 \n",
      "\n",
      "Call:\n",
      "lm(formula = f, data = temp)\n",
      "\n",
      "Residuals:\n",
      "    Min      1Q  Median      3Q     Max \n",
      "-3.0275 -0.5548 -0.1340  0.9970  2.2617 \n",
      "\n",
      "Coefficients:\n",
      "             Estimate Std. Error t value Pr(>|t|)  \n",
      "(Intercept) 1.1587948  0.6121914   1.893   0.0681 .\n",
      "fz_ave      0.0008867  0.0140739   0.063   0.9502  \n",
      "---\n",
      "Signif. codes:  0 '***' 0.001 '**' 0.01 '*' 0.05 '.' 0.1 ' ' 1\n",
      "\n",
      "Residual standard error: 1.411 on 30 degrees of freedom\n",
      "Multiple R-squared:  0.0001323,\tAdjusted R-squared:  -0.0332 \n",
      "F-statistic: 0.003969 on 1 and 30 DF,  p-value: 0.9502\n",
      "\n",
      "### (female, ) ###, correlation:  0.509409 , intercept_p-value:  0.3335464 , freeze_p-value:  0.009296233 \n",
      "\n",
      "Call:\n",
      "lm(formula = f, data = temp)\n",
      "\n",
      "Residuals:\n",
      "    Min      1Q  Median      3Q     Max \n",
      "-2.1898 -0.9348 -0.1817  0.6550  2.4078 \n",
      "\n",
      "Coefficients:\n",
      "            Estimate Std. Error t value Pr(>|t|)   \n",
      "(Intercept) -0.83045    0.84074  -0.988   0.3335   \n",
      "fz_ave       0.04241    0.01494   2.839   0.0093 **\n",
      "---\n",
      "Signif. codes:  0 '***' 0.001 '**' 0.01 '*' 0.05 '.' 0.1 ' ' 1\n",
      "\n",
      "Residual standard error: 1.236 on 23 degrees of freedom\n",
      "Multiple R-squared:  0.2595,\tAdjusted R-squared:  0.2273 \n",
      "F-statistic:  8.06 on 1 and 23 DF,  p-value: 0.009296\n",
      "\n"
     ]
    }
   ],
   "source": [
    "# Effects of sex and stress on the correlation\n",
    "\n",
    "comp_cor <- function(df.input, pred_col, resp_col, lim1_col, lim1_value, lim2_col, lim2_value){\n",
    "    \n",
    "    # get column name\n",
    "    pred_col <- names(df.input)[which (colnames(df.input)==pred_col)]\n",
    "    resp_col <- names(df.input)[which (colnames(df.input)==resp_col)]\n",
    "    lim1_col <- names(df.input)[which (colnames(df.input)==lim1_col)]  \n",
    "\n",
    "    # Extract data frame\n",
    "    if (lim2_col !=''){\n",
    "            lim2_col <- names(df.input)[which (colnames(df.input)==lim2_col)]\n",
    "            temp = df.input[df.input[,lim1_col]==lim1_value & df.input[,lim2_col]==lim2_value,]  \n",
    "    } else {\n",
    "            temp = df.input[df.input[,lim1_col]==lim1_value,]   \n",
    "    }\n",
    "       \n",
    "    # compute correlations\n",
    "    temp.cor = cor(temp[,pred_col], temp[,resp_col])\n",
    "    \n",
    "    # estimate the linear model\n",
    "    # create formula to fit\n",
    "    f = paste(resp_col, pred_col, sep = \" ~ \")\n",
    "    #cat(\"formula: \", f, \", \")\n",
    "    \n",
    "    # create model based on the created formula\n",
    "    temp.linearmod = lm(f, data=temp)\n",
    "    temp.summary = summary(temp.linearmod)\n",
    "    \n",
    "    # output in brief\n",
    "    cat(paste0('### (',lim1_value,\", \",lim2_value, \") ###, \"))\n",
    "    cat(\"correlation: \", temp.cor, \", \")\n",
    "    cat(\"intercept_p-value: \", temp.summary[['coefficients']]['(Intercept)','Pr(>|t|)'], \", \")\n",
    "    cat(\"freeze_p-value: \", temp.summary[['coefficients']]['fz_ave','Pr(>|t|)'], \"\\n\")\n",
    "\n",
    "    # output full\n",
    "#     cat(\"correlation: \", temp.cor, \"\\n\")\n",
    "#     cat(\"formula: \", f, \"\\n\")\n",
    "#     print(temp.summary)\n",
    "    \n",
    "    temp.list = list(\"cor\"=temp.cor, \"f\"=f, \"linearmod\"=temp.linearmod, \"summary\"=temp.summary)\n",
    "    return(temp.list)\n",
    "}\n",
    "    \n",
    "for (sex1 in c(\"male\", \"female\")){\n",
    "    for (stress1 in c(\"stress\",\"no_stress\")){\n",
    "        df.input = df.set1\n",
    "        pred_col = 'fz_ave'\n",
    "        resp_col = 'cohen_d'\n",
    "        lim1_col = 'sex'\n",
    "        lim1_value = sex1\n",
    "        lim2_col ='stress'\n",
    "        lim2_value = stress1\n",
    "        temp = comp_cor(df.input, pred_col,resp_col,lim1_col,lim1_value,lim2_col,lim2_value)\n",
    "}}\n",
    "\n",
    "for (sex1 in c(\"male\", \"female\")){\n",
    "        df.input = df.set1\n",
    "        pred_col = 'fz_ave'\n",
    "        resp_col = 'cohen_d'\n",
    "        lim1_col = 'sex'\n",
    "        lim1_value = sex1\n",
    "        lim2_col =''\n",
    "        lim2_value = ''\n",
    "        temp = comp_cor(df.input, pred_col,resp_col,lim1_col,lim1_value,lim2_col,lim2_value)\n",
    "}\n"
   ]
  },
  {
   "cell_type": "markdown",
   "metadata": {},
   "source": [
    "---\n",
    "## Step 6. Sex effects on fear buffering and freezing equalization\n",
    "**Load R dataframe**"
   ]
  },
  {
   "cell_type": "code",
   "execution_count": 2,
   "metadata": {},
   "outputs": [
    {
     "name": "stdout",
     "output_type": "stream",
     "text": [
      "dimension:  216 26 \n",
      "   folder_videoname       single_animal                 sex                 age \n",
      "        \"character\"           \"logical\"         \"character\"           \"integer\" \n",
      "       infusion_hpc        infusion_pfc         familiarity            lighting \n",
      "        \"character\"         \"character\"         \"character\"         \"character\" \n",
      "          partition              stress             comment             exclude \n",
      "          \"logical\"         \"character\"         \"character\"           \"logical\" \n",
      "  together_alone_id together_alone_role             fz_sub1             fz_sub2 \n",
      "           \"factor\"            \"factor\"           \"numeric\"           \"numeric\" \n",
      "         fz_overlap             cohen_d       fz_start_sub1         fz_end_sub1 \n",
      "          \"numeric\"           \"numeric\"              \"list\"              \"list\" \n",
      "      fz_start_sub2         fz_end_sub2    lagt_start_s1_s2    lagt_start_s2_s1 \n",
      "             \"list\"              \"list\"              \"list\"              \"list\" \n",
      "     lagt_end_s1_s2      lagt_end_s2_s1 \n",
      "             \"list\"              \"list\" \n"
     ]
    },
    {
     "data": {
      "text/html": [
       "<table>\n",
       "<caption>A data.frame: 2 × 26</caption>\n",
       "<thead>\n",
       "\t<tr><th></th><th scope=col>folder_videoname</th><th scope=col>single_animal</th><th scope=col>sex</th><th scope=col>age</th><th scope=col>infusion_hpc</th><th scope=col>infusion_pfc</th><th scope=col>familiarity</th><th scope=col>lighting</th><th scope=col>partition</th><th scope=col>stress</th><th scope=col>...</th><th scope=col>fz_overlap</th><th scope=col>cohen_d</th><th scope=col>fz_start_sub1</th><th scope=col>fz_end_sub1</th><th scope=col>fz_start_sub2</th><th scope=col>fz_end_sub2</th><th scope=col>lagt_start_s1_s2</th><th scope=col>lagt_start_s2_s1</th><th scope=col>lagt_end_s1_s2</th><th scope=col>lagt_end_s2_s1</th></tr>\n",
       "\t<tr><th></th><th scope=col>&lt;chr&gt;</th><th scope=col>&lt;lgl&gt;</th><th scope=col>&lt;chr&gt;</th><th scope=col>&lt;int&gt;</th><th scope=col>&lt;chr&gt;</th><th scope=col>&lt;chr&gt;</th><th scope=col>&lt;chr&gt;</th><th scope=col>&lt;chr&gt;</th><th scope=col>&lt;lgl&gt;</th><th scope=col>&lt;chr&gt;</th><th scope=col>...</th><th scope=col>&lt;dbl&gt;</th><th scope=col>&lt;dbl&gt;</th><th scope=col>&lt;list&gt;</th><th scope=col>&lt;list&gt;</th><th scope=col>&lt;list&gt;</th><th scope=col>&lt;list&gt;</th><th scope=col>&lt;list&gt;</th><th scope=col>&lt;list&gt;</th><th scope=col>&lt;list&gt;</th><th scope=col>&lt;list&gt;</th></tr>\n",
       "</thead>\n",
       "<tbody>\n",
       "\t<tr><th scope=row>1</th><td>20190408_testing_1_7a</td><td>TRUE</td><td>male</td><td>75</td><td>NA</td><td>NA</td><td>familiar</td><td>visible</td><td>FALSE</td><td>no_stress</td><td>...</td><td>0</td><td>NaN</td><td>253, 263, 287, 293, 311, 322, 331, 351, 378, 408, 463, 474, 527, 542, 640, 668, 715</td><td>262, 284, 290, 309, 314, 327, 340, 357, 397, 418, 470, 478, 538, 546, 648, 673, 720</td><td></td><td></td><td></td><td></td><td></td><td></td></tr>\n",
       "\t<tr><th scope=row>2</th><td>20190408_testing_1_7b</td><td>TRUE</td><td>male</td><td>75</td><td>NA</td><td>NA</td><td>familiar</td><td>visible</td><td>FALSE</td><td>no_stress</td><td>...</td><td>0</td><td>NaN</td><td>244, 267, 348, 397, 435, 501, 550, 616, 632, 706</td><td>265, 343, 389, 427, 494, 541, 590, 627, 688, 720</td><td></td><td></td><td></td><td></td><td></td><td></td></tr>\n",
       "</tbody>\n",
       "</table>\n"
      ],
      "text/latex": [
       "A data.frame: 2 × 26\n",
       "\\begin{tabular}{r|lllllllllllllllllllll}\n",
       "  & folder\\_videoname & single\\_animal & sex & age & infusion\\_hpc & infusion\\_pfc & familiarity & lighting & partition & stress & ... & fz\\_overlap & cohen\\_d & fz\\_start\\_sub1 & fz\\_end\\_sub1 & fz\\_start\\_sub2 & fz\\_end\\_sub2 & lagt\\_start\\_s1\\_s2 & lagt\\_start\\_s2\\_s1 & lagt\\_end\\_s1\\_s2 & lagt\\_end\\_s2\\_s1\\\\\n",
       "  & <chr> & <lgl> & <chr> & <int> & <chr> & <chr> & <chr> & <chr> & <lgl> & <chr> & ... & <dbl> & <dbl> & <list> & <list> & <list> & <list> & <list> & <list> & <list> & <list>\\\\\n",
       "\\hline\n",
       "\t1 & 20190408\\_testing\\_1\\_7a & TRUE & male & 75 & NA & NA & familiar & visible & FALSE & no\\_stress & ... & 0 & NaN & 253, 263, 287, 293, 311, 322, 331, 351, 378, 408, 463, 474, 527, 542, 640, 668, 715 & 262, 284, 290, 309, 314, 327, 340, 357, 397, 418, 470, 478, 538, 546, 648, 673, 720 &  &  &  &  &  & \\\\\n",
       "\t2 & 20190408\\_testing\\_1\\_7b & TRUE & male & 75 & NA & NA & familiar & visible & FALSE & no\\_stress & ... & 0 & NaN & 244, 267, 348, 397, 435, 501, 550, 616, 632, 706 & 265, 343, 389, 427, 494, 541, 590, 627, 688, 720 &  &  &  &  &  & \\\\\n",
       "\\end{tabular}\n"
      ],
      "text/markdown": [
       "\n",
       "A data.frame: 2 × 26\n",
       "\n",
       "| <!--/--> | folder_videoname &lt;chr&gt; | single_animal &lt;lgl&gt; | sex &lt;chr&gt; | age &lt;int&gt; | infusion_hpc &lt;chr&gt; | infusion_pfc &lt;chr&gt; | familiarity &lt;chr&gt; | lighting &lt;chr&gt; | partition &lt;lgl&gt; | stress &lt;chr&gt; | ... ... | fz_overlap &lt;dbl&gt; | cohen_d &lt;dbl&gt; | fz_start_sub1 &lt;list&gt; | fz_end_sub1 &lt;list&gt; | fz_start_sub2 &lt;list&gt; | fz_end_sub2 &lt;list&gt; | lagt_start_s1_s2 &lt;list&gt; | lagt_start_s2_s1 &lt;list&gt; | lagt_end_s1_s2 &lt;list&gt; | lagt_end_s2_s1 &lt;list&gt; |\n",
       "|---|---|---|---|---|---|---|---|---|---|---|---|---|---|---|---|---|---|---|---|---|---|\n",
       "| 1 | 20190408_testing_1_7a | TRUE | male | 75 | NA | NA | familiar | visible | FALSE | no_stress | ... | 0 | NaN | 253, 263, 287, 293, 311, 322, 331, 351, 378, 408, 463, 474, 527, 542, 640, 668, 715 | 262, 284, 290, 309, 314, 327, 340, 357, 397, 418, 470, 478, 538, 546, 648, 673, 720 | <!----> | <!----> | <!----> | <!----> | <!----> | <!----> |\n",
       "| 2 | 20190408_testing_1_7b | TRUE | male | 75 | NA | NA | familiar | visible | FALSE | no_stress | ... | 0 | NaN | 244, 267, 348, 397, 435, 501, 550, 616, 632, 706 | 265, 343, 389, 427, 494, 541, 590, 627, 688, 720 | <!----> | <!----> | <!----> | <!----> | <!----> | <!----> |\n",
       "\n"
      ],
      "text/plain": [
       "  folder_videoname      single_animal sex  age infusion_hpc infusion_pfc\n",
       "1 20190408_testing_1_7a TRUE          male 75  NA           NA          \n",
       "2 20190408_testing_1_7b TRUE          male 75  NA           NA          \n",
       "  familiarity lighting partition stress    ... fz_overlap cohen_d\n",
       "1 familiar    visible  FALSE     no_stress ... 0          NaN    \n",
       "2 familiar    visible  FALSE     no_stress ... 0          NaN    \n",
       "  fz_start_sub1                                                                      \n",
       "1 253, 263, 287, 293, 311, 322, 331, 351, 378, 408, 463, 474, 527, 542, 640, 668, 715\n",
       "2 244, 267, 348, 397, 435, 501, 550, 616, 632, 706                                   \n",
       "  fz_end_sub1                                                                        \n",
       "1 262, 284, 290, 309, 314, 327, 340, 357, 397, 418, 470, 478, 538, 546, 648, 673, 720\n",
       "2 265, 343, 389, 427, 494, 541, 590, 627, 688, 720                                   \n",
       "  fz_start_sub2 fz_end_sub2 lagt_start_s1_s2 lagt_start_s2_s1 lagt_end_s1_s2\n",
       "1                                                                           \n",
       "2                                                                           \n",
       "  lagt_end_s2_s1\n",
       "1               \n",
       "2               "
      ]
     },
     "metadata": {},
     "output_type": "display_data"
    }
   ],
   "source": [
    "# Load DF\n",
    "path = \"C:/Users/User/Dropbox/Jupyter/wataru/synchro_freeze\"\n",
    "base = \"data.Rda\"\n",
    "filename = file.path(path, base)\n",
    "load(file=filename)\n",
    "\n",
    "#######################################\n",
    "# Display summary\n",
    "dis_summary(df)"
   ]
  },
  {
   "cell_type": "markdown",
   "metadata": {},
   "source": [
    "**Extract together and alone records**<BR>"
   ]
  },
  {
   "cell_type": "code",
   "execution_count": 3,
   "metadata": {},
   "outputs": [
    {
     "name": "stdout",
     "output_type": "stream",
     "text": [
      "dimension:  93 26 \n",
      "   folder_videoname       single_animal                 sex                 age \n",
      "        \"character\"           \"logical\"         \"character\"           \"integer\" \n",
      "       infusion_hpc        infusion_pfc         familiarity            lighting \n",
      "        \"character\"         \"character\"         \"character\"         \"character\" \n",
      "          partition              stress             comment             exclude \n",
      "          \"logical\"         \"character\"         \"character\"           \"logical\" \n",
      "  together_alone_id together_alone_role             fz_sub1             fz_sub2 \n",
      "           \"factor\"            \"factor\"           \"numeric\"           \"numeric\" \n",
      "         fz_overlap             cohen_d       fz_start_sub1         fz_end_sub1 \n",
      "          \"numeric\"           \"numeric\"              \"list\"              \"list\" \n",
      "      fz_start_sub2         fz_end_sub2    lagt_start_s1_s2    lagt_start_s2_s1 \n",
      "             \"list\"              \"list\"              \"list\"              \"list\" \n",
      "     lagt_end_s1_s2      lagt_end_s2_s1 \n",
      "             \"list\"              \"list\" \n"
     ]
    },
    {
     "data": {
      "text/html": [
       "<table>\n",
       "<caption>A data.frame: 2 × 26</caption>\n",
       "<thead>\n",
       "\t<tr><th></th><th scope=col>folder_videoname</th><th scope=col>single_animal</th><th scope=col>sex</th><th scope=col>age</th><th scope=col>infusion_hpc</th><th scope=col>infusion_pfc</th><th scope=col>familiarity</th><th scope=col>lighting</th><th scope=col>partition</th><th scope=col>stress</th><th scope=col>...</th><th scope=col>fz_overlap</th><th scope=col>cohen_d</th><th scope=col>fz_start_sub1</th><th scope=col>fz_end_sub1</th><th scope=col>fz_start_sub2</th><th scope=col>fz_end_sub2</th><th scope=col>lagt_start_s1_s2</th><th scope=col>lagt_start_s2_s1</th><th scope=col>lagt_end_s1_s2</th><th scope=col>lagt_end_s2_s1</th></tr>\n",
       "\t<tr><th></th><th scope=col>&lt;chr&gt;</th><th scope=col>&lt;lgl&gt;</th><th scope=col>&lt;chr&gt;</th><th scope=col>&lt;int&gt;</th><th scope=col>&lt;chr&gt;</th><th scope=col>&lt;chr&gt;</th><th scope=col>&lt;chr&gt;</th><th scope=col>&lt;chr&gt;</th><th scope=col>&lt;lgl&gt;</th><th scope=col>&lt;chr&gt;</th><th scope=col>...</th><th scope=col>&lt;dbl&gt;</th><th scope=col>&lt;dbl&gt;</th><th scope=col>&lt;list&gt;</th><th scope=col>&lt;list&gt;</th><th scope=col>&lt;list&gt;</th><th scope=col>&lt;list&gt;</th><th scope=col>&lt;list&gt;</th><th scope=col>&lt;list&gt;</th><th scope=col>&lt;list&gt;</th><th scope=col>&lt;list&gt;</th></tr>\n",
       "</thead>\n",
       "<tbody>\n",
       "\t<tr><th scope=row>1</th><td>20190408_testing_1_7a</td><td>TRUE</td><td>male</td><td>75</td><td>NA</td><td>NA</td><td>familiar</td><td>visible</td><td>FALSE</td><td>no_stress</td><td>...</td><td>0</td><td>NaN</td><td>253, 263, 287, 293, 311, 322, 331, 351, 378, 408, 463, 474, 527, 542, 640, 668, 715</td><td>262, 284, 290, 309, 314, 327, 340, 357, 397, 418, 470, 478, 538, 546, 648, 673, 720</td><td></td><td></td><td></td><td></td><td></td><td></td></tr>\n",
       "\t<tr><th scope=row>2</th><td>20190408_testing_1_7b</td><td>TRUE</td><td>male</td><td>75</td><td>NA</td><td>NA</td><td>familiar</td><td>visible</td><td>FALSE</td><td>no_stress</td><td>...</td><td>0</td><td>NaN</td><td>244, 267, 348, 397, 435, 501, 550, 616, 632, 706</td><td>265, 343, 389, 427, 494, 541, 590, 627, 688, 720</td><td></td><td></td><td></td><td></td><td></td><td></td></tr>\n",
       "</tbody>\n",
       "</table>\n"
      ],
      "text/latex": [
       "A data.frame: 2 × 26\n",
       "\\begin{tabular}{r|lllllllllllllllllllll}\n",
       "  & folder\\_videoname & single\\_animal & sex & age & infusion\\_hpc & infusion\\_pfc & familiarity & lighting & partition & stress & ... & fz\\_overlap & cohen\\_d & fz\\_start\\_sub1 & fz\\_end\\_sub1 & fz\\_start\\_sub2 & fz\\_end\\_sub2 & lagt\\_start\\_s1\\_s2 & lagt\\_start\\_s2\\_s1 & lagt\\_end\\_s1\\_s2 & lagt\\_end\\_s2\\_s1\\\\\n",
       "  & <chr> & <lgl> & <chr> & <int> & <chr> & <chr> & <chr> & <chr> & <lgl> & <chr> & ... & <dbl> & <dbl> & <list> & <list> & <list> & <list> & <list> & <list> & <list> & <list>\\\\\n",
       "\\hline\n",
       "\t1 & 20190408\\_testing\\_1\\_7a & TRUE & male & 75 & NA & NA & familiar & visible & FALSE & no\\_stress & ... & 0 & NaN & 253, 263, 287, 293, 311, 322, 331, 351, 378, 408, 463, 474, 527, 542, 640, 668, 715 & 262, 284, 290, 309, 314, 327, 340, 357, 397, 418, 470, 478, 538, 546, 648, 673, 720 &  &  &  &  &  & \\\\\n",
       "\t2 & 20190408\\_testing\\_1\\_7b & TRUE & male & 75 & NA & NA & familiar & visible & FALSE & no\\_stress & ... & 0 & NaN & 244, 267, 348, 397, 435, 501, 550, 616, 632, 706 & 265, 343, 389, 427, 494, 541, 590, 627, 688, 720 &  &  &  &  &  & \\\\\n",
       "\\end{tabular}\n"
      ],
      "text/markdown": [
       "\n",
       "A data.frame: 2 × 26\n",
       "\n",
       "| <!--/--> | folder_videoname &lt;chr&gt; | single_animal &lt;lgl&gt; | sex &lt;chr&gt; | age &lt;int&gt; | infusion_hpc &lt;chr&gt; | infusion_pfc &lt;chr&gt; | familiarity &lt;chr&gt; | lighting &lt;chr&gt; | partition &lt;lgl&gt; | stress &lt;chr&gt; | ... ... | fz_overlap &lt;dbl&gt; | cohen_d &lt;dbl&gt; | fz_start_sub1 &lt;list&gt; | fz_end_sub1 &lt;list&gt; | fz_start_sub2 &lt;list&gt; | fz_end_sub2 &lt;list&gt; | lagt_start_s1_s2 &lt;list&gt; | lagt_start_s2_s1 &lt;list&gt; | lagt_end_s1_s2 &lt;list&gt; | lagt_end_s2_s1 &lt;list&gt; |\n",
       "|---|---|---|---|---|---|---|---|---|---|---|---|---|---|---|---|---|---|---|---|---|---|\n",
       "| 1 | 20190408_testing_1_7a | TRUE | male | 75 | NA | NA | familiar | visible | FALSE | no_stress | ... | 0 | NaN | 253, 263, 287, 293, 311, 322, 331, 351, 378, 408, 463, 474, 527, 542, 640, 668, 715 | 262, 284, 290, 309, 314, 327, 340, 357, 397, 418, 470, 478, 538, 546, 648, 673, 720 | <!----> | <!----> | <!----> | <!----> | <!----> | <!----> |\n",
       "| 2 | 20190408_testing_1_7b | TRUE | male | 75 | NA | NA | familiar | visible | FALSE | no_stress | ... | 0 | NaN | 244, 267, 348, 397, 435, 501, 550, 616, 632, 706 | 265, 343, 389, 427, 494, 541, 590, 627, 688, 720 | <!----> | <!----> | <!----> | <!----> | <!----> | <!----> |\n",
       "\n"
      ],
      "text/plain": [
       "  folder_videoname      single_animal sex  age infusion_hpc infusion_pfc\n",
       "1 20190408_testing_1_7a TRUE          male 75  NA           NA          \n",
       "2 20190408_testing_1_7b TRUE          male 75  NA           NA          \n",
       "  familiarity lighting partition stress    ... fz_overlap cohen_d\n",
       "1 familiar    visible  FALSE     no_stress ... 0          NaN    \n",
       "2 familiar    visible  FALSE     no_stress ... 0          NaN    \n",
       "  fz_start_sub1                                                                      \n",
       "1 253, 263, 287, 293, 311, 322, 331, 351, 378, 408, 463, 474, 527, 542, 640, 668, 715\n",
       "2 244, 267, 348, 397, 435, 501, 550, 616, 632, 706                                   \n",
       "  fz_end_sub1                                                                        \n",
       "1 262, 284, 290, 309, 314, 327, 340, 357, 397, 418, 470, 478, 538, 546, 648, 673, 720\n",
       "2 265, 343, 389, 427, 494, 541, 590, 627, 688, 720                                   \n",
       "  fz_start_sub2 fz_end_sub2 lagt_start_s1_s2 lagt_start_s2_s1 lagt_end_s1_s2\n",
       "1                                                                           \n",
       "2                                                                           \n",
       "  lagt_end_s2_s1\n",
       "1               \n",
       "2               "
      ]
     },
     "metadata": {},
     "output_type": "display_data"
    }
   ],
   "source": [
    "df.set1 <- subset(df, \n",
    "                  #single_animal==FALSE & \n",
    "                  is.na(infusion_hpc) &\n",
    "                  is.na(infusion_pfc) & \n",
    "                  #familiarity=='familiar' &\n",
    "                  lighting =='visible' &\n",
    "                  !is.na(together_alone_id) &\n",
    "                  partition==FALSE &\n",
    "                  exclude==FALSE)\n",
    "\n",
    "#######################################\n",
    "# Display summary\n",
    "dis_summary(df.set1)\n",
    "\n",
    "# Output data frame as well as Excel file (not included columns of list)\n",
    "df.input = df.set1\n",
    "path = \"C:/Users/User/Dropbox/Jupyter/wataru/synchro_freeze\"\n",
    "base = \"data_set1\"\n",
    "save_files(df.input,path,base)"
   ]
  },
  {
   "cell_type": "markdown",
   "metadata": {},
   "source": [
    "**Create new data frame with four columns**<BR>\n",
    "    together_alone, animal_id, sex, freeze"
   ]
  },
  {
   "cell_type": "code",
   "execution_count": 4,
   "metadata": {},
   "outputs": [],
   "source": [
    "# Create data frame\n",
    "df.together_alone = data.frame(\n",
    "    animal_id=character(),\n",
    "    sex=character(),\n",
    "    together_alone=character(),\n",
    "    pair_id=character(),\n",
    "    familiarity=character(),\n",
    "    freeze_dif=character(),\n",
    "    freeze=double())\n",
    "\n",
    "for (pair_id in unique(df.set1[,'together_alone_id'])){\n",
    "\n",
    "    # pair_id = '20190408_testing_2_m7ab'\n",
    "\n",
    "    # Extract relevant records\n",
    "    df.together = df.set1[df.set1[,'together_alone_id']==pair_id & df.set1[,'together_alone_role']=='together',]\n",
    "    df.sub1 = df.set1[df.set1[,'together_alone_id']==pair_id & df.set1[,'together_alone_role']=='sub1',]\n",
    "    df.sub2 = df.set1[df.set1[,'together_alone_id']==pair_id & df.set1[,'together_alone_role']=='sub2',]\n",
    "\n",
    "    # Create two records for sub1\n",
    "    df.together_alone = df.together_alone %>% add_row(\n",
    "        'pair_id' = pair_id,\n",
    "        'familiarity' = df.together[,'familiarity'],\n",
    "        'together_alone' = 'together',\n",
    "        'animal_id' = df.sub1[,'folder_videoname'],\n",
    "        'sex' = df.sub1[,'sex'],\n",
    "        'freeze_dif' = 'FALSE',\n",
    "        'freeze' = df.together[,'fz_sub1']\n",
    "        )\n",
    "    \n",
    "    df.together_alone = df.together_alone %>% add_row(\n",
    "        'pair_id' = pair_id,\n",
    "        'familiarity' = df.together[,'familiarity'],\n",
    "        'together_alone' = 'alone',\n",
    "        'animal_id' = df.sub1[,'folder_videoname'],\n",
    "        'sex' = df.sub1[,'sex'],\n",
    "        'freeze_dif' = 'FALSE',\n",
    "        'freeze' = df.sub1[,'fz_sub1']\n",
    "        )\n",
    "\n",
    "    # Create two records for sub2\n",
    "    df.together_alone = df.together_alone %>% add_row(\n",
    "        'pair_id' = pair_id,\n",
    "        'familiarity' = df.together[,'familiarity'],\n",
    "        'together_alone' = 'together',\n",
    "        'animal_id' = df.sub2[,'folder_videoname'],\n",
    "        'sex' = df.sub2[,'sex'],\n",
    "        'freeze_dif' = 'FALSE',\n",
    "        'freeze' = df.together[,'fz_sub2']\n",
    "        )\n",
    "        \n",
    "    df.together_alone = df.together_alone %>% add_row(\n",
    "        'pair_id' = pair_id,\n",
    "        'familiarity' = df.together[,'familiarity'],\n",
    "        'together_alone' = 'alone',\n",
    "        'animal_id' = df.sub2[,'folder_videoname'],\n",
    "        'sex' = df.sub2[,'sex'],\n",
    "        'freeze_dif' = 'FALSE',\n",
    "        'freeze' = df.sub2[,'fz_sub1']\n",
    "        )\n",
    "    \n",
    "    # Create two records for difference of freezing either alone or together\n",
    "    df.together_alone = df.together_alone %>% add_row(\n",
    "        'pair_id' = pair_id,\n",
    "        'familiarity' = df.together[,'familiarity'],\n",
    "        'together_alone' = 'together',\n",
    "        'animal_id' = pair_id,\n",
    "        'sex' = df.sub2[,'sex'],\n",
    "        'freeze_dif' = 'TRUE',\n",
    "        'freeze' = abs(df.together[,'fz_sub1'] - df.together[,'fz_sub2'])\n",
    "        )\n",
    "        \n",
    "    df.together_alone = df.together_alone %>% add_row(\n",
    "        'pair_id' = pair_id,\n",
    "        'familiarity' = df.together[,'familiarity'],\n",
    "        'together_alone' = 'alone',\n",
    "        'animal_id' = pair_id,\n",
    "        'sex' = df.sub2[,'sex'],\n",
    "        'freeze_dif' = 'TRUE',\n",
    "        'freeze' = abs(df.sub1[,'fz_sub1'] - df.sub2[,'fz_sub1'])\n",
    "        )\n",
    "    \n",
    "    \n",
    "\n",
    "}\n",
    "\n",
    "#######################################\n",
    "# Display summary\n",
    "dis_summary(df.set1)\n",
    "\n",
    "# Output data frame as well as Excel file (not included columns of list)\n",
    "df.input = df.set2\n",
    "path = \"C:/Users/User/Dropbox/Jupyter/wataru/synchro_freeze\"\n",
    "base = \"data_set1\"\n",
    "save_files(df.input,path,base)"
   ]
  },
  {
   "cell_type": "markdown",
   "metadata": {},
   "source": [
    "**plot**"
   ]
  },
  {
   "cell_type": "code",
   "execution_count": 7,
   "metadata": {},
   "outputs": [
    {
     "name": "stdout",
     "output_type": "stream",
     "text": [
      "dimension:  52 7 \n",
      "     animal_id            sex together_alone        pair_id    familiarity \n",
      "   \"character\"    \"character\"    \"character\"    \"character\"    \"character\" \n",
      "    freeze_dif         freeze \n",
      "   \"character\"      \"numeric\" \n"
     ]
    },
    {
     "data": {
      "text/html": [
       "<table>\n",
       "<caption>A data.frame: 2 × 7</caption>\n",
       "<thead>\n",
       "\t<tr><th></th><th scope=col>animal_id</th><th scope=col>sex</th><th scope=col>together_alone</th><th scope=col>pair_id</th><th scope=col>familiarity</th><th scope=col>freeze_dif</th><th scope=col>freeze</th></tr>\n",
       "\t<tr><th></th><th scope=col>&lt;chr&gt;</th><th scope=col>&lt;chr&gt;</th><th scope=col>&lt;chr&gt;</th><th scope=col>&lt;chr&gt;</th><th scope=col>&lt;chr&gt;</th><th scope=col>&lt;chr&gt;</th><th scope=col>&lt;dbl&gt;</th></tr>\n",
       "</thead>\n",
       "<tbody>\n",
       "\t<tr><th scope=row>1</th><td>20190408_testing_1_7a</td><td>male</td><td>together</td><td>20190408_testing_2_m7ab</td><td>familiar</td><td>FALSE</td><td>22.29167</td></tr>\n",
       "\t<tr><th scope=row>2</th><td>20190408_testing_1_7a</td><td>male</td><td>alone   </td><td>20190408_testing_2_m7ab</td><td>familiar</td><td>FALSE</td><td>33.75000</td></tr>\n",
       "</tbody>\n",
       "</table>\n"
      ],
      "text/latex": [
       "A data.frame: 2 × 7\n",
       "\\begin{tabular}{r|lllllll}\n",
       "  & animal\\_id & sex & together\\_alone & pair\\_id & familiarity & freeze\\_dif & freeze\\\\\n",
       "  & <chr> & <chr> & <chr> & <chr> & <chr> & <chr> & <dbl>\\\\\n",
       "\\hline\n",
       "\t1 & 20190408\\_testing\\_1\\_7a & male & together & 20190408\\_testing\\_2\\_m7ab & familiar & FALSE & 22.29167\\\\\n",
       "\t2 & 20190408\\_testing\\_1\\_7a & male & alone    & 20190408\\_testing\\_2\\_m7ab & familiar & FALSE & 33.75000\\\\\n",
       "\\end{tabular}\n"
      ],
      "text/markdown": [
       "\n",
       "A data.frame: 2 × 7\n",
       "\n",
       "| <!--/--> | animal_id &lt;chr&gt; | sex &lt;chr&gt; | together_alone &lt;chr&gt; | pair_id &lt;chr&gt; | familiarity &lt;chr&gt; | freeze_dif &lt;chr&gt; | freeze &lt;dbl&gt; |\n",
       "|---|---|---|---|---|---|---|---|\n",
       "| 1 | 20190408_testing_1_7a | male | together | 20190408_testing_2_m7ab | familiar | FALSE | 22.29167 |\n",
       "| 2 | 20190408_testing_1_7a | male | alone    | 20190408_testing_2_m7ab | familiar | FALSE | 33.75000 |\n",
       "\n"
      ],
      "text/plain": [
       "  animal_id             sex  together_alone pair_id                 familiarity\n",
       "1 20190408_testing_1_7a male together       20190408_testing_2_m7ab familiar   \n",
       "2 20190408_testing_1_7a male alone          20190408_testing_2_m7ab familiar   \n",
       "  freeze_dif freeze  \n",
       "1 FALSE      22.29167\n",
       "2 FALSE      33.75000"
      ]
     },
     "metadata": {},
     "output_type": "display_data"
    },
    {
     "name": "stdout",
     "output_type": "stream",
     "text": [
      "dimension:  48 7 \n",
      "     animal_id            sex together_alone        pair_id    familiarity \n",
      "   \"character\"    \"character\"    \"character\"    \"character\"    \"character\" \n",
      "    freeze_dif         freeze \n",
      "   \"character\"      \"numeric\" \n"
     ]
    },
    {
     "data": {
      "text/html": [
       "<table>\n",
       "<caption>A data.frame: 2 × 7</caption>\n",
       "<thead>\n",
       "\t<tr><th></th><th scope=col>animal_id</th><th scope=col>sex</th><th scope=col>together_alone</th><th scope=col>pair_id</th><th scope=col>familiarity</th><th scope=col>freeze_dif</th><th scope=col>freeze</th></tr>\n",
       "\t<tr><th></th><th scope=col>&lt;chr&gt;</th><th scope=col>&lt;chr&gt;</th><th scope=col>&lt;chr&gt;</th><th scope=col>&lt;chr&gt;</th><th scope=col>&lt;chr&gt;</th><th scope=col>&lt;chr&gt;</th><th scope=col>&lt;dbl&gt;</th></tr>\n",
       "</thead>\n",
       "<tbody>\n",
       "\t<tr><th scope=row>13</th><td>20190408_testing_2_f10a</td><td>female</td><td>together</td><td>20190408_testing_1_f10ab</td><td>familiar</td><td>FALSE</td><td>31.04167</td></tr>\n",
       "\t<tr><th scope=row>14</th><td>20190408_testing_2_f10a</td><td>female</td><td>alone   </td><td>20190408_testing_1_f10ab</td><td>familiar</td><td>FALSE</td><td>45.83333</td></tr>\n",
       "</tbody>\n",
       "</table>\n"
      ],
      "text/latex": [
       "A data.frame: 2 × 7\n",
       "\\begin{tabular}{r|lllllll}\n",
       "  & animal\\_id & sex & together\\_alone & pair\\_id & familiarity & freeze\\_dif & freeze\\\\\n",
       "  & <chr> & <chr> & <chr> & <chr> & <chr> & <chr> & <dbl>\\\\\n",
       "\\hline\n",
       "\t13 & 20190408\\_testing\\_2\\_f10a & female & together & 20190408\\_testing\\_1\\_f10ab & familiar & FALSE & 31.04167\\\\\n",
       "\t14 & 20190408\\_testing\\_2\\_f10a & female & alone    & 20190408\\_testing\\_1\\_f10ab & familiar & FALSE & 45.83333\\\\\n",
       "\\end{tabular}\n"
      ],
      "text/markdown": [
       "\n",
       "A data.frame: 2 × 7\n",
       "\n",
       "| <!--/--> | animal_id &lt;chr&gt; | sex &lt;chr&gt; | together_alone &lt;chr&gt; | pair_id &lt;chr&gt; | familiarity &lt;chr&gt; | freeze_dif &lt;chr&gt; | freeze &lt;dbl&gt; |\n",
       "|---|---|---|---|---|---|---|---|\n",
       "| 13 | 20190408_testing_2_f10a | female | together | 20190408_testing_1_f10ab | familiar | FALSE | 31.04167 |\n",
       "| 14 | 20190408_testing_2_f10a | female | alone    | 20190408_testing_1_f10ab | familiar | FALSE | 45.83333 |\n",
       "\n"
      ],
      "text/plain": [
       "   animal_id               sex    together_alone pair_id                 \n",
       "13 20190408_testing_2_f10a female together       20190408_testing_1_f10ab\n",
       "14 20190408_testing_2_f10a female alone          20190408_testing_1_f10ab\n",
       "   familiarity freeze_dif freeze  \n",
       "13 familiar    FALSE      31.04167\n",
       "14 familiar    FALSE      45.83333"
      ]
     },
     "metadata": {},
     "output_type": "display_data"
    },
    {
     "name": "stdout",
     "output_type": "stream",
     "text": [
      "dimension:  24 7 \n",
      "     animal_id            sex together_alone        pair_id    familiarity \n",
      "   \"character\"    \"character\"    \"character\"    \"character\"    \"character\" \n",
      "    freeze_dif         freeze \n",
      "   \"character\"      \"numeric\" \n"
     ]
    },
    {
     "data": {
      "text/html": [
       "<table>\n",
       "<caption>A data.frame: 2 × 7</caption>\n",
       "<thead>\n",
       "\t<tr><th></th><th scope=col>animal_id</th><th scope=col>sex</th><th scope=col>together_alone</th><th scope=col>pair_id</th><th scope=col>familiarity</th><th scope=col>freeze_dif</th><th scope=col>freeze</th></tr>\n",
       "\t<tr><th></th><th scope=col>&lt;chr&gt;</th><th scope=col>&lt;chr&gt;</th><th scope=col>&lt;chr&gt;</th><th scope=col>&lt;chr&gt;</th><th scope=col>&lt;chr&gt;</th><th scope=col>&lt;chr&gt;</th><th scope=col>&lt;dbl&gt;</th></tr>\n",
       "</thead>\n",
       "<tbody>\n",
       "\t<tr><th scope=row>151</th><td>20190809_afternoon_26a</td><td>female</td><td>together</td><td>20190809_morning_26a29b</td><td>unfamiliar</td><td>FALSE</td><td>30.83333</td></tr>\n",
       "\t<tr><th scope=row>152</th><td>20190809_afternoon_26a</td><td>female</td><td>alone   </td><td>20190809_morning_26a29b</td><td>unfamiliar</td><td>FALSE</td><td>50.20833</td></tr>\n",
       "</tbody>\n",
       "</table>\n"
      ],
      "text/latex": [
       "A data.frame: 2 × 7\n",
       "\\begin{tabular}{r|lllllll}\n",
       "  & animal\\_id & sex & together\\_alone & pair\\_id & familiarity & freeze\\_dif & freeze\\\\\n",
       "  & <chr> & <chr> & <chr> & <chr> & <chr> & <chr> & <dbl>\\\\\n",
       "\\hline\n",
       "\t151 & 20190809\\_afternoon\\_26a & female & together & 20190809\\_morning\\_26a29b & unfamiliar & FALSE & 30.83333\\\\\n",
       "\t152 & 20190809\\_afternoon\\_26a & female & alone    & 20190809\\_morning\\_26a29b & unfamiliar & FALSE & 50.20833\\\\\n",
       "\\end{tabular}\n"
      ],
      "text/markdown": [
       "\n",
       "A data.frame: 2 × 7\n",
       "\n",
       "| <!--/--> | animal_id &lt;chr&gt; | sex &lt;chr&gt; | together_alone &lt;chr&gt; | pair_id &lt;chr&gt; | familiarity &lt;chr&gt; | freeze_dif &lt;chr&gt; | freeze &lt;dbl&gt; |\n",
       "|---|---|---|---|---|---|---|---|\n",
       "| 151 | 20190809_afternoon_26a | female | together | 20190809_morning_26a29b | unfamiliar | FALSE | 30.83333 |\n",
       "| 152 | 20190809_afternoon_26a | female | alone    | 20190809_morning_26a29b | unfamiliar | FALSE | 50.20833 |\n",
       "\n"
      ],
      "text/plain": [
       "    animal_id              sex    together_alone pair_id                \n",
       "151 20190809_afternoon_26a female together       20190809_morning_26a29b\n",
       "152 20190809_afternoon_26a female alone          20190809_morning_26a29b\n",
       "    familiarity freeze_dif freeze  \n",
       "151 unfamiliar  FALSE      30.83333\n",
       "152 unfamiliar  FALSE      50.20833"
      ]
     },
     "metadata": {},
     "output_type": "display_data"
    },
    {
     "name": "stdout",
     "output_type": "stream",
     "text": [
      "dimension:  26 7 \n",
      "     animal_id            sex together_alone        pair_id    familiarity \n",
      "   \"character\"    \"character\"    \"character\"    \"character\"    \"character\" \n",
      "    freeze_dif         freeze \n",
      "   \"character\"      \"numeric\" \n"
     ]
    },
    {
     "data": {
      "text/html": [
       "<table>\n",
       "<caption>A data.frame: 2 × 7</caption>\n",
       "<thead>\n",
       "\t<tr><th></th><th scope=col>animal_id</th><th scope=col>sex</th><th scope=col>together_alone</th><th scope=col>pair_id</th><th scope=col>familiarity</th><th scope=col>freeze_dif</th><th scope=col>freeze</th></tr>\n",
       "\t<tr><th></th><th scope=col>&lt;chr&gt;</th><th scope=col>&lt;chr&gt;</th><th scope=col>&lt;chr&gt;</th><th scope=col>&lt;chr&gt;</th><th scope=col>&lt;chr&gt;</th><th scope=col>&lt;chr&gt;</th><th scope=col>&lt;dbl&gt;</th></tr>\n",
       "</thead>\n",
       "<tbody>\n",
       "\t<tr><th scope=row>5</th><td>20190408_testing_2_m7ab</td><td>male</td><td>together</td><td>20190408_testing_2_m7ab</td><td>familiar</td><td>TRUE</td><td>28.95833</td></tr>\n",
       "\t<tr><th scope=row>6</th><td>20190408_testing_2_m7ab</td><td>male</td><td>alone   </td><td>20190408_testing_2_m7ab</td><td>familiar</td><td>TRUE</td><td>49.16667</td></tr>\n",
       "</tbody>\n",
       "</table>\n"
      ],
      "text/latex": [
       "A data.frame: 2 × 7\n",
       "\\begin{tabular}{r|lllllll}\n",
       "  & animal\\_id & sex & together\\_alone & pair\\_id & familiarity & freeze\\_dif & freeze\\\\\n",
       "  & <chr> & <chr> & <chr> & <chr> & <chr> & <chr> & <dbl>\\\\\n",
       "\\hline\n",
       "\t5 & 20190408\\_testing\\_2\\_m7ab & male & together & 20190408\\_testing\\_2\\_m7ab & familiar & TRUE & 28.95833\\\\\n",
       "\t6 & 20190408\\_testing\\_2\\_m7ab & male & alone    & 20190408\\_testing\\_2\\_m7ab & familiar & TRUE & 49.16667\\\\\n",
       "\\end{tabular}\n"
      ],
      "text/markdown": [
       "\n",
       "A data.frame: 2 × 7\n",
       "\n",
       "| <!--/--> | animal_id &lt;chr&gt; | sex &lt;chr&gt; | together_alone &lt;chr&gt; | pair_id &lt;chr&gt; | familiarity &lt;chr&gt; | freeze_dif &lt;chr&gt; | freeze &lt;dbl&gt; |\n",
       "|---|---|---|---|---|---|---|---|\n",
       "| 5 | 20190408_testing_2_m7ab | male | together | 20190408_testing_2_m7ab | familiar | TRUE | 28.95833 |\n",
       "| 6 | 20190408_testing_2_m7ab | male | alone    | 20190408_testing_2_m7ab | familiar | TRUE | 49.16667 |\n",
       "\n"
      ],
      "text/plain": [
       "  animal_id               sex  together_alone pair_id                \n",
       "5 20190408_testing_2_m7ab male together       20190408_testing_2_m7ab\n",
       "6 20190408_testing_2_m7ab male alone          20190408_testing_2_m7ab\n",
       "  familiarity freeze_dif freeze  \n",
       "5 familiar    TRUE       28.95833\n",
       "6 familiar    TRUE       49.16667"
      ]
     },
     "metadata": {},
     "output_type": "display_data"
    },
    {
     "name": "stdout",
     "output_type": "stream",
     "text": [
      "dimension:  24 7 \n",
      "     animal_id            sex together_alone        pair_id    familiarity \n",
      "   \"character\"    \"character\"    \"character\"    \"character\"    \"character\" \n",
      "    freeze_dif         freeze \n",
      "   \"character\"      \"numeric\" \n"
     ]
    },
    {
     "data": {
      "text/html": [
       "<table>\n",
       "<caption>A data.frame: 2 × 7</caption>\n",
       "<thead>\n",
       "\t<tr><th></th><th scope=col>animal_id</th><th scope=col>sex</th><th scope=col>together_alone</th><th scope=col>pair_id</th><th scope=col>familiarity</th><th scope=col>freeze_dif</th><th scope=col>freeze</th></tr>\n",
       "\t<tr><th></th><th scope=col>&lt;chr&gt;</th><th scope=col>&lt;chr&gt;</th><th scope=col>&lt;chr&gt;</th><th scope=col>&lt;chr&gt;</th><th scope=col>&lt;chr&gt;</th><th scope=col>&lt;chr&gt;</th><th scope=col>&lt;dbl&gt;</th></tr>\n",
       "</thead>\n",
       "<tbody>\n",
       "\t<tr><th scope=row>17</th><td>20190408_testing_1_f10ab</td><td>female</td><td>together</td><td>20190408_testing_1_f10ab</td><td>familiar</td><td>TRUE</td><td>25.20833</td></tr>\n",
       "\t<tr><th scope=row>18</th><td>20190408_testing_1_f10ab</td><td>female</td><td>alone   </td><td>20190408_testing_1_f10ab</td><td>familiar</td><td>TRUE</td><td>16.45833</td></tr>\n",
       "</tbody>\n",
       "</table>\n"
      ],
      "text/latex": [
       "A data.frame: 2 × 7\n",
       "\\begin{tabular}{r|lllllll}\n",
       "  & animal\\_id & sex & together\\_alone & pair\\_id & familiarity & freeze\\_dif & freeze\\\\\n",
       "  & <chr> & <chr> & <chr> & <chr> & <chr> & <chr> & <dbl>\\\\\n",
       "\\hline\n",
       "\t17 & 20190408\\_testing\\_1\\_f10ab & female & together & 20190408\\_testing\\_1\\_f10ab & familiar & TRUE & 25.20833\\\\\n",
       "\t18 & 20190408\\_testing\\_1\\_f10ab & female & alone    & 20190408\\_testing\\_1\\_f10ab & familiar & TRUE & 16.45833\\\\\n",
       "\\end{tabular}\n"
      ],
      "text/markdown": [
       "\n",
       "A data.frame: 2 × 7\n",
       "\n",
       "| <!--/--> | animal_id &lt;chr&gt; | sex &lt;chr&gt; | together_alone &lt;chr&gt; | pair_id &lt;chr&gt; | familiarity &lt;chr&gt; | freeze_dif &lt;chr&gt; | freeze &lt;dbl&gt; |\n",
       "|---|---|---|---|---|---|---|---|\n",
       "| 17 | 20190408_testing_1_f10ab | female | together | 20190408_testing_1_f10ab | familiar | TRUE | 25.20833 |\n",
       "| 18 | 20190408_testing_1_f10ab | female | alone    | 20190408_testing_1_f10ab | familiar | TRUE | 16.45833 |\n",
       "\n"
      ],
      "text/plain": [
       "   animal_id                sex    together_alone pair_id                 \n",
       "17 20190408_testing_1_f10ab female together       20190408_testing_1_f10ab\n",
       "18 20190408_testing_1_f10ab female alone          20190408_testing_1_f10ab\n",
       "   familiarity freeze_dif freeze  \n",
       "17 familiar    TRUE       25.20833\n",
       "18 familiar    TRUE       16.45833"
      ]
     },
     "metadata": {},
     "output_type": "display_data"
    },
    {
     "data": {
      "image/png": "[encoded data removed]",
      "text/plain": [
       "plot without title"
      ]
     },
     "metadata": {
      "image/png": {
       "height": 360,
       "width": 1200
      },
      "text/plain": {
       "height": 360,
       "width": 1200
      }
     },
     "output_type": "display_data"
    }
   ],
   "source": [
    "paired_plot <- function(df.input){\n",
    "dp_dotsize=5\n",
    "\n",
    "# p<- ggplot(df.temp, aes(x=together_alone, y=freeze, group=animal_id, color=animal_id)) + \n",
    "ggp.output<- ggplot(df.input, aes(x=together_alone, y=freeze, group=animal_id))+ \n",
    "        geom_line()+\n",
    "        geom_point(size=dp_dotsize, colour=\"#3333FF\")+\n",
    "\n",
    "    # Remainings are all the same. No need to modify.\n",
    "        # Change filling color for box\n",
    "        scale_fill_manual(values=c(\"#FF3333\", \"#3333FF\"))+\n",
    "        # Change theme. Look at \"Complete themes\" above.\n",
    "        theme_bw()+\n",
    "        # Control of axes\n",
    "        theme(\n",
    "            axis.title.x = element_blank(),\n",
    "            axis.title.y = element_text(size=25,vjust=2,face='bold'),\n",
    "            axis.text=element_text(size=20))+    \n",
    "        # Control of legend\n",
    "        theme(\n",
    "            #legend.position = \"none\",\n",
    "            #legend.position = 'bottom',\n",
    "            #legend.direction = \"horizontal\",\n",
    "            #legend.title = element_text(size=20,face='bold'),\n",
    "            legend.title = element_blank(),\n",
    "            legend.text=element_text(size=10))\n",
    "\n",
    "return(ggp.output)\n",
    "}\n",
    "\n",
    "df.temp = df.together_alone[df.together_alone[,'sex']=='male' & df.together_alone[,'familiarity']=='familiar' &\n",
    "                            df.together_alone[,'freeze_dif']=='FALSE',]\n",
    "# Display summary\n",
    "dis_summary(df.temp)\n",
    "out3_1 = paired_plot(df.temp)\n",
    "\n",
    "df.temp = df.together_alone[df.together_alone[,'sex']=='female'& df.together_alone[,'familiarity']=='familiar' &\n",
    "                            df.together_alone[,'freeze_dif']=='FALSE',]\n",
    "# Display summary\n",
    "dis_summary(df.temp)\n",
    "out3_2 = paired_plot(df.temp)\n",
    "\n",
    "df.temp = df.together_alone[df.together_alone[,'sex']=='female'& df.together_alone[,'familiarity']=='unfamiliar' &\n",
    "                            df.together_alone[,'freeze_dif']=='FALSE',]\n",
    "# Display summary\n",
    "dis_summary(df.temp)\n",
    "out3_3 = paired_plot(df.temp)\n",
    "\n",
    "df.temp = df.together_alone[df.together_alone[,'sex']=='male' & df.together_alone[,'familiarity']=='familiar' &\n",
    "                            df.together_alone[,'freeze_dif']=='TRUE',]\n",
    "# Display summary\n",
    "dis_summary(df.temp)\n",
    "out3_4 = paired_plot(df.temp)\n",
    "\n",
    "df.temp = df.together_alone[df.together_alone[,'sex']=='female' & df.together_alone[,'familiarity']=='familiar' &\n",
    "                            df.together_alone[,'freeze_dif']=='TRUE',]\n",
    "# Display summary\n",
    "dis_summary(df.temp)\n",
    "out3_5 = paired_plot(df.temp)\n",
    "\n",
    "\n",
    "# plot the two plots\n",
    "# set the size of final plot, width x height\n",
    "plot_width = 20\n",
    "plot_height = 6\n",
    "options(repr.plot.width=plot_width, repr.plot.height=plot_height)\n",
    "\n",
    "ggarrange(out3_1, out3_2, out3_3, out3_4, out3_5, ncol=5)"
   ]
  },
  {
   "cell_type": "code",
   "execution_count": 8,
   "metadata": {},
   "outputs": [],
   "source": [
    "# Output eps file on desktop\n",
    "path = \"C:/Users/User/Desktop\"\n",
    "base = \"plot.eps\"\n",
    "filename = file.path(path, base)\n",
    "\n",
    "ggsave(filename, device=cairo_ps,width=plot_width, height=plot_height)"
   ]
  },
  {
   "cell_type": "markdown",
   "metadata": {},
   "source": [
    "**Paired Samples T-test**\n",
    "- **Paired Samples T-test**\n",
    "http://www.sthda.com/english/wiki/paired-samples-t-test-in-r"
   ]
  },
  {
   "cell_type": "code",
   "execution_count": 7,
   "metadata": {},
   "outputs": [
    {
     "data": {
      "text/plain": [
       "\n",
       "\tPaired t-test\n",
       "\n",
       "data:  temp.a and temp.b\n",
       "t = -1.8984, df = 25, p-value = 0.06924\n",
       "alternative hypothesis: true difference in means is not equal to 0\n",
       "95 percent confidence interval:\n",
       " -18.8272002   0.7663027\n",
       "sample estimates:\n",
       "mean of the differences \n",
       "              -9.030449 \n"
      ]
     },
     "metadata": {},
     "output_type": "display_data"
    }
   ],
   "source": [
    "df.input = df.together_alone[df.together_alone[,'sex']=='male' & df.together_alone[,'familiarity']=='familiar' &\n",
    "                            df.together_alone[,'freeze_dif']=='FALSE',]\n",
    "\n",
    "xa1 = 'together_alone'\n",
    "xa1_value = 'together'\n",
    "xb1 = 'together_alone'\n",
    "xb1_value = 'alone'\n",
    "y = 'freeze'\n",
    "\n",
    "# Extract data frame to vectors\n",
    "    temp.a = df.input[,y][df.input[,xa1]==xa1_value]\n",
    "    temp.b = df.input[,y][df.input[,xb1]==xb1_value]\n",
    "\n",
    "\n",
    "res <- t.test(temp.a, temp.b, paired = TRUE)\n",
    "res"
   ]
  },
  {
   "cell_type": "code",
   "execution_count": 8,
   "metadata": {},
   "outputs": [
    {
     "data": {
      "text/plain": [
       "\n",
       "\tPaired t-test\n",
       "\n",
       "data:  temp.a and temp.b\n",
       "t = -1.2424, df = 23, p-value = 0.2266\n",
       "alternative hypothesis: true difference in means is not equal to 0\n",
       "95 percent confidence interval:\n",
       " -16.956901   4.231207\n",
       "sample estimates:\n",
       "mean of the differences \n",
       "              -6.362847 \n"
      ]
     },
     "metadata": {},
     "output_type": "display_data"
    }
   ],
   "source": [
    "df.input = df.together_alone[df.together_alone[,'sex']=='female'& df.together_alone[,'familiarity']=='familiar' &\n",
    "                            df.together_alone[,'freeze_dif']=='FALSE',]\n",
    "\n",
    "xa1 = 'together_alone'\n",
    "xa1_value = 'together'\n",
    "xb1 = 'together_alone'\n",
    "xb1_value = 'alone'\n",
    "y = 'freeze'\n",
    "\n",
    "# Extract data frame to vectors\n",
    "    temp.a = df.input[,y][df.input[,xa1]==xa1_value]\n",
    "    temp.b = df.input[,y][df.input[,xb1]==xb1_value]\n",
    "\n",
    "\n",
    "res <- t.test(temp.a, temp.b, paired = TRUE)\n",
    "res"
   ]
  },
  {
   "cell_type": "code",
   "execution_count": 9,
   "metadata": {},
   "outputs": [
    {
     "data": {
      "text/plain": [
       "\n",
       "\tPaired t-test\n",
       "\n",
       "data:  temp.a and temp.b\n",
       "t = -2.6677, df = 12, p-value = 0.0205\n",
       "alternative hypothesis: true difference in means is not equal to 0\n",
       "95 percent confidence interval:\n",
       " -20.758465  -2.094099\n",
       "sample estimates:\n",
       "mean of the differences \n",
       "              -11.42628 \n"
      ]
     },
     "metadata": {},
     "output_type": "display_data"
    }
   ],
   "source": [
    "df.input = df.together_alone[df.together_alone[,'sex']=='male' & df.together_alone[,'familiarity']=='familiar' &\n",
    "                            df.together_alone[,'freeze_dif']=='TRUE',]\n",
    "\n",
    "xa1 = 'together_alone'\n",
    "xa1_value = 'together'\n",
    "xb1 = 'together_alone'\n",
    "xb1_value = 'alone'\n",
    "y = 'freeze'\n",
    "\n",
    "# Extract data frame to vectors\n",
    "    temp.a = df.input[,y][df.input[,xa1]==xa1_value]\n",
    "    temp.b = df.input[,y][df.input[,xb1]==xb1_value]\n",
    "\n",
    "\n",
    "res <- t.test(temp.a, temp.b, paired = TRUE)\n",
    "res"
   ]
  },
  {
   "cell_type": "code",
   "execution_count": 10,
   "metadata": {},
   "outputs": [
    {
     "data": {
      "text/plain": [
       "\n",
       "\tPaired t-test\n",
       "\n",
       "data:  temp.a and temp.b\n",
       "t = -1.1965, df = 11, p-value = 0.2567\n",
       "alternative hypothesis: true difference in means is not equal to 0\n",
       "95 percent confidence interval:\n",
       " -18.683845   5.524123\n",
       "sample estimates:\n",
       "mean of the differences \n",
       "              -6.579861 \n"
      ]
     },
     "metadata": {},
     "output_type": "display_data"
    }
   ],
   "source": [
    "df.input = df.together_alone[df.together_alone[,'sex']=='female' & df.together_alone[,'familiarity']=='familiar' &\n",
    "                            df.together_alone[,'freeze_dif']=='TRUE',]\n",
    "\n",
    "xa1 = 'together_alone'\n",
    "xa1_value = 'together'\n",
    "xb1 = 'together_alone'\n",
    "xb1_value = 'alone'\n",
    "y = 'freeze'\n",
    "\n",
    "# Extract data frame to vectors\n",
    "    temp.a = df.input[,y][df.input[,xa1]==xa1_value]\n",
    "    temp.b = df.input[,y][df.input[,xb1]==xb1_value]\n",
    "\n",
    "\n",
    "res <- t.test(temp.a, temp.b, paired = TRUE)\n",
    "res"
   ]
  },
  {
   "cell_type": "markdown",
   "metadata": {},
   "source": [
    "---\n",
    "## Step 7. Local infusion of muscimol into PFC and vHippo\n",
    "**Load R dataframe**"
   ]
  },
  {
   "cell_type": "code",
   "execution_count": 2,
   "metadata": {},
   "outputs": [
    {
     "name": "stdout",
     "output_type": "stream",
     "text": [
      "dimension:  216 26 \n",
      "   folder_videoname       single_animal                 sex                 age \n",
      "        \"character\"           \"logical\"         \"character\"           \"integer\" \n",
      "       infusion_hpc        infusion_pfc         familiarity            lighting \n",
      "        \"character\"         \"character\"         \"character\"         \"character\" \n",
      "          partition              stress             comment             exclude \n",
      "          \"logical\"         \"character\"         \"character\"           \"logical\" \n",
      "  together_alone_id together_alone_role             fz_sub1             fz_sub2 \n",
      "           \"factor\"            \"factor\"           \"numeric\"           \"numeric\" \n",
      "         fz_overlap             cohen_d       fz_start_sub1         fz_end_sub1 \n",
      "          \"numeric\"           \"numeric\"              \"list\"              \"list\" \n",
      "      fz_start_sub2         fz_end_sub2    lagt_start_s1_s2    lagt_start_s2_s1 \n",
      "             \"list\"              \"list\"              \"list\"              \"list\" \n",
      "     lagt_end_s1_s2      lagt_end_s2_s1 \n",
      "             \"list\"              \"list\" \n"
     ]
    },
    {
     "data": {
      "text/html": [
       "<table>\n",
       "<caption>A data.frame: 2 × 26</caption>\n",
       "<thead>\n",
       "\t<tr><th></th><th scope=col>folder_videoname</th><th scope=col>single_animal</th><th scope=col>sex</th><th scope=col>age</th><th scope=col>infusion_hpc</th><th scope=col>infusion_pfc</th><th scope=col>familiarity</th><th scope=col>lighting</th><th scope=col>partition</th><th scope=col>stress</th><th scope=col>...</th><th scope=col>fz_overlap</th><th scope=col>cohen_d</th><th scope=col>fz_start_sub1</th><th scope=col>fz_end_sub1</th><th scope=col>fz_start_sub2</th><th scope=col>fz_end_sub2</th><th scope=col>lagt_start_s1_s2</th><th scope=col>lagt_start_s2_s1</th><th scope=col>lagt_end_s1_s2</th><th scope=col>lagt_end_s2_s1</th></tr>\n",
       "\t<tr><th></th><th scope=col>&lt;chr&gt;</th><th scope=col>&lt;lgl&gt;</th><th scope=col>&lt;chr&gt;</th><th scope=col>&lt;int&gt;</th><th scope=col>&lt;chr&gt;</th><th scope=col>&lt;chr&gt;</th><th scope=col>&lt;chr&gt;</th><th scope=col>&lt;chr&gt;</th><th scope=col>&lt;lgl&gt;</th><th scope=col>&lt;chr&gt;</th><th scope=col>...</th><th scope=col>&lt;dbl&gt;</th><th scope=col>&lt;dbl&gt;</th><th scope=col>&lt;list&gt;</th><th scope=col>&lt;list&gt;</th><th scope=col>&lt;list&gt;</th><th scope=col>&lt;list&gt;</th><th scope=col>&lt;list&gt;</th><th scope=col>&lt;list&gt;</th><th scope=col>&lt;list&gt;</th><th scope=col>&lt;list&gt;</th></tr>\n",
       "</thead>\n",
       "<tbody>\n",
       "\t<tr><th scope=row>1</th><td>20190408_testing_1_7a</td><td>TRUE</td><td>male</td><td>75</td><td>NA</td><td>NA</td><td>familiar</td><td>visible</td><td>FALSE</td><td>no_stress</td><td>...</td><td>0</td><td>NaN</td><td>253, 263, 287, 293, 311, 322, 331, 351, 378, 408, 463, 474, 527, 542, 640, 668, 715</td><td>262, 284, 290, 309, 314, 327, 340, 357, 397, 418, 470, 478, 538, 546, 648, 673, 720</td><td></td><td></td><td></td><td></td><td></td><td></td></tr>\n",
       "\t<tr><th scope=row>2</th><td>20190408_testing_1_7b</td><td>TRUE</td><td>male</td><td>75</td><td>NA</td><td>NA</td><td>familiar</td><td>visible</td><td>FALSE</td><td>no_stress</td><td>...</td><td>0</td><td>NaN</td><td>244, 267, 348, 397, 435, 501, 550, 616, 632, 706</td><td>265, 343, 389, 427, 494, 541, 590, 627, 688, 720</td><td></td><td></td><td></td><td></td><td></td><td></td></tr>\n",
       "</tbody>\n",
       "</table>\n"
      ],
      "text/latex": [
       "A data.frame: 2 × 26\n",
       "\\begin{tabular}{r|lllllllllllllllllllll}\n",
       "  & folder\\_videoname & single\\_animal & sex & age & infusion\\_hpc & infusion\\_pfc & familiarity & lighting & partition & stress & ... & fz\\_overlap & cohen\\_d & fz\\_start\\_sub1 & fz\\_end\\_sub1 & fz\\_start\\_sub2 & fz\\_end\\_sub2 & lagt\\_start\\_s1\\_s2 & lagt\\_start\\_s2\\_s1 & lagt\\_end\\_s1\\_s2 & lagt\\_end\\_s2\\_s1\\\\\n",
       "  & <chr> & <lgl> & <chr> & <int> & <chr> & <chr> & <chr> & <chr> & <lgl> & <chr> & ... & <dbl> & <dbl> & <list> & <list> & <list> & <list> & <list> & <list> & <list> & <list>\\\\\n",
       "\\hline\n",
       "\t1 & 20190408\\_testing\\_1\\_7a & TRUE & male & 75 & NA & NA & familiar & visible & FALSE & no\\_stress & ... & 0 & NaN & 253, 263, 287, 293, 311, 322, 331, 351, 378, 408, 463, 474, 527, 542, 640, 668, 715 & 262, 284, 290, 309, 314, 327, 340, 357, 397, 418, 470, 478, 538, 546, 648, 673, 720 &  &  &  &  &  & \\\\\n",
       "\t2 & 20190408\\_testing\\_1\\_7b & TRUE & male & 75 & NA & NA & familiar & visible & FALSE & no\\_stress & ... & 0 & NaN & 244, 267, 348, 397, 435, 501, 550, 616, 632, 706 & 265, 343, 389, 427, 494, 541, 590, 627, 688, 720 &  &  &  &  &  & \\\\\n",
       "\\end{tabular}\n"
      ],
      "text/markdown": [
       "\n",
       "A data.frame: 2 × 26\n",
       "\n",
       "| <!--/--> | folder_videoname &lt;chr&gt; | single_animal &lt;lgl&gt; | sex &lt;chr&gt; | age &lt;int&gt; | infusion_hpc &lt;chr&gt; | infusion_pfc &lt;chr&gt; | familiarity &lt;chr&gt; | lighting &lt;chr&gt; | partition &lt;lgl&gt; | stress &lt;chr&gt; | ... ... | fz_overlap &lt;dbl&gt; | cohen_d &lt;dbl&gt; | fz_start_sub1 &lt;list&gt; | fz_end_sub1 &lt;list&gt; | fz_start_sub2 &lt;list&gt; | fz_end_sub2 &lt;list&gt; | lagt_start_s1_s2 &lt;list&gt; | lagt_start_s2_s1 &lt;list&gt; | lagt_end_s1_s2 &lt;list&gt; | lagt_end_s2_s1 &lt;list&gt; |\n",
       "|---|---|---|---|---|---|---|---|---|---|---|---|---|---|---|---|---|---|---|---|---|---|\n",
       "| 1 | 20190408_testing_1_7a | TRUE | male | 75 | NA | NA | familiar | visible | FALSE | no_stress | ... | 0 | NaN | 253, 263, 287, 293, 311, 322, 331, 351, 378, 408, 463, 474, 527, 542, 640, 668, 715 | 262, 284, 290, 309, 314, 327, 340, 357, 397, 418, 470, 478, 538, 546, 648, 673, 720 | <!----> | <!----> | <!----> | <!----> | <!----> | <!----> |\n",
       "| 2 | 20190408_testing_1_7b | TRUE | male | 75 | NA | NA | familiar | visible | FALSE | no_stress | ... | 0 | NaN | 244, 267, 348, 397, 435, 501, 550, 616, 632, 706 | 265, 343, 389, 427, 494, 541, 590, 627, 688, 720 | <!----> | <!----> | <!----> | <!----> | <!----> | <!----> |\n",
       "\n"
      ],
      "text/plain": [
       "  folder_videoname      single_animal sex  age infusion_hpc infusion_pfc\n",
       "1 20190408_testing_1_7a TRUE          male 75  NA           NA          \n",
       "2 20190408_testing_1_7b TRUE          male 75  NA           NA          \n",
       "  familiarity lighting partition stress    ... fz_overlap cohen_d\n",
       "1 familiar    visible  FALSE     no_stress ... 0          NaN    \n",
       "2 familiar    visible  FALSE     no_stress ... 0          NaN    \n",
       "  fz_start_sub1                                                                      \n",
       "1 253, 263, 287, 293, 311, 322, 331, 351, 378, 408, 463, 474, 527, 542, 640, 668, 715\n",
       "2 244, 267, 348, 397, 435, 501, 550, 616, 632, 706                                   \n",
       "  fz_end_sub1                                                                        \n",
       "1 262, 284, 290, 309, 314, 327, 340, 357, 397, 418, 470, 478, 538, 546, 648, 673, 720\n",
       "2 265, 343, 389, 427, 494, 541, 590, 627, 688, 720                                   \n",
       "  fz_start_sub2 fz_end_sub2 lagt_start_s1_s2 lagt_start_s2_s1 lagt_end_s1_s2\n",
       "1                                                                           \n",
       "2                                                                           \n",
       "  lagt_end_s2_s1\n",
       "1               \n",
       "2               "
      ]
     },
     "metadata": {},
     "output_type": "display_data"
    }
   ],
   "source": [
    "# Load DF\n",
    "path = \"C:/Users/User/Dropbox/Jupyter/wataru/synchro_freeze\"\n",
    "base = \"data.Rda\"\n",
    "filename = file.path(path, base)\n",
    "load(file=filename)\n",
    "\n",
    "#######################################\n",
    "# Display summary\n",
    "dis_summary(df)"
   ]
  },
  {
   "cell_type": "markdown",
   "metadata": {},
   "source": [
    "**Exclude single animal, lighting and partition experiments**<BR>\n",
    "It's good to check using the data frame viewer in RStudio."
   ]
  },
  {
   "cell_type": "code",
   "execution_count": 3,
   "metadata": {},
   "outputs": [
    {
     "name": "stdout",
     "output_type": "stream",
     "text": [
      "dimension:  33 26 \n",
      "   folder_videoname       single_animal                 sex                 age \n",
      "        \"character\"           \"logical\"         \"character\"           \"integer\" \n",
      "       infusion_hpc        infusion_pfc         familiarity            lighting \n",
      "        \"character\"         \"character\"         \"character\"         \"character\" \n",
      "          partition              stress             comment             exclude \n",
      "          \"logical\"         \"character\"         \"character\"           \"logical\" \n",
      "  together_alone_id together_alone_role             fz_sub1             fz_sub2 \n",
      "           \"factor\"            \"factor\"           \"numeric\"           \"numeric\" \n",
      "         fz_overlap             cohen_d       fz_start_sub1         fz_end_sub1 \n",
      "          \"numeric\"           \"numeric\"              \"list\"              \"list\" \n",
      "      fz_start_sub2         fz_end_sub2    lagt_start_s1_s2    lagt_start_s2_s1 \n",
      "             \"list\"              \"list\"              \"list\"              \"list\" \n",
      "     lagt_end_s1_s2      lagt_end_s2_s1 \n",
      "             \"list\"              \"list\" \n"
     ]
    },
    {
     "data": {
      "text/html": [
       "<table>\n",
       "<caption>A data.frame: 2 × 26</caption>\n",
       "<thead>\n",
       "\t<tr><th></th><th scope=col>folder_videoname</th><th scope=col>single_animal</th><th scope=col>sex</th><th scope=col>age</th><th scope=col>infusion_hpc</th><th scope=col>infusion_pfc</th><th scope=col>familiarity</th><th scope=col>lighting</th><th scope=col>partition</th><th scope=col>stress</th><th scope=col>...</th><th scope=col>fz_overlap</th><th scope=col>cohen_d</th><th scope=col>fz_start_sub1</th><th scope=col>fz_end_sub1</th><th scope=col>fz_start_sub2</th><th scope=col>fz_end_sub2</th><th scope=col>lagt_start_s1_s2</th><th scope=col>lagt_start_s2_s1</th><th scope=col>lagt_end_s1_s2</th><th scope=col>lagt_end_s2_s1</th></tr>\n",
       "\t<tr><th></th><th scope=col>&lt;chr&gt;</th><th scope=col>&lt;lgl&gt;</th><th scope=col>&lt;chr&gt;</th><th scope=col>&lt;int&gt;</th><th scope=col>&lt;chr&gt;</th><th scope=col>&lt;chr&gt;</th><th scope=col>&lt;chr&gt;</th><th scope=col>&lt;chr&gt;</th><th scope=col>&lt;lgl&gt;</th><th scope=col>&lt;chr&gt;</th><th scope=col>...</th><th scope=col>&lt;dbl&gt;</th><th scope=col>&lt;dbl&gt;</th><th scope=col>&lt;list&gt;</th><th scope=col>&lt;list&gt;</th><th scope=col>&lt;list&gt;</th><th scope=col>&lt;list&gt;</th><th scope=col>&lt;list&gt;</th><th scope=col>&lt;list&gt;</th><th scope=col>&lt;list&gt;</th><th scope=col>&lt;list&gt;</th></tr>\n",
       "</thead>\n",
       "<tbody>\n",
       "\t<tr><th scope=row>104</th><td>20190902_m27</td><td>FALSE</td><td>male</td><td>90</td><td>NA</td><td>muscimole</td><td>familiar</td><td>visible</td><td>FALSE</td><td>no_stress</td><td>...</td><td>22.91667</td><td>3.0031131</td><td>241, 251, 265, 276, 302, 311, 318, 326, 332, 359, 371, 379, 388, 406, 448, 467, 473, 482, 509, 517, 538, 544, 616, 622</td><td>249, 264, 273, 290, 308, 315, 323, 330, 341, 364, 376, 386, 401, 413, 453, 471, 480, 485, 516, 524, 542, 548, 620, 630</td><td>243, 284, 302, 326, 359, 369, 382, 391, 397, 408, 420, 436, 444, 455, 466, 476, 488, 520, 607, 626, 681</td><td>264, 290, 312, 337, 367, 376, 389, 395, 406, 413, 429, 441, 453, 459, 471, 481, 492, 525, 614, 635, 685</td><td>2, -8, 19, 8, 0, -9, 8, 0, -6, 0, -2, 3, 3, 2, -4, -1, 3, -6, 11, 3, -18, -24, -9, 4</td><td>-2, -8, 0, 0, 0, 2, -3, -3, -9, -2, -14, 12, 4, -7, 1, -3, -6, -3, 9, -4, -59</td><td>15, 0, -9, 0, 4, -3, -11, 7, -4, 3, 0, 3, 5, 0, 0, 0, 1, -4, 9, 1, -17, -23, -6, 5</td><td>0, 0, 3, 4, -3, 0, -3, 6, -5, 0, -16, 12, 0, -6, 0, -1, -7, -1, 6, -5, -55</td></tr>\n",
       "\t<tr><th scope=row>105</th><td>20190902_m28</td><td>FALSE</td><td>male</td><td>90</td><td>NA</td><td>muscimole</td><td>familiar</td><td>visible</td><td>FALSE</td><td>no_stress</td><td>...</td><td>25.83333</td><td>0.9591759</td><td>261, 272, 305, 318, 332, 370, 383, 418, 438, 452, 494, 504, 511, 519, 535, 560, 578, 597, 604, 640, 685, 700, 706</td><td>265, 292, 310, 324, 336, 375, 387, 423, 445, 456, 501, 509, 515, 525, 539, 571, 583, 601, 610, 662, 695, 704, 714</td><td>243, 306, 316, 333, 343, 363, 368, 377, 390, 398, 409, 434, 448, 464, 493, 511, 518, 526, 551, 558, 564, 572, 611, 685, 700</td><td>283, 311, 331, 340, 362, 367, 376, 388, 396, 402, 431, 441, 456, 490, 509, 515, 524, 539, 555, 562, 571, 577, 619, 694, 715</td><td>-18, -29, 1, -2, 1, -2, -6, -9, -4, -4, -1, 7, 0, -1, -9, -2, -6, 14, 7, -29, 0, 0, -6</td><td>18, -1, 2, -1, -11, 7, 2, 6, -7, -15, 9, 4, 4, -12, 1, 0, 1, -7, 9, 2, -4, 6, -7, 0, 0</td><td>18, -9, 1, 7, 4, 1, 1, 8, -4, 0, 8, 0, 0, -1, 0, 0, -6, 18, 9, 32, -1, -10, 1</td><td>9, -1, 5, -4, 13, 8, -1, -1, -9, -15, -8, 4, 0, 11, 0, 0, 1, 0, -16, 9, 0, -6, -9, 1, -1</td></tr>\n",
       "</tbody>\n",
       "</table>\n"
      ],
      "text/latex": [
       "A data.frame: 2 × 26\n",
       "\\begin{tabular}{r|lllllllllllllllllllll}\n",
       "  & folder\\_videoname & single\\_animal & sex & age & infusion\\_hpc & infusion\\_pfc & familiarity & lighting & partition & stress & ... & fz\\_overlap & cohen\\_d & fz\\_start\\_sub1 & fz\\_end\\_sub1 & fz\\_start\\_sub2 & fz\\_end\\_sub2 & lagt\\_start\\_s1\\_s2 & lagt\\_start\\_s2\\_s1 & lagt\\_end\\_s1\\_s2 & lagt\\_end\\_s2\\_s1\\\\\n",
       "  & <chr> & <lgl> & <chr> & <int> & <chr> & <chr> & <chr> & <chr> & <lgl> & <chr> & ... & <dbl> & <dbl> & <list> & <list> & <list> & <list> & <list> & <list> & <list> & <list>\\\\\n",
       "\\hline\n",
       "\t104 & 20190902\\_m27 & FALSE & male & 90 & NA & muscimole & familiar & visible & FALSE & no\\_stress & ... & 22.91667 & 3.0031131 & 241, 251, 265, 276, 302, 311, 318, 326, 332, 359, 371, 379, 388, 406, 448, 467, 473, 482, 509, 517, 538, 544, 616, 622 & 249, 264, 273, 290, 308, 315, 323, 330, 341, 364, 376, 386, 401, 413, 453, 471, 480, 485, 516, 524, 542, 548, 620, 630 & 243, 284, 302, 326, 359, 369, 382, 391, 397, 408, 420, 436, 444, 455, 466, 476, 488, 520, 607, 626, 681 & 264, 290, 312, 337, 367, 376, 389, 395, 406, 413, 429, 441, 453, 459, 471, 481, 492, 525, 614, 635, 685 & 2, -8, 19, 8, 0, -9, 8, 0, -6, 0, -2, 3, 3, 2, -4, -1, 3, -6, 11, 3, -18, -24, -9, 4 & -2, -8, 0, 0, 0, 2, -3, -3, -9, -2, -14, 12, 4, -7, 1, -3, -6, -3, 9, -4, -59 & 15, 0, -9, 0, 4, -3, -11, 7, -4, 3, 0, 3, 5, 0, 0, 0, 1, -4, 9, 1, -17, -23, -6, 5 & 0, 0, 3, 4, -3, 0, -3, 6, -5, 0, -16, 12, 0, -6, 0, -1, -7, -1, 6, -5, -55\\\\\n",
       "\t105 & 20190902\\_m28 & FALSE & male & 90 & NA & muscimole & familiar & visible & FALSE & no\\_stress & ... & 25.83333 & 0.9591759 & 261, 272, 305, 318, 332, 370, 383, 418, 438, 452, 494, 504, 511, 519, 535, 560, 578, 597, 604, 640, 685, 700, 706 & 265, 292, 310, 324, 336, 375, 387, 423, 445, 456, 501, 509, 515, 525, 539, 571, 583, 601, 610, 662, 695, 704, 714 & 243, 306, 316, 333, 343, 363, 368, 377, 390, 398, 409, 434, 448, 464, 493, 511, 518, 526, 551, 558, 564, 572, 611, 685, 700 & 283, 311, 331, 340, 362, 367, 376, 388, 396, 402, 431, 441, 456, 490, 509, 515, 524, 539, 555, 562, 571, 577, 619, 694, 715 & -18, -29, 1, -2, 1, -2, -6, -9, -4, -4, -1, 7, 0, -1, -9, -2, -6, 14, 7, -29, 0, 0, -6 & 18, -1, 2, -1, -11, 7, 2, 6, -7, -15, 9, 4, 4, -12, 1, 0, 1, -7, 9, 2, -4, 6, -7, 0, 0 & 18, -9, 1, 7, 4, 1, 1, 8, -4, 0, 8, 0, 0, -1, 0, 0, -6, 18, 9, 32, -1, -10, 1 & 9, -1, 5, -4, 13, 8, -1, -1, -9, -15, -8, 4, 0, 11, 0, 0, 1, 0, -16, 9, 0, -6, -9, 1, -1\\\\\n",
       "\\end{tabular}\n"
      ],
      "text/markdown": [
       "\n",
       "A data.frame: 2 × 26\n",
       "\n",
       "| <!--/--> | folder_videoname &lt;chr&gt; | single_animal &lt;lgl&gt; | sex &lt;chr&gt; | age &lt;int&gt; | infusion_hpc &lt;chr&gt; | infusion_pfc &lt;chr&gt; | familiarity &lt;chr&gt; | lighting &lt;chr&gt; | partition &lt;lgl&gt; | stress &lt;chr&gt; | ... ... | fz_overlap &lt;dbl&gt; | cohen_d &lt;dbl&gt; | fz_start_sub1 &lt;list&gt; | fz_end_sub1 &lt;list&gt; | fz_start_sub2 &lt;list&gt; | fz_end_sub2 &lt;list&gt; | lagt_start_s1_s2 &lt;list&gt; | lagt_start_s2_s1 &lt;list&gt; | lagt_end_s1_s2 &lt;list&gt; | lagt_end_s2_s1 &lt;list&gt; |\n",
       "|---|---|---|---|---|---|---|---|---|---|---|---|---|---|---|---|---|---|---|---|---|---|\n",
       "| 104 | 20190902_m27 | FALSE | male | 90 | NA | muscimole | familiar | visible | FALSE | no_stress | ... | 22.91667 | 3.0031131 | 241, 251, 265, 276, 302, 311, 318, 326, 332, 359, 371, 379, 388, 406, 448, 467, 473, 482, 509, 517, 538, 544, 616, 622 | 249, 264, 273, 290, 308, 315, 323, 330, 341, 364, 376, 386, 401, 413, 453, 471, 480, 485, 516, 524, 542, 548, 620, 630 | 243, 284, 302, 326, 359, 369, 382, 391, 397, 408, 420, 436, 444, 455, 466, 476, 488, 520, 607, 626, 681 | 264, 290, 312, 337, 367, 376, 389, 395, 406, 413, 429, 441, 453, 459, 471, 481, 492, 525, 614, 635, 685 | 2, -8, 19, 8, 0, -9, 8, 0, -6, 0, -2, 3, 3, 2, -4, -1, 3, -6, 11, 3, -18, -24, -9, 4 | -2, -8, 0, 0, 0, 2, -3, -3, -9, -2, -14, 12, 4, -7, 1, -3, -6, -3, 9, -4, -59 | 15, 0, -9, 0, 4, -3, -11, 7, -4, 3, 0, 3, 5, 0, 0, 0, 1, -4, 9, 1, -17, -23, -6, 5 | 0, 0, 3, 4, -3, 0, -3, 6, -5, 0, -16, 12, 0, -6, 0, -1, -7, -1, 6, -5, -55 |\n",
       "| 105 | 20190902_m28 | FALSE | male | 90 | NA | muscimole | familiar | visible | FALSE | no_stress | ... | 25.83333 | 0.9591759 | 261, 272, 305, 318, 332, 370, 383, 418, 438, 452, 494, 504, 511, 519, 535, 560, 578, 597, 604, 640, 685, 700, 706 | 265, 292, 310, 324, 336, 375, 387, 423, 445, 456, 501, 509, 515, 525, 539, 571, 583, 601, 610, 662, 695, 704, 714 | 243, 306, 316, 333, 343, 363, 368, 377, 390, 398, 409, 434, 448, 464, 493, 511, 518, 526, 551, 558, 564, 572, 611, 685, 700 | 283, 311, 331, 340, 362, 367, 376, 388, 396, 402, 431, 441, 456, 490, 509, 515, 524, 539, 555, 562, 571, 577, 619, 694, 715 | -18, -29, 1, -2, 1, -2, -6, -9, -4, -4, -1, 7, 0, -1, -9, -2, -6, 14, 7, -29, 0, 0, -6 | 18, -1, 2, -1, -11, 7, 2, 6, -7, -15, 9, 4, 4, -12, 1, 0, 1, -7, 9, 2, -4, 6, -7, 0, 0 | 18, -9, 1, 7, 4, 1, 1, 8, -4, 0, 8, 0, 0, -1, 0, 0, -6, 18, 9, 32, -1, -10, 1 | 9, -1, 5, -4, 13, 8, -1, -1, -9, -15, -8, 4, 0, 11, 0, 0, 1, 0, -16, 9, 0, -6, -9, 1, -1 |\n",
       "\n"
      ],
      "text/plain": [
       "    folder_videoname single_animal sex  age infusion_hpc infusion_pfc\n",
       "104 20190902_m27     FALSE         male 90  NA           muscimole   \n",
       "105 20190902_m28     FALSE         male 90  NA           muscimole   \n",
       "    familiarity lighting partition stress    ... fz_overlap cohen_d  \n",
       "104 familiar    visible  FALSE     no_stress ... 22.91667   3.0031131\n",
       "105 familiar    visible  FALSE     no_stress ... 25.83333   0.9591759\n",
       "    fz_start_sub1                                                                                                         \n",
       "104 241, 251, 265, 276, 302, 311, 318, 326, 332, 359, 371, 379, 388, 406, 448, 467, 473, 482, 509, 517, 538, 544, 616, 622\n",
       "105 261, 272, 305, 318, 332, 370, 383, 418, 438, 452, 494, 504, 511, 519, 535, 560, 578, 597, 604, 640, 685, 700, 706     \n",
       "    fz_end_sub1                                                                                                           \n",
       "104 249, 264, 273, 290, 308, 315, 323, 330, 341, 364, 376, 386, 401, 413, 453, 471, 480, 485, 516, 524, 542, 548, 620, 630\n",
       "105 265, 292, 310, 324, 336, 375, 387, 423, 445, 456, 501, 509, 515, 525, 539, 571, 583, 601, 610, 662, 695, 704, 714     \n",
       "    fz_start_sub2                                                                                                              \n",
       "104 243, 284, 302, 326, 359, 369, 382, 391, 397, 408, 420, 436, 444, 455, 466, 476, 488, 520, 607, 626, 681                    \n",
       "105 243, 306, 316, 333, 343, 363, 368, 377, 390, 398, 409, 434, 448, 464, 493, 511, 518, 526, 551, 558, 564, 572, 611, 685, 700\n",
       "    fz_end_sub2                                                                                                                \n",
       "104 264, 290, 312, 337, 367, 376, 389, 395, 406, 413, 429, 441, 453, 459, 471, 481, 492, 525, 614, 635, 685                    \n",
       "105 283, 311, 331, 340, 362, 367, 376, 388, 396, 402, 431, 441, 456, 490, 509, 515, 524, 539, 555, 562, 571, 577, 619, 694, 715\n",
       "    lagt_start_s1_s2                                                                      \n",
       "104 2, -8, 19, 8, 0, -9, 8, 0, -6, 0, -2, 3, 3, 2, -4, -1, 3, -6, 11, 3, -18, -24, -9, 4  \n",
       "105 -18, -29, 1, -2, 1, -2, -6, -9, -4, -4, -1, 7, 0, -1, -9, -2, -6, 14, 7, -29, 0, 0, -6\n",
       "    lagt_start_s2_s1                                                                      \n",
       "104 -2, -8, 0, 0, 0, 2, -3, -3, -9, -2, -14, 12, 4, -7, 1, -3, -6, -3, 9, -4, -59         \n",
       "105 18, -1, 2, -1, -11, 7, 2, 6, -7, -15, 9, 4, 4, -12, 1, 0, 1, -7, 9, 2, -4, 6, -7, 0, 0\n",
       "    lagt_end_s1_s2                                                                    \n",
       "104 15, 0, -9, 0, 4, -3, -11, 7, -4, 3, 0, 3, 5, 0, 0, 0, 1, -4, 9, 1, -17, -23, -6, 5\n",
       "105 18, -9, 1, 7, 4, 1, 1, 8, -4, 0, 8, 0, 0, -1, 0, 0, -6, 18, 9, 32, -1, -10, 1     \n",
       "    lagt_end_s2_s1                                                                          \n",
       "104 0, 0, 3, 4, -3, 0, -3, 6, -5, 0, -16, 12, 0, -6, 0, -1, -7, -1, 6, -5, -55              \n",
       "105 9, -1, 5, -4, 13, 8, -1, -1, -9, -15, -8, 4, 0, 11, 0, 0, 1, 0, -16, 9, 0, -6, -9, 1, -1"
      ]
     },
     "metadata": {},
     "output_type": "display_data"
    }
   ],
   "source": [
    "df.set1 <- subset(df, \n",
    "                  single_animal==FALSE & \n",
    "                  ( !is.na(infusion_hpc) |\n",
    "                  !is.na(infusion_pfc) )& \n",
    "                  familiarity=='familiar' &\n",
    "                  lighting =='visible' & \n",
    "                  partition==FALSE &\n",
    "                  exclude==FALSE)\n",
    "\n",
    "#######################################\n",
    "# Display summary\n",
    "dis_summary(df.set1)\n",
    "\n",
    "# Output as Excel file, not included with list\n",
    "df.input = df.set1\n",
    "path = \"C:/Users/User/Dropbox/Jupyter/wataru/synchro_freeze\"\n",
    "base = \"data_set1\"\n",
    "save_files(df.input,path,base)"
   ]
  },
  {
   "cell_type": "markdown",
   "metadata": {},
   "source": [
    "**Plot Cohen D for local infusion of muscimol at either PFC or vHippo**"
   ]
  },
  {
   "cell_type": "code",
   "execution_count": 22,
   "metadata": {},
   "outputs": [
    {
     "name": "stdout",
     "output_type": "stream",
     "text": [
      "stress : no_stress , infusion_pfc : muscimole , min: 0.9591759 , mean: 2.146596 , max: 3.003113 , n: 8 , sd: 0.7065978 \n",
      "stress : no_stress , infusion_pfc : vehicle , min: -0.1362837 , mean: 2.268668 , max: 4.863692 , n: 9 , sd: 1.663828 \n",
      "stress : no_stress , infusion_hpc : vehicle , min: 0.1745928 , mean: 1.627953 , max: 2.572759 , n: 8 , sd: 0.7730048 \n",
      "stress : no_stress , infusion_hpc : muscimole , min: -1.087307 , mean: 0.2118223 , max: 1.11434 , n: 8 , sd: 0.958489 \n"
     ]
    },
    {
     "data": {
      "image/png": "[encoded data removed]",
      "text/plain": [
       "plot without title"
      ]
     },
     "metadata": {
      "image/png": {
       "height": 360,
       "width": 480
      },
      "text/plain": {
       "height": 360,
       "width": 480
      }
     },
     "output_type": "display_data"
    }
   ],
   "source": [
    "###################################################################################################\n",
    "# Function box_plot\n",
    "###################################################################################################\n",
    "box_plot <- function(df.input, x1_col, y_col, select_col, select_value, yaxis_label){\n",
    "    #######################################################\n",
    "    # parameters to adjust graph\n",
    "    # graph width x height\n",
    "    # plot_width = 8\n",
    "    # plot_height = 6\n",
    "\n",
    "    # dotplot\n",
    "    dp_binwidth=0.2\n",
    "    dp_dotsize=0.8\n",
    "    \n",
    "    # y limits\n",
    "#     ylim1 = -1.2\n",
    "#     ylim2 = 4.0\n",
    "    \n",
    "    ylim1 = -2.0\n",
    "    ylim2 = 6.0\n",
    "\n",
    "    #######################################################\n",
    "    \n",
    "    # get column name\n",
    "    x1 <- names(df.input)[which (colnames(df.input)==x1_col)]\n",
    "    x2 <- names(df.input)[which (colnames(df.input)==select_col)]\n",
    "    y <- names(df.input)[which (colnames(df.input)==y_col)]\n",
    "    \n",
    "    # set the size of final plot\n",
    "    # options(repr.plot.width=plot_width, repr.plot.height=plot_height)\n",
    "\n",
    "    df.temp = df.input[df.input[,x2]==select_value,]\n",
    "    \n",
    "    for (x1_value in unique(df.temp[,x1])){\n",
    "        #print(min(df.temp[df.temp[,x1]==x1_value,y]))\n",
    "        cat(x2,\":\",select_value,\",\", x1,\":\",x1_value,\n",
    "            \", min:\",min(df.temp[df.temp[,x1]==x1_value,y]),\n",
    "            \", mean:\",mean(df.temp[df.temp[,x1]==x1_value,y]),\n",
    "            \", max:\",max(df.temp[df.temp[,x1]==x1_value,y]),\n",
    "            \", n:\",length(df.temp[df.temp[,x1]==x1_value,y]),\n",
    "            \", sd:\",sd(df.temp[df.temp[,x1]==x1_value,y]),\n",
    "            \"\\n\")\n",
    "    }\n",
    "    \n",
    "    \n",
    "    # set data frame and axes\n",
    "    ggp.output <- ggplot(df.temp, aes_string(x=x1, y=y, fill=x1))+\n",
    "        # add boxplot with mean and SEM (MeanSEM) or SD (MeanSD).\n",
    "        # stat_summary(fun.data=MeanSEM, geom=\"boxplot\", colour=\"black\", width=0.6)+\n",
    "        stat_summary(fun.data=MeanSD, geom=\"boxplot\", colour=\"black\", width=0.5)+\n",
    "        # Dotplot\n",
    "        geom_dotplot(binaxis='y', stackdir='center', binwidth=dp_binwidth, dotsize=dp_dotsize, fill='black')+\n",
    "        # y axis label\n",
    "        labs(y=yaxis_label)+\n",
    "        # Limit y axis range\n",
    "        ylim(c(ylim1, ylim2))+\n",
    "\n",
    "    # Remainings are all the same. No need to modify.\n",
    "        # Change filling color for box\n",
    "        scale_fill_manual(values=c(\"#FF3333\", \"#3333FF\"))+\n",
    "        # Change theme. Look at \"Complete themes\" above.\n",
    "        theme_bw()+\n",
    "        # Control of axes\n",
    "        theme(\n",
    "            axis.title.x = element_blank(),\n",
    "            axis.title.y = element_text(size=25,vjust=2,face='bold'),\n",
    "            axis.text=element_text(size=20))+    \n",
    "        # Control of legend\n",
    "        theme(\n",
    "            #legend.position = \"none\",\n",
    "            legend.position = 'bottom',\n",
    "            legend.direction = \"horizontal\",\n",
    "            #legend.title = element_text(size=20,face='bold'),\n",
    "            legend.title = element_blank(),\n",
    "            legend.text=element_text(size=20))\n",
    "    \n",
    "    return(ggp.output)\n",
    "}\n",
    "\n",
    "###################################################################################################\n",
    "# START HERE\n",
    "###################################################################################################\n",
    "# plot PFC infusion\n",
    "df.input = subset(df.set1, !is.na(infusion_pfc))\n",
    "x_col = \"infusion_pfc\"            # x-axis is sex\n",
    "y_col = \"cohen_d\"        # y-axis is cohen_d\n",
    "select_col = \"stress\"\n",
    "select_value = \"no_stress\"  # limit records with stress in the stress column\n",
    "y_axis_label = \"Cohen D\" # y-asix label\n",
    "\n",
    "out1_1 = box_plot(df.input, x_col, y_col, select_col, select_value, y_axis_label)\n",
    "\n",
    "# plot vHippo infusion\n",
    "df.input = subset(df.set1, !is.na(infusion_hpc))\n",
    "x_col = \"infusion_hpc\"            # x-axis is sex\n",
    "\n",
    "out1_2 = box_plot(df.input, x_col, y_col, select_col, select_value, y_axis_label)\n",
    "\n",
    "# plot the two plots together\n",
    "# set the size of final plot, width x height\n",
    "plot_width = 8\n",
    "plot_height= 6\n",
    "options(repr.plot.width=plot_width, repr.plot.height=plot_height)\n",
    "\n",
    "ggarrange(out1_1, out1_2, ncol=2)\n",
    "\n"
   ]
  },
  {
   "cell_type": "markdown",
   "metadata": {},
   "source": [
    "**Export the plot as an eps file**"
   ]
  },
  {
   "cell_type": "code",
   "execution_count": 23,
   "metadata": {},
   "outputs": [],
   "source": [
    "# Output eps file on desktop\n",
    "path = \"C:/Users/User/Desktop\"\n",
    "base = \"plot.eps\"\n",
    "filename = file.path(path, base)\n",
    "\n",
    "ggsave(filename, device=cairo_ps,width=plot_width, height=plot_height)"
   ]
  },
  {
   "cell_type": "markdown",
   "metadata": {},
   "source": [
    "**2-sample t-test**"
   ]
  },
  {
   "cell_type": "code",
   "execution_count": 10,
   "metadata": {
    "scrolled": true
   },
   "outputs": [
    {
     "name": "stdout",
     "output_type": "stream",
     "text": [
      "### (male, \tvehicle) \tvs. (male, \tmuscimole) \t###\tp-value:  0.8445892 \n",
      "### (male, \tvehicle) \tvs. (male, \tmuscimole) \t###\tp-value:  0.006076864 \n"
     ]
    }
   ],
   "source": [
    "two_sample_t_test <- function(df.input, y_col, xa1_col, xa1_value, xa2_col, xa2_value,xb1_col, xb1_value, xb2_col, xb2_value){\n",
    "#############################################################\n",
    "# 2 sample t-test for (y_col), between\n",
    "#     (xa1_col) = xa1_value and (xa2_col) = xa2_value\n",
    "#     (xb1_col) = xb1_value and (xb2_col) = xb2_value\n",
    "#############################################################\n",
    "    # get index for each column name\n",
    "    xa1 <- names(df.input)[which (colnames(df.input)==xa1_col)]\n",
    "    xa2 <- names(df.input)[which (colnames(df.input)==xa2_col)]\n",
    "    xb1 <- names(df.input)[which (colnames(df.input)==xb1_col)]\n",
    "    xb2 <- names(df.input)[which (colnames(df.input)==xb2_col)]\n",
    "    y <- names(df.input)[which (colnames(df.input)==y_col)]\n",
    "    \n",
    "    # Extract data frame\n",
    "    temp.a = df.input[,y][df.input[,xa1]==xa1_value & df.input[,xa2]==xa2_value]\n",
    "    temp.b = df.input[,y][df.input[,xb1]==xb1_value & df.input[,xb2]==xb2_value]\n",
    "    \n",
    "    cat(paste0('### (',xa1_value,\", \\t\",xa2_value, \") \\tvs. (\", xb1_value, \", \\t\", xb2_value, \") \\t###\\t\"))\n",
    "    temp.test <- t.test(temp.a, temp.b)\n",
    "    cat(\"p-value: \",temp.test[[\"p.value\"]],\"\\n\")\n",
    "    # detailed information\n",
    "    #print(temp.test)\n",
    "\n",
    "    return(temp.test)\n",
    "}\n",
    "\n",
    "df.input = subset(df.set1, !is.na(infusion_pfc))\n",
    "temp = two_sample_t_test(df.input, \"cohen_d\",\n",
    "                        \"sex\",\"male\",\"infusion_pfc\",\"vehicle\",\n",
    "                        \"sex\",\"male\",\"infusion_pfc\",\"muscimole\")\n",
    "\n",
    "\n",
    "df.input = subset(df.set1, !is.na(infusion_hpc))\n",
    "temp = two_sample_t_test(df.input, \"cohen_d\",\n",
    "                        \"sex\",\"male\",\"infusion_hpc\",\"vehicle\",\n",
    "                        \"sex\",\"male\",\"infusion_hpc\",\"muscimole\")\n"
   ]
  },
  {
   "cell_type": "markdown",
   "metadata": {},
   "source": [
    "---\n",
    "**Compute the average from sub1 and sub2 freezing into a new column 'fz_ave'**"
   ]
  },
  {
   "cell_type": "code",
   "execution_count": 11,
   "metadata": {
    "scrolled": true
   },
   "outputs": [
    {
     "name": "stdout",
     "output_type": "stream",
     "text": [
      "dimension:  33 27 \n",
      "   folder_videoname       single_animal                 sex                 age \n",
      "        \"character\"           \"logical\"         \"character\"           \"integer\" \n",
      "       infusion_hpc        infusion_pfc         familiarity            lighting \n",
      "        \"character\"         \"character\"         \"character\"         \"character\" \n",
      "          partition              stress             comment             exclude \n",
      "          \"logical\"         \"character\"         \"character\"           \"logical\" \n",
      "  together_alone_id together_alone_role             fz_sub1             fz_sub2 \n",
      "           \"factor\"            \"factor\"           \"numeric\"           \"numeric\" \n",
      "         fz_overlap             cohen_d       fz_start_sub1         fz_end_sub1 \n",
      "          \"numeric\"           \"numeric\"              \"list\"              \"list\" \n",
      "      fz_start_sub2         fz_end_sub2    lagt_start_s1_s2    lagt_start_s2_s1 \n",
      "             \"list\"              \"list\"              \"list\"              \"list\" \n",
      "     lagt_end_s1_s2      lagt_end_s2_s1              fz_ave \n",
      "             \"list\"              \"list\"           \"numeric\" \n"
     ]
    },
    {
     "data": {
      "text/html": [
       "<table>\n",
       "<caption>A data.frame: 2 × 27</caption>\n",
       "<thead>\n",
       "\t<tr><th></th><th scope=col>folder_videoname</th><th scope=col>single_animal</th><th scope=col>sex</th><th scope=col>age</th><th scope=col>infusion_hpc</th><th scope=col>infusion_pfc</th><th scope=col>familiarity</th><th scope=col>lighting</th><th scope=col>partition</th><th scope=col>stress</th><th scope=col>...</th><th scope=col>cohen_d</th><th scope=col>fz_start_sub1</th><th scope=col>fz_end_sub1</th><th scope=col>fz_start_sub2</th><th scope=col>fz_end_sub2</th><th scope=col>lagt_start_s1_s2</th><th scope=col>lagt_start_s2_s1</th><th scope=col>lagt_end_s1_s2</th><th scope=col>lagt_end_s2_s1</th><th scope=col>fz_ave</th></tr>\n",
       "\t<tr><th></th><th scope=col>&lt;chr&gt;</th><th scope=col>&lt;lgl&gt;</th><th scope=col>&lt;chr&gt;</th><th scope=col>&lt;int&gt;</th><th scope=col>&lt;chr&gt;</th><th scope=col>&lt;chr&gt;</th><th scope=col>&lt;chr&gt;</th><th scope=col>&lt;chr&gt;</th><th scope=col>&lt;lgl&gt;</th><th scope=col>&lt;chr&gt;</th><th scope=col>...</th><th scope=col>&lt;dbl&gt;</th><th scope=col>&lt;list&gt;</th><th scope=col>&lt;list&gt;</th><th scope=col>&lt;list&gt;</th><th scope=col>&lt;list&gt;</th><th scope=col>&lt;list&gt;</th><th scope=col>&lt;list&gt;</th><th scope=col>&lt;list&gt;</th><th scope=col>&lt;list&gt;</th><th scope=col>&lt;dbl&gt;</th></tr>\n",
       "</thead>\n",
       "<tbody>\n",
       "\t<tr><th scope=row>104</th><td>20190902_m27</td><td>FALSE</td><td>male</td><td>90</td><td>NA</td><td>muscimole</td><td>familiar</td><td>visible</td><td>FALSE</td><td>no_stress</td><td>...</td><td>3.0031131</td><td>241, 251, 265, 276, 302, 311, 318, 326, 332, 359, 371, 379, 388, 406, 448, 467, 473, 482, 509, 517, 538, 544, 616, 622</td><td>249, 264, 273, 290, 308, 315, 323, 330, 341, 364, 376, 386, 401, 413, 453, 471, 480, 485, 516, 524, 542, 548, 620, 630</td><td>243, 284, 302, 326, 359, 369, 382, 391, 397, 408, 420, 436, 444, 455, 466, 476, 488, 520, 607, 626, 681</td><td>264, 290, 312, 337, 367, 376, 389, 395, 406, 413, 429, 441, 453, 459, 471, 481, 492, 525, 614, 635, 685</td><td>2, -8, 19, 8, 0, -9, 8, 0, -6, 0, -2, 3, 3, 2, -4, -1, 3, -6, 11, 3, -18, -24, -9, 4</td><td>-2, -8, 0, 0, 0, 2, -3, -3, -9, -2, -14, 12, 4, -7, 1, -3, -6, -3, 9, -4, -59</td><td>15, 0, -9, 0, 4, -3, -11, 7, -4, 3, 0, 3, 5, 0, 0, 0, 1, -4, 9, 1, -17, -23, -6, 5</td><td>0, 0, 3, 4, -3, 0, -3, 6, -5, 0, -16, 12, 0, -6, 0, -1, -7, -1, 6, -5, -55</td><td>37.50000</td></tr>\n",
       "\t<tr><th scope=row>105</th><td>20190902_m28</td><td>FALSE</td><td>male</td><td>90</td><td>NA</td><td>muscimole</td><td>familiar</td><td>visible</td><td>FALSE</td><td>no_stress</td><td>...</td><td>0.9591759</td><td>261, 272, 305, 318, 332, 370, 383, 418, 438, 452, 494, 504, 511, 519, 535, 560, 578, 597, 604, 640, 685, 700, 706</td><td>265, 292, 310, 324, 336, 375, 387, 423, 445, 456, 501, 509, 515, 525, 539, 571, 583, 601, 610, 662, 695, 704, 714</td><td>243, 306, 316, 333, 343, 363, 368, 377, 390, 398, 409, 434, 448, 464, 493, 511, 518, 526, 551, 558, 564, 572, 611, 685, 700</td><td>283, 311, 331, 340, 362, 367, 376, 388, 396, 402, 431, 441, 456, 490, 509, 515, 524, 539, 555, 562, 571, 577, 619, 694, 715</td><td>-18, -29, 1, -2, 1, -2, -6, -9, -4, -4, -1, 7, 0, -1, -9, -2, -6, 14, 7, -29, 0, 0, -6</td><td>18, -1, 2, -1, -11, 7, 2, 6, -7, -15, 9, 4, 4, -12, 1, 0, 1, -7, 9, 2, -4, 6, -7, 0, 0</td><td>18, -9, 1, 7, 4, 1, 1, 8, -4, 0, 8, 0, 0, -1, 0, 0, -6, 18, 9, 32, -1, -10, 1</td><td>9, -1, 5, -4, 13, 8, -1, -1, -9, -15, -8, 4, 0, 11, 0, 0, 1, 0, -16, 9, 0, -6, -9, 1, -1</td><td>50.10417</td></tr>\n",
       "</tbody>\n",
       "</table>\n"
      ],
      "text/latex": [
       "A data.frame: 2 × 27\n",
       "\\begin{tabular}{r|lllllllllllllllllllll}\n",
       "  & folder\\_videoname & single\\_animal & sex & age & infusion\\_hpc & infusion\\_pfc & familiarity & lighting & partition & stress & ... & cohen\\_d & fz\\_start\\_sub1 & fz\\_end\\_sub1 & fz\\_start\\_sub2 & fz\\_end\\_sub2 & lagt\\_start\\_s1\\_s2 & lagt\\_start\\_s2\\_s1 & lagt\\_end\\_s1\\_s2 & lagt\\_end\\_s2\\_s1 & fz\\_ave\\\\\n",
       "  & <chr> & <lgl> & <chr> & <int> & <chr> & <chr> & <chr> & <chr> & <lgl> & <chr> & ... & <dbl> & <list> & <list> & <list> & <list> & <list> & <list> & <list> & <list> & <dbl>\\\\\n",
       "\\hline\n",
       "\t104 & 20190902\\_m27 & FALSE & male & 90 & NA & muscimole & familiar & visible & FALSE & no\\_stress & ... & 3.0031131 & 241, 251, 265, 276, 302, 311, 318, 326, 332, 359, 371, 379, 388, 406, 448, 467, 473, 482, 509, 517, 538, 544, 616, 622 & 249, 264, 273, 290, 308, 315, 323, 330, 341, 364, 376, 386, 401, 413, 453, 471, 480, 485, 516, 524, 542, 548, 620, 630 & 243, 284, 302, 326, 359, 369, 382, 391, 397, 408, 420, 436, 444, 455, 466, 476, 488, 520, 607, 626, 681 & 264, 290, 312, 337, 367, 376, 389, 395, 406, 413, 429, 441, 453, 459, 471, 481, 492, 525, 614, 635, 685 & 2, -8, 19, 8, 0, -9, 8, 0, -6, 0, -2, 3, 3, 2, -4, -1, 3, -6, 11, 3, -18, -24, -9, 4 & -2, -8, 0, 0, 0, 2, -3, -3, -9, -2, -14, 12, 4, -7, 1, -3, -6, -3, 9, -4, -59 & 15, 0, -9, 0, 4, -3, -11, 7, -4, 3, 0, 3, 5, 0, 0, 0, 1, -4, 9, 1, -17, -23, -6, 5 & 0, 0, 3, 4, -3, 0, -3, 6, -5, 0, -16, 12, 0, -6, 0, -1, -7, -1, 6, -5, -55 & 37.50000\\\\\n",
       "\t105 & 20190902\\_m28 & FALSE & male & 90 & NA & muscimole & familiar & visible & FALSE & no\\_stress & ... & 0.9591759 & 261, 272, 305, 318, 332, 370, 383, 418, 438, 452, 494, 504, 511, 519, 535, 560, 578, 597, 604, 640, 685, 700, 706 & 265, 292, 310, 324, 336, 375, 387, 423, 445, 456, 501, 509, 515, 525, 539, 571, 583, 601, 610, 662, 695, 704, 714 & 243, 306, 316, 333, 343, 363, 368, 377, 390, 398, 409, 434, 448, 464, 493, 511, 518, 526, 551, 558, 564, 572, 611, 685, 700 & 283, 311, 331, 340, 362, 367, 376, 388, 396, 402, 431, 441, 456, 490, 509, 515, 524, 539, 555, 562, 571, 577, 619, 694, 715 & -18, -29, 1, -2, 1, -2, -6, -9, -4, -4, -1, 7, 0, -1, -9, -2, -6, 14, 7, -29, 0, 0, -6 & 18, -1, 2, -1, -11, 7, 2, 6, -7, -15, 9, 4, 4, -12, 1, 0, 1, -7, 9, 2, -4, 6, -7, 0, 0 & 18, -9, 1, 7, 4, 1, 1, 8, -4, 0, 8, 0, 0, -1, 0, 0, -6, 18, 9, 32, -1, -10, 1 & 9, -1, 5, -4, 13, 8, -1, -1, -9, -15, -8, 4, 0, 11, 0, 0, 1, 0, -16, 9, 0, -6, -9, 1, -1 & 50.10417\\\\\n",
       "\\end{tabular}\n"
      ],
      "text/markdown": [
       "\n",
       "A data.frame: 2 × 27\n",
       "\n",
       "| <!--/--> | folder_videoname &lt;chr&gt; | single_animal &lt;lgl&gt; | sex &lt;chr&gt; | age &lt;int&gt; | infusion_hpc &lt;chr&gt; | infusion_pfc &lt;chr&gt; | familiarity &lt;chr&gt; | lighting &lt;chr&gt; | partition &lt;lgl&gt; | stress &lt;chr&gt; | ... ... | cohen_d &lt;dbl&gt; | fz_start_sub1 &lt;list&gt; | fz_end_sub1 &lt;list&gt; | fz_start_sub2 &lt;list&gt; | fz_end_sub2 &lt;list&gt; | lagt_start_s1_s2 &lt;list&gt; | lagt_start_s2_s1 &lt;list&gt; | lagt_end_s1_s2 &lt;list&gt; | lagt_end_s2_s1 &lt;list&gt; | fz_ave &lt;dbl&gt; |\n",
       "|---|---|---|---|---|---|---|---|---|---|---|---|---|---|---|---|---|---|---|---|---|---|\n",
       "| 104 | 20190902_m27 | FALSE | male | 90 | NA | muscimole | familiar | visible | FALSE | no_stress | ... | 3.0031131 | 241, 251, 265, 276, 302, 311, 318, 326, 332, 359, 371, 379, 388, 406, 448, 467, 473, 482, 509, 517, 538, 544, 616, 622 | 249, 264, 273, 290, 308, 315, 323, 330, 341, 364, 376, 386, 401, 413, 453, 471, 480, 485, 516, 524, 542, 548, 620, 630 | 243, 284, 302, 326, 359, 369, 382, 391, 397, 408, 420, 436, 444, 455, 466, 476, 488, 520, 607, 626, 681 | 264, 290, 312, 337, 367, 376, 389, 395, 406, 413, 429, 441, 453, 459, 471, 481, 492, 525, 614, 635, 685 | 2, -8, 19, 8, 0, -9, 8, 0, -6, 0, -2, 3, 3, 2, -4, -1, 3, -6, 11, 3, -18, -24, -9, 4 | -2, -8, 0, 0, 0, 2, -3, -3, -9, -2, -14, 12, 4, -7, 1, -3, -6, -3, 9, -4, -59 | 15, 0, -9, 0, 4, -3, -11, 7, -4, 3, 0, 3, 5, 0, 0, 0, 1, -4, 9, 1, -17, -23, -6, 5 | 0, 0, 3, 4, -3, 0, -3, 6, -5, 0, -16, 12, 0, -6, 0, -1, -7, -1, 6, -5, -55 | 37.50000 |\n",
       "| 105 | 20190902_m28 | FALSE | male | 90 | NA | muscimole | familiar | visible | FALSE | no_stress | ... | 0.9591759 | 261, 272, 305, 318, 332, 370, 383, 418, 438, 452, 494, 504, 511, 519, 535, 560, 578, 597, 604, 640, 685, 700, 706 | 265, 292, 310, 324, 336, 375, 387, 423, 445, 456, 501, 509, 515, 525, 539, 571, 583, 601, 610, 662, 695, 704, 714 | 243, 306, 316, 333, 343, 363, 368, 377, 390, 398, 409, 434, 448, 464, 493, 511, 518, 526, 551, 558, 564, 572, 611, 685, 700 | 283, 311, 331, 340, 362, 367, 376, 388, 396, 402, 431, 441, 456, 490, 509, 515, 524, 539, 555, 562, 571, 577, 619, 694, 715 | -18, -29, 1, -2, 1, -2, -6, -9, -4, -4, -1, 7, 0, -1, -9, -2, -6, 14, 7, -29, 0, 0, -6 | 18, -1, 2, -1, -11, 7, 2, 6, -7, -15, 9, 4, 4, -12, 1, 0, 1, -7, 9, 2, -4, 6, -7, 0, 0 | 18, -9, 1, 7, 4, 1, 1, 8, -4, 0, 8, 0, 0, -1, 0, 0, -6, 18, 9, 32, -1, -10, 1 | 9, -1, 5, -4, 13, 8, -1, -1, -9, -15, -8, 4, 0, 11, 0, 0, 1, 0, -16, 9, 0, -6, -9, 1, -1 | 50.10417 |\n",
       "\n"
      ],
      "text/plain": [
       "    folder_videoname single_animal sex  age infusion_hpc infusion_pfc\n",
       "104 20190902_m27     FALSE         male 90  NA           muscimole   \n",
       "105 20190902_m28     FALSE         male 90  NA           muscimole   \n",
       "    familiarity lighting partition stress    ... cohen_d  \n",
       "104 familiar    visible  FALSE     no_stress ... 3.0031131\n",
       "105 familiar    visible  FALSE     no_stress ... 0.9591759\n",
       "    fz_start_sub1                                                                                                         \n",
       "104 241, 251, 265, 276, 302, 311, 318, 326, 332, 359, 371, 379, 388, 406, 448, 467, 473, 482, 509, 517, 538, 544, 616, 622\n",
       "105 261, 272, 305, 318, 332, 370, 383, 418, 438, 452, 494, 504, 511, 519, 535, 560, 578, 597, 604, 640, 685, 700, 706     \n",
       "    fz_end_sub1                                                                                                           \n",
       "104 249, 264, 273, 290, 308, 315, 323, 330, 341, 364, 376, 386, 401, 413, 453, 471, 480, 485, 516, 524, 542, 548, 620, 630\n",
       "105 265, 292, 310, 324, 336, 375, 387, 423, 445, 456, 501, 509, 515, 525, 539, 571, 583, 601, 610, 662, 695, 704, 714     \n",
       "    fz_start_sub2                                                                                                              \n",
       "104 243, 284, 302, 326, 359, 369, 382, 391, 397, 408, 420, 436, 444, 455, 466, 476, 488, 520, 607, 626, 681                    \n",
       "105 243, 306, 316, 333, 343, 363, 368, 377, 390, 398, 409, 434, 448, 464, 493, 511, 518, 526, 551, 558, 564, 572, 611, 685, 700\n",
       "    fz_end_sub2                                                                                                                \n",
       "104 264, 290, 312, 337, 367, 376, 389, 395, 406, 413, 429, 441, 453, 459, 471, 481, 492, 525, 614, 635, 685                    \n",
       "105 283, 311, 331, 340, 362, 367, 376, 388, 396, 402, 431, 441, 456, 490, 509, 515, 524, 539, 555, 562, 571, 577, 619, 694, 715\n",
       "    lagt_start_s1_s2                                                                      \n",
       "104 2, -8, 19, 8, 0, -9, 8, 0, -6, 0, -2, 3, 3, 2, -4, -1, 3, -6, 11, 3, -18, -24, -9, 4  \n",
       "105 -18, -29, 1, -2, 1, -2, -6, -9, -4, -4, -1, 7, 0, -1, -9, -2, -6, 14, 7, -29, 0, 0, -6\n",
       "    lagt_start_s2_s1                                                                      \n",
       "104 -2, -8, 0, 0, 0, 2, -3, -3, -9, -2, -14, 12, 4, -7, 1, -3, -6, -3, 9, -4, -59         \n",
       "105 18, -1, 2, -1, -11, 7, 2, 6, -7, -15, 9, 4, 4, -12, 1, 0, 1, -7, 9, 2, -4, 6, -7, 0, 0\n",
       "    lagt_end_s1_s2                                                                    \n",
       "104 15, 0, -9, 0, 4, -3, -11, 7, -4, 3, 0, 3, 5, 0, 0, 0, 1, -4, 9, 1, -17, -23, -6, 5\n",
       "105 18, -9, 1, 7, 4, 1, 1, 8, -4, 0, 8, 0, 0, -1, 0, 0, -6, 18, 9, 32, -1, -10, 1     \n",
       "    lagt_end_s2_s1                                                                          \n",
       "104 0, 0, 3, 4, -3, 0, -3, 6, -5, 0, -16, 12, 0, -6, 0, -1, -7, -1, 6, -5, -55              \n",
       "105 9, -1, 5, -4, 13, 8, -1, -1, -9, -15, -8, 4, 0, 11, 0, 0, 1, 0, -16, 9, 0, -6, -9, 1, -1\n",
       "    fz_ave  \n",
       "104 37.50000\n",
       "105 50.10417"
      ]
     },
     "metadata": {},
     "output_type": "display_data"
    }
   ],
   "source": [
    "df.set1['fz_ave'] = (df.set1['fz_sub1'] + df.set1['fz_sub2']) / 2\n",
    "\n",
    "#######################################\n",
    "# Display summary\n",
    "dis_summary(df.set1)"
   ]
  },
  {
   "cell_type": "markdown",
   "metadata": {},
   "source": [
    "**plot the graphs**"
   ]
  },
  {
   "cell_type": "code",
   "execution_count": 24,
   "metadata": {},
   "outputs": [
    {
     "name": "stdout",
     "output_type": "stream",
     "text": [
      "stress : no_stress , infusion_pfc : muscimole , min: 37.5 , mean: 51.39323 , max: 65.72917 , n: 8 , sd: 9.849585 \n",
      "stress : no_stress , infusion_pfc : vehicle , min: 45 , mean: 65.3125 , max: 82.39583 , n: 9 , sd: 14.09997 \n",
      "stress : no_stress , infusion_hpc : vehicle , min: 28.22917 , mean: 42.10937 , max: 62.60417 , n: 8 , sd: 13.13064 \n",
      "stress : no_stress , infusion_hpc : muscimole , min: 26.14583 , mean: 43.34635 , max: 62.08333 , n: 8 , sd: 12.08942 \n"
     ]
    },
    {
     "data": {
      "image/png": "[encoded data removed]",
      "text/plain": [
       "plot without title"
      ]
     },
     "metadata": {
      "image/png": {
       "height": 360,
       "width": 480
      },
      "text/plain": {
       "height": 360,
       "width": 480
      }
     },
     "output_type": "display_data"
    }
   ],
   "source": [
    "###################################################################################################\n",
    "# Function box_plot\n",
    "###################################################################################################\n",
    "box_plot <- function(df.input, x1_col, y_col, select_col, select_value, yaxis_label){\n",
    "    #######################################################\n",
    "    # parameters to adjust graph\n",
    "    # graph width x height\n",
    "    # plot_width = 8\n",
    "    # plot_height = 6\n",
    "\n",
    "    # dotplot\n",
    "    dp_binwidth=0.7\n",
    "    dp_dotsize=3\n",
    "    \n",
    "    # y limits\n",
    "    ylim1 = 0\n",
    "    ylim2 = 90\n",
    "\n",
    "#     ylim1 = -2\n",
    "#     ylim2 = 90\n",
    "    #######################################################\n",
    "    \n",
    "    # get column name\n",
    "    x1 <- names(df.input)[which (colnames(df.input)==x1_col)]\n",
    "    x2 <- names(df.input)[which (colnames(df.input)==select_col)]\n",
    "    y <- names(df.input)[which (colnames(df.input)==y_col)]\n",
    "    \n",
    "    # set the size of final plot\n",
    "    # options(repr.plot.width=plot_width, repr.plot.height=plot_height)\n",
    "\n",
    "    df.temp = df.input[df.input[,x2]==select_value,]\n",
    "    \n",
    "    for (x1_value in unique(df.temp[,x1])){\n",
    "        #print(min(df.temp[df.temp[,x1]==x1_value,y]))\n",
    "        cat(x2,\":\",select_value,\",\", x1,\":\",x1_value,\n",
    "            \", min:\",min(df.temp[df.temp[,x1]==x1_value,y]),\n",
    "            \", mean:\",mean(df.temp[df.temp[,x1]==x1_value,y]),\n",
    "            \", max:\",max(df.temp[df.temp[,x1]==x1_value,y]),\n",
    "            \", n:\",length(df.temp[df.temp[,x1]==x1_value,y]),\n",
    "            \", sd:\",sd(df.temp[df.temp[,x1]==x1_value,y]),\n",
    "            \"\\n\")\n",
    "    }\n",
    "    \n",
    "    \n",
    "    # set data frame and axes\n",
    "    ggp.output <- ggplot(df.temp, aes_string(x=x1, y=y, fill=x1))+\n",
    "        # add boxplot with mean and SEM (MeanSEM) or SD (MeanSD).\n",
    "        # stat_summary(fun.data=MeanSEM, geom=\"boxplot\", colour=\"black\", width=0.6)+\n",
    "        stat_summary(fun.data=MeanSD, geom=\"boxplot\", colour=\"black\", width=0.5)+\n",
    "        # Dotplot\n",
    "        geom_dotplot(binaxis='y', stackdir='center', binwidth=dp_binwidth, dotsize=dp_dotsize, fill='black')+\n",
    "        # y axis label\n",
    "        labs(y=yaxis_label)+\n",
    "        # Limit y axis range\n",
    "        ylim(c(ylim1, ylim2))+\n",
    "\n",
    "    # Remainings are all the same. No need to modify.\n",
    "        # Change filling color for box\n",
    "        scale_fill_manual(values=c(\"#FF3333\", \"#3333FF\"))+\n",
    "        # Change theme. Look at \"Complete themes\" above.\n",
    "        theme_bw()+\n",
    "        # Control of axes\n",
    "        theme(\n",
    "            axis.title.x = element_blank(),\n",
    "            axis.title.y = element_text(size=25,vjust=2,face='bold'),\n",
    "            axis.text=element_text(size=20))+    \n",
    "        # Control of legend\n",
    "        theme(\n",
    "            #legend.position = \"none\",\n",
    "            legend.position = 'bottom',\n",
    "            legend.direction = \"horizontal\",\n",
    "            #legend.title = element_text(size=20,face='bold'),\n",
    "            legend.title = element_blank(),\n",
    "            legend.text=element_text(size=20))\n",
    "    \n",
    "    return(ggp.output)\n",
    "}\n",
    "\n",
    "###################################################################################################\n",
    "# START HERE\n",
    "###################################################################################################\n",
    "\n",
    "df.input = subset(df.set1, !is.na(infusion_pfc))\n",
    "out2_1 = box_plot(df.input, \"infusion_pfc\",\"fz_ave\", \"stress\", \"no_stress\",\"Freezing (%)\")\n",
    "\n",
    "df.input = subset(df.set1, !is.na(infusion_hpc))\n",
    "out2_2 = box_plot(df.input, \"infusion_hpc\",\"fz_ave\", \"stress\", \"no_stress\",\"Freezing (%)\")\n",
    "\n",
    "# plot the two plots\n",
    "# set the size of final plot, width x height\n",
    "plot_width = 8\n",
    "plot_height = 6\n",
    "options(repr.plot.width=plot_width, repr.plot.height=plot_height)\n",
    "\n",
    "ggarrange(out2_1, out2_2, ncol=2)"
   ]
  },
  {
   "cell_type": "markdown",
   "metadata": {},
   "source": [
    "**Export the plot as an eps file**"
   ]
  },
  {
   "cell_type": "code",
   "execution_count": 25,
   "metadata": {},
   "outputs": [],
   "source": [
    "# Output eps file on desktop\n",
    "path = \"C:/Users/User/Desktop\"\n",
    "base = \"plot.eps\"\n",
    "filename = file.path(path, base)\n",
    "\n",
    "ggsave(filename, device=cairo_ps,width=plot_width, height=plot_height)"
   ]
  },
  {
   "cell_type": "markdown",
   "metadata": {},
   "source": [
    "**2-sample t-test**"
   ]
  },
  {
   "cell_type": "code",
   "execution_count": 21,
   "metadata": {},
   "outputs": [
    {
     "name": "stdout",
     "output_type": "stream",
     "text": [
      "### (male, \tmuscimole) \tvs. (male, \tvehicle) \t###\tp-value:  0.03179002 \n",
      "### (male, \tmuscimole) \tvs. (male, \tvehicle) \t###\tp-value:  0.8474281 \n"
     ]
    }
   ],
   "source": [
    "two_sample_t_test <- function(df.input, y_col, xa1_col, xa1_value, xa2_col, xa2_value,xb1_col, xb1_value, xb2_col, xb2_value){\n",
    "#############################################################\n",
    "# 2 sample t-test for (y_col), between\n",
    "#     (xa1_col) = xa1_value and (xa2_col) = xa2_value\n",
    "#     (xb1_col) = xb1_value and (xb2_col) = xb2_value\n",
    "#############################################################\n",
    "    # get index for each column name\n",
    "    xa1 <- names(df.input)[which (colnames(df.input)==xa1_col)]\n",
    "    xa2 <- names(df.input)[which (colnames(df.input)==xa2_col)]\n",
    "    xb1 <- names(df.input)[which (colnames(df.input)==xb1_col)]\n",
    "    xb2 <- names(df.input)[which (colnames(df.input)==xb2_col)]\n",
    "    y <- names(df.input)[which (colnames(df.input)==y_col)]\n",
    "    \n",
    "    # Extract data frame\n",
    "    temp.a = df.input[,y][df.input[,xa1]==xa1_value & df.input[,xa2]==xa2_value]\n",
    "    temp.b = df.input[,y][df.input[,xb1]==xb1_value & df.input[,xb2]==xb2_value]\n",
    "    \n",
    "    cat(paste0('### (',xa1_value,\", \\t\",xa2_value, \") \\tvs. (\", xb1_value, \", \\t\", xb2_value, \") \\t###\\t\"))\n",
    "    temp.test <- t.test(temp.a, temp.b)\n",
    "    cat(\"p-value: \",temp.test[[\"p.value\"]],\"\\n\")\n",
    "    # detailed information\n",
    "    #print(temp.test)\n",
    "    \n",
    "    return(temp.test)\n",
    "}\n",
    "\n",
    "\n",
    "df.input = subset(df.set1, !is.na(infusion_pfc))\n",
    "temp = two_sample_t_test(df.input, \"fz_ave\",\n",
    "                         \"sex\",\"male\",\"infusion_pfc\",\"muscimole\",\n",
    "                         \"sex\",\"male\",\"infusion_pfc\",\"vehicle\")\n",
    "\n",
    "df.input = subset(df.set1, !is.na(infusion_hpc))\n",
    "temp = two_sample_t_test(df.input, \"fz_ave\",\n",
    "                         \"sex\",\"male\",\"infusion_hpc\",\"muscimole\",\n",
    "                         \"sex\",\"male\",\"infusion_hpc\",\"vehicle\")\n"
   ]
  },
  {
   "cell_type": "markdown",
   "metadata": {},
   "source": [
    "---\n",
    "## Step 8. Familiarity effects on synchronization\n",
    "**Load R dataframe**"
   ]
  },
  {
   "cell_type": "code",
   "execution_count": 26,
   "metadata": {},
   "outputs": [
    {
     "name": "stdout",
     "output_type": "stream",
     "text": [
      "dimension:  216 26 \n",
      "   folder_videoname       single_animal                 sex                 age \n",
      "        \"character\"           \"logical\"         \"character\"           \"integer\" \n",
      "       infusion_hpc        infusion_pfc         familiarity            lighting \n",
      "        \"character\"         \"character\"         \"character\"         \"character\" \n",
      "          partition              stress             comment             exclude \n",
      "          \"logical\"         \"character\"         \"character\"           \"logical\" \n",
      "  together_alone_id together_alone_role             fz_sub1             fz_sub2 \n",
      "           \"factor\"            \"factor\"           \"numeric\"           \"numeric\" \n",
      "         fz_overlap             cohen_d       fz_start_sub1         fz_end_sub1 \n",
      "          \"numeric\"           \"numeric\"              \"list\"              \"list\" \n",
      "      fz_start_sub2         fz_end_sub2    lagt_start_s1_s2    lagt_start_s2_s1 \n",
      "             \"list\"              \"list\"              \"list\"              \"list\" \n",
      "     lagt_end_s1_s2      lagt_end_s2_s1 \n",
      "             \"list\"              \"list\" \n"
     ]
    },
    {
     "data": {
      "text/html": [
       "<table>\n",
       "<caption>A data.frame: 2 × 26</caption>\n",
       "<thead>\n",
       "\t<tr><th></th><th scope=col>folder_videoname</th><th scope=col>single_animal</th><th scope=col>sex</th><th scope=col>age</th><th scope=col>infusion_hpc</th><th scope=col>infusion_pfc</th><th scope=col>familiarity</th><th scope=col>lighting</th><th scope=col>partition</th><th scope=col>stress</th><th scope=col>...</th><th scope=col>fz_overlap</th><th scope=col>cohen_d</th><th scope=col>fz_start_sub1</th><th scope=col>fz_end_sub1</th><th scope=col>fz_start_sub2</th><th scope=col>fz_end_sub2</th><th scope=col>lagt_start_s1_s2</th><th scope=col>lagt_start_s2_s1</th><th scope=col>lagt_end_s1_s2</th><th scope=col>lagt_end_s2_s1</th></tr>\n",
       "\t<tr><th></th><th scope=col>&lt;chr&gt;</th><th scope=col>&lt;lgl&gt;</th><th scope=col>&lt;chr&gt;</th><th scope=col>&lt;int&gt;</th><th scope=col>&lt;chr&gt;</th><th scope=col>&lt;chr&gt;</th><th scope=col>&lt;chr&gt;</th><th scope=col>&lt;chr&gt;</th><th scope=col>&lt;lgl&gt;</th><th scope=col>&lt;chr&gt;</th><th scope=col>...</th><th scope=col>&lt;dbl&gt;</th><th scope=col>&lt;dbl&gt;</th><th scope=col>&lt;list&gt;</th><th scope=col>&lt;list&gt;</th><th scope=col>&lt;list&gt;</th><th scope=col>&lt;list&gt;</th><th scope=col>&lt;list&gt;</th><th scope=col>&lt;list&gt;</th><th scope=col>&lt;list&gt;</th><th scope=col>&lt;list&gt;</th></tr>\n",
       "</thead>\n",
       "<tbody>\n",
       "\t<tr><th scope=row>1</th><td>20190408_testing_1_7a</td><td>TRUE</td><td>male</td><td>75</td><td>NA</td><td>NA</td><td>familiar</td><td>visible</td><td>FALSE</td><td>no_stress</td><td>...</td><td>0</td><td>NaN</td><td>253, 263, 287, 293, 311, 322, 331, 351, 378, 408, 463, 474, 527, 542, 640, 668, 715</td><td>262, 284, 290, 309, 314, 327, 340, 357, 397, 418, 470, 478, 538, 546, 648, 673, 720</td><td></td><td></td><td></td><td></td><td></td><td></td></tr>\n",
       "\t<tr><th scope=row>2</th><td>20190408_testing_1_7b</td><td>TRUE</td><td>male</td><td>75</td><td>NA</td><td>NA</td><td>familiar</td><td>visible</td><td>FALSE</td><td>no_stress</td><td>...</td><td>0</td><td>NaN</td><td>244, 267, 348, 397, 435, 501, 550, 616, 632, 706</td><td>265, 343, 389, 427, 494, 541, 590, 627, 688, 720</td><td></td><td></td><td></td><td></td><td></td><td></td></tr>\n",
       "</tbody>\n",
       "</table>\n"
      ],
      "text/latex": [
       "A data.frame: 2 × 26\n",
       "\\begin{tabular}{r|lllllllllllllllllllll}\n",
       "  & folder\\_videoname & single\\_animal & sex & age & infusion\\_hpc & infusion\\_pfc & familiarity & lighting & partition & stress & ... & fz\\_overlap & cohen\\_d & fz\\_start\\_sub1 & fz\\_end\\_sub1 & fz\\_start\\_sub2 & fz\\_end\\_sub2 & lagt\\_start\\_s1\\_s2 & lagt\\_start\\_s2\\_s1 & lagt\\_end\\_s1\\_s2 & lagt\\_end\\_s2\\_s1\\\\\n",
       "  & <chr> & <lgl> & <chr> & <int> & <chr> & <chr> & <chr> & <chr> & <lgl> & <chr> & ... & <dbl> & <dbl> & <list> & <list> & <list> & <list> & <list> & <list> & <list> & <list>\\\\\n",
       "\\hline\n",
       "\t1 & 20190408\\_testing\\_1\\_7a & TRUE & male & 75 & NA & NA & familiar & visible & FALSE & no\\_stress & ... & 0 & NaN & 253, 263, 287, 293, 311, 322, 331, 351, 378, 408, 463, 474, 527, 542, 640, 668, 715 & 262, 284, 290, 309, 314, 327, 340, 357, 397, 418, 470, 478, 538, 546, 648, 673, 720 &  &  &  &  &  & \\\\\n",
       "\t2 & 20190408\\_testing\\_1\\_7b & TRUE & male & 75 & NA & NA & familiar & visible & FALSE & no\\_stress & ... & 0 & NaN & 244, 267, 348, 397, 435, 501, 550, 616, 632, 706 & 265, 343, 389, 427, 494, 541, 590, 627, 688, 720 &  &  &  &  &  & \\\\\n",
       "\\end{tabular}\n"
      ],
      "text/markdown": [
       "\n",
       "A data.frame: 2 × 26\n",
       "\n",
       "| <!--/--> | folder_videoname &lt;chr&gt; | single_animal &lt;lgl&gt; | sex &lt;chr&gt; | age &lt;int&gt; | infusion_hpc &lt;chr&gt; | infusion_pfc &lt;chr&gt; | familiarity &lt;chr&gt; | lighting &lt;chr&gt; | partition &lt;lgl&gt; | stress &lt;chr&gt; | ... ... | fz_overlap &lt;dbl&gt; | cohen_d &lt;dbl&gt; | fz_start_sub1 &lt;list&gt; | fz_end_sub1 &lt;list&gt; | fz_start_sub2 &lt;list&gt; | fz_end_sub2 &lt;list&gt; | lagt_start_s1_s2 &lt;list&gt; | lagt_start_s2_s1 &lt;list&gt; | lagt_end_s1_s2 &lt;list&gt; | lagt_end_s2_s1 &lt;list&gt; |\n",
       "|---|---|---|---|---|---|---|---|---|---|---|---|---|---|---|---|---|---|---|---|---|---|\n",
       "| 1 | 20190408_testing_1_7a | TRUE | male | 75 | NA | NA | familiar | visible | FALSE | no_stress | ... | 0 | NaN | 253, 263, 287, 293, 311, 322, 331, 351, 378, 408, 463, 474, 527, 542, 640, 668, 715 | 262, 284, 290, 309, 314, 327, 340, 357, 397, 418, 470, 478, 538, 546, 648, 673, 720 | <!----> | <!----> | <!----> | <!----> | <!----> | <!----> |\n",
       "| 2 | 20190408_testing_1_7b | TRUE | male | 75 | NA | NA | familiar | visible | FALSE | no_stress | ... | 0 | NaN | 244, 267, 348, 397, 435, 501, 550, 616, 632, 706 | 265, 343, 389, 427, 494, 541, 590, 627, 688, 720 | <!----> | <!----> | <!----> | <!----> | <!----> | <!----> |\n",
       "\n"
      ],
      "text/plain": [
       "  folder_videoname      single_animal sex  age infusion_hpc infusion_pfc\n",
       "1 20190408_testing_1_7a TRUE          male 75  NA           NA          \n",
       "2 20190408_testing_1_7b TRUE          male 75  NA           NA          \n",
       "  familiarity lighting partition stress    ... fz_overlap cohen_d\n",
       "1 familiar    visible  FALSE     no_stress ... 0          NaN    \n",
       "2 familiar    visible  FALSE     no_stress ... 0          NaN    \n",
       "  fz_start_sub1                                                                      \n",
       "1 253, 263, 287, 293, 311, 322, 331, 351, 378, 408, 463, 474, 527, 542, 640, 668, 715\n",
       "2 244, 267, 348, 397, 435, 501, 550, 616, 632, 706                                   \n",
       "  fz_end_sub1                                                                        \n",
       "1 262, 284, 290, 309, 314, 327, 340, 357, 397, 418, 470, 478, 538, 546, 648, 673, 720\n",
       "2 265, 343, 389, 427, 494, 541, 590, 627, 688, 720                                   \n",
       "  fz_start_sub2 fz_end_sub2 lagt_start_s1_s2 lagt_start_s2_s1 lagt_end_s1_s2\n",
       "1                                                                           \n",
       "2                                                                           \n",
       "  lagt_end_s2_s1\n",
       "1               \n",
       "2               "
      ]
     },
     "metadata": {},
     "output_type": "display_data"
    }
   ],
   "source": [
    "# Load DF\n",
    "path = \"C:/Users/User/Dropbox/Jupyter/wataru/synchro_freeze\"\n",
    "base = \"data.Rda\"\n",
    "filename = file.path(path, base)\n",
    "load(file=filename)\n",
    "\n",
    "#######################################\n",
    "# Display summary\n",
    "dis_summary(df)"
   ]
  },
  {
   "cell_type": "markdown",
   "metadata": {},
   "source": [
    "**Select records**<BR>\n",
    "It's good to check using the data frame viewer in RStudio."
   ]
  },
  {
   "cell_type": "code",
   "execution_count": 29,
   "metadata": {},
   "outputs": [
    {
     "name": "stdout",
     "output_type": "stream",
     "text": [
      "dimension:  65 26 \n",
      "   folder_videoname       single_animal                 sex                 age \n",
      "        \"character\"           \"logical\"         \"character\"           \"integer\" \n",
      "       infusion_hpc        infusion_pfc         familiarity            lighting \n",
      "        \"character\"         \"character\"         \"character\"         \"character\" \n",
      "          partition              stress             comment             exclude \n",
      "          \"logical\"         \"character\"         \"character\"           \"logical\" \n",
      "  together_alone_id together_alone_role             fz_sub1             fz_sub2 \n",
      "           \"factor\"            \"factor\"           \"numeric\"           \"numeric\" \n",
      "         fz_overlap             cohen_d       fz_start_sub1         fz_end_sub1 \n",
      "          \"numeric\"           \"numeric\"              \"list\"              \"list\" \n",
      "      fz_start_sub2         fz_end_sub2    lagt_start_s1_s2    lagt_start_s2_s1 \n",
      "             \"list\"              \"list\"              \"list\"              \"list\" \n",
      "     lagt_end_s1_s2      lagt_end_s2_s1 \n",
      "             \"list\"              \"list\" \n"
     ]
    },
    {
     "data": {
      "text/html": [
       "<table>\n",
       "<caption>A data.frame: 2 × 26</caption>\n",
       "<thead>\n",
       "\t<tr><th></th><th scope=col>folder_videoname</th><th scope=col>single_animal</th><th scope=col>sex</th><th scope=col>age</th><th scope=col>infusion_hpc</th><th scope=col>infusion_pfc</th><th scope=col>familiarity</th><th scope=col>lighting</th><th scope=col>partition</th><th scope=col>stress</th><th scope=col>...</th><th scope=col>fz_overlap</th><th scope=col>cohen_d</th><th scope=col>fz_start_sub1</th><th scope=col>fz_end_sub1</th><th scope=col>fz_start_sub2</th><th scope=col>fz_end_sub2</th><th scope=col>lagt_start_s1_s2</th><th scope=col>lagt_start_s2_s1</th><th scope=col>lagt_end_s1_s2</th><th scope=col>lagt_end_s2_s1</th></tr>\n",
       "\t<tr><th></th><th scope=col>&lt;chr&gt;</th><th scope=col>&lt;lgl&gt;</th><th scope=col>&lt;chr&gt;</th><th scope=col>&lt;int&gt;</th><th scope=col>&lt;chr&gt;</th><th scope=col>&lt;chr&gt;</th><th scope=col>&lt;chr&gt;</th><th scope=col>&lt;chr&gt;</th><th scope=col>&lt;lgl&gt;</th><th scope=col>&lt;chr&gt;</th><th scope=col>...</th><th scope=col>&lt;dbl&gt;</th><th scope=col>&lt;dbl&gt;</th><th scope=col>&lt;list&gt;</th><th scope=col>&lt;list&gt;</th><th scope=col>&lt;list&gt;</th><th scope=col>&lt;list&gt;</th><th scope=col>&lt;list&gt;</th><th scope=col>&lt;list&gt;</th><th scope=col>&lt;list&gt;</th><th scope=col>&lt;list&gt;</th></tr>\n",
       "</thead>\n",
       "<tbody>\n",
       "\t<tr><th scope=row>5</th><td>20190408_testing_1_f10ab</td><td>FALSE</td><td>female</td><td>75</td><td>NA</td><td>NA</td><td>familiar</td><td>visible</td><td>FALSE</td><td>no_stress</td><td>...</td><td>18.95833</td><td>0.7708344</td><td>249, 255, 267, 294, 331, 353, 364, 375, 403, 424, 430, 519, 550, 563, 577, 599, 634, 652, 689</td><td>253, 262, 272, 299, 338, 359, 368, 383, 409, 429, 435, 525, 558, 568, 594, 615, 640, 657, 694</td><td>264, 295, 303, 313, 321, 343, 398, 410, 425, 438, 482, 494, 517, 533, 557, 637, 652, 675, 685, 708</td><td>273, 302, 307, 317, 340, 389, 406, 419, 437, 468, 491, 502, 528, 555, 567, 642, 660, 680, 704, 713</td><td>15, 9, -3, 1, -10, -10, -21, 23, -5, 1, -5, -2, 7, -6, -20, 38, 3, 0, -4</td><td>3, -1, -9, 18, 10, 10, 5, -7, -1, -8, 37, 25, 2, -14, 6, -3, 0, 14, 4, -19</td><td>20, 11, 1, 3, 2, -19, 21, 6, -3, 8, 2, 3, -3, -1, -27, 27, 2, 3, 10</td><td>-1, -3, -8, -18, -2, -6, 3, -10, -2, -33, 34, 23, -3, 3, 1, -2, -3, 14, -10, -19</td></tr>\n",
       "\t<tr><th scope=row>8</th><td>20190408_testing_1_f6ab </td><td>FALSE</td><td>female</td><td>75</td><td>NA</td><td>NA</td><td>familiar</td><td>visible</td><td>FALSE</td><td>no_stress</td><td>...</td><td>22.08333</td><td>1.5967085</td><td>267, 298, 341, 413, 536, 545, 560, 568, 580, 607, 630, 689, 712</td><td>272, 317, 407, 431, 543, 550, 565, 575, 586, 614, 675, 704, 720</td><td>289, 298, 338, 374, 516, 529, 550, 573, 584, 632, 646, 671, 704</td><td>296, 312, 363, 404, 521, 539, 564, 581, 595, 637, 651, 679, 712</td><td>22, 0, -3, -39, -7, 5, -10, 5, 4, -23, 2, 15, -8</td><td>9, 0, 3, -33, 20, 7, -5, -5, -4, -2, -16, 18, 8</td><td>24, -5, -3, -27, -4, -11, -1, 6, -5, -19, 4, 8, -8</td><td>21, 5, 44, 3, 22, 4, 1, 5, -9, -23, 24, -4, -8</td></tr>\n",
       "</tbody>\n",
       "</table>\n"
      ],
      "text/latex": [
       "A data.frame: 2 × 26\n",
       "\\begin{tabular}{r|lllllllllllllllllllll}\n",
       "  & folder\\_videoname & single\\_animal & sex & age & infusion\\_hpc & infusion\\_pfc & familiarity & lighting & partition & stress & ... & fz\\_overlap & cohen\\_d & fz\\_start\\_sub1 & fz\\_end\\_sub1 & fz\\_start\\_sub2 & fz\\_end\\_sub2 & lagt\\_start\\_s1\\_s2 & lagt\\_start\\_s2\\_s1 & lagt\\_end\\_s1\\_s2 & lagt\\_end\\_s2\\_s1\\\\\n",
       "  & <chr> & <lgl> & <chr> & <int> & <chr> & <chr> & <chr> & <chr> & <lgl> & <chr> & ... & <dbl> & <dbl> & <list> & <list> & <list> & <list> & <list> & <list> & <list> & <list>\\\\\n",
       "\\hline\n",
       "\t5 & 20190408\\_testing\\_1\\_f10ab & FALSE & female & 75 & NA & NA & familiar & visible & FALSE & no\\_stress & ... & 18.95833 & 0.7708344 & 249, 255, 267, 294, 331, 353, 364, 375, 403, 424, 430, 519, 550, 563, 577, 599, 634, 652, 689 & 253, 262, 272, 299, 338, 359, 368, 383, 409, 429, 435, 525, 558, 568, 594, 615, 640, 657, 694 & 264, 295, 303, 313, 321, 343, 398, 410, 425, 438, 482, 494, 517, 533, 557, 637, 652, 675, 685, 708 & 273, 302, 307, 317, 340, 389, 406, 419, 437, 468, 491, 502, 528, 555, 567, 642, 660, 680, 704, 713 & 15, 9, -3, 1, -10, -10, -21, 23, -5, 1, -5, -2, 7, -6, -20, 38, 3, 0, -4 & 3, -1, -9, 18, 10, 10, 5, -7, -1, -8, 37, 25, 2, -14, 6, -3, 0, 14, 4, -19 & 20, 11, 1, 3, 2, -19, 21, 6, -3, 8, 2, 3, -3, -1, -27, 27, 2, 3, 10 & -1, -3, -8, -18, -2, -6, 3, -10, -2, -33, 34, 23, -3, 3, 1, -2, -3, 14, -10, -19\\\\\n",
       "\t8 & 20190408\\_testing\\_1\\_f6ab  & FALSE & female & 75 & NA & NA & familiar & visible & FALSE & no\\_stress & ... & 22.08333 & 1.5967085 & 267, 298, 341, 413, 536, 545, 560, 568, 580, 607, 630, 689, 712 & 272, 317, 407, 431, 543, 550, 565, 575, 586, 614, 675, 704, 720 & 289, 298, 338, 374, 516, 529, 550, 573, 584, 632, 646, 671, 704 & 296, 312, 363, 404, 521, 539, 564, 581, 595, 637, 651, 679, 712 & 22, 0, -3, -39, -7, 5, -10, 5, 4, -23, 2, 15, -8 & 9, 0, 3, -33, 20, 7, -5, -5, -4, -2, -16, 18, 8 & 24, -5, -3, -27, -4, -11, -1, 6, -5, -19, 4, 8, -8 & 21, 5, 44, 3, 22, 4, 1, 5, -9, -23, 24, -4, -8\\\\\n",
       "\\end{tabular}\n"
      ],
      "text/markdown": [
       "\n",
       "A data.frame: 2 × 26\n",
       "\n",
       "| <!--/--> | folder_videoname &lt;chr&gt; | single_animal &lt;lgl&gt; | sex &lt;chr&gt; | age &lt;int&gt; | infusion_hpc &lt;chr&gt; | infusion_pfc &lt;chr&gt; | familiarity &lt;chr&gt; | lighting &lt;chr&gt; | partition &lt;lgl&gt; | stress &lt;chr&gt; | ... ... | fz_overlap &lt;dbl&gt; | cohen_d &lt;dbl&gt; | fz_start_sub1 &lt;list&gt; | fz_end_sub1 &lt;list&gt; | fz_start_sub2 &lt;list&gt; | fz_end_sub2 &lt;list&gt; | lagt_start_s1_s2 &lt;list&gt; | lagt_start_s2_s1 &lt;list&gt; | lagt_end_s1_s2 &lt;list&gt; | lagt_end_s2_s1 &lt;list&gt; |\n",
       "|---|---|---|---|---|---|---|---|---|---|---|---|---|---|---|---|---|---|---|---|---|---|\n",
       "| 5 | 20190408_testing_1_f10ab | FALSE | female | 75 | NA | NA | familiar | visible | FALSE | no_stress | ... | 18.95833 | 0.7708344 | 249, 255, 267, 294, 331, 353, 364, 375, 403, 424, 430, 519, 550, 563, 577, 599, 634, 652, 689 | 253, 262, 272, 299, 338, 359, 368, 383, 409, 429, 435, 525, 558, 568, 594, 615, 640, 657, 694 | 264, 295, 303, 313, 321, 343, 398, 410, 425, 438, 482, 494, 517, 533, 557, 637, 652, 675, 685, 708 | 273, 302, 307, 317, 340, 389, 406, 419, 437, 468, 491, 502, 528, 555, 567, 642, 660, 680, 704, 713 | 15, 9, -3, 1, -10, -10, -21, 23, -5, 1, -5, -2, 7, -6, -20, 38, 3, 0, -4 | 3, -1, -9, 18, 10, 10, 5, -7, -1, -8, 37, 25, 2, -14, 6, -3, 0, 14, 4, -19 | 20, 11, 1, 3, 2, -19, 21, 6, -3, 8, 2, 3, -3, -1, -27, 27, 2, 3, 10 | -1, -3, -8, -18, -2, -6, 3, -10, -2, -33, 34, 23, -3, 3, 1, -2, -3, 14, -10, -19 |\n",
       "| 8 | 20190408_testing_1_f6ab  | FALSE | female | 75 | NA | NA | familiar | visible | FALSE | no_stress | ... | 22.08333 | 1.5967085 | 267, 298, 341, 413, 536, 545, 560, 568, 580, 607, 630, 689, 712 | 272, 317, 407, 431, 543, 550, 565, 575, 586, 614, 675, 704, 720 | 289, 298, 338, 374, 516, 529, 550, 573, 584, 632, 646, 671, 704 | 296, 312, 363, 404, 521, 539, 564, 581, 595, 637, 651, 679, 712 | 22, 0, -3, -39, -7, 5, -10, 5, 4, -23, 2, 15, -8 | 9, 0, 3, -33, 20, 7, -5, -5, -4, -2, -16, 18, 8 | 24, -5, -3, -27, -4, -11, -1, 6, -5, -19, 4, 8, -8 | 21, 5, 44, 3, 22, 4, 1, 5, -9, -23, 24, -4, -8 |\n",
       "\n"
      ],
      "text/plain": [
       "  folder_videoname         single_animal sex    age infusion_hpc infusion_pfc\n",
       "5 20190408_testing_1_f10ab FALSE         female 75  NA           NA          \n",
       "8 20190408_testing_1_f6ab  FALSE         female 75  NA           NA          \n",
       "  familiarity lighting partition stress    ... fz_overlap cohen_d  \n",
       "5 familiar    visible  FALSE     no_stress ... 18.95833   0.7708344\n",
       "8 familiar    visible  FALSE     no_stress ... 22.08333   1.5967085\n",
       "  fz_start_sub1                                                                                \n",
       "5 249, 255, 267, 294, 331, 353, 364, 375, 403, 424, 430, 519, 550, 563, 577, 599, 634, 652, 689\n",
       "8 267, 298, 341, 413, 536, 545, 560, 568, 580, 607, 630, 689, 712                              \n",
       "  fz_end_sub1                                                                                  \n",
       "5 253, 262, 272, 299, 338, 359, 368, 383, 409, 429, 435, 525, 558, 568, 594, 615, 640, 657, 694\n",
       "8 272, 317, 407, 431, 543, 550, 565, 575, 586, 614, 675, 704, 720                              \n",
       "  fz_start_sub2                                                                                     \n",
       "5 264, 295, 303, 313, 321, 343, 398, 410, 425, 438, 482, 494, 517, 533, 557, 637, 652, 675, 685, 708\n",
       "8 289, 298, 338, 374, 516, 529, 550, 573, 584, 632, 646, 671, 704                                   \n",
       "  fz_end_sub2                                                                                       \n",
       "5 273, 302, 307, 317, 340, 389, 406, 419, 437, 468, 491, 502, 528, 555, 567, 642, 660, 680, 704, 713\n",
       "8 296, 312, 363, 404, 521, 539, 564, 581, 595, 637, 651, 679, 712                                   \n",
       "  lagt_start_s1_s2                                                        \n",
       "5 15, 9, -3, 1, -10, -10, -21, 23, -5, 1, -5, -2, 7, -6, -20, 38, 3, 0, -4\n",
       "8 22, 0, -3, -39, -7, 5, -10, 5, 4, -23, 2, 15, -8                        \n",
       "  lagt_start_s2_s1                                                          \n",
       "5 3, -1, -9, 18, 10, 10, 5, -7, -1, -8, 37, 25, 2, -14, 6, -3, 0, 14, 4, -19\n",
       "8 9, 0, 3, -33, 20, 7, -5, -5, -4, -2, -16, 18, 8                           \n",
       "  lagt_end_s1_s2                                                     \n",
       "5 20, 11, 1, 3, 2, -19, 21, 6, -3, 8, 2, 3, -3, -1, -27, 27, 2, 3, 10\n",
       "8 24, -5, -3, -27, -4, -11, -1, 6, -5, -19, 4, 8, -8                 \n",
       "  lagt_end_s2_s1                                                                  \n",
       "5 -1, -3, -8, -18, -2, -6, 3, -10, -2, -33, 34, 23, -3, 3, 1, -2, -3, 14, -10, -19\n",
       "8 21, 5, 44, 3, 22, 4, 1, 5, -9, -23, 24, -4, -8                                  "
      ]
     },
     "metadata": {},
     "output_type": "display_data"
    }
   ],
   "source": [
    "df.set1 <- subset(df, \n",
    "                  single_animal==FALSE & \n",
    "                  is.na(infusion_hpc)  &\n",
    "                  is.na(infusion_pfc)  & \n",
    "                  # familiarity=='familiar' &\n",
    "                  stress=='no_stress' &\n",
    "                  lighting =='visible' & \n",
    "                  partition==FALSE &\n",
    "                  exclude==FALSE)\n",
    "\n",
    "#######################################\n",
    "# Display summary\n",
    "dis_summary(df.set1)\n",
    "\n",
    "# Output as Excel file, not included with list\n",
    "df.input = df.set1\n",
    "path = \"C:/Users/User/Dropbox/Jupyter/wataru/synchro_freeze\"\n",
    "base = \"data_set1\"\n",
    "save_files(df.input,path,base)"
   ]
  },
  {
   "cell_type": "markdown",
   "metadata": {},
   "source": [
    "**Plot Cohen D for local infusion of muscimol at either PFC or vHippo**"
   ]
  },
  {
   "cell_type": "code",
   "execution_count": 40,
   "metadata": {},
   "outputs": [
    {
     "name": "stdout",
     "output_type": "stream",
     "text": [
      "sex : male , familiarity : familiar , min: -1.067472 , mean: 1.856472 , max: 3.344061 , n: 19 , sd: 1.152362 \n",
      "sex : male , familiarity : unfamiliar , min: NaN , mean: NaN , max: NaN , n: 16 , sd: NA \n",
      "sex : female , familiarity : familiar , min: -1.150091 , mean: 1.009998 , max: 2.437512 , n: 16 , sd: 1.098654 \n",
      "sex : female , familiarity : unfamiliar , min: -1.650184 , mean: 0.9050432 , max: 2.35326 , n: 14 , sd: 1.31504 \n"
     ]
    },
    {
     "name": "stderr",
     "output_type": "stream",
     "text": [
      "Warning message:\n",
      "\"Removed 1 rows containing non-finite values (stat_summary).\"\n",
      "Warning message:\n",
      "\"Removed 1 rows containing non-finite values (stat_bindot).\"\n"
     ]
    },
    {
     "data": {
      "image/png": "[encoded data removed]",
      "text/plain": [
       "plot without title"
      ]
     },
     "metadata": {
      "image/png": {
       "height": 360,
       "width": 480
      },
      "text/plain": {
       "height": 360,
       "width": 480
      }
     },
     "output_type": "display_data"
    }
   ],
   "source": [
    "###################################################################################################\n",
    "# Function box_plot\n",
    "###################################################################################################\n",
    "box_plot <- function(df.input, x1_col, y_col, select_col, select_value, yaxis_label){\n",
    "    #######################################################\n",
    "    # parameters to adjust graph\n",
    "    # graph width x height\n",
    "    # plot_width = 8\n",
    "    # plot_height = 6\n",
    "\n",
    "    # dotplot\n",
    "    dp_binwidth=0.2\n",
    "    dp_dotsize=0.8\n",
    "    \n",
    "    # y limits\n",
    "#     ylim1 = -1.2\n",
    "#     ylim2 = 4.0\n",
    "    \n",
    "    ylim1 = -3.0\n",
    "    ylim2 = 5.0\n",
    "\n",
    "    #######################################################\n",
    "    \n",
    "    # get column name\n",
    "    x1 <- names(df.input)[which (colnames(df.input)==x1_col)]\n",
    "    x2 <- names(df.input)[which (colnames(df.input)==select_col)]\n",
    "    y <- names(df.input)[which (colnames(df.input)==y_col)]\n",
    "    \n",
    "    # set the size of final plot\n",
    "    # options(repr.plot.width=plot_width, repr.plot.height=plot_height)\n",
    "\n",
    "    df.temp = df.input[df.input[,x2]==select_value,]\n",
    "    \n",
    "    for (x1_value in unique(df.temp[,x1])){\n",
    "        #print(min(df.temp[df.temp[,x1]==x1_value,y]))\n",
    "        cat(x2,\":\",select_value,\",\", x1,\":\",x1_value,\n",
    "            \", min:\",min(df.temp[df.temp[,x1]==x1_value,y]),\n",
    "            \", mean:\",mean(df.temp[df.temp[,x1]==x1_value,y]),\n",
    "            \", max:\",max(df.temp[df.temp[,x1]==x1_value,y]),\n",
    "            \", n:\",length(df.temp[df.temp[,x1]==x1_value,y]),\n",
    "            \", sd:\",sd(df.temp[df.temp[,x1]==x1_value,y]),\n",
    "            \"\\n\")\n",
    "    }\n",
    "    \n",
    "    \n",
    "    # set data frame and axes\n",
    "    ggp.output <- ggplot(df.temp, aes_string(x=x1, y=y, fill=x1))+\n",
    "        # add boxplot with mean and SEM (MeanSEM) or SD (MeanSD).\n",
    "        # stat_summary(fun.data=MeanSEM, geom=\"boxplot\", colour=\"black\", width=0.6)+\n",
    "        stat_summary(fun.data=MeanSD, geom=\"boxplot\", colour=\"black\", width=0.5)+\n",
    "        # Dotplot\n",
    "        geom_dotplot(binaxis='y', stackdir='center', binwidth=dp_binwidth, dotsize=dp_dotsize, fill='black')+\n",
    "        # y axis label\n",
    "        labs(y=yaxis_label)+\n",
    "        # Limit y axis range\n",
    "        ylim(c(ylim1, ylim2))+\n",
    "\n",
    "    # Remainings are all the same. No need to modify.\n",
    "        # Change filling color for box\n",
    "        scale_fill_manual(values=c(\"#FF3333\", \"#3333FF\"))+\n",
    "        # Change theme. Look at \"Complete themes\" above.\n",
    "        theme_bw()+\n",
    "        # Control of axes\n",
    "        theme(\n",
    "            axis.title.x = element_blank(),\n",
    "            axis.title.y = element_text(size=25,vjust=2,face='bold'),\n",
    "            axis.text=element_text(size=20))+    \n",
    "        # Control of legend\n",
    "        theme(\n",
    "            #legend.position = \"none\",\n",
    "            legend.position = 'bottom',\n",
    "            legend.direction = \"horizontal\",\n",
    "            #legend.title = element_text(size=20,face='bold'),\n",
    "            legend.title = element_blank(),\n",
    "            legend.text=element_text(size=20))\n",
    "    \n",
    "    return(ggp.output)\n",
    "}\n",
    "\n",
    "###################################################################################################\n",
    "# START HERE\n",
    "###################################################################################################\n",
    "# plot male\n",
    "df.input = df.set1\n",
    "x_col = \"familiarity\"            # x-axis is sex\n",
    "y_col = \"cohen_d\"        # y-axis is cohen_d\n",
    "select_col = \"sex\"\n",
    "select_value = \"male\"  # limit records with stress in the stress column\n",
    "y_axis_label = \"Cohen D\" # y-asix label\n",
    "\n",
    "out1_1 = box_plot(df.input, x_col, y_col, select_col, select_value, y_axis_label)\n",
    "\n",
    "# plot female\n",
    "df.input = df.set1\n",
    "select_value = \"female\"\n",
    "\n",
    "out1_2 = box_plot(df.input, x_col, y_col, select_col, select_value, y_axis_label)\n",
    "\n",
    "# plot the two plots together\n",
    "# set the size of final plot, width x height\n",
    "plot_width = 8\n",
    "plot_height= 6\n",
    "options(repr.plot.width=plot_width, repr.plot.height=plot_height)\n",
    "\n",
    "ggarrange(out1_1, out1_2, ncol=2)\n",
    "\n"
   ]
  },
  {
   "cell_type": "markdown",
   "metadata": {},
   "source": [
    "**Export the plot as an eps file**"
   ]
  },
  {
   "cell_type": "code",
   "execution_count": 41,
   "metadata": {},
   "outputs": [],
   "source": [
    "# Output eps file on desktop\n",
    "path = \"C:/Users/User/Desktop\"\n",
    "base = \"plot.eps\"\n",
    "filename = file.path(path, base)\n",
    "\n",
    "ggsave(filename, device=cairo_ps,width=plot_width, height=plot_height)"
   ]
  },
  {
   "cell_type": "markdown",
   "metadata": {},
   "source": [
    "**2-sample t-test**"
   ]
  },
  {
   "cell_type": "code",
   "execution_count": 35,
   "metadata": {
    "scrolled": true
   },
   "outputs": [
    {
     "name": "stdout",
     "output_type": "stream",
     "text": [
      "### (male, \tfamiliar) \tvs. (male, \tunfamiliar) \t###\tp-value:  0.1437038 \n",
      "### (female, \tfamiliar) \tvs. (female, \tunfamiliar) \t###\tp-value:  0.8158597 \n"
     ]
    }
   ],
   "source": [
    "two_sample_t_test <- function(df.input, y_col, xa1_col, xa1_value, xa2_col, xa2_value,xb1_col, xb1_value, xb2_col, xb2_value){\n",
    "#############################################################\n",
    "# 2 sample t-test for (y_col), between\n",
    "#     (xa1_col) = xa1_value and (xa2_col) = xa2_value\n",
    "#     (xb1_col) = xb1_value and (xb2_col) = xb2_value\n",
    "#############################################################\n",
    "    # get index for each column name\n",
    "    xa1 <- names(df.input)[which (colnames(df.input)==xa1_col)]\n",
    "    xa2 <- names(df.input)[which (colnames(df.input)==xa2_col)]\n",
    "    xb1 <- names(df.input)[which (colnames(df.input)==xb1_col)]\n",
    "    xb2 <- names(df.input)[which (colnames(df.input)==xb2_col)]\n",
    "    y <- names(df.input)[which (colnames(df.input)==y_col)]\n",
    "    \n",
    "    # Extract data frame\n",
    "    temp.a = df.input[,y][df.input[,xa1]==xa1_value & df.input[,xa2]==xa2_value]\n",
    "    temp.b = df.input[,y][df.input[,xb1]==xb1_value & df.input[,xb2]==xb2_value]\n",
    "    \n",
    "    cat(paste0('### (',xa1_value,\", \\t\",xa2_value, \") \\tvs. (\", xb1_value, \", \\t\", xb2_value, \") \\t###\\t\"))\n",
    "    temp.test <- t.test(temp.a, temp.b)\n",
    "    cat(\"p-value: \",temp.test[[\"p.value\"]],\"\\n\")\n",
    "    # detailed information\n",
    "    #print(temp.test)\n",
    "\n",
    "    return(temp.test)\n",
    "}\n",
    "\n",
    "df.input = df.set1\n",
    "temp = two_sample_t_test(df.input, \"cohen_d\",\n",
    "                        \"sex\",\"male\",\"familiarity\",\"familiar\",\n",
    "                        \"sex\",\"male\",\"familiarity\",\"unfamiliar\")\n",
    "\n",
    "\n",
    "df.input = df.set1\n",
    "temp = two_sample_t_test(df.input, \"cohen_d\",\n",
    "                        \"sex\",\"female\",\"familiarity\",\"familiar\",\n",
    "                        \"sex\",\"female\",\"familiarity\",\"unfamiliar\")\n"
   ]
  },
  {
   "cell_type": "markdown",
   "metadata": {},
   "source": [
    "---\n",
    "**Compute the average from sub1 and sub2 freezing into a new column 'fz_ave'**"
   ]
  },
  {
   "cell_type": "code",
   "execution_count": 36,
   "metadata": {
    "scrolled": true
   },
   "outputs": [
    {
     "name": "stdout",
     "output_type": "stream",
     "text": [
      "dimension:  65 27 \n",
      "   folder_videoname       single_animal                 sex                 age \n",
      "        \"character\"           \"logical\"         \"character\"           \"integer\" \n",
      "       infusion_hpc        infusion_pfc         familiarity            lighting \n",
      "        \"character\"         \"character\"         \"character\"         \"character\" \n",
      "          partition              stress             comment             exclude \n",
      "          \"logical\"         \"character\"         \"character\"           \"logical\" \n",
      "  together_alone_id together_alone_role             fz_sub1             fz_sub2 \n",
      "           \"factor\"            \"factor\"           \"numeric\"           \"numeric\" \n",
      "         fz_overlap             cohen_d       fz_start_sub1         fz_end_sub1 \n",
      "          \"numeric\"           \"numeric\"              \"list\"              \"list\" \n",
      "      fz_start_sub2         fz_end_sub2    lagt_start_s1_s2    lagt_start_s2_s1 \n",
      "             \"list\"              \"list\"              \"list\"              \"list\" \n",
      "     lagt_end_s1_s2      lagt_end_s2_s1              fz_ave \n",
      "             \"list\"              \"list\"           \"numeric\" \n"
     ]
    },
    {
     "data": {
      "text/html": [
       "<table>\n",
       "<caption>A data.frame: 2 × 27</caption>\n",
       "<thead>\n",
       "\t<tr><th></th><th scope=col>folder_videoname</th><th scope=col>single_animal</th><th scope=col>sex</th><th scope=col>age</th><th scope=col>infusion_hpc</th><th scope=col>infusion_pfc</th><th scope=col>familiarity</th><th scope=col>lighting</th><th scope=col>partition</th><th scope=col>stress</th><th scope=col>...</th><th scope=col>cohen_d</th><th scope=col>fz_start_sub1</th><th scope=col>fz_end_sub1</th><th scope=col>fz_start_sub2</th><th scope=col>fz_end_sub2</th><th scope=col>lagt_start_s1_s2</th><th scope=col>lagt_start_s2_s1</th><th scope=col>lagt_end_s1_s2</th><th scope=col>lagt_end_s2_s1</th><th scope=col>fz_ave</th></tr>\n",
       "\t<tr><th></th><th scope=col>&lt;chr&gt;</th><th scope=col>&lt;lgl&gt;</th><th scope=col>&lt;chr&gt;</th><th scope=col>&lt;int&gt;</th><th scope=col>&lt;chr&gt;</th><th scope=col>&lt;chr&gt;</th><th scope=col>&lt;chr&gt;</th><th scope=col>&lt;chr&gt;</th><th scope=col>&lt;lgl&gt;</th><th scope=col>&lt;chr&gt;</th><th scope=col>...</th><th scope=col>&lt;dbl&gt;</th><th scope=col>&lt;list&gt;</th><th scope=col>&lt;list&gt;</th><th scope=col>&lt;list&gt;</th><th scope=col>&lt;list&gt;</th><th scope=col>&lt;list&gt;</th><th scope=col>&lt;list&gt;</th><th scope=col>&lt;list&gt;</th><th scope=col>&lt;list&gt;</th><th scope=col>&lt;dbl&gt;</th></tr>\n",
       "</thead>\n",
       "<tbody>\n",
       "\t<tr><th scope=row>5</th><td>20190408_testing_1_f10ab</td><td>FALSE</td><td>female</td><td>75</td><td>NA</td><td>NA</td><td>familiar</td><td>visible</td><td>FALSE</td><td>no_stress</td><td>...</td><td>0.7708344</td><td>249, 255, 267, 294, 331, 353, 364, 375, 403, 424, 430, 519, 550, 563, 577, 599, 634, 652, 689</td><td>253, 262, 272, 299, 338, 359, 368, 383, 409, 429, 435, 525, 558, 568, 594, 615, 640, 657, 694</td><td>264, 295, 303, 313, 321, 343, 398, 410, 425, 438, 482, 494, 517, 533, 557, 637, 652, 675, 685, 708</td><td>273, 302, 307, 317, 340, 389, 406, 419, 437, 468, 491, 502, 528, 555, 567, 642, 660, 680, 704, 713</td><td>15, 9, -3, 1, -10, -10, -21, 23, -5, 1, -5, -2, 7, -6, -20, 38, 3, 0, -4</td><td>3, -1, -9, 18, 10, 10, 5, -7, -1, -8, 37, 25, 2, -14, 6, -3, 0, 14, 4, -19</td><td>20, 11, 1, 3, 2, -19, 21, 6, -3, 8, 2, 3, -3, -1, -27, 27, 2, 3, 10</td><td>-1, -3, -8, -18, -2, -6, 3, -10, -2, -33, 34, 23, -3, 3, 1, -2, -3, 14, -10, -19</td><td>43.64583</td></tr>\n",
       "\t<tr><th scope=row>8</th><td>20190408_testing_1_f6ab </td><td>FALSE</td><td>female</td><td>75</td><td>NA</td><td>NA</td><td>familiar</td><td>visible</td><td>FALSE</td><td>no_stress</td><td>...</td><td>1.5967085</td><td>267, 298, 341, 413, 536, 545, 560, 568, 580, 607, 630, 689, 712</td><td>272, 317, 407, 431, 543, 550, 565, 575, 586, 614, 675, 704, 720</td><td>289, 298, 338, 374, 516, 529, 550, 573, 584, 632, 646, 671, 704</td><td>296, 312, 363, 404, 521, 539, 564, 581, 595, 637, 651, 679, 712</td><td>22, 0, -3, -39, -7, 5, -10, 5, 4, -23, 2, 15, -8</td><td>9, 0, 3, -33, 20, 7, -5, -5, -4, -2, -16, 18, 8</td><td>24, -5, -3, -27, -4, -11, -1, 6, -5, -19, 4, 8, -8</td><td>21, 5, 44, 3, 22, 4, 1, 5, -9, -23, 24, -4, -8</td><td>40.52083</td></tr>\n",
       "</tbody>\n",
       "</table>\n"
      ],
      "text/latex": [
       "A data.frame: 2 × 27\n",
       "\\begin{tabular}{r|lllllllllllllllllllll}\n",
       "  & folder\\_videoname & single\\_animal & sex & age & infusion\\_hpc & infusion\\_pfc & familiarity & lighting & partition & stress & ... & cohen\\_d & fz\\_start\\_sub1 & fz\\_end\\_sub1 & fz\\_start\\_sub2 & fz\\_end\\_sub2 & lagt\\_start\\_s1\\_s2 & lagt\\_start\\_s2\\_s1 & lagt\\_end\\_s1\\_s2 & lagt\\_end\\_s2\\_s1 & fz\\_ave\\\\\n",
       "  & <chr> & <lgl> & <chr> & <int> & <chr> & <chr> & <chr> & <chr> & <lgl> & <chr> & ... & <dbl> & <list> & <list> & <list> & <list> & <list> & <list> & <list> & <list> & <dbl>\\\\\n",
       "\\hline\n",
       "\t5 & 20190408\\_testing\\_1\\_f10ab & FALSE & female & 75 & NA & NA & familiar & visible & FALSE & no\\_stress & ... & 0.7708344 & 249, 255, 267, 294, 331, 353, 364, 375, 403, 424, 430, 519, 550, 563, 577, 599, 634, 652, 689 & 253, 262, 272, 299, 338, 359, 368, 383, 409, 429, 435, 525, 558, 568, 594, 615, 640, 657, 694 & 264, 295, 303, 313, 321, 343, 398, 410, 425, 438, 482, 494, 517, 533, 557, 637, 652, 675, 685, 708 & 273, 302, 307, 317, 340, 389, 406, 419, 437, 468, 491, 502, 528, 555, 567, 642, 660, 680, 704, 713 & 15, 9, -3, 1, -10, -10, -21, 23, -5, 1, -5, -2, 7, -6, -20, 38, 3, 0, -4 & 3, -1, -9, 18, 10, 10, 5, -7, -1, -8, 37, 25, 2, -14, 6, -3, 0, 14, 4, -19 & 20, 11, 1, 3, 2, -19, 21, 6, -3, 8, 2, 3, -3, -1, -27, 27, 2, 3, 10 & -1, -3, -8, -18, -2, -6, 3, -10, -2, -33, 34, 23, -3, 3, 1, -2, -3, 14, -10, -19 & 43.64583\\\\\n",
       "\t8 & 20190408\\_testing\\_1\\_f6ab  & FALSE & female & 75 & NA & NA & familiar & visible & FALSE & no\\_stress & ... & 1.5967085 & 267, 298, 341, 413, 536, 545, 560, 568, 580, 607, 630, 689, 712 & 272, 317, 407, 431, 543, 550, 565, 575, 586, 614, 675, 704, 720 & 289, 298, 338, 374, 516, 529, 550, 573, 584, 632, 646, 671, 704 & 296, 312, 363, 404, 521, 539, 564, 581, 595, 637, 651, 679, 712 & 22, 0, -3, -39, -7, 5, -10, 5, 4, -23, 2, 15, -8 & 9, 0, 3, -33, 20, 7, -5, -5, -4, -2, -16, 18, 8 & 24, -5, -3, -27, -4, -11, -1, 6, -5, -19, 4, 8, -8 & 21, 5, 44, 3, 22, 4, 1, 5, -9, -23, 24, -4, -8 & 40.52083\\\\\n",
       "\\end{tabular}\n"
      ],
      "text/markdown": [
       "\n",
       "A data.frame: 2 × 27\n",
       "\n",
       "| <!--/--> | folder_videoname &lt;chr&gt; | single_animal &lt;lgl&gt; | sex &lt;chr&gt; | age &lt;int&gt; | infusion_hpc &lt;chr&gt; | infusion_pfc &lt;chr&gt; | familiarity &lt;chr&gt; | lighting &lt;chr&gt; | partition &lt;lgl&gt; | stress &lt;chr&gt; | ... ... | cohen_d &lt;dbl&gt; | fz_start_sub1 &lt;list&gt; | fz_end_sub1 &lt;list&gt; | fz_start_sub2 &lt;list&gt; | fz_end_sub2 &lt;list&gt; | lagt_start_s1_s2 &lt;list&gt; | lagt_start_s2_s1 &lt;list&gt; | lagt_end_s1_s2 &lt;list&gt; | lagt_end_s2_s1 &lt;list&gt; | fz_ave &lt;dbl&gt; |\n",
       "|---|---|---|---|---|---|---|---|---|---|---|---|---|---|---|---|---|---|---|---|---|---|\n",
       "| 5 | 20190408_testing_1_f10ab | FALSE | female | 75 | NA | NA | familiar | visible | FALSE | no_stress | ... | 0.7708344 | 249, 255, 267, 294, 331, 353, 364, 375, 403, 424, 430, 519, 550, 563, 577, 599, 634, 652, 689 | 253, 262, 272, 299, 338, 359, 368, 383, 409, 429, 435, 525, 558, 568, 594, 615, 640, 657, 694 | 264, 295, 303, 313, 321, 343, 398, 410, 425, 438, 482, 494, 517, 533, 557, 637, 652, 675, 685, 708 | 273, 302, 307, 317, 340, 389, 406, 419, 437, 468, 491, 502, 528, 555, 567, 642, 660, 680, 704, 713 | 15, 9, -3, 1, -10, -10, -21, 23, -5, 1, -5, -2, 7, -6, -20, 38, 3, 0, -4 | 3, -1, -9, 18, 10, 10, 5, -7, -1, -8, 37, 25, 2, -14, 6, -3, 0, 14, 4, -19 | 20, 11, 1, 3, 2, -19, 21, 6, -3, 8, 2, 3, -3, -1, -27, 27, 2, 3, 10 | -1, -3, -8, -18, -2, -6, 3, -10, -2, -33, 34, 23, -3, 3, 1, -2, -3, 14, -10, -19 | 43.64583 |\n",
       "| 8 | 20190408_testing_1_f6ab  | FALSE | female | 75 | NA | NA | familiar | visible | FALSE | no_stress | ... | 1.5967085 | 267, 298, 341, 413, 536, 545, 560, 568, 580, 607, 630, 689, 712 | 272, 317, 407, 431, 543, 550, 565, 575, 586, 614, 675, 704, 720 | 289, 298, 338, 374, 516, 529, 550, 573, 584, 632, 646, 671, 704 | 296, 312, 363, 404, 521, 539, 564, 581, 595, 637, 651, 679, 712 | 22, 0, -3, -39, -7, 5, -10, 5, 4, -23, 2, 15, -8 | 9, 0, 3, -33, 20, 7, -5, -5, -4, -2, -16, 18, 8 | 24, -5, -3, -27, -4, -11, -1, 6, -5, -19, 4, 8, -8 | 21, 5, 44, 3, 22, 4, 1, 5, -9, -23, 24, -4, -8 | 40.52083 |\n",
       "\n"
      ],
      "text/plain": [
       "  folder_videoname         single_animal sex    age infusion_hpc infusion_pfc\n",
       "5 20190408_testing_1_f10ab FALSE         female 75  NA           NA          \n",
       "8 20190408_testing_1_f6ab  FALSE         female 75  NA           NA          \n",
       "  familiarity lighting partition stress    ... cohen_d  \n",
       "5 familiar    visible  FALSE     no_stress ... 0.7708344\n",
       "8 familiar    visible  FALSE     no_stress ... 1.5967085\n",
       "  fz_start_sub1                                                                                \n",
       "5 249, 255, 267, 294, 331, 353, 364, 375, 403, 424, 430, 519, 550, 563, 577, 599, 634, 652, 689\n",
       "8 267, 298, 341, 413, 536, 545, 560, 568, 580, 607, 630, 689, 712                              \n",
       "  fz_end_sub1                                                                                  \n",
       "5 253, 262, 272, 299, 338, 359, 368, 383, 409, 429, 435, 525, 558, 568, 594, 615, 640, 657, 694\n",
       "8 272, 317, 407, 431, 543, 550, 565, 575, 586, 614, 675, 704, 720                              \n",
       "  fz_start_sub2                                                                                     \n",
       "5 264, 295, 303, 313, 321, 343, 398, 410, 425, 438, 482, 494, 517, 533, 557, 637, 652, 675, 685, 708\n",
       "8 289, 298, 338, 374, 516, 529, 550, 573, 584, 632, 646, 671, 704                                   \n",
       "  fz_end_sub2                                                                                       \n",
       "5 273, 302, 307, 317, 340, 389, 406, 419, 437, 468, 491, 502, 528, 555, 567, 642, 660, 680, 704, 713\n",
       "8 296, 312, 363, 404, 521, 539, 564, 581, 595, 637, 651, 679, 712                                   \n",
       "  lagt_start_s1_s2                                                        \n",
       "5 15, 9, -3, 1, -10, -10, -21, 23, -5, 1, -5, -2, 7, -6, -20, 38, 3, 0, -4\n",
       "8 22, 0, -3, -39, -7, 5, -10, 5, 4, -23, 2, 15, -8                        \n",
       "  lagt_start_s2_s1                                                          \n",
       "5 3, -1, -9, 18, 10, 10, 5, -7, -1, -8, 37, 25, 2, -14, 6, -3, 0, 14, 4, -19\n",
       "8 9, 0, 3, -33, 20, 7, -5, -5, -4, -2, -16, 18, 8                           \n",
       "  lagt_end_s1_s2                                                     \n",
       "5 20, 11, 1, 3, 2, -19, 21, 6, -3, 8, 2, 3, -3, -1, -27, 27, 2, 3, 10\n",
       "8 24, -5, -3, -27, -4, -11, -1, 6, -5, -19, 4, 8, -8                 \n",
       "  lagt_end_s2_s1                                                                  \n",
       "5 -1, -3, -8, -18, -2, -6, 3, -10, -2, -33, 34, 23, -3, 3, 1, -2, -3, 14, -10, -19\n",
       "8 21, 5, 44, 3, 22, 4, 1, 5, -9, -23, 24, -4, -8                                  \n",
       "  fz_ave  \n",
       "5 43.64583\n",
       "8 40.52083"
      ]
     },
     "metadata": {},
     "output_type": "display_data"
    }
   ],
   "source": [
    "df.set1['fz_ave'] = (df.set1['fz_sub1'] + df.set1['fz_sub2']) / 2\n",
    "\n",
    "#######################################\n",
    "# Display summary\n",
    "dis_summary(df.set1)"
   ]
  },
  {
   "cell_type": "markdown",
   "metadata": {},
   "source": [
    "**plot the graphs**"
   ]
  },
  {
   "cell_type": "code",
   "execution_count": 42,
   "metadata": {},
   "outputs": [
    {
     "name": "stdout",
     "output_type": "stream",
     "text": [
      "sex : male , familiarity : familiar , min: 6.875 , mean: 40.07675 , max: 67.8125 , n: 19 , sd: 19.14976 \n",
      "sex : male , familiarity : unfamiliar , min: 3.645833 , mean: 26.41276 , max: 45.3125 , n: 16 , sd: 13.0073 \n",
      "sex : female , familiarity : familiar , min: 14.375 , mean: 47.08984 , max: 65.9375 , n: 16 , sd: 14.80528 \n",
      "sex : female , familiarity : unfamiliar , min: 27.91667 , mean: 49.53125 , max: 82.29167 , n: 14 , sd: 17.79273 \n"
     ]
    },
    {
     "data": {
      "image/png": "[encoded data removed]",
      "text/plain": [
       "plot without title"
      ]
     },
     "metadata": {
      "image/png": {
       "height": 360,
       "width": 480
      },
      "text/plain": {
       "height": 360,
       "width": 480
      }
     },
     "output_type": "display_data"
    }
   ],
   "source": [
    "###################################################################################################\n",
    "# Function box_plot\n",
    "###################################################################################################\n",
    "box_plot <- function(df.input, x1_col, y_col, select_col, select_value, yaxis_label){\n",
    "    #######################################################\n",
    "    # parameters to adjust graph\n",
    "    # graph width x height\n",
    "    # plot_width = 8\n",
    "    # plot_height = 6\n",
    "\n",
    "    # dotplot\n",
    "    dp_binwidth=0.7\n",
    "    dp_dotsize=3\n",
    "    \n",
    "    # y limits\n",
    "    ylim1 = 0\n",
    "    ylim2 = 90\n",
    "\n",
    "#     ylim1 = -2\n",
    "#     ylim2 = 90\n",
    "    #######################################################\n",
    "    \n",
    "    # get column name\n",
    "    x1 <- names(df.input)[which (colnames(df.input)==x1_col)]\n",
    "    x2 <- names(df.input)[which (colnames(df.input)==select_col)]\n",
    "    y <- names(df.input)[which (colnames(df.input)==y_col)]\n",
    "    \n",
    "    # set the size of final plot\n",
    "    # options(repr.plot.width=plot_width, repr.plot.height=plot_height)\n",
    "\n",
    "    df.temp = df.input[df.input[,x2]==select_value,]\n",
    "    \n",
    "    for (x1_value in unique(df.temp[,x1])){\n",
    "        #print(min(df.temp[df.temp[,x1]==x1_value,y]))\n",
    "        cat(x2,\":\",select_value,\",\", x1,\":\",x1_value,\n",
    "            \", min:\",min(df.temp[df.temp[,x1]==x1_value,y]),\n",
    "            \", mean:\",mean(df.temp[df.temp[,x1]==x1_value,y]),\n",
    "            \", max:\",max(df.temp[df.temp[,x1]==x1_value,y]),\n",
    "            \", n:\",length(df.temp[df.temp[,x1]==x1_value,y]),\n",
    "            \", sd:\",sd(df.temp[df.temp[,x1]==x1_value,y]),\n",
    "            \"\\n\")\n",
    "    }\n",
    "    \n",
    "    \n",
    "    # set data frame and axes\n",
    "    ggp.output <- ggplot(df.temp, aes_string(x=x1, y=y, fill=x1))+\n",
    "        # add boxplot with mean and SEM (MeanSEM) or SD (MeanSD).\n",
    "        # stat_summary(fun.data=MeanSEM, geom=\"boxplot\", colour=\"black\", width=0.6)+\n",
    "        stat_summary(fun.data=MeanSD, geom=\"boxplot\", colour=\"black\", width=0.5)+\n",
    "        # Dotplot\n",
    "        geom_dotplot(binaxis='y', stackdir='center', binwidth=dp_binwidth, dotsize=dp_dotsize, fill='black')+\n",
    "        # y axis label\n",
    "        labs(y=yaxis_label)+\n",
    "        # Limit y axis range\n",
    "        ylim(c(ylim1, ylim2))+\n",
    "\n",
    "    # Remainings are all the same. No need to modify.\n",
    "        # Change filling color for box\n",
    "        scale_fill_manual(values=c(\"#FF3333\", \"#3333FF\"))+\n",
    "        # Change theme. Look at \"Complete themes\" above.\n",
    "        theme_bw()+\n",
    "        # Control of axes\n",
    "        theme(\n",
    "            axis.title.x = element_blank(),\n",
    "            axis.title.y = element_text(size=25,vjust=2,face='bold'),\n",
    "            axis.text=element_text(size=20))+    \n",
    "        # Control of legend\n",
    "        theme(\n",
    "            #legend.position = \"none\",\n",
    "            legend.position = 'bottom',\n",
    "            legend.direction = \"horizontal\",\n",
    "            #legend.title = element_text(size=20,face='bold'),\n",
    "            legend.title = element_blank(),\n",
    "            legend.text=element_text(size=20))\n",
    "    \n",
    "    return(ggp.output)\n",
    "}\n",
    "\n",
    "###################################################################################################\n",
    "# START HERE\n",
    "###################################################################################################\n",
    "\n",
    "df.input = df.set1\n",
    "out2_1 = box_plot(df.input, \"familiarity\",\"fz_ave\", \"sex\", \"male\",\"Freezing (%)\")\n",
    "\n",
    "df.input = df.set1\n",
    "out2_2 = box_plot(df.input, \"familiarity\",\"fz_ave\", \"sex\", \"female\",\"Freezing (%)\")\n",
    "\n",
    "# plot the two plots\n",
    "# set the size of final plot, width x height\n",
    "plot_width = 8\n",
    "plot_height = 6\n",
    "options(repr.plot.width=plot_width, repr.plot.height=plot_height)\n",
    "\n",
    "ggarrange(out2_1, out2_2, ncol=2)"
   ]
  },
  {
   "cell_type": "markdown",
   "metadata": {},
   "source": [
    "**Export the plot as an eps file**"
   ]
  },
  {
   "cell_type": "code",
   "execution_count": 43,
   "metadata": {},
   "outputs": [],
   "source": [
    "# Output eps file on desktop\n",
    "path = \"C:/Users/User/Desktop\"\n",
    "base = \"plot.eps\"\n",
    "filename = file.path(path, base)\n",
    "\n",
    "ggsave(filename, device=cairo_ps,width=plot_width, height=plot_height)"
   ]
  },
  {
   "cell_type": "markdown",
   "metadata": {},
   "source": [
    "**2-sample t-test**"
   ]
  },
  {
   "cell_type": "code",
   "execution_count": 39,
   "metadata": {},
   "outputs": [
    {
     "name": "stdout",
     "output_type": "stream",
     "text": [
      "### (male, \tfamiliar) \tvs. (male, \tunfamiliar) \t###\tp-value:  0.01779413 \n",
      "### (female, \tfamiliar) \tvs. (female, \tunfamiliar) \t###\tp-value:  0.6887585 \n"
     ]
    }
   ],
   "source": [
    "two_sample_t_test <- function(df.input, y_col, xa1_col, xa1_value, xa2_col, xa2_value,xb1_col, xb1_value, xb2_col, xb2_value){\n",
    "#############################################################\n",
    "# 2 sample t-test for (y_col), between\n",
    "#     (xa1_col) = xa1_value and (xa2_col) = xa2_value\n",
    "#     (xb1_col) = xb1_value and (xb2_col) = xb2_value\n",
    "#############################################################\n",
    "    # get index for each column name\n",
    "    xa1 <- names(df.input)[which (colnames(df.input)==xa1_col)]\n",
    "    xa2 <- names(df.input)[which (colnames(df.input)==xa2_col)]\n",
    "    xb1 <- names(df.input)[which (colnames(df.input)==xb1_col)]\n",
    "    xb2 <- names(df.input)[which (colnames(df.input)==xb2_col)]\n",
    "    y <- names(df.input)[which (colnames(df.input)==y_col)]\n",
    "    \n",
    "    # Extract data frame\n",
    "    temp.a = df.input[,y][df.input[,xa1]==xa1_value & df.input[,xa2]==xa2_value]\n",
    "    temp.b = df.input[,y][df.input[,xb1]==xb1_value & df.input[,xb2]==xb2_value]\n",
    "    \n",
    "    cat(paste0('### (',xa1_value,\", \\t\",xa2_value, \") \\tvs. (\", xb1_value, \", \\t\", xb2_value, \") \\t###\\t\"))\n",
    "    temp.test <- t.test(temp.a, temp.b)\n",
    "    cat(\"p-value: \",temp.test[[\"p.value\"]],\"\\n\")\n",
    "    # detailed information\n",
    "    #print(temp.test)\n",
    "    \n",
    "    return(temp.test)\n",
    "}\n",
    "\n",
    "\n",
    "df.input = df.set1\n",
    "temp = two_sample_t_test(df.input, \"fz_ave\",\n",
    "                         \"sex\",\"male\",\"familiarity\",\"familiar\",\n",
    "                         \"sex\",\"male\",\"familiarity\",\"unfamiliar\")\n",
    "\n",
    "df.input = df.set1\n",
    "temp = two_sample_t_test(df.input, \"fz_ave\",\n",
    "                         \"sex\",\"female\",\"familiarity\",\"familiar\",\n",
    "                         \"sex\",\"female\",\"familiarity\",\"unfamiliar\")\n"
   ]
  },
  {
   "cell_type": "markdown",
   "metadata": {},
   "source": [
    "---\n",
    "## Step 9. Stess effects on synchronization\n",
    "**Load R dataframe**"
   ]
  },
  {
   "cell_type": "code",
   "execution_count": 44,
   "metadata": {},
   "outputs": [
    {
     "name": "stdout",
     "output_type": "stream",
     "text": [
      "dimension:  216 26 \n",
      "   folder_videoname       single_animal                 sex                 age \n",
      "        \"character\"           \"logical\"         \"character\"           \"integer\" \n",
      "       infusion_hpc        infusion_pfc         familiarity            lighting \n",
      "        \"character\"         \"character\"         \"character\"         \"character\" \n",
      "          partition              stress             comment             exclude \n",
      "          \"logical\"         \"character\"         \"character\"           \"logical\" \n",
      "  together_alone_id together_alone_role             fz_sub1             fz_sub2 \n",
      "           \"factor\"            \"factor\"           \"numeric\"           \"numeric\" \n",
      "         fz_overlap             cohen_d       fz_start_sub1         fz_end_sub1 \n",
      "          \"numeric\"           \"numeric\"              \"list\"              \"list\" \n",
      "      fz_start_sub2         fz_end_sub2    lagt_start_s1_s2    lagt_start_s2_s1 \n",
      "             \"list\"              \"list\"              \"list\"              \"list\" \n",
      "     lagt_end_s1_s2      lagt_end_s2_s1 \n",
      "             \"list\"              \"list\" \n"
     ]
    },
    {
     "data": {
      "text/html": [
       "<table>\n",
       "<caption>A data.frame: 2 × 26</caption>\n",
       "<thead>\n",
       "\t<tr><th></th><th scope=col>folder_videoname</th><th scope=col>single_animal</th><th scope=col>sex</th><th scope=col>age</th><th scope=col>infusion_hpc</th><th scope=col>infusion_pfc</th><th scope=col>familiarity</th><th scope=col>lighting</th><th scope=col>partition</th><th scope=col>stress</th><th scope=col>...</th><th scope=col>fz_overlap</th><th scope=col>cohen_d</th><th scope=col>fz_start_sub1</th><th scope=col>fz_end_sub1</th><th scope=col>fz_start_sub2</th><th scope=col>fz_end_sub2</th><th scope=col>lagt_start_s1_s2</th><th scope=col>lagt_start_s2_s1</th><th scope=col>lagt_end_s1_s2</th><th scope=col>lagt_end_s2_s1</th></tr>\n",
       "\t<tr><th></th><th scope=col>&lt;chr&gt;</th><th scope=col>&lt;lgl&gt;</th><th scope=col>&lt;chr&gt;</th><th scope=col>&lt;int&gt;</th><th scope=col>&lt;chr&gt;</th><th scope=col>&lt;chr&gt;</th><th scope=col>&lt;chr&gt;</th><th scope=col>&lt;chr&gt;</th><th scope=col>&lt;lgl&gt;</th><th scope=col>&lt;chr&gt;</th><th scope=col>...</th><th scope=col>&lt;dbl&gt;</th><th scope=col>&lt;dbl&gt;</th><th scope=col>&lt;list&gt;</th><th scope=col>&lt;list&gt;</th><th scope=col>&lt;list&gt;</th><th scope=col>&lt;list&gt;</th><th scope=col>&lt;list&gt;</th><th scope=col>&lt;list&gt;</th><th scope=col>&lt;list&gt;</th><th scope=col>&lt;list&gt;</th></tr>\n",
       "</thead>\n",
       "<tbody>\n",
       "\t<tr><th scope=row>1</th><td>20190408_testing_1_7a</td><td>TRUE</td><td>male</td><td>75</td><td>NA</td><td>NA</td><td>familiar</td><td>visible</td><td>FALSE</td><td>no_stress</td><td>...</td><td>0</td><td>NaN</td><td>253, 263, 287, 293, 311, 322, 331, 351, 378, 408, 463, 474, 527, 542, 640, 668, 715</td><td>262, 284, 290, 309, 314, 327, 340, 357, 397, 418, 470, 478, 538, 546, 648, 673, 720</td><td></td><td></td><td></td><td></td><td></td><td></td></tr>\n",
       "\t<tr><th scope=row>2</th><td>20190408_testing_1_7b</td><td>TRUE</td><td>male</td><td>75</td><td>NA</td><td>NA</td><td>familiar</td><td>visible</td><td>FALSE</td><td>no_stress</td><td>...</td><td>0</td><td>NaN</td><td>244, 267, 348, 397, 435, 501, 550, 616, 632, 706</td><td>265, 343, 389, 427, 494, 541, 590, 627, 688, 720</td><td></td><td></td><td></td><td></td><td></td><td></td></tr>\n",
       "</tbody>\n",
       "</table>\n"
      ],
      "text/latex": [
       "A data.frame: 2 × 26\n",
       "\\begin{tabular}{r|lllllllllllllllllllll}\n",
       "  & folder\\_videoname & single\\_animal & sex & age & infusion\\_hpc & infusion\\_pfc & familiarity & lighting & partition & stress & ... & fz\\_overlap & cohen\\_d & fz\\_start\\_sub1 & fz\\_end\\_sub1 & fz\\_start\\_sub2 & fz\\_end\\_sub2 & lagt\\_start\\_s1\\_s2 & lagt\\_start\\_s2\\_s1 & lagt\\_end\\_s1\\_s2 & lagt\\_end\\_s2\\_s1\\\\\n",
       "  & <chr> & <lgl> & <chr> & <int> & <chr> & <chr> & <chr> & <chr> & <lgl> & <chr> & ... & <dbl> & <dbl> & <list> & <list> & <list> & <list> & <list> & <list> & <list> & <list>\\\\\n",
       "\\hline\n",
       "\t1 & 20190408\\_testing\\_1\\_7a & TRUE & male & 75 & NA & NA & familiar & visible & FALSE & no\\_stress & ... & 0 & NaN & 253, 263, 287, 293, 311, 322, 331, 351, 378, 408, 463, 474, 527, 542, 640, 668, 715 & 262, 284, 290, 309, 314, 327, 340, 357, 397, 418, 470, 478, 538, 546, 648, 673, 720 &  &  &  &  &  & \\\\\n",
       "\t2 & 20190408\\_testing\\_1\\_7b & TRUE & male & 75 & NA & NA & familiar & visible & FALSE & no\\_stress & ... & 0 & NaN & 244, 267, 348, 397, 435, 501, 550, 616, 632, 706 & 265, 343, 389, 427, 494, 541, 590, 627, 688, 720 &  &  &  &  &  & \\\\\n",
       "\\end{tabular}\n"
      ],
      "text/markdown": [
       "\n",
       "A data.frame: 2 × 26\n",
       "\n",
       "| <!--/--> | folder_videoname &lt;chr&gt; | single_animal &lt;lgl&gt; | sex &lt;chr&gt; | age &lt;int&gt; | infusion_hpc &lt;chr&gt; | infusion_pfc &lt;chr&gt; | familiarity &lt;chr&gt; | lighting &lt;chr&gt; | partition &lt;lgl&gt; | stress &lt;chr&gt; | ... ... | fz_overlap &lt;dbl&gt; | cohen_d &lt;dbl&gt; | fz_start_sub1 &lt;list&gt; | fz_end_sub1 &lt;list&gt; | fz_start_sub2 &lt;list&gt; | fz_end_sub2 &lt;list&gt; | lagt_start_s1_s2 &lt;list&gt; | lagt_start_s2_s1 &lt;list&gt; | lagt_end_s1_s2 &lt;list&gt; | lagt_end_s2_s1 &lt;list&gt; |\n",
       "|---|---|---|---|---|---|---|---|---|---|---|---|---|---|---|---|---|---|---|---|---|---|\n",
       "| 1 | 20190408_testing_1_7a | TRUE | male | 75 | NA | NA | familiar | visible | FALSE | no_stress | ... | 0 | NaN | 253, 263, 287, 293, 311, 322, 331, 351, 378, 408, 463, 474, 527, 542, 640, 668, 715 | 262, 284, 290, 309, 314, 327, 340, 357, 397, 418, 470, 478, 538, 546, 648, 673, 720 | <!----> | <!----> | <!----> | <!----> | <!----> | <!----> |\n",
       "| 2 | 20190408_testing_1_7b | TRUE | male | 75 | NA | NA | familiar | visible | FALSE | no_stress | ... | 0 | NaN | 244, 267, 348, 397, 435, 501, 550, 616, 632, 706 | 265, 343, 389, 427, 494, 541, 590, 627, 688, 720 | <!----> | <!----> | <!----> | <!----> | <!----> | <!----> |\n",
       "\n"
      ],
      "text/plain": [
       "  folder_videoname      single_animal sex  age infusion_hpc infusion_pfc\n",
       "1 20190408_testing_1_7a TRUE          male 75  NA           NA          \n",
       "2 20190408_testing_1_7b TRUE          male 75  NA           NA          \n",
       "  familiarity lighting partition stress    ... fz_overlap cohen_d\n",
       "1 familiar    visible  FALSE     no_stress ... 0          NaN    \n",
       "2 familiar    visible  FALSE     no_stress ... 0          NaN    \n",
       "  fz_start_sub1                                                                      \n",
       "1 253, 263, 287, 293, 311, 322, 331, 351, 378, 408, 463, 474, 527, 542, 640, 668, 715\n",
       "2 244, 267, 348, 397, 435, 501, 550, 616, 632, 706                                   \n",
       "  fz_end_sub1                                                                        \n",
       "1 262, 284, 290, 309, 314, 327, 340, 357, 397, 418, 470, 478, 538, 546, 648, 673, 720\n",
       "2 265, 343, 389, 427, 494, 541, 590, 627, 688, 720                                   \n",
       "  fz_start_sub2 fz_end_sub2 lagt_start_s1_s2 lagt_start_s2_s1 lagt_end_s1_s2\n",
       "1                                                                           \n",
       "2                                                                           \n",
       "  lagt_end_s2_s1\n",
       "1               \n",
       "2               "
      ]
     },
     "metadata": {},
     "output_type": "display_data"
    }
   ],
   "source": [
    "# Load DF\n",
    "path = \"C:/Users/User/Dropbox/Jupyter/wataru/synchro_freeze\"\n",
    "base = \"data.Rda\"\n",
    "filename = file.path(path, base)\n",
    "load(file=filename)\n",
    "\n",
    "#######################################\n",
    "# Display summary\n",
    "dis_summary(df)"
   ]
  },
  {
   "cell_type": "markdown",
   "metadata": {},
   "source": [
    "**Select records**<BR>\n",
    "It's good to check using the data frame viewer in RStudio."
   ]
  },
  {
   "cell_type": "code",
   "execution_count": 45,
   "metadata": {},
   "outputs": [
    {
     "name": "stdout",
     "output_type": "stream",
     "text": [
      "dimension:  57 26 \n",
      "   folder_videoname       single_animal                 sex                 age \n",
      "        \"character\"           \"logical\"         \"character\"           \"integer\" \n",
      "       infusion_hpc        infusion_pfc         familiarity            lighting \n",
      "        \"character\"         \"character\"         \"character\"         \"character\" \n",
      "          partition              stress             comment             exclude \n",
      "          \"logical\"         \"character\"         \"character\"           \"logical\" \n",
      "  together_alone_id together_alone_role             fz_sub1             fz_sub2 \n",
      "           \"factor\"            \"factor\"           \"numeric\"           \"numeric\" \n",
      "         fz_overlap             cohen_d       fz_start_sub1         fz_end_sub1 \n",
      "          \"numeric\"           \"numeric\"              \"list\"              \"list\" \n",
      "      fz_start_sub2         fz_end_sub2    lagt_start_s1_s2    lagt_start_s2_s1 \n",
      "             \"list\"              \"list\"              \"list\"              \"list\" \n",
      "     lagt_end_s1_s2      lagt_end_s2_s1 \n",
      "             \"list\"              \"list\" \n"
     ]
    },
    {
     "data": {
      "text/html": [
       "<table>\n",
       "<caption>A data.frame: 2 × 26</caption>\n",
       "<thead>\n",
       "\t<tr><th></th><th scope=col>folder_videoname</th><th scope=col>single_animal</th><th scope=col>sex</th><th scope=col>age</th><th scope=col>infusion_hpc</th><th scope=col>infusion_pfc</th><th scope=col>familiarity</th><th scope=col>lighting</th><th scope=col>partition</th><th scope=col>stress</th><th scope=col>...</th><th scope=col>fz_overlap</th><th scope=col>cohen_d</th><th scope=col>fz_start_sub1</th><th scope=col>fz_end_sub1</th><th scope=col>fz_start_sub2</th><th scope=col>fz_end_sub2</th><th scope=col>lagt_start_s1_s2</th><th scope=col>lagt_start_s2_s1</th><th scope=col>lagt_end_s1_s2</th><th scope=col>lagt_end_s2_s1</th></tr>\n",
       "\t<tr><th></th><th scope=col>&lt;chr&gt;</th><th scope=col>&lt;lgl&gt;</th><th scope=col>&lt;chr&gt;</th><th scope=col>&lt;int&gt;</th><th scope=col>&lt;chr&gt;</th><th scope=col>&lt;chr&gt;</th><th scope=col>&lt;chr&gt;</th><th scope=col>&lt;chr&gt;</th><th scope=col>&lt;lgl&gt;</th><th scope=col>&lt;chr&gt;</th><th scope=col>...</th><th scope=col>&lt;dbl&gt;</th><th scope=col>&lt;dbl&gt;</th><th scope=col>&lt;list&gt;</th><th scope=col>&lt;list&gt;</th><th scope=col>&lt;list&gt;</th><th scope=col>&lt;list&gt;</th><th scope=col>&lt;list&gt;</th><th scope=col>&lt;list&gt;</th><th scope=col>&lt;list&gt;</th><th scope=col>&lt;list&gt;</th></tr>\n",
       "</thead>\n",
       "<tbody>\n",
       "\t<tr><th scope=row>5</th><td>20190408_testing_1_f10ab</td><td>FALSE</td><td>female</td><td>75</td><td>NA</td><td>NA</td><td>familiar</td><td>visible</td><td>FALSE</td><td>no_stress</td><td>...</td><td>18.95833</td><td>0.7708344</td><td>249, 255, 267, 294, 331, 353, 364, 375, 403, 424, 430, 519, 550, 563, 577, 599, 634, 652, 689</td><td>253, 262, 272, 299, 338, 359, 368, 383, 409, 429, 435, 525, 558, 568, 594, 615, 640, 657, 694</td><td>264, 295, 303, 313, 321, 343, 398, 410, 425, 438, 482, 494, 517, 533, 557, 637, 652, 675, 685, 708</td><td>273, 302, 307, 317, 340, 389, 406, 419, 437, 468, 491, 502, 528, 555, 567, 642, 660, 680, 704, 713</td><td>15, 9, -3, 1, -10, -10, -21, 23, -5, 1, -5, -2, 7, -6, -20, 38, 3, 0, -4</td><td>3, -1, -9, 18, 10, 10, 5, -7, -1, -8, 37, 25, 2, -14, 6, -3, 0, 14, 4, -19</td><td>20, 11, 1, 3, 2, -19, 21, 6, -3, 8, 2, 3, -3, -1, -27, 27, 2, 3, 10</td><td>-1, -3, -8, -18, -2, -6, 3, -10, -2, -33, 34, 23, -3, 3, 1, -2, -3, 14, -10, -19</td></tr>\n",
       "\t<tr><th scope=row>8</th><td>20190408_testing_1_f6ab </td><td>FALSE</td><td>female</td><td>75</td><td>NA</td><td>NA</td><td>familiar</td><td>visible</td><td>FALSE</td><td>no_stress</td><td>...</td><td>22.08333</td><td>1.5967085</td><td>267, 298, 341, 413, 536, 545, 560, 568, 580, 607, 630, 689, 712</td><td>272, 317, 407, 431, 543, 550, 565, 575, 586, 614, 675, 704, 720</td><td>289, 298, 338, 374, 516, 529, 550, 573, 584, 632, 646, 671, 704</td><td>296, 312, 363, 404, 521, 539, 564, 581, 595, 637, 651, 679, 712</td><td>22, 0, -3, -39, -7, 5, -10, 5, 4, -23, 2, 15, -8</td><td>9, 0, 3, -33, 20, 7, -5, -5, -4, -2, -16, 18, 8</td><td>24, -5, -3, -27, -4, -11, -1, 6, -5, -19, 4, 8, -8</td><td>21, 5, 44, 3, 22, 4, 1, 5, -9, -23, 24, -4, -8</td></tr>\n",
       "</tbody>\n",
       "</table>\n"
      ],
      "text/latex": [
       "A data.frame: 2 × 26\n",
       "\\begin{tabular}{r|lllllllllllllllllllll}\n",
       "  & folder\\_videoname & single\\_animal & sex & age & infusion\\_hpc & infusion\\_pfc & familiarity & lighting & partition & stress & ... & fz\\_overlap & cohen\\_d & fz\\_start\\_sub1 & fz\\_end\\_sub1 & fz\\_start\\_sub2 & fz\\_end\\_sub2 & lagt\\_start\\_s1\\_s2 & lagt\\_start\\_s2\\_s1 & lagt\\_end\\_s1\\_s2 & lagt\\_end\\_s2\\_s1\\\\\n",
       "  & <chr> & <lgl> & <chr> & <int> & <chr> & <chr> & <chr> & <chr> & <lgl> & <chr> & ... & <dbl> & <dbl> & <list> & <list> & <list> & <list> & <list> & <list> & <list> & <list>\\\\\n",
       "\\hline\n",
       "\t5 & 20190408\\_testing\\_1\\_f10ab & FALSE & female & 75 & NA & NA & familiar & visible & FALSE & no\\_stress & ... & 18.95833 & 0.7708344 & 249, 255, 267, 294, 331, 353, 364, 375, 403, 424, 430, 519, 550, 563, 577, 599, 634, 652, 689 & 253, 262, 272, 299, 338, 359, 368, 383, 409, 429, 435, 525, 558, 568, 594, 615, 640, 657, 694 & 264, 295, 303, 313, 321, 343, 398, 410, 425, 438, 482, 494, 517, 533, 557, 637, 652, 675, 685, 708 & 273, 302, 307, 317, 340, 389, 406, 419, 437, 468, 491, 502, 528, 555, 567, 642, 660, 680, 704, 713 & 15, 9, -3, 1, -10, -10, -21, 23, -5, 1, -5, -2, 7, -6, -20, 38, 3, 0, -4 & 3, -1, -9, 18, 10, 10, 5, -7, -1, -8, 37, 25, 2, -14, 6, -3, 0, 14, 4, -19 & 20, 11, 1, 3, 2, -19, 21, 6, -3, 8, 2, 3, -3, -1, -27, 27, 2, 3, 10 & -1, -3, -8, -18, -2, -6, 3, -10, -2, -33, 34, 23, -3, 3, 1, -2, -3, 14, -10, -19\\\\\n",
       "\t8 & 20190408\\_testing\\_1\\_f6ab  & FALSE & female & 75 & NA & NA & familiar & visible & FALSE & no\\_stress & ... & 22.08333 & 1.5967085 & 267, 298, 341, 413, 536, 545, 560, 568, 580, 607, 630, 689, 712 & 272, 317, 407, 431, 543, 550, 565, 575, 586, 614, 675, 704, 720 & 289, 298, 338, 374, 516, 529, 550, 573, 584, 632, 646, 671, 704 & 296, 312, 363, 404, 521, 539, 564, 581, 595, 637, 651, 679, 712 & 22, 0, -3, -39, -7, 5, -10, 5, 4, -23, 2, 15, -8 & 9, 0, 3, -33, 20, 7, -5, -5, -4, -2, -16, 18, 8 & 24, -5, -3, -27, -4, -11, -1, 6, -5, -19, 4, 8, -8 & 21, 5, 44, 3, 22, 4, 1, 5, -9, -23, 24, -4, -8\\\\\n",
       "\\end{tabular}\n"
      ],
      "text/markdown": [
       "\n",
       "A data.frame: 2 × 26\n",
       "\n",
       "| <!--/--> | folder_videoname &lt;chr&gt; | single_animal &lt;lgl&gt; | sex &lt;chr&gt; | age &lt;int&gt; | infusion_hpc &lt;chr&gt; | infusion_pfc &lt;chr&gt; | familiarity &lt;chr&gt; | lighting &lt;chr&gt; | partition &lt;lgl&gt; | stress &lt;chr&gt; | ... ... | fz_overlap &lt;dbl&gt; | cohen_d &lt;dbl&gt; | fz_start_sub1 &lt;list&gt; | fz_end_sub1 &lt;list&gt; | fz_start_sub2 &lt;list&gt; | fz_end_sub2 &lt;list&gt; | lagt_start_s1_s2 &lt;list&gt; | lagt_start_s2_s1 &lt;list&gt; | lagt_end_s1_s2 &lt;list&gt; | lagt_end_s2_s1 &lt;list&gt; |\n",
       "|---|---|---|---|---|---|---|---|---|---|---|---|---|---|---|---|---|---|---|---|---|---|\n",
       "| 5 | 20190408_testing_1_f10ab | FALSE | female | 75 | NA | NA | familiar | visible | FALSE | no_stress | ... | 18.95833 | 0.7708344 | 249, 255, 267, 294, 331, 353, 364, 375, 403, 424, 430, 519, 550, 563, 577, 599, 634, 652, 689 | 253, 262, 272, 299, 338, 359, 368, 383, 409, 429, 435, 525, 558, 568, 594, 615, 640, 657, 694 | 264, 295, 303, 313, 321, 343, 398, 410, 425, 438, 482, 494, 517, 533, 557, 637, 652, 675, 685, 708 | 273, 302, 307, 317, 340, 389, 406, 419, 437, 468, 491, 502, 528, 555, 567, 642, 660, 680, 704, 713 | 15, 9, -3, 1, -10, -10, -21, 23, -5, 1, -5, -2, 7, -6, -20, 38, 3, 0, -4 | 3, -1, -9, 18, 10, 10, 5, -7, -1, -8, 37, 25, 2, -14, 6, -3, 0, 14, 4, -19 | 20, 11, 1, 3, 2, -19, 21, 6, -3, 8, 2, 3, -3, -1, -27, 27, 2, 3, 10 | -1, -3, -8, -18, -2, -6, 3, -10, -2, -33, 34, 23, -3, 3, 1, -2, -3, 14, -10, -19 |\n",
       "| 8 | 20190408_testing_1_f6ab  | FALSE | female | 75 | NA | NA | familiar | visible | FALSE | no_stress | ... | 22.08333 | 1.5967085 | 267, 298, 341, 413, 536, 545, 560, 568, 580, 607, 630, 689, 712 | 272, 317, 407, 431, 543, 550, 565, 575, 586, 614, 675, 704, 720 | 289, 298, 338, 374, 516, 529, 550, 573, 584, 632, 646, 671, 704 | 296, 312, 363, 404, 521, 539, 564, 581, 595, 637, 651, 679, 712 | 22, 0, -3, -39, -7, 5, -10, 5, 4, -23, 2, 15, -8 | 9, 0, 3, -33, 20, 7, -5, -5, -4, -2, -16, 18, 8 | 24, -5, -3, -27, -4, -11, -1, 6, -5, -19, 4, 8, -8 | 21, 5, 44, 3, 22, 4, 1, 5, -9, -23, 24, -4, -8 |\n",
       "\n"
      ],
      "text/plain": [
       "  folder_videoname         single_animal sex    age infusion_hpc infusion_pfc\n",
       "5 20190408_testing_1_f10ab FALSE         female 75  NA           NA          \n",
       "8 20190408_testing_1_f6ab  FALSE         female 75  NA           NA          \n",
       "  familiarity lighting partition stress    ... fz_overlap cohen_d  \n",
       "5 familiar    visible  FALSE     no_stress ... 18.95833   0.7708344\n",
       "8 familiar    visible  FALSE     no_stress ... 22.08333   1.5967085\n",
       "  fz_start_sub1                                                                                \n",
       "5 249, 255, 267, 294, 331, 353, 364, 375, 403, 424, 430, 519, 550, 563, 577, 599, 634, 652, 689\n",
       "8 267, 298, 341, 413, 536, 545, 560, 568, 580, 607, 630, 689, 712                              \n",
       "  fz_end_sub1                                                                                  \n",
       "5 253, 262, 272, 299, 338, 359, 368, 383, 409, 429, 435, 525, 558, 568, 594, 615, 640, 657, 694\n",
       "8 272, 317, 407, 431, 543, 550, 565, 575, 586, 614, 675, 704, 720                              \n",
       "  fz_start_sub2                                                                                     \n",
       "5 264, 295, 303, 313, 321, 343, 398, 410, 425, 438, 482, 494, 517, 533, 557, 637, 652, 675, 685, 708\n",
       "8 289, 298, 338, 374, 516, 529, 550, 573, 584, 632, 646, 671, 704                                   \n",
       "  fz_end_sub2                                                                                       \n",
       "5 273, 302, 307, 317, 340, 389, 406, 419, 437, 468, 491, 502, 528, 555, 567, 642, 660, 680, 704, 713\n",
       "8 296, 312, 363, 404, 521, 539, 564, 581, 595, 637, 651, 679, 712                                   \n",
       "  lagt_start_s1_s2                                                        \n",
       "5 15, 9, -3, 1, -10, -10, -21, 23, -5, 1, -5, -2, 7, -6, -20, 38, 3, 0, -4\n",
       "8 22, 0, -3, -39, -7, 5, -10, 5, 4, -23, 2, 15, -8                        \n",
       "  lagt_start_s2_s1                                                          \n",
       "5 3, -1, -9, 18, 10, 10, 5, -7, -1, -8, 37, 25, 2, -14, 6, -3, 0, 14, 4, -19\n",
       "8 9, 0, 3, -33, 20, 7, -5, -5, -4, -2, -16, 18, 8                           \n",
       "  lagt_end_s1_s2                                                     \n",
       "5 20, 11, 1, 3, 2, -19, 21, 6, -3, 8, 2, 3, -3, -1, -27, 27, 2, 3, 10\n",
       "8 24, -5, -3, -27, -4, -11, -1, 6, -5, -19, 4, 8, -8                 \n",
       "  lagt_end_s2_s1                                                                  \n",
       "5 -1, -3, -8, -18, -2, -6, 3, -10, -2, -33, 34, 23, -3, 3, 1, -2, -3, 14, -10, -19\n",
       "8 21, 5, 44, 3, 22, 4, 1, 5, -9, -23, 24, -4, -8                                  "
      ]
     },
     "metadata": {},
     "output_type": "display_data"
    }
   ],
   "source": [
    "df.set1 <- subset(df, \n",
    "                  single_animal==FALSE & \n",
    "                  is.na(infusion_hpc)  &\n",
    "                  is.na(infusion_pfc)  & \n",
    "                  familiarity=='familiar' &\n",
    "                  # stress=='no_stress' &\n",
    "                  lighting =='visible' & \n",
    "                  partition==FALSE &\n",
    "                  exclude==FALSE)\n",
    "\n",
    "#######################################\n",
    "# Display summary\n",
    "dis_summary(df.set1)\n",
    "\n",
    "# Output as Excel file, not included with list\n",
    "df.input = df.set1\n",
    "path = \"C:/Users/User/Dropbox/Jupyter/wataru/synchro_freeze\"\n",
    "base = \"data_set1\"\n",
    "save_files(df.input,path,base)"
   ]
  },
  {
   "cell_type": "markdown",
   "metadata": {},
   "source": [
    "**Plot Cohen D for local infusion of muscimol at either PFC or vHippo**"
   ]
  },
  {
   "cell_type": "code",
   "execution_count": 51,
   "metadata": {},
   "outputs": [
    {
     "name": "stdout",
     "output_type": "stream",
     "text": [
      "sex : male , stress : no_stress , min: -1.067472 , mean: 1.856472 , max: 3.344061 , n: 19 , sd: 1.152362 \n",
      "sex : male , stress : stress , min: -1.809506 , mean: 0.2413453 , max: 2.296196 , n: 13 , sd: 1.112518 \n",
      "sex : female , stress : no_stress , min: -1.150091 , mean: 1.009998 , max: 2.437512 , n: 16 , sd: 1.098654 \n",
      "sex : female , stress : stress , min: 0.1903046 , mean: 2.225274 , max: 4.334237 , n: 9 , sd: 1.533727 \n"
     ]
    },
    {
     "data": {
      "image/png": "[encoded data removed]",
      "text/plain": [
       "plot without title"
      ]
     },
     "metadata": {
      "image/png": {
       "height": 360,
       "width": 480
      },
      "text/plain": {
       "height": 360,
       "width": 480
      }
     },
     "output_type": "display_data"
    }
   ],
   "source": [
    "###################################################################################################\n",
    "# Function box_plot\n",
    "###################################################################################################\n",
    "box_plot <- function(df.input, x1_col, y_col, select_col, select_value, yaxis_label){\n",
    "    #######################################################\n",
    "    # parameters to adjust graph\n",
    "    # graph width x height\n",
    "    # plot_width = 8\n",
    "    # plot_height = 6\n",
    "\n",
    "    # dotplot\n",
    "    dp_binwidth=0.2\n",
    "    dp_dotsize=0.8\n",
    "    \n",
    "    # y limits\n",
    "#     ylim1 = -1.2\n",
    "#     ylim2 = 4.0\n",
    "    \n",
    "    ylim1 = -3.0\n",
    "    ylim2 = 5.0\n",
    "\n",
    "    #######################################################\n",
    "    \n",
    "    # get column name\n",
    "    x1 <- names(df.input)[which (colnames(df.input)==x1_col)]\n",
    "    x2 <- names(df.input)[which (colnames(df.input)==select_col)]\n",
    "    y <- names(df.input)[which (colnames(df.input)==y_col)]\n",
    "    \n",
    "    # set the size of final plot\n",
    "    # options(repr.plot.width=plot_width, repr.plot.height=plot_height)\n",
    "\n",
    "    df.temp = df.input[df.input[,x2]==select_value,]\n",
    "    \n",
    "    for (x1_value in unique(df.temp[,x1])){\n",
    "        #print(min(df.temp[df.temp[,x1]==x1_value,y]))\n",
    "        cat(x2,\":\",select_value,\",\", x1,\":\",x1_value,\n",
    "            \", min:\",min(df.temp[df.temp[,x1]==x1_value,y]),\n",
    "            \", mean:\",mean(df.temp[df.temp[,x1]==x1_value,y]),\n",
    "            \", max:\",max(df.temp[df.temp[,x1]==x1_value,y]),\n",
    "            \", n:\",length(df.temp[df.temp[,x1]==x1_value,y]),\n",
    "            \", sd:\",sd(df.temp[df.temp[,x1]==x1_value,y]),\n",
    "            \"\\n\")\n",
    "    }\n",
    "    \n",
    "    \n",
    "    # set data frame and axes\n",
    "    ggp.output <- ggplot(df.temp, aes_string(x=x1, y=y, fill=x1))+\n",
    "        # add boxplot with mean and SEM (MeanSEM) or SD (MeanSD).\n",
    "        # stat_summary(fun.data=MeanSEM, geom=\"boxplot\", colour=\"black\", width=0.6)+\n",
    "        stat_summary(fun.data=MeanSD, geom=\"boxplot\", colour=\"black\", width=0.5)+\n",
    "        # Dotplot\n",
    "        geom_dotplot(binaxis='y', stackdir='center', binwidth=dp_binwidth, dotsize=dp_dotsize, fill='black')+\n",
    "        # y axis label\n",
    "        labs(y=yaxis_label)+\n",
    "        # Limit y axis range\n",
    "        ylim(c(ylim1, ylim2))+\n",
    "\n",
    "    # Remainings are all the same. No need to modify.\n",
    "        # Change filling color for box\n",
    "        scale_fill_manual(values=c(\"#FF3333\", \"#3333FF\"))+\n",
    "        # Change theme. Look at \"Complete themes\" above.\n",
    "        theme_bw()+\n",
    "        # Control of axes\n",
    "        theme(\n",
    "            axis.title.x = element_blank(),\n",
    "            axis.title.y = element_text(size=25,vjust=2,face='bold'),\n",
    "            axis.text=element_text(size=20))+    \n",
    "        # Control of legend\n",
    "        theme(\n",
    "            #legend.position = \"none\",\n",
    "            legend.position = 'bottom',\n",
    "            legend.direction = \"horizontal\",\n",
    "            #legend.title = element_text(size=20,face='bold'),\n",
    "            legend.title = element_blank(),\n",
    "            legend.text=element_text(size=20))\n",
    "    \n",
    "    return(ggp.output)\n",
    "}\n",
    "\n",
    "###################################################################################################\n",
    "# START HERE\n",
    "###################################################################################################\n",
    "# plot male\n",
    "df.input = df.set1\n",
    "x_col = \"stress\"            # x-axis is sex\n",
    "y_col = \"cohen_d\"        # y-axis is cohen_d\n",
    "select_col = \"sex\"\n",
    "select_value = \"male\"  # limit records with stress in the stress column\n",
    "y_axis_label = \"Cohen D\" # y-asix label\n",
    "\n",
    "out1_1 = box_plot(df.input, x_col, y_col, select_col, select_value, y_axis_label)\n",
    "\n",
    "# plot female\n",
    "df.input = df.set1\n",
    "select_value = \"female\"\n",
    "\n",
    "out1_2 = box_plot(df.input, x_col, y_col, select_col, select_value, y_axis_label)\n",
    "\n",
    "# plot the two plots together\n",
    "# set the size of final plot, width x height\n",
    "plot_width = 8\n",
    "plot_height= 6\n",
    "options(repr.plot.width=plot_width, repr.plot.height=plot_height)\n",
    "\n",
    "ggarrange(out1_1, out1_2, ncol=2)\n",
    "\n"
   ]
  },
  {
   "cell_type": "code",
   "execution_count": 52,
   "metadata": {},
   "outputs": [],
   "source": [
    "# Output eps file on desktop\n",
    "path = \"C:/Users/User/Desktop\"\n",
    "base = \"plot.eps\"\n",
    "filename = file.path(path, base)\n",
    "\n",
    "ggsave(filename, device=cairo_ps,width=plot_width, height=plot_height)"
   ]
  },
  {
   "cell_type": "markdown",
   "metadata": {},
   "source": [
    "**2-sample t-test**"
   ]
  },
  {
   "cell_type": "code",
   "execution_count": 47,
   "metadata": {
    "scrolled": true
   },
   "outputs": [
    {
     "name": "stdout",
     "output_type": "stream",
     "text": [
      "### (male, \tstress) \tvs. (male, \tno_stress) \t###\tp-value:  0.0004843286 \n",
      "### (female, \tstress) \tvs. (female, \tno_stress) \t###\tp-value:  0.05687947 \n"
     ]
    }
   ],
   "source": [
    "two_sample_t_test <- function(df.input, y_col, xa1_col, xa1_value, xa2_col, xa2_value,xb1_col, xb1_value, xb2_col, xb2_value){\n",
    "#############################################################\n",
    "# 2 sample t-test for (y_col), between\n",
    "#     (xa1_col) = xa1_value and (xa2_col) = xa2_value\n",
    "#     (xb1_col) = xb1_value and (xb2_col) = xb2_value\n",
    "#############################################################\n",
    "    # get index for each column name\n",
    "    xa1 <- names(df.input)[which (colnames(df.input)==xa1_col)]\n",
    "    xa2 <- names(df.input)[which (colnames(df.input)==xa2_col)]\n",
    "    xb1 <- names(df.input)[which (colnames(df.input)==xb1_col)]\n",
    "    xb2 <- names(df.input)[which (colnames(df.input)==xb2_col)]\n",
    "    y <- names(df.input)[which (colnames(df.input)==y_col)]\n",
    "    \n",
    "    # Extract data frame\n",
    "    temp.a = df.input[,y][df.input[,xa1]==xa1_value & df.input[,xa2]==xa2_value]\n",
    "    temp.b = df.input[,y][df.input[,xb1]==xb1_value & df.input[,xb2]==xb2_value]\n",
    "    \n",
    "    cat(paste0('### (',xa1_value,\", \\t\",xa2_value, \") \\tvs. (\", xb1_value, \", \\t\", xb2_value, \") \\t###\\t\"))\n",
    "    temp.test <- t.test(temp.a, temp.b)\n",
    "    cat(\"p-value: \",temp.test[[\"p.value\"]],\"\\n\")\n",
    "    # detailed information\n",
    "    #print(temp.test)\n",
    "\n",
    "    return(temp.test)\n",
    "}\n",
    "\n",
    "df.input = df.set1\n",
    "temp = two_sample_t_test(df.input, \"cohen_d\",\n",
    "                        \"sex\",\"male\",\"stress\",\"stress\",\n",
    "                        \"sex\",\"male\",\"stress\",\"no_stress\")\n",
    "\n",
    "\n",
    "df.input = df.set1\n",
    "temp = two_sample_t_test(df.input, \"cohen_d\",\n",
    "                        \"sex\",\"female\",\"stress\",\"stress\",\n",
    "                        \"sex\",\"female\",\"stress\",\"no_stress\")\n"
   ]
  },
  {
   "cell_type": "markdown",
   "metadata": {},
   "source": [
    "---\n",
    "**Compute the average from sub1 and sub2 freezing into a new column 'fz_ave'**"
   ]
  },
  {
   "cell_type": "code",
   "execution_count": 48,
   "metadata": {
    "scrolled": true
   },
   "outputs": [
    {
     "name": "stdout",
     "output_type": "stream",
     "text": [
      "dimension:  57 27 \n",
      "   folder_videoname       single_animal                 sex                 age \n",
      "        \"character\"           \"logical\"         \"character\"           \"integer\" \n",
      "       infusion_hpc        infusion_pfc         familiarity            lighting \n",
      "        \"character\"         \"character\"         \"character\"         \"character\" \n",
      "          partition              stress             comment             exclude \n",
      "          \"logical\"         \"character\"         \"character\"           \"logical\" \n",
      "  together_alone_id together_alone_role             fz_sub1             fz_sub2 \n",
      "           \"factor\"            \"factor\"           \"numeric\"           \"numeric\" \n",
      "         fz_overlap             cohen_d       fz_start_sub1         fz_end_sub1 \n",
      "          \"numeric\"           \"numeric\"              \"list\"              \"list\" \n",
      "      fz_start_sub2         fz_end_sub2    lagt_start_s1_s2    lagt_start_s2_s1 \n",
      "             \"list\"              \"list\"              \"list\"              \"list\" \n",
      "     lagt_end_s1_s2      lagt_end_s2_s1              fz_ave \n",
      "             \"list\"              \"list\"           \"numeric\" \n"
     ]
    },
    {
     "data": {
      "text/html": [
       "<table>\n",
       "<caption>A data.frame: 2 × 27</caption>\n",
       "<thead>\n",
       "\t<tr><th></th><th scope=col>folder_videoname</th><th scope=col>single_animal</th><th scope=col>sex</th><th scope=col>age</th><th scope=col>infusion_hpc</th><th scope=col>infusion_pfc</th><th scope=col>familiarity</th><th scope=col>lighting</th><th scope=col>partition</th><th scope=col>stress</th><th scope=col>...</th><th scope=col>cohen_d</th><th scope=col>fz_start_sub1</th><th scope=col>fz_end_sub1</th><th scope=col>fz_start_sub2</th><th scope=col>fz_end_sub2</th><th scope=col>lagt_start_s1_s2</th><th scope=col>lagt_start_s2_s1</th><th scope=col>lagt_end_s1_s2</th><th scope=col>lagt_end_s2_s1</th><th scope=col>fz_ave</th></tr>\n",
       "\t<tr><th></th><th scope=col>&lt;chr&gt;</th><th scope=col>&lt;lgl&gt;</th><th scope=col>&lt;chr&gt;</th><th scope=col>&lt;int&gt;</th><th scope=col>&lt;chr&gt;</th><th scope=col>&lt;chr&gt;</th><th scope=col>&lt;chr&gt;</th><th scope=col>&lt;chr&gt;</th><th scope=col>&lt;lgl&gt;</th><th scope=col>&lt;chr&gt;</th><th scope=col>...</th><th scope=col>&lt;dbl&gt;</th><th scope=col>&lt;list&gt;</th><th scope=col>&lt;list&gt;</th><th scope=col>&lt;list&gt;</th><th scope=col>&lt;list&gt;</th><th scope=col>&lt;list&gt;</th><th scope=col>&lt;list&gt;</th><th scope=col>&lt;list&gt;</th><th scope=col>&lt;list&gt;</th><th scope=col>&lt;dbl&gt;</th></tr>\n",
       "</thead>\n",
       "<tbody>\n",
       "\t<tr><th scope=row>5</th><td>20190408_testing_1_f10ab</td><td>FALSE</td><td>female</td><td>75</td><td>NA</td><td>NA</td><td>familiar</td><td>visible</td><td>FALSE</td><td>no_stress</td><td>...</td><td>0.7708344</td><td>249, 255, 267, 294, 331, 353, 364, 375, 403, 424, 430, 519, 550, 563, 577, 599, 634, 652, 689</td><td>253, 262, 272, 299, 338, 359, 368, 383, 409, 429, 435, 525, 558, 568, 594, 615, 640, 657, 694</td><td>264, 295, 303, 313, 321, 343, 398, 410, 425, 438, 482, 494, 517, 533, 557, 637, 652, 675, 685, 708</td><td>273, 302, 307, 317, 340, 389, 406, 419, 437, 468, 491, 502, 528, 555, 567, 642, 660, 680, 704, 713</td><td>15, 9, -3, 1, -10, -10, -21, 23, -5, 1, -5, -2, 7, -6, -20, 38, 3, 0, -4</td><td>3, -1, -9, 18, 10, 10, 5, -7, -1, -8, 37, 25, 2, -14, 6, -3, 0, 14, 4, -19</td><td>20, 11, 1, 3, 2, -19, 21, 6, -3, 8, 2, 3, -3, -1, -27, 27, 2, 3, 10</td><td>-1, -3, -8, -18, -2, -6, 3, -10, -2, -33, 34, 23, -3, 3, 1, -2, -3, 14, -10, -19</td><td>43.64583</td></tr>\n",
       "\t<tr><th scope=row>8</th><td>20190408_testing_1_f6ab </td><td>FALSE</td><td>female</td><td>75</td><td>NA</td><td>NA</td><td>familiar</td><td>visible</td><td>FALSE</td><td>no_stress</td><td>...</td><td>1.5967085</td><td>267, 298, 341, 413, 536, 545, 560, 568, 580, 607, 630, 689, 712</td><td>272, 317, 407, 431, 543, 550, 565, 575, 586, 614, 675, 704, 720</td><td>289, 298, 338, 374, 516, 529, 550, 573, 584, 632, 646, 671, 704</td><td>296, 312, 363, 404, 521, 539, 564, 581, 595, 637, 651, 679, 712</td><td>22, 0, -3, -39, -7, 5, -10, 5, 4, -23, 2, 15, -8</td><td>9, 0, 3, -33, 20, 7, -5, -5, -4, -2, -16, 18, 8</td><td>24, -5, -3, -27, -4, -11, -1, 6, -5, -19, 4, 8, -8</td><td>21, 5, 44, 3, 22, 4, 1, 5, -9, -23, 24, -4, -8</td><td>40.52083</td></tr>\n",
       "</tbody>\n",
       "</table>\n"
      ],
      "text/latex": [
       "A data.frame: 2 × 27\n",
       "\\begin{tabular}{r|lllllllllllllllllllll}\n",
       "  & folder\\_videoname & single\\_animal & sex & age & infusion\\_hpc & infusion\\_pfc & familiarity & lighting & partition & stress & ... & cohen\\_d & fz\\_start\\_sub1 & fz\\_end\\_sub1 & fz\\_start\\_sub2 & fz\\_end\\_sub2 & lagt\\_start\\_s1\\_s2 & lagt\\_start\\_s2\\_s1 & lagt\\_end\\_s1\\_s2 & lagt\\_end\\_s2\\_s1 & fz\\_ave\\\\\n",
       "  & <chr> & <lgl> & <chr> & <int> & <chr> & <chr> & <chr> & <chr> & <lgl> & <chr> & ... & <dbl> & <list> & <list> & <list> & <list> & <list> & <list> & <list> & <list> & <dbl>\\\\\n",
       "\\hline\n",
       "\t5 & 20190408\\_testing\\_1\\_f10ab & FALSE & female & 75 & NA & NA & familiar & visible & FALSE & no\\_stress & ... & 0.7708344 & 249, 255, 267, 294, 331, 353, 364, 375, 403, 424, 430, 519, 550, 563, 577, 599, 634, 652, 689 & 253, 262, 272, 299, 338, 359, 368, 383, 409, 429, 435, 525, 558, 568, 594, 615, 640, 657, 694 & 264, 295, 303, 313, 321, 343, 398, 410, 425, 438, 482, 494, 517, 533, 557, 637, 652, 675, 685, 708 & 273, 302, 307, 317, 340, 389, 406, 419, 437, 468, 491, 502, 528, 555, 567, 642, 660, 680, 704, 713 & 15, 9, -3, 1, -10, -10, -21, 23, -5, 1, -5, -2, 7, -6, -20, 38, 3, 0, -4 & 3, -1, -9, 18, 10, 10, 5, -7, -1, -8, 37, 25, 2, -14, 6, -3, 0, 14, 4, -19 & 20, 11, 1, 3, 2, -19, 21, 6, -3, 8, 2, 3, -3, -1, -27, 27, 2, 3, 10 & -1, -3, -8, -18, -2, -6, 3, -10, -2, -33, 34, 23, -3, 3, 1, -2, -3, 14, -10, -19 & 43.64583\\\\\n",
       "\t8 & 20190408\\_testing\\_1\\_f6ab  & FALSE & female & 75 & NA & NA & familiar & visible & FALSE & no\\_stress & ... & 1.5967085 & 267, 298, 341, 413, 536, 545, 560, 568, 580, 607, 630, 689, 712 & 272, 317, 407, 431, 543, 550, 565, 575, 586, 614, 675, 704, 720 & 289, 298, 338, 374, 516, 529, 550, 573, 584, 632, 646, 671, 704 & 296, 312, 363, 404, 521, 539, 564, 581, 595, 637, 651, 679, 712 & 22, 0, -3, -39, -7, 5, -10, 5, 4, -23, 2, 15, -8 & 9, 0, 3, -33, 20, 7, -5, -5, -4, -2, -16, 18, 8 & 24, -5, -3, -27, -4, -11, -1, 6, -5, -19, 4, 8, -8 & 21, 5, 44, 3, 22, 4, 1, 5, -9, -23, 24, -4, -8 & 40.52083\\\\\n",
       "\\end{tabular}\n"
      ],
      "text/markdown": [
       "\n",
       "A data.frame: 2 × 27\n",
       "\n",
       "| <!--/--> | folder_videoname &lt;chr&gt; | single_animal &lt;lgl&gt; | sex &lt;chr&gt; | age &lt;int&gt; | infusion_hpc &lt;chr&gt; | infusion_pfc &lt;chr&gt; | familiarity &lt;chr&gt; | lighting &lt;chr&gt; | partition &lt;lgl&gt; | stress &lt;chr&gt; | ... ... | cohen_d &lt;dbl&gt; | fz_start_sub1 &lt;list&gt; | fz_end_sub1 &lt;list&gt; | fz_start_sub2 &lt;list&gt; | fz_end_sub2 &lt;list&gt; | lagt_start_s1_s2 &lt;list&gt; | lagt_start_s2_s1 &lt;list&gt; | lagt_end_s1_s2 &lt;list&gt; | lagt_end_s2_s1 &lt;list&gt; | fz_ave &lt;dbl&gt; |\n",
       "|---|---|---|---|---|---|---|---|---|---|---|---|---|---|---|---|---|---|---|---|---|---|\n",
       "| 5 | 20190408_testing_1_f10ab | FALSE | female | 75 | NA | NA | familiar | visible | FALSE | no_stress | ... | 0.7708344 | 249, 255, 267, 294, 331, 353, 364, 375, 403, 424, 430, 519, 550, 563, 577, 599, 634, 652, 689 | 253, 262, 272, 299, 338, 359, 368, 383, 409, 429, 435, 525, 558, 568, 594, 615, 640, 657, 694 | 264, 295, 303, 313, 321, 343, 398, 410, 425, 438, 482, 494, 517, 533, 557, 637, 652, 675, 685, 708 | 273, 302, 307, 317, 340, 389, 406, 419, 437, 468, 491, 502, 528, 555, 567, 642, 660, 680, 704, 713 | 15, 9, -3, 1, -10, -10, -21, 23, -5, 1, -5, -2, 7, -6, -20, 38, 3, 0, -4 | 3, -1, -9, 18, 10, 10, 5, -7, -1, -8, 37, 25, 2, -14, 6, -3, 0, 14, 4, -19 | 20, 11, 1, 3, 2, -19, 21, 6, -3, 8, 2, 3, -3, -1, -27, 27, 2, 3, 10 | -1, -3, -8, -18, -2, -6, 3, -10, -2, -33, 34, 23, -3, 3, 1, -2, -3, 14, -10, -19 | 43.64583 |\n",
       "| 8 | 20190408_testing_1_f6ab  | FALSE | female | 75 | NA | NA | familiar | visible | FALSE | no_stress | ... | 1.5967085 | 267, 298, 341, 413, 536, 545, 560, 568, 580, 607, 630, 689, 712 | 272, 317, 407, 431, 543, 550, 565, 575, 586, 614, 675, 704, 720 | 289, 298, 338, 374, 516, 529, 550, 573, 584, 632, 646, 671, 704 | 296, 312, 363, 404, 521, 539, 564, 581, 595, 637, 651, 679, 712 | 22, 0, -3, -39, -7, 5, -10, 5, 4, -23, 2, 15, -8 | 9, 0, 3, -33, 20, 7, -5, -5, -4, -2, -16, 18, 8 | 24, -5, -3, -27, -4, -11, -1, 6, -5, -19, 4, 8, -8 | 21, 5, 44, 3, 22, 4, 1, 5, -9, -23, 24, -4, -8 | 40.52083 |\n",
       "\n"
      ],
      "text/plain": [
       "  folder_videoname         single_animal sex    age infusion_hpc infusion_pfc\n",
       "5 20190408_testing_1_f10ab FALSE         female 75  NA           NA          \n",
       "8 20190408_testing_1_f6ab  FALSE         female 75  NA           NA          \n",
       "  familiarity lighting partition stress    ... cohen_d  \n",
       "5 familiar    visible  FALSE     no_stress ... 0.7708344\n",
       "8 familiar    visible  FALSE     no_stress ... 1.5967085\n",
       "  fz_start_sub1                                                                                \n",
       "5 249, 255, 267, 294, 331, 353, 364, 375, 403, 424, 430, 519, 550, 563, 577, 599, 634, 652, 689\n",
       "8 267, 298, 341, 413, 536, 545, 560, 568, 580, 607, 630, 689, 712                              \n",
       "  fz_end_sub1                                                                                  \n",
       "5 253, 262, 272, 299, 338, 359, 368, 383, 409, 429, 435, 525, 558, 568, 594, 615, 640, 657, 694\n",
       "8 272, 317, 407, 431, 543, 550, 565, 575, 586, 614, 675, 704, 720                              \n",
       "  fz_start_sub2                                                                                     \n",
       "5 264, 295, 303, 313, 321, 343, 398, 410, 425, 438, 482, 494, 517, 533, 557, 637, 652, 675, 685, 708\n",
       "8 289, 298, 338, 374, 516, 529, 550, 573, 584, 632, 646, 671, 704                                   \n",
       "  fz_end_sub2                                                                                       \n",
       "5 273, 302, 307, 317, 340, 389, 406, 419, 437, 468, 491, 502, 528, 555, 567, 642, 660, 680, 704, 713\n",
       "8 296, 312, 363, 404, 521, 539, 564, 581, 595, 637, 651, 679, 712                                   \n",
       "  lagt_start_s1_s2                                                        \n",
       "5 15, 9, -3, 1, -10, -10, -21, 23, -5, 1, -5, -2, 7, -6, -20, 38, 3, 0, -4\n",
       "8 22, 0, -3, -39, -7, 5, -10, 5, 4, -23, 2, 15, -8                        \n",
       "  lagt_start_s2_s1                                                          \n",
       "5 3, -1, -9, 18, 10, 10, 5, -7, -1, -8, 37, 25, 2, -14, 6, -3, 0, 14, 4, -19\n",
       "8 9, 0, 3, -33, 20, 7, -5, -5, -4, -2, -16, 18, 8                           \n",
       "  lagt_end_s1_s2                                                     \n",
       "5 20, 11, 1, 3, 2, -19, 21, 6, -3, 8, 2, 3, -3, -1, -27, 27, 2, 3, 10\n",
       "8 24, -5, -3, -27, -4, -11, -1, 6, -5, -19, 4, 8, -8                 \n",
       "  lagt_end_s2_s1                                                                  \n",
       "5 -1, -3, -8, -18, -2, -6, 3, -10, -2, -33, 34, 23, -3, 3, 1, -2, -3, 14, -10, -19\n",
       "8 21, 5, 44, 3, 22, 4, 1, 5, -9, -23, 24, -4, -8                                  \n",
       "  fz_ave  \n",
       "5 43.64583\n",
       "8 40.52083"
      ]
     },
     "metadata": {},
     "output_type": "display_data"
    }
   ],
   "source": [
    "df.set1['fz_ave'] = (df.set1['fz_sub1'] + df.set1['fz_sub2']) / 2\n",
    "\n",
    "#######################################\n",
    "# Display summary\n",
    "dis_summary(df.set1)"
   ]
  },
  {
   "cell_type": "markdown",
   "metadata": {},
   "source": [
    "**plot the graphs**"
   ]
  },
  {
   "cell_type": "code",
   "execution_count": 53,
   "metadata": {},
   "outputs": [
    {
     "name": "stdout",
     "output_type": "stream",
     "text": [
      "sex : male , stress : no_stress , min: 6.875 , mean: 40.07675 , max: 67.8125 , n: 19 , sd: 19.14976 \n",
      "sex : male , stress : stress , min: 15 , mean: 39.21474 , max: 66.66667 , n: 13 , sd: 16.92778 \n",
      "sex : female , stress : no_stress , min: 14.375 , mean: 47.08984 , max: 65.9375 , n: 16 , sd: 14.80528 \n",
      "sex : female , stress : stress , min: 41.875 , mean: 65.69444 , max: 83.64583 , n: 9 , sd: 13.98066 \n"
     ]
    },
    {
     "data": {
      "image/png": "[encoded data removed]",
      "text/plain": [
       "plot without title"
      ]
     },
     "metadata": {
      "image/png": {
       "height": 360,
       "width": 480
      },
      "text/plain": {
       "height": 360,
       "width": 480
      }
     },
     "output_type": "display_data"
    }
   ],
   "source": [
    "###################################################################################################\n",
    "# Function box_plot\n",
    "###################################################################################################\n",
    "box_plot <- function(df.input, x1_col, y_col, select_col, select_value, yaxis_label){\n",
    "    #######################################################\n",
    "    # parameters to adjust graph\n",
    "    # graph width x height\n",
    "    # plot_width = 8\n",
    "    # plot_height = 6\n",
    "\n",
    "    # dotplot\n",
    "    dp_binwidth=0.7\n",
    "    dp_dotsize=3\n",
    "    \n",
    "    # y limits\n",
    "    ylim1 = 0\n",
    "    ylim2 = 90\n",
    "\n",
    "#     ylim1 = -2\n",
    "#     ylim2 = 90\n",
    "    #######################################################\n",
    "    \n",
    "    # get column name\n",
    "    x1 <- names(df.input)[which (colnames(df.input)==x1_col)]\n",
    "    x2 <- names(df.input)[which (colnames(df.input)==select_col)]\n",
    "    y <- names(df.input)[which (colnames(df.input)==y_col)]\n",
    "    \n",
    "    # set the size of final plot\n",
    "    # options(repr.plot.width=plot_width, repr.plot.height=plot_height)\n",
    "\n",
    "    df.temp = df.input[df.input[,x2]==select_value,]\n",
    "    \n",
    "    for (x1_value in unique(df.temp[,x1])){\n",
    "        #print(min(df.temp[df.temp[,x1]==x1_value,y]))\n",
    "        cat(x2,\":\",select_value,\",\", x1,\":\",x1_value,\n",
    "            \", min:\",min(df.temp[df.temp[,x1]==x1_value,y]),\n",
    "            \", mean:\",mean(df.temp[df.temp[,x1]==x1_value,y]),\n",
    "            \", max:\",max(df.temp[df.temp[,x1]==x1_value,y]),\n",
    "            \", n:\",length(df.temp[df.temp[,x1]==x1_value,y]),\n",
    "            \", sd:\",sd(df.temp[df.temp[,x1]==x1_value,y]),\n",
    "            \"\\n\")\n",
    "    }\n",
    "    \n",
    "    \n",
    "    # set data frame and axes\n",
    "    ggp.output <- ggplot(df.temp, aes_string(x=x1, y=y, fill=x1))+\n",
    "        # add boxplot with mean and SEM (MeanSEM) or SD (MeanSD).\n",
    "        # stat_summary(fun.data=MeanSEM, geom=\"boxplot\", colour=\"black\", width=0.6)+\n",
    "        stat_summary(fun.data=MeanSD, geom=\"boxplot\", colour=\"black\", width=0.5)+\n",
    "        # Dotplot\n",
    "        geom_dotplot(binaxis='y', stackdir='center', binwidth=dp_binwidth, dotsize=dp_dotsize, fill='black')+\n",
    "        # y axis label\n",
    "        labs(y=yaxis_label)+\n",
    "        # Limit y axis range\n",
    "        ylim(c(ylim1, ylim2))+\n",
    "\n",
    "    # Remainings are all the same. No need to modify.\n",
    "        # Change filling color for box\n",
    "        scale_fill_manual(values=c(\"#FF3333\", \"#3333FF\"))+\n",
    "        # Change theme. Look at \"Complete themes\" above.\n",
    "        theme_bw()+\n",
    "        # Control of axes\n",
    "        theme(\n",
    "            axis.title.x = element_blank(),\n",
    "            axis.title.y = element_text(size=25,vjust=2,face='bold'),\n",
    "            axis.text=element_text(size=20))+    \n",
    "        # Control of legend\n",
    "        theme(\n",
    "            #legend.position = \"none\",\n",
    "            legend.position = 'bottom',\n",
    "            legend.direction = \"horizontal\",\n",
    "            #legend.title = element_text(size=20,face='bold'),\n",
    "            legend.title = element_blank(),\n",
    "            legend.text=element_text(size=20))\n",
    "    \n",
    "    return(ggp.output)\n",
    "}\n",
    "\n",
    "###################################################################################################\n",
    "# START HERE\n",
    "###################################################################################################\n",
    "\n",
    "df.input = df.set1\n",
    "out2_1 = box_plot(df.input, \"stress\",\"fz_ave\", \"sex\", \"male\",\"Freezing (%)\")\n",
    "\n",
    "df.input = df.set1\n",
    "out2_2 = box_plot(df.input, \"stress\",\"fz_ave\", \"sex\", \"female\",\"Freezing (%)\")\n",
    "\n",
    "# plot the two plots\n",
    "# set the size of final plot, width x height\n",
    "plot_width = 8\n",
    "plot_height = 6\n",
    "options(repr.plot.width=plot_width, repr.plot.height=plot_height)\n",
    "\n",
    "ggarrange(out2_1, out2_2, ncol=2)"
   ]
  },
  {
   "cell_type": "markdown",
   "metadata": {},
   "source": [
    "**Export the plot as an eps file**"
   ]
  },
  {
   "cell_type": "code",
   "execution_count": 54,
   "metadata": {},
   "outputs": [],
   "source": [
    "# Output eps file on desktop\n",
    "path = \"C:/Users/User/Desktop\"\n",
    "base = \"plot.eps\"\n",
    "filename = file.path(path, base)\n",
    "\n",
    "ggsave(filename, device=cairo_ps,width=plot_width, height=plot_height)"
   ]
  },
  {
   "cell_type": "markdown",
   "metadata": {},
   "source": [
    "**2-sample t-test**"
   ]
  },
  {
   "cell_type": "code",
   "execution_count": 50,
   "metadata": {},
   "outputs": [
    {
     "name": "stdout",
     "output_type": "stream",
     "text": [
      "### (male, \tstress) \tvs. (male, \tno_stress) \t###\tp-value:  0.8943133 \n",
      "### (female, \tstress) \tvs. (female, \tno_stress) \t###\tp-value:  0.005970931 \n"
     ]
    }
   ],
   "source": [
    "two_sample_t_test <- function(df.input, y_col, xa1_col, xa1_value, xa2_col, xa2_value,xb1_col, xb1_value, xb2_col, xb2_value){\n",
    "#############################################################\n",
    "# 2 sample t-test for (y_col), between\n",
    "#     (xa1_col) = xa1_value and (xa2_col) = xa2_value\n",
    "#     (xb1_col) = xb1_value and (xb2_col) = xb2_value\n",
    "#############################################################\n",
    "    # get index for each column name\n",
    "    xa1 <- names(df.input)[which (colnames(df.input)==xa1_col)]\n",
    "    xa2 <- names(df.input)[which (colnames(df.input)==xa2_col)]\n",
    "    xb1 <- names(df.input)[which (colnames(df.input)==xb1_col)]\n",
    "    xb2 <- names(df.input)[which (colnames(df.input)==xb2_col)]\n",
    "    y <- names(df.input)[which (colnames(df.input)==y_col)]\n",
    "    \n",
    "    # Extract data frame\n",
    "    temp.a = df.input[,y][df.input[,xa1]==xa1_value & df.input[,xa2]==xa2_value]\n",
    "    temp.b = df.input[,y][df.input[,xb1]==xb1_value & df.input[,xb2]==xb2_value]\n",
    "    \n",
    "    cat(paste0('### (',xa1_value,\", \\t\",xa2_value, \") \\tvs. (\", xb1_value, \", \\t\", xb2_value, \") \\t###\\t\"))\n",
    "    temp.test <- t.test(temp.a, temp.b)\n",
    "    cat(\"p-value: \",temp.test[[\"p.value\"]],\"\\n\")\n",
    "    # detailed information\n",
    "    #print(temp.test)\n",
    "    \n",
    "    return(temp.test)\n",
    "}\n",
    "\n",
    "\n",
    "df.input = df.set1\n",
    "temp = two_sample_t_test(df.input, \"fz_ave\",\n",
    "                         \"sex\",\"male\",\"stress\",\"stress\",\n",
    "                         \"sex\",\"male\",\"stress\",\"no_stress\")\n",
    "\n",
    "df.input = df.set1\n",
    "temp = two_sample_t_test(df.input, \"fz_ave\",\n",
    "                         \"sex\",\"female\",\"stress\",\"stress\",\n",
    "                         \"sex\",\"female\",\"stress\",\"no_stress\")\n"
   ]
  },
  {
   "cell_type": "markdown",
   "metadata": {},
   "source": [
    "---\n",
    "## Step 10. Sex effects on distribution of lagtime for onset and offset of freezing\n",
    "**Load R dataframe**"
   ]
  },
  {
   "cell_type": "code",
   "execution_count": 73,
   "metadata": {},
   "outputs": [
    {
     "name": "stdout",
     "output_type": "stream",
     "text": [
      "dimension:  216 26 \n",
      "   folder_videoname       single_animal                 sex                 age \n",
      "        \"character\"           \"logical\"         \"character\"           \"integer\" \n",
      "       infusion_hpc        infusion_pfc         familiarity            lighting \n",
      "        \"character\"         \"character\"         \"character\"         \"character\" \n",
      "          partition              stress             comment             exclude \n",
      "          \"logical\"         \"character\"         \"character\"           \"logical\" \n",
      "  together_alone_id together_alone_role             fz_sub1             fz_sub2 \n",
      "           \"factor\"            \"factor\"           \"numeric\"           \"numeric\" \n",
      "         fz_overlap             cohen_d       fz_start_sub1         fz_end_sub1 \n",
      "          \"numeric\"           \"numeric\"              \"list\"              \"list\" \n",
      "      fz_start_sub2         fz_end_sub2    lagt_start_s1_s2    lagt_start_s2_s1 \n",
      "             \"list\"              \"list\"              \"list\"              \"list\" \n",
      "     lagt_end_s1_s2      lagt_end_s2_s1 \n",
      "             \"list\"              \"list\" \n"
     ]
    },
    {
     "data": {
      "text/html": [
       "<table>\n",
       "<caption>A data.frame: 2 × 26</caption>\n",
       "<thead>\n",
       "\t<tr><th></th><th scope=col>folder_videoname</th><th scope=col>single_animal</th><th scope=col>sex</th><th scope=col>age</th><th scope=col>infusion_hpc</th><th scope=col>infusion_pfc</th><th scope=col>familiarity</th><th scope=col>lighting</th><th scope=col>partition</th><th scope=col>stress</th><th scope=col>...</th><th scope=col>fz_overlap</th><th scope=col>cohen_d</th><th scope=col>fz_start_sub1</th><th scope=col>fz_end_sub1</th><th scope=col>fz_start_sub2</th><th scope=col>fz_end_sub2</th><th scope=col>lagt_start_s1_s2</th><th scope=col>lagt_start_s2_s1</th><th scope=col>lagt_end_s1_s2</th><th scope=col>lagt_end_s2_s1</th></tr>\n",
       "\t<tr><th></th><th scope=col>&lt;chr&gt;</th><th scope=col>&lt;lgl&gt;</th><th scope=col>&lt;chr&gt;</th><th scope=col>&lt;int&gt;</th><th scope=col>&lt;chr&gt;</th><th scope=col>&lt;chr&gt;</th><th scope=col>&lt;chr&gt;</th><th scope=col>&lt;chr&gt;</th><th scope=col>&lt;lgl&gt;</th><th scope=col>&lt;chr&gt;</th><th scope=col>...</th><th scope=col>&lt;dbl&gt;</th><th scope=col>&lt;dbl&gt;</th><th scope=col>&lt;list&gt;</th><th scope=col>&lt;list&gt;</th><th scope=col>&lt;list&gt;</th><th scope=col>&lt;list&gt;</th><th scope=col>&lt;list&gt;</th><th scope=col>&lt;list&gt;</th><th scope=col>&lt;list&gt;</th><th scope=col>&lt;list&gt;</th></tr>\n",
       "</thead>\n",
       "<tbody>\n",
       "\t<tr><th scope=row>1</th><td>20190408_testing_1_7a</td><td>TRUE</td><td>male</td><td>75</td><td>NA</td><td>NA</td><td>familiar</td><td>visible</td><td>FALSE</td><td>no_stress</td><td>...</td><td>0</td><td>NaN</td><td>253, 263, 287, 293, 311, 322, 331, 351, 378, 408, 463, 474, 527, 542, 640, 668, 715</td><td>262, 284, 290, 309, 314, 327, 340, 357, 397, 418, 470, 478, 538, 546, 648, 673, 720</td><td></td><td></td><td></td><td></td><td></td><td></td></tr>\n",
       "\t<tr><th scope=row>2</th><td>20190408_testing_1_7b</td><td>TRUE</td><td>male</td><td>75</td><td>NA</td><td>NA</td><td>familiar</td><td>visible</td><td>FALSE</td><td>no_stress</td><td>...</td><td>0</td><td>NaN</td><td>244, 267, 348, 397, 435, 501, 550, 616, 632, 706</td><td>265, 343, 389, 427, 494, 541, 590, 627, 688, 720</td><td></td><td></td><td></td><td></td><td></td><td></td></tr>\n",
       "</tbody>\n",
       "</table>\n"
      ],
      "text/latex": [
       "A data.frame: 2 × 26\n",
       "\\begin{tabular}{r|lllllllllllllllllllll}\n",
       "  & folder\\_videoname & single\\_animal & sex & age & infusion\\_hpc & infusion\\_pfc & familiarity & lighting & partition & stress & ... & fz\\_overlap & cohen\\_d & fz\\_start\\_sub1 & fz\\_end\\_sub1 & fz\\_start\\_sub2 & fz\\_end\\_sub2 & lagt\\_start\\_s1\\_s2 & lagt\\_start\\_s2\\_s1 & lagt\\_end\\_s1\\_s2 & lagt\\_end\\_s2\\_s1\\\\\n",
       "  & <chr> & <lgl> & <chr> & <int> & <chr> & <chr> & <chr> & <chr> & <lgl> & <chr> & ... & <dbl> & <dbl> & <list> & <list> & <list> & <list> & <list> & <list> & <list> & <list>\\\\\n",
       "\\hline\n",
       "\t1 & 20190408\\_testing\\_1\\_7a & TRUE & male & 75 & NA & NA & familiar & visible & FALSE & no\\_stress & ... & 0 & NaN & 253, 263, 287, 293, 311, 322, 331, 351, 378, 408, 463, 474, 527, 542, 640, 668, 715 & 262, 284, 290, 309, 314, 327, 340, 357, 397, 418, 470, 478, 538, 546, 648, 673, 720 &  &  &  &  &  & \\\\\n",
       "\t2 & 20190408\\_testing\\_1\\_7b & TRUE & male & 75 & NA & NA & familiar & visible & FALSE & no\\_stress & ... & 0 & NaN & 244, 267, 348, 397, 435, 501, 550, 616, 632, 706 & 265, 343, 389, 427, 494, 541, 590, 627, 688, 720 &  &  &  &  &  & \\\\\n",
       "\\end{tabular}\n"
      ],
      "text/markdown": [
       "\n",
       "A data.frame: 2 × 26\n",
       "\n",
       "| <!--/--> | folder_videoname &lt;chr&gt; | single_animal &lt;lgl&gt; | sex &lt;chr&gt; | age &lt;int&gt; | infusion_hpc &lt;chr&gt; | infusion_pfc &lt;chr&gt; | familiarity &lt;chr&gt; | lighting &lt;chr&gt; | partition &lt;lgl&gt; | stress &lt;chr&gt; | ... ... | fz_overlap &lt;dbl&gt; | cohen_d &lt;dbl&gt; | fz_start_sub1 &lt;list&gt; | fz_end_sub1 &lt;list&gt; | fz_start_sub2 &lt;list&gt; | fz_end_sub2 &lt;list&gt; | lagt_start_s1_s2 &lt;list&gt; | lagt_start_s2_s1 &lt;list&gt; | lagt_end_s1_s2 &lt;list&gt; | lagt_end_s2_s1 &lt;list&gt; |\n",
       "|---|---|---|---|---|---|---|---|---|---|---|---|---|---|---|---|---|---|---|---|---|---|\n",
       "| 1 | 20190408_testing_1_7a | TRUE | male | 75 | NA | NA | familiar | visible | FALSE | no_stress | ... | 0 | NaN | 253, 263, 287, 293, 311, 322, 331, 351, 378, 408, 463, 474, 527, 542, 640, 668, 715 | 262, 284, 290, 309, 314, 327, 340, 357, 397, 418, 470, 478, 538, 546, 648, 673, 720 | <!----> | <!----> | <!----> | <!----> | <!----> | <!----> |\n",
       "| 2 | 20190408_testing_1_7b | TRUE | male | 75 | NA | NA | familiar | visible | FALSE | no_stress | ... | 0 | NaN | 244, 267, 348, 397, 435, 501, 550, 616, 632, 706 | 265, 343, 389, 427, 494, 541, 590, 627, 688, 720 | <!----> | <!----> | <!----> | <!----> | <!----> | <!----> |\n",
       "\n"
      ],
      "text/plain": [
       "  folder_videoname      single_animal sex  age infusion_hpc infusion_pfc\n",
       "1 20190408_testing_1_7a TRUE          male 75  NA           NA          \n",
       "2 20190408_testing_1_7b TRUE          male 75  NA           NA          \n",
       "  familiarity lighting partition stress    ... fz_overlap cohen_d\n",
       "1 familiar    visible  FALSE     no_stress ... 0          NaN    \n",
       "2 familiar    visible  FALSE     no_stress ... 0          NaN    \n",
       "  fz_start_sub1                                                                      \n",
       "1 253, 263, 287, 293, 311, 322, 331, 351, 378, 408, 463, 474, 527, 542, 640, 668, 715\n",
       "2 244, 267, 348, 397, 435, 501, 550, 616, 632, 706                                   \n",
       "  fz_end_sub1                                                                        \n",
       "1 262, 284, 290, 309, 314, 327, 340, 357, 397, 418, 470, 478, 538, 546, 648, 673, 720\n",
       "2 265, 343, 389, 427, 494, 541, 590, 627, 688, 720                                   \n",
       "  fz_start_sub2 fz_end_sub2 lagt_start_s1_s2 lagt_start_s2_s1 lagt_end_s1_s2\n",
       "1                                                                           \n",
       "2                                                                           \n",
       "  lagt_end_s2_s1\n",
       "1               \n",
       "2               "
      ]
     },
     "metadata": {},
     "output_type": "display_data"
    }
   ],
   "source": [
    "# Load DF\n",
    "path = \"C:/Users/User/Dropbox/Jupyter/wataru/synchro_freeze\"\n",
    "base = \"data.Rda\"\n",
    "filename = file.path(path, base)\n",
    "load(file=filename)\n",
    "\n",
    "#######################################\n",
    "# Display summary\n",
    "dis_summary(df)"
   ]
  },
  {
   "cell_type": "markdown",
   "metadata": {},
   "source": [
    "**Select records**<BR>\n",
    "It's good to check using the data frame viewer in RStudio."
   ]
  },
  {
   "cell_type": "code",
   "execution_count": 74,
   "metadata": {},
   "outputs": [
    {
     "name": "stdout",
     "output_type": "stream",
     "text": [
      "dimension:  35 26 \n",
      "   folder_videoname       single_animal                 sex                 age \n",
      "        \"character\"           \"logical\"         \"character\"           \"integer\" \n",
      "       infusion_hpc        infusion_pfc         familiarity            lighting \n",
      "        \"character\"         \"character\"         \"character\"         \"character\" \n",
      "          partition              stress             comment             exclude \n",
      "          \"logical\"         \"character\"         \"character\"           \"logical\" \n",
      "  together_alone_id together_alone_role             fz_sub1             fz_sub2 \n",
      "           \"factor\"            \"factor\"           \"numeric\"           \"numeric\" \n",
      "         fz_overlap             cohen_d       fz_start_sub1         fz_end_sub1 \n",
      "          \"numeric\"           \"numeric\"              \"list\"              \"list\" \n",
      "      fz_start_sub2         fz_end_sub2    lagt_start_s1_s2    lagt_start_s2_s1 \n",
      "             \"list\"              \"list\"              \"list\"              \"list\" \n",
      "     lagt_end_s1_s2      lagt_end_s2_s1 \n",
      "             \"list\"              \"list\" \n"
     ]
    },
    {
     "data": {
      "text/html": [
       "<table>\n",
       "<caption>A data.frame: 2 × 26</caption>\n",
       "<thead>\n",
       "\t<tr><th></th><th scope=col>folder_videoname</th><th scope=col>single_animal</th><th scope=col>sex</th><th scope=col>age</th><th scope=col>infusion_hpc</th><th scope=col>infusion_pfc</th><th scope=col>familiarity</th><th scope=col>lighting</th><th scope=col>partition</th><th scope=col>stress</th><th scope=col>...</th><th scope=col>fz_overlap</th><th scope=col>cohen_d</th><th scope=col>fz_start_sub1</th><th scope=col>fz_end_sub1</th><th scope=col>fz_start_sub2</th><th scope=col>fz_end_sub2</th><th scope=col>lagt_start_s1_s2</th><th scope=col>lagt_start_s2_s1</th><th scope=col>lagt_end_s1_s2</th><th scope=col>lagt_end_s2_s1</th></tr>\n",
       "\t<tr><th></th><th scope=col>&lt;chr&gt;</th><th scope=col>&lt;lgl&gt;</th><th scope=col>&lt;chr&gt;</th><th scope=col>&lt;int&gt;</th><th scope=col>&lt;chr&gt;</th><th scope=col>&lt;chr&gt;</th><th scope=col>&lt;chr&gt;</th><th scope=col>&lt;chr&gt;</th><th scope=col>&lt;lgl&gt;</th><th scope=col>&lt;chr&gt;</th><th scope=col>...</th><th scope=col>&lt;dbl&gt;</th><th scope=col>&lt;dbl&gt;</th><th scope=col>&lt;list&gt;</th><th scope=col>&lt;list&gt;</th><th scope=col>&lt;list&gt;</th><th scope=col>&lt;list&gt;</th><th scope=col>&lt;list&gt;</th><th scope=col>&lt;list&gt;</th><th scope=col>&lt;list&gt;</th><th scope=col>&lt;list&gt;</th></tr>\n",
       "</thead>\n",
       "<tbody>\n",
       "\t<tr><th scope=row>5</th><td>20190408_testing_1_f10ab</td><td>FALSE</td><td>female</td><td>75</td><td>NA</td><td>NA</td><td>familiar</td><td>visible</td><td>FALSE</td><td>no_stress</td><td>...</td><td>18.95833</td><td>0.7708344</td><td>249, 255, 267, 294, 331, 353, 364, 375, 403, 424, 430, 519, 550, 563, 577, 599, 634, 652, 689</td><td>253, 262, 272, 299, 338, 359, 368, 383, 409, 429, 435, 525, 558, 568, 594, 615, 640, 657, 694</td><td>264, 295, 303, 313, 321, 343, 398, 410, 425, 438, 482, 494, 517, 533, 557, 637, 652, 675, 685, 708</td><td>273, 302, 307, 317, 340, 389, 406, 419, 437, 468, 491, 502, 528, 555, 567, 642, 660, 680, 704, 713</td><td>15, 9, -3, 1, -10, -10, -21, 23, -5, 1, -5, -2, 7, -6, -20, 38, 3, 0, -4</td><td>3, -1, -9, 18, 10, 10, 5, -7, -1, -8, 37, 25, 2, -14, 6, -3, 0, 14, 4, -19</td><td>20, 11, 1, 3, 2, -19, 21, 6, -3, 8, 2, 3, -3, -1, -27, 27, 2, 3, 10</td><td>-1, -3, -8, -18, -2, -6, 3, -10, -2, -33, 34, 23, -3, 3, 1, -2, -3, 14, -10, -19</td></tr>\n",
       "\t<tr><th scope=row>8</th><td>20190408_testing_1_f6ab </td><td>FALSE</td><td>female</td><td>75</td><td>NA</td><td>NA</td><td>familiar</td><td>visible</td><td>FALSE</td><td>no_stress</td><td>...</td><td>22.08333</td><td>1.5967085</td><td>267, 298, 341, 413, 536, 545, 560, 568, 580, 607, 630, 689, 712</td><td>272, 317, 407, 431, 543, 550, 565, 575, 586, 614, 675, 704, 720</td><td>289, 298, 338, 374, 516, 529, 550, 573, 584, 632, 646, 671, 704</td><td>296, 312, 363, 404, 521, 539, 564, 581, 595, 637, 651, 679, 712</td><td>22, 0, -3, -39, -7, 5, -10, 5, 4, -23, 2, 15, -8</td><td>9, 0, 3, -33, 20, 7, -5, -5, -4, -2, -16, 18, 8</td><td>24, -5, -3, -27, -4, -11, -1, 6, -5, -19, 4, 8, -8</td><td>21, 5, 44, 3, 22, 4, 1, 5, -9, -23, 24, -4, -8</td></tr>\n",
       "</tbody>\n",
       "</table>\n"
      ],
      "text/latex": [
       "A data.frame: 2 × 26\n",
       "\\begin{tabular}{r|lllllllllllllllllllll}\n",
       "  & folder\\_videoname & single\\_animal & sex & age & infusion\\_hpc & infusion\\_pfc & familiarity & lighting & partition & stress & ... & fz\\_overlap & cohen\\_d & fz\\_start\\_sub1 & fz\\_end\\_sub1 & fz\\_start\\_sub2 & fz\\_end\\_sub2 & lagt\\_start\\_s1\\_s2 & lagt\\_start\\_s2\\_s1 & lagt\\_end\\_s1\\_s2 & lagt\\_end\\_s2\\_s1\\\\\n",
       "  & <chr> & <lgl> & <chr> & <int> & <chr> & <chr> & <chr> & <chr> & <lgl> & <chr> & ... & <dbl> & <dbl> & <list> & <list> & <list> & <list> & <list> & <list> & <list> & <list>\\\\\n",
       "\\hline\n",
       "\t5 & 20190408\\_testing\\_1\\_f10ab & FALSE & female & 75 & NA & NA & familiar & visible & FALSE & no\\_stress & ... & 18.95833 & 0.7708344 & 249, 255, 267, 294, 331, 353, 364, 375, 403, 424, 430, 519, 550, 563, 577, 599, 634, 652, 689 & 253, 262, 272, 299, 338, 359, 368, 383, 409, 429, 435, 525, 558, 568, 594, 615, 640, 657, 694 & 264, 295, 303, 313, 321, 343, 398, 410, 425, 438, 482, 494, 517, 533, 557, 637, 652, 675, 685, 708 & 273, 302, 307, 317, 340, 389, 406, 419, 437, 468, 491, 502, 528, 555, 567, 642, 660, 680, 704, 713 & 15, 9, -3, 1, -10, -10, -21, 23, -5, 1, -5, -2, 7, -6, -20, 38, 3, 0, -4 & 3, -1, -9, 18, 10, 10, 5, -7, -1, -8, 37, 25, 2, -14, 6, -3, 0, 14, 4, -19 & 20, 11, 1, 3, 2, -19, 21, 6, -3, 8, 2, 3, -3, -1, -27, 27, 2, 3, 10 & -1, -3, -8, -18, -2, -6, 3, -10, -2, -33, 34, 23, -3, 3, 1, -2, -3, 14, -10, -19\\\\\n",
       "\t8 & 20190408\\_testing\\_1\\_f6ab  & FALSE & female & 75 & NA & NA & familiar & visible & FALSE & no\\_stress & ... & 22.08333 & 1.5967085 & 267, 298, 341, 413, 536, 545, 560, 568, 580, 607, 630, 689, 712 & 272, 317, 407, 431, 543, 550, 565, 575, 586, 614, 675, 704, 720 & 289, 298, 338, 374, 516, 529, 550, 573, 584, 632, 646, 671, 704 & 296, 312, 363, 404, 521, 539, 564, 581, 595, 637, 651, 679, 712 & 22, 0, -3, -39, -7, 5, -10, 5, 4, -23, 2, 15, -8 & 9, 0, 3, -33, 20, 7, -5, -5, -4, -2, -16, 18, 8 & 24, -5, -3, -27, -4, -11, -1, 6, -5, -19, 4, 8, -8 & 21, 5, 44, 3, 22, 4, 1, 5, -9, -23, 24, -4, -8\\\\\n",
       "\\end{tabular}\n"
      ],
      "text/markdown": [
       "\n",
       "A data.frame: 2 × 26\n",
       "\n",
       "| <!--/--> | folder_videoname &lt;chr&gt; | single_animal &lt;lgl&gt; | sex &lt;chr&gt; | age &lt;int&gt; | infusion_hpc &lt;chr&gt; | infusion_pfc &lt;chr&gt; | familiarity &lt;chr&gt; | lighting &lt;chr&gt; | partition &lt;lgl&gt; | stress &lt;chr&gt; | ... ... | fz_overlap &lt;dbl&gt; | cohen_d &lt;dbl&gt; | fz_start_sub1 &lt;list&gt; | fz_end_sub1 &lt;list&gt; | fz_start_sub2 &lt;list&gt; | fz_end_sub2 &lt;list&gt; | lagt_start_s1_s2 &lt;list&gt; | lagt_start_s2_s1 &lt;list&gt; | lagt_end_s1_s2 &lt;list&gt; | lagt_end_s2_s1 &lt;list&gt; |\n",
       "|---|---|---|---|---|---|---|---|---|---|---|---|---|---|---|---|---|---|---|---|---|---|\n",
       "| 5 | 20190408_testing_1_f10ab | FALSE | female | 75 | NA | NA | familiar | visible | FALSE | no_stress | ... | 18.95833 | 0.7708344 | 249, 255, 267, 294, 331, 353, 364, 375, 403, 424, 430, 519, 550, 563, 577, 599, 634, 652, 689 | 253, 262, 272, 299, 338, 359, 368, 383, 409, 429, 435, 525, 558, 568, 594, 615, 640, 657, 694 | 264, 295, 303, 313, 321, 343, 398, 410, 425, 438, 482, 494, 517, 533, 557, 637, 652, 675, 685, 708 | 273, 302, 307, 317, 340, 389, 406, 419, 437, 468, 491, 502, 528, 555, 567, 642, 660, 680, 704, 713 | 15, 9, -3, 1, -10, -10, -21, 23, -5, 1, -5, -2, 7, -6, -20, 38, 3, 0, -4 | 3, -1, -9, 18, 10, 10, 5, -7, -1, -8, 37, 25, 2, -14, 6, -3, 0, 14, 4, -19 | 20, 11, 1, 3, 2, -19, 21, 6, -3, 8, 2, 3, -3, -1, -27, 27, 2, 3, 10 | -1, -3, -8, -18, -2, -6, 3, -10, -2, -33, 34, 23, -3, 3, 1, -2, -3, 14, -10, -19 |\n",
       "| 8 | 20190408_testing_1_f6ab  | FALSE | female | 75 | NA | NA | familiar | visible | FALSE | no_stress | ... | 22.08333 | 1.5967085 | 267, 298, 341, 413, 536, 545, 560, 568, 580, 607, 630, 689, 712 | 272, 317, 407, 431, 543, 550, 565, 575, 586, 614, 675, 704, 720 | 289, 298, 338, 374, 516, 529, 550, 573, 584, 632, 646, 671, 704 | 296, 312, 363, 404, 521, 539, 564, 581, 595, 637, 651, 679, 712 | 22, 0, -3, -39, -7, 5, -10, 5, 4, -23, 2, 15, -8 | 9, 0, 3, -33, 20, 7, -5, -5, -4, -2, -16, 18, 8 | 24, -5, -3, -27, -4, -11, -1, 6, -5, -19, 4, 8, -8 | 21, 5, 44, 3, 22, 4, 1, 5, -9, -23, 24, -4, -8 |\n",
       "\n"
      ],
      "text/plain": [
       "  folder_videoname         single_animal sex    age infusion_hpc infusion_pfc\n",
       "5 20190408_testing_1_f10ab FALSE         female 75  NA           NA          \n",
       "8 20190408_testing_1_f6ab  FALSE         female 75  NA           NA          \n",
       "  familiarity lighting partition stress    ... fz_overlap cohen_d  \n",
       "5 familiar    visible  FALSE     no_stress ... 18.95833   0.7708344\n",
       "8 familiar    visible  FALSE     no_stress ... 22.08333   1.5967085\n",
       "  fz_start_sub1                                                                                \n",
       "5 249, 255, 267, 294, 331, 353, 364, 375, 403, 424, 430, 519, 550, 563, 577, 599, 634, 652, 689\n",
       "8 267, 298, 341, 413, 536, 545, 560, 568, 580, 607, 630, 689, 712                              \n",
       "  fz_end_sub1                                                                                  \n",
       "5 253, 262, 272, 299, 338, 359, 368, 383, 409, 429, 435, 525, 558, 568, 594, 615, 640, 657, 694\n",
       "8 272, 317, 407, 431, 543, 550, 565, 575, 586, 614, 675, 704, 720                              \n",
       "  fz_start_sub2                                                                                     \n",
       "5 264, 295, 303, 313, 321, 343, 398, 410, 425, 438, 482, 494, 517, 533, 557, 637, 652, 675, 685, 708\n",
       "8 289, 298, 338, 374, 516, 529, 550, 573, 584, 632, 646, 671, 704                                   \n",
       "  fz_end_sub2                                                                                       \n",
       "5 273, 302, 307, 317, 340, 389, 406, 419, 437, 468, 491, 502, 528, 555, 567, 642, 660, 680, 704, 713\n",
       "8 296, 312, 363, 404, 521, 539, 564, 581, 595, 637, 651, 679, 712                                   \n",
       "  lagt_start_s1_s2                                                        \n",
       "5 15, 9, -3, 1, -10, -10, -21, 23, -5, 1, -5, -2, 7, -6, -20, 38, 3, 0, -4\n",
       "8 22, 0, -3, -39, -7, 5, -10, 5, 4, -23, 2, 15, -8                        \n",
       "  lagt_start_s2_s1                                                          \n",
       "5 3, -1, -9, 18, 10, 10, 5, -7, -1, -8, 37, 25, 2, -14, 6, -3, 0, 14, 4, -19\n",
       "8 9, 0, 3, -33, 20, 7, -5, -5, -4, -2, -16, 18, 8                           \n",
       "  lagt_end_s1_s2                                                     \n",
       "5 20, 11, 1, 3, 2, -19, 21, 6, -3, 8, 2, 3, -3, -1, -27, 27, 2, 3, 10\n",
       "8 24, -5, -3, -27, -4, -11, -1, 6, -5, -19, 4, 8, -8                 \n",
       "  lagt_end_s2_s1                                                                  \n",
       "5 -1, -3, -8, -18, -2, -6, 3, -10, -2, -33, 34, 23, -3, 3, 1, -2, -3, 14, -10, -19\n",
       "8 21, 5, 44, 3, 22, 4, 1, 5, -9, -23, 24, -4, -8                                  "
      ]
     },
     "metadata": {},
     "output_type": "display_data"
    }
   ],
   "source": [
    "df.set1 <- subset(df, \n",
    "                  single_animal==FALSE & \n",
    "                  is.na(infusion_hpc) &\n",
    "                  is.na(infusion_pfc) & \n",
    "                  familiarity=='familiar' &\n",
    "                  lighting =='visible' &\n",
    "                  stress =='no_stress' &\n",
    "                  partition==FALSE &\n",
    "                  exclude==FALSE)\n",
    "\n",
    "#######################################\n",
    "# Display summary\n",
    "dis_summary(df.set1)\n",
    "\n",
    "# Output data frame as well as Excel file (not included columns of list)\n",
    "df.input = df.set1\n",
    "path = \"C:/Users/User/Dropbox/Jupyter/wataru/synchro_freeze\"\n",
    "base = \"data_set1\"\n",
    "save_files(df.input,path,base)"
   ]
  },
  {
   "cell_type": "markdown",
   "metadata": {},
   "source": [
    "**collapse lagtime**"
   ]
  },
  {
   "cell_type": "code",
   "execution_count": 99,
   "metadata": {},
   "outputs": [
    {
     "name": "stdout",
     "output_type": "stream",
     "text": [
      "dimension:  1074 2 \n",
      "    lagtime        type \n",
      "  \"numeric\" \"character\" \n",
      "dimension:  978 2 \n",
      "    lagtime        type \n",
      "  \"numeric\" \"character\" \n"
     ]
    }
   ],
   "source": [
    "collapse_lagtime = function(df.input){\n",
    "    #############################################\n",
    "    # Collapse along rows\n",
    "    #   and store 1x4 data frame (df.work)\n",
    "    #   lagt_*: lagt_start_s1_s2, lagt_start_s2_s1, lagt_end_s1_s2, lagt_end_s2_s1 \n",
    "\n",
    "    # Create working df and collapse cells in columns of \"lagt_*\"\n",
    "    rex = \"lagt_*\"\n",
    "\n",
    "    # Initialize dataframe\n",
    "    df.work = data.frame(matrix(ncol = 4, nrow = 1))\n",
    "    colnames(df.work) = str_subset(names(df.input), rex)\n",
    "\n",
    "    # Collapse each column\n",
    "    for (colname in str_subset(names(df.input), rex)){\n",
    "        w = c() # working vector\n",
    "        for (i in c(1:nrow(df.input))){\n",
    "            w = c(w, unlist(df.input[i,colname]))\n",
    "        }\n",
    "        df.work[[1,colname]] = list(w)\n",
    "    }\n",
    "\n",
    "    #############################################\n",
    "    # Collapse both directions, s1_s2 and s2_s1\n",
    "    #   and store expanded data frame (1x6)\n",
    "    for (colname in c(\"lagt_start\", \"lagt_end\")){\n",
    "        df.work[,colname] = NA # Append empty column\n",
    "        w = c(unlist(df.work[1, paste0(colname, \"_s1_s2\")]),unlist(df.work[1,paste0(colname, \"_s2_s1\")]))\n",
    "        df.work[[1,colname]]=list(w)\n",
    "    }\n",
    "\n",
    "    #############################################\n",
    "    # Create New DF, df.test of lagtime and type (onset or offset)\n",
    "    df.lagtime = data.frame(\"lagtime\" = unlist(df.work[1,\"lagt_start\"]), \"type\" = \"onset\")\n",
    "    # Append rows from onset\n",
    "    df.lagtime = df.lagtime %>% add_row(\"lagtime\" = unlist(df.work[1,\"lagt_end\"]), \"type\" = \"offset\")\n",
    "\n",
    "    # convert frame number to sec\n",
    "    df.lagtime[,\"lagtime\"] = df.lagtime[,\"lagtime\"] / 4\n",
    "\n",
    "    # Display summary\n",
    "    dis_summary(df.lagtime)\n",
    "    \n",
    "    return(df.lagtime)\n",
    "}\n",
    "\n",
    "\n",
    "df.input = df.set1[df.set1[,'sex']=='male',]\n",
    "df.lag_male = collapse_lagtime(df.input)\n",
    "df.lag_male[,'sex'] = 'male'\n",
    "\n",
    "df.input = df.set1[df.set1[,'sex']=='female',]\n",
    "df.lag_female = collapse_lagtime(df.input)\n",
    "df.lag_female[,'sex'] = 'female'\n",
    "\n",
    "# Concatenate data frame\n",
    "df.lagtime = rbind(df.lag_male, df.lag_female)\n",
    "\n"
   ]
  },
  {
   "cell_type": "markdown",
   "metadata": {},
   "source": [
    "**Change order of individual variables**<BR>\n",
    "    Explicitly set the order in individual valiables"
   ]
  },
  {
   "cell_type": "code",
   "execution_count": 104,
   "metadata": {},
   "outputs": [],
   "source": [
    "df.lagtime <- within(df.lagtime, sex <- factor(sex, levels = c(\"male\",\"female\")))"
   ]
  },
  {
   "cell_type": "code",
   "execution_count": 115,
   "metadata": {},
   "outputs": [
    {
     "data": {
      "image/png": "[encoded data removed]",
      "text/plain": [
       "plot without title"
      ]
     },
     "metadata": {
      "image/png": {
       "height": 360,
       "width": 720
      },
      "text/plain": {
       "height": 360,
       "width": 720
      }
     },
     "output_type": "display_data"
    }
   ],
   "source": [
    "plot_dist = function(df.input){\n",
    "    ylim1 = 0\n",
    "    ylim2 = 130\n",
    "    binwidth_value = 1\n",
    "\n",
    "    ggp.output = ggplot(df.input,aes(x=sex,y=lagtime,fill=sex)) +\n",
    "     geom_boxplot() +\n",
    "     geom_quasirandom(alpha = 0.2) +\n",
    "     theme_bw()\n",
    "    \n",
    "    return(ggp.output)\n",
    "\n",
    "}\n",
    "\n",
    "\n",
    "df.input =  df.lagtime[df.lagtime[,'type']=='onset',]\n",
    "out10_1 = plot_dist(df.input)\n",
    "\n",
    "df.input =  df.lagtime[df.lagtime[,'type']=='offset',]\n",
    "out10_2 = plot_dist(df.input)\n",
    "\n",
    "# plot the two plots together\n",
    "# set the size of final plot, width x height\n",
    "plot_width = 12\n",
    "plot_= 6\n",
    "options(repr.plot.width=plot_width, repr.plot.height=plot_height)\n",
    "\n",
    "ggarrange(out10_1, out10_2, ncol=2)"
   ]
  },
  {
   "cell_type": "code",
   "execution_count": 167,
   "metadata": {},
   "outputs": [
    {
     "name": "stderr",
     "output_type": "stream",
     "text": [
      "Warning message:\n",
      "\"Removed 4 rows containing missing values (geom_bar).\"\n",
      "Warning message:\n",
      "\"Removed 4 rows containing missing values (geom_bar).\"\n"
     ]
    },
    {
     "data": {
      "image/png": "[encoded data removed]",
      "text/plain": [
       "plot without title"
      ]
     },
     "metadata": {
      "image/png": {
       "height": 360,
       "width": 720
      },
      "text/plain": {
       "height": 360,
       "width": 720
      }
     },
     "output_type": "display_data"
    }
   ],
   "source": [
    "plot_hist = function(df.input){\n",
    "xlim1 = -90\n",
    "xlim2 = 30\n",
    "\n",
    "ylim1 = 0\n",
    "ylim2 = 50\n",
    "binwidth_value = 0.25\n",
    "\n",
    "ggp.output = ggplot(df.input,aes(x=lagtime,fill=sex)) +\n",
    "    geom_histogram(binwidth=binwidth_value, alpha=0.6, position=\"identity\") +\n",
    "    xlim(c(xlim1,xlim2)) + ylim(c(ylim1,ylim2)) +\n",
    "\n",
    "    \n",
    "    # Remainings are all the same. No need to modify.\n",
    "        # Change filling color for box\n",
    "        scale_fill_manual(values=c(\"#FF3333\", \"#3333FF\"))+\n",
    "        # Change theme. Look at \"Complete themes\" above.\n",
    "        theme_bw()+\n",
    "        # Control of axes\n",
    "        theme(\n",
    "            axis.title.x = element_blank(),\n",
    "            axis.title.y = element_text(size=25,vjust=2,face='bold'),\n",
    "            axis.text=element_text(size=20))+    \n",
    "        # Control of legend\n",
    "        theme(\n",
    "            #legend.position = \"none\",\n",
    "            legend.position = 'bottom',\n",
    "            legend.direction = \"horizontal\",\n",
    "            #legend.title = element_text(size=20,face='bold'),\n",
    "            legend.title = element_blank(),\n",
    "            legend.text=element_text(size=20))\n",
    "\n",
    "    return(ggp.output)\n",
    "}\n",
    "\n",
    "\n",
    "df.input = df.lagtime[df.lagtime$type=='onset',]\n",
    "out10_3 = plot_hist(df.input)\n",
    "\n",
    "df.input = df.lagtime[df.lagtime$type=='offset',]\n",
    "out10_4 = plot_hist(df.input)\n",
    "\n",
    "# plot the two plots\n",
    "# set the size of final plot, width x height\n",
    "plot_width = 12\n",
    "plot_height = 6\n",
    "options(repr.plot.width=plot_width, repr.plot.height=plot_height)\n",
    "\n",
    "ggarrange(out10_3, out10_4, ncol=2)"
   ]
  },
  {
   "cell_type": "markdown",
   "metadata": {},
   "source": [
    "### 2-3. Test Coefficients of Variation from multiple samples\n",
    "https://cran.r-project.org/web/packages/cvequality/vignettes/how_to_test_CVs.html\n",
    "\n",
    "**Need to install packages**\n",
    "\n",
    "`install.packages(\"ggbeeswarm\")`<BR>\n",
    "`install.packages(\"cvequality\")`\n"
   ]
  },
  {
   "cell_type": "code",
   "execution_count": 147,
   "metadata": {},
   "outputs": [
    {
     "name": "stderr",
     "output_type": "stream",
     "text": [
      "Installing package into 'C:/Users/User/Documents/R/win-library/3.6'\n",
      "(as 'lib' is unspecified)\n",
      "\n"
     ]
    },
    {
     "name": "stdout",
     "output_type": "stream",
     "text": [
      "package 'cvequality' successfully unpacked and MD5 sums checked\n",
      "\n",
      "The downloaded binary packages are in\n",
      "\tC:\\Users\\User\\AppData\\Local\\Temp\\RtmpMNckUw\\downloaded_packages\n"
     ]
    }
   ],
   "source": [
    "install.packages(\"cvequality\")"
   ]
  },
  {
   "cell_type": "code",
   "execution_count": 163,
   "metadata": {},
   "outputs": [
    {
     "data": {
      "text/html": [
       "<dl>\n",
       "\t<dt>$D_AD</dt>\n",
       "\t\t<dd>0.000478365748957631</dd>\n",
       "\t<dt>$p_value</dt>\n",
       "\t\t<dd>0.982550400016298</dd>\n",
       "</dl>\n"
      ],
      "text/latex": [
       "\\begin{description}\n",
       "\\item[\\$D\\_AD] 0.000478365748957631\n",
       "\\item[\\$p\\_value] 0.982550400016298\n",
       "\\end{description}\n"
      ],
      "text/markdown": [
       "$D_AD\n",
       ":   0.000478365748957631\n",
       "$p_value\n",
       ":   0.982550400016298\n",
       "\n",
       "\n"
      ],
      "text/plain": [
       "$D_AD\n",
       "[1] 0.0004783657\n",
       "\n",
       "$p_value\n",
       "[1] 0.9825504\n"
      ]
     },
     "metadata": {},
     "output_type": "display_data"
    },
    {
     "data": {
      "text/html": [
       "<dl>\n",
       "\t<dt>$MSLRT</dt>\n",
       "\t\t<dd>43.4261672100922</dd>\n",
       "\t<dt>$p_value</dt>\n",
       "\t\t<dd>4.40261160861155e-11</dd>\n",
       "</dl>\n"
      ],
      "text/latex": [
       "\\begin{description}\n",
       "\\item[\\$MSLRT] 43.4261672100922\n",
       "\\item[\\$p\\_value] 4.40261160861155e-11\n",
       "\\end{description}\n"
      ],
      "text/markdown": [
       "$MSLRT\n",
       ":   43.4261672100922\n",
       "$p_value\n",
       ":   4.40261160861155e-11\n",
       "\n",
       "\n"
      ],
      "text/plain": [
       "$MSLRT\n",
       "[1] 43.42617\n",
       "\n",
       "$p_value\n",
       "[1] 4.402612e-11\n"
      ]
     },
     "metadata": {},
     "output_type": "display_data"
    },
    {
     "data": {
      "text/html": [
       "<dl>\n",
       "\t<dt>$D_AD</dt>\n",
       "\t\t<dd>0.00476564174637758</dd>\n",
       "\t<dt>$p_value</dt>\n",
       "\t\t<dd>0.94496285234521</dd>\n",
       "</dl>\n"
      ],
      "text/latex": [
       "\\begin{description}\n",
       "\\item[\\$D\\_AD] 0.00476564174637758\n",
       "\\item[\\$p\\_value] 0.94496285234521\n",
       "\\end{description}\n"
      ],
      "text/markdown": [
       "$D_AD\n",
       ":   0.00476564174637758\n",
       "$p_value\n",
       ":   0.94496285234521\n",
       "\n",
       "\n"
      ],
      "text/plain": [
       "$D_AD\n",
       "[1] 0.004765642\n",
       "\n",
       "$p_value\n",
       "[1] 0.9449629\n"
      ]
     },
     "metadata": {},
     "output_type": "display_data"
    },
    {
     "data": {
      "text/html": [
       "<dl>\n",
       "\t<dt>$MSLRT</dt>\n",
       "\t\t<dd>18.4157906374725</dd>\n",
       "\t<dt>$p_value</dt>\n",
       "\t\t<dd>1.77580285085632e-05</dd>\n",
       "</dl>\n"
      ],
      "text/latex": [
       "\\begin{description}\n",
       "\\item[\\$MSLRT] 18.4157906374725\n",
       "\\item[\\$p\\_value] 1.77580285085632e-05\n",
       "\\end{description}\n"
      ],
      "text/markdown": [
       "$MSLRT\n",
       ":   18.4157906374725\n",
       "$p_value\n",
       ":   1.77580285085632e-05\n",
       "\n",
       "\n"
      ],
      "text/plain": [
       "$MSLRT\n",
       "[1] 18.41579\n",
       "\n",
       "$p_value\n",
       "[1] 1.775803e-05\n"
      ]
     },
     "metadata": {},
     "output_type": "display_data"
    }
   ],
   "source": [
    "# Load required library\n",
    "library(cvequality)\n",
    "\n",
    "df.input = df.lagtime[df.lagtime$type=='onset',]\n",
    "test1 <- with(df.input,asymptotic_test(lagtime,sex))\n",
    "test1\n",
    "test2 <- with(df.input,mslr_test(nr = 1e4, lagtime,sex))\n",
    "test2\n",
    "\n",
    "df.input = df.lagtime[df.lagtime$type=='offset',]\n",
    "test1 <- with(df.input,asymptotic_test(lagtime,sex))\n",
    "test1\n",
    "test2 <- with(df.input,mslr_test(nr = 1e4, lagtime,sex))\n",
    "test2"
   ]
  },
  {
   "cell_type": "markdown",
   "metadata": {},
   "source": [
    "---\n",
    "## 2. Visualize the distribution of lagtime for onset and offset of freezing\n",
    "### 2-1. Collapse the all cells in lagt_* columns and create a new DF of two columns (lagtime, type)"
   ]
  },
  {
   "cell_type": "code",
   "execution_count": 4,
   "metadata": {
    "scrolled": true
   },
   "outputs": [],
   "source": [
    "# Create working df and collapse cells in columns of \"lagt_*\"\n",
    "rex = \"lagt_*\"\n",
    "\n",
    "# Initialize dataframe\n",
    "df.work = data.frame(matrix(ncol = 4, nrow = 1))\n",
    "colnames(df.work) = str_subset(names(df), rex)\n",
    "\n",
    "# Collapse each column\n",
    "for (colname in str_subset(names(df), rex)){\n",
    "    w = c() # working vector\n",
    "    for (i in c(1:nrow(df))){\n",
    "        # w = c(w, as.integer(unlist(df[i,colname])))\n",
    "        w = c(w, unlist(df[i,colname]))\n",
    "    }\n",
    "    df.work[[1,colname]] = list(w)\n",
    "}\n",
    "\n",
    "# Mearge both directions, s1_s2 and s2_s1\n",
    "for (colname in c(\"lagt_start\", \"lagt_end\")){\n",
    "    df.work[,colname] = NA # Append empty column\n",
    "    # w = c(as.integer(unlist(df.work[1, paste0(colname, \"_s1_s2\")])),as.integer(unlist(df.work[1,paste0(colname, \"_s2_s1\")])))\n",
    "    w = c(unlist(df.work[1, paste0(colname, \"_s1_s2\")]),unlist(df.work[1,paste0(colname, \"_s2_s1\")]))\n",
    "    df.work[[1,colname]]=list(w)\n",
    "}\n",
    "\n",
    "# Create New DF, df.test of lagtime and type (onset or offset)\n",
    "df.lagtime = data.frame(\"lagtime\" = unlist(df.work[1,\"lagt_start\"]), \"type\" = \"onset\")\n",
    "# Append rows from onset\n",
    "df.lagtime = df.lagtime %>% add_row(\"lagtime\" = unlist(df.work[1,\"lagt_end\"]), \"type\" = \"offset\")\n",
    "\n",
    "# convert frame number to sec\n",
    "df.lagtime[,\"lagtime\"] = df.lagtime[,\"lagtime\"] / 4"
   ]
  },
  {
   "cell_type": "markdown",
   "metadata": {},
   "source": [
    "### 2-2. Visualize"
   ]
  },
  {
   "cell_type": "code",
   "execution_count": 5,
   "metadata": {},
   "outputs": [
    {
     "data": {
      "image/png": "[encoded data removed]",
      "text/plain": [
       "plot without title"
      ]
     },
     "metadata": {
      "image/png": {
       "height": 420,
       "width": 420
      },
      "text/plain": {
       "height": 420,
       "width": 420
      }
     },
     "output_type": "display_data"
    },
    {
     "data": {
      "image/png": "[encoded data removed]",
      "text/plain": [
       "plot without title"
      ]
     },
     "metadata": {
      "image/png": {
       "height": 420,
       "width": 420
      },
      "text/plain": {
       "height": 420,
       "width": 420
      }
     },
     "output_type": "display_data"
    },
    {
     "data": {
      "image/png": "[encoded data removed]",
      "text/plain": [
       "plot without title"
      ]
     },
     "metadata": {
      "image/png": {
       "height": 420,
       "width": 420
      },
      "text/plain": {
       "height": 420,
       "width": 420
      }
     },
     "output_type": "display_data"
    }
   ],
   "source": [
    "# Plot the distribution\n",
    "library(ggplot2)\n",
    "library(ggbeeswarm)\n",
    "\n",
    "ggplot(df.lagtime,aes(type,lagtime)) +\n",
    " geom_boxplot() +\n",
    " geom_quasirandom(alpha = 0.2) +\n",
    " theme_bw()\n",
    "\n",
    "# # Colored Histogram with Different Number of Bins\n",
    "sub.lagtime = df.lagtime[df.lagtime$type=='onset',]\n",
    "ggplot(sub.lagtime,aes(x=lagtime)) +\n",
    "    geom_histogram(binwidth=0.2)\n",
    "\n",
    "sub.lagtime = df.lagtime[df.lagtime$type=='offset',]\n",
    "ggplot(sub.lagtime,aes(x=lagtime)) +\n",
    "    geom_histogram(binwidth=0.2)\n",
    "\n",
    "# hist(subTest$lagtime, breaks=seq(,,10),col=\"blue\", xlim=c(-250,250), ylim=c(0,3000))\n",
    "#, breaks=seq(-50,50,1), col=\"blue\", xlim=c(-50,50), ylim=c(0,60))\n",
    "# hist(subTest$lagtime, breaks=seq(-50,50,1), col=\"blue\", xlim=c(-50,50), ylim=c(0,60))\n",
    "\n",
    "# subTest = test[test$type=='offset',]\n",
    "# hist(subTest$lagtime, breaks=seq(-50,50,1), col=\"blue\", xlim=c(-50,50), ylim=c(0,60))\n",
    "\n",
    "\n",
    "# ### (Option) Export a plot as EPS file ##############################################\n",
    "# # Change the plot line\n",
    "# setEPS()\n",
    "# postscript(\"whatever.eps\")\n",
    "# plot(rnorm(100), main=\"Hey Some Data\")\n",
    "# dev.off()\n",
    "# #####################################################################################\n"
   ]
  },
  {
   "cell_type": "markdown",
   "metadata": {},
   "source": [
    "### 2-3. Test Coefficients of Variation from multiple samples\n",
    "https://cran.r-project.org/web/packages/cvequality/vignettes/how_to_test_CVs.html\n",
    "\n",
    "**Need to install packages**\n",
    "\n",
    "`install.packages(\"ggbeeswarm\")`<BR>\n",
    "`install.packages(\"cvequality\")`\n"
   ]
  },
  {
   "cell_type": "code",
   "execution_count": 6,
   "metadata": {},
   "outputs": [
    {
     "name": "stderr",
     "output_type": "stream",
     "text": [
      "Installing package into 'C:/Users/User/Documents/R/win-library/3.6'\n",
      "(as 'lib' is unspecified)\n",
      "\n"
     ]
    },
    {
     "name": "stdout",
     "output_type": "stream",
     "text": [
      "package 'cvequality' successfully unpacked and MD5 sums checked\n",
      "\n",
      "The downloaded binary packages are in\n",
      "\tC:\\Users\\User\\AppData\\Local\\Temp\\RtmpwV3vWv\\downloaded_packages\n"
     ]
    }
   ],
   "source": [
    "install.packages(\"cvequality\")"
   ]
  },
  {
   "cell_type": "code",
   "execution_count": 7,
   "metadata": {
    "scrolled": true
   },
   "outputs": [
    {
     "data": {
      "text/html": [
       "<dl>\n",
       "\t<dt>$D_AD</dt>\n",
       "\t\t<dd>2.66077894338056</dd>\n",
       "\t<dt>$p_value</dt>\n",
       "\t\t<dd>0.102850355794524</dd>\n",
       "</dl>\n"
      ],
      "text/latex": [
       "\\begin{description}\n",
       "\\item[\\$D\\_AD] 2.66077894338056\n",
       "\\item[\\$p\\_value] 0.102850355794524\n",
       "\\end{description}\n"
      ],
      "text/markdown": [
       "$D_AD\n",
       ":   2.66077894338056\n",
       "$p_value\n",
       ":   0.102850355794524\n",
       "\n",
       "\n"
      ],
      "text/plain": [
       "$D_AD\n",
       "[1] 2.660779\n",
       "\n",
       "$p_value\n",
       "[1] 0.1028504\n"
      ]
     },
     "metadata": {},
     "output_type": "display_data"
    }
   ],
   "source": [
    "# Load required library\n",
    "library(cvequality)\n",
    "\n",
    "test1 <- with(df.lagtime,asymptotic_test(lagtime,type))\n",
    "test1"
   ]
  },
  {
   "cell_type": "code",
   "execution_count": 8,
   "metadata": {
    "scrolled": true
   },
   "outputs": [
    {
     "data": {
      "text/html": [
       "<dl>\n",
       "\t<dt>$MSLRT</dt>\n",
       "\t\t<dd>207.434373174228</dd>\n",
       "\t<dt>$p_value</dt>\n",
       "\t\t<dd>0</dd>\n",
       "</dl>\n"
      ],
      "text/latex": [
       "\\begin{description}\n",
       "\\item[\\$MSLRT] 207.434373174228\n",
       "\\item[\\$p\\_value] 0\n",
       "\\end{description}\n"
      ],
      "text/markdown": [
       "$MSLRT\n",
       ":   207.434373174228\n",
       "$p_value\n",
       ":   0\n",
       "\n",
       "\n"
      ],
      "text/plain": [
       "$MSLRT\n",
       "[1] 207.4344\n",
       "\n",
       "$p_value\n",
       "[1] 0\n"
      ]
     },
     "metadata": {},
     "output_type": "display_data"
    }
   ],
   "source": [
    "test2 <- with(df.lagtime,mslr_test(nr = 1e4, lagtime,type))\n",
    "test2"
   ]
  },
  {
   "cell_type": "markdown",
   "metadata": {
    "toc-hr-collapsed": true
   },
   "source": [
    "---\n",
    "# r-plotmaking\n",
    "       20200501 am\n",
    "#### Required package\n",
    "- **Hmisc package**: Contains many functions useful for data analysis, high-level graphics, utility operations, functions for computing sample size and power, importing and annotating datasets, imputing missing values, advanced table making, variable clustering, character string manipulation, conversion of R objects to LaTeX and html code, and recoding variables.<BR> https://cran.r-project.org/web/packages/Hmisc/index.html"
   ]
  },
  {
   "cell_type": "code",
   "execution_count": 28,
   "metadata": {
    "scrolled": true
   },
   "outputs": [
    {
     "name": "stderr",
     "output_type": "stream",
     "text": [
      "Installing package into 'C:/Users/User/Documents/R/win-library/3.6'\n",
      "(as 'lib' is unspecified)\n",
      "\n"
     ]
    },
    {
     "name": "stdout",
     "output_type": "stream",
     "text": [
      "package 'Hmisc' successfully unpacked and MD5 sums checked\n"
     ]
    },
    {
     "name": "stderr",
     "output_type": "stream",
     "text": [
      "Warning message:\n",
      "\"cannot remove prior installation of package 'Hmisc'\"\n",
      "Warning message in file.copy(savedcopy, lib, recursive = TRUE):\n",
      "\"problem copying C:\\Users\\User\\Documents\\R\\win-library\\3.6\\00LOCK\\Hmisc\\libs\\x64\\Hmisc.dll to C:\\Users\\User\\Documents\\R\\win-library\\3.6\\Hmisc\\libs\\x64\\Hmisc.dll: Permission denied\"\n",
      "Warning message:\n",
      "\"restored 'Hmisc'\"\n"
     ]
    },
    {
     "name": "stdout",
     "output_type": "stream",
     "text": [
      "\n",
      "The downloaded binary packages are in\n",
      "\tC:\\Users\\User\\AppData\\Local\\Temp\\RtmpywQPJw\\downloaded_packages\n"
     ]
    },
    {
     "name": "stderr",
     "output_type": "stream",
     "text": [
      "Loading required package: survival\n",
      "\n",
      "Loading required package: Formula\n",
      "\n",
      "\n",
      "Attaching package: 'Hmisc'\n",
      "\n",
      "\n",
      "The following objects are masked from 'package:dplyr':\n",
      "\n",
      "    src, summarize\n",
      "\n",
      "\n",
      "The following objects are masked from 'package:plyr':\n",
      "\n",
      "    is.discrete, summarize\n",
      "\n",
      "\n",
      "The following objects are masked from 'package:base':\n",
      "\n",
      "    format.pval, units\n",
      "\n",
      "\n"
     ]
    }
   ],
   "source": [
    "# Install packages\n",
    "install.packages(\"Hmisc\")\n",
    "\n",
    "#load necessary libraries and packages\n",
    "library(ggplot2)\n",
    "library(Hmisc)\n",
    "library(readxl)"
   ]
  },
  {
   "cell_type": "markdown",
   "metadata": {},
   "source": [
    "## 1. plotting LTP data using means and SEM"
   ]
  },
  {
   "cell_type": "code",
   "execution_count": 29,
   "metadata": {},
   "outputs": [
    {
     "data": {
      "image/png": "[encoded data removed]",
      "text/plain": [
       "plot without title"
      ]
     },
     "metadata": {
      "image/png": {
       "height": 420,
       "width": 420
      },
      "text/plain": {
       "height": 420,
       "width": 420
      }
     },
     "output_type": "display_data"
    }
   ],
   "source": [
    "# 1. plotting LTP data using means and SEM\n",
    "\n",
    "# 1-1. Read csv file named LTPtest\n",
    "path = \"C:/Users/User/Dropbox/Jupyter/alexei/r_plotmaking_data\"\n",
    "base = \"LTPtest.csv\"\n",
    "filename = file.path(path, base)\n",
    "LTP <- read.csv(filename)\n",
    "\n",
    "# 1-2. Make line plot\n",
    "p<-ggplot(LTP, aes(x=time, y=means))+geom_line(stat=\"identity\",color=\"red\") + geom_point(color=\"red\") + geom_errorbar(aes(ymin=means-SEM, ymax=means+SEM))\n",
    "print(p)"
   ]
  },
  {
   "cell_type": "markdown",
   "metadata": {},
   "source": [
    "## 2. making dot plot with error bars using table with individual data points"
   ]
  },
  {
   "cell_type": "code",
   "execution_count": 30,
   "metadata": {},
   "outputs": [
    {
     "name": "stderr",
     "output_type": "stream",
     "text": [
      "Warning message:\n",
      "\"`fun.y` is deprecated. Use `fun` instead.\"\n",
      "`stat_bindot()` using `bins = 30`. Pick better value with `binwidth`.\n",
      "\n"
     ]
    },
    {
     "data": {
      "image/png": "[encoded data removed]",
      "text/plain": [
       "plot without title"
      ]
     },
     "metadata": {
      "image/png": {
       "height": 420,
       "width": 420
      },
      "text/plain": {
       "height": 420,
       "width": 420
      }
     },
     "output_type": "display_data"
    }
   ],
   "source": [
    "# 2. making dot plot with error bars using table with individual data points\n",
    "\n",
    "# 2-1. import data from excel as df1 using \"Import Dataset\" function in Environment tab, one column containing datapoints, other columns containing independent variables\n",
    "base = \"synchfreeze_aggregated.xlsx\"\n",
    "filename = file.path(path, base)\n",
    "df1 <- read_excel(\"C:/Users/User/Dropbox/Jupyter/alexei/r_plotmaking_data/synchfreeze_aggregated.xlsx\", \n",
    "  sheet = \"for Rplot\")\n",
    "\n",
    "# 2-2. plotting cohen distance with \"condition\" as factor\n",
    "p <- ggplot(df1, aes(x=condition, y=cohen)) + \n",
    "  geom_dotplot(binaxis='y', stackdir='center')\n",
    "\n",
    "p + stat_summary(fun.data=mean_sdl, fun.args = list(mult=1), \n",
    "                 geom=\"errorbar\", color=\"red\", width=0.2) +\n",
    "  stat_summary(fun.y=mean, geom=\"point\", color=\"red\")"
   ]
  },
  {
   "cell_type": "markdown",
   "metadata": {},
   "source": [
    "## 3. plotting paired comparisons of freezing between mice tested alone or in pairs"
   ]
  },
  {
   "cell_type": "code",
   "execution_count": 31,
   "metadata": {},
   "outputs": [
    {
     "data": {
      "image/png": "[encoded data removed]",
      "text/plain": [
       "plot without title"
      ]
     },
     "metadata": {
      "image/png": {
       "height": 420,
       "width": 420
      },
      "text/plain": {
       "height": 420,
       "width": 420
      }
     },
     "output_type": "display_data"
    }
   ],
   "source": [
    "# 3. plotting paired comparisons of freezing between mice tested alone or in pairs\n",
    "\n",
    "# 3-1. load excel file\n",
    "# library(readxl)\n",
    "base = \"freezing_ind_vs_pair_for_Rplot.xlsm\"\n",
    "filename = file.path(path, base)\n",
    "df1 <- read_excel(filename, sheet = \"females\")\n",
    "\n",
    "# 3-2. plot pair comparisons\n",
    "p<- ggplot(df1, aes(x=condition, y=freezing, group=animal, color=animal)) + \n",
    "  geom_line() + geom_point()\n",
    "print(p)"
   ]
  },
  {
   "cell_type": "markdown",
   "metadata": {},
   "source": [
    "## (Option) Export a plot as EPS file"
   ]
  },
  {
   "cell_type": "code",
   "execution_count": null,
   "metadata": {},
   "outputs": [],
   "source": [
    "### (Option) Export a plot as EPS file ##############################################\n",
    "# Change the plot line\n",
    "setEPS()\n",
    "postscript(\"whatever.eps\")\n",
    "# plot(rnorm(100), main=\"Hey Some Data\")\n",
    "print(p)\n",
    "dev.off()\n",
    "#####################################################################################"
   ]
  },
  {
   "cell_type": "markdown",
   "metadata": {
    "toc-hr-collapsed": true
   },
   "source": [
    "---\n",
    "# One-Sample Wilcoxon Signed Rank Test in R\n",
    "http://www.sthda.com/english/wiki/one-sample-wilcoxon-signed-rank-test-in-r"
   ]
  },
  {
   "cell_type": "code",
   "execution_count": null,
   "metadata": {},
   "outputs": [],
   "source": [
    "# We want to know, if the average of the data differs from mu (two-tailed test).\n",
    "\n",
    "# One-sample wilcoxon test\n",
    "res <- wilcox.test(df.lagtime$V1, mu = 44)\n",
    "# Printing the results\n",
    "res"
   ]
  },
  {
   "cell_type": "markdown",
   "metadata": {
    "toc-hr-collapsed": true
   },
   "source": [
    "---\n",
    "# Boxplot for the distribution of lagtime for each animal pair."
   ]
  },
  {
   "cell_type": "code",
   "execution_count": null,
   "metadata": {},
   "outputs": [],
   "source": [
    "# Raw data for lag-time\n",
    "# \"s\" stands for onset and \"e\" stands for offset of freezing\n",
    "d1 <- c( 0,    -24,    3,    0,   16,    8,    9,   -3,    5,    4,   -3,   -1,  -2 )\n",
    "e1 <- c(\"f1s\", \"f1s\", \"f1s\", \"f1s\", \"f1s\", \"f1s\", \"f1s\", \"f1s\", \"f1s\", \"f1s\", \"f1s\", \"f1s\", \"f1s\") \n",
    "\n",
    "d2 <- c(   0,   -9,    0,    0,   13,    0,    0,    4,    2,   -1,   -8,   3)\n",
    "e2 <- c(\"f1e\", \"f1e\", \"f1e\", \"f1e\", \"f1e\", \"f1e\", \"f1e\", \"f1e\", \"f1e\", \"f1e\", \"f1e\", \"f1e\") \n",
    "\n",
    "d3 <- c(14,-1,9,8,-7,0,-8,0,0,-18,0)\n",
    "e3 <- c(\"f2_1s\",\"f2_1s\",\"f2_1s\",\"f2_1s\",\"f2_1s\",\"f2_1s\",\"f2_1s\",\"f2_1s\",\"f2_1s\",\"f2_1s\",\"f2_1s\")\n",
    "\n",
    "d4 <- c(     13,      10,      -3,     -11,      -9,       1,      -3,       3,     -18,      -6,       4,     0)\n",
    "e4 <- c(\"f2_1e\", \"f2_1e\", \"f2_1e\", \"f2_1e\", \"f2_1e\", \"f2_1e\", \"f2_1e\", \"f2_1e\", \"f2_1e\", \"f2_1e\", \"f2_1e\", \"f2_1e\") \n",
    "\n",
    "d5 <- c(3,4,0,4,3,1,0,-8,-4,5,11)\n",
    "e5 <- c(\"f2_2s\",\"f2_2s\",\"f2_2s\",\"f2_2s\",\"f2_2s\",\"f2_2s\",\"f2_2s\",\"f2_2s\",\"f2_2s\",\"f2_2s\",\"f2_2s\")\n",
    "\n",
    "d6 <- c(3,1,0,1,1,0,0,-9,-12,3,-2)\n",
    "e6 <- c(\"f2_2e\",\"f2_2e\",\"f2_2e\",\"f2_2e\",\"f2_2e\",\"f2_2e\",\"f2_2e\",\"f2_2e\",\"f2_2e\",\"f2_2e\",\"f2_2e\")\n",
    "\n",
    "d7 <- c(-3,-1,-7,11,-11,3,-13,-2)\n",
    "e7 <- c(\"f3_1s\",\"f3_1s\",\"f3_1s\",\"f3_1s\",\"f3_1s\",\"f3_1s\",\"f3_1s\",\"f3_1s\")\n",
    "\n",
    "d8 <- c(-7,0,-2,2,-7,2,-6,0)\n",
    "e8 <- c(\"f3_1e\",\"f3_1e\",\"f3_1e\",\"f3_1e\",\"f3_1e\",\"f3_1e\",\"f3_1e\",\"f3_1e\")\n",
    "\n",
    "d9 <- c(3,-12,4,-2,5)\n",
    "e9 <- c(\"f3_2s\",\"f3_2s\",\"f3_2s\",\"f3_2s\",\"f3_2s\")\n",
    "\n",
    "d10 <- c(-1,-3,0,-12)\n",
    "e10 <- c(\"f3_2e\",\"f3_2e\",\"f3_2e\",\"f3_2e\")\n",
    "\n",
    "d11 <- c(-11,-14,11,16,-57,19)\n",
    "e11 <- c(\"f4_1s\",\"f4_1s\",\"f4_1s\",\"f4_1s\",\"f4_1s\",\"f4_1s\")\n",
    "\n",
    "d12 <- c(-16,-10,-25,-1,0)\n",
    "e12 <- c(\"f4_1e\",\"f4_1e\",\"f4_1e\",\"f4_1e\",\"f4_1e\")\n",
    "\n",
    "d13 <- c(3,-4,-18,18)\n",
    "e13 <- c(\"f4_2s\",\"f4_2s\",\"f4_2s\",\"f4_2s\")\n",
    "\n",
    "d14 <- c(8,3,-13,16,0)\n",
    "e14 <- c(\"f4_2e\",\"f4_2e\",\"f4_2e\",\"f4_2e\",\"f4_2e\")\n",
    "\n",
    "# Concatenate the data\n",
    "d <- c(d1,d2,d3,d4,d5,d6,d7,d8,d9,d10,d11,d12,d13,d14)\n",
    "e <- c(e1,e2,e3,e4,e5,e6,e7,e8,e9,e10,e11,e12,e13,e14)\n",
    "\n",
    "# Create data frame\n",
    "mydata <- data.frame(d,e)\n",
    "# Add column names\n",
    "names(mydata) <- c(\"s1_s2\",\"pair\")\n",
    "\n",
    "mydata"
   ]
  },
  {
   "cell_type": "code",
   "execution_count": null,
   "metadata": {},
   "outputs": [],
   "source": [
    "# Boxplot for the distribution of lag-time\n",
    "library(ggplot2)\n",
    "library(ggbeeswarm)\n",
    "\n",
    "ggplot(mydata,aes(pair,s1_s2)) + geom_boxplot() + geom_quasirandom(alpha = 0.9) + theme_bw()\n",
    "\n",
    "### (Option) Export a plot as EPS file ##############################################\n",
    "# Change the plot line\n",
    "setEPS()\n",
    "postscript(\"whatever.eps\")\n",
    "plot(rnorm(100), main=\"Hey Some Data\")\n",
    "dev.off()\n",
    "#####################################################################################"
   ]
  },
  {
   "cell_type": "markdown",
   "metadata": {},
   "source": [
    "---"
   ]
  },
  {
   "cell_type": "markdown",
   "metadata": {
    "toc-hr-collapsed": true,
    "toc-nb-collapsed": true
   },
   "source": [
    "# R version"
   ]
  },
  {
   "cell_type": "code",
   "execution_count": null,
   "metadata": {},
   "outputs": [],
   "source": [
    "version"
   ]
  },
  {
   "cell_type": "markdown",
   "metadata": {
    "toc-hr-collapsed": true
   },
   "source": [
    "---\n",
    "# Read csv file and test correlation\n",
    "The csv file is generated by MATLAB code\n",
    "\n",
    "[READING IN DATA FROM AN EXTERNAL FILE | R LEARNING MODULES](https://stats.idre.ucla.edu/r/modules/reading-in-data-from-an-external-file/)"
   ]
  },
  {
   "cell_type": "code",
   "execution_count": null,
   "metadata": {},
   "outputs": [],
   "source": [
    "test <- read.table('D:\\\\wataru\\\\Recording_Analysis\\\\Bases_dmPFC-BLA\\\\2017-12-19_vm81a_base\\\\myFile.txt', sep = \",\")"
   ]
  },
  {
   "cell_type": "code",
   "execution_count": null,
   "metadata": {},
   "outputs": [],
   "source": [
    "ccf(test[,1], test[,3], lag = 200000, ylim = range(-1,1), type=\"correlation\")"
   ]
  },
  {
   "cell_type": "code",
   "execution_count": null,
   "metadata": {},
   "outputs": [],
   "source": [
    "testTS <- ts(test)"
   ]
  },
  {
   "cell_type": "code",
   "execution_count": null,
   "metadata": {},
   "outputs": [],
   "source": [
    "length(testTS)\n",
    "str(testTS)\n",
    "class(testTS)\n",
    "names(testTS)\n",
    "testTS"
   ]
  },
  {
   "cell_type": "code",
   "execution_count": null,
   "metadata": {},
   "outputs": [],
   "source": []
  },
  {
   "cell_type": "code",
   "execution_count": null,
   "metadata": {},
   "outputs": [],
   "source": [
    "test <- read.table('D:\\\\wataru\\\\Recording_Analysis\\\\Bases_dmPFC-BLA\\\\2017-12-19_vm81a_base\\\\myFile.txt', sep = \",\")"
   ]
  },
  {
   "cell_type": "code",
   "execution_count": null,
   "metadata": {},
   "outputs": [],
   "source": [
    "data (sales)  # parts of Example 11.2.2 from Brockwell and Davies (1991).\n",
    "sal <- diff (sales)\n",
    "led <- diff(lead)\n",
    "ccf (led, sal, lag = 20, ylim = range(-1,1), type=\"o\")"
   ]
  },
  {
   "cell_type": "code",
   "execution_count": null,
   "metadata": {},
   "outputs": [],
   "source": [
    "set.seed(123)\n",
    "x = arima.sim(model=list(0.2, 0, 0.5), n = 100)\n",
    "y = arima.sim(model=list(0.4, 0, 0.4), n = 100)\n",
    "ccf(x, y, type=\"correlation\")"
   ]
  },
  {
   "cell_type": "code",
   "execution_count": null,
   "metadata": {},
   "outputs": [],
   "source": [
    "readClipboard()"
   ]
  },
  {
   "cell_type": "code",
   "execution_count": null,
   "metadata": {},
   "outputs": [],
   "source": [
    "# setwd(\"D:/wataru/Recording_Analysis/Bases_dmPFC-BLA\")\n",
    "# theta <- scan('test.txt')\n",
    "# plot(theta)\n",
    "\n",
    "theta <- scan('D:\\\\wataru\\\\Recording_Analysis\\\\Bases_dmPFC-BLA\\\\2017-12-19_vm81a_base\\\\test.txt')\n",
    "plot(theta)"
   ]
  },
  {
   "cell_type": "markdown",
   "metadata": {
    "toc-hr-collapsed": true
   },
   "source": [
    "---\n",
    "# Data Types\n",
    "https://www.statmethods.net/input/datatypes.html"
   ]
  },
  {
   "cell_type": "code",
   "execution_count": null,
   "metadata": {},
   "outputs": [],
   "source": [
    "######################################################\n",
    "# vectors\n",
    "a <- c(1,2,5.3,6,-2,4) # numeric vector\n",
    "b <- c(\"one\",\"two\",\"three\") # character vector\n",
    "c <- c(TRUE,TRUE,TRUE,FALSE,TRUE,FALSE) #logical vector\n",
    "\n",
    "# Identify rows, columns or elements using subscripts.\n",
    "a[4]\n",
    "a[c(2,4)]\n",
    "\n",
    "######################################################\n",
    "# matrix\n",
    "# generates 5 x 4 numeric matrix \n",
    "y<-matrix(1:20, nrow=5,ncol=4)\n",
    "# another example\n",
    "cells <- c(1,26,24,68)\n",
    "rnames <- c(\"R1\", \"R2\")\n",
    "cnames <- c(\"C1\", \"C2\") \n",
    "mymatrix <- matrix(cells, nrow=2, ncol=2, byrow=TRUE,\n",
    "  dimnames=list(rnames, cnames))\n",
    "\n",
    "# Identify rows, columns or elements using subscripts.\n",
    "x[,4] # 4th column of matrix\n",
    "x[3,] # 3rd row of matrix \n",
    "x[2:4,1:3] # rows 2,3,4 of columns 1,2,3\n",
    "\n",
    "######################################################\n",
    "# Data Frames\n",
    "# A data frame is more general than a matrix, in that different columns can have different\n",
    "# modes (numeric, character, factor, etc.). This is similar to SAS and SPSS datasets.\n",
    "\n",
    "d <- c(1,2,3,4)\n",
    "e <- c(\"red\", \"white\", \"red\", NA)\n",
    "f <- c(TRUE,TRUE,TRUE,FALSE)\n",
    "mydata <- data.frame(d,e,f)\n",
    "names(mydata) <- c(\"ID\",\"Color\",\"Passed\") # variable names\n",
    "\n",
    "# Identify rows, columns or elements using subscripts.\n",
    "mydata[2:3] # columns 3,4,5 of data frame\n",
    "mydata[c(\"ID\",\"Passed\")] # columns ID and Age from data frame\n",
    "mydata$Color # variable x1 in the data frame\n",
    "mydata[1,3]\n",
    "\n",
    "######################################################\n",
    "# The ls() function returns a vector listing lists all the objects (vectors, data frames, etc) in your current workspace.\n",
    "ls()\n",
    "\n",
    "# Remove these three objects\n",
    "rm(\"first_name\", \"last_name\", \"new_df\")\n",
    " \n",
    "# Or remove objects listed in a vector\n",
    "rm(list = c(\"first_name\", \"last_name\", \"new_df\"))\n",
    " \n",
    "# Or remove all files from your workspace\n",
    "rm(list = ls())\n",
    " \n",
    "# Or remove vectors programmatically.  Delete objects with underscore in name\n",
    "rm(list = ls()[grepl(\"_\", ls())])\n",
    "\n",
    "######################################################\n",
    "# Lists\n",
    "# An ordered collection of objects (components). A list allows you to gather a variety of \n",
    "# (possibly unrelated) objects under one name.\n",
    "# example of a list with 4 components - \n",
    "# a string, a numeric vector, a matrix, and a scaler \n",
    "\n",
    "w <- list(name=\"Fred\", mynumbers=a, mymatrix=y, age=5.3)\n",
    "\n",
    "# example of a list containing two lists\n",
    "# It looks concatenate the two lists\n",
    "v <- c(w,w)\n",
    "\n",
    "# Identify elements of a list using the [[]] convention.\n",
    "mylist[[2]] # 2nd component of the list\n",
    "mylist[[\"mynumbers\"]] # component named mynumbers in list\n",
    "\n",
    "\n",
    "\n",
    "######################################################\n",
    "# Factors\n",
    "# Tell R that a variable is nominal by making it a factor. The factor stores the nominal\n",
    "# values as a vector of integers in the range [ 1... k ] (where k is the number of unique \n",
    "# values in the nominal variable), and an internal vector of character strings (the original \n",
    "# values) mapped to these integers.\n",
    "\n",
    "# variable gender with 20 \"male\" entries and \n",
    "# 30 \"female\" entries \n",
    "gender <- c(rep(\"male\",20), rep(\"female\", 30)) \n",
    "gender <- factor(gender) \n",
    "# stores gender as 20 1s and 30 2s and associates\n",
    "# 1=female, 2=male internally (alphabetically)\n",
    "# R now treats gender as a nominal variable \n",
    "summary(gender)\n"
   ]
  }
 ],
 "metadata": {
  "kernelspec": {
   "display_name": "R",
   "language": "R",
   "name": "ir"
  },
  "language_info": {
   "codemirror_mode": "r",
   "file_extension": ".r",
   "mimetype": "text/x-r-source",
   "name": "R",
   "pygments_lexer": "r",
   "version": "3.6.3"
  },
  "toc-autonumbering": false,
  "toc-showcode": false,
  "toc-showmarkdowntxt": false
 },
 "nbformat": 4,
 "nbformat_minor": 4
}
