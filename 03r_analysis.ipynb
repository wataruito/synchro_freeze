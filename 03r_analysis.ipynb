{
 "cells": [
  {
   "cell_type": "markdown",
   "metadata": {},
   "source": [
    "---\n",
    "## Step 0. Before starting\n",
    "### 0-1. Update R\n",
    "1. Download binaries (Run R-3.X.X-win.exe) from https://www.r-project.org/.\n",
    "2. Run R-3.X.X-win.exe\n",
    "3. Set system path.\n",
    "    - Type \"env\" in the Start button and select \"Edit the system environment variables\".\n",
    "    - Push \"Environment Variables...\" button.\n",
    "    - Change \"Path\" variable.\n",
    "4. Install IRkernel for Jupyter\n",
    "    - in Anaconda prompt (Admin)\n",
    "    ```\n",
    "    > R\n",
    "    > install.packages('IRkernel')\n",
    "    > IRkernel::installspec()\n",
    "    ```\n",
    "    \n",
    "### 0-2. How to nstall packages\n",
    "**Only for the first installation**, open command window.<BR>\n",
    "**\\<on Win10\\ as regular user>**\n",
    "```\n",
    "C:\\Users\\User>R\n",
    "> install.packages(\"ggpubr\")\n",
    "```\n",
    "It will ask if you want to create personal for installation. Answer with **\"yes\"**. Once you do so, you can install additional packages from Jupyter.\n",
    "\n",
    "**\\<on Ubuntu\\>**\n",
    "```\n",
    "$ sudo R\n",
    "> install.packages(\"ggpubr\")\n",
    "```\n",
    "\n",
    "**\\<using Jupyter\\>**"
   ]
  },
  {
   "cell_type": "code",
   "execution_count": null,
   "metadata": {},
   "outputs": [],
   "source": [
    "install.packages(\"magrittr\")"
   ]
  },
  {
   "cell_type": "markdown",
   "metadata": {},
   "source": [
    "### 0-3. Useful packages\n",
    "- **ggpubr**: 'ggplot2' Based Publication Ready Plots<BR>\n",
    "https://cran.r-project.org/web/packages/ggpubr/index.html<BR>\n",
    "- **magrittr**: It provides a new **“pipe”-like operator**, %>%<BR>\n",
    "https://cran.r-project.org/web/packages/magrittr/vignettes/magrittr.html    \n",
    "- **stringr**: Simple, Consistent Wrappers for **Common String Operations**<BR>\n",
    "https://www.rdocumentation.org/packages/stringr/versions/1.4.0<BR>\n",
    "    used as `for (colname in str_subset(names(df), rex)){` in the function conv_str2list().\n",
    "- **hablar**: Simple tools for **converting columns to new data types**. Intuitive functions for columns with missing values.<BR>\n",
    "https://cran.r-project.org/web/packages/hablar/<BR>\n",
    "    used as `convert(lgl(single_animal))`.\n",
    "- **dplyre**: dplyr is a grammar of data manipulation, providing a consistent set of verbs that help you solve the most common data manipulation challenges.<BR>\n",
    "https://dplyr.tidyverse.org/<BR>\n",
    "    used as `not yet`.\n",
    "\n",
    "### 0-4. Check R version"
   ]
  },
  {
   "cell_type": "code",
   "execution_count": null,
   "metadata": {},
   "outputs": [],
   "source": [
    "version"
   ]
  },
  {
   "cell_type": "markdown",
   "metadata": {},
   "source": [
    "---\n",
    "## Step 1. Package preparation\n",
    "### 1-1. Install packages"
   ]
  },
  {
   "cell_type": "code",
   "execution_count": null,
   "metadata": {
    "scrolled": true
   },
   "outputs": [],
   "source": [
    "# Install packages\n",
    "\n",
    "install.packages(\"magrittr\")\n",
    "install.packages(\"hablar\")\n",
    "install.packages(\"ggbeeswarm\")\n",
    "install.packages(\"tidyverse\")\n",
    "# install.packages(\"dplyr\")\n",
    "# install.packages(\"stringr\")\n",
    "install.packages(\"Rmisc\")\n",
    "install.packages(\"e1071\")"
   ]
  },
  {
   "cell_type": "markdown",
   "metadata": {},
   "source": [
    "### 1-2. Load libraries"
   ]
  },
  {
   "cell_type": "code",
   "execution_count": null,
   "metadata": {
    "scrolled": true
   },
   "outputs": [],
   "source": [
    "# Load required library\n",
    "library(Rmisc)\n",
    "library(hablar)\n",
    "library(tidyverse)\n",
    "# library(dplyr)\n",
    "\n",
    "path = \"C:/Users/User/Dropbox/Jupyter/wataru/synchro_freeze\"\n",
    "base = \"synchro_freeze.R\"\n",
    "filename = file.path(path, base)\n",
    "source(filename)\n",
    "\n",
    "library(magrittr)\n",
    "library(ggplot2)\n",
    "library(ggpubr) # ggplot2 based publication ready plots\n",
    "\n",
    "#library(Rmisc)"
   ]
  },
  {
   "cell_type": "markdown",
   "metadata": {},
   "source": [
    "---\n",
    "## Step 2. Import CSV file and save as R data frame"
   ]
  },
  {
   "cell_type": "code",
   "execution_count": null,
   "metadata": {},
   "outputs": [],
   "source": [
    "#######################################\n",
    "# Load the big table into t1\n",
    "# R accepts both ways to describe path.\n",
    "# filename <- \"C:\\\\Users\\\\User\\\\Desktop\\\\project\\\\summary3.csv\"\n",
    "\n",
    "path = \"Z:/videos_synchrony\"\n",
    "base = \"summary3.csv\"\n",
    "filename = file.path(path, base)\n",
    "t1 = read.table(file=filename,header=TRUE, sep=\",\")\n",
    "t1 = t1 %>% convert(lgl(single_animal))\n",
    "\n",
    "# Load groups table into t2\n",
    "base = \"IVs.csv\"\n",
    "filename = file.path(path, base)\n",
    "t2 = read.table(file=filename,header=TRUE, sep=\",\")\n",
    "t2 = t2 %>% convert(lgl(single_animal))\n",
    "\n",
    "#######################################\n",
    "# merge two data frames by IDs\n",
    "df <- merge(t2, t1, by=c(\"folder_videoname\",\"single_animal\"))\n",
    "# rename of column names may be necessary\n",
    "#names(df)[names(df) == \"single_animal.x\"] <- \"single_animal\"\n",
    "\n",
    "#######################################\n",
    "# Post process\n",
    "# Convert strings to integer list\n",
    "rex = \"fz_start*|fz_end*|lagt_*\"\n",
    "df = conv_str2list(df, rex)\n",
    "\n",
    "# Adjust dtype\n",
    "df = df %>% convert(chr(folder_videoname,sex,familiarity,lighting,stress,comment,infusion_hpc,infusion_pfc))\n",
    "\n",
    "# Set NA for empty cell\n",
    "df[df==\"\"]<-NA\n",
    "# df[is.nan(df)] <- NA\n",
    "\n",
    "#######################################\n",
    "# Exclude records\n",
    "cat(\"Exclude\", nrow(df[df$exclude==TRUE,]), \"records from\", nrow(df), \"records\\n\")\n",
    "df = df[df$exclude!=TRUE,]\n",
    "cat(\"Remaining records are\", nrow(df), \"\\n\")\n",
    "\n",
    "#######################################\n",
    "# convert tibble to data.frame\n",
    "df = as.data.frame(df)\n",
    "\n",
    "#######################################\n",
    "# Display summary\n",
    "dis_summary(df)\n",
    "\n",
    "# if(which(df$single_animal.x != df$single_animal.y) == FALSE){\n",
    "#     print(\"folder_videoname and single_animal are consistent.\")\n",
    "# } else {\n",
    "#     print(\"something is wrong\")\n",
    "# }\n",
    "\n",
    "#######################################\n",
    "# Save DF\n",
    "# You can open from RStudio\n",
    "base = \"data.Rda\"\n",
    "filename = file.path(path, base)\n",
    "save(df, file=filename)\n",
    "\n",
    "path = \"C:/Users/User/Dropbox/Jupyter/wataru/synchro_freeze\"\n",
    "base = \"data.Rda\"\n",
    "filename = file.path(path, base)\n",
    "save(df, file=filename)\n"
   ]
  },
  {
   "cell_type": "markdown",
   "metadata": {},
   "source": [
    "---\n",
    "## Step 3. Sex and stress effects on synchronization\n",
    "**Load R dataframe**"
   ]
  },
  {
   "cell_type": "code",
   "execution_count": null,
   "metadata": {},
   "outputs": [],
   "source": [
    "# Load DF\n",
    "path = \"C:/Users/User/Dropbox/Jupyter/wataru/synchro_freeze\"\n",
    "base = \"data.Rda\"\n",
    "filename = file.path(path, base)\n",
    "load(file=filename)\n",
    "\n",
    "#######################################\n",
    "# Display summary\n",
    "dis_summary(df)"
   ]
  },
  {
   "cell_type": "markdown",
   "metadata": {},
   "source": [
    "**Exclude single animal, infusion, lighting and partition experiments**<BR>\n",
    "It's good to check using the data frame viewer in RStudio."
   ]
  },
  {
   "cell_type": "code",
   "execution_count": null,
   "metadata": {},
   "outputs": [],
   "source": [
    "df.set1 <- subset(df, \n",
    "                  single_animal==FALSE & \n",
    "                  is.na(infusion_hpc) &\n",
    "                  is.na(infusion_pfc) & \n",
    "                  familiarity=='familiar' &\n",
    "                  lighting =='visible' & \n",
    "                  partition==FALSE &\n",
    "                  exclude==FALSE)\n",
    "\n",
    "#######################################\n",
    "# Display summary\n",
    "dis_summary(df.set1)"
   ]
  },
  {
   "cell_type": "markdown",
   "metadata": {},
   "source": [
    "**Change order of individual variables**<BR>\n",
    "    Explicitly set the order in individual valiables"
   ]
  },
  {
   "cell_type": "code",
   "execution_count": null,
   "metadata": {},
   "outputs": [],
   "source": [
    "df.set1 <- within(df.set1, sex <- factor(sex, levels = c(\"male\",\"female\")))\n",
    "df.set1 <- within(df.set1, stress <- factor(stress, levels = c(\"no_stress\",\"stress\")))"
   ]
  },
  {
   "cell_type": "markdown",
   "metadata": {},
   "source": [
    "**Plot Cohen D with SEM errorbar from familiar male and female pairs**<BR>\n",
    "Remaining independent variables are sex, familiarity and stress.\n",
    "\n",
    "- **ggplot2 dot plot : Quick start guide - R software and data visualization**<BR>\n",
    "http://www.sthda.com/english/wiki/ggplot2-dot-plot-quick-start-guide-r-software-and-data-visualization\n",
    "\n",
    "- **Multiple graphs on one page (ggplot2)**<BR>\n",
    "http://www.cookbook-r.com/Graphs/Multiple_graphs_on_one_page_(ggplot2)/\n",
    "- **ggplot2 まとめ: 初歩から程よいレベルまで (in Japanese)**<BR>\n",
    "https://mrunadon.github.io/images/geom_kazutanR.html \n",
    "- **Beautiful plotting in R: A ggplot2 cheatsheet**<BR>\n",
    "http://zevross.com/blog/2014/08/04/beautiful-plotting-in-r-a-ggplot2-cheatsheet-3/\n",
    "- **Complete themes**<BR>\n",
    "    https://ggplot2.tidyverse.org/reference/ggtheme.html\n",
    "- **Resizing plots in the R kernel for Jupyter notebooks**<BR>\n",
    "https://blog.revolutionanalytics.com/2015/09/resizing-plots-in-the-r-kernel-for-jupyter-notebooks.html        \n",
    "- **GGPLOT LEGEND TITLE, POSITION AND LABELS**<BR>\n",
    " https://www.datanovia.com/en/blog/ggplot-legend-title-position-and-labels/   \n",
    "- **Arrange Multiple ggplots**<BR>\n",
    "    https://rpkgs.datanovia.com/ggpubr/reference/ggarrange.html\n",
    "    \n",
    "Other decoration for plots not used below\n",
    "\n",
    "    # Gray plot\n",
    "    # scale_fill_grey() + theme_classic()+\n",
    "    # add error bar in SD\n",
    "    # stat_summary(fun.data=mean_sdl, fun.args = list(mult=1), geom=\"errorbar\", color=\"red\", width=0.2)+\n",
    "    # add mean red point\n",
    "    # stat_summary(fun=mean, geom=\"point\", color=\"red\")"
   ]
  },
  {
   "cell_type": "code",
   "execution_count": null,
   "metadata": {},
   "outputs": [],
   "source": [
    "box_plot <- function(df.input, x1_col_label, y_col_label, x2_col_label, x2_col_value, yaxis_label){\n",
    "    #######################################################\n",
    "    # parameters to adjust graph\n",
    "    # graph width x hight\n",
    "#     plot_width = 8\n",
    "#     plot_hight = 6\n",
    "\n",
    "    # dotplot\n",
    "    dp_binwidth=0.2\n",
    "    dp_dotsize=0.8\n",
    "    \n",
    "    # y limits\n",
    "    ylim1 = -2\n",
    "    ylim2 = 4.5\n",
    "    #######################################################\n",
    "    \n",
    "    # get column name\n",
    "    x1 <- names(df.input)[which (colnames(df.input)==x1_col_label)]\n",
    "    x2 <- names(df.input)[which (colnames(df.input)==x2_col_label)]\n",
    "    y <- names(df.input)[which (colnames(df.input)==y_col_label)]\n",
    "    \n",
    "    # set the size of final plot\n",
    "    # options(repr.plot.width=plot_width, repr.plot.height=plot_hight)\n",
    "\n",
    "    # set data frame and axes\n",
    "    ggp.output <- ggplot(df.input[df.input[,x2]==x2_col_value,], aes_string(x=x1, y=y, fill=x1))+\n",
    "        # add boxplot with mean and SEM (MeanSEM) or SD (MeanSD).\n",
    "        # stat_summary(fun.data=MeanSEM, geom=\"boxplot\", colour=\"black\", width=0.6)+\n",
    "        stat_summary(fun.data=MeanSD, geom=\"boxplot\", colour=\"black\", width=0.5)+\n",
    "        # Dotplot\n",
    "        geom_dotplot(binaxis='y', stackdir='center', binwidth=dp_binwidth, dotsize=dp_dotsize, fill='black')+\n",
    "        # y axis label\n",
    "        labs(y=yaxis_label)+\n",
    "        # Limit y axis range\n",
    "        ylim(c(ylim1, ylim2))+\n",
    "\n",
    "    # Remainings are all the same. No need to modify.\n",
    "        # Change filling color for box\n",
    "        scale_fill_manual(values=c(\"#FF3333\", \"#3333FF\"))+\n",
    "        # Change theme. Look at \"Complete themes\" above.\n",
    "        theme_bw()+\n",
    "        # Control of axes\n",
    "        theme(\n",
    "            axis.title.x = element_blank(),\n",
    "            axis.title.y = element_text(size=25,vjust=2,face='bold'),\n",
    "            axis.text=element_text(size=20))+    \n",
    "        # Control of legend\n",
    "        theme(\n",
    "            #legend.position = \"none\",\n",
    "            legend.position = 'bottom',\n",
    "            legend.direction = \"horizontal\",\n",
    "            #legend.title = element_text(size=20,face='bold'),\n",
    "            legend.title = element_blank(),\n",
    "            legend.text=element_text(size=20))\n",
    "    \n",
    "    return(ggp.output)\n",
    "}\n",
    "\n",
    "out1_1 = box_plot(df.set1, \"sex\",\"cohen_d\", \"stress\", \"no_stress\",\"Cohen D\")\n",
    "out1_2 = box_plot(df.set1, \"sex\",\"cohen_d\", \"stress\", \"stress\",\"Cohen D\")\n",
    "\n",
    "# plot the two plots\n",
    "# set the size of final plot, width x hight\n",
    "plot_width = 8\n",
    "plot_hight = 6\n",
    "options(repr.plot.width=plot_width, repr.plot.height=plot_hight)\n",
    "\n",
    "ggarrange(out1_1, out1_2, ncol=2)"
   ]
  },
  {
   "cell_type": "markdown",
   "metadata": {},
   "source": [
    "**Export the plot as an eps file**"
   ]
  },
  {
   "cell_type": "code",
   "execution_count": null,
   "metadata": {},
   "outputs": [],
   "source": [
    "# Output eps file on desktop\n",
    "path = \"C:/Users/User/Desktop\"\n",
    "base = \"plot.eps\"\n",
    "filename = file.path(path, base)\n",
    "\n",
    "ggsave(filename, device=cairo_ps,width=plot_width, height=plot_height)"
   ]
  },
  {
   "cell_type": "markdown",
   "metadata": {},
   "source": [
    "**1-sample t-test**\n",
    "- R - Mean, Median and Mode\n",
    "https://www.tutorialspoint.com/r/r_mean_median_mode.htm\n",
    "\n",
    "- 13.3 T-test: t.test()\n",
    "https://bookdown.org/ndphillips/YaRrr/t-test-t-test.html\n",
    "    \n"
   ]
  },
  {
   "cell_type": "code",
   "execution_count": null,
   "metadata": {},
   "outputs": [],
   "source": [
    "one_sample_t_test <- function(df.input, y_col, x1_col, x1_value, x2_col, x2_value){\n",
    "#############################################################\n",
    "# 1 sample t-test for (y_col), where\n",
    "#     (x1_col) = x1_value\n",
    "#     (x2_col) = x2_value\n",
    "# hypothetical value (mu = 0)\n",
    "#############################################################\n",
    "    # get index for each column name\n",
    "    #    you can use either forms work\n",
    "#     x1 <- which (colnames(df.input)==x1_col)\n",
    "#     x2 <- which (colnames(df.input)==x2_col)\n",
    "#     y <- which (colnames(df.input)==y_col)\n",
    "    x1 <- names(df.input)[which (colnames(df.input)==x1_col)]\n",
    "    x2 <- names(df.input)[which (colnames(df.input)==x2_col)]\n",
    "    y <- names(df.input)[which (colnames(df.input)==y_col)]\n",
    "    \n",
    "    # Extract data frame to vector\n",
    "    temp = df.input[,y][df.input[,x1]==x1_value & df.input[,x2]==x2_value]\n",
    "    \n",
    "    cat(paste0('### (',x1_value,\", \\t\",x2_value, \") \\t###\\t\"))\n",
    "    temp.test <- t.test(temp, mu=0)\n",
    "    cat(\"p-value: \",temp.test[[\"p.value\"]],\"\\n\")\n",
    "    # detailed information\n",
    "    # print(temp.test)\n",
    "\n",
    "    return(temp.test)\n",
    "}\n",
    "for (sex in c(\"male\",\"female\")){\n",
    "    for (stress in c(\"stress\", \"no_stress\")){\n",
    "        temp = one_sample_t_test(df.set1,\"cohen_d\", \"sex\",sex,\"stress\",stress)\n",
    "    }\n",
    "}\n"
   ]
  },
  {
   "cell_type": "markdown",
   "metadata": {},
   "source": [
    "**2-sample t-test**"
   ]
  },
  {
   "cell_type": "code",
   "execution_count": null,
   "metadata": {
    "scrolled": true
   },
   "outputs": [],
   "source": [
    "two_sample_t_test <- function(df.input, y_col, xa1_col, xa1_value, xa2_col, xa2_value,xb1_col, xb1_value, xb2_col, xb2_value){\n",
    "#############################################################\n",
    "# 2 sample t-test for (y_col), between\n",
    "#     (xa1_col) = xa1_value and (xa2_col) = xa2_value\n",
    "#     (xb1_col) = xb1_value and (xb2_col) = xb2_value\n",
    "#############################################################\n",
    "    # get index for each column name\n",
    "    xa1 <- names(df.input)[which (colnames(df.input)==xa1_col)]\n",
    "    xa2 <- names(df.input)[which (colnames(df.input)==xa2_col)]\n",
    "    xb1 <- names(df.input)[which (colnames(df.input)==xb1_col)]\n",
    "    xb2 <- names(df.input)[which (colnames(df.input)==xb2_col)]\n",
    "    y <- names(df.input)[which (colnames(df.input)==y_col)]\n",
    "    \n",
    "    # Extract data frame\n",
    "    temp.a = df.input[,y][df.input[,xa1]==xa1_value & df.input[,xa2]==xa2_value]\n",
    "    temp.b = df.input[,y][df.input[,xb1]==xb1_value & df.input[,xb2]==xb2_value]\n",
    "    \n",
    "    cat(paste0('### (',xa1_value,\", \\t\",xa2_value, \") \\tvs. (\", xb1_value, \", \\t\", xb2_value, \") \\t###\\t\"))\n",
    "    temp.test <- t.test(temp.a, temp.b)\n",
    "    cat(\"p-value: \",temp.test[[\"p.value\"]],\"\\n\")\n",
    "    # detailed information\n",
    "    #print(temp.test)\n",
    "\n",
    "    return(temp.test)\n",
    "}\n",
    "\n",
    "for (sex1 in c(\"male\", \"female\")){\n",
    "    for (sex2 in c(\"male\", \"female\")){\n",
    "        for (stress1 in c(\"stress\",\"no_stress\")){\n",
    "            for (stress2 in c(\"stress\",\"no_stress\")){\n",
    "                temp = two_sample_t_test(df.set1, \"cohen_d\",\"sex\",sex1,\"stress\",stress1,\"sex\",sex2,\"stress\",stress2)\n",
    "}}}}\n",
    "\n",
    "\n"
   ]
  },
  {
   "cell_type": "markdown",
   "metadata": {},
   "source": [
    "---\n",
    "## Step 4. Sex and stress effects on freezing\n",
    "**collapse sub1 and sub2 freezing into the same column with cohen_d**"
   ]
  },
  {
   "cell_type": "code",
   "execution_count": null,
   "metadata": {},
   "outputs": [],
   "source": [
    "# Create data frame\n",
    "df.freeze = data.frame(sex=character(),stress=character(),freeze=double(),cohen_d=double())\n",
    "\n",
    "for (sex in c(\"male\", \"female\")){\n",
    "    for (stress in c(\"stress\",\"no_stress\")){\n",
    "        # Append rows from onset\n",
    "        df.freeze = df.freeze %>% add_row(\n",
    "            \"freeze\" = unlist(df.set1['fz_sub1'][df.set1$sex==sex & df.set1$stress==stress,]),\n",
    "            \"cohen_d\" = unlist(df.set1['cohen_d'][df.set1$sex==sex & df.set1$stress==stress,]),\n",
    "            \"sex\" = sex, \"stress\" = stress)\n",
    "    }\n",
    "}\n",
    "\n",
    "for (sex in c(\"male\", \"female\")){\n",
    "    for (stress in c(\"stress\",\"no_stress\")){\n",
    "        # Append rows from onset\n",
    "        df.freeze = df.freeze %>% add_row(\n",
    "            \"freeze\" = unlist(df.set1['fz_sub2'][df.set1$sex==sex & df.set1$stress==stress,]),\n",
    "            \"cohen_d\" = unlist(df.set1['cohen_d'][df.set1$sex==sex & df.set1$stress==stress,]),\n",
    "            \"sex\" = sex, \"stress\" = stress)\n",
    "    }\n",
    "}\n",
    "\n",
    "\n",
    "# Explicitly set the order in individual valiables\n",
    "df.freeze <- within(df.freeze, sex <- factor(sex, levels = c(\"male\",\"female\")))\n",
    "df.freeze <- within(df.freeze, stress <- factor(stress, levels = c(\"no_stress\",\"stress\")))\n",
    "\n",
    "#######################################\n",
    "# Display summary\n",
    "dis_summary(df.freeze)"
   ]
  },
  {
   "cell_type": "markdown",
   "metadata": {},
   "source": [
    "**plot the graphs**"
   ]
  },
  {
   "cell_type": "code",
   "execution_count": null,
   "metadata": {},
   "outputs": [],
   "source": [
    "box_plot <- function(df.input, x1_col_label, y_col_label, x2_col_label, x2_col_value, yaxis_label){\n",
    "    #######################################################\n",
    "    # parameters to adjust graph\n",
    "    # graph width x hight\n",
    "#     plot_width = 8\n",
    "#     plot_hight = 6\n",
    "\n",
    "    # dotplot\n",
    "    dp_binwidth=0.7\n",
    "    dp_dotsize=3\n",
    "    \n",
    "    # y limits\n",
    "    ylim1 = -2\n",
    "    ylim2 = 90\n",
    "    #######################################################\n",
    "    \n",
    "    # get column name\n",
    "    x1 <- names(df.input)[which (colnames(df.input)==x1_col_label)]\n",
    "    x2 <- names(df.input)[which (colnames(df.input)==x2_col_label)]\n",
    "    y <- names(df.input)[which (colnames(df.input)==y_col_label)]\n",
    "    \n",
    "    # set the size of final plot\n",
    "    # options(repr.plot.width=plot_width, repr.plot.height=plot_hight)\n",
    "\n",
    "    # set data frame and axes\n",
    "    ggp.output <- ggplot(df.input[df.input[,x2]==x2_col_value,], aes_string(x=x1, y=y, fill=x1))+\n",
    "        # add boxplot with mean and SEM (MeanSEM) or SD (MeanSD).\n",
    "        # stat_summary(fun.data=MeanSEM, geom=\"boxplot\", colour=\"black\", width=0.6)+\n",
    "        stat_summary(fun.data=MeanSD, geom=\"boxplot\", colour=\"black\", width=0.5)+\n",
    "        # Dotplot\n",
    "        geom_dotplot(binaxis='y', stackdir='center', binwidth=dp_binwidth, dotsize=dp_dotsize, fill='black')+\n",
    "        # y axis label\n",
    "        labs(y=yaxis_label)+\n",
    "        # Limit y axis range\n",
    "        ylim(c(ylim1, ylim2))+\n",
    "\n",
    "    # Remainings are all the same. No need to modify.\n",
    "        # Change filling color for box\n",
    "        scale_fill_manual(values=c(\"#FF3333\", \"#3333FF\"))+\n",
    "        # Change theme. Look at \"Complete themes\" above.\n",
    "        theme_bw()+\n",
    "        # Control of axes\n",
    "        theme(\n",
    "            axis.title.x = element_blank(),\n",
    "            axis.title.y = element_text(size=25,vjust=2,face='bold'),\n",
    "            axis.text=element_text(size=20))+    \n",
    "        # Control of legend\n",
    "        theme(\n",
    "            #legend.position = \"none\",\n",
    "            legend.position = 'bottom',\n",
    "            legend.direction = \"horizontal\",\n",
    "            #legend.title = element_text(size=20,face='bold'),\n",
    "            legend.title = element_blank(),\n",
    "            legend.text=element_text(size=20))\n",
    "    \n",
    "    return(ggp.output)\n",
    "}\n",
    "\n",
    "out2_1 = box_plot(df.freeze, \"sex\",\"freeze\", \"stress\", \"no_stress\",\"Freezing (%)\")\n",
    "out2_2 = box_plot(df.freeze, \"sex\",\"freeze\", \"stress\", \"stress\",\"Freezing (%)\")\n",
    "\n",
    "# plot the two plots\n",
    "# set the size of final plot, width x hight\n",
    "plot_width = 8\n",
    "plot_hight = 6\n",
    "options(repr.plot.width=plot_width, repr.plot.height=plot_hight)\n",
    "\n",
    "ggarrange(out2_1, out2_2, ncol=2)"
   ]
  },
  {
   "cell_type": "markdown",
   "metadata": {},
   "source": [
    "**Export the plot as an eps file**"
   ]
  },
  {
   "cell_type": "code",
   "execution_count": null,
   "metadata": {},
   "outputs": [],
   "source": [
    "# Output eps file on desktop\n",
    "path = \"C:/Users/User/Desktop\"\n",
    "base = \"plot.eps\"\n",
    "filename = file.path(path, base)\n",
    "\n",
    "ggsave(filename, device=cairo_ps,width=plot_width, height=plot_height)"
   ]
  },
  {
   "cell_type": "markdown",
   "metadata": {},
   "source": [
    "**2-sample t-test**"
   ]
  },
  {
   "cell_type": "code",
   "execution_count": null,
   "metadata": {},
   "outputs": [],
   "source": [
    "two_sample_t_test <- function(df.input, y_col, xa1_col, xa1_value, xa2_col, xa2_value,xb1_col, xb1_value, xb2_col, xb2_value){\n",
    "#############################################################\n",
    "# 2 sample t-test for (y_col), between\n",
    "#     (xa1_col) = xa1_value and (xa2_col) = xa2_value\n",
    "#     (xb1_col) = xb1_value and (xb2_col) = xb2_value\n",
    "#############################################################\n",
    "    # get index for each column name\n",
    "    xa1 <- names(df.input)[which (colnames(df.input)==xa1_col)]\n",
    "    xa2 <- names(df.input)[which (colnames(df.input)==xa2_col)]\n",
    "    xb1 <- names(df.input)[which (colnames(df.input)==xb1_col)]\n",
    "    xb2 <- names(df.input)[which (colnames(df.input)==xb2_col)]\n",
    "    y <- names(df.input)[which (colnames(df.input)==y_col)]\n",
    "    \n",
    "    # Extract data frame\n",
    "    temp.a = df.input[,y][df.input[,xa1]==xa1_value & df.input[,xa2]==xa2_value]\n",
    "    temp.b = df.input[,y][df.input[,xb1]==xb1_value & df.input[,xb2]==xb2_value]\n",
    "    \n",
    "    cat(paste0('### (',xa1_value,\", \\t\",xa2_value, \") \\tvs. (\", xb1_value, \", \\t\", xb2_value, \") \\t###\\t\"))\n",
    "    temp.test <- t.test(temp.a, temp.b)\n",
    "    cat(\"p-value: \",temp.test[[\"p.value\"]],\"\\n\")\n",
    "    # detailed information\n",
    "    #print(temp.test)\n",
    "    \n",
    "    return(temp.test)\n",
    "}\n",
    "\n",
    "for (sex1 in c(\"male\", \"female\")){\n",
    "    for (sex2 in c(\"male\", \"female\")){\n",
    "        for (stress1 in c(\"stress\",\"no_stress\")){\n",
    "            for (stress2 in c(\"stress\",\"no_stress\")){\n",
    "                temp = two_sample_t_test(df.freeze, \"freeze\",\"sex\",sex1,\"stress\",stress1,\"sex\",sex2,\"stress\",stress2)\n",
    "}}}}\n"
   ]
  },
  {
   "cell_type": "markdown",
   "metadata": {},
   "source": [
    "---\n",
    "**Examine the output from 2-sample t-test**<BR>\n",
    "The class of output is 'htest', and complecated!"
   ]
  },
  {
   "cell_type": "code",
   "execution_count": null,
   "metadata": {
    "scrolled": true
   },
   "outputs": [],
   "source": [
    "# temp is the output from the previous cell\n",
    "# print out the test\n",
    "temp\n",
    "# list variable names in the temp\n",
    "names(temp)\n",
    "# print lass of the temp output\n",
    "class(temp)\n",
    "# stracture of the temp output\n",
    "str(temp)\n",
    "# summary of variables of the temp output\n",
    "summary(temp)"
   ]
  },
  {
   "cell_type": "markdown",
   "metadata": {},
   "source": [
    "**Naking the output**<BR>\n",
    "    Output is a list of multiple lists"
   ]
  },
  {
   "cell_type": "code",
   "execution_count": null,
   "metadata": {
    "scrolled": true
   },
   "outputs": [],
   "source": [
    "# Show the content of parameter\n",
    "temp['parameter']\n",
    "temp[2]\n",
    "\n",
    "# Extract the inside list\n",
    "temp[['parameter']]\n",
    "temp[[2]]\n",
    "temp$parameter\n",
    "\n",
    "# Show the content of \"df\" value in the inside list\n",
    "temp[['parameter']]['df']\n",
    "temp[[2]][1]\n",
    "\n",
    "# Extract value from the \n",
    "temp[['parameter']][['df']]\n",
    "temp[[2]][[1]]"
   ]
  },
  {
   "cell_type": "markdown",
   "metadata": {},
   "source": [
    "**You can even add new value**"
   ]
  },
  {
   "cell_type": "code",
   "execution_count": null,
   "metadata": {},
   "outputs": [],
   "source": [
    "temp[['parameter']]['df1'] = 1"
   ]
  },
  {
   "cell_type": "markdown",
   "metadata": {},
   "source": [
    "---\n",
    "## Summary graphs"
   ]
  },
  {
   "cell_type": "code",
   "execution_count": null,
   "metadata": {},
   "outputs": [],
   "source": [
    "# set the size of final plot\n",
    "plot_height = 6\n",
    "plot_width = 12\n",
    "options(repr.plot.width=plot_width, repr.plot.height=plot_height)\n",
    "\n",
    "out1_1a = annotate_figure(out1_1,top = text_grob(\"no stress\", face = \"bold\", size = 20))\n",
    "out1_2a = annotate_figure(out1_2,top = text_grob(\"stress\", face = \"bold\", size = 20))\n",
    "out2_1a = annotate_figure(out2_1,top = text_grob(\"no stress\", face = \"bold\", size = 20))\n",
    "out2_2a = annotate_figure(out2_2,top = text_grob(\"stress\", face = \"bold\", size = 20))\n",
    "\n",
    "b1 = ggarrange(out1_1a, out1_2a, ncol=2)\n",
    "b1 = annotate_figure(b1,top = text_grob(\"Synchronization\", face = \"bold\", size = 25))\n",
    "b2 = ggarrange(out2_1a, out2_2a, ncol=2)\n",
    "b2 = annotate_figure(b2,top = text_grob(\"Freezing\", face = \"bold\", size = 25))\n",
    "\n",
    "ggarrange(b1, b2, ncol=2)"
   ]
  },
  {
   "cell_type": "markdown",
   "metadata": {},
   "source": [
    "**Export the plot as an eps file**"
   ]
  },
  {
   "cell_type": "code",
   "execution_count": null,
   "metadata": {},
   "outputs": [],
   "source": [
    "# Output eps file on desktop\n",
    "path = \"C:/Users/User/Desktop\"\n",
    "base = \"plot.eps\"\n",
    "filename = file.path(path, base)\n",
    "\n",
    "ggsave(filename, device=cairo_ps,width=plot_width, height=plot_height)"
   ]
  },
  {
   "cell_type": "markdown",
   "metadata": {},
   "source": [
    "**Two-way ANOVA test**"
   ]
  },
  {
   "cell_type": "code",
   "execution_count": null,
   "metadata": {},
   "outputs": [],
   "source": [
    "temp.aov = aov(cohen_d ~ freeze + stress, data = df.freeze)\n",
    "summary(temp.aov)\n",
    "\n",
    "temp.aov = aov(cohen_d ~ freeze + stress, data = df.freeze[df.freeze$sex == \"male\",])\n",
    "summary(temp.aov)\n",
    "\n",
    "temp.aov = aov(cohen_d ~ freeze + stress, data = df.freeze[df.freeze$sex == \"female\",])\n",
    "summary(temp.aov)"
   ]
  },
  {
   "cell_type": "markdown",
   "metadata": {},
   "source": [
    "---\n",
    "## Step 5. Correlation between freezing levels and synchronization\n",
    "**plot the scatter plot**"
   ]
  },
  {
   "cell_type": "code",
   "execution_count": null,
   "metadata": {},
   "outputs": [],
   "source": [
    "scatter_plot <- function(df.input, x1_col, y_col, x2_col, x3_col, x3_value, xaxis_label, yaxis_label){\n",
    "    #######################################################\n",
    "    # parameters to adjust graph\n",
    "    # graph width x hight\n",
    "    plot_width = 8\n",
    "    plot_hight = 6\n",
    "\n",
    "    # dotplot\n",
    "#     dp_binwidth=0.7\n",
    "#     dp_dotsize=3\n",
    "   \n",
    "    point_size = 3\n",
    "    \n",
    "    \n",
    "    # y limits\n",
    "    ylim1 = -3\n",
    "    ylim2 = 5\n",
    "    #######################################################\n",
    "    \n",
    "    # get column name\n",
    "    x1 <- names(df.input)[which (colnames(df.input)==x1_col)]\n",
    "    x2 <- names(df.input)[which (colnames(df.input)==x2_col)]\n",
    "    x3 <- names(df.input)[which (colnames(df.input)==x3_col)]\n",
    "    y <- names(df.input)[which (colnames(df.input)==y_col)]\n",
    "\n",
    "    # set the size of final plot\n",
    "    options(repr.plot.width=plot_width, repr.plot.height=plot_hight)\n",
    "        \n",
    "    ggplot(df.input[df.input[,x3]==x3_value,], aes_string(x=x1,y=y,fill=x2,color=x2))+\n",
    "        geom_point(size=point_size)+\n",
    "        geom_point(size=point_size,shape=1,colour=\"black\")+\n",
    "        geom_smooth(method=lm)+\n",
    "\n",
    "        # x axis label\n",
    "        labs(x=xaxis_label)+\n",
    "        # y axis label\n",
    "        labs(y=yaxis_label)+\n",
    "        # Limit y axis range\n",
    "        ylim(c(ylim1, ylim2))+\n",
    "\n",
    "    # Remainings are all the same. No need to modify.\n",
    "        # Change filling color for box\n",
    "        scale_fill_manual(values=c(\"#FF3333\", \"#3333FF\"))+\n",
    "        scale_colour_manual(values=c(\"#FF3333\", \"#3333FF\"))+\n",
    "        # Change theme. Look at \"Complete themes\" above.\n",
    "        theme_bw()+\n",
    "        # Control of axes\n",
    "        theme(\n",
    "            # axis.title.x = element_blank(),\n",
    "            axis.title = element_text(size=25,vjust=2,face='bold'),\n",
    "            axis.text=element_text(size=20))+    \n",
    "        # Control of legend\n",
    "        theme(\n",
    "            #legend.position = \"none\",\n",
    "            legend.position = 'bottom',\n",
    "            legend.direction = \"horizontal\",\n",
    "            #legend.title = element_text(size=20,face='bold'),\n",
    "            legend.title = element_blank(),\n",
    "            legend.text=element_text(size=20))\n",
    "\n",
    "}\n",
    "\n",
    "\n",
    "out3_1 = scatter_plot(df.freeze, \"freeze\", \"cohen_d\", \"stress\", \"sex\",\"male\", \"Freezeing (%)\", \"Cohen D\")\n",
    "out3_2 = scatter_plot(df.freeze, \"freeze\", \"cohen_d\", \"stress\", \"sex\",\"female\", \"Freezeing (%)\", \"Cohen D\")"
   ]
  },
  {
   "cell_type": "code",
   "execution_count": null,
   "metadata": {},
   "outputs": [],
   "source": [
    "plot_height = 6\n",
    "plot_width = 12\n",
    "# set the size of final plot\n",
    "options(repr.plot.width=plot_width, repr.plot.height=plot_height)\n",
    "ggarrange(out3_1, out3_2, ncol=2)"
   ]
  },
  {
   "cell_type": "markdown",
   "metadata": {},
   "source": [
    "**Export the plot as an eps file**"
   ]
  },
  {
   "cell_type": "code",
   "execution_count": null,
   "metadata": {},
   "outputs": [],
   "source": [
    "# Output eps file on desktop\n",
    "path = \"C:/Users/User/Desktop\"\n",
    "base = \"plot.eps\"\n",
    "filename = file.path(path, base)\n",
    "\n",
    "ggsave(filename, device=cairo_ps,width=plot_width, height=plot_height)"
   ]
  },
  {
   "cell_type": "code",
   "execution_count": null,
   "metadata": {},
   "outputs": [],
   "source": [
    "my_data <- read.csv(file.choose())"
   ]
  },
  {
   "cell_type": "markdown",
   "metadata": {},
   "source": [
    "**Linear Regression**<BR>\n",
    "http://r-statistics.co/Linear-Regression.html\n",
    "\n",
    "- **Correlation:**\n",
    "Correlation is a statistical measure that suggests the level of linear dependence between two variables, that occur in pair – just like what we have here in speed and dist. Correlation can take values between -1 to +1. If we observe for every instance where speed increases, the distance also increases along with it, then there is a high positive correlation between them and therefore the correlation between them will be closer to 1. The opposite is true for an inverse relationship, in which case, the correlation between the variables will be close to -1.\n",
    "\n",
    "A value closer to 0 suggests a weak relationship between the variables. **A low correlation (-0.2 < x < 0.2)** probably suggests that much of variation of the response variable (Y) is unexplained by the predictor (X), in which case, we should probably look for better explanatory variables.\n",
    "\n",
    "- **The linear correlation coefficient (Pearson’s r)** is just the standardized slope of a simple linear regression line.<BR>\n",
    "    https://sebastianraschka.com/faq/docs/pearson-r-vs-linear-regr.html\n",
    "    "
   ]
  },
  {
   "cell_type": "markdown",
   "metadata": {},
   "source": [
    "**Test the entire data**"
   ]
  },
  {
   "cell_type": "code",
   "execution_count": null,
   "metadata": {},
   "outputs": [],
   "source": [
    "# Less correlation in the entirly collapsed data set\n",
    "\n",
    "# calculate correlation between freeze and cohen_d\n",
    "cat(\"Correlation: \",cor(df.freeze$freeze, df.freeze$cohen_d),\"\\n\")\n",
    "\n",
    "# Modeling the linear model\n",
    "temp.linearmod = lm(cohen_d ~ freeze, data=df.freeze)\n",
    "\n",
    "# Details\n",
    "temp.summary = summary(temp.linearmod)\n",
    "print(temp.summary)"
   ]
  },
  {
   "cell_type": "markdown",
   "metadata": {},
   "source": [
    "**It looks like the following perason command is the digest version**"
   ]
  },
  {
   "cell_type": "code",
   "execution_count": null,
   "metadata": {},
   "outputs": [],
   "source": [
    "cor.test(df.freeze$freeze, df.freeze$cohen_d, method = 'pearson')"
   ]
  },
  {
   "cell_type": "markdown",
   "metadata": {},
   "source": [
    "**Test each group**\n",
    "- R Tip: How to Pass a formula to lm**<BR>\n",
    "http://www.win-vector.com/blog/2018/09/r-tip-how-to-pass-a-formula-to-lm/"
   ]
  },
  {
   "cell_type": "code",
   "execution_count": null,
   "metadata": {},
   "outputs": [],
   "source": [
    "# Effects of sex and stress on the correlation\n",
    "\n",
    "comp_cor <- function(df.input, pred_col, resp_col, lim1_col, lim1_value, lim2_col, lim2_value){\n",
    "    \n",
    "    # get column name\n",
    "    pred_col <- names(df.input)[which (colnames(df.input)==pred_col)]\n",
    "    resp_col <- names(df.input)[which (colnames(df.input)==resp_col)]\n",
    "    lim1_col <- names(df.input)[which (colnames(df.input)==lim1_col)]\n",
    "    lim2_col <- names(df.input)[which (colnames(df.input)==lim2_col)]    \n",
    "\n",
    "    # Extract data frame\n",
    "    temp = df.input[df.input[,lim1_col]==lim1_value & df.input[,lim2_col]==lim2_value,]\n",
    "    \n",
    "    # compute correlations\n",
    "    temp.cor = cor(temp[,pred_col], temp[,resp_col])\n",
    "    \n",
    "    # estimate the linear model\n",
    "    # create formula to fit\n",
    "    f = paste(resp_col, pred_col, sep = \" ~ \")\n",
    "    #cat(\"formula: \", f, \", \")\n",
    "    \n",
    "    # create model based on the created formula\n",
    "    temp.linearmod = lm(f, data=temp)\n",
    "    temp.summary = summary(temp.linearmod)\n",
    "    \n",
    "    # output in brief\n",
    "    cat(paste0('### (',lim1_value,\", \",lim2_value, \") ###, \"))\n",
    "    cat(\"correlation: \", temp.cor, \", \")\n",
    "    cat(\"intercept_p-value: \", temp.summary[['coefficients']]['(Intercept)','Pr(>|t|)'], \", \")\n",
    "    cat(\"freeze_p-value: \", temp.summary[['coefficients']]['freeze','Pr(>|t|)'], \"\\n\")\n",
    "\n",
    "    # output full\n",
    "#     cat(\"correlation: \", temp.cor, \"\\n\")\n",
    "#     cat(\"formula: \", f, \"\\n\")\n",
    "#     print(temp.summary)\n",
    "    \n",
    "    temp.list = list(\"cor\"=temp.cor, \"f\"=f, \"linearmod\"=temp.linearmod, \"summary\"=temp.summary)\n",
    "    return(temp.list)\n",
    "}\n",
    "    \n",
    "for (sex1 in c(\"male\", \"female\")){\n",
    "        for (stress1 in c(\"stress\",\"no_stress\")){\n",
    "                temp = comp_cor(df.freeze, \"freeze\",\"cohen_d\",\"sex\",sex1,\"stress\",stress1)\n",
    "}}"
   ]
  },
  {
   "cell_type": "markdown",
   "metadata": {},
   "source": [
    "---\n",
    "## 2. Visualize the distribution of lagtime for onset and offset of freezing\n",
    "### 2-1. Collapse the all cells in lagt_* columns and create a new DF of two columns (lagtime, type)"
   ]
  },
  {
   "cell_type": "code",
   "execution_count": null,
   "metadata": {
    "scrolled": true
   },
   "outputs": [],
   "source": [
    "# Create working df and collapse cells in columns of \"lagt_*\"\n",
    "rex = \"lagt_*\"\n",
    "\n",
    "# Initialize dataframe\n",
    "df.work = data.frame(matrix(ncol = 4, nrow = 1))\n",
    "colnames(df.work) = str_subset(names(df), rex)\n",
    "\n",
    "# Collapse each column\n",
    "for (colname in str_subset(names(df), rex)){\n",
    "    w = c() # working vector\n",
    "    for (i in c(1:nrow(df))){\n",
    "        # w = c(w, as.integer(unlist(df[i,colname])))\n",
    "        w = c(w, unlist(df[i,colname]))\n",
    "    }\n",
    "    df.work[[1,colname]] = list(w)\n",
    "}\n",
    "\n",
    "# Mearge both directions, s1_s2 and s2_s1\n",
    "for (colname in c(\"lagt_start\", \"lagt_end\")){\n",
    "    df.work[,colname] = NA # Append empty column\n",
    "    # w = c(as.integer(unlist(df.work[1, paste0(colname, \"_s1_s2\")])),as.integer(unlist(df.work[1,paste0(colname, \"_s2_s1\")])))\n",
    "    w = c(unlist(df.work[1, paste0(colname, \"_s1_s2\")]),unlist(df.work[1,paste0(colname, \"_s2_s1\")]))\n",
    "    df.work[[1,colname]]=list(w)\n",
    "}\n",
    "\n",
    "# Create New DF, df.test of lagtime and type (onset or offset)\n",
    "df.lagtime = data.frame(\"lagtime\" = unlist(df.work[1,\"lagt_start\"]), \"type\" = \"onset\")\n",
    "# Append rows from onset\n",
    "df.lagtime = df.lagtime %>% add_row(\"lagtime\" = unlist(df.work[1,\"lagt_end\"]), \"type\" = \"offset\")\n",
    "\n",
    "# convert frame number to sec\n",
    "df.lagtime[,\"lagtime\"] = df.lagtime[,\"lagtime\"] / 4"
   ]
  },
  {
   "cell_type": "markdown",
   "metadata": {},
   "source": [
    "### 2-2. Visualize"
   ]
  },
  {
   "cell_type": "code",
   "execution_count": null,
   "metadata": {},
   "outputs": [],
   "source": [
    "# Plot the distribution\n",
    "library(ggplot2)\n",
    "library(ggbeeswarm)\n",
    "\n",
    "ggplot(df.lagtime,aes(type,lagtime)) +\n",
    " geom_boxplot() +\n",
    " geom_quasirandom(alpha = 0.2) +\n",
    " theme_bw()\n",
    "\n",
    "# # Colored Histogram with Different Number of Bins\n",
    "sub.lagtime = df.lagtime[df.lagtime$type=='onset',]\n",
    "ggplot(sub.lagtime,aes(x=lagtime)) +\n",
    "    geom_histogram(binwidth=0.2)\n",
    "\n",
    "sub.lagtime = df.lagtime[df.lagtime$type=='offset',]\n",
    "ggplot(sub.lagtime,aes(x=lagtime)) +\n",
    "    geom_histogram(binwidth=0.2)\n",
    "\n",
    "# hist(subTest$lagtime, breaks=seq(,,10),col=\"blue\", xlim=c(-250,250), ylim=c(0,3000))\n",
    "#, breaks=seq(-50,50,1), col=\"blue\", xlim=c(-50,50), ylim=c(0,60))\n",
    "# hist(subTest$lagtime, breaks=seq(-50,50,1), col=\"blue\", xlim=c(-50,50), ylim=c(0,60))\n",
    "\n",
    "# subTest = test[test$type=='offset',]\n",
    "# hist(subTest$lagtime, breaks=seq(-50,50,1), col=\"blue\", xlim=c(-50,50), ylim=c(0,60))\n",
    "\n",
    "\n",
    "# ### (Option) Export a plot as EPS file ##############################################\n",
    "# # Change the plot line\n",
    "# setEPS()\n",
    "# postscript(\"whatever.eps\")\n",
    "# plot(rnorm(100), main=\"Hey Some Data\")\n",
    "# dev.off()\n",
    "# #####################################################################################\n"
   ]
  },
  {
   "cell_type": "markdown",
   "metadata": {},
   "source": [
    "### 2-3. Test Coefficients of Variation from multiple samples\n",
    "https://cran.r-project.org/web/packages/cvequality/vignettes/how_to_test_CVs.html\n",
    "\n",
    "**Need to install packages**\n",
    "\n",
    "`install.packages(\"ggbeeswarm\")`<BR>\n",
    "`install.packages(\"cvequality\")`\n"
   ]
  },
  {
   "cell_type": "code",
   "execution_count": null,
   "metadata": {},
   "outputs": [],
   "source": [
    "install.packages(\"cvequality\")"
   ]
  },
  {
   "cell_type": "code",
   "execution_count": null,
   "metadata": {
    "scrolled": true
   },
   "outputs": [],
   "source": [
    "# Load required library\n",
    "library(cvequality)\n",
    "\n",
    "test1 <- with(df.lagtime,asymptotic_test(lagtime,type))\n",
    "test1"
   ]
  },
  {
   "cell_type": "code",
   "execution_count": null,
   "metadata": {
    "scrolled": true
   },
   "outputs": [],
   "source": [
    "test2 <- with(df.lagtime,mslr_test(nr = 1e4, lagtime,type))\n",
    "test2"
   ]
  },
  {
   "cell_type": "markdown",
   "metadata": {
    "toc-hr-collapsed": true
   },
   "source": [
    "---\n",
    "# r-plotmaking\n",
    "       20200501 am\n",
    "#### Required package\n",
    "- **Hmisc package**: Contains many functions useful for data analysis, high-level graphics, utility operations, functions for computing sample size and power, importing and annotating datasets, imputing missing values, advanced table making, variable clustering, character string manipulation, conversion of R objects to LaTeX and html code, and recoding variables.<BR> https://cran.r-project.org/web/packages/Hmisc/index.html"
   ]
  },
  {
   "cell_type": "code",
   "execution_count": null,
   "metadata": {
    "scrolled": true
   },
   "outputs": [],
   "source": [
    "# Install packages\n",
    "install.packages(\"Hmisc\")\n",
    "\n",
    "#load necessary libraries and packages\n",
    "library(ggplot2)\n",
    "library(Hmisc)\n",
    "library(readxl)"
   ]
  },
  {
   "cell_type": "markdown",
   "metadata": {},
   "source": [
    "## 1. plotting LTP data using means and SEM"
   ]
  },
  {
   "cell_type": "code",
   "execution_count": null,
   "metadata": {},
   "outputs": [],
   "source": [
    "# 1. plotting LTP data using means and SEM\n",
    "\n",
    "# 1-1. Read csv file named LTPtest\n",
    "path = \"C:/Users/User/Dropbox/Jupyter/alexei/r_plotmaking_data\"\n",
    "base = \"LTPtest.csv\"\n",
    "filename = file.path(path, base)\n",
    "LTP <- read.csv(filename)\n",
    "\n",
    "# 1-2. Make line plot\n",
    "p<-ggplot(LTP, aes(x=time, y=means))+geom_line(stat=\"identity\",color=\"red\") + geom_point(color=\"red\") + geom_errorbar(aes(ymin=means-SEM, ymax=means+SEM))\n",
    "print(p)"
   ]
  },
  {
   "cell_type": "markdown",
   "metadata": {},
   "source": [
    "## 2. making dot plot with error bars using table with individual data points"
   ]
  },
  {
   "cell_type": "code",
   "execution_count": null,
   "metadata": {},
   "outputs": [],
   "source": [
    "# 2. making dot plot with error bars using table with individual data points\n",
    "\n",
    "# 2-1. import data from excel as df1 using \"Import Dataset\" function in Environment tab, one column containing datapoints, other columns containing independent variables\n",
    "base = \"synchfreeze_aggregated.xlsx\"\n",
    "filename = file.path(path, base)\n",
    "df1 <- read_excel(\"C:/Users/User/Dropbox/Jupyter/alexei/r_plotmaking_data/synchfreeze_aggregated.xlsx\", \n",
    "  sheet = \"for Rplot\")\n",
    "\n",
    "# 2-2. plotting cohen distance with \"condition\" as factor\n",
    "p <- ggplot(df1, aes(x=condition, y=cohen)) + \n",
    "  geom_dotplot(binaxis='y', stackdir='center')\n",
    "\n",
    "p + stat_summary(fun.data=mean_sdl, fun.args = list(mult=1), \n",
    "                 geom=\"errorbar\", color=\"red\", width=0.2) +\n",
    "  stat_summary(fun.y=mean, geom=\"point\", color=\"red\")"
   ]
  },
  {
   "cell_type": "markdown",
   "metadata": {},
   "source": [
    "## 3. plotting paired comparisons of freezing between mice tested alone or in pairs"
   ]
  },
  {
   "cell_type": "code",
   "execution_count": null,
   "metadata": {},
   "outputs": [],
   "source": [
    "# 3. plotting paired comparisons of freezing between mice tested alone or in pairs\n",
    "\n",
    "# 3-1. load excel file\n",
    "# library(readxl)\n",
    "base = \"freezing_ind_vs_pair_for_Rplot.xlsm\"\n",
    "filename = file.path(path, base)\n",
    "df1 <- read_excel(filename, sheet = \"females\")\n",
    "\n",
    "# 3-2. plot pair comparisons\n",
    "p<- ggplot(df1, aes(x=condition, y=freezing, group=animal, color=animal)) + \n",
    "  geom_line() + geom_point()\n",
    "print(p)"
   ]
  },
  {
   "cell_type": "markdown",
   "metadata": {},
   "source": [
    "## (Option) Export a plot as EPS file"
   ]
  },
  {
   "cell_type": "code",
   "execution_count": null,
   "metadata": {},
   "outputs": [],
   "source": [
    "### (Option) Export a plot as EPS file ##############################################\n",
    "# Change the plot line\n",
    "setEPS()\n",
    "postscript(\"whatever.eps\")\n",
    "# plot(rnorm(100), main=\"Hey Some Data\")\n",
    "print(p)\n",
    "dev.off()\n",
    "#####################################################################################"
   ]
  },
  {
   "cell_type": "markdown",
   "metadata": {
    "toc-hr-collapsed": true
   },
   "source": [
    "---\n",
    "# One-Sample Wilcoxon Signed Rank Test in R\n",
    "http://www.sthda.com/english/wiki/one-sample-wilcoxon-signed-rank-test-in-r"
   ]
  },
  {
   "cell_type": "code",
   "execution_count": null,
   "metadata": {},
   "outputs": [],
   "source": [
    "# We want to know, if the average of the data differs from mu (two-tailed test).\n",
    "\n",
    "# One-sample wilcoxon test\n",
    "res <- wilcox.test(df.lagtime$V1, mu = 44)\n",
    "# Printing the results\n",
    "res"
   ]
  },
  {
   "cell_type": "markdown",
   "metadata": {
    "toc-hr-collapsed": true
   },
   "source": [
    "---\n",
    "# Boxplot for the distribution of lagtime for each animal pair."
   ]
  },
  {
   "cell_type": "code",
   "execution_count": null,
   "metadata": {},
   "outputs": [],
   "source": [
    "# Raw data for lag-time\n",
    "# \"s\" stands for onset and \"e\" stands for offset of freezing\n",
    "d1 <- c( 0,    -24,    3,    0,   16,    8,    9,   -3,    5,    4,   -3,   -1,  -2 )\n",
    "e1 <- c(\"f1s\", \"f1s\", \"f1s\", \"f1s\", \"f1s\", \"f1s\", \"f1s\", \"f1s\", \"f1s\", \"f1s\", \"f1s\", \"f1s\", \"f1s\") \n",
    "\n",
    "d2 <- c(   0,   -9,    0,    0,   13,    0,    0,    4,    2,   -1,   -8,   3)\n",
    "e2 <- c(\"f1e\", \"f1e\", \"f1e\", \"f1e\", \"f1e\", \"f1e\", \"f1e\", \"f1e\", \"f1e\", \"f1e\", \"f1e\", \"f1e\") \n",
    "\n",
    "d3 <- c(14,-1,9,8,-7,0,-8,0,0,-18,0)\n",
    "e3 <- c(\"f2_1s\",\"f2_1s\",\"f2_1s\",\"f2_1s\",\"f2_1s\",\"f2_1s\",\"f2_1s\",\"f2_1s\",\"f2_1s\",\"f2_1s\",\"f2_1s\")\n",
    "\n",
    "d4 <- c(     13,      10,      -3,     -11,      -9,       1,      -3,       3,     -18,      -6,       4,     0)\n",
    "e4 <- c(\"f2_1e\", \"f2_1e\", \"f2_1e\", \"f2_1e\", \"f2_1e\", \"f2_1e\", \"f2_1e\", \"f2_1e\", \"f2_1e\", \"f2_1e\", \"f2_1e\", \"f2_1e\") \n",
    "\n",
    "d5 <- c(3,4,0,4,3,1,0,-8,-4,5,11)\n",
    "e5 <- c(\"f2_2s\",\"f2_2s\",\"f2_2s\",\"f2_2s\",\"f2_2s\",\"f2_2s\",\"f2_2s\",\"f2_2s\",\"f2_2s\",\"f2_2s\",\"f2_2s\")\n",
    "\n",
    "d6 <- c(3,1,0,1,1,0,0,-9,-12,3,-2)\n",
    "e6 <- c(\"f2_2e\",\"f2_2e\",\"f2_2e\",\"f2_2e\",\"f2_2e\",\"f2_2e\",\"f2_2e\",\"f2_2e\",\"f2_2e\",\"f2_2e\",\"f2_2e\")\n",
    "\n",
    "d7 <- c(-3,-1,-7,11,-11,3,-13,-2)\n",
    "e7 <- c(\"f3_1s\",\"f3_1s\",\"f3_1s\",\"f3_1s\",\"f3_1s\",\"f3_1s\",\"f3_1s\",\"f3_1s\")\n",
    "\n",
    "d8 <- c(-7,0,-2,2,-7,2,-6,0)\n",
    "e8 <- c(\"f3_1e\",\"f3_1e\",\"f3_1e\",\"f3_1e\",\"f3_1e\",\"f3_1e\",\"f3_1e\",\"f3_1e\")\n",
    "\n",
    "d9 <- c(3,-12,4,-2,5)\n",
    "e9 <- c(\"f3_2s\",\"f3_2s\",\"f3_2s\",\"f3_2s\",\"f3_2s\")\n",
    "\n",
    "d10 <- c(-1,-3,0,-12)\n",
    "e10 <- c(\"f3_2e\",\"f3_2e\",\"f3_2e\",\"f3_2e\")\n",
    "\n",
    "d11 <- c(-11,-14,11,16,-57,19)\n",
    "e11 <- c(\"f4_1s\",\"f4_1s\",\"f4_1s\",\"f4_1s\",\"f4_1s\",\"f4_1s\")\n",
    "\n",
    "d12 <- c(-16,-10,-25,-1,0)\n",
    "e12 <- c(\"f4_1e\",\"f4_1e\",\"f4_1e\",\"f4_1e\",\"f4_1e\")\n",
    "\n",
    "d13 <- c(3,-4,-18,18)\n",
    "e13 <- c(\"f4_2s\",\"f4_2s\",\"f4_2s\",\"f4_2s\")\n",
    "\n",
    "d14 <- c(8,3,-13,16,0)\n",
    "e14 <- c(\"f4_2e\",\"f4_2e\",\"f4_2e\",\"f4_2e\",\"f4_2e\")\n",
    "\n",
    "# Concatenate the data\n",
    "d <- c(d1,d2,d3,d4,d5,d6,d7,d8,d9,d10,d11,d12,d13,d14)\n",
    "e <- c(e1,e2,e3,e4,e5,e6,e7,e8,e9,e10,e11,e12,e13,e14)\n",
    "\n",
    "# Create data frame\n",
    "mydata <- data.frame(d,e)\n",
    "# Add column names\n",
    "names(mydata) <- c(\"s1_s2\",\"pair\")\n",
    "\n",
    "mydata"
   ]
  },
  {
   "cell_type": "code",
   "execution_count": null,
   "metadata": {},
   "outputs": [],
   "source": [
    "# Boxplot for the distribution of lag-time\n",
    "library(ggplot2)\n",
    "library(ggbeeswarm)\n",
    "\n",
    "ggplot(mydata,aes(pair,s1_s2)) + geom_boxplot() + geom_quasirandom(alpha = 0.9) + theme_bw()\n",
    "\n",
    "### (Option) Export a plot as EPS file ##############################################\n",
    "# Change the plot line\n",
    "setEPS()\n",
    "postscript(\"whatever.eps\")\n",
    "plot(rnorm(100), main=\"Hey Some Data\")\n",
    "dev.off()\n",
    "#####################################################################################"
   ]
  },
  {
   "cell_type": "markdown",
   "metadata": {},
   "source": [
    "---"
   ]
  },
  {
   "cell_type": "markdown",
   "metadata": {
    "toc-hr-collapsed": true,
    "toc-nb-collapsed": true
   },
   "source": [
    "# R version"
   ]
  },
  {
   "cell_type": "code",
   "execution_count": null,
   "metadata": {},
   "outputs": [],
   "source": [
    "version"
   ]
  },
  {
   "cell_type": "markdown",
   "metadata": {
    "toc-hr-collapsed": true
   },
   "source": [
    "---\n",
    "# Read csv file and test correlation\n",
    "The csv file is generated by MATLAB code\n",
    "\n",
    "[READING IN DATA FROM AN EXTERNAL FILE | R LEARNING MODULES](https://stats.idre.ucla.edu/r/modules/reading-in-data-from-an-external-file/)"
   ]
  },
  {
   "cell_type": "code",
   "execution_count": null,
   "metadata": {},
   "outputs": [],
   "source": [
    "test <- read.table('D:\\\\wataru\\\\Recording_Analysis\\\\Bases_dmPFC-BLA\\\\2017-12-19_vm81a_base\\\\myFile.txt', sep = \",\")"
   ]
  },
  {
   "cell_type": "code",
   "execution_count": null,
   "metadata": {},
   "outputs": [],
   "source": [
    "ccf(test[,1], test[,3], lag = 200000, ylim = range(-1,1), type=\"correlation\")"
   ]
  },
  {
   "cell_type": "code",
   "execution_count": null,
   "metadata": {},
   "outputs": [],
   "source": [
    "testTS <- ts(test)"
   ]
  },
  {
   "cell_type": "code",
   "execution_count": null,
   "metadata": {},
   "outputs": [],
   "source": [
    "length(testTS)\n",
    "str(testTS)\n",
    "class(testTS)\n",
    "names(testTS)\n",
    "testTS"
   ]
  },
  {
   "cell_type": "code",
   "execution_count": null,
   "metadata": {},
   "outputs": [],
   "source": []
  },
  {
   "cell_type": "code",
   "execution_count": null,
   "metadata": {},
   "outputs": [],
   "source": [
    "test <- read.table('D:\\\\wataru\\\\Recording_Analysis\\\\Bases_dmPFC-BLA\\\\2017-12-19_vm81a_base\\\\myFile.txt', sep = \",\")"
   ]
  },
  {
   "cell_type": "code",
   "execution_count": null,
   "metadata": {},
   "outputs": [],
   "source": [
    "data (sales)  # parts of Example 11.2.2 from Brockwell and Davies (1991).\n",
    "sal <- diff (sales)\n",
    "led <- diff(lead)\n",
    "ccf (led, sal, lag = 20, ylim = range(-1,1), type=\"o\")"
   ]
  },
  {
   "cell_type": "code",
   "execution_count": null,
   "metadata": {},
   "outputs": [],
   "source": [
    "set.seed(123)\n",
    "x = arima.sim(model=list(0.2, 0, 0.5), n = 100)\n",
    "y = arima.sim(model=list(0.4, 0, 0.4), n = 100)\n",
    "ccf(x, y, type=\"correlation\")"
   ]
  },
  {
   "cell_type": "code",
   "execution_count": null,
   "metadata": {},
   "outputs": [],
   "source": [
    "readClipboard()"
   ]
  },
  {
   "cell_type": "code",
   "execution_count": null,
   "metadata": {},
   "outputs": [],
   "source": [
    "# setwd(\"D:/wataru/Recording_Analysis/Bases_dmPFC-BLA\")\n",
    "# theta <- scan('test.txt')\n",
    "# plot(theta)\n",
    "\n",
    "theta <- scan('D:\\\\wataru\\\\Recording_Analysis\\\\Bases_dmPFC-BLA\\\\2017-12-19_vm81a_base\\\\test.txt')\n",
    "plot(theta)"
   ]
  },
  {
   "cell_type": "markdown",
   "metadata": {
    "toc-hr-collapsed": true
   },
   "source": [
    "---\n",
    "# Data Types\n",
    "https://www.statmethods.net/input/datatypes.html"
   ]
  },
  {
   "cell_type": "code",
   "execution_count": null,
   "metadata": {},
   "outputs": [],
   "source": [
    "######################################################\n",
    "# vectors\n",
    "a <- c(1,2,5.3,6,-2,4) # numeric vector\n",
    "b <- c(\"one\",\"two\",\"three\") # character vector\n",
    "c <- c(TRUE,TRUE,TRUE,FALSE,TRUE,FALSE) #logical vector\n",
    "\n",
    "# Identify rows, columns or elements using subscripts.\n",
    "a[4]\n",
    "a[c(2,4)]\n",
    "\n",
    "######################################################\n",
    "# matrix\n",
    "# generates 5 x 4 numeric matrix \n",
    "y<-matrix(1:20, nrow=5,ncol=4)\n",
    "# another example\n",
    "cells <- c(1,26,24,68)\n",
    "rnames <- c(\"R1\", \"R2\")\n",
    "cnames <- c(\"C1\", \"C2\") \n",
    "mymatrix <- matrix(cells, nrow=2, ncol=2, byrow=TRUE,\n",
    "  dimnames=list(rnames, cnames))\n",
    "\n",
    "# Identify rows, columns or elements using subscripts.\n",
    "x[,4] # 4th column of matrix\n",
    "x[3,] # 3rd row of matrix \n",
    "x[2:4,1:3] # rows 2,3,4 of columns 1,2,3\n",
    "\n",
    "######################################################\n",
    "# Data Frames\n",
    "# A data frame is more general than a matrix, in that different columns can have different\n",
    "# modes (numeric, character, factor, etc.). This is similar to SAS and SPSS datasets.\n",
    "\n",
    "d <- c(1,2,3,4)\n",
    "e <- c(\"red\", \"white\", \"red\", NA)\n",
    "f <- c(TRUE,TRUE,TRUE,FALSE)\n",
    "mydata <- data.frame(d,e,f)\n",
    "names(mydata) <- c(\"ID\",\"Color\",\"Passed\") # variable names\n",
    "\n",
    "# Identify rows, columns or elements using subscripts.\n",
    "mydata[2:3] # columns 3,4,5 of data frame\n",
    "mydata[c(\"ID\",\"Passed\")] # columns ID and Age from data frame\n",
    "mydata$Color # variable x1 in the data frame\n",
    "mydata[1,3]\n",
    "\n",
    "######################################################\n",
    "# The ls() function returns a vector listing lists all the objects (vectors, data frames, etc) in your current workspace.\n",
    "ls()\n",
    "\n",
    "# Remove these three objects\n",
    "rm(\"first_name\", \"last_name\", \"new_df\")\n",
    " \n",
    "# Or remove objects listed in a vector\n",
    "rm(list = c(\"first_name\", \"last_name\", \"new_df\"))\n",
    " \n",
    "# Or remove all files from your workspace\n",
    "rm(list = ls())\n",
    " \n",
    "# Or remove vectors programmatically.  Delete objects with underscore in name\n",
    "rm(list = ls()[grepl(\"_\", ls())])\n",
    "\n",
    "######################################################\n",
    "# Lists\n",
    "# An ordered collection of objects (components). A list allows you to gather a variety of \n",
    "# (possibly unrelated) objects under one name.\n",
    "# example of a list with 4 components - \n",
    "# a string, a numeric vector, a matrix, and a scaler \n",
    "\n",
    "w <- list(name=\"Fred\", mynumbers=a, mymatrix=y, age=5.3)\n",
    "\n",
    "# example of a list containing two lists\n",
    "# It looks concatenate the two lists\n",
    "v <- c(w,w)\n",
    "\n",
    "# Identify elements of a list using the [[]] convention.\n",
    "mylist[[2]] # 2nd component of the list\n",
    "mylist[[\"mynumbers\"]] # component named mynumbers in list\n",
    "\n",
    "\n",
    "\n",
    "######################################################\n",
    "# Factors\n",
    "# Tell R that a variable is nominal by making it a factor. The factor stores the nominal\n",
    "# values as a vector of integers in the range [ 1... k ] (where k is the number of unique \n",
    "# values in the nominal variable), and an internal vector of character strings (the original \n",
    "# values) mapped to these integers.\n",
    "\n",
    "# variable gender with 20 \"male\" entries and \n",
    "# 30 \"female\" entries \n",
    "gender <- c(rep(\"male\",20), rep(\"female\", 30)) \n",
    "gender <- factor(gender) \n",
    "# stores gender as 20 1s and 30 2s and associates\n",
    "# 1=female, 2=male internally (alphabetically)\n",
    "# R now treats gender as a nominal variable \n",
    "summary(gender)\n"
   ]
  }
 ],
 "metadata": {
  "kernelspec": {
   "display_name": "R",
   "language": "R",
   "name": "ir"
  },
  "language_info": {
   "codemirror_mode": "r",
   "file_extension": ".r",
   "mimetype": "text/x-r-source",
   "name": "R",
   "pygments_lexer": "r",
   "version": "3.6.3"
  },
  "toc-autonumbering": false,
  "toc-showcode": false,
  "toc-showmarkdowntxt": false
 },
 "nbformat": 4,
 "nbformat_minor": 4
}
