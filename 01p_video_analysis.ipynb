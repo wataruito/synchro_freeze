{
 "cells": [
  {
   "cell_type": "markdown",
   "metadata": {},
   "source": [
    "# Analysis of synchronized freezing\n",
    "# How to analye FreezeFrame video (Win10)\n",
    "    2019/12/26 Bug fix: we need to install win64 ffmpeg\n",
    "    \n",
    "    1) Video analysis manually. Write start and stop time as cvs file.\n",
    "    2) Read entire cvs file which is not listed master table.\n",
    "    3) Analysis.\n",
    "    \n",
    "---\n",
    "## Step 1. Export AVI file using FreezeFrame Viewer\n",
    "    1) install FreezeFrameInstaller4104.zip\n",
    "    2) in FreezeFrame Viewer\n",
    "        Video/Compress Image Files, as AVI file using MJPEG Compressor\n",
    "\n",
    "## Step 2. Conversion avi to mp4\n",
    "### Rotate and compress all avi videos in the current directory\n",
    "    Provide current directory"
   ]
  },
  {
   "cell_type": "code",
   "execution_count": null,
   "metadata": {},
   "outputs": [],
   "source": [
    "# Ubuntu path\n",
    "#path = '/home/alexei/ubg-tera05/WD_Passport/Alexei/synchrony/110919'\n",
    "# Windows path\n",
    "path = r'Z:\\wataru\\WD_Passport\\Alexei\\synchrony\\2019_9_12\\122419'\n",
    "path = r'Z:\\wataru\\WD_Passport\\Alexei\\synchrony\\2019_9_12\\122419_wi'\n",
    "print(path)"
   ]
  },
  {
   "cell_type": "code",
   "execution_count": null,
   "metadata": {},
   "outputs": [],
   "source": [
    "import os\n",
    "import ffmpeg\n",
    "\n",
    "#path = os.getcwd()\n",
    "#print(path)\n",
    "\n",
    "os.chdir(path)\n",
    "print(os.listdir(path))\n",
    "\n",
    "for file in os.listdir(path):\n",
    "    base = os.path.splitext(file)[0]\n",
    "    extn = os.path.splitext(file)[1]\n",
    "    if extn == '.avi':\n",
    "        # !ffmpeg -i {file} -vf \"transpose=2,transpose=2\" -vcodec libx264 {base}.mp4\n",
    "        fileIN = os.path.join(path,file)\n",
    "        print('file = ', fileIN, end = ' ')\n",
    "        stream = ffmpeg.input(fileIN)\n",
    "        stream = ffmpeg.hflip(stream)\n",
    "        stream = ffmpeg.vflip(stream)\n",
    "        fileOUT = os.path.join(path,base) + '.mp4'\n",
    "        print('---> output = ', fileOUT)\n",
    "        stream = ffmpeg.output(stream, fileOUT, vcodec='libx264')\n",
    "        ffmpeg.run(stream)\n",
    "\n",
    "print('end')"
   ]
  },
  {
   "cell_type": "code",
   "execution_count": null,
   "metadata": {},
   "outputs": [],
   "source": [
    "import ffmpeg\n",
    "stream = ffmpeg.input('input.mp4')\n",
    "stream = ffmpeg.hflip(stream)\n",
    "stream = ffmpeg.output(stream, 'output.mp4')\n",
    "ffmpeg.run(stream)"
   ]
  },
  {
   "cell_type": "markdown",
   "metadata": {},
   "source": [
    "## Step 3. Video Analysis using VideoPlayer"
   ]
  },
  {
   "cell_type": "code",
   "execution_count": 1,
   "metadata": {},
   "outputs": [
    {
     "name": "stdout",
     "output_type": "stream",
     "text": [
      "Video resolution: (236, 304, 3)\n",
      "total frame number: 722\n",
      "\tReading _50_track.csv\n",
      "\tWriting _50_track.csv\n"
     ]
    }
   ],
   "source": [
    "import videoplay as vp\n",
    "\n",
    "video = r'W:\\videos_synchrony\\20191012\\50.mp4'\n",
    "vp.video_cursor(video)"
   ]
  },
  {
   "cell_type": "markdown",
   "metadata": {},
   "source": [
    "## Step 4. Experimental GUI\n",
    "    Not ready to use\n",
    "   "
   ]
  },
  {
   "cell_type": "code",
   "execution_count": null,
   "metadata": {},
   "outputs": [],
   "source": [
    "import tkinter as tk\n",
    "\n",
    "def cbc(id, tex):\n",
    "    return lambda : callback(id, tex)\n",
    "\n",
    "def callback(id, tex):\n",
    "    s = 'At {} f is {}\\n'.format(id, id**id/0.987)\n",
    "    tex.insert(tk.END, s)\n",
    "    tex.see(tk.END)             # Scroll if necessary\n",
    "\n",
    "top = tk.Tk()\n",
    "tex = tk.Text(master=top)\n",
    "tex.pack(side=tk.RIGHT)\n",
    "bop = tk.Frame()\n",
    "bop.pack(side=tk.LEFT)\n",
    "for k in range(1,10):\n",
    "    tv = 'Say {}'.format(k)\n",
    "    b = tk.Button(bop, text=tv, command=cbc(k, tex))\n",
    "    b.pack()\n",
    "\n",
    "tk.Button(bop, text='Exit', command=top.destroy).pack()\n",
    "top.mainloop()"
   ]
  }
 ],
 "metadata": {
  "kernelspec": {
   "display_name": "Python 3",
   "language": "python",
   "name": "python3"
  },
  "language_info": {
   "codemirror_mode": {
    "name": "ipython",
    "version": 3
   },
   "file_extension": ".py",
   "mimetype": "text/x-python",
   "name": "python",
   "nbconvert_exporter": "python",
   "pygments_lexer": "ipython3",
   "version": "3.7.7"
  },
  "varInspector": {
   "cols": {
    "lenName": 16,
    "lenType": 16,
    "lenVar": 40
   },
   "kernels_config": {
    "python": {
     "delete_cmd_postfix": "",
     "delete_cmd_prefix": "del ",
     "library": "var_list.py",
     "varRefreshCmd": "print(var_dic_list())"
    },
    "r": {
     "delete_cmd_postfix": ") ",
     "delete_cmd_prefix": "rm(",
     "library": "var_list.r",
     "varRefreshCmd": "cat(var_dic_list()) "
    }
   },
   "types_to_exclude": [
    "module",
    "function",
    "builtin_function_or_method",
    "instance",
    "_Feature"
   ],
   "window_display": false
  }
 },
 "nbformat": 4,
 "nbformat_minor": 4
}
