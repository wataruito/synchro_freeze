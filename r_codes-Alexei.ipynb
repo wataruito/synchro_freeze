{
 "cells": [
  {
   "cell_type": "markdown",
   "metadata": {},
   "source": [
    "# Collection of R_codes\n",
    "\n",
    "## Table of contents\n",
    "### 1. Permutation analysis"
   ]
  },
  {
   "cell_type": "markdown",
   "metadata": {},
   "source": [
    "---\n",
    "# 1. Permutation analysis\n",
    "\n",
    "## 1-1. Load permuation data and visualize\n",
    "If ggpubr is not install, open terminal window and install it.\n",
    "```\n",
    "Run Anaconda3 as admin\n",
    "> R\n",
    "> install.packages(\"ggpubr\")\n",
    "```"
   ]
  },
  {
   "cell_type": "code",
   "execution_count": 1,
   "metadata": {
    "scrolled": true
   },
   "outputs": [
    {
     "name": "stderr",
     "output_type": "stream",
     "text": [
      "Loading required package: magrittr\n",
      "\n"
     ]
    }
   ],
   "source": [
    "# Load required library\n",
    "library(ggplot2)\n",
    "library(ggpubr) # ggplot2 based publication ready plots"
   ]
  },
  {
   "cell_type": "code",
   "execution_count": 2,
   "metadata": {
    "scrolled": true
   },
   "outputs": [
    {
     "data": {
      "text/html": [
       "<strong>V1:</strong> 0.743468645991219"
      ],
      "text/latex": [
       "\\textbf{V1:} 0.743468645991219"
      ],
      "text/markdown": [
       "**V1:** 0.743468645991219"
      ],
      "text/plain": [
       "       V1 \n",
       "0.7434686 "
      ]
     },
     "metadata": {},
     "output_type": "display_data"
    }
   ],
   "source": [
    "# Load permutated % overlap freezing as csv file\n",
    "test <- read.table(file=\"test1.csv\",header=FALSE, sep=\",\")\n",
    "\n",
    "\n",
    "# Standard deviation of data\n",
    "sapply(test, sd)\n"
   ]
  },
  {
   "cell_type": "code",
   "execution_count": 3,
   "metadata": {},
   "outputs": [
    {
     "data": {
      "text/html": [
       "<table>\n",
       "<caption>A data.frame: 10 × 1</caption>\n",
       "<thead>\n",
       "\t<tr><th></th><th scope=col>V1</th></tr>\n",
       "\t<tr><th></th><th scope=col>&lt;dbl&gt;</th></tr>\n",
       "</thead>\n",
       "<tbody>\n",
       "\t<tr><th scope=row>1</th><td>0.0000000</td></tr>\n",
       "\t<tr><th scope=row>2</th><td>1.2500000</td></tr>\n",
       "\t<tr><th scope=row>3</th><td>0.8333333</td></tr>\n",
       "\t<tr><th scope=row>4</th><td>0.0000000</td></tr>\n",
       "\t<tr><th scope=row>5</th><td>0.6250000</td></tr>\n",
       "\t<tr><th scope=row>6</th><td>1.2500000</td></tr>\n",
       "\t<tr><th scope=row>7</th><td>0.6250000</td></tr>\n",
       "\t<tr><th scope=row>8</th><td>2.5000000</td></tr>\n",
       "\t<tr><th scope=row>9</th><td>0.0000000</td></tr>\n",
       "\t<tr><th scope=row>10</th><td>0.0000000</td></tr>\n",
       "</tbody>\n",
       "</table>\n"
      ],
      "text/latex": [
       "A data.frame: 10 × 1\n",
       "\\begin{tabular}{r|l}\n",
       "  & V1\\\\\n",
       "  & <dbl>\\\\\n",
       "\\hline\n",
       "\t1 & 0.0000000\\\\\n",
       "\t2 & 1.2500000\\\\\n",
       "\t3 & 0.8333333\\\\\n",
       "\t4 & 0.0000000\\\\\n",
       "\t5 & 0.6250000\\\\\n",
       "\t6 & 1.2500000\\\\\n",
       "\t7 & 0.6250000\\\\\n",
       "\t8 & 2.5000000\\\\\n",
       "\t9 & 0.0000000\\\\\n",
       "\t10 & 0.0000000\\\\\n",
       "\\end{tabular}\n"
      ],
      "text/markdown": [
       "\n",
       "A data.frame: 10 × 1\n",
       "\n",
       "| <!--/--> | V1 &lt;dbl&gt; |\n",
       "|---|---|\n",
       "| 1 | 0.0000000 |\n",
       "| 2 | 1.2500000 |\n",
       "| 3 | 0.8333333 |\n",
       "| 4 | 0.0000000 |\n",
       "| 5 | 0.6250000 |\n",
       "| 6 | 1.2500000 |\n",
       "| 7 | 0.6250000 |\n",
       "| 8 | 2.5000000 |\n",
       "| 9 | 0.0000000 |\n",
       "| 10 | 0.0000000 |\n",
       "\n"
      ],
      "text/plain": [
       "   V1       \n",
       "1  0.0000000\n",
       "2  1.2500000\n",
       "3  0.8333333\n",
       "4  0.0000000\n",
       "5  0.6250000\n",
       "6  1.2500000\n",
       "7  0.6250000\n",
       "8  2.5000000\n",
       "9  0.0000000\n",
       "10 0.0000000"
      ]
     },
     "metadata": {},
     "output_type": "display_data"
    },
    {
     "data": {
      "text/plain": [
       "   Min. 1st Qu.  Median    Mean 3rd Qu.    Max. \n",
       " 0.0000  0.0000  0.6250  0.7446  1.2500  3.1250 "
      ]
     },
     "metadata": {},
     "output_type": "display_data"
    }
   ],
   "source": [
    "# Load permutated % overlap freezing as csv file\n",
    "test <- read.table(file=\"test1.csv\",header=FALSE, sep=\",\")\n",
    "\n",
    "# Print the first 10 rows of the data\n",
    "head(test,10)\n",
    "\n",
    "# Statistical summaries of data\n",
    "summary(test$V1)"
   ]
  },
  {
   "cell_type": "code",
   "execution_count": 4,
   "metadata": {},
   "outputs": [
    {
     "ename": "ERROR",
     "evalue": "Error in hist.default(test$V1, breaks = seq(30, 50, 0.5), col = \"blue\", : some 'x' not counted; maybe 'breaks' do not span range of 'x'\n",
     "output_type": "error",
     "traceback": [
      "Error in hist.default(test$V1, breaks = seq(30, 50, 0.5), col = \"blue\", : some 'x' not counted; maybe 'breaks' do not span range of 'x'\nTraceback:\n",
      "1. hist(test$V1, breaks = seq(30, 50, 0.5), col = \"blue\", xlim = c(30, \n .     50))",
      "2. hist.default(test$V1, breaks = seq(30, 50, 0.5), col = \"blue\", \n .     xlim = c(30, 50))",
      "3. stop(\"some 'x' not counted; maybe 'breaks' do not span range of 'x'\")"
     ]
    },
    {
     "data": {
      "image/png": "[encoded data removed]",
      "text/plain": [
       "plot without title"
      ]
     },
     "metadata": {
      "image/png": {
       "height": 420,
       "width": 420
      },
      "text/plain": {
       "height": 420,
       "width": 420
      }
     },
     "output_type": "display_data"
    }
   ],
   "source": [
    "# Visualize permudtated data using box plots\n",
    "ggboxplot(test$V1, \n",
    "          ylab = \"% overlap freezing\", xlab = FALSE,\n",
    "          ggtheme = theme_minimal())\n",
    "\n",
    "# Colored Histogram with Different Number of Bins\n",
    "hist(test$V1, breaks=seq(30,50,0.5), col=\"blue\", xlim=c(30,50))\n",
    "\n",
    "# hist(test$V1, breaks=seq(-50,50,1), col=\"blue\", xlim=c(-50,50), ylim=c(0,60))\n"
   ]
  },
  {
   "cell_type": "markdown",
   "metadata": {},
   "source": [
    "## 1-2. One-Sample Wilcoxon Signed Rank Test in R\n",
    "http://www.sthda.com/english/wiki/one-sample-wilcoxon-signed-rank-test-in-r"
   ]
  },
  {
   "cell_type": "code",
   "execution_count": 6,
   "metadata": {},
   "outputs": [
    {
     "data": {
      "text/plain": [
       "\n",
       "\tWilcoxon signed rank test with continuity correction\n",
       "\n",
       "data:  test$V1\n",
       "V = 0, p-value < 2.2e-16\n",
       "alternative hypothesis: true location is not equal to 20.83333\n"
      ]
     },
     "metadata": {},
     "output_type": "display_data"
    }
   ],
   "source": [
    "# We want to know, if the average of the data differs from mu (two-tailed test).\n",
    "\n",
    "# One-sample wilcoxon test\n",
    "res <- wilcox.test(test$V1, mu = 20.833333)\n",
    "# Printing the results\n",
    "res"
   ]
  },
  {
   "cell_type": "markdown",
   "metadata": {},
   "source": [
    "---\n",
    "# 2. Distribution of lagtime for onset and offset of freezing\n",
    "## 2-1. Load lagtime csv file and visualize"
   ]
  },
  {
   "cell_type": "code",
   "execution_count": 9,
   "metadata": {
    "scrolled": true
   },
   "outputs": [
    {
     "data": {
      "text/html": [
       "<table>\n",
       "<caption>A data.frame: 365 × 2</caption>\n",
       "<thead>\n",
       "\t<tr><th scope=col>lagtime</th><th scope=col>type</th></tr>\n",
       "\t<tr><th scope=col>&lt;dbl&gt;</th><th scope=col>&lt;fct&gt;</th></tr>\n",
       "</thead>\n",
       "<tbody>\n",
       "\t<tr><td> 0.00</td><td>onset</td></tr>\n",
       "\t<tr><td> 4.25</td><td>onset</td></tr>\n",
       "\t<tr><td> 5.50</td><td>onset</td></tr>\n",
       "\t<tr><td>-6.00</td><td>onset</td></tr>\n",
       "\t<tr><td> 0.75</td><td>onset</td></tr>\n",
       "\t<tr><td> 0.00</td><td>onset</td></tr>\n",
       "\t<tr><td>-3.50</td><td>onset</td></tr>\n",
       "\t<tr><td> 2.00</td><td>onset</td></tr>\n",
       "\t<tr><td> 2.25</td><td>onset</td></tr>\n",
       "\t<tr><td>-0.75</td><td>onset</td></tr>\n",
       "\t<tr><td> 1.00</td><td>onset</td></tr>\n",
       "\t<tr><td> 1.25</td><td>onset</td></tr>\n",
       "\t<tr><td> 1.00</td><td>onset</td></tr>\n",
       "\t<tr><td>-0.75</td><td>onset</td></tr>\n",
       "\t<tr><td>-0.25</td><td>onset</td></tr>\n",
       "\t<tr><td>-0.50</td><td>onset</td></tr>\n",
       "\t<tr><td> 0.00</td><td>onset</td></tr>\n",
       "\t<tr><td> 6.00</td><td>onset</td></tr>\n",
       "\t<tr><td>11.25</td><td>onset</td></tr>\n",
       "\t<tr><td>-6.00</td><td>onset</td></tr>\n",
       "\t<tr><td>-0.75</td><td>onset</td></tr>\n",
       "\t<tr><td> 0.00</td><td>onset</td></tr>\n",
       "\t<tr><td>-4.00</td><td>onset</td></tr>\n",
       "\t<tr><td>-2.00</td><td>onset</td></tr>\n",
       "\t<tr><td>-2.25</td><td>onset</td></tr>\n",
       "\t<tr><td> 0.75</td><td>onset</td></tr>\n",
       "\t<tr><td>-2.75</td><td>onset</td></tr>\n",
       "\t<tr><td>-1.25</td><td>onset</td></tr>\n",
       "\t<tr><td>-1.00</td><td>onset</td></tr>\n",
       "\t<tr><td> 4.00</td><td>onset</td></tr>\n",
       "\t<tr><td>...</td><td>...</td></tr>\n",
       "\t<tr><td>  4.00</td><td>offset</td></tr>\n",
       "\t<tr><td>-12.50</td><td>offset</td></tr>\n",
       "\t<tr><td> -6.00</td><td>offset</td></tr>\n",
       "\t<tr><td>  2.50</td><td>offset</td></tr>\n",
       "\t<tr><td>  6.25</td><td>offset</td></tr>\n",
       "\t<tr><td>  0.25</td><td>offset</td></tr>\n",
       "\t<tr><td>  0.00</td><td>offset</td></tr>\n",
       "\t<tr><td>-10.25</td><td>offset</td></tr>\n",
       "\t<tr><td>  2.00</td><td>offset</td></tr>\n",
       "\t<tr><td>  0.75</td><td>offset</td></tr>\n",
       "\t<tr><td> -3.25</td><td>offset</td></tr>\n",
       "\t<tr><td>  4.00</td><td>offset</td></tr>\n",
       "\t<tr><td>  0.00</td><td>offset</td></tr>\n",
       "\t<tr><td> -2.00</td><td>offset</td></tr>\n",
       "\t<tr><td> -0.75</td><td>offset</td></tr>\n",
       "\t<tr><td>  3.25</td><td>offset</td></tr>\n",
       "\t<tr><td>  9.75</td><td>offset</td></tr>\n",
       "\t<tr><td> -4.00</td><td>offset</td></tr>\n",
       "\t<tr><td>-16.75</td><td>offset</td></tr>\n",
       "\t<tr><td> -2.25</td><td>offset</td></tr>\n",
       "\t<tr><td>  0.00</td><td>offset</td></tr>\n",
       "\t<tr><td>-21.75</td><td>offset</td></tr>\n",
       "\t<tr><td> -3.25</td><td>offset</td></tr>\n",
       "\t<tr><td> 20.50</td><td>offset</td></tr>\n",
       "\t<tr><td>-10.25</td><td>offset</td></tr>\n",
       "\t<tr><td>  0.00</td><td>offset</td></tr>\n",
       "\t<tr><td>  0.75</td><td>offset</td></tr>\n",
       "\t<tr><td> 11.75</td><td>offset</td></tr>\n",
       "\t<tr><td>-20.50</td><td>offset</td></tr>\n",
       "\t<tr><td>  0.00</td><td>offset</td></tr>\n",
       "</tbody>\n",
       "</table>\n"
      ],
      "text/latex": [
       "A data.frame: 365 × 2\n",
       "\\begin{tabular}{ll}\n",
       " lagtime & type\\\\\n",
       " <dbl> & <fct>\\\\\n",
       "\\hline\n",
       "\t  0.00 & onset\\\\\n",
       "\t  4.25 & onset\\\\\n",
       "\t  5.50 & onset\\\\\n",
       "\t -6.00 & onset\\\\\n",
       "\t  0.75 & onset\\\\\n",
       "\t  0.00 & onset\\\\\n",
       "\t -3.50 & onset\\\\\n",
       "\t  2.00 & onset\\\\\n",
       "\t  2.25 & onset\\\\\n",
       "\t -0.75 & onset\\\\\n",
       "\t  1.00 & onset\\\\\n",
       "\t  1.25 & onset\\\\\n",
       "\t  1.00 & onset\\\\\n",
       "\t -0.75 & onset\\\\\n",
       "\t -0.25 & onset\\\\\n",
       "\t -0.50 & onset\\\\\n",
       "\t  0.00 & onset\\\\\n",
       "\t  6.00 & onset\\\\\n",
       "\t 11.25 & onset\\\\\n",
       "\t -6.00 & onset\\\\\n",
       "\t -0.75 & onset\\\\\n",
       "\t  0.00 & onset\\\\\n",
       "\t -4.00 & onset\\\\\n",
       "\t -2.00 & onset\\\\\n",
       "\t -2.25 & onset\\\\\n",
       "\t  0.75 & onset\\\\\n",
       "\t -2.75 & onset\\\\\n",
       "\t -1.25 & onset\\\\\n",
       "\t -1.00 & onset\\\\\n",
       "\t  4.00 & onset\\\\\n",
       "\t ... & ...\\\\\n",
       "\t   4.00 & offset\\\\\n",
       "\t -12.50 & offset\\\\\n",
       "\t  -6.00 & offset\\\\\n",
       "\t   2.50 & offset\\\\\n",
       "\t   6.25 & offset\\\\\n",
       "\t   0.25 & offset\\\\\n",
       "\t   0.00 & offset\\\\\n",
       "\t -10.25 & offset\\\\\n",
       "\t   2.00 & offset\\\\\n",
       "\t   0.75 & offset\\\\\n",
       "\t  -3.25 & offset\\\\\n",
       "\t   4.00 & offset\\\\\n",
       "\t   0.00 & offset\\\\\n",
       "\t  -2.00 & offset\\\\\n",
       "\t  -0.75 & offset\\\\\n",
       "\t   3.25 & offset\\\\\n",
       "\t   9.75 & offset\\\\\n",
       "\t  -4.00 & offset\\\\\n",
       "\t -16.75 & offset\\\\\n",
       "\t  -2.25 & offset\\\\\n",
       "\t   0.00 & offset\\\\\n",
       "\t -21.75 & offset\\\\\n",
       "\t  -3.25 & offset\\\\\n",
       "\t  20.50 & offset\\\\\n",
       "\t -10.25 & offset\\\\\n",
       "\t   0.00 & offset\\\\\n",
       "\t   0.75 & offset\\\\\n",
       "\t  11.75 & offset\\\\\n",
       "\t -20.50 & offset\\\\\n",
       "\t   0.00 & offset\\\\\n",
       "\\end{tabular}\n"
      ],
      "text/markdown": [
       "\n",
       "A data.frame: 365 × 2\n",
       "\n",
       "| lagtime &lt;dbl&gt; | type &lt;fct&gt; |\n",
       "|---|---|\n",
       "|  0.00 | onset |\n",
       "|  4.25 | onset |\n",
       "|  5.50 | onset |\n",
       "| -6.00 | onset |\n",
       "|  0.75 | onset |\n",
       "|  0.00 | onset |\n",
       "| -3.50 | onset |\n",
       "|  2.00 | onset |\n",
       "|  2.25 | onset |\n",
       "| -0.75 | onset |\n",
       "|  1.00 | onset |\n",
       "|  1.25 | onset |\n",
       "|  1.00 | onset |\n",
       "| -0.75 | onset |\n",
       "| -0.25 | onset |\n",
       "| -0.50 | onset |\n",
       "|  0.00 | onset |\n",
       "|  6.00 | onset |\n",
       "| 11.25 | onset |\n",
       "| -6.00 | onset |\n",
       "| -0.75 | onset |\n",
       "|  0.00 | onset |\n",
       "| -4.00 | onset |\n",
       "| -2.00 | onset |\n",
       "| -2.25 | onset |\n",
       "|  0.75 | onset |\n",
       "| -2.75 | onset |\n",
       "| -1.25 | onset |\n",
       "| -1.00 | onset |\n",
       "|  4.00 | onset |\n",
       "| ... | ... |\n",
       "|   4.00 | offset |\n",
       "| -12.50 | offset |\n",
       "|  -6.00 | offset |\n",
       "|   2.50 | offset |\n",
       "|   6.25 | offset |\n",
       "|   0.25 | offset |\n",
       "|   0.00 | offset |\n",
       "| -10.25 | offset |\n",
       "|   2.00 | offset |\n",
       "|   0.75 | offset |\n",
       "|  -3.25 | offset |\n",
       "|   4.00 | offset |\n",
       "|   0.00 | offset |\n",
       "|  -2.00 | offset |\n",
       "|  -0.75 | offset |\n",
       "|   3.25 | offset |\n",
       "|   9.75 | offset |\n",
       "|  -4.00 | offset |\n",
       "| -16.75 | offset |\n",
       "|  -2.25 | offset |\n",
       "|   0.00 | offset |\n",
       "| -21.75 | offset |\n",
       "|  -3.25 | offset |\n",
       "|  20.50 | offset |\n",
       "| -10.25 | offset |\n",
       "|   0.00 | offset |\n",
       "|   0.75 | offset |\n",
       "|  11.75 | offset |\n",
       "| -20.50 | offset |\n",
       "|   0.00 | offset |\n",
       "\n"
      ],
      "text/plain": [
       "    lagtime type  \n",
       "1    0.00   onset \n",
       "2    4.25   onset \n",
       "3    5.50   onset \n",
       "4   -6.00   onset \n",
       "5    0.75   onset \n",
       "6    0.00   onset \n",
       "7   -3.50   onset \n",
       "8    2.00   onset \n",
       "9    2.25   onset \n",
       "10  -0.75   onset \n",
       "11   1.00   onset \n",
       "12   1.25   onset \n",
       "13   1.00   onset \n",
       "14  -0.75   onset \n",
       "15  -0.25   onset \n",
       "16  -0.50   onset \n",
       "17   0.00   onset \n",
       "18   6.00   onset \n",
       "19  11.25   onset \n",
       "20  -6.00   onset \n",
       "21  -0.75   onset \n",
       "22   0.00   onset \n",
       "23  -4.00   onset \n",
       "24  -2.00   onset \n",
       "25  -2.25   onset \n",
       "26   0.75   onset \n",
       "27  -2.75   onset \n",
       "28  -1.25   onset \n",
       "29  -1.00   onset \n",
       "30   4.00   onset \n",
       "... ...     ...   \n",
       "336   4.00  offset\n",
       "337 -12.50  offset\n",
       "338  -6.00  offset\n",
       "339   2.50  offset\n",
       "340   6.25  offset\n",
       "341   0.25  offset\n",
       "342   0.00  offset\n",
       "343 -10.25  offset\n",
       "344   2.00  offset\n",
       "345   0.75  offset\n",
       "346  -3.25  offset\n",
       "347   4.00  offset\n",
       "348   0.00  offset\n",
       "349  -2.00  offset\n",
       "350  -0.75  offset\n",
       "351   3.25  offset\n",
       "352   9.75  offset\n",
       "353  -4.00  offset\n",
       "354 -16.75  offset\n",
       "355  -2.25  offset\n",
       "356   0.00  offset\n",
       "357 -21.75  offset\n",
       "358  -3.25  offset\n",
       "359  20.50  offset\n",
       "360 -10.25  offset\n",
       "361   0.00  offset\n",
       "362   0.75  offset\n",
       "363  11.75  offset\n",
       "364 -20.50  offset\n",
       "365   0.00  offset"
      ]
     },
     "metadata": {},
     "output_type": "display_data"
    }
   ],
   "source": [
    "# Load csv file\n",
    "# test <- read.csv(file=\"C:\\\\Users\\\\User\\\\Dropbox\\\\Shared w am\\\\2019-02-19 R03 Brain-to-brain synchrony\\\\fig\\\\fear_express_video\\\\freeze.csv\",header=TRUE, sep=\",\")\n",
    "test <- read.csv(file=\"freeze.csv\",header=TRUE, sep=\",\")\n",
    "\n",
    "test"
   ]
  },
  {
   "cell_type": "code",
   "execution_count": 11,
   "metadata": {},
   "outputs": [
    {
     "data": {
      "image/png": "[encoded data removed]",
      "text/plain": [
       "plot without title"
      ]
     },
     "metadata": {
      "image/png": {
       "height": 420,
       "width": 420
      },
      "text/plain": {
       "height": 420,
       "width": 420
      }
     },
     "output_type": "display_data"
    },
    {
     "data": {
      "image/png": "[encoded data removed]",
      "text/plain": [
       "Plot with title \"Histogram of subTest$lagtime\""
      ]
     },
     "metadata": {
      "image/png": {
       "height": 420,
       "width": 420
      },
      "text/plain": {
       "height": 420,
       "width": 420
      }
     },
     "output_type": "display_data"
    },
    {
     "data": {
      "text/html": [
       "<strong>png:</strong> 2"
      ],
      "text/latex": [
       "\\textbf{png:} 2"
      ],
      "text/markdown": [
       "**png:** 2"
      ],
      "text/plain": [
       "png \n",
       "  2 "
      ]
     },
     "metadata": {},
     "output_type": "display_data"
    },
    {
     "data": {
      "image/png": "[encoded data removed]",
      "text/plain": [
       "Plot with title \"Histogram of subTest$lagtime\""
      ]
     },
     "metadata": {
      "image/png": {
       "height": 420,
       "width": 420
      },
      "text/plain": {
       "height": 420,
       "width": 420
      }
     },
     "output_type": "display_data"
    }
   ],
   "source": [
    "# Plot the distribution\n",
    "library(ggplot2)\n",
    "library(ggbeeswarm)\n",
    "\n",
    "ggplot(test,aes(type,lagtime)) +\n",
    " geom_boxplot() +\n",
    " geom_quasirandom(alpha = 0.2) +\n",
    " theme_bw()\n",
    "\n",
    "# Colored Histogram with Different Number of Bins\n",
    "subTest = test[test$type=='onset',]\n",
    "hist(subTest$lagtime, breaks=seq(-50,50,1), col=\"blue\", xlim=c(-50,50), ylim=c(0,60))\n",
    "\n",
    "subTest = test[test$type=='offset',]\n",
    "hist(subTest$lagtime, breaks=seq(-50,50,1), col=\"blue\", xlim=c(-50,50), ylim=c(0,60))\n",
    "\n",
    "\n",
    "### (Option) Export a plot as EPS file ##############################################\n",
    "# Change the plot line\n",
    "setEPS()\n",
    "postscript(\"whatever.eps\")\n",
    "plot(rnorm(100), main=\"Hey Some Data\")\n",
    "dev.off()\n",
    "#####################################################################################\n"
   ]
  },
  {
   "cell_type": "markdown",
   "metadata": {},
   "source": [
    "## 2-2. Test Coefficients of Variation from multiple samples\n",
    "https://cran.r-project.org/web/packages/cvequality/vignettes/how_to_test_CVs.html\n",
    "\n",
    "If ggbeeswarm is not install, open terminal window and install it.\n",
    "```\n",
    "$ sudo R\n",
    "> install.packages(\"ggbeeswarm\")\n",
    "> install.packages(\"cvequality\")\n",
    "```"
   ]
  },
  {
   "cell_type": "code",
   "execution_count": 12,
   "metadata": {
    "scrolled": true
   },
   "outputs": [],
   "source": [
    "# Load required library\n",
    "library(cvequality)"
   ]
  },
  {
   "cell_type": "code",
   "execution_count": 13,
   "metadata": {
    "scrolled": true
   },
   "outputs": [
    {
     "data": {
      "text/html": [
       "<dl>\n",
       "\t<dt>$D_AD</dt>\n",
       "\t\t<dd>7949.28651357628</dd>\n",
       "\t<dt>$p_value</dt>\n",
       "\t\t<dd>0</dd>\n",
       "</dl>\n"
      ],
      "text/latex": [
       "\\begin{description}\n",
       "\\item[\\$D\\_AD] 7949.28651357628\n",
       "\\item[\\$p\\_value] 0\n",
       "\\end{description}\n"
      ],
      "text/markdown": [
       "$D_AD\n",
       ":   7949.28651357628\n",
       "$p_value\n",
       ":   0\n",
       "\n",
       "\n"
      ],
      "text/plain": [
       "$D_AD\n",
       "[1] 7949.287\n",
       "\n",
       "$p_value\n",
       "[1] 0\n"
      ]
     },
     "metadata": {},
     "output_type": "display_data"
    }
   ],
   "source": [
    "test1 <- with(test,asymptotic_test(lagtime,type))\n",
    "test1"
   ]
  },
  {
   "cell_type": "code",
   "execution_count": 14,
   "metadata": {
    "scrolled": true
   },
   "outputs": [
    {
     "data": {
      "text/html": [
       "<dl>\n",
       "\t<dt>$MSLRT</dt>\n",
       "\t\t<dd>6.89142751967269</dd>\n",
       "\t<dt>$p_value</dt>\n",
       "\t\t<dd>0.00866100756016275</dd>\n",
       "</dl>\n"
      ],
      "text/latex": [
       "\\begin{description}\n",
       "\\item[\\$MSLRT] 6.89142751967269\n",
       "\\item[\\$p\\_value] 0.00866100756016275\n",
       "\\end{description}\n"
      ],
      "text/markdown": [
       "$MSLRT\n",
       ":   6.89142751967269\n",
       "$p_value\n",
       ":   0.00866100756016275\n",
       "\n",
       "\n"
      ],
      "text/plain": [
       "$MSLRT\n",
       "[1] 6.891428\n",
       "\n",
       "$p_value\n",
       "[1] 0.008661008\n"
      ]
     },
     "metadata": {},
     "output_type": "display_data"
    }
   ],
   "source": [
    "test2 <- with(test,mslr_test(nr = 1e4, lagtime,type))\n",
    "test2"
   ]
  },
  {
   "cell_type": "markdown",
   "metadata": {},
   "source": [
    "---\n",
    "# 3. Boxplot for the distribution of lagtime for each animal pair."
   ]
  },
  {
   "cell_type": "code",
   "execution_count": 27,
   "metadata": {},
   "outputs": [
    {
     "data": {
      "text/html": [
       "<table>\n",
       "<thead><tr><th scope=col>s1_s2</th><th scope=col>pair</th></tr></thead>\n",
       "<tbody>\n",
       "\t<tr><td>  0  </td><td>f1s  </td></tr>\n",
       "\t<tr><td>-24  </td><td>f1s  </td></tr>\n",
       "\t<tr><td>  3  </td><td>f1s  </td></tr>\n",
       "\t<tr><td>  0  </td><td>f1s  </td></tr>\n",
       "\t<tr><td> 16  </td><td>f1s  </td></tr>\n",
       "\t<tr><td>  8  </td><td>f1s  </td></tr>\n",
       "\t<tr><td>  9  </td><td>f1s  </td></tr>\n",
       "\t<tr><td> -3  </td><td>f1s  </td></tr>\n",
       "\t<tr><td>  5  </td><td>f1s  </td></tr>\n",
       "\t<tr><td>  4  </td><td>f1s  </td></tr>\n",
       "\t<tr><td> -3  </td><td>f1s  </td></tr>\n",
       "\t<tr><td> -1  </td><td>f1s  </td></tr>\n",
       "\t<tr><td> -2  </td><td>f1s  </td></tr>\n",
       "\t<tr><td>  0  </td><td>f1e  </td></tr>\n",
       "\t<tr><td> -9  </td><td>f1e  </td></tr>\n",
       "\t<tr><td>  0  </td><td>f1e  </td></tr>\n",
       "\t<tr><td>  0  </td><td>f1e  </td></tr>\n",
       "\t<tr><td> 13  </td><td>f1e  </td></tr>\n",
       "\t<tr><td>  0  </td><td>f1e  </td></tr>\n",
       "\t<tr><td>  0  </td><td>f1e  </td></tr>\n",
       "\t<tr><td>  4  </td><td>f1e  </td></tr>\n",
       "\t<tr><td>  2  </td><td>f1e  </td></tr>\n",
       "\t<tr><td> -1  </td><td>f1e  </td></tr>\n",
       "\t<tr><td> -8  </td><td>f1e  </td></tr>\n",
       "\t<tr><td>  3  </td><td>f1e  </td></tr>\n",
       "\t<tr><td> 14  </td><td>f2_1s</td></tr>\n",
       "\t<tr><td> -1  </td><td>f2_1s</td></tr>\n",
       "\t<tr><td>  9  </td><td>f2_1s</td></tr>\n",
       "\t<tr><td>  8  </td><td>f2_1s</td></tr>\n",
       "\t<tr><td> -7  </td><td>f2_1s</td></tr>\n",
       "\t<tr><td>⋮</td><td>⋮</td></tr>\n",
       "\t<tr><td>  0  </td><td>f3_1e</td></tr>\n",
       "\t<tr><td>  3  </td><td>f3_2s</td></tr>\n",
       "\t<tr><td>-12  </td><td>f3_2s</td></tr>\n",
       "\t<tr><td>  4  </td><td>f3_2s</td></tr>\n",
       "\t<tr><td> -2  </td><td>f3_2s</td></tr>\n",
       "\t<tr><td>  5  </td><td>f3_2s</td></tr>\n",
       "\t<tr><td> -1  </td><td>f3_2e</td></tr>\n",
       "\t<tr><td> -3  </td><td>f3_2e</td></tr>\n",
       "\t<tr><td>  0  </td><td>f3_2e</td></tr>\n",
       "\t<tr><td>-12  </td><td>f3_2e</td></tr>\n",
       "\t<tr><td>-11  </td><td>f4_1s</td></tr>\n",
       "\t<tr><td>-14  </td><td>f4_1s</td></tr>\n",
       "\t<tr><td> 11  </td><td>f4_1s</td></tr>\n",
       "\t<tr><td> 16  </td><td>f4_1s</td></tr>\n",
       "\t<tr><td>-57  </td><td>f4_1s</td></tr>\n",
       "\t<tr><td> 19  </td><td>f4_1s</td></tr>\n",
       "\t<tr><td>-16  </td><td>f4_1e</td></tr>\n",
       "\t<tr><td>-10  </td><td>f4_1e</td></tr>\n",
       "\t<tr><td>-25  </td><td>f4_1e</td></tr>\n",
       "\t<tr><td> -1  </td><td>f4_1e</td></tr>\n",
       "\t<tr><td>  0  </td><td>f4_1e</td></tr>\n",
       "\t<tr><td>  3  </td><td>f4_2s</td></tr>\n",
       "\t<tr><td> -4  </td><td>f4_2s</td></tr>\n",
       "\t<tr><td>-18  </td><td>f4_2s</td></tr>\n",
       "\t<tr><td> 18  </td><td>f4_2s</td></tr>\n",
       "\t<tr><td>  8  </td><td>f4_2e</td></tr>\n",
       "\t<tr><td>  3  </td><td>f4_2e</td></tr>\n",
       "\t<tr><td>-13  </td><td>f4_2e</td></tr>\n",
       "\t<tr><td> 16  </td><td>f4_2e</td></tr>\n",
       "\t<tr><td>  0  </td><td>f4_2e</td></tr>\n",
       "</tbody>\n",
       "</table>\n"
      ],
      "text/latex": [
       "\\begin{tabular}{r|ll}\n",
       " s1\\_s2 & pair\\\\\n",
       "\\hline\n",
       "\t   0   & f1s  \\\\\n",
       "\t -24   & f1s  \\\\\n",
       "\t   3   & f1s  \\\\\n",
       "\t   0   & f1s  \\\\\n",
       "\t  16   & f1s  \\\\\n",
       "\t   8   & f1s  \\\\\n",
       "\t   9   & f1s  \\\\\n",
       "\t  -3   & f1s  \\\\\n",
       "\t   5   & f1s  \\\\\n",
       "\t   4   & f1s  \\\\\n",
       "\t  -3   & f1s  \\\\\n",
       "\t  -1   & f1s  \\\\\n",
       "\t  -2   & f1s  \\\\\n",
       "\t   0   & f1e  \\\\\n",
       "\t  -9   & f1e  \\\\\n",
       "\t   0   & f1e  \\\\\n",
       "\t   0   & f1e  \\\\\n",
       "\t  13   & f1e  \\\\\n",
       "\t   0   & f1e  \\\\\n",
       "\t   0   & f1e  \\\\\n",
       "\t   4   & f1e  \\\\\n",
       "\t   2   & f1e  \\\\\n",
       "\t  -1   & f1e  \\\\\n",
       "\t  -8   & f1e  \\\\\n",
       "\t   3   & f1e  \\\\\n",
       "\t  14     & f2\\_1s\\\\\n",
       "\t  -1     & f2\\_1s\\\\\n",
       "\t   9     & f2\\_1s\\\\\n",
       "\t   8     & f2\\_1s\\\\\n",
       "\t  -7     & f2\\_1s\\\\\n",
       "\t ⋮ & ⋮\\\\\n",
       "\t   0     & f3\\_1e\\\\\n",
       "\t   3     & f3\\_2s\\\\\n",
       "\t -12     & f3\\_2s\\\\\n",
       "\t   4     & f3\\_2s\\\\\n",
       "\t  -2     & f3\\_2s\\\\\n",
       "\t   5     & f3\\_2s\\\\\n",
       "\t  -1     & f3\\_2e\\\\\n",
       "\t  -3     & f3\\_2e\\\\\n",
       "\t   0     & f3\\_2e\\\\\n",
       "\t -12     & f3\\_2e\\\\\n",
       "\t -11     & f4\\_1s\\\\\n",
       "\t -14     & f4\\_1s\\\\\n",
       "\t  11     & f4\\_1s\\\\\n",
       "\t  16     & f4\\_1s\\\\\n",
       "\t -57     & f4\\_1s\\\\\n",
       "\t  19     & f4\\_1s\\\\\n",
       "\t -16     & f4\\_1e\\\\\n",
       "\t -10     & f4\\_1e\\\\\n",
       "\t -25     & f4\\_1e\\\\\n",
       "\t  -1     & f4\\_1e\\\\\n",
       "\t   0     & f4\\_1e\\\\\n",
       "\t   3     & f4\\_2s\\\\\n",
       "\t  -4     & f4\\_2s\\\\\n",
       "\t -18     & f4\\_2s\\\\\n",
       "\t  18     & f4\\_2s\\\\\n",
       "\t   8     & f4\\_2e\\\\\n",
       "\t   3     & f4\\_2e\\\\\n",
       "\t -13     & f4\\_2e\\\\\n",
       "\t  16     & f4\\_2e\\\\\n",
       "\t   0     & f4\\_2e\\\\\n",
       "\\end{tabular}\n"
      ],
      "text/markdown": [
       "\n",
       "| s1_s2 | pair |\n",
       "|---|---|\n",
       "|   0   | f1s   |\n",
       "| -24   | f1s   |\n",
       "|   3   | f1s   |\n",
       "|   0   | f1s   |\n",
       "|  16   | f1s   |\n",
       "|   8   | f1s   |\n",
       "|   9   | f1s   |\n",
       "|  -3   | f1s   |\n",
       "|   5   | f1s   |\n",
       "|   4   | f1s   |\n",
       "|  -3   | f1s   |\n",
       "|  -1   | f1s   |\n",
       "|  -2   | f1s   |\n",
       "|   0   | f1e   |\n",
       "|  -9   | f1e   |\n",
       "|   0   | f1e   |\n",
       "|   0   | f1e   |\n",
       "|  13   | f1e   |\n",
       "|   0   | f1e   |\n",
       "|   0   | f1e   |\n",
       "|   4   | f1e   |\n",
       "|   2   | f1e   |\n",
       "|  -1   | f1e   |\n",
       "|  -8   | f1e   |\n",
       "|   3   | f1e   |\n",
       "|  14   | f2_1s |\n",
       "|  -1   | f2_1s |\n",
       "|   9   | f2_1s |\n",
       "|   8   | f2_1s |\n",
       "|  -7   | f2_1s |\n",
       "| ⋮ | ⋮ |\n",
       "|   0   | f3_1e |\n",
       "|   3   | f3_2s |\n",
       "| -12   | f3_2s |\n",
       "|   4   | f3_2s |\n",
       "|  -2   | f3_2s |\n",
       "|   5   | f3_2s |\n",
       "|  -1   | f3_2e |\n",
       "|  -3   | f3_2e |\n",
       "|   0   | f3_2e |\n",
       "| -12   | f3_2e |\n",
       "| -11   | f4_1s |\n",
       "| -14   | f4_1s |\n",
       "|  11   | f4_1s |\n",
       "|  16   | f4_1s |\n",
       "| -57   | f4_1s |\n",
       "|  19   | f4_1s |\n",
       "| -16   | f4_1e |\n",
       "| -10   | f4_1e |\n",
       "| -25   | f4_1e |\n",
       "|  -1   | f4_1e |\n",
       "|   0   | f4_1e |\n",
       "|   3   | f4_2s |\n",
       "|  -4   | f4_2s |\n",
       "| -18   | f4_2s |\n",
       "|  18   | f4_2s |\n",
       "|   8   | f4_2e |\n",
       "|   3   | f4_2e |\n",
       "| -13   | f4_2e |\n",
       "|  16   | f4_2e |\n",
       "|   0   | f4_2e |\n",
       "\n"
      ],
      "text/plain": [
       "    s1_s2 pair \n",
       "1     0   f1s  \n",
       "2   -24   f1s  \n",
       "3     3   f1s  \n",
       "4     0   f1s  \n",
       "5    16   f1s  \n",
       "6     8   f1s  \n",
       "7     9   f1s  \n",
       "8    -3   f1s  \n",
       "9     5   f1s  \n",
       "10    4   f1s  \n",
       "11   -3   f1s  \n",
       "12   -1   f1s  \n",
       "13   -2   f1s  \n",
       "14    0   f1e  \n",
       "15   -9   f1e  \n",
       "16    0   f1e  \n",
       "17    0   f1e  \n",
       "18   13   f1e  \n",
       "19    0   f1e  \n",
       "20    0   f1e  \n",
       "21    4   f1e  \n",
       "22    2   f1e  \n",
       "23   -1   f1e  \n",
       "24   -8   f1e  \n",
       "25    3   f1e  \n",
       "26   14   f2_1s\n",
       "27   -1   f2_1s\n",
       "28    9   f2_1s\n",
       "29    8   f2_1s\n",
       "30   -7   f2_1s\n",
       "⋮   ⋮     ⋮    \n",
       "86    0   f3_1e\n",
       "87    3   f3_2s\n",
       "88  -12   f3_2s\n",
       "89    4   f3_2s\n",
       "90   -2   f3_2s\n",
       "91    5   f3_2s\n",
       "92   -1   f3_2e\n",
       "93   -3   f3_2e\n",
       "94    0   f3_2e\n",
       "95  -12   f3_2e\n",
       "96  -11   f4_1s\n",
       "97  -14   f4_1s\n",
       "98   11   f4_1s\n",
       "99   16   f4_1s\n",
       "100 -57   f4_1s\n",
       "101  19   f4_1s\n",
       "102 -16   f4_1e\n",
       "103 -10   f4_1e\n",
       "104 -25   f4_1e\n",
       "105  -1   f4_1e\n",
       "106   0   f4_1e\n",
       "107   3   f4_2s\n",
       "108  -4   f4_2s\n",
       "109 -18   f4_2s\n",
       "110  18   f4_2s\n",
       "111   8   f4_2e\n",
       "112   3   f4_2e\n",
       "113 -13   f4_2e\n",
       "114  16   f4_2e\n",
       "115   0   f4_2e"
      ]
     },
     "metadata": {},
     "output_type": "display_data"
    }
   ],
   "source": [
    "# Raw data for lag-time\n",
    "# \"s\" stands for onset and \"e\" stands for offset of freezing\n",
    "d1 <- c( 0,    -24,    3,    0,   16,    8,    9,   -3,    5,    4,   -3,   -1,  -2 )\n",
    "e1 <- c(\"f1s\", \"f1s\", \"f1s\", \"f1s\", \"f1s\", \"f1s\", \"f1s\", \"f1s\", \"f1s\", \"f1s\", \"f1s\", \"f1s\", \"f1s\") \n",
    "\n",
    "d2 <- c(   0,   -9,    0,    0,   13,    0,    0,    4,    2,   -1,   -8,   3)\n",
    "e2 <- c(\"f1e\", \"f1e\", \"f1e\", \"f1e\", \"f1e\", \"f1e\", \"f1e\", \"f1e\", \"f1e\", \"f1e\", \"f1e\", \"f1e\") \n",
    "\n",
    "d3 <- c(14,-1,9,8,-7,0,-8,0,0,-18,0)\n",
    "e3 <- c(\"f2_1s\",\"f2_1s\",\"f2_1s\",\"f2_1s\",\"f2_1s\",\"f2_1s\",\"f2_1s\",\"f2_1s\",\"f2_1s\",\"f2_1s\",\"f2_1s\")\n",
    "\n",
    "d4 <- c(     13,      10,      -3,     -11,      -9,       1,      -3,       3,     -18,      -6,       4,     0)\n",
    "e4 <- c(\"f2_1e\", \"f2_1e\", \"f2_1e\", \"f2_1e\", \"f2_1e\", \"f2_1e\", \"f2_1e\", \"f2_1e\", \"f2_1e\", \"f2_1e\", \"f2_1e\", \"f2_1e\") \n",
    "\n",
    "d5 <- c(3,4,0,4,3,1,0,-8,-4,5,11)\n",
    "e5 <- c(\"f2_2s\",\"f2_2s\",\"f2_2s\",\"f2_2s\",\"f2_2s\",\"f2_2s\",\"f2_2s\",\"f2_2s\",\"f2_2s\",\"f2_2s\",\"f2_2s\")\n",
    "\n",
    "d6 <- c(3,1,0,1,1,0,0,-9,-12,3,-2)\n",
    "e6 <- c(\"f2_2e\",\"f2_2e\",\"f2_2e\",\"f2_2e\",\"f2_2e\",\"f2_2e\",\"f2_2e\",\"f2_2e\",\"f2_2e\",\"f2_2e\",\"f2_2e\")\n",
    "\n",
    "d7 <- c(-3,-1,-7,11,-11,3,-13,-2)\n",
    "e7 <- c(\"f3_1s\",\"f3_1s\",\"f3_1s\",\"f3_1s\",\"f3_1s\",\"f3_1s\",\"f3_1s\",\"f3_1s\")\n",
    "\n",
    "d8 <- c(-7,0,-2,2,-7,2,-6,0)\n",
    "e8 <- c(\"f3_1e\",\"f3_1e\",\"f3_1e\",\"f3_1e\",\"f3_1e\",\"f3_1e\",\"f3_1e\",\"f3_1e\")\n",
    "\n",
    "d9 <- c(3,-12,4,-2,5)\n",
    "e9 <- c(\"f3_2s\",\"f3_2s\",\"f3_2s\",\"f3_2s\",\"f3_2s\")\n",
    "\n",
    "d10 <- c(-1,-3,0,-12)\n",
    "e10 <- c(\"f3_2e\",\"f3_2e\",\"f3_2e\",\"f3_2e\")\n",
    "\n",
    "d11 <- c(-11,-14,11,16,-57,19)\n",
    "e11 <- c(\"f4_1s\",\"f4_1s\",\"f4_1s\",\"f4_1s\",\"f4_1s\",\"f4_1s\")\n",
    "\n",
    "d12 <- c(-16,-10,-25,-1,0)\n",
    "e12 <- c(\"f4_1e\",\"f4_1e\",\"f4_1e\",\"f4_1e\",\"f4_1e\")\n",
    "\n",
    "d13 <- c(3,-4,-18,18)\n",
    "e13 <- c(\"f4_2s\",\"f4_2s\",\"f4_2s\",\"f4_2s\")\n",
    "\n",
    "d14 <- c(8,3,-13,16,0)\n",
    "e14 <- c(\"f4_2e\",\"f4_2e\",\"f4_2e\",\"f4_2e\",\"f4_2e\")\n",
    "\n",
    "# Concatenate the data\n",
    "d <- c(d1,d2,d3,d4,d5,d6,d7,d8,d9,d10,d11,d12,d13,d14)\n",
    "e <- c(e1,e2,e3,e4,e5,e6,e7,e8,e9,e10,e11,e12,e13,e14)\n",
    "\n",
    "# Create data frame\n",
    "mydata <- data.frame(d,e)\n",
    "# Add column names\n",
    "names(mydata) <- c(\"s1_s2\",\"pair\")\n",
    "\n",
    "mydata"
   ]
  },
  {
   "cell_type": "code",
   "execution_count": 28,
   "metadata": {},
   "outputs": [
    {
     "data": {
      "text/html": [
       "<strong>png:</strong> 2"
      ],
      "text/latex": [
       "\\textbf{png:} 2"
      ],
      "text/markdown": [
       "**png:** 2"
      ],
      "text/plain": [
       "png \n",
       "  2 "
      ]
     },
     "metadata": {},
     "output_type": "display_data"
    },
    {
     "data": {
      "image/png": "[encoded data removed]",
      "text/plain": [
       "plot without title"
      ]
     },
     "metadata": {},
     "output_type": "display_data"
    }
   ],
   "source": [
    "# Boxplot for the distribution of lag-time\n",
    "library(ggplot2)\n",
    "library(ggbeeswarm)\n",
    "\n",
    "ggplot(mydata,aes(pair,s1_s2)) + geom_boxplot() + geom_quasirandom(alpha = 0.9) + theme_bw()\n",
    "\n",
    "### (Option) Export a plot as EPS file ##############################################\n",
    "# Change the plot line\n",
    "setEPS()\n",
    "postscript(\"whatever.eps\")\n",
    "plot(rnorm(100), main=\"Hey Some Data\")\n",
    "dev.off()\n",
    "#####################################################################################"
   ]
  },
  {
   "cell_type": "markdown",
   "metadata": {},
   "source": [
    "---"
   ]
  },
  {
   "cell_type": "markdown",
   "metadata": {},
   "source": [
    "# R version"
   ]
  },
  {
   "cell_type": "code",
   "execution_count": 53,
   "metadata": {},
   "outputs": [
    {
     "data": {
      "text/plain": [
       "               _                           \n",
       "platform       x86_64-pc-linux-gnu         \n",
       "arch           x86_64                      \n",
       "os             linux-gnu                   \n",
       "system         x86_64, linux-gnu           \n",
       "status                                     \n",
       "major          3                           \n",
       "minor          4.4                         \n",
       "year           2018                        \n",
       "month          03                          \n",
       "day            15                          \n",
       "svn rev        74408                       \n",
       "language       R                           \n",
       "version.string R version 3.4.4 (2018-03-15)\n",
       "nickname       Someone to Lean On          "
      ]
     },
     "metadata": {},
     "output_type": "display_data"
    }
   ],
   "source": [
    "version"
   ]
  },
  {
   "cell_type": "markdown",
   "metadata": {},
   "source": [
    "---\n",
    "# Read csv file and test correlation\n",
    "The csv file is generated by MATLAB code\n",
    "\n",
    "[READING IN DATA FROM AN EXTERNAL FILE | R LEARNING MODULES](https://stats.idre.ucla.edu/r/modules/reading-in-data-from-an-external-file/)"
   ]
  },
  {
   "cell_type": "code",
   "execution_count": 121,
   "metadata": {},
   "outputs": [],
   "source": [
    "test <- read.table('D:\\\\wataru\\\\Recording_Analysis\\\\Bases_dmPFC-BLA\\\\2017-12-19_vm81a_base\\\\myFile.txt', sep = \",\")"
   ]
  },
  {
   "cell_type": "code",
   "execution_count": 122,
   "metadata": {},
   "outputs": [
    {
     "data": {
      "image/png": "[encoded data removed]",
      "text/plain": [
       "Plot with title \"test[, 1] & test[, 3]\""
      ]
     },
     "metadata": {},
     "output_type": "display_data"
    }
   ],
   "source": [
    "ccf(test[,1], test[,3], lag = 200000, ylim = range(-1,1), type=\"correlation\")"
   ]
  },
  {
   "cell_type": "code",
   "execution_count": 123,
   "metadata": {},
   "outputs": [],
   "source": [
    "testTS <- ts(test)"
   ]
  },
  {
   "cell_type": "code",
   "execution_count": 129,
   "metadata": {},
   "outputs": [
    {
     "data": {
      "text/html": [
       "22926"
      ],
      "text/latex": [
       "22926"
      ],
      "text/markdown": [
       "22926"
      ],
      "text/plain": [
       "[1] 22926"
      ]
     },
     "metadata": {},
     "output_type": "display_data"
    },
    {
     "name": "stdout",
     "output_type": "stream",
     "text": [
      " Time-Series [1:3821, 1:6] from 1 to 3821: 8335 8632 8978 9366 9788 ...\n",
      " - attr(*, \"dimnames\")=List of 2\n",
      "  ..$ : NULL\n",
      "  ..$ : chr [1:6] \"V1\" \"V2\" \"V3\" \"V4\" ...\n"
     ]
    },
    {
     "data": {
      "text/html": [
       "<ol class=list-inline>\n",
       "\t<li>'mts'</li>\n",
       "\t<li>'ts'</li>\n",
       "\t<li>'matrix'</li>\n",
       "</ol>\n"
      ],
      "text/latex": [
       "\\begin{enumerate*}\n",
       "\\item 'mts'\n",
       "\\item 'ts'\n",
       "\\item 'matrix'\n",
       "\\end{enumerate*}\n"
      ],
      "text/markdown": [
       "1. 'mts'\n",
       "2. 'ts'\n",
       "3. 'matrix'\n",
       "\n",
       "\n"
      ],
      "text/plain": [
       "[1] \"mts\"    \"ts\"     \"matrix\""
      ]
     },
     "metadata": {},
     "output_type": "display_data"
    },
    {
     "data": {
      "text/plain": [
       "NULL"
      ]
     },
     "metadata": {},
     "output_type": "display_data"
    },
    {
     "data": {
      "text/html": [
       "<table>\n",
       "<thead><tr><th scope=col>V1</th><th scope=col>V2</th><th scope=col>V3</th><th scope=col>V4</th><th scope=col>V5</th><th scope=col>V6</th></tr></thead>\n",
       "<tbody>\n",
       "\t<tr><td> 8335.3</td><td> 5420.2</td><td>2109.1 </td><td>1829.0 </td><td>4663.9 </td><td> 6507.5</td></tr>\n",
       "\t<tr><td> 8632.5</td><td> 5568.8</td><td>2149.7 </td><td>1861.4 </td><td>4795.7 </td><td> 6753.5</td></tr>\n",
       "\t<tr><td> 8978.3</td><td> 5747.2</td><td>2191.1 </td><td>1894.1 </td><td>4953.2 </td><td> 7039.1</td></tr>\n",
       "\t<tr><td> 9365.9</td><td> 5951.6</td><td>2232.7 </td><td>1926.6 </td><td>5133.5 </td><td> 7359.2</td></tr>\n",
       "\t<tr><td> 9788.5</td><td> 6178.5</td><td>2273.8 </td><td>1958.3 </td><td>5334.0 </td><td> 7708.7</td></tr>\n",
       "\t<tr><td>10239.0</td><td> 6423.9</td><td>2313.9 </td><td>1988.8 </td><td>5551.3 </td><td> 8081.9</td></tr>\n",
       "\t<tr><td>10709.0</td><td> 6683.5</td><td>2352.6 </td><td>2017.8 </td><td>5781.9 </td><td> 8472.7</td></tr>\n",
       "\t<tr><td>11193.0</td><td> 6953.6</td><td>2389.5 </td><td>2045.1 </td><td>6022.4 </td><td> 8875.3</td></tr>\n",
       "\t<tr><td>11683.0</td><td> 7230.3</td><td>2424.4 </td><td>2070.5 </td><td>6269.4 </td><td> 9283.8</td></tr>\n",
       "\t<tr><td>12173.0</td><td> 7510.0</td><td>2457.3 </td><td>2094.0 </td><td>6519.4 </td><td> 9692.7</td></tr>\n",
       "\t<tr><td>12658.0</td><td> 7789.3</td><td>2488.0 </td><td>2115.6 </td><td>6769.1 </td><td>10097.0</td></tr>\n",
       "\t<tr><td>13134.0</td><td> 8065.3</td><td>2516.6 </td><td>2135.4 </td><td>7015.4 </td><td>10491.0</td></tr>\n",
       "\t<tr><td>13595.0</td><td> 8335.3</td><td>2543.2 </td><td>2153.5 </td><td>7255.6 </td><td>10871.0</td></tr>\n",
       "\t<tr><td>14038.0</td><td> 8597.1</td><td>2567.7 </td><td>2169.9 </td><td>7487.0 </td><td>11234.0</td></tr>\n",
       "\t<tr><td>14461.0</td><td> 8849.0</td><td>2590.2 </td><td>2184.9 </td><td>7707.8 </td><td>11576.0</td></tr>\n",
       "\t<tr><td>14863.0</td><td> 9089.7</td><td>2611.0 </td><td>2198.6 </td><td>7916.0 </td><td>11896.0</td></tr>\n",
       "\t<tr><td>15242.0</td><td> 9318.5</td><td>2629.9 </td><td>2211.1 </td><td>8110.4 </td><td>12191.0</td></tr>\n",
       "\t<tr><td>15599.0</td><td> 9534.7</td><td>2647.2 </td><td>2222.6 </td><td>8290.0 </td><td>12462.0</td></tr>\n",
       "\t<tr><td>15932.0</td><td> 9738.4</td><td>2662.8 </td><td>2233.1 </td><td>8454.5 </td><td>12708.0</td></tr>\n",
       "\t<tr><td>16245.0</td><td> 9929.9</td><td>2676.7 </td><td>2242.8 </td><td>8603.8 </td><td>12929.0</td></tr>\n",
       "\t<tr><td>16537.0</td><td>10110.0</td><td>2689.0 </td><td>2251.7 </td><td>8738.1 </td><td>13127.0</td></tr>\n",
       "\t<tr><td>16810.0</td><td>10278.0</td><td>2699.7 </td><td>2260.0 </td><td>8857.9 </td><td>13303.0</td></tr>\n",
       "\t<tr><td>17066.0</td><td>10437.0</td><td>2708.7 </td><td>2267.5 </td><td>8963.9 </td><td>13458.0</td></tr>\n",
       "\t<tr><td>17307.0</td><td>10586.0</td><td>2716.0 </td><td>2274.5 </td><td>9057.2 </td><td>13595.0</td></tr>\n",
       "\t<tr><td>17533.0</td><td>10727.0</td><td>2721.6 </td><td>2280.8 </td><td>9139.0 </td><td>13716.0</td></tr>\n",
       "\t<tr><td>17747.0</td><td>10860.0</td><td>2725.4 </td><td>2286.4 </td><td>9210.3 </td><td>13822.0</td></tr>\n",
       "\t<tr><td>17949.0</td><td>10986.0</td><td>2727.4 </td><td>2291.4 </td><td>9272.2 </td><td>13916.0</td></tr>\n",
       "\t<tr><td>18140.0</td><td>11105.0</td><td>2727.7 </td><td>2295.7 </td><td>9325.9 </td><td>13999.0</td></tr>\n",
       "\t<tr><td>18320.0</td><td>11218.0</td><td>2726.3 </td><td>2299.4 </td><td>9372.5 </td><td>14072.0</td></tr>\n",
       "\t<tr><td>18490.0</td><td>11325.0</td><td>2723.1 </td><td>2302.3 </td><td>9412.7 </td><td>14137.0</td></tr>\n",
       "\t<tr><td>...</td><td>...</td><td>...</td><td>...</td><td>...</td><td>...</td></tr>\n",
       "\t<tr><td>5428.5</td><td>5020.9</td><td>8316.0</td><td>7578.5</td><td>4653.5</td><td>4825.9</td></tr>\n",
       "\t<tr><td>5398.8</td><td>4996.1</td><td>8330.5</td><td>7581.2</td><td>4650.8</td><td>4826.3</td></tr>\n",
       "\t<tr><td>5372.9</td><td>4974.7</td><td>8353.0</td><td>7590.8</td><td>4652.0</td><td>4830.3</td></tr>\n",
       "\t<tr><td>5351.0</td><td>4957.2</td><td>8383.2</td><td>7607.0</td><td>4657.2</td><td>4838.1</td></tr>\n",
       "\t<tr><td>5333.3</td><td>4943.6</td><td>8420.6</td><td>7629.5</td><td>4666.4</td><td>4849.4</td></tr>\n",
       "\t<tr><td>5319.7</td><td>4933.9</td><td>8464.4</td><td>7657.9</td><td>4679.2</td><td>4864.1</td></tr>\n",
       "\t<tr><td>5310.1</td><td>4928.0</td><td>8513.7</td><td>7691.3</td><td>4695.3</td><td>4881.7</td></tr>\n",
       "\t<tr><td>5304.0</td><td>4925.4</td><td>8567.4</td><td>7729.0</td><td>4714.4</td><td>4901.8</td></tr>\n",
       "\t<tr><td>5301.0</td><td>4925.9</td><td>8624.0</td><td>7769.9</td><td>4735.8</td><td>4923.7</td></tr>\n",
       "\t<tr><td>5300.6</td><td>4928.8</td><td>8682.5</td><td>7813.0</td><td>4758.9</td><td>4946.9</td></tr>\n",
       "\t<tr><td>5302.2</td><td>4933.6</td><td>8741.1</td><td>7857.1</td><td>4783.1</td><td>4970.6</td></tr>\n",
       "\t<tr><td>5305.1</td><td>4939.5</td><td>8798.5</td><td>7901.1</td><td>4807.7</td><td>4994.1</td></tr>\n",
       "\t<tr><td>5308.6</td><td>4945.9</td><td>8853.3</td><td>7943.7</td><td>4831.9</td><td>5016.8</td></tr>\n",
       "\t<tr><td>5312.1</td><td>4952.3</td><td>8904.0</td><td>7983.7</td><td>4855.1</td><td>5037.9</td></tr>\n",
       "\t<tr><td>5315.0</td><td>4957.9</td><td>8949.3</td><td>8020.0</td><td>4876.6</td><td>5056.9</td></tr>\n",
       "\t<tr><td>5316.7</td><td>4962.2</td><td>8988.0</td><td>8051.5</td><td>4895.9</td><td>5073.2</td></tr>\n",
       "\t<tr><td>5316.9</td><td>4964.8</td><td>9019.2</td><td>8077.5</td><td>4912.5</td><td>5086.5</td></tr>\n",
       "\t<tr><td>5315.2</td><td>4965.4</td><td>9042.1</td><td>8097.1</td><td>4926.1</td><td>5096.3</td></tr>\n",
       "\t<tr><td>5311.4</td><td>4963.7</td><td>9056.1</td><td>8109.8</td><td>4936.4</td><td>5102.6</td></tr>\n",
       "\t<tr><td>5305.4</td><td>4959.7</td><td>9061.1</td><td>8115.3</td><td>4943.4</td><td>5105.3</td></tr>\n",
       "\t<tr><td>5297.4</td><td>4953.4</td><td>9057.0</td><td>8113.5</td><td>4947.1</td><td>5104.7</td></tr>\n",
       "\t<tr><td>5287.3</td><td>4944.8</td><td>9043.9</td><td>8104.5</td><td>4947.5</td><td>5100.8</td></tr>\n",
       "\t<tr><td>5275.4</td><td>4934.3</td><td>9022.2</td><td>8088.2</td><td>4945.1</td><td>5094.0</td></tr>\n",
       "\t<tr><td>5262.1</td><td>4922.1</td><td>8992.5</td><td>8065.3</td><td>4940.2</td><td>5084.9</td></tr>\n",
       "\t<tr><td>5247.8</td><td>4908.6</td><td>8955.6</td><td>8036.2</td><td>4933.2</td><td>5073.9</td></tr>\n",
       "\t<tr><td>5232.9</td><td>4894.2</td><td>8912.2</td><td>8001.5</td><td>4924.5</td><td>5061.6</td></tr>\n",
       "\t<tr><td>5217.8</td><td>4879.2</td><td>8863.2</td><td>7961.8</td><td>4914.7</td><td>5048.5</td></tr>\n",
       "\t<tr><td>5202.9</td><td>4864.2</td><td>8809.4</td><td>7917.8</td><td>4904.1</td><td>5035.1</td></tr>\n",
       "\t<tr><td>5188.6</td><td>4849.3</td><td>8751.6</td><td>7870.1</td><td>4893.2</td><td>5021.9</td></tr>\n",
       "\t<tr><td>5175.1</td><td>4834.8</td><td>8690.5</td><td>7819.1</td><td>4882.2</td><td>5009.0</td></tr>\n",
       "</tbody>\n",
       "</table>\n"
      ],
      "text/latex": [
       "\\begin{tabular}{llllll}\n",
       " V1 & V2 & V3 & V4 & V5 & V6\\\\\n",
       "\\hline\n",
       "\t  8335.3 &  5420.2 & 2109.1  & 1829.0  & 4663.9  &  6507.5\\\\\n",
       "\t  8632.5 &  5568.8 & 2149.7  & 1861.4  & 4795.7  &  6753.5\\\\\n",
       "\t  8978.3 &  5747.2 & 2191.1  & 1894.1  & 4953.2  &  7039.1\\\\\n",
       "\t  9365.9 &  5951.6 & 2232.7  & 1926.6  & 5133.5  &  7359.2\\\\\n",
       "\t  9788.5 &  6178.5 & 2273.8  & 1958.3  & 5334.0  &  7708.7\\\\\n",
       "\t 10239.0 &  6423.9 & 2313.9  & 1988.8  & 5551.3  &  8081.9\\\\\n",
       "\t 10709.0 &  6683.5 & 2352.6  & 2017.8  & 5781.9  &  8472.7\\\\\n",
       "\t 11193.0 &  6953.6 & 2389.5  & 2045.1  & 6022.4  &  8875.3\\\\\n",
       "\t 11683.0 &  7230.3 & 2424.4  & 2070.5  & 6269.4  &  9283.8\\\\\n",
       "\t 12173.0 &  7510.0 & 2457.3  & 2094.0  & 6519.4  &  9692.7\\\\\n",
       "\t 12658.0 &  7789.3 & 2488.0  & 2115.6  & 6769.1  & 10097.0\\\\\n",
       "\t 13134.0 &  8065.3 & 2516.6  & 2135.4  & 7015.4  & 10491.0\\\\\n",
       "\t 13595.0 &  8335.3 & 2543.2  & 2153.5  & 7255.6  & 10871.0\\\\\n",
       "\t 14038.0 &  8597.1 & 2567.7  & 2169.9  & 7487.0  & 11234.0\\\\\n",
       "\t 14461.0 &  8849.0 & 2590.2  & 2184.9  & 7707.8  & 11576.0\\\\\n",
       "\t 14863.0 &  9089.7 & 2611.0  & 2198.6  & 7916.0  & 11896.0\\\\\n",
       "\t 15242.0 &  9318.5 & 2629.9  & 2211.1  & 8110.4  & 12191.0\\\\\n",
       "\t 15599.0 &  9534.7 & 2647.2  & 2222.6  & 8290.0  & 12462.0\\\\\n",
       "\t 15932.0 &  9738.4 & 2662.8  & 2233.1  & 8454.5  & 12708.0\\\\\n",
       "\t 16245.0 &  9929.9 & 2676.7  & 2242.8  & 8603.8  & 12929.0\\\\\n",
       "\t 16537.0 & 10110.0 & 2689.0  & 2251.7  & 8738.1  & 13127.0\\\\\n",
       "\t 16810.0 & 10278.0 & 2699.7  & 2260.0  & 8857.9  & 13303.0\\\\\n",
       "\t 17066.0 & 10437.0 & 2708.7  & 2267.5  & 8963.9  & 13458.0\\\\\n",
       "\t 17307.0 & 10586.0 & 2716.0  & 2274.5  & 9057.2  & 13595.0\\\\\n",
       "\t 17533.0 & 10727.0 & 2721.6  & 2280.8  & 9139.0  & 13716.0\\\\\n",
       "\t 17747.0 & 10860.0 & 2725.4  & 2286.4  & 9210.3  & 13822.0\\\\\n",
       "\t 17949.0 & 10986.0 & 2727.4  & 2291.4  & 9272.2  & 13916.0\\\\\n",
       "\t 18140.0 & 11105.0 & 2727.7  & 2295.7  & 9325.9  & 13999.0\\\\\n",
       "\t 18320.0 & 11218.0 & 2726.3  & 2299.4  & 9372.5  & 14072.0\\\\\n",
       "\t 18490.0 & 11325.0 & 2723.1  & 2302.3  & 9412.7  & 14137.0\\\\\n",
       "\t ... & ... & ... & ... & ... & ...\\\\\n",
       "\t 5428.5 & 5020.9 & 8316.0 & 7578.5 & 4653.5 & 4825.9\\\\\n",
       "\t 5398.8 & 4996.1 & 8330.5 & 7581.2 & 4650.8 & 4826.3\\\\\n",
       "\t 5372.9 & 4974.7 & 8353.0 & 7590.8 & 4652.0 & 4830.3\\\\\n",
       "\t 5351.0 & 4957.2 & 8383.2 & 7607.0 & 4657.2 & 4838.1\\\\\n",
       "\t 5333.3 & 4943.6 & 8420.6 & 7629.5 & 4666.4 & 4849.4\\\\\n",
       "\t 5319.7 & 4933.9 & 8464.4 & 7657.9 & 4679.2 & 4864.1\\\\\n",
       "\t 5310.1 & 4928.0 & 8513.7 & 7691.3 & 4695.3 & 4881.7\\\\\n",
       "\t 5304.0 & 4925.4 & 8567.4 & 7729.0 & 4714.4 & 4901.8\\\\\n",
       "\t 5301.0 & 4925.9 & 8624.0 & 7769.9 & 4735.8 & 4923.7\\\\\n",
       "\t 5300.6 & 4928.8 & 8682.5 & 7813.0 & 4758.9 & 4946.9\\\\\n",
       "\t 5302.2 & 4933.6 & 8741.1 & 7857.1 & 4783.1 & 4970.6\\\\\n",
       "\t 5305.1 & 4939.5 & 8798.5 & 7901.1 & 4807.7 & 4994.1\\\\\n",
       "\t 5308.6 & 4945.9 & 8853.3 & 7943.7 & 4831.9 & 5016.8\\\\\n",
       "\t 5312.1 & 4952.3 & 8904.0 & 7983.7 & 4855.1 & 5037.9\\\\\n",
       "\t 5315.0 & 4957.9 & 8949.3 & 8020.0 & 4876.6 & 5056.9\\\\\n",
       "\t 5316.7 & 4962.2 & 8988.0 & 8051.5 & 4895.9 & 5073.2\\\\\n",
       "\t 5316.9 & 4964.8 & 9019.2 & 8077.5 & 4912.5 & 5086.5\\\\\n",
       "\t 5315.2 & 4965.4 & 9042.1 & 8097.1 & 4926.1 & 5096.3\\\\\n",
       "\t 5311.4 & 4963.7 & 9056.1 & 8109.8 & 4936.4 & 5102.6\\\\\n",
       "\t 5305.4 & 4959.7 & 9061.1 & 8115.3 & 4943.4 & 5105.3\\\\\n",
       "\t 5297.4 & 4953.4 & 9057.0 & 8113.5 & 4947.1 & 5104.7\\\\\n",
       "\t 5287.3 & 4944.8 & 9043.9 & 8104.5 & 4947.5 & 5100.8\\\\\n",
       "\t 5275.4 & 4934.3 & 9022.2 & 8088.2 & 4945.1 & 5094.0\\\\\n",
       "\t 5262.1 & 4922.1 & 8992.5 & 8065.3 & 4940.2 & 5084.9\\\\\n",
       "\t 5247.8 & 4908.6 & 8955.6 & 8036.2 & 4933.2 & 5073.9\\\\\n",
       "\t 5232.9 & 4894.2 & 8912.2 & 8001.5 & 4924.5 & 5061.6\\\\\n",
       "\t 5217.8 & 4879.2 & 8863.2 & 7961.8 & 4914.7 & 5048.5\\\\\n",
       "\t 5202.9 & 4864.2 & 8809.4 & 7917.8 & 4904.1 & 5035.1\\\\\n",
       "\t 5188.6 & 4849.3 & 8751.6 & 7870.1 & 4893.2 & 5021.9\\\\\n",
       "\t 5175.1 & 4834.8 & 8690.5 & 7819.1 & 4882.2 & 5009.0\\\\\n",
       "\\end{tabular}\n"
      ],
      "text/markdown": [
       "\n",
       "V1 | V2 | V3 | V4 | V5 | V6 | \n",
       "|---|---|---|---|---|---|---|---|---|---|---|---|---|---|---|---|---|---|---|---|---|---|---|---|---|---|---|---|---|---|---|---|---|---|---|---|---|---|---|---|---|---|---|---|---|---|---|---|---|---|---|---|---|---|---|---|---|---|---|---|---|\n",
       "|  8335.3 |  5420.2 | 2109.1  | 1829.0  | 4663.9  |  6507.5 | \n",
       "|  8632.5 |  5568.8 | 2149.7  | 1861.4  | 4795.7  |  6753.5 | \n",
       "|  8978.3 |  5747.2 | 2191.1  | 1894.1  | 4953.2  |  7039.1 | \n",
       "|  9365.9 |  5951.6 | 2232.7  | 1926.6  | 5133.5  |  7359.2 | \n",
       "|  9788.5 |  6178.5 | 2273.8  | 1958.3  | 5334.0  |  7708.7 | \n",
       "| 10239.0 |  6423.9 | 2313.9  | 1988.8  | 5551.3  |  8081.9 | \n",
       "| 10709.0 |  6683.5 | 2352.6  | 2017.8  | 5781.9  |  8472.7 | \n",
       "| 11193.0 |  6953.6 | 2389.5  | 2045.1  | 6022.4  |  8875.3 | \n",
       "| 11683.0 |  7230.3 | 2424.4  | 2070.5  | 6269.4  |  9283.8 | \n",
       "| 12173.0 |  7510.0 | 2457.3  | 2094.0  | 6519.4  |  9692.7 | \n",
       "| 12658.0 |  7789.3 | 2488.0  | 2115.6  | 6769.1  | 10097.0 | \n",
       "| 13134.0 |  8065.3 | 2516.6  | 2135.4  | 7015.4  | 10491.0 | \n",
       "| 13595.0 |  8335.3 | 2543.2  | 2153.5  | 7255.6  | 10871.0 | \n",
       "| 14038.0 |  8597.1 | 2567.7  | 2169.9  | 7487.0  | 11234.0 | \n",
       "| 14461.0 |  8849.0 | 2590.2  | 2184.9  | 7707.8  | 11576.0 | \n",
       "| 14863.0 |  9089.7 | 2611.0  | 2198.6  | 7916.0  | 11896.0 | \n",
       "| 15242.0 |  9318.5 | 2629.9  | 2211.1  | 8110.4  | 12191.0 | \n",
       "| 15599.0 |  9534.7 | 2647.2  | 2222.6  | 8290.0  | 12462.0 | \n",
       "| 15932.0 |  9738.4 | 2662.8  | 2233.1  | 8454.5  | 12708.0 | \n",
       "| 16245.0 |  9929.9 | 2676.7  | 2242.8  | 8603.8  | 12929.0 | \n",
       "| 16537.0 | 10110.0 | 2689.0  | 2251.7  | 8738.1  | 13127.0 | \n",
       "| 16810.0 | 10278.0 | 2699.7  | 2260.0  | 8857.9  | 13303.0 | \n",
       "| 17066.0 | 10437.0 | 2708.7  | 2267.5  | 8963.9  | 13458.0 | \n",
       "| 17307.0 | 10586.0 | 2716.0  | 2274.5  | 9057.2  | 13595.0 | \n",
       "| 17533.0 | 10727.0 | 2721.6  | 2280.8  | 9139.0  | 13716.0 | \n",
       "| 17747.0 | 10860.0 | 2725.4  | 2286.4  | 9210.3  | 13822.0 | \n",
       "| 17949.0 | 10986.0 | 2727.4  | 2291.4  | 9272.2  | 13916.0 | \n",
       "| 18140.0 | 11105.0 | 2727.7  | 2295.7  | 9325.9  | 13999.0 | \n",
       "| 18320.0 | 11218.0 | 2726.3  | 2299.4  | 9372.5  | 14072.0 | \n",
       "| 18490.0 | 11325.0 | 2723.1  | 2302.3  | 9412.7  | 14137.0 | \n",
       "| ... | ... | ... | ... | ... | ... | \n",
       "| 5428.5 | 5020.9 | 8316.0 | 7578.5 | 4653.5 | 4825.9 | \n",
       "| 5398.8 | 4996.1 | 8330.5 | 7581.2 | 4650.8 | 4826.3 | \n",
       "| 5372.9 | 4974.7 | 8353.0 | 7590.8 | 4652.0 | 4830.3 | \n",
       "| 5351.0 | 4957.2 | 8383.2 | 7607.0 | 4657.2 | 4838.1 | \n",
       "| 5333.3 | 4943.6 | 8420.6 | 7629.5 | 4666.4 | 4849.4 | \n",
       "| 5319.7 | 4933.9 | 8464.4 | 7657.9 | 4679.2 | 4864.1 | \n",
       "| 5310.1 | 4928.0 | 8513.7 | 7691.3 | 4695.3 | 4881.7 | \n",
       "| 5304.0 | 4925.4 | 8567.4 | 7729.0 | 4714.4 | 4901.8 | \n",
       "| 5301.0 | 4925.9 | 8624.0 | 7769.9 | 4735.8 | 4923.7 | \n",
       "| 5300.6 | 4928.8 | 8682.5 | 7813.0 | 4758.9 | 4946.9 | \n",
       "| 5302.2 | 4933.6 | 8741.1 | 7857.1 | 4783.1 | 4970.6 | \n",
       "| 5305.1 | 4939.5 | 8798.5 | 7901.1 | 4807.7 | 4994.1 | \n",
       "| 5308.6 | 4945.9 | 8853.3 | 7943.7 | 4831.9 | 5016.8 | \n",
       "| 5312.1 | 4952.3 | 8904.0 | 7983.7 | 4855.1 | 5037.9 | \n",
       "| 5315.0 | 4957.9 | 8949.3 | 8020.0 | 4876.6 | 5056.9 | \n",
       "| 5316.7 | 4962.2 | 8988.0 | 8051.5 | 4895.9 | 5073.2 | \n",
       "| 5316.9 | 4964.8 | 9019.2 | 8077.5 | 4912.5 | 5086.5 | \n",
       "| 5315.2 | 4965.4 | 9042.1 | 8097.1 | 4926.1 | 5096.3 | \n",
       "| 5311.4 | 4963.7 | 9056.1 | 8109.8 | 4936.4 | 5102.6 | \n",
       "| 5305.4 | 4959.7 | 9061.1 | 8115.3 | 4943.4 | 5105.3 | \n",
       "| 5297.4 | 4953.4 | 9057.0 | 8113.5 | 4947.1 | 5104.7 | \n",
       "| 5287.3 | 4944.8 | 9043.9 | 8104.5 | 4947.5 | 5100.8 | \n",
       "| 5275.4 | 4934.3 | 9022.2 | 8088.2 | 4945.1 | 5094.0 | \n",
       "| 5262.1 | 4922.1 | 8992.5 | 8065.3 | 4940.2 | 5084.9 | \n",
       "| 5247.8 | 4908.6 | 8955.6 | 8036.2 | 4933.2 | 5073.9 | \n",
       "| 5232.9 | 4894.2 | 8912.2 | 8001.5 | 4924.5 | 5061.6 | \n",
       "| 5217.8 | 4879.2 | 8863.2 | 7961.8 | 4914.7 | 5048.5 | \n",
       "| 5202.9 | 4864.2 | 8809.4 | 7917.8 | 4904.1 | 5035.1 | \n",
       "| 5188.6 | 4849.3 | 8751.6 | 7870.1 | 4893.2 | 5021.9 | \n",
       "| 5175.1 | 4834.8 | 8690.5 | 7819.1 | 4882.2 | 5009.0 | \n",
       "\n",
       "\n"
      ],
      "text/plain": [
       "      V1      V2      V3     V4     V5     V6     \n",
       " [1,]  8335.3  5420.2 2109.1 1829.0 4663.9  6507.5\n",
       " [2,]  8632.5  5568.8 2149.7 1861.4 4795.7  6753.5\n",
       " [3,]  8978.3  5747.2 2191.1 1894.1 4953.2  7039.1\n",
       " [4,]  9365.9  5951.6 2232.7 1926.6 5133.5  7359.2\n",
       " [5,]  9788.5  6178.5 2273.8 1958.3 5334.0  7708.7\n",
       " [6,] 10239.0  6423.9 2313.9 1988.8 5551.3  8081.9\n",
       " [7,] 10709.0  6683.5 2352.6 2017.8 5781.9  8472.7\n",
       " [8,] 11193.0  6953.6 2389.5 2045.1 6022.4  8875.3\n",
       " [9,] 11683.0  7230.3 2424.4 2070.5 6269.4  9283.8\n",
       "[10,] 12173.0  7510.0 2457.3 2094.0 6519.4  9692.7\n",
       "[11,] 12658.0  7789.3 2488.0 2115.6 6769.1 10097.0\n",
       "[12,] 13134.0  8065.3 2516.6 2135.4 7015.4 10491.0\n",
       "[13,] 13595.0  8335.3 2543.2 2153.5 7255.6 10871.0\n",
       "[14,] 14038.0  8597.1 2567.7 2169.9 7487.0 11234.0\n",
       "[15,] 14461.0  8849.0 2590.2 2184.9 7707.8 11576.0\n",
       "[16,] 14863.0  9089.7 2611.0 2198.6 7916.0 11896.0\n",
       "[17,] 15242.0  9318.5 2629.9 2211.1 8110.4 12191.0\n",
       "[18,] 15599.0  9534.7 2647.2 2222.6 8290.0 12462.0\n",
       "[19,] 15932.0  9738.4 2662.8 2233.1 8454.5 12708.0\n",
       "[20,] 16245.0  9929.9 2676.7 2242.8 8603.8 12929.0\n",
       "[21,] 16537.0 10110.0 2689.0 2251.7 8738.1 13127.0\n",
       "[22,] 16810.0 10278.0 2699.7 2260.0 8857.9 13303.0\n",
       "[23,] 17066.0 10437.0 2708.7 2267.5 8963.9 13458.0\n",
       "[24,] 17307.0 10586.0 2716.0 2274.5 9057.2 13595.0\n",
       "[25,] 17533.0 10727.0 2721.6 2280.8 9139.0 13716.0\n",
       "[26,] 17747.0 10860.0 2725.4 2286.4 9210.3 13822.0\n",
       "[27,] 17949.0 10986.0 2727.4 2291.4 9272.2 13916.0\n",
       "[28,] 18140.0 11105.0 2727.7 2295.7 9325.9 13999.0\n",
       "[29,] 18320.0 11218.0 2726.3 2299.4 9372.5 14072.0\n",
       "[30,] 18490.0 11325.0 2723.1 2302.3 9412.7 14137.0\n",
       "[31,] ...     ...     ...    ...    ...    ...    \n",
       "[32,] 5428.5  5020.9  8316.0 7578.5 4653.5 4825.9 \n",
       "[33,] 5398.8  4996.1  8330.5 7581.2 4650.8 4826.3 \n",
       "[34,] 5372.9  4974.7  8353.0 7590.8 4652.0 4830.3 \n",
       "[35,] 5351.0  4957.2  8383.2 7607.0 4657.2 4838.1 \n",
       "[36,] 5333.3  4943.6  8420.6 7629.5 4666.4 4849.4 \n",
       "[37,] 5319.7  4933.9  8464.4 7657.9 4679.2 4864.1 \n",
       "[38,] 5310.1  4928.0  8513.7 7691.3 4695.3 4881.7 \n",
       "[39,] 5304.0  4925.4  8567.4 7729.0 4714.4 4901.8 \n",
       "[40,] 5301.0  4925.9  8624.0 7769.9 4735.8 4923.7 \n",
       "[41,] 5300.6  4928.8  8682.5 7813.0 4758.9 4946.9 \n",
       "[42,] 5302.2  4933.6  8741.1 7857.1 4783.1 4970.6 \n",
       "[43,] 5305.1  4939.5  8798.5 7901.1 4807.7 4994.1 \n",
       "[44,] 5308.6  4945.9  8853.3 7943.7 4831.9 5016.8 \n",
       "[45,] 5312.1  4952.3  8904.0 7983.7 4855.1 5037.9 \n",
       "[46,] 5315.0  4957.9  8949.3 8020.0 4876.6 5056.9 \n",
       "[47,] 5316.7  4962.2  8988.0 8051.5 4895.9 5073.2 \n",
       "[48,] 5316.9  4964.8  9019.2 8077.5 4912.5 5086.5 \n",
       "[49,] 5315.2  4965.4  9042.1 8097.1 4926.1 5096.3 \n",
       "[50,] 5311.4  4963.7  9056.1 8109.8 4936.4 5102.6 \n",
       "[51,] 5305.4  4959.7  9061.1 8115.3 4943.4 5105.3 \n",
       "[52,] 5297.4  4953.4  9057.0 8113.5 4947.1 5104.7 \n",
       "[53,] 5287.3  4944.8  9043.9 8104.5 4947.5 5100.8 \n",
       "[54,] 5275.4  4934.3  9022.2 8088.2 4945.1 5094.0 \n",
       "[55,] 5262.1  4922.1  8992.5 8065.3 4940.2 5084.9 \n",
       "[56,] 5247.8  4908.6  8955.6 8036.2 4933.2 5073.9 \n",
       "[57,] 5232.9  4894.2  8912.2 8001.5 4924.5 5061.6 \n",
       "[58,] 5217.8  4879.2  8863.2 7961.8 4914.7 5048.5 \n",
       "[59,] 5202.9  4864.2  8809.4 7917.8 4904.1 5035.1 \n",
       "[60,] 5188.6  4849.3  8751.6 7870.1 4893.2 5021.9 \n",
       "[61,] 5175.1  4834.8  8690.5 7819.1 4882.2 5009.0 "
      ]
     },
     "metadata": {},
     "output_type": "display_data"
    }
   ],
   "source": [
    "length(testTS)\n",
    "str(testTS)\n",
    "class(testTS)\n",
    "names(testTS)\n",
    "testTS"
   ]
  },
  {
   "cell_type": "code",
   "execution_count": 128,
   "metadata": {},
   "outputs": [
    {
     "data": {
      "text/html": [
       "<table>\n",
       "<thead><tr><th scope=col>V1</th><th scope=col>V2</th><th scope=col>V3</th><th scope=col>V4</th><th scope=col>V5</th><th scope=col>V6</th></tr></thead>\n",
       "<tbody>\n",
       "\t<tr><td> 8335.3</td><td> 5420.2</td><td>2109.1 </td><td>1829.0 </td><td>4663.9 </td><td> 6507.5</td></tr>\n",
       "\t<tr><td> 8632.5</td><td> 5568.8</td><td>2149.7 </td><td>1861.4 </td><td>4795.7 </td><td> 6753.5</td></tr>\n",
       "\t<tr><td> 8978.3</td><td> 5747.2</td><td>2191.1 </td><td>1894.1 </td><td>4953.2 </td><td> 7039.1</td></tr>\n",
       "\t<tr><td> 9365.9</td><td> 5951.6</td><td>2232.7 </td><td>1926.6 </td><td>5133.5 </td><td> 7359.2</td></tr>\n",
       "\t<tr><td> 9788.5</td><td> 6178.5</td><td>2273.8 </td><td>1958.3 </td><td>5334.0 </td><td> 7708.7</td></tr>\n",
       "\t<tr><td>10239.0</td><td> 6423.9</td><td>2313.9 </td><td>1988.8 </td><td>5551.3 </td><td> 8081.9</td></tr>\n",
       "\t<tr><td>10709.0</td><td> 6683.5</td><td>2352.6 </td><td>2017.8 </td><td>5781.9 </td><td> 8472.7</td></tr>\n",
       "\t<tr><td>11193.0</td><td> 6953.6</td><td>2389.5 </td><td>2045.1 </td><td>6022.4 </td><td> 8875.3</td></tr>\n",
       "\t<tr><td>11683.0</td><td> 7230.3</td><td>2424.4 </td><td>2070.5 </td><td>6269.4 </td><td> 9283.8</td></tr>\n",
       "\t<tr><td>12173.0</td><td> 7510.0</td><td>2457.3 </td><td>2094.0 </td><td>6519.4 </td><td> 9692.7</td></tr>\n",
       "\t<tr><td>12658.0</td><td> 7789.3</td><td>2488.0 </td><td>2115.6 </td><td>6769.1 </td><td>10097.0</td></tr>\n",
       "\t<tr><td>13134.0</td><td> 8065.3</td><td>2516.6 </td><td>2135.4 </td><td>7015.4 </td><td>10491.0</td></tr>\n",
       "\t<tr><td>13595.0</td><td> 8335.3</td><td>2543.2 </td><td>2153.5 </td><td>7255.6 </td><td>10871.0</td></tr>\n",
       "\t<tr><td>14038.0</td><td> 8597.1</td><td>2567.7 </td><td>2169.9 </td><td>7487.0 </td><td>11234.0</td></tr>\n",
       "\t<tr><td>14461.0</td><td> 8849.0</td><td>2590.2 </td><td>2184.9 </td><td>7707.8 </td><td>11576.0</td></tr>\n",
       "\t<tr><td>14863.0</td><td> 9089.7</td><td>2611.0 </td><td>2198.6 </td><td>7916.0 </td><td>11896.0</td></tr>\n",
       "\t<tr><td>15242.0</td><td> 9318.5</td><td>2629.9 </td><td>2211.1 </td><td>8110.4 </td><td>12191.0</td></tr>\n",
       "\t<tr><td>15599.0</td><td> 9534.7</td><td>2647.2 </td><td>2222.6 </td><td>8290.0 </td><td>12462.0</td></tr>\n",
       "\t<tr><td>15932.0</td><td> 9738.4</td><td>2662.8 </td><td>2233.1 </td><td>8454.5 </td><td>12708.0</td></tr>\n",
       "\t<tr><td>16245.0</td><td> 9929.9</td><td>2676.7 </td><td>2242.8 </td><td>8603.8 </td><td>12929.0</td></tr>\n",
       "\t<tr><td>16537.0</td><td>10110.0</td><td>2689.0 </td><td>2251.7 </td><td>8738.1 </td><td>13127.0</td></tr>\n",
       "\t<tr><td>16810.0</td><td>10278.0</td><td>2699.7 </td><td>2260.0 </td><td>8857.9 </td><td>13303.0</td></tr>\n",
       "\t<tr><td>17066.0</td><td>10437.0</td><td>2708.7 </td><td>2267.5 </td><td>8963.9 </td><td>13458.0</td></tr>\n",
       "\t<tr><td>17307.0</td><td>10586.0</td><td>2716.0 </td><td>2274.5 </td><td>9057.2 </td><td>13595.0</td></tr>\n",
       "\t<tr><td>17533.0</td><td>10727.0</td><td>2721.6 </td><td>2280.8 </td><td>9139.0 </td><td>13716.0</td></tr>\n",
       "\t<tr><td>17747.0</td><td>10860.0</td><td>2725.4 </td><td>2286.4 </td><td>9210.3 </td><td>13822.0</td></tr>\n",
       "\t<tr><td>17949.0</td><td>10986.0</td><td>2727.4 </td><td>2291.4 </td><td>9272.2 </td><td>13916.0</td></tr>\n",
       "\t<tr><td>18140.0</td><td>11105.0</td><td>2727.7 </td><td>2295.7 </td><td>9325.9 </td><td>13999.0</td></tr>\n",
       "\t<tr><td>18320.0</td><td>11218.0</td><td>2726.3 </td><td>2299.4 </td><td>9372.5 </td><td>14072.0</td></tr>\n",
       "\t<tr><td>18490.0</td><td>11325.0</td><td>2723.1 </td><td>2302.3 </td><td>9412.7 </td><td>14137.0</td></tr>\n",
       "\t<tr><td>...</td><td>...</td><td>...</td><td>...</td><td>...</td><td>...</td></tr>\n",
       "\t<tr><td>5428.5</td><td>5020.9</td><td>8316.0</td><td>7578.5</td><td>4653.5</td><td>4825.9</td></tr>\n",
       "\t<tr><td>5398.8</td><td>4996.1</td><td>8330.5</td><td>7581.2</td><td>4650.8</td><td>4826.3</td></tr>\n",
       "\t<tr><td>5372.9</td><td>4974.7</td><td>8353.0</td><td>7590.8</td><td>4652.0</td><td>4830.3</td></tr>\n",
       "\t<tr><td>5351.0</td><td>4957.2</td><td>8383.2</td><td>7607.0</td><td>4657.2</td><td>4838.1</td></tr>\n",
       "\t<tr><td>5333.3</td><td>4943.6</td><td>8420.6</td><td>7629.5</td><td>4666.4</td><td>4849.4</td></tr>\n",
       "\t<tr><td>5319.7</td><td>4933.9</td><td>8464.4</td><td>7657.9</td><td>4679.2</td><td>4864.1</td></tr>\n",
       "\t<tr><td>5310.1</td><td>4928.0</td><td>8513.7</td><td>7691.3</td><td>4695.3</td><td>4881.7</td></tr>\n",
       "\t<tr><td>5304.0</td><td>4925.4</td><td>8567.4</td><td>7729.0</td><td>4714.4</td><td>4901.8</td></tr>\n",
       "\t<tr><td>5301.0</td><td>4925.9</td><td>8624.0</td><td>7769.9</td><td>4735.8</td><td>4923.7</td></tr>\n",
       "\t<tr><td>5300.6</td><td>4928.8</td><td>8682.5</td><td>7813.0</td><td>4758.9</td><td>4946.9</td></tr>\n",
       "\t<tr><td>5302.2</td><td>4933.6</td><td>8741.1</td><td>7857.1</td><td>4783.1</td><td>4970.6</td></tr>\n",
       "\t<tr><td>5305.1</td><td>4939.5</td><td>8798.5</td><td>7901.1</td><td>4807.7</td><td>4994.1</td></tr>\n",
       "\t<tr><td>5308.6</td><td>4945.9</td><td>8853.3</td><td>7943.7</td><td>4831.9</td><td>5016.8</td></tr>\n",
       "\t<tr><td>5312.1</td><td>4952.3</td><td>8904.0</td><td>7983.7</td><td>4855.1</td><td>5037.9</td></tr>\n",
       "\t<tr><td>5315.0</td><td>4957.9</td><td>8949.3</td><td>8020.0</td><td>4876.6</td><td>5056.9</td></tr>\n",
       "\t<tr><td>5316.7</td><td>4962.2</td><td>8988.0</td><td>8051.5</td><td>4895.9</td><td>5073.2</td></tr>\n",
       "\t<tr><td>5316.9</td><td>4964.8</td><td>9019.2</td><td>8077.5</td><td>4912.5</td><td>5086.5</td></tr>\n",
       "\t<tr><td>5315.2</td><td>4965.4</td><td>9042.1</td><td>8097.1</td><td>4926.1</td><td>5096.3</td></tr>\n",
       "\t<tr><td>5311.4</td><td>4963.7</td><td>9056.1</td><td>8109.8</td><td>4936.4</td><td>5102.6</td></tr>\n",
       "\t<tr><td>5305.4</td><td>4959.7</td><td>9061.1</td><td>8115.3</td><td>4943.4</td><td>5105.3</td></tr>\n",
       "\t<tr><td>5297.4</td><td>4953.4</td><td>9057.0</td><td>8113.5</td><td>4947.1</td><td>5104.7</td></tr>\n",
       "\t<tr><td>5287.3</td><td>4944.8</td><td>9043.9</td><td>8104.5</td><td>4947.5</td><td>5100.8</td></tr>\n",
       "\t<tr><td>5275.4</td><td>4934.3</td><td>9022.2</td><td>8088.2</td><td>4945.1</td><td>5094.0</td></tr>\n",
       "\t<tr><td>5262.1</td><td>4922.1</td><td>8992.5</td><td>8065.3</td><td>4940.2</td><td>5084.9</td></tr>\n",
       "\t<tr><td>5247.8</td><td>4908.6</td><td>8955.6</td><td>8036.2</td><td>4933.2</td><td>5073.9</td></tr>\n",
       "\t<tr><td>5232.9</td><td>4894.2</td><td>8912.2</td><td>8001.5</td><td>4924.5</td><td>5061.6</td></tr>\n",
       "\t<tr><td>5217.8</td><td>4879.2</td><td>8863.2</td><td>7961.8</td><td>4914.7</td><td>5048.5</td></tr>\n",
       "\t<tr><td>5202.9</td><td>4864.2</td><td>8809.4</td><td>7917.8</td><td>4904.1</td><td>5035.1</td></tr>\n",
       "\t<tr><td>5188.6</td><td>4849.3</td><td>8751.6</td><td>7870.1</td><td>4893.2</td><td>5021.9</td></tr>\n",
       "\t<tr><td>5175.1</td><td>4834.8</td><td>8690.5</td><td>7819.1</td><td>4882.2</td><td>5009.0</td></tr>\n",
       "</tbody>\n",
       "</table>\n"
      ],
      "text/latex": [
       "\\begin{tabular}{llllll}\n",
       " V1 & V2 & V3 & V4 & V5 & V6\\\\\n",
       "\\hline\n",
       "\t  8335.3 &  5420.2 & 2109.1  & 1829.0  & 4663.9  &  6507.5\\\\\n",
       "\t  8632.5 &  5568.8 & 2149.7  & 1861.4  & 4795.7  &  6753.5\\\\\n",
       "\t  8978.3 &  5747.2 & 2191.1  & 1894.1  & 4953.2  &  7039.1\\\\\n",
       "\t  9365.9 &  5951.6 & 2232.7  & 1926.6  & 5133.5  &  7359.2\\\\\n",
       "\t  9788.5 &  6178.5 & 2273.8  & 1958.3  & 5334.0  &  7708.7\\\\\n",
       "\t 10239.0 &  6423.9 & 2313.9  & 1988.8  & 5551.3  &  8081.9\\\\\n",
       "\t 10709.0 &  6683.5 & 2352.6  & 2017.8  & 5781.9  &  8472.7\\\\\n",
       "\t 11193.0 &  6953.6 & 2389.5  & 2045.1  & 6022.4  &  8875.3\\\\\n",
       "\t 11683.0 &  7230.3 & 2424.4  & 2070.5  & 6269.4  &  9283.8\\\\\n",
       "\t 12173.0 &  7510.0 & 2457.3  & 2094.0  & 6519.4  &  9692.7\\\\\n",
       "\t 12658.0 &  7789.3 & 2488.0  & 2115.6  & 6769.1  & 10097.0\\\\\n",
       "\t 13134.0 &  8065.3 & 2516.6  & 2135.4  & 7015.4  & 10491.0\\\\\n",
       "\t 13595.0 &  8335.3 & 2543.2  & 2153.5  & 7255.6  & 10871.0\\\\\n",
       "\t 14038.0 &  8597.1 & 2567.7  & 2169.9  & 7487.0  & 11234.0\\\\\n",
       "\t 14461.0 &  8849.0 & 2590.2  & 2184.9  & 7707.8  & 11576.0\\\\\n",
       "\t 14863.0 &  9089.7 & 2611.0  & 2198.6  & 7916.0  & 11896.0\\\\\n",
       "\t 15242.0 &  9318.5 & 2629.9  & 2211.1  & 8110.4  & 12191.0\\\\\n",
       "\t 15599.0 &  9534.7 & 2647.2  & 2222.6  & 8290.0  & 12462.0\\\\\n",
       "\t 15932.0 &  9738.4 & 2662.8  & 2233.1  & 8454.5  & 12708.0\\\\\n",
       "\t 16245.0 &  9929.9 & 2676.7  & 2242.8  & 8603.8  & 12929.0\\\\\n",
       "\t 16537.0 & 10110.0 & 2689.0  & 2251.7  & 8738.1  & 13127.0\\\\\n",
       "\t 16810.0 & 10278.0 & 2699.7  & 2260.0  & 8857.9  & 13303.0\\\\\n",
       "\t 17066.0 & 10437.0 & 2708.7  & 2267.5  & 8963.9  & 13458.0\\\\\n",
       "\t 17307.0 & 10586.0 & 2716.0  & 2274.5  & 9057.2  & 13595.0\\\\\n",
       "\t 17533.0 & 10727.0 & 2721.6  & 2280.8  & 9139.0  & 13716.0\\\\\n",
       "\t 17747.0 & 10860.0 & 2725.4  & 2286.4  & 9210.3  & 13822.0\\\\\n",
       "\t 17949.0 & 10986.0 & 2727.4  & 2291.4  & 9272.2  & 13916.0\\\\\n",
       "\t 18140.0 & 11105.0 & 2727.7  & 2295.7  & 9325.9  & 13999.0\\\\\n",
       "\t 18320.0 & 11218.0 & 2726.3  & 2299.4  & 9372.5  & 14072.0\\\\\n",
       "\t 18490.0 & 11325.0 & 2723.1  & 2302.3  & 9412.7  & 14137.0\\\\\n",
       "\t ... & ... & ... & ... & ... & ...\\\\\n",
       "\t 5428.5 & 5020.9 & 8316.0 & 7578.5 & 4653.5 & 4825.9\\\\\n",
       "\t 5398.8 & 4996.1 & 8330.5 & 7581.2 & 4650.8 & 4826.3\\\\\n",
       "\t 5372.9 & 4974.7 & 8353.0 & 7590.8 & 4652.0 & 4830.3\\\\\n",
       "\t 5351.0 & 4957.2 & 8383.2 & 7607.0 & 4657.2 & 4838.1\\\\\n",
       "\t 5333.3 & 4943.6 & 8420.6 & 7629.5 & 4666.4 & 4849.4\\\\\n",
       "\t 5319.7 & 4933.9 & 8464.4 & 7657.9 & 4679.2 & 4864.1\\\\\n",
       "\t 5310.1 & 4928.0 & 8513.7 & 7691.3 & 4695.3 & 4881.7\\\\\n",
       "\t 5304.0 & 4925.4 & 8567.4 & 7729.0 & 4714.4 & 4901.8\\\\\n",
       "\t 5301.0 & 4925.9 & 8624.0 & 7769.9 & 4735.8 & 4923.7\\\\\n",
       "\t 5300.6 & 4928.8 & 8682.5 & 7813.0 & 4758.9 & 4946.9\\\\\n",
       "\t 5302.2 & 4933.6 & 8741.1 & 7857.1 & 4783.1 & 4970.6\\\\\n",
       "\t 5305.1 & 4939.5 & 8798.5 & 7901.1 & 4807.7 & 4994.1\\\\\n",
       "\t 5308.6 & 4945.9 & 8853.3 & 7943.7 & 4831.9 & 5016.8\\\\\n",
       "\t 5312.1 & 4952.3 & 8904.0 & 7983.7 & 4855.1 & 5037.9\\\\\n",
       "\t 5315.0 & 4957.9 & 8949.3 & 8020.0 & 4876.6 & 5056.9\\\\\n",
       "\t 5316.7 & 4962.2 & 8988.0 & 8051.5 & 4895.9 & 5073.2\\\\\n",
       "\t 5316.9 & 4964.8 & 9019.2 & 8077.5 & 4912.5 & 5086.5\\\\\n",
       "\t 5315.2 & 4965.4 & 9042.1 & 8097.1 & 4926.1 & 5096.3\\\\\n",
       "\t 5311.4 & 4963.7 & 9056.1 & 8109.8 & 4936.4 & 5102.6\\\\\n",
       "\t 5305.4 & 4959.7 & 9061.1 & 8115.3 & 4943.4 & 5105.3\\\\\n",
       "\t 5297.4 & 4953.4 & 9057.0 & 8113.5 & 4947.1 & 5104.7\\\\\n",
       "\t 5287.3 & 4944.8 & 9043.9 & 8104.5 & 4947.5 & 5100.8\\\\\n",
       "\t 5275.4 & 4934.3 & 9022.2 & 8088.2 & 4945.1 & 5094.0\\\\\n",
       "\t 5262.1 & 4922.1 & 8992.5 & 8065.3 & 4940.2 & 5084.9\\\\\n",
       "\t 5247.8 & 4908.6 & 8955.6 & 8036.2 & 4933.2 & 5073.9\\\\\n",
       "\t 5232.9 & 4894.2 & 8912.2 & 8001.5 & 4924.5 & 5061.6\\\\\n",
       "\t 5217.8 & 4879.2 & 8863.2 & 7961.8 & 4914.7 & 5048.5\\\\\n",
       "\t 5202.9 & 4864.2 & 8809.4 & 7917.8 & 4904.1 & 5035.1\\\\\n",
       "\t 5188.6 & 4849.3 & 8751.6 & 7870.1 & 4893.2 & 5021.9\\\\\n",
       "\t 5175.1 & 4834.8 & 8690.5 & 7819.1 & 4882.2 & 5009.0\\\\\n",
       "\\end{tabular}\n"
      ],
      "text/markdown": [
       "\n",
       "V1 | V2 | V3 | V4 | V5 | V6 | \n",
       "|---|---|---|---|---|---|---|---|---|---|---|---|---|---|---|---|---|---|---|---|---|---|---|---|---|---|---|---|---|---|---|---|---|---|---|---|---|---|---|---|---|---|---|---|---|---|---|---|---|---|---|---|---|---|---|---|---|---|---|---|---|\n",
       "|  8335.3 |  5420.2 | 2109.1  | 1829.0  | 4663.9  |  6507.5 | \n",
       "|  8632.5 |  5568.8 | 2149.7  | 1861.4  | 4795.7  |  6753.5 | \n",
       "|  8978.3 |  5747.2 | 2191.1  | 1894.1  | 4953.2  |  7039.1 | \n",
       "|  9365.9 |  5951.6 | 2232.7  | 1926.6  | 5133.5  |  7359.2 | \n",
       "|  9788.5 |  6178.5 | 2273.8  | 1958.3  | 5334.0  |  7708.7 | \n",
       "| 10239.0 |  6423.9 | 2313.9  | 1988.8  | 5551.3  |  8081.9 | \n",
       "| 10709.0 |  6683.5 | 2352.6  | 2017.8  | 5781.9  |  8472.7 | \n",
       "| 11193.0 |  6953.6 | 2389.5  | 2045.1  | 6022.4  |  8875.3 | \n",
       "| 11683.0 |  7230.3 | 2424.4  | 2070.5  | 6269.4  |  9283.8 | \n",
       "| 12173.0 |  7510.0 | 2457.3  | 2094.0  | 6519.4  |  9692.7 | \n",
       "| 12658.0 |  7789.3 | 2488.0  | 2115.6  | 6769.1  | 10097.0 | \n",
       "| 13134.0 |  8065.3 | 2516.6  | 2135.4  | 7015.4  | 10491.0 | \n",
       "| 13595.0 |  8335.3 | 2543.2  | 2153.5  | 7255.6  | 10871.0 | \n",
       "| 14038.0 |  8597.1 | 2567.7  | 2169.9  | 7487.0  | 11234.0 | \n",
       "| 14461.0 |  8849.0 | 2590.2  | 2184.9  | 7707.8  | 11576.0 | \n",
       "| 14863.0 |  9089.7 | 2611.0  | 2198.6  | 7916.0  | 11896.0 | \n",
       "| 15242.0 |  9318.5 | 2629.9  | 2211.1  | 8110.4  | 12191.0 | \n",
       "| 15599.0 |  9534.7 | 2647.2  | 2222.6  | 8290.0  | 12462.0 | \n",
       "| 15932.0 |  9738.4 | 2662.8  | 2233.1  | 8454.5  | 12708.0 | \n",
       "| 16245.0 |  9929.9 | 2676.7  | 2242.8  | 8603.8  | 12929.0 | \n",
       "| 16537.0 | 10110.0 | 2689.0  | 2251.7  | 8738.1  | 13127.0 | \n",
       "| 16810.0 | 10278.0 | 2699.7  | 2260.0  | 8857.9  | 13303.0 | \n",
       "| 17066.0 | 10437.0 | 2708.7  | 2267.5  | 8963.9  | 13458.0 | \n",
       "| 17307.0 | 10586.0 | 2716.0  | 2274.5  | 9057.2  | 13595.0 | \n",
       "| 17533.0 | 10727.0 | 2721.6  | 2280.8  | 9139.0  | 13716.0 | \n",
       "| 17747.0 | 10860.0 | 2725.4  | 2286.4  | 9210.3  | 13822.0 | \n",
       "| 17949.0 | 10986.0 | 2727.4  | 2291.4  | 9272.2  | 13916.0 | \n",
       "| 18140.0 | 11105.0 | 2727.7  | 2295.7  | 9325.9  | 13999.0 | \n",
       "| 18320.0 | 11218.0 | 2726.3  | 2299.4  | 9372.5  | 14072.0 | \n",
       "| 18490.0 | 11325.0 | 2723.1  | 2302.3  | 9412.7  | 14137.0 | \n",
       "| ... | ... | ... | ... | ... | ... | \n",
       "| 5428.5 | 5020.9 | 8316.0 | 7578.5 | 4653.5 | 4825.9 | \n",
       "| 5398.8 | 4996.1 | 8330.5 | 7581.2 | 4650.8 | 4826.3 | \n",
       "| 5372.9 | 4974.7 | 8353.0 | 7590.8 | 4652.0 | 4830.3 | \n",
       "| 5351.0 | 4957.2 | 8383.2 | 7607.0 | 4657.2 | 4838.1 | \n",
       "| 5333.3 | 4943.6 | 8420.6 | 7629.5 | 4666.4 | 4849.4 | \n",
       "| 5319.7 | 4933.9 | 8464.4 | 7657.9 | 4679.2 | 4864.1 | \n",
       "| 5310.1 | 4928.0 | 8513.7 | 7691.3 | 4695.3 | 4881.7 | \n",
       "| 5304.0 | 4925.4 | 8567.4 | 7729.0 | 4714.4 | 4901.8 | \n",
       "| 5301.0 | 4925.9 | 8624.0 | 7769.9 | 4735.8 | 4923.7 | \n",
       "| 5300.6 | 4928.8 | 8682.5 | 7813.0 | 4758.9 | 4946.9 | \n",
       "| 5302.2 | 4933.6 | 8741.1 | 7857.1 | 4783.1 | 4970.6 | \n",
       "| 5305.1 | 4939.5 | 8798.5 | 7901.1 | 4807.7 | 4994.1 | \n",
       "| 5308.6 | 4945.9 | 8853.3 | 7943.7 | 4831.9 | 5016.8 | \n",
       "| 5312.1 | 4952.3 | 8904.0 | 7983.7 | 4855.1 | 5037.9 | \n",
       "| 5315.0 | 4957.9 | 8949.3 | 8020.0 | 4876.6 | 5056.9 | \n",
       "| 5316.7 | 4962.2 | 8988.0 | 8051.5 | 4895.9 | 5073.2 | \n",
       "| 5316.9 | 4964.8 | 9019.2 | 8077.5 | 4912.5 | 5086.5 | \n",
       "| 5315.2 | 4965.4 | 9042.1 | 8097.1 | 4926.1 | 5096.3 | \n",
       "| 5311.4 | 4963.7 | 9056.1 | 8109.8 | 4936.4 | 5102.6 | \n",
       "| 5305.4 | 4959.7 | 9061.1 | 8115.3 | 4943.4 | 5105.3 | \n",
       "| 5297.4 | 4953.4 | 9057.0 | 8113.5 | 4947.1 | 5104.7 | \n",
       "| 5287.3 | 4944.8 | 9043.9 | 8104.5 | 4947.5 | 5100.8 | \n",
       "| 5275.4 | 4934.3 | 9022.2 | 8088.2 | 4945.1 | 5094.0 | \n",
       "| 5262.1 | 4922.1 | 8992.5 | 8065.3 | 4940.2 | 5084.9 | \n",
       "| 5247.8 | 4908.6 | 8955.6 | 8036.2 | 4933.2 | 5073.9 | \n",
       "| 5232.9 | 4894.2 | 8912.2 | 8001.5 | 4924.5 | 5061.6 | \n",
       "| 5217.8 | 4879.2 | 8863.2 | 7961.8 | 4914.7 | 5048.5 | \n",
       "| 5202.9 | 4864.2 | 8809.4 | 7917.8 | 4904.1 | 5035.1 | \n",
       "| 5188.6 | 4849.3 | 8751.6 | 7870.1 | 4893.2 | 5021.9 | \n",
       "| 5175.1 | 4834.8 | 8690.5 | 7819.1 | 4882.2 | 5009.0 | \n",
       "\n",
       "\n"
      ],
      "text/plain": [
       "      V1      V2      V3     V4     V5     V6     \n",
       " [1,]  8335.3  5420.2 2109.1 1829.0 4663.9  6507.5\n",
       " [2,]  8632.5  5568.8 2149.7 1861.4 4795.7  6753.5\n",
       " [3,]  8978.3  5747.2 2191.1 1894.1 4953.2  7039.1\n",
       " [4,]  9365.9  5951.6 2232.7 1926.6 5133.5  7359.2\n",
       " [5,]  9788.5  6178.5 2273.8 1958.3 5334.0  7708.7\n",
       " [6,] 10239.0  6423.9 2313.9 1988.8 5551.3  8081.9\n",
       " [7,] 10709.0  6683.5 2352.6 2017.8 5781.9  8472.7\n",
       " [8,] 11193.0  6953.6 2389.5 2045.1 6022.4  8875.3\n",
       " [9,] 11683.0  7230.3 2424.4 2070.5 6269.4  9283.8\n",
       "[10,] 12173.0  7510.0 2457.3 2094.0 6519.4  9692.7\n",
       "[11,] 12658.0  7789.3 2488.0 2115.6 6769.1 10097.0\n",
       "[12,] 13134.0  8065.3 2516.6 2135.4 7015.4 10491.0\n",
       "[13,] 13595.0  8335.3 2543.2 2153.5 7255.6 10871.0\n",
       "[14,] 14038.0  8597.1 2567.7 2169.9 7487.0 11234.0\n",
       "[15,] 14461.0  8849.0 2590.2 2184.9 7707.8 11576.0\n",
       "[16,] 14863.0  9089.7 2611.0 2198.6 7916.0 11896.0\n",
       "[17,] 15242.0  9318.5 2629.9 2211.1 8110.4 12191.0\n",
       "[18,] 15599.0  9534.7 2647.2 2222.6 8290.0 12462.0\n",
       "[19,] 15932.0  9738.4 2662.8 2233.1 8454.5 12708.0\n",
       "[20,] 16245.0  9929.9 2676.7 2242.8 8603.8 12929.0\n",
       "[21,] 16537.0 10110.0 2689.0 2251.7 8738.1 13127.0\n",
       "[22,] 16810.0 10278.0 2699.7 2260.0 8857.9 13303.0\n",
       "[23,] 17066.0 10437.0 2708.7 2267.5 8963.9 13458.0\n",
       "[24,] 17307.0 10586.0 2716.0 2274.5 9057.2 13595.0\n",
       "[25,] 17533.0 10727.0 2721.6 2280.8 9139.0 13716.0\n",
       "[26,] 17747.0 10860.0 2725.4 2286.4 9210.3 13822.0\n",
       "[27,] 17949.0 10986.0 2727.4 2291.4 9272.2 13916.0\n",
       "[28,] 18140.0 11105.0 2727.7 2295.7 9325.9 13999.0\n",
       "[29,] 18320.0 11218.0 2726.3 2299.4 9372.5 14072.0\n",
       "[30,] 18490.0 11325.0 2723.1 2302.3 9412.7 14137.0\n",
       "[31,] ...     ...     ...    ...    ...    ...    \n",
       "[32,] 5428.5  5020.9  8316.0 7578.5 4653.5 4825.9 \n",
       "[33,] 5398.8  4996.1  8330.5 7581.2 4650.8 4826.3 \n",
       "[34,] 5372.9  4974.7  8353.0 7590.8 4652.0 4830.3 \n",
       "[35,] 5351.0  4957.2  8383.2 7607.0 4657.2 4838.1 \n",
       "[36,] 5333.3  4943.6  8420.6 7629.5 4666.4 4849.4 \n",
       "[37,] 5319.7  4933.9  8464.4 7657.9 4679.2 4864.1 \n",
       "[38,] 5310.1  4928.0  8513.7 7691.3 4695.3 4881.7 \n",
       "[39,] 5304.0  4925.4  8567.4 7729.0 4714.4 4901.8 \n",
       "[40,] 5301.0  4925.9  8624.0 7769.9 4735.8 4923.7 \n",
       "[41,] 5300.6  4928.8  8682.5 7813.0 4758.9 4946.9 \n",
       "[42,] 5302.2  4933.6  8741.1 7857.1 4783.1 4970.6 \n",
       "[43,] 5305.1  4939.5  8798.5 7901.1 4807.7 4994.1 \n",
       "[44,] 5308.6  4945.9  8853.3 7943.7 4831.9 5016.8 \n",
       "[45,] 5312.1  4952.3  8904.0 7983.7 4855.1 5037.9 \n",
       "[46,] 5315.0  4957.9  8949.3 8020.0 4876.6 5056.9 \n",
       "[47,] 5316.7  4962.2  8988.0 8051.5 4895.9 5073.2 \n",
       "[48,] 5316.9  4964.8  9019.2 8077.5 4912.5 5086.5 \n",
       "[49,] 5315.2  4965.4  9042.1 8097.1 4926.1 5096.3 \n",
       "[50,] 5311.4  4963.7  9056.1 8109.8 4936.4 5102.6 \n",
       "[51,] 5305.4  4959.7  9061.1 8115.3 4943.4 5105.3 \n",
       "[52,] 5297.4  4953.4  9057.0 8113.5 4947.1 5104.7 \n",
       "[53,] 5287.3  4944.8  9043.9 8104.5 4947.5 5100.8 \n",
       "[54,] 5275.4  4934.3  9022.2 8088.2 4945.1 5094.0 \n",
       "[55,] 5262.1  4922.1  8992.5 8065.3 4940.2 5084.9 \n",
       "[56,] 5247.8  4908.6  8955.6 8036.2 4933.2 5073.9 \n",
       "[57,] 5232.9  4894.2  8912.2 8001.5 4924.5 5061.6 \n",
       "[58,] 5217.8  4879.2  8863.2 7961.8 4914.7 5048.5 \n",
       "[59,] 5202.9  4864.2  8809.4 7917.8 4904.1 5035.1 \n",
       "[60,] 5188.6  4849.3  8751.6 7870.1 4893.2 5021.9 \n",
       "[61,] 5175.1  4834.8  8690.5 7819.1 4882.2 5009.0 "
      ]
     },
     "metadata": {},
     "output_type": "display_data"
    }
   ],
   "source": []
  },
  {
   "cell_type": "code",
   "execution_count": 116,
   "metadata": {},
   "outputs": [],
   "source": [
    "test <- read.table('D:\\\\wataru\\\\Recording_Analysis\\\\Bases_dmPFC-BLA\\\\2017-12-19_vm81a_base\\\\myFile.txt', sep = \",\")"
   ]
  },
  {
   "cell_type": "code",
   "execution_count": null,
   "metadata": {},
   "outputs": [],
   "source": [
    "data (sales)  # parts of Example 11.2.2 from Brockwell and Davies (1991).\n",
    "sal <- diff (sales)\n",
    "led <- diff(lead)\n",
    "ccf (led, sal, lag = 20, ylim = range(-1,1), type=\"o\")"
   ]
  },
  {
   "cell_type": "code",
   "execution_count": null,
   "metadata": {},
   "outputs": [],
   "source": [
    "set.seed(123)\n",
    "x = arima.sim(model=list(0.2, 0, 0.5), n = 100)\n",
    "y = arima.sim(model=list(0.4, 0, 0.4), n = 100)\n",
    "ccf(x, y, type=\"correlation\")"
   ]
  },
  {
   "cell_type": "code",
   "execution_count": null,
   "metadata": {},
   "outputs": [],
   "source": [
    "readClipboard()"
   ]
  },
  {
   "cell_type": "code",
   "execution_count": null,
   "metadata": {},
   "outputs": [],
   "source": [
    "# setwd(\"D:/wataru/Recording_Analysis/Bases_dmPFC-BLA\")\n",
    "# theta <- scan('test.txt')\n",
    "# plot(theta)\n",
    "\n",
    "theta <- scan('D:\\\\wataru\\\\Recording_Analysis\\\\Bases_dmPFC-BLA\\\\2017-12-19_vm81a_base\\\\test.txt')\n",
    "plot(theta)"
   ]
  },
  {
   "cell_type": "markdown",
   "metadata": {},
   "source": [
    "---\n",
    "# Data Types\n",
    "https://www.statmethods.net/input/datatypes.html"
   ]
  },
  {
   "cell_type": "code",
   "execution_count": 6,
   "metadata": {},
   "outputs": [
    {
     "data": {
      "text/html": [
       "6"
      ],
      "text/latex": [
       "6"
      ],
      "text/markdown": [
       "6"
      ],
      "text/plain": [
       "[1] 6"
      ]
     },
     "metadata": {},
     "output_type": "display_data"
    },
    {
     "data": {
      "text/html": [
       "<ol class=list-inline>\n",
       "\t<li>2</li>\n",
       "\t<li>6</li>\n",
       "</ol>\n"
      ],
      "text/latex": [
       "\\begin{enumerate*}\n",
       "\\item 2\n",
       "\\item 6\n",
       "\\end{enumerate*}\n"
      ],
      "text/markdown": [
       "1. 2\n",
       "2. 6\n",
       "\n",
       "\n"
      ],
      "text/plain": [
       "[1] 2 6"
      ]
     },
     "metadata": {},
     "output_type": "display_data"
    },
    {
     "ename": "ERROR",
     "evalue": "Error in eval(expr, envir, enclos): object 'x' not found\n",
     "output_type": "error",
     "traceback": [
      "Error in eval(expr, envir, enclos): object 'x' not found\nTraceback:\n"
     ]
    }
   ],
   "source": [
    "######################################################\n",
    "# vectors\n",
    "a <- c(1,2,5.3,6,-2,4) # numeric vector\n",
    "b <- c(\"one\",\"two\",\"three\") # character vector\n",
    "c <- c(TRUE,TRUE,TRUE,FALSE,TRUE,FALSE) #logical vector\n",
    "\n",
    "# Identify rows, columns or elements using subscripts.\n",
    "a[4]\n",
    "a[c(2,4)]\n",
    "\n",
    "######################################################\n",
    "# matrix\n",
    "# generates 5 x 4 numeric matrix \n",
    "y<-matrix(1:20, nrow=5,ncol=4)\n",
    "# another example\n",
    "cells <- c(1,26,24,68)\n",
    "rnames <- c(\"R1\", \"R2\")\n",
    "cnames <- c(\"C1\", \"C2\") \n",
    "mymatrix <- matrix(cells, nrow=2, ncol=2, byrow=TRUE,\n",
    "  dimnames=list(rnames, cnames))\n",
    "\n",
    "# Identify rows, columns or elements using subscripts.\n",
    "x[,4] # 4th column of matrix\n",
    "x[3,] # 3rd row of matrix \n",
    "x[2:4,1:3] # rows 2,3,4 of columns 1,2,3\n",
    "\n",
    "######################################################\n",
    "# Data Frames\n",
    "# A data frame is more general than a matrix, in that different columns can have different\n",
    "# modes (numeric, character, factor, etc.). This is similar to SAS and SPSS datasets.\n",
    "\n",
    "d <- c(1,2,3,4)\n",
    "e <- c(\"red\", \"white\", \"red\", NA)\n",
    "f <- c(TRUE,TRUE,TRUE,FALSE)\n",
    "mydata <- data.frame(d,e,f)\n",
    "names(mydata) <- c(\"ID\",\"Color\",\"Passed\") # variable names\n",
    "\n",
    "# Identify rows, columns or elements using subscripts.\n",
    "mydata[2:3] # columns 3,4,5 of data frame\n",
    "mydata[c(\"ID\",\"Passed\")] # columns ID and Age from data frame\n",
    "mydata$Color # variable x1 in the data frame\n",
    "mydata[1,3]\n",
    "\n",
    "######################################################\n",
    "# The ls() function returns a vector listing lists all the objects (vectors, data frames, etc) in your current workspace.\n",
    "ls()\n",
    "\n",
    "# Remove these three objects\n",
    "rm(\"first_name\", \"last_name\", \"new_df\")\n",
    " \n",
    "# Or remove objects listed in a vector\n",
    "rm(list = c(\"first_name\", \"last_name\", \"new_df\"))\n",
    " \n",
    "# Or remove all files from your workspace\n",
    "rm(list = ls())\n",
    " \n",
    "# Or remove vectors programmatically.  Delete objects with underscore in name\n",
    "rm(list = ls()[grepl(\"_\", ls())])\n",
    "\n",
    "######################################################\n",
    "# Lists\n",
    "# An ordered collection of objects (components). A list allows you to gather a variety of \n",
    "# (possibly unrelated) objects under one name.\n",
    "# example of a list with 4 components - \n",
    "# a string, a numeric vector, a matrix, and a scaler \n",
    "\n",
    "w <- list(name=\"Fred\", mynumbers=a, mymatrix=y, age=5.3)\n",
    "\n",
    "# example of a list containing two lists\n",
    "# It looks concatenate the two lists\n",
    "v <- c(w,w)\n",
    "\n",
    "# Identify elements of a list using the [[]] convention.\n",
    "mylist[[2]] # 2nd component of the list\n",
    "mylist[[\"mynumbers\"]] # component named mynumbers in list\n",
    "\n",
    "\n",
    "\n",
    "######################################################\n",
    "# Factors\n",
    "# Tell R that a variable is nominal by making it a factor. The factor stores the nominal\n",
    "# values as a vector of integers in the range [ 1... k ] (where k is the number of unique \n",
    "# values in the nominal variable), and an internal vector of character strings (the original \n",
    "# values) mapped to these integers.\n",
    "\n",
    "# variable gender with 20 \"male\" entries and \n",
    "# 30 \"female\" entries \n",
    "gender <- c(rep(\"male\",20), rep(\"female\", 30)) \n",
    "gender <- factor(gender) \n",
    "# stores gender as 20 1s and 30 2s and associates\n",
    "# 1=female, 2=male internally (alphabetically)\n",
    "# R now treats gender as a nominal variable \n",
    "summary(gender)\n"
   ]
  },
  {
   "cell_type": "markdown",
   "metadata": {},
   "source": [
    "# Reading file\n",
    "\n",
    "test2.csv\n",
    "```\n",
    " prgtype gender  id ses schtyp level\n",
    " general      0  70   4      1     1\n",
    "  vocati      1 121   4      2     1\n",
    " general      0  86   4      3     1\n",
    "  vocati      0 141   4      3     1\n",
    "academic      0 172   4      2     1\n",
    "academic      0 113   4      2     1\n",
    " general      0  50   3      2     1\n",
    "academic      0  11   1      2     1\n",
    "```\n",
    "\n"
   ]
  }
 ],
 "metadata": {
  "kernelspec": {
   "display_name": "R",
   "language": "R",
   "name": "ir"
  },
  "language_info": {
   "codemirror_mode": "r",
   "file_extension": ".r",
   "mimetype": "text/x-r-source",
   "name": "R",
   "pygments_lexer": "r",
   "version": "3.6.2"
  }
 },
 "nbformat": 4,
 "nbformat_minor": 4
}
