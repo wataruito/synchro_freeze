{
 "cells": [
  {
   "cell_type": "code",
   "execution_count": 61,
   "metadata": {},
   "outputs": [],
   "source": [
    "###############################################################################\n",
    "def read_csv_add_video(filename,wFilename):\n",
    "    # Read original csv file of start and stop of each freezing epoch, and add video: attribute\n",
    "    \n",
    "    import csv     # importing csv module \n",
    "\n",
    "    # reading csv file\n",
    "    rows = [] \n",
    "    with open(filename, 'r') as csvfile: \n",
    "        # creating a csv reader object \n",
    "        csvreader = csv.reader(csvfile) \n",
    "\n",
    "        # extracting each data row one by one \n",
    "        for row in csvreader: \n",
    "            rows.append(row) \n",
    "            \n",
    "    # writing csv file\n",
    "    with open(wFilename, mode='w', newline='') as output_csvfile:\n",
    "        out_csv = csv.writer(output_csvfile, delimiter=',', quotechar='\"', quoting=csv.QUOTE_MINIMAL)\n",
    "\n",
    "        videoF = True\n",
    "        for row in range(len(rows)):\n",
    "            if rows[row][0] == 'comment:' and videoF:\n",
    "                out_csv.writerow(['video:','FreezeFrame'])\n",
    "                #out_csv.writerow(['video:','PCBox'])\n",
    "                videoF = False\n",
    "            out_csv.writerow(rows[row])\n",
    "\n",
    "###############################################################################\n",
    "def run_add_video(path):\n",
    "    import os\n",
    "\n",
    "    # path = r\"W:\\videos_synchrony\\20190801_opioid_test_morning\"\n",
    "\n",
    "    for file in os.listdir(path):\n",
    "        base = os.path.splitext(file)[0]\n",
    "        write_base = \"_\" + base\n",
    "        extn = os.path.splitext(file)[1]\n",
    "\n",
    "        if extn == '.csv' and base[0] !='_':\n",
    "            filename = os.path.join(path,file)\n",
    "            wFilename = os.path.join(path,write_base + extn)\n",
    "            # print(filename, wFilename)\n",
    "            read_csv_add_video(filename,filename)\n",
    "            \n",
    "###############################################################################\n",
    "path = r\"W:\\videos_synchrony\\20200905\"\n",
    "run_add_video(path)\n",
    "\n",
    "\n",
    "\n",
    "\n"
   ]
  }
 ],
 "metadata": {
  "kernelspec": {
   "display_name": "Python 3",
   "language": "python",
   "name": "python3"
  },
  "language_info": {
   "codemirror_mode": {
    "name": "ipython",
    "version": 3
   },
   "file_extension": ".py",
   "mimetype": "text/x-python",
   "name": "python",
   "nbconvert_exporter": "python",
   "pygments_lexer": "ipython3",
   "version": "3.7.7"
  }
 },
 "nbformat": 4,
 "nbformat_minor": 4
}
